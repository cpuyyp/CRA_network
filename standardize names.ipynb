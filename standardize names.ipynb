{
 "cells": [
  {
   "cell_type": "markdown",
   "metadata": {
    "toc": true
   },
   "source": [
    "<h1>Table of Contents<span class=\"tocSkip\"></span></h1>\n",
    "<div class=\"toc\"><ul class=\"toc-item\"></ul></div>"
   ]
  },
  {
   "cell_type": "code",
   "execution_count": 207,
   "metadata": {},
   "outputs": [
    {
     "name": "stdout",
     "output_type": "stream",
     "text": [
      "The autoreload extension is already loaded. To reload it, use:\n",
      "  %reload_ext autoreload\n"
     ]
    }
   ],
   "source": [
    "%load_ext autoreload\n",
    "%autoreload 2"
   ]
  },
  {
   "cell_type": "code",
   "execution_count": 208,
   "metadata": {
    "scrolled": true,
    "tags": []
   },
   "outputs": [],
   "source": [
    "import numpy as np\n",
    "# import networkx as nx\n",
    "import matplotlib.pyplot as plt\n",
    "import pandas as pd\n",
    "from collections import defaultdict\n",
    "import regex as rex\n",
    "import standardize_library as standlib\n",
    "from standardize_library import StandardizeNames\n",
    "from unidecode import unidecode\n",
    "import copy\n",
    "\n",
    "import name_matching_lib as nmlib\n",
    "import time\n",
    "# from sklearn.feature_extraction.text import TfidfVectorizer\n",
    "# from scipy.sparse import csr_matrix\n",
    "# import sparse_dot_topn.sparse_dot_topn as ct  #Cosine Similarity\n",
    "\n",
    "# from function_library import *\n",
    "# from function_library2 import *"
   ]
  },
  {
   "cell_type": "code",
   "execution_count": 209,
   "metadata": {},
   "outputs": [],
   "source": [
    "pd.set_option(\"display.max_rows\", 999)"
   ]
  },
  {
   "cell_type": "code",
   "execution_count": 210,
   "metadata": {},
   "outputs": [
    {
     "name": "stdout",
     "output_type": "stream",
     "text": [
      "71143\n"
     ]
    }
   ],
   "source": [
    "# either the sender or the recipient\n",
    "# df = pd.read_csv('new_clean_output.csv',index_col = 0)\n",
    "df = pd.read_csv('output_0211.csv')\n",
    "\n",
    "# df = df.drop_duplicates(keep='first',subset=['Sent'])\n",
    "# df = df.reset_index(drop=True)\n",
    "\n",
    "from_list = df['From'].values.tolist()\n",
    "to_list = df['To'].values.tolist()\n",
    "cc_list = df['CC'].values.tolist()\n",
    "print(len(from_list))"
   ]
  },
  {
   "cell_type": "code",
   "execution_count": 21,
   "metadata": {},
   "outputs": [],
   "source": [
    "name = \"Elyea, Janice, Lisenby, Katherine\""
   ]
  },
  {
   "cell_type": "code",
   "execution_count": 22,
   "metadata": {},
   "outputs": [
    {
     "name": "stdout",
     "output_type": "stream",
     "text": [
      "==>   Elyea, Janice, Lisenby, Katherine, Baldwin, Angela, Lowe, Terry, 'Paige Carter-Smith', Worrell, Don, Carter-Smith, Janice, Goad, Reese\n",
      "==>   Elyea, Janice, Lisenby, Katherine\n",
      "==>   Elyea, Janice, Lisenby, Katherine\n",
      "==>   Elyea, Janice, Lisenby, Katherine\n",
      "==>   Elyea, Janice, Lisenby, Katherine, Baldwin, Angela, Lowe, Terry, 'Paige Carter-Smith', Worrell, Don, Carter-Smith, Janice, Goad, Reese\n",
      "==>   Elyea, Janice, Lisenby, Katherine\n"
     ]
    }
   ],
   "source": [
    "for el in cc_list:\n",
    "    if pd.isnull(el): continue\n",
    "    if rex.match(r'.?Elyea, Janice, Lisenby, Katherine', el):\n",
    "        print(\"==> \", el)"
   ]
  },
  {
   "cell_type": "code",
   "execution_count": 23,
   "metadata": {
    "tags": []
   },
   "outputs": [],
   "source": [
    "cc_list;"
   ]
  },
  {
   "cell_type": "code",
   "execution_count": 366,
   "metadata": {
    "tags": []
   },
   "outputs": [],
   "source": [
    "# New class that collects all useful routines\n",
    "sz = 1000\n",
    "# sz = None\n",
    "# stand = StandardizeNames(from_list[:sz], to_list[:sz], cc_list[:sz])\n",
    "stand = StandardizeNames(from_list[:], to_list[:], cc_list[:])\n",
    "stand.process()\n",
    "#stand.print_data(5, max_length=100)"
   ]
  },
  {
   "cell_type": "markdown",
   "metadata": {},
   "source": []
  },
  {
   "cell_type": "code",
   "execution_count": 367,
   "metadata": {},
   "outputs": [
    {
     "data": {
      "text/plain": [
       "(2008, 9048)"
      ]
     },
     "execution_count": 367,
     "metadata": {},
     "output_type": "execute_result"
    }
   ],
   "source": [
    "stand.clean_names_without_emails;\n",
    "len(stand.clean_names_with_emails), len(stand.clean_names_without_emails)\n",
    "# len(stand.name_to_emails), len(stand.email_to_names)"
   ]
  },
  {
   "cell_type": "code",
   "execution_count": 391,
   "metadata": {},
   "outputs": [],
   "source": [
    "my_list = stand.clean_names_with_emails + stand.clean_names_without_emails\n",
    "matches_df = nmlib.name_matches(my_list, cs_thresh=0.7, ngram=2)"
   ]
  },
  {
   "cell_type": "code",
   "execution_count": 392,
   "metadata": {},
   "outputs": [
    {
     "data": {
      "text/plain": [
       "(31, 3)"
      ]
     },
     "execution_count": 392,
     "metadata": {},
     "output_type": "execute_result"
    }
   ],
   "source": [
    "matches_df.shape"
   ]
  },
  {
   "cell_type": "code",
   "execution_count": 393,
   "metadata": {},
   "outputs": [],
   "source": [
    "matches_df;"
   ]
  },
  {
   "cell_type": "code",
   "execution_count": 394,
   "metadata": {
    "tags": []
   },
   "outputs": [
    {
     "name": "stdout",
     "output_type": "stream",
     "text": [
      "no mail/mail:    northjonesallison,     allisonnorthjones,           0.85\n",
      "no mail/mail:          tantallison,           allisontant,           0.85\n",
      "no mail/mail:          adamgoodsen,           adamgoodson,           0.83\n",
      "no mail/mail:    allenthompsoncell,         allenthompson,           0.83\n",
      "no mail/mail:          allisonscor,          allisonscott,           0.82\n",
      "no mail/mail:   allmailboxesbewell,          allmailboxes,           0.81\n",
      "no mail/mail: allisonbehrmanthompson,        allisonbehrman,           0.81\n",
      "no mail/mail:          idathompson,        amandathompson,           0.80\n",
      "no mail/mail:        thompsonallen,         allenthompson,           0.80\n",
      "no mail/mail: allisonbehrmancappel,        allisonbehrman,           0.79\n",
      "no mail/mail:              ataylor,           alanataylor,           0.78\n",
      "no mail/mail:             adamcory,             adamcorey,           0.78\n",
      "no mail/mail:    alexmedinabarnack,            alexmedina,           0.77\n",
      "no mail/mail:          jananderson,              anderson,           0.76\n",
      "no mail/mail:         billanderson,              anderson,           0.76\n",
      "no mail/mail:          jimanderson,              anderson,           0.76\n",
      "no mail/mail:          paulajsmith,               ajsmith,           0.74\n",
      "no mail/mail:         juanwilliams,          alanwilliams,           0.73\n",
      "no mail/mail:         bresanderson,              anderson,           0.71\n",
      "no mail/mail:          teaseamanda,           amandatease,           0.70\n",
      "no mail/mail:         mattanderson,              anderson,           0.70\n"
     ]
    }
   ],
   "source": [
    "left = matches_df['left_side'].values\n",
    "right = matches_df['right_side'].values\n",
    "simil = matches_df['similarity'].values\n",
    "mails = set(stand.clean_names_with_emails)\n",
    "nomails = set(stand.clean_names_without_emails)\n",
    "for l,r,s in zip(left, right, simil):\n",
    "    if l in nomails and r in mails: \n",
    "        print(f\"no mail/mail: %20s,  %20s, %14.2f\" % (l, r, s))\n",
    "    elif r in nomails and l in mails:\n",
    "        print(f\"no mail/mail: %20s,  %20s, %14.2f\" % (r, l, s))"
   ]
  },
  {
   "cell_type": "code",
   "execution_count": 395,
   "metadata": {},
   "outputs": [
    {
     "data": {
      "text/plain": [
       "{' Anderson Jr., Fred',\n",
       " ' Anderson Jr., Fred <Fred.Anderson@talgov.com>',\n",
       " 'Anderson Jr., Fred'}"
      ]
     },
     "execution_count": 395,
     "metadata": {},
     "output_type": "execute_result"
    }
   ],
   "source": [
    "nms['anderson']"
   ]
  },
  {
   "cell_type": "code",
   "execution_count": 383,
   "metadata": {},
   "outputs": [
    {
     "name": "stdout",
     "output_type": "stream",
     "text": [
      "--- init name:  5Gary Yordon (gary@govinc net\n",
      "  after remove_honorifics:  5Gary Yordon (gary@govinc net\n",
      "  after remove_domains:  5Gary Yordon (gary@govinc net\n",
      "  after remove_domains:  5Gary Yordon (gary@govinc net\n",
      "  after remove_front:  5Gary Yordon (gary@govinc net\n",
      "  after remove_non_w:  5Gary Yordon (gary@govinc net\n",
      "  after remove digits:  Gary Yordon (gary@govinc net\n",
      "  after remove_multi_spaces:  Gary Yordon (gary@govinc net\n"
     ]
    },
    {
     "data": {
      "text/plain": [
       "'gary yordon (gary@govinc net'"
      ]
     },
     "execution_count": 383,
     "metadata": {},
     "output_type": "execute_result"
    }
   ],
   "source": [
    "standlib.clean_name_better('5Gary Yordon (gary@govinc net')"
   ]
  },
  {
   "cell_type": "code",
   "execution_count": 387,
   "metadata": {},
   "outputs": [],
   "source": [
    "# Scan all the names \n",
    "stand.clean_to_unclean_names()\n",
    "lst = list(stand.clean_to_unclean.items())\n",
    "lst.sort(key=lambda x: x[0])"
   ]
  },
  {
   "cell_type": "code",
   "execution_count": 388,
   "metadata": {},
   "outputs": [
    {
     "data": {
      "text/plain": [
       "{\" 'Alana Taylor'\",\n",
       " ' Alana Taylor',\n",
       " 'Alana Taylor',\n",
       " 'Alana Taylor <ataylor@think3d.net',\n",
       " 'Alana Taylor <ataylor@think3d.net>, Stefanie Kiedrowski <skiedrow@gmail.com>, Paige CarterSmith <paigecartersmith@gmail.com',\n",
       " 'Alana Taylor [mailto:ATaylor@think3d.net]'}"
      ]
     },
     "execution_count": 388,
     "metadata": {},
     "output_type": "execute_result"
    }
   ],
   "source": [
    "nms = stand.clean_to_unclean\n",
    "nms['alanataylor']"
   ]
  },
  {
   "cell_type": "code",
   "execution_count": 390,
   "metadata": {
    "tags": []
   },
   "outputs": [
    {
     "data": {
      "text/plain": [
       "{\" 'Gary Yordon'\",\n",
       " \" 'Gary Yordon', 'Rick Oppenheim'\",\n",
       " \" 'Gary Yordon', Chuck Mitchell\",\n",
       " \" 'Gary Yordon', Gmax1 (gmax1@comcast.net)\",\n",
       " \" 'Gary Yordon', Wes Townson\",\n",
       " \" 'gary yordon'\",\n",
       " ' 5Gary Yordon',\n",
       " ' 5Gary Yordon (gary@govinc net)',\n",
       " ' 5Gary Yordon (gary@govinc.net)',\n",
       " ' 5Gary Yordon(gary@govinc.net)',\n",
       " ' <Gary Yordon',\n",
       " ' Gary Yordon',\n",
       " ' Gary Yordon (gary@govinc.net)',\n",
       " ' Gary Yordon (gary@govinc.net), Erik Rowen',\n",
       " ' Gary Yordon (gary@govinc.net), Gary Yordon(gbyordon@gmail.com)',\n",
       " ' Gary Yordon (gary@zprgroup.com)',\n",
       " ' Gary Yordon (gbyordon@gmail.com)',\n",
       " ' Gary Yordon (gbyordon@gmail.com) Monday, February 12, 2018 at 4:57:45 PM Eastern Standard Time',\n",
       " ' Gary Yordon <gary@govinc.net',\n",
       " ' Gary Yordon <gary@zprgroup.com',\n",
       " ' Gary Yordon(gary@govinc.net)',\n",
       " ' Gary Yordon(gbyordon@gmail.com)',\n",
       " ' GaryYordon',\n",
       " ' Yordon, Gary',\n",
       " ' gary yordon',\n",
       " ' yordon, gary',\n",
       " \"'Gary Yordon'\",\n",
       " \"'Gary Yordon' <gary@zprgroup.com\",\n",
       " \"'gary yordon'\",\n",
       " '5Gary Yordon (gary@govinc.net)',\n",
       " 'Gary Yordon',\n",
       " 'Gary Yordon (gary@govinc.net)',\n",
       " 'Gary Yordon (gbyordon@gmail.com)',\n",
       " 'Gary Yordon <ga1y_@ govinc.net',\n",
       " 'Gary Yordon <gary@govinc.net',\n",
       " 'Gary Yordon <gary@zprgroup.com',\n",
       " 'Gary Yordon <gary@zprgroup.com Monday, February 12, 2018 at 6:58:57 PM Eastern Standard Time',\n",
       " 'Gary Yordon <gary@zprgroup.com>',\n",
       " 'Gary Yordon [gary@govinc.net]',\n",
       " 'Gary Yordon [gary@zprgroup.com] Received: Monday, 08 Aug 2016, 8:00PM',\n",
       " 'Gary Yordon [mailto:gary@govinc net]',\n",
       " 'Gary Yordon [mailto:gary@govinc.net<http://govinc.net>]',\n",
       " 'Gary Yordon [mailto:gary@govinc.net]',\n",
       " 'Gary Yordon [mailto:gary@zprgroup.com]',\n",
       " 'Gary Yordon [mailto:gary@zprgroup.com] Monday, February 12, 2018 at 4:55:41 PM Eastern Standard Time',\n",
       " 'Gary Yordon [mailto:gbyordon@gmail.com]',\n",
       " 'Gary\\xa0Yordon\\xa0<gary@govinc.net',\n",
       " 'gary Yordon',\n",
       " 'gary yordon',\n",
       " 'gary yordon [mailto:gary@zprgroup.com]',\n",
       " 'gary yordon [mailto:noreply@insideicloud.icloud.com]'}"
      ]
     },
     "execution_count": 390,
     "metadata": {},
     "output_type": "execute_result"
    }
   ],
   "source": [
    "nms['garyyordon']\n",
    "# standlib.clean_name_better(' 5Gary Yordon')"
   ]
  },
  {
   "cell_type": "code",
   "execution_count": 318,
   "metadata": {},
   "outputs": [
    {
     "data": {
      "text/plain": [
       "{' Tease, Amanda',\n",
       " ' Tease, Amanda <Amanda.Tease@talgov.com>',\n",
       " '\"Tease, Amanda\" <Amanda.Tease@talgov.com',\n",
       " 'Tease, Amanda'}"
      ]
     },
     "execution_count": 318,
     "metadata": {},
     "output_type": "execute_result"
    }
   ],
   "source": [
    "nms['amandatease']"
   ]
  },
  {
   "cell_type": "code",
   "execution_count": 279,
   "metadata": {
    "collapsed": true,
    "jupyter": {
     "outputs_hidden": true
    },
    "tags": []
   },
   "outputs": [
    {
     "name": "stdout",
     "output_type": "stream",
     "text": [
      "_________   {' 850363 5629@v zwpix.c om[mail to:8503 635629 @vzwpi x.com]'}  \n",
      "___101restaurant corey______   {' Adam B. Corey, 101Restaurant'}  \n",
      "___12pm______   {' Invita.on: Lunch @ Wed May 31, 2017 12pm - 1:30pm (EDT) (roxanne.manning@talgov.com) Monday, May 22, 2017 at 11:06:42 AM Eastern Daylight Time paige.tallahasseedowntown@gmail.com (sent by Google Calendar <calendarno.ﬁca.on@google.com>)'}  \n",
      "___2pm______   {' Invita.on: Spring.me Parade @ Sat Apr 1, 2017 2pm - 4pm (barry.wilcox@talgov.com) Monday, March 27, 2017 at 2:16:50 PM Eastern Daylight Time paige.tallahasseedowntown@gmail.com (sent by Google Calendar <calendarno.ﬁca.on@google.com>)'}  \n",
      "___a b______   {'A B & T Derrick Miller'}  \n",
      "___a core v______   {'<a core v@ 10 lta llv.com', '<a core v?i 10 1 ta 11v.con1'}  \n",
      "___a core y______   {'<a core y?i 10 1 ta lly.com'}  \n",
      "___a daniel vazquez______   {'A. Daniel Vazquez'}  \n",
      "___a ecenia______   {' Stephen \"Steve\" A. Ecenia (steve@reuphlaw.com)'}  \n",
      "___a kocourek______   {' A Kocourek'}  \n",
      "___a mattie dunlap______   {'A 3 Mattie Dunlap'}  \n",
      "___a naff______   {' James \"Jim\" A. Naff (jnaff@smithbryanandmyers.com)', ' James \"Jim\" A. Naff(jnaff@smithbryanandmyers.com)'}  \n",
      "___a oven______   {' a oven'}  \n",
      "___a sam slusher______   {' A 3 Sam Slusher'}  \n",
      "___a snyder______   {' James \"Jim\" A. Snyder (jsnyder@publicpolicyassociates.com)', ' James\"Jim\" A. Snyder (jsnyder@publicpolicyassociates.com)'}  \n",
      "___a taylor______   {' A Taylor'}  \n",
      "___a victoria moses______   {' A 4 Victoria Moses'}  \n",
      "___aaren graves______   {' Aaren Graves'}  \n",
      "___aaron______   {' *~Luisa ~*, , , 818 Ent., Aaron, adam.belcher@e-hps.com, Adrienne.McNealy@gray.tv,'}  \n",
      "___aaron boyette______   {' Aaron Boyette'}  \n",
      "___aaron clark______   {\" 'Clark, Aaron'\"}  \n",
      "___aaron cohen______   {' Aaron Cohen'}  \n",
      "___aaron homles______   {' Aaron Homles'}  \n",
      "___aaron kinnon______   {' Aaron Kinnon', 'Aaron Kinnon', ' AaronKinnon'}  \n",
      "___aaron pike______   {' Aaron Pike <apike@bcoe.org'}  \n",
      "___aaron tovish______   {' Aaron Tovish'}  \n",
      "___abdullah fmsfuncponalusers______   {' FMS_FuncPonal_Users, Abdullah, Aziz, Sheppard, Elaine, Case, ChrisPna'}  \n",
      "___abel nazaire______   {' Abel Nazaire'}  \n",
      "___abellera bonnie______   {' Abellera Bonnie'}  \n",
      "___abend gordon______   {' Gordon, Abend, Greg, Ozbun, Greg, Harden, James, Auger, Jan, Carter-Smith, Janice, Griﬃn, Janice,'}  \n",
      "___abernethy todd______   {' Abernethy Todd'}  \n",
      "___abi moon______   {' Abi Moon'}  \n",
      "___abigail kahl______   {\" 'Abigail Kahl'\", ' Abigail Kahl'}  \n",
      "___abigail v raddar______   {' Raddar, Abigail V.'}  \n",
      "___abraham prado______   {'Prado, Abraham', 'Prado, Abraham [mailto:Abraham.Prado@joe.com]', ' Prado, Abraham'}  \n",
      "___abu canady______   {'Abu Canady'}  \n",
      "___account vice president gelb______   {' Dennis Gelb, Account Vice President'}  \n",
      "___acelo pedroso______   {' Acelo Pedroso'}  \n",
      "___acey stinson______   {' Acey Stinson'}  \n",
      "___ackerman georgia______   {' Ackerman Georgia'}  \n",
      "___acsrl hunt______   {\" 'Deborah Hunt, ACSRL'\"}  \n",
      "___ada burnette______   {'Burnette, Ada'}  \n",
      "___ada puryear burnette______   {'Ada Puryear Burnette'}  \n",
      "___adam b orey______   {'\"Mr. Adam B. orey\" <acorey@101tallv.com'}  \n",
      "___adam baptiste______   {' Adam Baptiste <mr.baptiste.is@gmail.com', 'Adam Baptiste [mailto:mr.baptiste.is@gmail.com]', \" 'Adam Baptiste'\"}  \n",
      "___adam bcorey______   {' Adam BCorey'}  \n",
      "___adam belcher______   {' Belcher, Adam'}  \n",
      "___adam braun______   {' Adam Braun'}  \n",
      "___adam brown______   {' AdamBrown'}  \n",
      "___adam collins______   {' Collins, Adam'}  \n",
      "___adam corey rivers______   {' Kim Rivers, Adam Corey, Moor.Bill@ccbg.com, Barry Wilcox, Claudia Davant, Cynthia Tunnicliﬀ, Collins Proctor, John Dailey, nancy.miller@talgov.com, Chris Dudley, DIA Scof Dick', ' Kim Rivers, Adam Corey, Moor.Bill@ccbg.com, Wilcox, Barry, Claudia Davant, Cynthia Tunnicliﬀ, Collins Proctor, John Dailey, Chris Dudley, DIA Scof Dick, Allen Thompson, Norvell, Louis', ' Kim Rivers, Adam Corey, Moor.Bill@ccbg.com, Wilcox, Barry, Claudia Davant, Cynthia Tunnicliﬀ,'}  \n",
      "___adam corey shingles______   {'Shingles, Adam Corey'}  \n",
      "___adam correy______   {' AdamCorrey (Acorey@gunster.com)', ' Adam Correy (Acorey@gunster.com)'}  \n",
      "___adam cory______   {'Adam Cory'}  \n",
      "___adam cromer______   {' Cromer,Adam'}  \n",
      "___adam faurot______   {' AdamFaurot', ' Adam Faurot'}  \n",
      "___adam freed______   {' Adam Freed'}  \n",
      "___adam goodsen______   {' Adam Goodsen'}  \n",
      "___adam gunter______   {' AdamGunter'}  \n",
      "___adam hurwitz______   {' Adam Hurwitz'}  \n",
      "___adam jackson______   {' Adam Jackson'}  \n",
      "___adam jolles______   {' Jolles, Adam'}  \n",
      "___adam kaye______   {'Adam Kaye', ' Adam Kaye'}  \n",
      "___adam krantz______   {' AdamKrantz'}  \n",
      "___adam macon______   {' Adam Macon'}  \n",
      "___adam miller______   {'Miller, Adam'}  \n",
      "___adam orey______   {' Adam orey', 'Adam orey: Ryan Grindler', 'Adam orey'}  \n",
      "___adam palagi______   {' Adam Palagi'}  \n",
      "___adam russell______   {' Adam Russell'}  \n",
      "___adam sanders______   {' Adam Sanders'}  \n",
      "___adam watson______   {' AdamWatson', ' Adam Watson'}  \n",
      "___adam wright______   {'Adam Wright'}  \n",
      "___adamb corey______   {' AdamB Corey (acorey@101tally.com)'}  \n",
      "___adams donald______   {' Adams Donald'}  \n",
      "___adams gloria j______   {' Adams Gloria J'}  \n",
      "___adams jennifer g______   {' Adams Jennifer G'}  \n",
      "___adamsthames avalon renee______   {' AdamsThames Avalon Renee'}  \n",
      "___adejokun ashantia a______   {' Adejokun Ashantia A'}  \n",
      "___adele lyons______   {' Adele Lyons'}  \n",
      "___adeola fayemi______   {' adeola fayemi (deolafayemi@gmail.com)'}  \n",
      "___aderibigbe nickolas o______   {' ADERIBIGBE Nickolas O'}  \n",
      "___adi rappaport______   {' AdiRappaport'}  \n",
      "___administration dept______   {' Management & Administration Dept.'}  \n",
      "___administrationthomas harrison______   {' AdministrationThomas Harrison'}  \n",
      "___adolphus c favors______   {' Adolphus C. Favors (dr.adolphus.favors@att.net)'}  \n",
      "___adonica lewis______   {' Adonica Lewis'}  \n",
      "___adrew gillum______   {\" Adrew Gillum's Asst:Angie Whitaker\"}  \n",
      "___adria harper______   {' AdriaHarper'}  \n",
      "___adrian kadas______   {' Kadas, Adrian'}  \n",
      "___adriana asbaghi______   {'Adriana Asbaghi [mailto:adriana@101tallahassee.com]', \"'Adriana Asbaghi'\"}  \n",
      "___adriana ayers______   {' Ayers, Adriana'}  \n",
      "___adrianna juran______   {' Adrianna Juran', 'Adrianna Juran'}  \n",
      "___adrianne kautz______   {' AdrianneKautz', ' Adrianne Kautz'}  \n",
      "___adrianne miller______   {'Adrianne Miller', ' Adrianne Miller', ' AdrianneMiller'}  \n",
      "___adrianne miller yordon______   {' Gary Yordon, Adrianne Miller, Anneliese (OR), Cynthia.Barber@talgov.com, Bono, Michelle, Cox,'}  \n",
      "___adrienne barker______   {' Adrienne Barker'}  \n",
      "___adrienne cooper______   {' Adrienne Cooper'}  \n",
      "___adrienne frame______   {' Adrienne Frame'}  \n",
      "___adrienne grant______   {' Adrienne Grant'}  \n",
      "___adrienne lucas______   {' Adrienne Lucas (gigatt620@comcast.net)'}  \n",
      "___adrienne ower______   {' Bell?ower, Adrienne'}  \n",
      "___adu elsie a______   {' Adu Elsie A'}  \n",
      "___advisory boards______   {'Advisory Boards', ' Advisory Boards'}  \n",
      "___aerial tallahassee yordon______   {' Gary Yordon, Aerial Tallahassee, Betsy Couch, lhuY@diversecompu4ng.com,'}  \n",
      "___aexander deia m______   {' Aexander Deia M'}  \n",
      "___aging news alert______   {' Aging News Alert <update1@cdpublications.com'}  \n",
      "___ahley strazzee______   {' Ahley Strazzee (astrazzee@yahoo.com)'}  \n",
      "___ahmad khalilfavors______   {' Ahmad KhalilFavors (Afavors@tallha.org)'}  \n",
      "___ahmadkhalil favors______   {' AhmadKhalil Favors Sr (khalil.favors@gmail.com)'}  \n",
      "___ahmed farhran r______   {' Ahmed Farhran R'}  \n",
      "___ai gillum______   {\" ai Gillum'\"}  \n",
      "___aide to ortiz cruz______   {' Ana Cruz, Aide to Ortiz'}  \n",
      "___aide to wiggs chadwell______   {' Chris Chadwell, Aide to Wiggs, Lakeland'}  \n",
      "___aimee leturmy______   {'Aimee Leturmy [mailto:aimeeleturmy@gmail.com]', ' Aimee Leturmy <aimeeleturmy@gmail.com', \" 'Aimee Leturmy'\"}  \n",
      "___aimee wirth______   {' Aimee Wirth'}  \n",
      "___airport g7 nelson______   {'D. Michael Nelson, 1335 Airport Dr G7, Tallahassee FL, 32304'}  \n",
      "___aisha r crawford______   {\" 'Crawford, Aisha R'\"}  \n",
      "___aiwen anner______   {' Aiwen anner'}  \n",
      "___aiwen brunner______   {' Aiwen Brunner'}  \n",
      "___aiwu yao______   {' Yao, Aiwu', ' Yao, Aiwu <Aiwu.Yao@talgov.com>'}  \n",
      "___aj hutchinson______   {\" Tami Ray-Hutchinson, AJ's Neighborhood Bar and Grill\"}  \n",
      "___aj smith______   {'Aj Smith', '\"\\'Aj Smith\\'\" <aj.smith@usa.com'}  \n",
      "___ajay thakkar______   {' AjayThakkar', ' Ajay Thakkar'}  \n",
      "___ajonte bush______   {' Ajontè Bush'}  \n",
      "___ajowe halsey asha a______   {' Ajowe Halsey Asha A'}  \n",
      "___aka the man in overalls nathan______   {'\"Nathan, aka the Man in Overalls\" <maninoveralls@gmail.com<mailto:maninoveralls@gmail.com'}  \n",
      "___akin akinyemi carolweissert______   {' CarolWeissert, Akin Akinyemi, Gwen Marshall, mikeyburchwcdec@hotmail.com, Stephanie Holloway, Kellie Sirmons, Dave Jacobsen, gary@zprgroup.com'}  \n",
      "___akin akinyemi net______   {\" rkaplan2@comcast.net, Akin Akinyemi, Alan Brock, Alex Sink, Alvin Brown, Andrew Gillum, Aronberg, Audrey Gibson, Barbara Sharief, Bill Monpord, Bob Buckhorn, Buddy Dyer, ChristopherChestnut, Commissioner Ilene Lieberman, Commissioner John Dailey, Craig Lowe, Daisy Black, DaphneCampbell, Darren M. Soto Esq., Dee Crumpler, Dee DeeRasmussen, Dr. Willie Spires, DwightBullard, Frank Or4s, Jack Seiler, Janet Cruz, Jeﬀ Clemens, Jeremy Branch, JimWaldman, Joe Abruzzo, John Marks, Joy Cooper, Kevin Beckner, Kris4n Dozier, Lori Berman, Mack Bernard, MariaSachs, Mark Paﬀord, Masters,Thomas A, Mia Jones, NanRich, Nancy Miller, Reggie Fullwood, Rep. Elaine Schwartz, Rep. Franklin Sands, Richard Steinberg, SamuelIngs, ScoY Randolph, StateRepresenta4ve Alan Williams, Tony Or4z, Vonzelle Johnson, Yvonne YolieCapin, Aaron Scavron, Al Jacquet, Alain Jean, AlanHanstein, Alex Heckler, AllisonNorth Jones, Allison Payne, Allison Tant, AlmaGonzalez, Andy Tobias, Angelique Muller, Angie Whitaker, Anita Favors, Anton Ruesing, Ben Pingree, Benjamin Crump, Beth Kennedy, Beth Matuga, Beth McMillen, BillMcbride, Bill Pfeiﬀer, Bill Phillips, Bill Wild, Bob Spohrer, Brad Avery, Brian Lacey, Carlton Moore, Cur4s Richardson, Cwm, Dad, Dan Stengle, Daniel Rogers, DaniellaWexler's Oﬃce, Daryl Parks, Dave BeaYy, David Frank, DavidG Washington, David Geller, Debbie Bruton, Deborah Ryan, Diane Glasser, DonHinkle, Don Prichard, DonSlesnick, Doug Mar4n, DrewJones, Ed Jennings, Jr., Eric Draper, Eric Riley, Eric Smith, Erin Weldon, FarooqMitha, Fred Varn, FritzScheller, Gary Waters, Gary Yordon, George Maurer, Gil Ziﬀer, Gwen Graham, Howard Weiss, Jason Roth, Jay Smith, Jeﬀ Wahlen, Jim Davis, Jim Messer, Jim Piccillo, Joe Gibbons, John Kenny, Joseph Falk, Josh Hicks, Judy Mount, Julie Conley, Ka4e A. Edwards, KenWilliams, Lance Block, LarryBeltz, Laura Brock, LindaWhipple, Liza MacKlenahan, Loranne Ausley, Mark Alan Siegel, Mark Ketcham, Mark Mus4an, Mayor Beth Talabisco, Melissa Ginsberg, Michael AlbeYa, MichaelCalienes, Micheal McAllister, Mike Moskowitz, MikeWilliams, Mitch Ceasar, Neil Rambana, Pamela Fort, PeteButler, Rabbi Kurt Stone, Rachel Pienta, Raju Vyas, Raquel Simon-Petley, Rick Minor, Robert (Bob) Crew, RonKlein, Ron Mills, Russ Klenet, ScoY Maddox, Sean PiYman, Stephen Blesofsky and Marilyn Saﬁan, Steve Schale, Steve Slepin, Steve Vancore, StevenHerbits, Stuart Michelson, TimTempleton, Tom Beard, Tom Nazworth, Uncle Leroy Ashwood, Vice-Mayor Jon Levinson, WendiLipsich, Wes Singletary, AmyMercado, Ana Parra, Barbara Ibarra, Betsy Franceschini, Carlos Guzman, Carmen Torres, David Fernandez, Dr. Antonio Crespo, Dr. Sylvia Caceres, EdwardoDominguez, Elias Rodriguez, Elio E. Muller, Jr., EmilioPerez, Ericka Seaman, Euri Cerrud, Euri Cerrud, Evelyn Rivera, Fernand Amandi, GerardoJerry James de Jesus, Gilberto Nunez, Gonzalo Capristan, Jacqueline Centeno, James Auﬀant, John Ramos, Jolie Gonzalez, Jose A La Luz, Jose Balasquide, Jose Bosque, JuliaGarcia, Julia McInnis, LucySoto-Clowney, Luis De Rosa, Marytza Sanz, MarytzaSanz, Mayra Uribe, Miguel (Mike) Rios, Mike Nieves, Mike Suarez, MillieHerrera, Nilsa Velazquez-Mar4nez, Paul Velez, RicardoRangel, Roxana De la Riva, Sergio Bendixen, Tabitha Frazier, Victor DiMaio, VictorSanchez, Vienna Avelares, Wanda Ramos, Wilfredo Seda, Gabe Landry, Mikey Cardozo, Mom, Paige Carter-Smith, ScoY Maddox, hedyg@comcast.net, Alexis Snyder, Andrew Torres, Ashley Mushnick, Clay Phillips, Jodi Davidson, Jonathan Beeton, JoshuaRogin, Laurie Flink, PeteMitchell, Ronnie Simmons, Roshan Hodge, Steven Paikowsky, Thomas McDaniels, Tracie Pough\", \" rkaplan2@comcast.net, Akin Akinyemi, Alan Brock, Alex Sink, Alvin Brown, Andrew Gillum, Aronberg, Audrey Gibson, Barbara Sharief, Bill Monpord, Bob Buckhorn, Buddy Dyer, ChristopherChestnut, Commissioner Ilene Lieberman, Commissioner John Dailey, Craig Lowe, Daisy Black, DaphneCampbell, Darren M. Soto Esq., Dee Crumpler, Dee DeeRasmussen, Dr. Willie Spires, DwightBullard, Frank Or4s, Jack Seiler, Janet Cruz, Jeﬀ Clemens, Jeremy Branch, JimWaldman, Joe Abruzzo, John Marks, Joy Cooper, Kevin Beckner, Kris4n Dozier, Lori Berman, Mack Bernard, MariaSachs, Mark Paﬀord, Masters,Thomas A, Mia Jones, NanRich, Nancy Miller, Reggie Fullwood, Rep. Elaine Schwartz, Rep. Franklin Sands, Richard Steinberg, SamuelIngs, ScoY Randolph, StateRepresenta4ve Alan Williams, Tony Or4z, Vonzelle Johnson, Yvonne YolieCapin, Aaron Scavron, Al Jacquet, Alain Jean, AlanHanstein, Alex Heckler, AllisonNorth Jones, Allison Payne, Allison Tant, AlmaGonzalez, Andy Tobias, Angelique Muller, Angie Whitaker, Anita Favors, Anton Ruesing, Ben Pingree, Benjamin Crump, Beth Kennedy, Beth Matuga, Beth McMillen, BillMcbride, Bill Pfeiﬀer, Bill Phillips, Bill Wild, Bob Spohrer, Brad Avery, Brian Lacey, Carlton Moore, Cur4s Richardson, Cwm, Dad, Dan Stengle, Daniel Rogers, DaniellaWexler's Oﬃce, Daryl Parks, Dave BeaYy, David Frank, DavidG Washington, David Geller, Debbie Bruton, Deborah Ryan, Diane Glasser, DonHinkle, Don Prichard, DonSlesnick, Doug Mar4n, DrewJones, Ed Jennings, Jr., Eric Draper, Eric Riley, Eric Smith, Erin Weldon, FarooqMitha, Fred Varn, FritzScheller, Gary Waters, Gary Yordon, George Maurer, Gil Ziﬀer, Gwen Graham, Howard Weiss, Jason Roth, Jay Smith, Jeﬀ Wahlen, Jim Davis, Jim Messer, Jim Piccillo, Joe Gibbons, John Kenny, Joseph Falk, Josh Hicks, Judy Mount, Julie Conley, Ka4e A. Edwards, KenWilliams, Lance Block, LarryBeltz, Laura Brock, LindaWhipple, Liza MacKlenahan, Loranne Ausley, Mark Alan Siegel, Mark Ketcham, Mark Mus4an, Mayor Beth Talabisco, Melissa Ginsberg, Michael AlbeYa, MichaelCalienes, Micheal McAllister, Mike Moskowitz, MikeWilliams, Mitch Ceasar, Neil Rambana, Pamela Fort, PeteButler, Rabbi Kurt Stone, Rachel Pienta, Raju Vyas, Raquel Simon-Petley, Rick Minor, Robert (Bob) Crew, RonKlein, Ron Mills, Russ Klenet, ScoY Maddox, Sean PiYman, Stephen Blesofsky and Marilyn Saﬁan, Steve Schale, Steve Slepin, Steve Vancore, StevenHerbits, Stuart Michelson, TimTempleton, Tom Beard, Tom Nazworth, Uncle Leroy Ashwood, Vice-Mayor Jon Levinson, WendiLipsich, Wes Singletary, AmyMercado, Ana Parra, Barbara Ibarra, Betsy Franceschini, Carlos Guzman, Carmen Torres, David Fernandez, Dr. Antonio Crespo, Dr. Sylvia Caceres, EdwardoDominguez, Elias Rodriguez, Elio E. Muller, Jr., EmilioPerez, Ericka Seaman, Euri Cerrud, Euri Cerrud, Evelyn Rivera, Fernand Amandi, GerardoJerry James de Jesus, Gilberto Nunez, Gonzalo Capristan, Jacqueline Centeno, James Auﬀant, John Ramos, Jolie Gonzalez, Jose A La Luz, Jose Balasquide, Jose Bosque, JuliaGarcia, Julia McInnis, LucySoto-Clowney, Luis De Rosa, Marytza Sanz, MarytzaSanz, Mayra Uribe, Miguel (Mike) Rios, Mike Nieves, Mike Suarez, MillieHerrera, Nilsa Velazquez-Mar4nez, Paul Velez, RicardoRangel, Roxana De la Riva, Sergio Bendixen, Tabitha Frazier, Victor DiMaio, VictorSanchez, Vienna Avelares, Wanda Ramos, Wilfredo Seda, Gabe Landry, Mikey Cardozo, Mom, Paige Carter-Smith, ScoY Maddox, hedyg@comcast.net, Alexis Snyder, Andrew Torres, Monday, February 12, 2018 at 5:05:37 PM Eastern Standard Time Ashley Mushnick, Clay Phillips, Jodi Davidson, Jonathan Beeton, JoshuaRogin, Laurie Flink, PeteMitchell, Ronnie Simmons, Roshan Hodge, Steven Paikowsky, Thomas McDaniels, Tracie Pough\"}  \n",
      "___akita heatly______   {' Heatly, Akita'}  \n",
      "___akowe halsey asha a______   {' Akowe Halsey Asha A'}  \n",
      "___al bathke______   {' Al Bathke'}  \n",
      "___al cuneo______   {\" 'Al Cuneo'\"}  \n",
      "___al gandy______   {' Al Gandy'}  \n",
      "___al hudgins______   {' AlHudgins'}  \n",
      "___al lapmer______   {' LaPmer, Al <alaPmer@oevforbusiness.org>'}  \n",
      "___al latimer______   {' Latimer, Al <alatimer@oevforbusiness.org>', 'Al Latimer', ' Latimer, Al'}  \n",
      "___al lawson______   {' Al Lawson Jr', ' Al Lawson'}  \n",
      "___al menendez______   {' Menendez, Al'}  \n",
      "___al pasini______   {' Al Pasini', ' AlPasini'}  \n",
      "___al paton______   {' Al Paton'}  \n",
      "___al stewart______   {' Al Stewart'}  \n",
      "___alain d______   {\" Alain D'Castro\"}  \n",
      "___alan abramowitz______   {' Alan Abramowitz'}  \n",
      "___alan b williams______   {' Alan B. Williams', ' Alan B. Williams (A)'}  \n",
      "___alan bookman______   {' Alan Bookman', 'Alan Bookman'}  \n",
      "___alan bookman com______   {\" barry.munroe@gmail.com, Alan Bookman, Alyce Lee Stansbury, Gillum,Andrew, Anne Peery (annepeery@aol.com), acinorth, Daryl Parks, David Eastman, Debbie Bergstrom, Denise James, Denise Owens, Ellie Simon, errol_powell@doah.state.ﬂ.us, Jack McLean (mccl3690@comcast.net), Jeﬀ Peters (jgpesq@msn.com), Jennifer Shoaf (jrichardson@appellate-ﬁrm.com), Joanne BaYle, KathyWinn, Jones, Martha J., Marty Dix, ron.hall@ﬁrstdata.com, ScoY Manion, Steve Uhlfelder, Allan Katz, Allen McConnaughhay, Anneli Magee, Ashley Smith Herndon, Benjamin Crump, BergerSingerman - Melanie Hines, Bob Cox, Catherine Lannon (clannon1978@gmail.com), Chuck & Pa„ Mitchell, cjbthelaw@embarqmail.com, Daniel Thompson, David Frank, Donald Hinkle, Dorothy Miller, Duby Ausley, Ed Ricci, Eddie Grunewald, FrankWilliams, Fred Levin, Gary Yordon, Glenda Thornton(gthornton@batemanharden.com), Howell Ferguson, Hubert Brown, James McConnaughhay, James McKenzie, James Papantonio, Jana McConnaughhay, Jarian Lyons, John Radey, JudgeJudith Hawkins, Judge Nina Ashenaﬁ Richardson, Karen Walker, Kathy Archibald, Kathy Grunewald, KellyOverstreet Johnson, Kris Knab, Lisa Bernau, lsnf@aol.com, Major Harding, Mark Bednar, Mark Schlakman, Mark Walker, Michelle Rehwinkel Vasilinda, Mike Vasilinda, Nancy Daniels, Patricia GriYa, PatsyPalmer, Paul Jess, Phelicia S4ell, Renee Gordon, Rep. Michelle Rehwinkel Vasilinda, RickOppenheim, robinhthompson@comcast.net,, Sally Gertz, SandyD'Alemberte, ScoY Carruthers, Sid MaYhew, Skip Smith, Capital City Bank Group, Stephanie Clapp, Stephen Hanlon, Steven Andrews, Tallahassee Barristers, Ted Mack, Terry Dario4s, Tommy Warren, TrineYa Lyons, UWBB - Ken Armstrong, Wendy Loquasto, Davye Stewart, Jenny Wells, JessicaSlaYen, Joan Anderson, Leah M. Panton (lmpanton@aol.com), Melissa Walton, Pauline Robinson (prpevans@gmail.com), Randy Webster, roxane.dow@dep.state.ﬂ.us, Zaid Haynes\"}  \n",
      "___alan bookman dekle______   {' Mary Dekle, Alan Bookman, AllenMcConnaughhay, Anneli Nystrand(anneli@abode.cc), Ashley'}  \n",
      "___alan boyd______   {' Alan Boyd'}  \n",
      "___alan brock______   {' Alan Brock', 'Alan Brock', ' Alan Brock <ealanbrock@gmail.com'}  \n",
      "___alan d wertepny______   {' Alan D. Wertepny'}  \n",
      "___alan freman______   {' Alan Freman'}  \n",
      "___alan friedel______   {' Alan Friedel'}  \n",
      "___alan g randolph______   {'\"Alan G. Randolph\"'}  \n",
      "___alan gale______   {' Gale,Alan', ' Gale, Alan'}  \n",
      "___alan gentry______   {' Alan Gentry'}  \n",
      "___alan giaquinto______   {' Alan Giaquinto'}  \n",
      "___alan hanstein______   {' Alan Hanstein', ' <Alan Hanstein', ' AlanHanstein'}  \n",
      "___alan hays______   {' Alan Hays'}  \n",
      "___alan horton______   {' Alan Horton'}  \n",
      "___alan keesee______   {' Alan Keesee'}  \n",
      "___alan koch______   {' Alan Koch'}  \n",
      "___alan must______   {' Alan Must'}  \n",
      "___alan obaigbena______   {' Alan Obaigbena'}  \n",
      "___alan shelby______   {' Alan Shelby (alan@forestfla.org)'}  \n",
      "___alan stamm______   {' Alan Stamm'}  \n",
      "___alan stonecipher______   {' AlanStonecipher', ' Alan Stonecipher'}  \n",
      "___alan suskey______   {'Alan Suskey'}  \n",
      "___alan willner______   {\" 'Alan Willner'\"}  \n",
      "___alana guinard______   {' Alana Guinard'}  \n",
      "___alanwilliams com______   {'andrew.gillum@talgov.com, alan.williams@myﬂoridahouse.gov, proctorb@leoncountyFL.gov, cur_s.richardson@talgov.com, Nancy Miller <Nancy.Miller@talgov.com>, gil.ziﬀer@talgov.com, scof <scof.maddox@talgov.com>, Mary Ann Lindley <lindleym@leoncountyﬂ.gov>, Bryan Desloge <bdesloge@icloud.com>, village square <liz@tothevillagesquare.org', 'andrew.gillum@talgov.com, alan.williams@myﬂoridahouse.gov, cur_s.richardson@talgov.com, proctorb@leoncountyFL.gov, lpifs@miamiherald.com, eugenerobinson@washpost.com, michael.deleo@talgov.com, rick.fernandez@talgov.com, scof <scof.maddox@talgov.com>, Nancy Miller <Nancy.Miller@talgov.com>, gil.ziﬀer@talgov.com, gary@zprgroup.com, village square <liz@tothevillagesquare.org>, sfoster@tallahassee.com, William HaZield <whaZield@tallahassee.com>, kent miller <ksmiller@fsu.edu>, Mary Ann Lindley <lindleym@leoncountyﬂ.gov>, Bryan Desloge <bdesloge@icloud.com'}  \n",
      "___alarcon vivian______   {' Alarcon Vivian'}  \n",
      "___albert capellini______   {' Albert Capellini'}  \n",
      "___albert lorenzo______   {' AlbertLorenzo'}  \n",
      "___albert muniz______   {' Albert Muniz (amuniz@hazenandsawyer.com)'}  \n",
      "___albert pasini______   {' Pasini, Albert', 'Pasini, Albert'}  \n",
      "___albert perez______   {' Albert Perez'}  \n",
      "___albert wyatt______   {' AlbertWyatt'}  \n",
      "___alberto benzaquen______   {' Alberto Benzaquen'}  \n",
      "___aldena randolph______   {' Randolph, Aldena'}  \n",
      "___aldo felipe______   {' Aldo Felipe'}  \n",
      "___aleida andrew______   {' Aleida Andrew'}  \n",
      "___alejandro zapata______   {\" 'Alejandro Zapata'\", ' Alejandro Zapata'}  \n",
      "___alesha smith______   {' Alesha Smith'}  \n",
      "___alessandra delfico______   {' Alessandra Delfico'}  \n",
      "___alex babenko______   {' Alex Babenko'}  \n",
      "___alex baker______   {' Alex Baker (alex@blackwaterresources.com)', ' Alex Baker', ' Alex Baker <alex@blackwaterresources.com>'}  \n",
      "___alex beltromy______   {' Alex Beltromy (thetantralounge@gmail.com)', ' Alex Beltromy(thetantralounge@gmail.com)'}  \n",
      "___alex bernardi______   {' Alex Bernardi'}  \n",
      "___alex dinkleman______   {' Alex Dinkleman'}  \n",
      "___alex fernandez______   {'Alex Fernandez (Weithorn Aide, Miami Beach)', ' AlexFernandez (Weithorn Aide, Miami Beach)'}  \n",
      "___alex ferro______   {' AlexFerro'}  \n",
      "___alex folmar______   {' Alex Folmar'}  \n",
      "___alex l mahon______   {' Mahon, Alex L'}  \n",
      "___alex lewis______   {' Lewis, Alex'}  \n",
      "___alex mahon______   {' Alex Mahon'}  \n",
      "___alex malek______   {' Alex Malek'}  \n",
      "___alex medina barnack______   {' Nicola Barnack, Alex Medina'}  \n",
      "___alex parker______   {' Alex Parker'}  \n",
      "___alex patel______   {' Alex Patel'}  \n",
      "___alex ramirez______   {' Ramirez, Alex'}  \n",
      "___alex scheffer______   {' Alex Scheffer'}  \n",
      "___alex skandalis______   {' Alex Skandalis'}  \n",
      "___alex squitieri______   {' Squitieri, Alex'}  \n",
      "___alex swanson______   {' Alex Swanson'}  \n",
      "___alexander goldstein______   {' Alexander Goldstein'}  \n",
      "___alexander heckler______   {' Alexander Heckler'}  \n",
      "___alexander kemp______   {' Kemp, Alexander CIV NGFLANG (US)'}  \n",
      "___alexander line v______   {' Alexander Line V'}  \n",
      "___alexander ramon______   {' Alexander Ramon'}  \n",
      "___alexander rossin______   {' Alexander Rossin'}  \n",
      "___alexandra calixte______   {' Calixte, Alexandra'}  \n",
      "___alexandra esser______   {' Alexandra Esser'}  \n",
      "___alexandra forbes______   {\" 'Alexandra Forbes'\", ' Alexandra Forbes'}  \n",
      "___alexis philips______   {'Alexis Philips (alexis@rgvi.com)'}  \n",
      "___alexis phillips acsr______   {' Alexis Phillips ACSR'}  \n",
      "___alexis roberts mcmillan______   {' Alexis Roberts McMillan (Alexisrph@aol.com)', ' Alexis Roberts McMillan (alexisrph11@gmail.com)'}  \n",
      "___alexis schulman______   {' Schulman, Alexis'}  \n",
      "___alexis spain______   {' Alexis Spain'}  \n",
      "___alexsandra olivieri______   {' alexsandra olivieri'}  \n",
      "___alfonzo baldwin______   {' Baldwin, Alfonzo'}  \n",
      "___alfreda collins______   {'Collins, Alfreda'}  \n",
      "___alfredo gonzalez______   {' Alfredo Gonzalez'}  \n",
      "___alfredo sanchez______   {' Alfredo Sanchez'}  \n",
      "___ali atefi______   {'Ali Atefi'}  \n",
      "___alice bonn______   {' alice bonn'}  \n",
      "___alice charles______   {' Alice Charles-Wilson'}  \n",
      "___alice hall______   {' Alice Hall'}  \n",
      "___alice maxwell______   {' Alice Maxwell'}  \n",
      "___alice peters______   {' Alice Peters(apeters@ccc-net.com)', ' Alice Peters (Business Fax)'}  \n",
      "___alice rodriguez______   {'Alice Rodriguez', ' Alice Rodriguez'}  \n",
      "___alice watts______   {\" 'Watts, Alice'\", ' Alice Watts'}  \n",
      "___alicia germani______   {' Alicia Germani (agermani@genesisgroup.com)', ' Alicia Germani(AGermani@GenesisGroup.com)'}  \n",
      "___alicia seiverth______   {' Alicia Seiverth (aseiverth@superlube.com)'}  \n",
      "___alicia turner______   {' WCTV-Alicia Turner'}  \n",
      "___alina cooper______   {' Alina Cooper'}  \n",
      "___alisa bert______   {' Alisa Bert'}  \n",
      "___alisa ghazvini______   {' AlisaGhazvini', ' Alisa Ghazvini'}  \n",
      "___alisa watkins______   {' Alisa Watkins (awatkins@mcraemetcalf.com)', 'Alisa Watkins'}  \n",
      "___alisha wetherell______   {' Wetherell, Alisha'}  \n",
      "___alison aris______   {'Alison aris'}  \n",
      "___alison b dudley______   {' Alison B. Dudley(alisondudley@dudleyandassociates.com)', ' Alison B. Dudley (alisondudley@dudleyandassociates.com)'}  \n",
      "___alison denny______   {'ALISON DENNY'}  \n",
      "___alison dodson______   {' Alison Dodson'}  \n",
      "___alison ellen______   {' E-team; Ellen, Alison, Drew, Gary'}  \n",
      "___alison mccray faris______   {' Faris, Alison McCray, Patricia Edwards, Ashley, Bowens, Spencer, Barber, Cynthia, Goad, Reese, Lavin, Raoul, paige.tallahasseedowntown@gmail.com, Gaines, Jerome'}  \n",
      "___alison merritt______   {' Alison Merritt'}  \n",
      "___alison monday faris______   {' Faris, Alison Monday, February 12, 2018 at 8:39:23 PM Eastern Standard Time <Alison.Faris@talgov.com>', ' Faris, Alison Monday, February 12, 2018 at 8:44:50 PM Eastern Standard Time <Alison.Faris@talgov.com>', ' Faris, Alison Monday, February 12, 2018 at 9:16:46 PM Eastern Standard Time'}  \n",
      "___alison taber______   {' Alison Taber', 'Alison Taber [mailto:ataber@moorebass.com]'}  \n",
      "___alison tuesday faris______   {'Faris, Alison Tuesday, February 13, 2018 at 7:59:58 PM Eastern Standard Time'}  \n",
      "___alison voorhees______   {' Alison Voorhees'}  \n",
      "___alissa meyers______   {' Meyers, Alissa', 'Meyers, Alissa', 'Meyers, Alissa [mailto:Alissa.Meyers@talgov.com]'}  \n",
      "___alissa slade lotane______   {' Lotane, Alissa Slade', ' Alissa Slade Lotane'}  \n",
      "___alistair martin______   {' Alistair Martin'}  \n",
      "___alize carruth______   {' Carruth, Alize'}  \n",
      "___alkon ent______   {'Alkon Ent [mailto:alkonent@gmail.com]', \"'Alkon Ent'\"}  \n",
      "___all mailboxes bewell______   {' All Mailboxes Bewell!'}  \n",
      "___allard dean______   {' Allard Dean'}  \n",
      "___allen anne adams______   {' Allen Anne Adams'}  \n",
      "___allen byrd______   {' Byrd, Allen'}  \n",
      "___allen hendricks______   {' Allen Hendricks'}  \n",
      "___allen hobbs______   {'Allen Hobbs', ' Allen Hobbs'}  \n",
      "___allen jasmine i______   {' Allen Jasmine I'}  \n",
      "___allen kilcrease donald lc______   {' Allen Kilcrease Donald LC'}  \n",
      "___allen leslie______   {' Allen Leslie'}  \n",
      "___allen link______   {' Allen Link (Business Fax)', ' Allen Link(carpetlinks@aol.com)'}  \n",
      "___allen marqueta m______   {' Allen Marqueta M'}  \n",
      "___allen mcconnaughhay______   {' Allen McConnaughhay', \" 'Allen McConnaughhay'\"}  \n",
      "___allen mcconnaughhay bookman______   {\" Alan Bookman, Allen McConnaughhay, Anneli Nystrand (anneli@abode.cc), Ashley Smith Herndon, BenjaminCrump, Berger Singerman - Melanie Hines, Bob Cox, Carol GreggHart (carol_gregg@doh.state.ﬂ.us), Catherine Lannon (clannon1978@gmail.com), Chuck &Pa„ Mitchell, Craig Brown (cbrown@cjb-law.com), Daniel Thompson, Daryl Parks (dparks@parkscrump.com), David Frank, Donald Hinkle, DorothyMiller, Duby Ausley, EdRicci, Eddie Grunewald, Frank Williams, Fred Levin, Gary Yordon, Glenda Thornton (tgthornto@aol.com), Heather Mitchell, Howell Ferguson, Hubert Brown, James McConnaughhay, James McKenzie, James Papantonio, Jana McConnaughhay, Jarian Lyons(aYorneyjlyons@gmail.com), John Radey, Judge Judith Hawkins, Judge NinaAshenaﬁ Richardson, Karen Walker, Kathy Archibald, KathyGrunewald, Kathy Villacorta, Kelly Overstreet Johnson (kjohnson@bakerdonelson.com), Kris Knab, Lisa Bernau(lbernau4@gmail.com), lsnf@aol.com, Major B. and Jane Harding, Mark Walker, Michelle Rehwinkel Vasilinda(rehwinkm@tcc.ﬂ.edu), Mike Vasilinda, Nancy Daniels (nancy.daniels@ﬂpd2.com), Patricia GriYa (PgriYa88@gmail.com), Patsy Palmer, Paul Jess, Phelicia S4ell, Renee Gordon (rgordon2@hotmail.com), Rick Oppenheim, Robin Thompson, Sally Gertz, SandyD'Alemberte, ScoY Carruthers (scoYhcarruthers@aol.com), Skip Smith, Capital City Bank Group, Stephanie Clapp (sacpsc10@gmail.com), Stephen Hanlon (S•29@law.georgetown.edu), Ted Mack, Terry Dario4s, Tommy Warren, TrineYa Lyons, Wendy Loquasto, AlisonDodson, aloha@balihi.us, Alyce LeeStansbury, Amanda Wasserstrom(awasserstrom@mitchstuart.com), AndreaKrieger, Andy, Anne Peery (annepeery@aol.com), Arnold McKay, Bannister, Lynn (Bill Nelson), Barbara DeVane, Beth Miles, bholt@gadsdencountyﬂ.gov, Bill Milford, BobDawson, Bowersox, Ben, Carmella Bugbee, Casey, Kay, cbelc2@comcast.net, Chris Gibson, Chris Hammond - TLFCU, ChrysIvey Goodwyne, Cindy Suhrweir, Connie Davis, Currie Leggoe, DavidFarran, Dayve Stewart, Debbie Bergstrom, Denise James, Denise Owens, denisehill9@comcast.net, Derek Sims, Eddie Dorman, ElizabethA. Horvath, ellynscanlan@aol.com, Fa4mah Jackson, Fortunas, Paula, fpr@wfsu.org, frank lynch, Fred, Gail Thompkins (gail4mail@comcast.net), gil@zi•erry.com, Gillum,Andrew, gypsygdd@aol.com, Harreen Ber4sch, hbosman@netzero.net, heinzfam@neYally.com, Howard Libin, IMPACT100 Grants, jack@4gen.org, JackiePugh, jamie christoﬀ, Jane Parsons (jane.parsons@proforma.com), jasonzabs@yahoo.com, Jean Bryant, Jean Crozier, Jeﬀ Price, Jenny Wells (info@imaginethatgi{baskets.com), Jim King, Jo Shoupe, Joann Capece, JoanneBaYle, Juanita Gaston, JudieMiller, Julia Causseaux, Jus4n Beltran, Karen ScoY, Kathy Winn, kristopher.dake@wellsfargo.com, LarryColtharp, Laura Clark, Leah M.Panton (lmpanton@aol.com), Lee Phillips, Linda Vaughn, Linda Young, Lou, Louis St Petery, LynnPeacock, Mark Russell, 'Marwood, Emily', mbunch25@embarqmail.com, Melissa Walton, Michelle Scheuermann, Mimi Graham, Monique Hrubak, NancyDahlberg, Nancy Saunders, order@lucyandleoscupcakery.com, Pam Bauer, Pam Davis, PamelaCayson, Pamela Ridley, pa„.butchikas@myﬂoridahouse.gov, Peg Dougherty, Phyllis Smith, Quincie Hamby, Rainey, Glenn, Randy Webster, RANIE THOMPSON, rdunkelberger@rowlandpublishing.com, Robet Stephenson, Robin.Wharton@ourclub.com, Robyn Downie, ron.hall@ﬁrstdata.com, Roxane Monday, February 12, 2018 at 4:58:50 PM Eastern Standard Time Dow, roxane.dow@dep.state.ﬂ.us, Sandi Mitchell, Schardl, Ka4, Sherri Wellborn, spendler@earthlink.net, Sue Bunch, Taber, Judi, TasteBudz, 'terry hansen', The UPS Store 6044, Tom Flanigan, Tracy Rose home, turnbulm@tcc.ﬂ.edu, Unitarian Univeralist Church(oﬃce@uuct.comcastbiz.net), vaughnl@leonschools.net, alawson@gadsdencountyﬂ.gov, alcuneo@cuneocrea4ve.com, alevy@ﬂoridatrend.com, annehempelrisk@gmail.com, aphillips@magicﬂ.com, bfuller@questman1.com, bgomes@oysterradio.com, blts530am@gmail.com, bob@kerrigan.com, browland@rowlandpublishing.com, butlerp@aegisbiztech.com, cgeib@oncityadver4sing.com, Cheryl.Gary@FLCourts1.gov, cheryl.jennings01@comcast.net, chronicle@tallahassee.com, CirenzaD@leoncountyﬂ.gov, clemenzasatuptown@live.com, CMR@LeonCountyFL.gov, dlachter@clothesline.net, dowlingb@aegisbiztech.com, Downtownmarket@earthlink.net, dparisi@rowlandpublishing.com, erin@ronsachs.com, ‘gant@yahoo.com, gail@zi•erry.com, gladyscherry31@gmail.com, gracemaloy@gmail.com, hchildree@discvillage.com, heather@talwoman.com, hiﬁjazz@yahoo.com, jmclean@myquincy.net, jmmorgan@parkscrump.com, Judge.Flowers@FLCOURTS1.GOV, Karen@uwbb.org, keith@associa4onCFO.com, Kelly OYe (kelly.oYe@pacecenter.org), KenArmstrong (ken@kenarmstrong.biz), kjames897@gmail.com, leahgentrycleaning@yahoo.com, lester@bevshots.com, lisa@kanvasbeauty.com, longineuinfo@aol.com, lynn@talwoman.com, M.Akbar@AkbarLawFirm.com, majorsullivan@msn.com, marc@hunterandharp.com, mar4n_proctor@proctorcars.com, Michael.P.Dorgan@lexisnexis.com, mikegen4ne@clearchannel.com, mperuche@gmail.com, myon@questman1.com, page@pagerozelle.com, pa„emaney@gmail.com, Rachel.McPherson@ourclub.com, rachel@poboys.com, rengel@unitedwayescambia.org, rervin24@yahoo.com, ron@rlbookpa.com, sam@thegourdmastersamx.com, sarasmom18@comcast.net, sdick@talchamber.com, smokey@franklincountyﬂorida.com, susanjallen@comcast.net, TallyFTA@Gmail.com, thorntona@lsc.gov, Tony@Tallahasseegrapevine.com, UniVisGrp@aol.com, Veronica.Saavedra@blueprint2000.org, VicForsman@harvest-press.com, Vinse@ebﬂaw.com, vinse@tallahasseepersonalinjury.com, whitney@wowtally.com, william_staﬀord@ﬂnd.uscourts.gov, wings_benton@doh.state.ﬂ.us, Yrabedra6@aol.com, zach@on-callsupport.com\", \" Alan Bookman, Allen McConnaughhay, Anneli Nystrand (anneli@abode.cc), Ashley Smith Herndon, BenjaminCrump, Berger Singerman - Melanie Hines, Bob Cox, Carol GreggHart (carol_gregg@doh.state.ﬂ.us), Catherine Lannon (clannon1978@gmail.com), Chuck &Pa„ Mitchell, Craig Brown (cbrown@cjb-law.com), Daniel Thompson, Daryl Parks (dparks@parkscrump.com), David Frank, Donald Hinkle, DorothyMiller, Duby Ausley, EdRicci, Eddie Grunewald, Frank Williams, Fred Levin, Gary Yordon, Glenda Thornton (tgthornto@aol.com), Heather Mitchell, Howell Ferguson, Hubert Brown, James McConnaughhay, James McKenzie, James Papantonio, Jana McConnaughhay, Jarian Lyons(aYorneyjlyons@gmail.com), John Radey, Judge Judith Hawkins, Judge NinaAshenaﬁ Richardson, Karen Walker, Kathy Archibald, KathyGrunewald, Kathy Villacorta, Kelly Overstreet Johnson (kjohnson@bakerdonelson.com), Kris Knab, Lisa Bernau(lbernau4@gmail.com), lsnf@aol.com, Major B. and Jane Harding, Mark Walker, Michelle Rehwinkel Vasilinda(rehwinkm@tcc.ﬂ.edu), Mike Vasilinda, Nancy Daniels (nancy.daniels@ﬂpd2.com), Patricia GriYa (PgriYa88@gmail.com), Patsy Palmer, Paul Jess, Phelicia S4ell, Renee Gordon (rgordon2@hotmail.com), Rick Oppenheim, Robin Thompson, Sally Gertz, SandyD'Alemberte, ScoY Carruthers (scoYhcarruthers@aol.com), Skip Smith, Capital City Bank Group, Stephanie Clapp (sacpsc10@gmail.com), Stephen Hanlon (S•29@law.georgetown.edu), Ted Mack, Terry Dario4s, Tommy Warren, TrineYa Lyons, Wendy Loquasto, alawson@gadsdencountyﬂ.gov, alcuneo@cuneocrea4ve.com, alevy@ﬂoridatrend.com, annehempelrisk@gmail.com, aphillips@magicﬂ.com, bfuller@questman1.com, bgomes@oysterradio.com, blts530am@gmail.com, bob@kerrigan.com, browland@rowlandpublishing.com, butlerp@aegisbiztech.com, cgeib@oncityadver4sing.com, Cheryl.Gary@FLCourts1.gov, cheryl.jennings01@comcast.net, chronicle@tallahassee.com, CirenzaD@leoncountyﬂ.gov, clemenzasatuptown@live.com, CMR@LeonCountyFL.gov, dlachter@clothesline.net, dowlingb@aegisbiztech.com, Downtownmarket@earthlink.net, dparisi@rowlandpublishing.com, erin@ronsachs.com, ‘gant@yahoo.com, gail@zi•erry.com, gladyscherry31@gmail.com, gracemaloy@gmail.com, hchildree@discvillage.com, heather@talwoman.com, hiﬁjazz@yahoo.com, jmclean@myquincy.net, jmmorgan@parkscrump.com, Judge.Flowers@FLCOURTS1.GOV, Karen@uwbb.org, keith@associa4onCFO.com, Kelly OYe (kelly.oYe@pacecenter.org), KenArmstrong (ken@kenarmstrong.biz), kjames897@gmail.com, leahgentrycleaning@yahoo.com, lester@bevshots.com, lisa@kanvasbeauty.com, longineuinfo@aol.com, lynn@talwoman.com, M.Akbar@AkbarLawFirm.com, majorsullivan@msn.com, marc@hunterandharp.com, mar4n_proctor@proctorcars.com, Michael.P.Dorgan@lexisnexis.com, mikegen4ne@clearchannel.com, mperuche@gmail.com, myon@questman1.com, page@pagerozelle.com, pa„emaney@gmail.com, Rachel.McPherson@ourclub.com, rachel@poboys.com, rengel@unitedwayescambia.org, rervin24@yahoo.com, ron@rlbookpa.com, sam@thegourdmastersamx.com, sarasmom18@comcast.net, sdick@talchamber.com, smokey@franklincountyﬂorida.com, susanjallen@comcast.net, TallyFTA@Gmail.com, thorntona@lsc.gov, Tony@Tallahasseegrapevine.com, UniVisGrp@aol.com, Veronica.Saavedra@blueprint2000.org, VicForsman@harvest-press.com, Vinse@ebﬂaw.com, vinse@tallahasseepersonalinjury.com, whitney@wowtally.com, william_staﬀord@ﬂnd.uscourts.gov, wings_benton@doh.state.ﬂ.us, Yrabedra6@aol.com, zach@on-callsupport.com, Alison Dodson, aloha@balihi.us, Alyce Lee Stansbury, Amanda Wasserstrom(awasserstrom@mitchstuart.com), AndreaKrieger, Andy, Anne Peery (annepeery@aol.com), Arnold McKay, Bannister, Lynn (Bill Nelson), Barbara DeVane, Beth Miles, bholt@gadsdencountyﬂ.gov, Bill Milford, BobDawson, Bowersox, Ben, Carmella Bugbee, Casey, Kay, cbelc2@comcast.net, Chris Gibson, Chris Hammond - TLFCU, ChrysIvey Goodwyne, Cindy Suhrweir, Connie Davis, Currie Leggoe, DavidFarran, Dayve Stewart, Debbie Bergstrom, Denise James, Denise Owens, denisehill9@comcast.net, Derek Sims, Eddie Dorman, ElizabethA. Horvath, ellynscanlan@aol.com, Fa4mah Jackson, Fortunas, Paula, fpr@wfsu.org, frank lynch, Fred, Gail Thompkins (gail4mail@comcast.net), gil@zi•erry.com, Gillum,Andrew, gypsygdd@aol.com, Harreen Ber4sch, hbosman@netzero.net, heinzfam@neYally.com, Howard Libin, IMPACT100 Grants, jack@4gen.org, JackiePugh, jamie christoﬀ, Jane Parsons (jane.parsons@proforma.com), jasonzabs@yahoo.com, Jean Bryant, Jean Crozier, Jeﬀ Price, Jenny Wells (info@imaginethatgi{baskets.com), Jim King, Jo Shoupe, Joann Capece, JoanneBaYle, Juanita Gaston, JudieMiller, Julia Causseaux, Jus4n Beltran, Karen ScoY, Kathy Winn, kristopher.dake@wellsfargo.com, LarryColtharp, Laura Clark, Leah M.Panton (lmpanton@aol.com), Lee Phillips, Linda Vaughn, Linda Young, Lou, Louis St Petery, LynnPeacock, Mark Russell, 'Marwood, Emily', mbunch25@embarqmail.com, Melissa Walton, Michelle Scheuermann, Mimi Graham, Monique Hrubak, NancyDahlberg, Nancy Saunders, order@lucyandleoscupcakery.com, Pam Bauer, Pam Davis, PamelaCayson, Pamela Ridley, pa„.butchikas@myﬂoridahouse.gov, Peg Dougherty, Phyllis Smith, Quincie Hamby, Rainey, Glenn, Randy Webster, RANIE THOMPSON, rdunkelberger@rowlandpublishing.com, Robet Stephenson, Robin.Wharton@ourclub.com, Robyn Downie, ron.hall@ﬁrstdata.com, Roxane Dow, roxane.dow@dep.state.ﬂ.us, Sandi Mitchell, Schardl, Ka4, Sherri Wellborn, spendler@earthlink.net, Sue Bunch, Taber, Judi, TasteBudz, 'terry hansen', The UPS Store 6044, Tom Flanigan, Tracy Rose home, turnbulm@tcc.ﬂ.edu, Unitarian Univeralist Church(oﬃce@uuct.comcastbiz.net), vaughnl@leonschools.net\"}  \n",
      "___allen nobles______   {' AllenNobles (allen@ncginc.com)'}  \n",
      "___allen renita dixon______   {' Allen Renita Dixon'}  \n",
      "___allen thompson cell______   {' TDIA Cell, Allen Thompson, Tedder, Wayne'}  \n",
      "___allen thompson com______   {' paige.tallahasseedowntown@gmail.com, Allen Thompson (thompsal@embarqmail.com)'}  \n",
      "___allen thompson net______   {' downtownmarket@earthlink.net, Allen Thompson (allen.tallahasseedowntown@gmail.com), Allen Thompson (thompsal@embarqmail.com)'}  \n",
      "___allen thompson smith______   {' Paige Carter-Smith, Allen Thompson, Audra PiDman, Faris, Alison, RatliﬀA@leoncountyﬂ.gov, megan@tallahasseearts.org', ' Paige Carter-Smith, Allen Thompson'}  \n",
      "___allie behrman______   {'Allie Behrman'}  \n",
      "___allie is fleming______   {'Fleming, Allie Is'}  \n",
      "___allie merzer______   {' Allie Merzer-Fleming', 'Allie Merzer', ' Allie Merzer <amerzerfleming@yahoo.com'}  \n",
      "___allie merzer fleming______   {' Allie Merzer Fleming (allie.fleming@talgov.com)', ' Allie Merzer Fleming', ' Allie Merzer Fleming (allie.fleming@talgov.com<mailto:allie.fleming@talgov.com>)'}  \n",
      "___allie merzerfleming______   {' Allie MerzerFleming (allie.fleming@talgov.com)'}  \n",
      "___allie om______   {' ALLIE OM'}  \n",
      "___allie vanlandingham______   {' Allie VanLandingham'}  \n",
      "___allison behiman______   {' Behiman, Allison'}  \n",
      "___allison behnnan______   {' Behnnan, Allison', 'Behnnan, Allison'}  \n",
      "___allison behrman cappel______   {' Danielle Cappel, Allison Behrman'}  \n",
      "___allison behrman thompson______   {' Allen Thompson, Allison Behrman, Paige Carter-Smith'}  \n",
      "___allison court______   {' Allison Court'}  \n",
      "___allison defoor______   {' Allison DeFoor'}  \n",
      "___allison eto______   {' Eto, Allison', ' Allison Eto'}  \n",
      "___allison fleming______   {' Allison Fleming'}  \n",
      "___allison fleming tanner______   {\" Brenda Tanner, Allison Fleming, M'Lisa Ingram\"}  \n",
      "___allison friedman______   {' Allison Friedman'}  \n",
      "___allison harrell______   {' Allison Harrell'}  \n",
      "___allison jones______   {'Allison Jones', ' AllisonJones', ' Allison Jones'}  \n",
      "___allison mccoy______   {' Allison McCoy'}  \n",
      "___allison monday behrman______   {' Behrman, Allison Monday, February 12, 2018 at 9:12:00 PM Eastern Standard Time', ' Behrman, Allison Monday, February 12, 2018 at 9:11:53 PM Eastern Standard Time'}  \n",
      "___allison northjones______   {' Allison NorthJones'}  \n",
      "___allison parish______   {' Allison Parish'}  \n",
      "___allison payne______   {'Allison Payne', 'Allison Payne [mailto:APayne@flcities.com]', ' Allison Payne'}  \n",
      "___allison rhyne______   {' Allison Rhyne'}  \n",
      "___allison s carvajal______   {' Carvajal,Allison S. (allison@rambaconsulting.com)', ' Carvajal, Allison S. (allison@rambaconsulting.com)'}  \n",
      "___allison scor______   {\" 'Allison ScoR'\"}  \n",
      "___allison scor brown______   {' Jessica Brown, Allison ScoR, Paige Carter-Smith, Ashley Edwards, Steve Adams, Nick Lowe,'}  \n",
      "___allison stribling______   {\" 'Allison Stribling'\", ' Allison Stribling'}  \n",
      "___allison tant______   {' Allison Tant', ' AllisonTant', ' Allison Tant(allisontant@comcast.net)'}  \n",
      "___allison tremper______   {\" 'Allison Tremper'\"}  \n",
      "___allison van iddekinge______   {\" 'Allison Van Iddekinge'\"}  \n",
      "___allisonnorth jones______   {' AllisonNorth Jones'}  \n",
      "___allisson yu______   {' Allisson Yu'}  \n",
      "___allpw allpw______   {' ALL_PW ALL_PW'}  \n",
      "___allyson saltzman______   {' Allyson Saltzman'}  \n",
      "___alma gonzalez______   {' AlmaGonzalez'}  \n",
      "___alma hubbard______   {' Alma Hubbard'}  \n",
      "___alma littles______   {' Alma Littles', ' Alma Littles <alma.littles@med.fsu.edu>'}  \n",
      "___aloft patsy______   {' Aloft Patsy'}  \n",
      "___aloft tallahassee______   {'GM- ALOFT TALLAHASSEE <jonathan.brashier@alofttallahasseedowntown.com'}  \n",
      "___alphonso jefferson______   {' Alphonso Jefferson'}  \n",
      "___altamead morgan______   {' Morgan, Altamead'}  \n",
      "___altha flowers manning______   {' Altha Flowers Manning'}  \n",
      "___althamese barnes______   {'Althamese Barnes <abarnes2619@gmail.com'}  \n",
      "___althemese pemberton barnes______   {' Althemese Pemberton Barnes (abarnes37@comcast.net)'}  \n",
      "___alton johnson______   {' Johnson, Alton'}  \n",
      "___alton royal______   {\" 'Alton royal'\"}  \n",
      "___alva striplin______   {' Alva Striplin'}  \n",
      "___alvarez annabel a______   {' Alvarez Annabel A'}  \n",
      "___alvin brown______   {' Alvin Brown'}  \n",
      "___alvin c williams______   {' Williams, Alvin C.'}  \n",
      "___alvin jackson______   {' Alvin Jackson', ' Alvin Jackson (alvinj@suwcounty.org)'}  \n",
      "___alvin johnson______   {' AlvinJohnson'}  \n",
      "___alvin paris______   {' Alvin Paris'}  \n",
      "___alvin peterson______   {' Peterson, Alvin', 'Peterson, Alvin'}  \n",
      "___alyce lee stansbury______   {' Alyce Lee Stansbury'}  \n",
      "___alyson rome______   {\" 'Alyson Rome-Stepina'\"}  \n",
      "___alyssa shipe______   {' Alyssa Shipe'}  \n",
      "___amanda aultman______   {' WTXL-Amanda Aultman'}  \n",
      "___amanda bedenbaugh______   {' Amanda Bedenbaugh'}  \n",
      "___amanda camper______   {' Camper, Amanda'}  \n",
      "___amanda curcio______   {'Curcio, Amanda', ' Curcio, Amanda'}  \n",
      "___amanda curcio com______   {'srossman@tallahassee.com, Amanda Curcio <acurcio@tallahassee.com>, \"tlwaters@tallahassee.com\" <tlwaters@tallahassee.com'}  \n",
      "___amanda ferwerda______   {' Amanda Ferwerda'}  \n",
      "___amanda fliger wood______   {' Amanda Fliger Wood'}  \n",
      "___amanda gaddis______   {'Amanda Gaddis <AGaddis@sniffenlaw.com'}  \n",
      "___amanda heidecker______   {' AmandaHeidecker', ' Heidecker, Amanda', ' Amanda Heidecker'}  \n",
      "___amanda karmanos______   {' Amanda Karmanos', 'Amanda Karmanos (art@karmanosprinting.com)'}  \n",
      "___amanda kinesphillips______   {' Amanda KinesPhillips'}  \n",
      "___amanda lewis______   {' Amanda Lewis'}  \n",
      "___amanda lowery______   {' Lowery, Amanda'}  \n",
      "___amanda m taylor______   {' Amanda M. Taylor <ataylor@sniffenlaw.com', 'Amanda M. Taylor <ataylor@sniffenlaw.com'}  \n",
      "___amanda ogle______   {' Amanda Ogle'}  \n",
      "___amanda pena______   {' Amanda Pena'}  \n",
      "___amanda rodriguez______   {' AmandaRodriguez', ' Amanda Rodriguez'}  \n",
      "___amanda russo______   {'Amanda Russo', ' Amanda Russo'}  \n",
      "___amanda sauer______   {' Amanda Sauer', 'Amanda Sauer'}  \n",
      "___amanda stringer______   {'Amanda Stringer <director@tallahasseesymphony.org'}  \n",
      "___amanda thompson______   {' Amanda Thompson', 'Amanda Thompson [mailto:amanda@tallahasseearts.org]', 'Amanda Thompson'}  \n",
      "___amanda vanlaningham______   {' Amanda VanLaningham'}  \n",
      "___amanda wasserstrom______   {' Amanda Wasserstrom (awasserstrom@mitchstuart.com)'}  \n",
      "___amanda whitaker______   {' Whitaker, Amanda'}  \n",
      "___amber bell______   {' Amber Bell'}  \n",
      "___amber caplan______   {' Amber Caplan-Miranda'}  \n",
      "___amber dennison______   {' Dennison, Amber'}  \n",
      "___amber m wagner______   {\" 'Wagner, Amber M.'\"}  \n",
      "___amber mills______   {' AmberMills (ambermillsc21@gmail.com)'}  \n",
      "___amber smalley______   {\" 'Smalley, Amber'\", 'Smalley, Amber [mailto:asmalley@fsu.edu]'}  \n",
      "___amber stoner______   {' Amber Stoner (amber.stoner@hcahealthcare.com)', ' Amber Stoner(amber.stoner@hcahealthcare.com)'}  \n",
      "___amber tookes______   {' Amber Tookes', ' AmberTookes'}  \n",
      "___amber tynan______   {' Amber Tynan', \" 'Amber Tynan'\"}  \n",
      "___amber williams______   {' Amber Williams'}  \n",
      "___ameer hart______   {' Hart, Ameer', ' Hart, Ameer <Ameer.Hart@talgov.com>'}  \n",
      "___amelia tillman______   {' Amelia Tillman'}  \n",
      "___amen ra center______   {\" Dana Dennard - Aaket Center, Amen Ra's\"}  \n",
      "___american city______   {'American City & County <americancityandcounty@pmipublic.com'}  \n",
      "___american express______   {' American Express (DoNotReplyUS@service.americanexpress.com)'}  \n",
      "___amon rwito______   {'Rwito, Amon'}  \n",
      "___amonda danielsemanuel______   {' DanielsEmanuel, Amonda'}  \n",
      "___amonda emanuel______   {' Daniels-Emanuel, Amonda <Amonda.DanielsEmanuel@talgov.com>', ' Daniels-Emanuel, Amonda', ' Daniels-Emanuel,Amonda'}  \n",
      "___amos durr______   {' Amos Durr (Business Fax)', ' Durr, Amos'}  \n",
      "___amy curran______   {' Amy Curran'}  \n",
      "___amy dice______   {' Dice, Amy'}  \n",
      "___amy evancho______   {' AmyEvancho'}  \n",
      "___amy griffin______   {' Griffin, Amy'}  \n",
      "___amy guthrie______   {' Amy Guthrie'}  \n",
      "___amy harllee______   {' Amy Harllee'}  \n",
      "___amy harter______   {' Amy Harter'}  \n",
      "___amy hyman______   {' Amy Hyman'}  \n",
      "___amy karimipour______   {' Amy Karimipour <amyk@akconsultinggroup.org'}  \n",
      "___amy lettelleir______   {' Amy Lettelleir'}  \n",
      "___amy lindner______   {' Amy Lindner'}  \n",
      "___amy matlock______   {' Amy Matlock'}  \n",
      "___amy mclean______   {'McLean, Amy <Amy.McLean@talgov.com', 'McLean, Amy', ' McLean, Amy'}  \n",
      "___amy mullins______   {' Mullins, Amy'}  \n",
      "___amy parks______   {'Amy Parks'}  \n",
      "___amy porter______   {' Amy Porter'}  \n",
      "___amy safriet______   {' Amy Safriet'}  \n",
      "___amy schwartz______   {' Amy Schwartz'}  \n",
      "___amy taylor______   {' Amy Taylor'}  \n",
      "___amy tuesday mclean______   {'McLean, Amy Tuesday, February 13, 2018 at 8:20:25 PM Eastern Standard Time'}  \n",
      "___amy wetherby______   {' Wetherby, Amy'}  \n",
      "___amy yandle______   {' Amy Yandle'}  \n",
      "___amye king______   {' Amye King'}  \n",
      "___amylynn harringtonfryar______   {' AmyLynn HarringtonFryar'}  \n",
      "___amylynn waters______   {' Amylynn Waters'}  \n",
      "___amymarie paniccia______   {' Vizzo-Paniccia, AmyMarie', '\"Vizzo-Paniccia, AmyMarie\" <amymarie.vizzopaniccia@Bridgeportct.gov', 'Vizzo-Paniccia, AmyMarie <amymarie.vizzo-paniccia@Bridgeportct.gov'}  \n",
      "___ana carroll______   {' Ana Carroll'}  \n",
      "___ana guerra______   {' Guerra, Ana', 'Guerra, Ana <Ana.Guerra@talgov.com', 'Guerra, Ana'}  \n",
      "___ana lopez______   {' Ana Lopez (al@citymart.com)'}  \n",
      "___ana maria sanchez______   {' Ana Maria Sanchez'}  \n",
      "___ana monday guerra______   {'Guerra, Ana Monday, February 12, 2018 at 9:11:57 PM Eastern Standard Time'}  \n",
      "___ana novoa______   {'Novoa, Ana [mailto:Ana.Novoa@Honeywell.com]'}  \n",
      "___analeese oppenheim______   {' Analeese Oppenheim'}  \n",
      "___analeese oppenheim oppenheim______   {' Rick Oppenheim, Analeese Oppenheim, Brianna Barnebee (bbarnebee@rboa.com)'}  \n",
      "___anastasia richmond______   {' anastasia richmond (anarichmond1@gmail.com)'}  \n",
      "___anderson______   {'Anderson Jr., Fred', ' Anderson Jr., Fred', ' Anderson Jr., Fred <Fred.Anderson@talgov.com>'}  \n",
      "___anderson joan______   {' Anderson Joan'}  \n",
      "___anderson lilly r______   {' Anderson Lilly R'}  \n",
      "___anderson paul______   {' Anderson Paul'}  \n",
      "___andra cornelius______   {' Andra Cornelius'}  \n",
      "___andre dupree______   {'Dupree, Andre'}  \n",
      "___andre hill______   {' Andre Hill <ahillentertainment@gmail.com'}  \n",
      "___andre johnson______   {' Johnson, Andre'}  \n",
      "___andre lange______   {' Andre Lange'}  \n",
      "___andre parke______   {' Andre Parke'}  \n",
      "___andre williams______   {' Williams, Andre'}  \n",
      "___andrea bennett______   {' Bennett, Andrea'}  \n",
      "___andrea busada______   {' Andrea Busada'}  \n",
      "___andrea ghiaroni______   {' Andrea Ghiaroni'}  \n",
      "___andrea jessup______   {' Andrea Jessup'}  \n",
      "___andrea krieger______   {' Andrea Krieger'}  \n",
      "___andrea l moore______   {' Andrea L. Moore'}  \n",
      "___andrea ledford______   {' Andrea Ledford'}  \n",
      "___andrea n______   {'Grif?n, Andrea (Human Resources)', ' Grif?n, Andrea (Neighborhood Services)'}  \n",
      "___andrea nelson______   {' Andrea Nelson', ' Nelson, Andrea'}  \n",
      "___andrea oliver______   {' Andrea Oliver'}  \n",
      "___andrea personett______   {' Andrea Personett'}  \n",
      "___andrea roberts______   {'Andrea Roberts <andrea@rarinc.com', 'Andrea Roberts <andrea rarinc.com'}  \n",
      "___andrea sistrunk______   {'Sistrunk, Andrea', 'Sistrunk, Andrea [mailto:Andrea.Sistrunk@talgov.com]'}  \n",
      "___andrea stephenson______   {'Andrea Stephenson (andrea.stephenson@schwab.com)'}  \n",
      "___andrea wilson______   {\"'Andrea Wilson'\", '\"\\'Andrea Wilson\\'\" <andrea@tallha.org'}  \n",
      "___andres bejerano______   {' Andres Bejerano'}  \n",
      "___andrew bascom______   {'ANDREW BASCOM'}  \n",
      "___andrew basham______   {' Andrew Basham'}  \n",
      "___andrew behrman______   {' Andrew Behrman'}  \n",
      "___andrew brown______   {' Brown, Andrew'}  \n",
      "___andrew d gillum______   {' Andrew D. Gillum (Andrew.Gillum@Talgov.com)'}  \n",
      "___andrew dixon______   {' Andrew Dixon'}  \n",
      "___andrew dolkart______   {' Andrew Dolkart'}  \n",
      "___andrew gay______   {' Gay, Andrew', ' Andrew Gay'}  \n",
      "___andrew gillams______   {'Andrew Gillams <Andrew.gillum@talgov.com', ' Andrew Gillams'}  \n",
      "___andrew gilliam______   {' Andrew Gilliam'}  \n",
      "___andrew gillium______   {' AndrewGillium', ' Andrew Gillium'}  \n",
      "___andrew gillum campaign______   {'Andrew Gillum Campaign'}  \n",
      "___andrew goldstein______   {' Andrew Goldstein'}  \n",
      "___andrew jbascom______   {' ANDREW JBASCOM (abascom@wradvisors.com)'}  \n",
      "___andrew mannheimer______   {' Andrew Mannheimer'}  \n",
      "___andrew meyer______   {\" 'Meyer,Andrew'\", ' Meyer, Andrew', \" 'Meyer, Andrew'\"}  \n",
      "___andrew miller______   {' Miller, Andrew'}  \n",
      "___andrew monday gillum______   {' Gillum, Andrew Monday, February 12, 2018 at 5:49:08 PM Eastern Standard Time <Andrew.Gillum@talgov.com>'}  \n",
      "___andrew patterson______   {' Andrew Patterson'}  \n",
      "___andrew plar______   {'PlaR, Andrew', ' PlaR, Andrew <Andrew.PlaR@talgov.com>'}  \n",
      "___andrew scanameo______   {' Andrew Scanameo (ascanameo@aol.com)', ' Dr. Andrew Scanameo'}  \n",
      "___andrew seltz______   {' Andrew Seltz'}  \n",
      "___andrew sossin______   {' Andrew Sossin'}  \n",
      "___andrew wiggins______   {' Andrew Wiggins'}  \n",
      "___andrew wilcox______   {' AndrewWilcox'}  \n",
      "___andrew wiles______   {' Dr. Andrew Wiles (Business Fax)', ' Dr. Andrew Wiles (Andrew@floridaeyes.org)'}  \n",
      "___andrew williams______   {\" 'Andrew Williams'\", ' Andrew Williams'}  \n",
      "___andrewj bascom______   {' ANDREWJ BASCOM (abascom@wradvisors.com)'}  \n",
      "___andrews gayle______   {' Andrews Gayle'}  \n",
      "___andrews johnny______   {' Andrews Johnny'}  \n",
      "___andrews robert f______   {' Andrews Robert F'}  \n",
      "___andy alcock______   {'Andy Alcock', 'Andy Alcock <andy.alcock@wctv.tv'}  \n",
      "___andy ansola______   {' Andy Ansola'}  \n",
      "___andy berentsen______   {' Andy Berentsen'}  \n",
      "___andy bundschuh______   {' Andy Bundschuh', ' <Andy Bundschuh'}  \n",
      "___andy comer______   {' Andy Comer'}  \n",
      "___andy davis______   {' Andy Davis (acdonfarm@yahoo.com)'}  \n",
      "___andy edel______   {' Andy Edel'}  \n",
      "___andy ford______   {' Ford, Andy (andyford@floridaea.org)', ' Andy Ford'}  \n",
      "___andy gay______   {' Andy Gay'}  \n",
      "___andy haggard______   {' Andy Haggard'}  \n",
      "___andy heath______   {' Heath, Andy'}  \n",
      "___andy j______   {' ANDY J'}  \n",
      "___andy jorishie______   {' Andy Jorishie'}  \n",
      "___andy lundberg______   {' Andy Lundberg'}  \n",
      "___andy mcleod______   {\" 'McLeod, Andy'\"}  \n",
      "___andy meresse______   {' Andy Meresse'}  \n",
      "___andy olive______   {'\"Andy Olive\" <andyolive@comcast.net'}  \n",
      "___andy plucinski______   {' Andy Plucinski'}  \n",
      "___andy reiss______   {' Andy Reiss', \" 'Andy Reiss'\", ' AndyReiss'}  \n",
      "___andy windsor______   {'Windsor, Andy [mailto:Andy.Windsor@deo.myflorida.com]'}  \n",
      "___aneen piotrowski______   {' }aneen Piotrowski'}  \n",
      "___ange rota______   {' Claude-Ange Rota'}  \n",
      "___angel charlton______   {' Charlton, Angel'}  \n",
      "___angela a suggs______   {' Suggs, Angela A.'}  \n",
      "___angela albert______   {' Angela Albert'}  \n",
      "___angela bier______   {' Angela Bier'}  \n",
      "___angela crist______   {' Angela Crist'}  \n",
      "___angela dempsey______   {' Angela Dempsey'}  \n",
      "___angela drzewiecki______   {' Angela Drzewiecki'}  \n",
      "___angela hemanes______   {' Hemanes, Angela', 'Hemanes, Angela'}  \n",
      "___angela monday baldwin______   {' Baldwin, Angela Monday, February 12, 2018 at 8:45:23 PM Eastern Standard Time <Angela.Baldwin@talgov.com>'}  \n",
      "___angela moore______   {' Angela Moore'}  \n",
      "___angela morlok______   {' Angela Morlok'}  \n",
      "___angela posillico______   {' Angela Posillico'}  \n",
      "___angela richardson______   {' Richardson, Angela'}  \n",
      "___angela rushing______   {' Angela Rushing'}  \n",
      "___angela salas______   {'Salas, Angela <Angela.Salas@talgov.com', ' Salas, Angela'}  \n",
      "___angela tuesday cooke______   {'Cooke, Angela Tuesday, February 13, 2018 at 8:26:01 PM Eastern Standard Time'}  \n",
      "___angela williams______   {' Williams, Angela'}  \n",
      "___angele mcquade______   {' Angele McQuade'}  \n",
      "___angelia hubbard______   {' Hubbard, Angelia'}  \n",
      "___angelica brown______   {'Brown, Angelica'}  \n",
      "___angelique dk anneli magee______   {' Angelique DK Anneli Magee'}  \n",
      "___angelyn coombs______   {' Angelyn Coombs'}  \n",
      "___angham habib______   {' Habib, Angham'}  \n",
      "___angi spiers______   {'Angi Spiers'}  \n",
      "___angie cain______   {' Angie Cain'}  \n",
      "___angie monday roberts______   {' Roberts, Angie Monday, February 12, 2018 at 9:11:54 PM Eastern Standard Time'}  \n",
      "___angie norris______   {'Angie Norris [mailto:angielnorris@gmail.com]', \" 'Angie Norris'\"}  \n",
      "___angie reid______   {\" 'Angie Reid'\", 'Angie Reid [mailto:angie.reid@ymail.com]'}  \n",
      "___angie taylor______   {' Taylor, Angie', 'Taylor, Angie'}  \n",
      "___angie wiggins______   {' Wiggins, Angie (angie.wiggins@famu.edu)', ' Angie Wiggins(angie.wiggins@FAMU.edu)'}  \n",
      "___angie wiggins w______   {' Angie Wiggins w/Florida A&M(angie.wiggins@famu.edu)'}  \n",
      "___ania amador______   {' Ania Amador', 'Ania Amador'}  \n",
      "___animal shelter foundation______   {'Animal Shelter Foundation [mailto:cara@tallyasf.org]'}  \n",
      "___anissa butler______   {'Anissa Butler [mailto:ybunua72@yahoo.com]', ' Anissa Butler <ybunua72@yahoo.com', \" 'Anissa Butler'\"}  \n",
      "___anita alston______   {'Anita Alston-Gore via LinkedIn <invitations@linkedin.com'}  \n",
      "___anita bono thompson______   {' Favors Thompson,Anita Bono, Michelle'}  \n",
      "___anita davis______   {' anita davis', '\"Anita Davis\" <anita@mckeeagency.com'}  \n",
      "___anita f thompson______   {'Anita F Thompson [mailto:talathompson@aol.com]', ' Anita F Thompson'}  \n",
      "___anita fleming thompson______   {' Favors Thompson, Anita Fleming, Allie <Allison.Fleming@talgov.com> on behalf of Maddox, Scott <Scott.Maddox@talgov.com'}  \n",
      "___anita morrell______   {' Morrell, Anita'}  \n",
      "___anita odom______   {'Anita Odom'}  \n",
      "___anitaflowers com______   {'andrew.gillum@talgov.com, anita.ﬂowers@talgov.com, rick.fernandez@talgov.com, Nancy Miller <Nancy.Miller@talgov.com>, scof <scof.maddox@talgov.com>, gil.ziﬀer@talgov.com, Mary Ann Lindley <lindleym@leoncountyﬂ.gov>, proctorb@leoncountyFL.gov, Bryan Desloge <bdesloge@icloud.com>, gary@zprgroup.com, village square <liz@tothevillagesquare.org>, William HaZield <whaZield@tallahassee.com>, Byron Dobson <BDobson@tallahassee.com', 'andrew.gillum@talgov.com, anita.ﬂowers@talgov.com, rick.fernandez@talgov.com, cur_s.richardson@talgov.com, Nancy Miller <Nancy.Miller@talgov.com>, gil.ziﬀer@talgov.com, scof <scof.maddox@talgov.com>, Mary Ann Lindley <lindleym@leoncountyﬂ.gov>, proctorb@leoncountyFL.gov, Bryan Desloge <bdesloge@icloud.com>, gary@zprgroup.com, village square <liz@tothevillagesquare.org', 'andrew.gillum@talgov.com, anita.ﬂowers@talgov.com, rick.fernandez@talgov.com, Nancy Miller <Nancy.Miller@talgov.com>, gil.ziﬀer@talgov.com, cur_s.richardson@talgov.com, proctorb@leoncountyFL.gov, lpifs@miamiherald.com, gary@zprgroup.com, village square <liz@tothevillagesquare.org>, alan.williams@myﬂoridahouse.gov, Bryan Desloge <bdesloge@icloud.com>, Byron Dobson <BDobson@tallahassee.com>, William HaZield <whaZield@tallahassee.com>, sfoster@tallahassee.com, gensley@tallahassee.com, \"Ray_bellamy@yahoo.com\" <Ray_bellamy@yahoo.com'}  \n",
      "___anitra akins______   {' Akins, Anitra'}  \n",
      "___anitra highland______   {' Highland, Anitra'}  \n",
      "___ann bidlingmaier______   {'\"ANN BIDLINGMAIER\" <annbid@embarqmail.com', 'ANN BIDLINGMAIER'}  \n",
      "___ann camp______   {' Ann Camp'}  \n",
      "___ann davis______   {' Ann Davis (ann@capitalareahealthystart.org)', ' Ann Davis'}  \n",
      "___ann english______   {' English, Ann-Michelle', 'English, Ann-Michelle'}  \n",
      "___ann floyd______   {' Ann Floyd <cfloydlucas@gmail.com'}  \n",
      "___ann ford______   {' Ann Ford'}  \n",
      "___ann howard______   {' AnnHoward', ' Ann Howard', \" Ann Howard, Ann's CustomCakes\"}  \n",
      "___ann hudgins______   {' Ann Hudgins'}  \n",
      "___ann kozeliskj______   {'Ann Kozeliskj'}  \n",
      "___ann l kimbrough______   {' Ann L. Kimbrough'}  \n",
      "___ann marie toebbe______   {' Toebbe, Ann Marie <atoebbe@colum.edu'}  \n",
      "___ann randolph______   {' Randolph, Ann'}  \n",
      "___ann rogers______   {' Ann Rogers'}  \n",
      "___ann ruth figg______   {' Ann Ruth Figg'}  \n",
      "___ann wild______   {' Ann Wild'}  \n",
      "___anna brandt______   {' Anna Brandt'}  \n",
      "___anna duren______   {' Anna Duren', ' Anna Duren (aduren@BWOFish.com)'}  \n",
      "___anna johnson rieddel______   {\" 'Anna Johnson Rieddel'\", ' Anna Johnson Rieddel'}  \n",
      "___anna johnson riedel______   {\" 'Anna Johnson Riedel'\"}  \n",
      "___anna jones______   {' Anna Jones'}  \n",
      "___anna king______   {' Anna King (Cabellos)'}  \n",
      "___anna marie garcia______   {' Anna Marie Garcia'}  \n",
      "___anna padilla______   {' Padilla, Anna'}  \n",
      "___anne betancourt______   {' AnneBetancourt'}  \n",
      "___anne hodges______   {' Anne Hodges'}  \n",
      "___anne hogan______   {' Hogan,Anne', ' Hogan, Anne'}  \n",
      "___anne jackson______   {' AnneJackson'}  \n",
      "___anne marie capelli______   {' Anne Marie Capelli'}  \n",
      "___anne marie perine______   {' Anne Marie Perine'}  \n",
      "___anne powell______   {' Anne Powell'}  \n",
      "___anne roise______   {' Anne Roise'}  \n",
      "___anne sallee______   {' Anne Sallee'}  \n",
      "___anne swerlick______   {' AnneSwerlick', ' Anne Swerlick'}  \n",
      "___anneleise oppenheim______   {' AnneleiseOppenheim'}  \n",
      "___anneli nystrand______   {' Anneli Nystrand (anneli@abode.cc)'}  \n",
      "___anneliese com______   {' karenaviva@hotmail.com, Anneliese (OR), Adrianne Miller'}  \n",
      "___anneliese yordon______   {' Gary Yordon, Anneliese (OR)'}  \n",
      "___annella bugbee______   {' annella Bugbee'}  \n",
      "___annese brown______   {' Brown, AnneSe'}  \n",
      "___annet forkink______   {' Annet Forkink'}  \n",
      "___annette brown______   {'Brown, Annette'}  \n",
      "___annette bullock______   {' Annette Bullock'}  \n",
      "___annette roberts______   {' Annette Roberts'}  \n",
      "___annie brown______   {' Brown, Annie', ' Brown,Annie'}  \n",
      "___annie jo martin______   {' Annie Jo Martin'}  \n",
      "___annie proctor______   {' Annie Proctor', ' AnnieProctor'}  \n",
      "___annie s harris______   {' Annie S. Harris', ' Annie S. Harris (anniesharris01@gmail.com)', \" 'Annie S. Harris (anniesharris01@gmail.com)'\"}  \n",
      "___annmarie hunt______   {' Hunt, AnnMarie'}  \n",
      "___anqie whitaker______   {' Whitaker, Anqie <Anqie.Whitaker@talqov.com'}  \n",
      "___anshu arora______   {' Anshu Arora', ' AnshuArora', 'Anshu Arora'}  \n",
      "___anstead harry______   {' Anstead Harry & Sue'}  \n",
      "___anthony britto______   {' Anthony Britto'}  \n",
      "___anthony bulzone______   {' Anthony Bulzone'}  \n",
      "___anthony compos______   {' Anthony Compos'}  \n",
      "___anthony davis______   {\" Anthony Davis ('acdevents@yahoo.com')\", ' Anthony Davis (acdevents28@gmail.com)', ' Anthony Davis (anthony@tallha.org)'}  \n",
      "___anthony denver conner albanese______   {' Albanese, Anthony Denver Conner, Michael Labor Analytics', 'Sara Saxner. Albanese, Anthony Denver Conner, Michael Labor Analytics', 'Albanese, Anthony Denver Conner, Michael Labor Analytics'}  \n",
      "___anthony dillon______   {' Dillon, Anthony'}  \n",
      "___anthony dixon______   {' anthony dixon'}  \n",
      "___anthony espinosa______   {' Espinosa, Anthony'}  \n",
      "___anthony f dimarco______   {' Anthony F. DiMarco(adimarco@floridabankers.com)', ' Anthony F. DiMarco (adimarco@floridabankers.com)'}  \n",
      "___anthony footman______   {' Anthony Footman', ' AnthonyFootman'}  \n",
      "___anthony gaudio______   {' Anthony Gaudio'}  \n",
      "___anthony guerriero______   {' Guerriero, Anthony'}  \n",
      "___anthony hall______   {' Anthony Hall (ahall@ahalllaw.net)', ' Anthony Hall (E-mail)'}  \n",
      "___anthony henry______   {' Anthony Henry', ' Henry, Anthony'}  \n",
      "___anthony jackson______   {' Anthony Jackson'}  \n",
      "___anthony jones______   {' Jones, Anthony'}  \n",
      "___anthony king______   {' AnthonyKing'}  \n",
      "___anthony law______   {' Anthony Law'}  \n",
      "___anthony lewis______   {' Anthony Lewis'}  \n",
      "___anthony maccarone______   {' Maccarone, Anthony', 'Maccarone, Anthony [mailto:Anthony.Maccarone@talgov.com]', \"'Maccarone, Anthony'\"}  \n",
      "___anthony man______   {' Anthony Man'}  \n",
      "___anthony mazzarese______   {' Anthony Mazzarese'}  \n",
      "___anthony meriano______   {' Anthony Meriano'}  \n",
      "___anthony moore______   {'\"Moore, Anthony\" <Anthony.Moore@talgov.com>, \"Brown, Melvin T.\" <Melvin.Brown@talgov.com>, \"Hamrick, Jimmy\" <Jimmy.Hamrick@talgov.com>, \"Hawkins, Jeff\" <Jeff.Hawkins@talgov.com', ' Moore, Anthony', '\"Moore, Anthony\" <Anthony.Moore@talgov.com>, \"Brown, Melvin T.\" <Melvin.Brown@talgov.com>, \"Hamrick, Jimmy\" <Jimmy.Hamrick@talgov.com>, \"Hawkins, Jeﬀ\" <Jeﬀ.Hawkins@talgov.com'}  \n",
      "___anthony murgio______   {' Anthony Murgio'}  \n",
      "___anthony pedicini gillum______   {' Andrew Gillum, Anthony Pedicini, Representa.ve Holly Raschein, Dus.n Daniels, Heather Fitzenhagen, Darryl Jones, Ryan Grindler, Christopher Leandri, Andy Mahoney, Elle Mahoney, Jon Hage, Mark Bonn, Sheela Van Hoose, Nick Lowe, Ed Mansouri, Michael Xifaras, Steve Adams, Edward Kring, Garren Glachman, ScoD Maddox, Trimmel Gomes, Randall Charles Mills, Jose Arias Cristancho, Jamie Van Pelt, Cody Schwarz, Andrew Gillum, Marcus Gillum, Paige Carter-Smith, J. Chris.an Minor, Daniel Sinor Monday, February 12, 2018 at 8:18:00 PM Eastern Standard Time Paige Carter-Smith, J. Chris.an Minor, Daniel Sinor'}  \n",
      "___anthony pun______   {' Anthony Pun'}  \n",
      "___anthony rising______   {'Anthony Rising'}  \n",
      "___anthony snipes______   {' Anthony Snipes - City of Austin (Business Fax)', ' Anthony Snipes (snipes2801@gmail.com)'}  \n",
      "___anthony w hopson______   {' Anthony W. Hopson'}  \n",
      "___anthony washington______   {' Anthony Washington'}  \n",
      "___anthony washington ii______   {' Anthony Washington II'}  \n",
      "___antoinette farmer______   {' FARMER, ANTOINETTE'}  \n",
      "___anton gunn______   {' Anton Gunn'}  \n",
      "___antonetti deborah______   {'Antonetti Deborah', ' Antonetti Deborah'}  \n",
      "___antonio jackson______   {' Jackson, Antonio'}  \n",
      "___antonio jefferson______   {' Antonio Jefferson (ajefferson@mygretna.com)', ' Antonio Jefferson', \" 'Antonio Jefferson (ajefferson@mygretna.com)'\"}  \n",
      "___antonio rainey______   {' Antonio Rainey'}  \n",
      "___antonio t 1sg usarmy anderson______   {' Anderson, Antonio T 1SG USARMY (US)'}  \n",
      "___antwan pennywell______   {' Pennywell, Antwan'}  \n",
      "___anuj patel______   {' Anuj Patel'}  \n",
      "___appointed officials______   {'Appointed Officials', ' AppointedOfficials', ' Appointed Officials'}  \n",
      "___april crawford______   {' Crawford, April'}  \n",
      "___april friday______   {' Friday, April 28, 2017 at 8:42:52 AM Eastern Daylight Time', ' Friday, April 07, 2017 4:16 PM'}  \n",
      "___april hammonds______   {'Hammonds, April [mailto:April.Hammonds@myfloridalicense.com]', 'Hammonds, April'}  \n",
      "___april monday______   {' Monday, April 10, 2017 at 3:42:18 PM Eastern Daylight Time Kring, Edward Johansen, Jay, Faulkner, Trevor, May, Andrew, Hubbard, Kevin, Paige Carter-Smith, Faris, Alison, City Hall Florida Room', ' Monday, April 15, 2013 12:35 PM'}  \n",
      "___april mosley schoen______   {' April Mosley Schoen'}  \n",
      "___april murphy______   {'April Murphy'}  \n",
      "___april murray______   {' April Murray'}  \n",
      "___april penton______   {' April Penton'}  \n",
      "___april salter com______   {' bsmith@ccbg.com, April Salter, Sue Dick, Bob@jamesmadison.org, mark.obryant@tmh.org, Pat4017@comcast.net, melvinpopeiii@gmail.com, pasksd@tcc.ﬂ.edu, turnbull@tcc.ﬂ.edu, JackiePons (ponsj@leonschools.net), Gary Yordon, DozierK@leoncountyﬂ.gov, anita.favors.thompson@talgov.com, longv@leoncountyﬂ.gov, sdixon@primemeridianback.com, Dr. NancyVanVessem, Anna Johnson-Riedel, ron@sachsmedia.com, murdaugj@tcc.ﬂ.edu, Audra Pifman (audrapifman@gmail.com), Loranne Ausley, DominicCalabro, John Hogan, SheilaCos_gan, Kim Williams, KarenMoore, Bill MonZord, elmira.mangum@famu.edu, Steve Evans, Dean Ridings, SteveUhlfelder, Rep. Alan Williams, Michelle Rehwinkle Vasilinda, Ed Murray, JerryOsteryoung, LongV@LeonCountyFL.gov, DaileyJ@leoncountyﬂ.gov, MaddoxN@LeonCountyFl.gov, ProctorB@LeonCountyFl.gov, SaulsJ@LeonCountyFl.gov'}  \n",
      "___april showers______   {'Showers, April (April.Showers@talgov.com)', ' Showers, April', 'Showers, April'}  \n",
      "___april thornton______   {' Thornton, April', 'Thornton, April'}  \n",
      "___april white______   {' APRIL WHITE <WHITEAP@tcc.fl.edu'}  \n",
      "___apthorp cheri______   {' Apthorp Cheri'}  \n",
      "___aquatic management inc______   {' Aquatic Management Inc. <pat@aquaticms.com'}  \n",
      "___aquigley3 com______   {' , \"linda hunkiar\", ,goalie523@gmail.com, aquigley3@gmail.com, ryanchulak@yahoo.com,sissonbc@gmail.com, grant.gergen@yahoo.com, smith.montgomery@yahoo.com,ursulamcpv@gmail.com, victoria.glad8@yahoo.com, jhunkiar@comcast.net,lirock13@comcast.net, fsuyork2006@yahoo.com, \"Roberts, Amy\"<adr9196@gmail.com>, \"Kimbler, Donald\" <octamtools@yahoo.com>, \"neilrambana\" <neil@rambana.com>, \"Kramer, Clara'}  \n",
      "___aragon jacquieline m______   {' Aragon Jacquieline M'}  \n",
      "___arceneaux scott______   {' Arceneaux Scott'}  \n",
      "___architectural review board______   {' Architectural Review Board'}  \n",
      "___architecture by design______   {'Architecture By Design'}  \n",
      "___ardell brede______   {' Ardell Brede'}  \n",
      "___are white______   {'White, Ar.e', ' White, Ar.e', ' White, Ar.e, Christesen, Julie'}  \n",
      "___aree white______   {' White, Aree'}  \n",
      "___arek sarkissian______   {' Arek Sarkissian'}  \n",
      "___aretha benavides______   {' Ferrell-Benavides, Aretha (EOM) (aretha.ferrellbenavides@dc.gov)'}  \n",
      "___aretha ferrell______   {' Aretha Ferrell (Email)'}  \n",
      "___arian lyons______   {' arian Lyons'}  \n",
      "___arin demay______   {' Arin DeMay'}  \n",
      "___aristole maccow______   {' Aristole Maccow'}  \n",
      "___arlene connelly______   {' ArleneConnelly'}  \n",
      "___arlene toner______   {\" 'Arlene Toner'\"}  \n",
      "___armagost tanner w______   {' Armagost Tanner W'}  \n",
      "___armand cognetta______   {' Armand Cognetta'}  \n",
      "___armando gallardo______   {' Armando Gallardo'}  \n",
      "___armando trabanco______   {' Armando Trabanco'}  \n",
      "___armstrong alexandria r______   {' Armstrong Alexandria R'}  \n",
      "___armstrong ken______   {' Armstrong Ken'}  \n",
      "___arnetria thomas______   {'Thomas, Arnetria [mailto:Arnetria.Thomas@talgov.com]', ' Thomas, Arnetria', 'Thomas, Arnetria'}  \n",
      "___arnie arnold______   {' Arnold, Arnie', ' Arnold,Arnie'}  \n",
      "___arnold mckay______   {' Arnold McKay'}  \n",
      "___arriaza bakery inc______   {' Arriaza Bakery Inc.'}  \n",
      "___arrington reynolds______   {' Arrington Reynolds'}  \n",
      "___arrowhead enterprises______   {' Arrowhead Enterprises'}  \n",
      "___arrowood jeffrey______   {\" 'Arrowood Jeffrey'\"}  \n",
      "___art bond______   {' Art Bond'}  \n",
      "___art carlson______   {' Art Carlson'}  \n",
      "___art cleveland______   {' ArtCleveland'}  \n",
      "___art graham______   {' Art Graham'}  \n",
      "___art myers______   {' WCTV-Art Myers'}  \n",
      "___art odeneal______   {' Art Odeneal'}  \n",
      "___art piss______   {' PiSs, Art', ' PiSs, Art <Arthur.PiSs@talgov.com>'}  \n",
      "___art pitts______   {' Pitts, Art <Arthur.Pitts@talgov.com>', ' Pitts, Art', 'Pitts, Art'}  \n",
      "___art saey______   {' Art Saey'}  \n",
      "___art smith______   {' Art Smith'}  \n",
      "___art weiss______   {' ArtWeiss'}  \n",
      "___artak khachaturyan______   {' Khachaturyan, Artak', ' Khachaturyan, Artak <Artak.Khachaturyan@talgov.com>'}  \n",
      "___arthur lawson______   {' Arthur Lawson'}  \n",
      "___arthur lugisse______   {' Arthur Lugisse (alugisse@gmail.com)'}  \n",
      "___arthur messina______   {' Arthur Messina'}  \n",
      "___arthur morin______   {'Arthur Morin [mailto:arthurmorin64@gmail.com]'}  \n",
      "___arthur silber______   {\" 'Arthur Silber'\"}  \n",
      "___arthur stone______   {' Arthur Stone'}  \n",
      "___arthurf courtney______   {' Courtney, ArthurF.'}  \n",
      "___artie sellars______   {' Sellars, Artie'}  \n",
      "___artie white______   {'White, Artie', ' Artie White', ' White, Artie'}  \n",
      "___artistic flowers______   {' Artistic Flowers (Business Fax)'}  \n",
      "___arturo hernandez______   {'Arturo Hernandez <ibpconsultant@yahoo.com', 'Arturo Hernandez <af@wanadoo.fr'}  \n",
      "___arturo lugisse______   {' Arturo Lugisse - TLH/SXM Maarten Sister City (Business Fax)', ' Arturo Lugisse (Positivebuy@hotmail.com)', \" 'Arturo Lugisse(Positivebuy@hotmail.com)'\"}  \n",
      "___arwen bruimer______   {' Arwen Bruimer'}  \n",
      "___arwen brunner______   {'Arwen Brunner', ' Arwen Brunner <abrunner@napleton.com>', ' Arwen Brunner'}  \n",
      "___arwen john minas______   {' Arwen John Minas'}  \n",
      "___ary miller______   {' Ary Miller(ary_miller@doh.state.fl.us)'}  \n",
      "___aryne linder______   {' Aryne Linder'}  \n",
      "___asbey aleia k______   {' Asbey Aleia K'}  \n",
      "___asena alhan______   {' Asena Alhan'}  \n",
      "___aseralled rafael m______   {' aseralleD Rafael M'}  \n",
      "___ash alphonso______   {' Ash Alphonso'}  \n",
      "___ashane messias______   {'Ashane Messias-Smith <amessias@broward.edu>, Avis McCoy <amccoy@broward.edu>, \"J. David Armstrong\" <darmstro@broward.edu>, \"Fleming, Allie\" <Allison.Fleming@talgov.com'}  \n",
      "___ashante petties______   {' Petties, Ashante'}  \n",
      "___ashanti messias______   {'Ashanti Messias-Smith <amessias@broward.edu>, Avis McCoy <amccoy@broward.edu>, \"J. David Armstrong\" <darmstro@broward.edu>, \"Fleming, Allie\" <Allison.Fleming@talgov.com'}  \n",
      "___ashely edwar ds______   {' Ashely Edwar ds <ashel y.edwa rds@ta lgov.co m>, Judith Donah oe <Judy. Donah oe@tal gov.co m'}  \n",
      "___ashlea jackson______   {' Ashlea Jackson'}  \n",
      "___ashlee becra______   {' Ashlee Becra{'}  \n",
      "___ashlee becraft______   {' Ashlee Becraft', ' AshleeBecraft'}  \n",
      "___ashlee pouncy______   {' Ashlee Pouncy'}  \n",
      "___ashley adams______   {' Ashley Adams'}  \n",
      "___ashley ames______   {\" 'Ames, Ashley'\"}  \n",
      "___ashley barton______   {' Ashley Barton'}  \n",
      "___ashley brown______   {'Brown, Ashley <anb13j@my.fsu.edu'}  \n",
      "___ashley chaney______   {\" 'Ashley Chaney'\"}  \n",
      "___ashley dalley______   {' AshleyDalley'}  \n",
      "___ashley edwards adams______   {' Steve Adams, Ashley Edwards, Allison ScoR, Jessica Brown, Nick Lowe'}  \n",
      "___ashley edwards tucker______   {' Brian Tucker, Ashley Edwards, Jessica Brown, Adam Corey, Nick Lowe'}  \n",
      "___ashley ei______   {' Ashley Ei'}  \n",
      "___ashley farrell______   {' Farrell, Ashley'}  \n",
      "___ashley gay______   {' Gay, Ashley'}  \n",
      "___ashley grey______   {' Ashley Grey'}  \n",
      "___ashley haney______   {\" 'Ashley haney'\"}  \n",
      "___ashley kerns______   {' Ashley Kerns'}  \n",
      "___ashley lang______   {' Ashley Lang (ashelyl@langmechanical.net)'}  \n",
      "___ashley m daniels______   {' Ashley M. Daniels', \" 'Ashley M. Daniels'\"}  \n",
      "___ashley nevels______   {' Ashley Nevels'}  \n",
      "___ashley rutstein______   {' Ashley Rutstein'}  \n",
      "___ashley s edwards______   {' Ashley S.Edwards'}  \n",
      "___ashley smith herndon______   {' Ashley Smith Herndon'}  \n",
      "___ashley white______   {' White, Ashley'}  \n",
      "___ashmore michele r______   {' Ashmore Michele R'}  \n",
      "___ashton hayward______   {' Ashton Hayward'}  \n",
      "___assidy mills______   {' assidy Mills'}  \n",
      "___assistant at villa dylano______   {' Assistant at Villa Dylano'}  \n",
      "___asstchief glenn sapp______   {' Asst.Chief Glenn Sapp', ' Asst.Chief Glenn Sapp (gsapp@myquincy.net)'}  \n",
      "___at the mary brogan museum______   {' At the Mary Brogan Museum'}  \n",
      "___athena gill______   {' Gill, Athena'}  \n",
      "___athletics div______   {' Parks & Recreation - Athletics Div'}  \n",
      "___atiba madyun______   {' Atiba Madyun'}  \n",
      "___atkins carol______   {' Atkins Carol'}  \n",
      "___atkins courtney______   {' Atkins Courtney'}  \n",
      "___atkins kathy______   {' Atkins Kathy'}  \n",
      "___atkins linville______   {' Atkins Linville'}  \n",
      "___att02864txt pdf______   {' AHachments: Trolley Business Interest Mee-ng.pdf, ATT02864.txt'}  \n",
      "___att02882txt pdf______   {' AHachments: Trolley Business Interest Mee-ng.pdf, ATT02882.txt'}  \n",
      "___attaway jacklyn a______   {' Attaway Jacklyn A'}  \n",
      "___attorney richard bisbee______   {' Attorney Richard Bisbee'}  \n",
      "___au peche mignon gans______   {' Joey Gans,Au Peche Mignon'}  \n",
      "___aubrey carroll______   {' Carroll, Aubrey'}  \n",
      "___aubrey upshur______   {' Upshur, Aubrey', ' AubreyUpshur'}  \n",
      "___aubry hawks______   {' Aubry Hawks'}  \n",
      "___aubry hawks miller______   {' Adrianne Miller, Aubry Hawks, Anneliese (OR), Gary Yordon, Cynthia.Barber@talgov.com'}  \n",
      "___audra davis______   {' Audra Davis'}  \n",
      "___audra pidman______   {'Audra PiDman'}  \n",
      "___audra pidman thompson______   {' Allen Thompson, Audra PiDman, Faris, Alison, Kring, Edward, RatliﬀA@leoncountyﬂ.gov, megan@tallahasseearts.org'}  \n",
      "___audra pifman______   {' Audra Pifman <audra@tallahasseearts.org>', ' Audra Pifman', ' Audra Pifman (audrapifman@gmail.com)'}  \n",
      "___audra pifman amanda______   {' Amanda, Audra Pifman, Fernandez, Rick, Paige Carter-Smith'}  \n",
      "___audra piman______   {' Audra Pi_man <audra@tallahasseearts.org>', ' Audra Pi_man (audrapi_man@gmail.com), Paige Carter-Smith'}  \n",
      "___audra piman thompson______   {' Allen Thompson, Audra Pi_man, Faris, Alison, Kring, Edward, RatliﬀA@leoncountyﬂ.gov,'}  \n",
      "___audra pirman smith______   {' Paige Carter-Smith, Audra PiRman, McCray, Patricia'}  \n",
      "___audra pisman______   {\" 'Audra PiSman (Audra@cocanet.org)' <Audra@cocanet.org>\"}  \n",
      "___audra piyman______   {' Audra PiYman (audrapiYman@gmail.com)'}  \n",
      "___audra price pittman______   {' Audra Price Pittman'}  \n",
      "___audrey drake______   {' Drake,Audrey'}  \n",
      "___audrey e post______   {' Audrey E. Post'}  \n",
      "___audrey kilts______   {' Audrey Kilts'}  \n",
      "___audrey moore______   {' Audrey Moore'}  \n",
      "___audrey post______   {' AudreyPost'}  \n",
      "___audrey r smith______   {' Smith, Audrey R', ' Smith, Audrey R <Audrey.Smith@talgov.com>', 'Smith, Audrey R'}  \n",
      "___august friday______   {' Friday, August 16, 2013 2:14 PM Mayor & City Commissioners', ' Friday, August 19, 2016 at 9:51:54 PM Eastern Daylight Time'}  \n",
      "___august monday______   {' Monday, August 10, 2015 11:52 AM'}  \n",
      "___august saturday______   {' Saturday, August 20, 2016 at 10:18:31 PM Eastern Daylight Time', ' Saturday, August 19, 2017 at 10:42:52 AM Eastern Daylight Time'}  \n",
      "___august sunday______   {' Sunday, August 21, 2016 at 9:32:04 AM Eastern Daylight Time Paul LaMaster srossman@tallahassee.com, sfoster@tallahassee.com, ratwood@tallahassee.com, jportman@tallahassee.com, whazield@tallahassee.com, bdobson@tallahassee.com, acurcio@tallahassee.com, jburlew@tallahassee.com, jcall@tallahassee.com, jjhenry@tallahassee.com, lking@gannei.com, keiers@tallahassee.com, bcoierell@tallahassee.com, PBDockery@gmail.com, lpiis@miamiherald.com, eugenerobinson@washpost.com, cynthia@cynthiatucker.com, kathleenparker@washpost.com, ProctorB@leoncountyﬂ.gov, jerry.osteryoung@gmail.com, negron.joe.web@ﬂsenate.gov, monzord.bill.web@ﬂsenate.gov, Narayan.persaud@comcast.net, robertsw1@comcast.net, ray.bellamy@med.fsu.edu, ksmiller@fsu.edu, notesonnonproﬁts@gmail.com, gary@zprgroup.com, devoe@tacm.com, barney@barneybishop.com, merryannf@yahoo.com, billhoatson@yahoo.com, rick.fernandez@talgov.com, andrew.gillum@talgov.com, curUs.richardson@talgov.com, nancy.miller@talgov.com, scoi.maddox@talgov.com, gil.ziﬀer@talgov.com Would it not be much more exciUng and meaningful if the Tallahassee Democrat reporter Sean Rossman reported that Tallahassee is ge{ng a slew of industries that will provide thousands of good paying good beneﬁt career jobs for our unemployed in South City Tallahassee.  In Leon County District 2.  In other local improvised areas.  The underemployed throughout Tallahassee and Leon County.  What excitement, what hope does a Piggly Wiggle grocery store, an organic grocery store.  Yes, the segregated south side needs grocery stores and to be less dependent on government.  That means good paying good beneﬁt career jobs.  Like the ones the local poliUcians and their bureaucrats have. Time to get serious about actually bringing good paying good beneﬁt jobs to the impoverished ciUzens. Sent from my iPad'}  \n",
      "___august thursday______   {' Thursday, August 20, 2015 at 2:37:18 PM Eastern Daylight Time', ' Thursday, August 20, 2015 at 2:01:37 PM Eastern Daylight Time'}  \n",
      "___august tuesday______   {' Tuesday, August 9, 2016 at 6:02:15 PM Eastern Daylight Time paige.tallahasseedowntown@gmail.com (sent by Google Calendar <calendarnoeﬁcaeon@google.com>)'}  \n",
      "___august ursin______   {'Ursin, August <August.Ursin@flhealth.gov', 'Ursin, August'}  \n",
      "___august wednesday______   {' Wednesday, August 31, 2016 at 10:49:49 AM Eastern Daylight Time', ' Wednesday, August 31, 2016 at 1:15:27 PM Eastern Daylight Time paige.tallahasseedowntown@gmail.com (sent by Google Calendar <calendarnoeﬁcaeon@google.com>)', ' Wednesday, August 31, 2016 at 12:58:43 PM Eastern Daylight Time paige.tallahasseedowntown@gmail.com (sent by Google Calendar <calendarnoeﬁcaeon@google.com>)'}  \n",
      "___augustus aikens______   {' Augustus Aikens'}  \n",
      "___aurell john and jane______   {' Aurell John and Jane'}  \n",
      "___aurora hansen______   {' Hansen, Aurora'}  \n",
      "___ausey johnson______   {\" 'Ausey Johnson'\"}  \n",
      "___aushley patterson______   {' aushley Patterson (aushley1.patterson@gmail.com)'}  \n",
      "___ausley net______   {' loranne@ausley net'}  \n",
      "___austin alrick s______   {' Austin Alrick S'}  \n",
      "___austin davidson______   {' Austin Davidson'}  \n",
      "___austin mancuso______   {' Austin Mancuso'}  \n",
      "___austin simpson______   {' Austin Simpson'}  \n",
      "___austin verlis l______   {' Austin Verlis L'}  \n",
      "___austin zorn______   {\" 'Zorn, Austin'\"}  \n",
      "___austinmichael mancuso______   {' AustinMichael Mancuso'}  \n",
      "___auto trim______   {' Auto Trim (atdsigns@comcast.net)'}  \n",
      "___avant david______   {' Avant David'}  \n",
      "___avantra stroud______   {' Avantra Stroud'}  \n",
      "___avery d mcknight______   {'McKnight, Avery D.', ' McKnight, Avery D.'}  \n",
      "___avery mcknight______   {' Avery McKnight (avery.mcknight@famu.edu)', ' Avery McKnight', ' Avery McKnight(avery.mcknight@famu.edu)'}  \n",
      "___avi frier______   {' AviFrier'}  \n",
      "___aviapon department group______   {' Architectural Sevices DistribuPon Group, AviaPon Department, Blue Print 2000, Building Services,'}  \n",
      "___aviation department______   {' Aviation Department'}  \n",
      "___aviation executive______   {' AviationExecutive', ' Aviation Executive'}  \n",
      "___avilus kristen n______   {' Avilus Kristen N'}  \n",
      "___aviva baer______   {' AvivaBaer'}  \n",
      "___awadi abdo______   {' Al-Awadi Abdo'}  \n",
      "___awady abdo______   {' Al-Awady Abdo'}  \n",
      "___azita behmarda______   {' Azita Behmarda'}  \n",
      "___aziz abdullah______   {' Abdullah, Aziz', ' Abdullah, Aziz <Aziz.Abdullah@talgov.com>'}  \n",
      "___babefe barnes______   {' Babefe Barnes (babefe.barnes@talgov.com)'}  \n",
      "___bacchus wine bar delarber______   {' Matt Delarber, Bacchus Wine Bar, LLC'}  \n",
      "___bacon robert______   {' Bacon Robert \"Bobby\"'}  \n",
      "___bacon robert bobby______   {' Bacon Robert Bobby'}  \n",
      "___bagel bagel cafe stout______   {' John Stout, Bagel Bagel Café'}  \n",
      "___bahia ramos______   {' Bahia Ramos-Synott'}  \n",
      "___bahram arjmandi______   {' Arjmandi, Bahram'}  \n",
      "___bailee polk______   {' Bailee Polk'}  \n",
      "___bailey dabney______   {' Bailey Dabney'}  \n",
      "___bailey denise l______   {' Bailey Denise L'}  \n",
      "___bailey hild______   {' Bailey Hild'}  \n",
      "___bailey vochatzer cfo______   {' Bailey Vochatzer CFO', \" 'Bailey Vochatzer CFO'\"}  \n",
      "___bait gimter______   {' Bait Gimter'}  \n",
      "___bait glmter______   {' Bait Glmter'}  \n",
      "___bajerski donna n______   {' Bajerski Donna N'}  \n",
      "___bakari mcclendon______   {' Bakari McClendon', ' Bakari McClendon (bakari.mcclendon@gmail.com) (bakari.mcclendon@gmail.com)'}  \n",
      "___baker ginger______   {' Baker Ginger'}  \n",
      "___baker wilmmoth h______   {' Baker Wilmmoth H III'}  \n",
      "___baldwin smith______   {' Paige Carter-Smith, Baldwin, Angela, Johansen, Jay', ' Paige Carter-Smith, Baldwin, Angela'}  \n",
      "___ballentine ashley______   {' Ballentine Ashley'}  \n",
      "___bank of america______   {'Bank of America [mailto:onlinebanking@ealerts.boaf.com]', ' Bank of America'}  \n",
      "___banner specs______   {' FW: Banner specs'}  \n",
      "___baptiste marco______   {' Baptiste Marco <info@mail.com'}  \n",
      "___barbara ann blue______   {' Barbara Ann Blue'}  \n",
      "___barbara boatwright______   {' Boatwright, Barbara', 'Boatwright, Barbara'}  \n",
      "___barbara butler______   {' Barbara Butler-Moore'}  \n",
      "___barbara d______   {\" Barbara D'Annunzio\"}  \n",
      "___barbara denmark______   {\" 'Barbara Denmark'\"}  \n",
      "___barbara devane______   {' Barbara DeVane', ' Barbara Devane'}  \n",
      "___barbara foley______   {' Barbara Foley', ' BarbaraFoley', \" 'Barbara Foley'\"}  \n",
      "___barbara fork______   {' Barbara Fork'}  \n",
      "___barbara foster______   {' Barbara Foster'}  \n",
      "___barbara graham______   {' Barbara Graham (beadlady@tallynet.com)'}  \n",
      "___barbara graves______   {' Graves, Barbara'}  \n",
      "___barbara groves______   {'Barbara Groves <bgroves@rileymuseum.org>, Levitticus Roberts <lroberts@rileymuseum.org>, \"George James\" <GJames@rileymuseum.org>, \"jrosier2@yahoo.com\" <jrosier2@yahoo.com>, Jarvis Rosier <jrosier@rileymuseum.org>, \"patriciagriffin2@talstatebank.com\" <patriciagriffin2@talstatebank.com>, Melody Hadley <hadley1997@gmail.com>, \"annieharris01@gmail.com\" <annieharris01@gmail.com>, \"audrey.smith@talgov.com\" <audrey.smith@talgov.com>, \"kyle.eidahl@famu.edu\" <kyle.eidahl@famu.edu>, \"delmas.barber@talgov.com\" <delmas.barber@talgov.com>, \"theresa sawyer@comcast.net\" <theresa sawyer@comcast.net>, \"lewisbutler@leonschools.net\" <lewisbutler@leonschools.net>, \"roosevelt.sawyer@gmail.com\" <roosevelt.sawyer@gmail.com>, \"nancy.miller@talgov.com\" <nancy.miller@talgov.com>, \"mlisa.ingram@talgov.com\" <mlisa.ingram@talgov.com>, \"torriosborne@gmail.com\" <torriosborne@gmail.com>, intern <intern@rileymuseum.org', 'Barbara Groves <bgroves@rileymuseum.org>, Levi†cus Roberts <lroberts@rileymuseum.org>, \"George  James\" <GJames@rileymuseum.org>, \"jrosier2@yahoo.com\" <jrosier2@yahoo.com>, Jarvis Rosier <jrosier@rileymuseum.org>, \"patriciagriﬃn2@talstatebank.com\" <patriciagriﬃn2@talstatebank.com>, Melody Hadley <hadley1997@gmail.com>, \"annieharris01@gmail.com\" <annieharris01@gmail.com>, \"audrey.smith@talgov.com\" <audrey.smith@talgov.com>, \"kyle.eidahl@famu.edu\" <kyle.eidahl@famu.edu>, \"delmas.barber@talgov.com\" <delmas.barber@talgov.com>, \"theresa_sawyer@comcast.net\" <theresa_sawyer@comcast.net>, \"lewisbutler@leonschools.net\" <lewisbutler@leonschools.net>, \"roosevelt.sawyer@gmail.com\" <roosevelt.sawyer@gmail.com>, \"nancy.miller@talgov.com\" <nancy.miller@talgov.com>, \"mlisa.ingram@talgov.com\" <mlisa.ingram@talgov.com>, \"torriosborne@gmail.com\" <torriosborne@gmail.com>, intern <intern@rileymuseum.org'}  \n",
      "___barbara harris______   {' Harris, Barbara'}  \n",
      "___barbara hettich______   {' Barbara Hettich'}  \n",
      "___barbara hobbs______   {' Barbara Hobbs'}  \n",
      "___barbara j sabol______   {' Barbara J. Sabol (barbaraj.sabol@gmail.com)'}  \n",
      "___barbara jones______   {' Barbara Jones (BARBARA.JONES@FAMU.EDU)', ' Barbara Jones', ' BarbaraJones'}  \n",
      "___barbara l bryant______   {' Bryant, Barbara L'}  \n",
      "___barbara lipscomb______   {' Barbara Lipscomb (blipscomb@greenvillenc.gov)', ' Barbara Lipscomb - City of Greenville (Business Fax)'}  \n",
      "___barbara mayes boustead______   {'Barbara Mayes Boustead <barbara.mayes@noaa.gov'}  \n",
      "___barbara petersen______   {' Barbara Petersen'}  \n",
      "___barbara philip______   {' barbara philip'}  \n",
      "___barbara pople______   {' Barbara Pople'}  \n",
      "___barbara prossen______   {' Barbara Prossen (Barbara.Prossen@sanantonio.gov<mailto:Barbara.Prossen@sanantonio.gov>)'}  \n",
      "___barbara ray______   {' Barbara Ray'}  \n",
      "___barbara reyes______   {'Barbara Reyes [mailto:breyes@physics.fsu.edu]', ' Barbara Reyes <breyes@physics.fsu.edu', \" 'Barbara Reyes'\"}  \n",
      "___barbara walker______   {' Walker, Barbara'}  \n",
      "___barbara weinstein______   {' Barbara Weinstein'}  \n",
      "___barbara white______   {' White, Barbara'}  \n",
      "___barbara zeier______   {' Barbara Zeier'}  \n",
      "___barber______   {' Barber,'}  \n",
      "___barber chucha______   {' Barber Chucha'}  \n",
      "___barber cynthia______   {'Barber Cynthia'}  \n",
      "___barbie haits______   {' Barbie Haits?eld'}  \n",
      "___barbie harts______   {' Barbie Harts?eld'}  \n",
      "___barbie hartsfield______   {' Barbie Hartsfield', ' barbie Hartsfield'}  \n",
      "___barbie jordan______   {' Barbie Jordan'}  \n",
      "___barby m moro______   {' Barby M. Moro'}  \n",
      "___barby moro______   {' Barby Moro'}  \n",
      "___barfield betsy______   {' Barfield Betsy'}  \n",
      "___barika poole______   {' Barika Poole'}  \n",
      "___barnes charlie______   {' Barnes Charlie'}  \n",
      "___barney bishop______   {' Barney Bishop', ' Barney Bishop(barney@barneybishop.com)'}  \n",
      "___barneyt bishop______   {' BarneyT. Bishop'}  \n",
      "___barnhorn benoit______   {\" Rose Benoit, Barnhorn's Assistant\"}  \n",
      "___baron ariel e______   {' Baron Ariel E'}  \n",
      "___barrett johnson______   {' Barrett Johnson (bgjmaj@aol.com)'}  \n",
      "___barrie williamson______   {'Barrie Williamson <Barrie@jenkinsroofinginc.com', ' Barrie Williamson'}  \n",
      "___barrington irving______   {' Barrington Irving'}  \n",
      "___barrington miesha______   {' Barrington Miesha'}  \n",
      "___barrios sally______   {' Barrios Sally'}  \n",
      "___barritt reagan______   {' Barritt Reagan'}  \n",
      "___barron jane______   {' Barron Jane'}  \n",
      "___barron tom______   {' Barron Tom'}  \n",
      "___barry brooks______   {' Barry Brooks'}  \n"
     ]
    }
   ],
   "source": [
    "for i,el in enumerate(lst):\n",
    "    if len(el[1]) > 3: \n",
    "        #print(f\"___{el[0]}______  <<<  {len(el[1])}  >>>\")\n",
    "        pass\n",
    "    else: \n",
    "        print(f\"___{el[0]}______   {el[1]}  \")\n",
    "    if i > 1000: break"
   ]
  },
  {
   "cell_type": "code",
   "execution_count": null,
   "metadata": {},
   "outputs": [],
   "source": []
  },
  {
   "cell_type": "code",
   "execution_count": 280,
   "metadata": {},
   "outputs": [
    {
     "name": "stdout",
     "output_type": "stream",
     "text": [
      "{'', 'mailtozacorey@gunster.com', 'rgrindler@101tally.com', 'acorey@gunster.com', 'adam@edisontally.com', 'mailtozacoreng101tally.com', 'adambcorey@gmail.com', 'mailtozacorey@101tally.com', 'adam@unconventionalstrategies.com', 'rmills@fsuoldschool.com', 'byronburroughs@yahoo.com', 'adam@101tallahassee.com', 'hlayerd@think3d.net', 'acorey@101tally.com', 'acorey@101tally.co'}\n"
     ]
    }
   ],
   "source": [
    "print(stand.name_to_emails[\"adam corey\"])"
   ]
  },
  {
   "cell_type": "code",
   "execution_count": 281,
   "metadata": {},
   "outputs": [],
   "source": [
    "# field_dict, unique_names, field_to_clean, unrecognized_names \n",
    "field_dict = standlib.create_field_dict(from_list, to_list, cc_list)\n",
    "field_dict1, unique_names, removed, unrecognized_names = standlib.clean_field_dict_values(field_dict)\n",
    "\n",
    "# study seperately\n",
    "# removed: remove all names (field content from From:, To:, cc:) with length greater than 20 (number can change)\n",
    "# unrecognized names: "
   ]
  },
  {
   "cell_type": "code",
   "execution_count": null,
   "metadata": {},
   "outputs": [],
   "source": [
    "standlib.print_dict(field_dict1, 1)"
   ]
  },
  {
   "cell_type": "code",
   "execution_count": null,
   "metadata": {
    "tags": []
   },
   "outputs": [],
   "source": [
    "removed[0:5]"
   ]
  },
  {
   "cell_type": "code",
   "execution_count": null,
   "metadata": {},
   "outputs": [],
   "source": [
    "# cleaned names: \n",
    "double_caps = []\n",
    "unq = list(unique_names.keys())\n",
    "#unq.sort(key=lambda x: x.lower().strip())\n",
    "# Sort with respect to last name\n",
    "unq.sort(key=lambda x: rex.sub(\".*\\s(\\w+)$\", r'\\1', x.lower()))\n",
    "print(len(unq))\n",
    "for k in unq:\n",
    "    n = standlib.join_prefix_to_stem(k)\n",
    "    # Two capital letters in succession\n",
    "    if rex.match(r'.*([A-Z])([A-Z]).*\\Z', k):\n",
    "        # print(\"Double Cap: \", k)\n",
    "        double_caps.append(n)\n",
    "    if  n != k:\n",
    "        print(f\"{k}_____{n}\")\n",
    "    #if  rex.match(r'\\A\\s?\\w{1,}\\ \\w+\\s?\\Z', k, flags=rex.UNICODE):\n",
    "    if 1:\n",
    "        # print(f\"___{k}___\")\n",
    "        pass\n",
    "print(\"nb double caps: \", len(double_caps))"
   ]
  },
  {
   "cell_type": "code",
   "execution_count": null,
   "metadata": {},
   "outputs": [],
   "source": [
    "field_dict1['Shane Moniz']\n",
    "def analyze(name):\n",
    "    print(f\"field_dict1[{name}]: {field_dict1[name]}\")\n",
    "analyze('Shane Moniz')"
   ]
  },
  {
   "cell_type": "markdown",
   "metadata": {},
   "source": [
    "## Abbreviations create issues. \n",
    "Perhaps the best way to define a name is to combine all the letters of the first, middle and last nmaes together and remove spaces, and lower case. Names are of secondary importance. It is the Emails that are important. So the goal might be to impute all  non-existent emails from the corresponding name if available. If not available, create a fake email.   Ultimately, \n",
    "* name_to_emails: For each name with no email, try and figure out the email from email_to_names. \n",
    "* This does not work. \n",
    "### Collect To/CC/From entries with no emails\n",
    "* try to determine the emails from field_dict values\n",
    "* start from email_to_names and name_to_emails. Note that these are cleaned names"
   ]
  },
  {
   "cell_type": "code",
   "execution_count": null,
   "metadata": {},
   "outputs": [],
   "source": [
    "email_to_names, name_to_emails = standlib.compute_email_name_dicts(field_dict1)\n",
    "len(email_to_names), len(name_to_emails)"
   ]
  },
  {
   "cell_type": "code",
   "execution_count": null,
   "metadata": {},
   "outputs": [],
   "source": [
    "for k in name_to_emails.keys():\n",
    "    if type(k) == tuple:\n",
    "        print('tuple', k)"
   ]
  },
  {
   "cell_type": "code",
   "execution_count": null,
   "metadata": {
    "tags": []
   },
   "outputs": [],
   "source": [
    "standlib.print_dict(email_to_names, 10)"
   ]
  },
  {
   "cell_type": "code",
   "execution_count": null,
   "metadata": {},
   "outputs": [],
   "source": [
    "standlib.print_dict(name_to_emails, 5)"
   ]
  },
  {
   "cell_type": "code",
   "execution_count": null,
   "metadata": {},
   "outputs": [],
   "source": [
    "len(email_to_names), len(name_to_emails)"
   ]
  },
  {
   "cell_type": "code",
   "execution_count": 10,
   "metadata": {},
   "outputs": [
    {
     "name": "stderr",
     "output_type": "stream",
     "text": [
      "[autoreload of standardize_library failed: Traceback (most recent call last):\n",
      "  File \"/Users/erlebach/opt/anaconda3/lib/python3.8/site-packages/IPython/extensions/autoreload.py\", line 245, in check\n",
      "    superreload(m, reload, self.old_objects)\n",
      "  File \"/Users/erlebach/opt/anaconda3/lib/python3.8/site-packages/IPython/extensions/autoreload.py\", line 394, in superreload\n",
      "    module = reload(module)\n",
      "  File \"/Users/erlebach/opt/anaconda3/lib/python3.8/imp.py\", line 314, in reload\n",
      "    return importlib.reload(module)\n",
      "  File \"/Users/erlebach/opt/anaconda3/lib/python3.8/importlib/__init__.py\", line 169, in reload\n",
      "    _bootstrap._exec(spec, module)\n",
      "  File \"<frozen importlib._bootstrap>\", line 604, in _exec\n",
      "  File \"<frozen importlib._bootstrap_external>\", line 779, in exec_module\n",
      "  File \"<frozen importlib._bootstrap_external>\", line 916, in get_code\n",
      "  File \"<frozen importlib._bootstrap_external>\", line 846, in source_to_code\n",
      "  File \"<frozen importlib._bootstrap>\", line 219, in _call_with_frames_removed\n",
      "  File \"/Users/erlebach/src/2022/CRA_network/standardize_library.py\", line 960\n",
      "    print(f\"[{i} : {el})\n",
      "                       ^\n",
      "SyntaxError: EOL while scanning string literal\n",
      "]\n"
     ]
    },
    {
     "ename": "NameError",
     "evalue": "name 'standlib' is not defined",
     "output_type": "error",
     "traceback": [
      "\u001b[0;31m---------------------------------------------------------------------------\u001b[0m",
      "\u001b[0;31mNameError\u001b[0m                                 Traceback (most recent call last)",
      "\u001b[0;32m<ipython-input-10-d11b8ec5f7a3>\u001b[0m in \u001b[0;36m<module>\u001b[0;34m\u001b[0m\n\u001b[1;32m      1\u001b[0m \u001b[0;31m# List of field_dict elements with no associated emails. In other words, the From:/To:/CC: fields have\u001b[0m\u001b[0;34m\u001b[0m\u001b[0;34m\u001b[0m\u001b[0;34m\u001b[0m\u001b[0m\n\u001b[1;32m      2\u001b[0m \u001b[0;31m#  entries with no email (i.e., no @). These are names with no email.\u001b[0m\u001b[0;34m\u001b[0m\u001b[0;34m\u001b[0m\u001b[0;34m\u001b[0m\u001b[0m\n\u001b[0;32m----> 3\u001b[0;31m \u001b[0mnames_without_emails\u001b[0m \u001b[0;34m=\u001b[0m \u001b[0mstandlib\u001b[0m\u001b[0;34m.\u001b[0m\u001b[0mget_names_without_emails_from_list\u001b[0m\u001b[0;34m(\u001b[0m\u001b[0mlist\u001b[0m\u001b[0;34m(\u001b[0m\u001b[0mfield_dict\u001b[0m\u001b[0;34m.\u001b[0m\u001b[0mkeys\u001b[0m\u001b[0;34m(\u001b[0m\u001b[0;34m)\u001b[0m\u001b[0;34m)\u001b[0m\u001b[0;34m)\u001b[0m\u001b[0;34m\u001b[0m\u001b[0;34m\u001b[0m\u001b[0m\n\u001b[0m\u001b[1;32m      4\u001b[0m \u001b[0;31m# list of tuples (field name, cleaned name)\u001b[0m\u001b[0;34m\u001b[0m\u001b[0;34m\u001b[0m\u001b[0;34m\u001b[0m\u001b[0m\n\u001b[1;32m      5\u001b[0m \u001b[0mnames_without_emails1\u001b[0m \u001b[0;34m=\u001b[0m \u001b[0mstandlib\u001b[0m\u001b[0;34m.\u001b[0m\u001b[0mget_names_without_emails_from_dict_tuples\u001b[0m\u001b[0;34m(\u001b[0m\u001b[0mfield_dict1\u001b[0m\u001b[0;34m)\u001b[0m\u001b[0;34m\u001b[0m\u001b[0;34m\u001b[0m\u001b[0m\n",
      "\u001b[0;31mNameError\u001b[0m: name 'standlib' is not defined"
     ]
    }
   ],
   "source": [
    "# List of field_dict elements with no associated emails. In other words, the From:/To:/CC: fields have \n",
    "#  entries with no email (i.e., no @). These are names with no email.\n",
    "names_without_emails = standlib.get_names_without_emails_from_list(list(field_dict.keys()))\n",
    "# list of tuples (field name, cleaned name)\n",
    "names_without_emails1 = standlib.get_names_without_emails_from_dict_tuples(field_dict1)\n",
    "len(names_without_emails), len(names_without_emails1)"
   ]
  },
  {
   "cell_type": "code",
   "execution_count": null,
   "metadata": {},
   "outputs": [],
   "source": [
    "list(field_dict.keys())[0:5]"
   ]
  },
  {
   "cell_type": "code",
   "execution_count": null,
   "metadata": {},
   "outputs": [],
   "source": [
    "list(field_dict1.keys())[0:5]"
   ]
  },
  {
   "cell_type": "code",
   "execution_count": null,
   "metadata": {},
   "outputs": [],
   "source": [
    "names_without_emails1[0:5]"
   ]
  },
  {
   "cell_type": "code",
   "execution_count": null,
   "metadata": {},
   "outputs": [],
   "source": [
    "# How many clean names without email\n",
    "clean_names_without_emails = set()\n",
    "for el in names_without_emails1:\n",
    "    clean_names_without_emails.add(el[1])\n",
    "print(len(clean_names_without_emails))  #11,358 (instead of 17,224 unclean ones)"
   ]
  },
  {
   "cell_type": "code",
   "execution_count": null,
   "metadata": {},
   "outputs": [],
   "source": [
    "missing_emails = set()\n",
    "for name in names_without_emails1: #(dirty_name, clean_name)\n",
    "    missing_emails.add(name[1])\n",
    "missing_emails = list(missing_emails)\n",
    "missing_emails.sort(key=lambda x: x)\n",
    "missing_emails;"
   ]
  },
  {
   "cell_type": "code",
   "execution_count": null,
   "metadata": {},
   "outputs": [],
   "source": [
    "names_without_emails1[100:110]"
   ]
  },
  {
   "cell_type": "code",
   "execution_count": null,
   "metadata": {},
   "outputs": [],
   "source": [
    "recovered_emails = {}\n",
    "print(\"init: len(missing_emails): \", len(missing_emails))\n",
    "for name in missing_emails:\n",
    "    emails = name_to_emails[name]\n",
    "    if emails != {''}:\n",
    "        if '' in emails:\n",
    "            emails.remove('')\n",
    "        recovered_emails[name] = emails\n",
    "        \n",
    "for name in recovered_emails.keys():\n",
    "    missing_emails.remove(name)\n",
    "        \n",
    "print(\"len(recovered_emails): \", len(recovered_emails))\n",
    "print(\"len(missing_emails): \", len(missing_emails))\n",
    "names_without_emails = missing_emails\n",
    "np.savetxt(\"missing_emails.txt\", missing_emails, fmt=\"%s\")"
   ]
  },
  {
   "cell_type": "markdown",
   "metadata": {
    "tags": []
   },
   "source": [
    "# Identification of similar names\n",
    "* In this way, a name $n_1$ form the missing_emails list, will be paired with a name $n_2$ from the name_to_emails list. \n",
    "* I need a measure of similary between two names. Perhaps the overlap? Or first and last name with the corresponding first and last names? "
   ]
  },
  {
   "cell_type": "markdown",
   "metadata": {
    "jupyter": {
     "outputs_hidden": true
    },
    "tags": []
   },
   "source": [
    "* I now have two lists: \n",
    "    * missing_emails (names without emails) \n",
    "    * name_to_mails (names with mails)\n",
    "    * Use NamesMatch with two name lists: missing_emails and name_to_mails.keys(). Make each name into a list \n",
    "    * of 1 name. See what happens\n",
    "* What I really want is a set of names. \n",
    "    * Look at email_to_names: Remove names that are obviously incorrect (how?)\n",
    "    * What is left is an id (a set of names linked to a single individual)\n",
    "    * I might not have the full id list. \n",
    "        * email1 ==> (name1a, name1b)\n",
    "        * email2 ==> (name1a, name2b)\n",
    "        * Therefore, the person's id is (name1a, name1b, name2b)\n",
    "    * QUESTION: How to create an expanded id list? An id list has a corresponding email set (email1, email2, etc)\n",
    "    * To each name without an email, Identify one or more emails, i.e., an email set. \n",
    "    * NEXT QUESTION: How to assign an email to which name (perhaps uniform random)? "
   ]
  },
  {
   "cell_type": "code",
   "execution_count": null,
   "metadata": {},
   "outputs": [],
   "source": [
    "names_with_mails = list(name_to_emails.keys())  # Remove names with no emails (TODO)\n",
    "names_without_emails = missing_emails"
   ]
  },
  {
   "cell_type": "code",
   "execution_count": null,
   "metadata": {},
   "outputs": [],
   "source": [
    "keys = list(name_to_emails.keys())\n",
    "keys[-1]  # should be a string, not a sequence!"
   ]
  },
  {
   "cell_type": "code",
   "execution_count": null,
   "metadata": {
    "tags": []
   },
   "outputs": [],
   "source": [
    "# Create lists of lists\n",
    "names_with_emails = []\n",
    "for name in name_to_emails.keys():\n",
    "    names_with_emails.append([name])\n",
    "    \n",
    "names_without_emails = []\n",
    "for name in missing_emails:\n",
    "    names_without_emails.append([name])"
   ]
  },
  {
   "cell_type": "code",
   "execution_count": null,
   "metadata": {},
   "outputs": [],
   "source": [
    "len(names_with_mails), names_with_mails;"
   ]
  },
  {
   "cell_type": "markdown",
   "metadata": {},
   "source": [
    "# Name Matching"
   ]
  },
  {
   "cell_type": "markdown",
   "metadata": {},
   "source": [
    "---"
   ]
  },
  {
   "cell_type": "code",
   "execution_count": null,
   "metadata": {},
   "outputs": [],
   "source": [
    "#List of names without emails\n",
    "len(missing_emails)"
   ]
  },
  {
   "cell_type": "code",
   "execution_count": null,
   "metadata": {},
   "outputs": [],
   "source": [
    "# list of names with emails\n",
    "len(names_with_emails)"
   ]
  },
  {
   "cell_type": "code",
   "execution_count": null,
   "metadata": {},
   "outputs": [],
   "source": [
    "total_list = missing_emails + names_with_mails\n",
    "matches_df = nmlib.name_matches(missing_emails)"
   ]
  },
  {
   "cell_type": "code",
   "execution_count": null,
   "metadata": {},
   "outputs": [],
   "source": [
    "missing_emails;\n",
    "emails = list(email_to_names.keys())\n",
    "emails;"
   ]
  },
  {
   "cell_type": "code",
   "execution_count": null,
   "metadata": {},
   "outputs": [],
   "source": [
    "emails_prefix = []\n",
    "# Create a list of names with email address from '@' removed\n",
    "for email in emails:\n",
    "    emails_prefix.append(rex.sub(r\"@.*$\", \"\", email))\n",
    "emails_prefix;\n",
    "np.savetxt(\"emails_prefix.csv\", emails_prefix, fmt=\"%s\")"
   ]
  },
  {
   "cell_type": "code",
   "execution_count": null,
   "metadata": {},
   "outputs": [],
   "source": [
    "len(emails_prefix), len(missing_emails)"
   ]
  },
  {
   "cell_type": "code",
   "execution_count": null,
   "metadata": {
    "tags": []
   },
   "outputs": [],
   "source": [
    "#standlib.print_dict(name_to_emails)\n",
    "for i, (name, emails) in enumerate(name_to_emails.items()):\n",
    "    lst = [name] + list(emails)\n",
    "    for i, l in enumerate(lst):\n",
    "        lst[i] = l.lower()\n",
    "    print(\"lst: \", lst)\n",
    "    lst = ['shane moniz', 'smoniz@connandassociates.com']\n",
    "    lst = ['shane moniz', 'sh. moniz@']\n",
    "    # matches = nmlib.name_matches(missing_emails, cs_thresh=0.2)\n",
    "    matches = nmlib.name_matches(lst, cs_thresh=0.1)\n",
    "    # matches = nmlib.name_matches_nonsparse(lst, cs_thresh=0.2)\n",
    "    print(\"matches: \", matches)\n",
    "    print(\".........................................\")\n",
    "    if i > 2: break\n",
    "    "
   ]
  },
  {
   "cell_type": "code",
   "execution_count": null,
   "metadata": {},
   "outputs": [],
   "source": [
    "np.dot"
   ]
  },
  {
   "cell_type": "code",
   "execution_count": null,
   "metadata": {
    "tags": []
   },
   "outputs": [],
   "source": [
    "# matches_df = nmlib.name_matches(names_with_mails)\n",
    "matches_df = nmlib.name_matches(names_with_mails, cs_thresh=0.8)\n",
    "# matches_df = nmlib.name_matches(emails_prefix, 0.6)\n",
    "matches_df.shape, matches_df.tail(50)\n",
    "name_to_emails[\"Tailor M\"]"
   ]
  },
  {
   "cell_type": "code",
   "execution_count": null,
   "metadata": {},
   "outputs": [],
   "source": [
    "em = emails_prefix[:155]\n",
    "len(em)"
   ]
  },
  {
   "cell_type": "code",
   "execution_count": null,
   "metadata": {},
   "outputs": [],
   "source": [
    "matches_df = nmlib.name_matches(em, 0.6)\n",
    "matches_df"
   ]
  },
  {
   "cell_type": "code",
   "execution_count": null,
   "metadata": {},
   "outputs": [],
   "source": [
    "matches_df = nmlib.name_matches_2(em, em[0:5], 0.6)\n",
    "matches_df"
   ]
  },
  {
   "cell_type": "code",
   "execution_count": null,
   "metadata": {},
   "outputs": [],
   "source": [
    "names_with_emails[-1]  # is a sequence. Should be a string!"
   ]
  },
  {
   "cell_type": "code",
   "execution_count": null,
   "metadata": {},
   "outputs": [],
   "source": [
    "len(names_with_emails),len(names_without_emails)"
   ]
  },
  {
   "cell_type": "code",
   "execution_count": null,
   "metadata": {
    "tags": []
   },
   "outputs": [],
   "source": [
    "x = names_matcher(names_with_emails[0:200], names_without_emails[0:200]);"
   ]
  },
  {
   "cell_type": "code",
   "execution_count": null,
   "metadata": {},
   "outputs": [],
   "source": [
    "x[0:10,:]"
   ]
  },
  {
   "cell_type": "markdown",
   "metadata": {
    "tags": []
   },
   "source": [
    "# standlib.print_dict(email_to_names, 5)"
   ]
  },
  {
   "cell_type": "markdown",
   "metadata": {},
   "source": [
    "---"
   ]
  },
  {
   "cell_type": "code",
   "execution_count": null,
   "metadata": {
    "tags": []
   },
   "outputs": [],
   "source": [
    "# An email may have multiple names attached, with mispellings, etc. one name must be chosen. \n",
    "# WHAT is null_chosen_names? <<<<<\n",
    "# Define notion of identity: \n",
    "##  email_to_names: email => set of names associated with that email (rightly or wrongly). \n",
    "## Remove all the names that are obviously wrong (using overlap for example): \n",
    "### choose name with max overlap with email, which is name_max\n",
    "###          compute overlap between name_max and all other names in the set. \n",
    "##           keep the names with overlap beyond a threshhold\n",
    "\n",
    "null_chosen_names, email_to_chosen_name, email_to_names_with_periods = \\\n",
    "    standlib.compute_email_to_chosen_name(email_to_names)"
   ]
  },
  {
   "cell_type": "code",
   "execution_count": null,
   "metadata": {},
   "outputs": [],
   "source": [
    "standlib.print_dict(email_to_chosen_name, 5)"
   ]
  },
  {
   "cell_type": "code",
   "execution_count": null,
   "metadata": {},
   "outputs": [],
   "source": [
    "len(email_to_chosen_name), len(email_to_names_with_periods), len(null_chosen_names)"
   ]
  },
  {
   "cell_type": "code",
   "execution_count": null,
   "metadata": {},
   "outputs": [],
   "source": [
    "null_chosen_names[0:5]"
   ]
  },
  {
   "cell_type": "markdown",
   "metadata": {},
   "source": [
    "# invert the dictionary; chosen_name_to_email  \n",
    "* Check that to each name there is a single email\n",
    "* One name can have multiple associated emails\n",
    "* Store emails in lower case to minimize duplicates such as\n",
    "    Gord@gmail.com and gord@gmail.com"
   ]
  },
  {
   "cell_type": "code",
   "execution_count": null,
   "metadata": {},
   "outputs": [],
   "source": [
    "chosen_name_to_email = defaultdict(set)\n",
    "for k,v in email_to_chosen_name.items():\n",
    "    chosen_name_to_email[v].add(k.lower())"
   ]
  },
  {
   "cell_type": "code",
   "execution_count": null,
   "metadata": {},
   "outputs": [],
   "source": [
    "standlib.overlap_str_str(\"patricia.sanzone@dep.state\", \"patricia.sanzone@dep.state.fl.us\")"
   ]
  },
  {
   "cell_type": "code",
   "execution_count": null,
   "metadata": {
    "tags": []
   },
   "outputs": [],
   "source": [
    "standlib.print_dict(chosen_name_to_email, 10, max_length=10)"
   ]
  },
  {
   "cell_type": "code",
   "execution_count": null,
   "metadata": {
    "tags": []
   },
   "outputs": [],
   "source": [
    "# Starting from clean_names_without_emails, scan the list one element at a time and find \n",
    "# the corresponding email. How many will be found?\n",
    "# Every person has a unique name, which is chosen_named\n",
    "name_email = {} #defaultdict(list)\n",
    "for name in clean_names_without_emails:\n",
    "    email = chosen_name_to_email[name]\n",
    "    if len(email) > 1 and len(email) < 10:\n",
    "        print(f\"{name}_____{email}\")\n",
    "        name_email[name] = email\n",
    "# Values are sets. Some sets have two values. "
   ]
  },
  {
   "cell_type": "code",
   "execution_count": null,
   "metadata": {},
   "outputs": [],
   "source": [
    "name_to_emails['Ryan Grindler']\n",
    "field_dict1['Ryan Grindler']"
   ]
  },
  {
   "cell_type": "code",
   "execution_count": null,
   "metadata": {
    "tags": []
   },
   "outputs": [],
   "source": [
    "len(name_email)\n",
    "print(len(name_email), len(clean_names_without_emails))\n",
    "name_email"
   ]
  },
  {
   "cell_type": "code",
   "execution_count": null,
   "metadata": {},
   "outputs": [],
   "source": [
    "# How many names in chosen_name_to_email are included in names_without_emails: "
   ]
  },
  {
   "cell_type": "markdown",
   "metadata": {},
   "source": [
    "---\n"
   ]
  },
  {
   "cell_type": "code",
   "execution_count": null,
   "metadata": {},
   "outputs": [],
   "source": [
    "len(names_without_emails), len(clean_names_without_emails)"
   ]
  },
  {
   "cell_type": "code",
   "execution_count": null,
   "metadata": {
    "tags": []
   },
   "outputs": [],
   "source": [
    "for name in clean_names_without_emails:\n",
    "    print(name)"
   ]
  },
  {
   "cell_type": "code",
   "execution_count": null,
   "metadata": {
    "tags": []
   },
   "outputs": [],
   "source": [
    "name_to_emails"
   ]
  },
  {
   "cell_type": "code",
   "execution_count": null,
   "metadata": {
    "tags": []
   },
   "outputs": [],
   "source": [
    "len(names_without_emails1), len(unique_names)"
   ]
  },
  {
   "cell_type": "code",
   "execution_count": null,
   "metadata": {
    "tags": []
   },
   "outputs": [],
   "source": [
    "for k, v in unique_names.items():\n",
    "    print(f\"{k} ===>   {v}\")\n",
    "    print(\"------------------------------------------\")"
   ]
  },
  {
   "cell_type": "code",
   "execution_count": null,
   "metadata": {
    "tags": []
   },
   "outputs": [],
   "source": [
    "# Names with no recognizable structure  first middle last or last, middle frst\n",
    "# Will undergo further processing\n",
    "# `unrecognized_names` are as found in To, From, CC email headers\n",
    "# first with explodeCamel if there is a single word in camel case\n",
    "# second by contrast with existing nanmes. For example, gjcoaker is probably G.J. Coaker . One way to tell with multiple consonnants following each other\n",
    "print(len(unrecognized_names), type(unrecognized_names))\n",
    "list(unrecognized_names)[0:10]"
   ]
  },
  {
   "cell_type": "code",
   "execution_count": null,
   "metadata": {},
   "outputs": [],
   "source": [
    "len(field_dict)"
   ]
  },
  {
   "cell_type": "code",
   "execution_count": null,
   "metadata": {},
   "outputs": [],
   "source": [
    "len(field_dict), len(name_to_emails), len(email_to_names)"
   ]
  },
  {
   "cell_type": "code",
   "execution_count": null,
   "metadata": {
    "tags": []
   },
   "outputs": [],
   "source": [
    "# All values of field_dict are (name, email) where `name` is the full name. \n",
    "for v in field_dict.values():\n",
    "    if (len(v) != 2): \n",
    "        print(v)"
   ]
  },
  {
   "cell_type": "code",
   "execution_count": null,
   "metadata": {
    "tags": []
   },
   "outputs": [],
   "source": [
    "list(name_to_emails.keys())[0:10]"
   ]
  },
  {
   "cell_type": "markdown",
   "metadata": {
    "tags": []
   },
   "source": [
    "* ('Andrea', 'Rosser') ----- cleaned name: An ea Rosser\n",
    "* ('Sheila', 'Williams') ----- cleaned name: Sheila Willia \n",
    "* ('Davisson Dunlap', 'III') ----- cleaned name: Davisson III\n",
    "* name: ('Dietrich A', 'Simmons') ----- cleaned name: Dietrich Simmons\n",
    "*\n",
    "*\n",
    "*\n",
    "*\n",
    "*\n",
    "*\n",
    "*\n",
    "* Remove .com, .gov, etc. \n",
    "     * first name ends in ., last name begins in (com, gov, us, edu)"
   ]
  },
  {
   "cell_type": "markdown",
   "metadata": {},
   "source": [
    "# `field_dict` has been enhanced with cleaned up names. How many different names are there? \n",
    "*   (from,to,cc)_list_element => (name, email)"
   ]
  },
  {
   "cell_type": "code",
   "execution_count": null,
   "metadata": {},
   "outputs": [],
   "source": [
    " email_to_names, name_to_emails = standlib.compute_email_name_dicts(field_dict1)"
   ]
  },
  {
   "cell_type": "code",
   "execution_count": null,
   "metadata": {},
   "outputs": [],
   "source": [
    "len(email_to_names), len(email_to_names1), len(name_to_emails), len(name_to_emails1)\n",
    "# WHY SO MUCH FEWER WITH THIS APPROACH?"
   ]
  },
  {
   "cell_type": "code",
   "execution_count": null,
   "metadata": {},
   "outputs": [],
   "source": [
    "# make all emails lower case. For this, need to create new sets\n",
    "# Go given that field_dict[k] = v,\n",
    "# define v1 = set(), fill it up, and then field_dict[k] = v1\n",
    "\n",
    "name_to_emails_lower = standlib.str_to_set_lower(name_to_emails)\n",
    "name_to_emails_lower;"
   ]
  },
  {
   "cell_type": "markdown",
   "metadata": {},
   "source": [
    "To each email corresponds a single name. Each name has multiple emails. \n",
    "Let us look at emails_to_name"
   ]
  },
  {
   "cell_type": "code",
   "execution_count": null,
   "metadata": {},
   "outputs": [],
   "source": [
    "list(field_dict.keys())[20]\n",
    "for k in field_dict.keys():\n",
    "    if rex.match('.*Paige', k): \n",
    "        #print(k)\n",
    "        pass"
   ]
  },
  {
   "cell_type": "code",
   "execution_count": null,
   "metadata": {},
   "outputs": [],
   "source": []
  },
  {
   "cell_type": "markdown",
   "metadata": {},
   "source": [
    "---\n",
    "# End of new Analysis"
   ]
  },
  {
   "cell_type": "code",
   "execution_count": null,
   "metadata": {},
   "outputs": [],
   "source": [
    "sorted(['A Taylor', 'Barber'])"
   ]
  },
  {
   "cell_type": "code",
   "execution_count": null,
   "metadata": {
    "tags": []
   },
   "outputs": [],
   "source": [
    "for k in sorted(name_to_emails.keys(), key=lambda x: x):\n",
    "    if len(k) < 10:\n",
    "        print(f\"{k}___________{name_to_emails[k]}\")"
   ]
  },
  {
   "cell_type": "code",
   "execution_count": null,
   "metadata": {
    "tags": []
   },
   "outputs": [],
   "source": [
    "for i, (k,v) in enumerate(name_to_emails.items()):\n",
    "    if len(k) < 10:\n",
    "        print(f\"{k}_________________{v}\")"
   ]
  },
  {
   "cell_type": "code",
   "execution_count": null,
   "metadata": {
    "tags": []
   },
   "outputs": [],
   "source": [
    "standlib.compute_email_to_chosen_name(email_to_names)"
   ]
  },
  {
   "cell_type": "code",
   "execution_count": null,
   "metadata": {},
   "outputs": [],
   "source": []
  },
  {
   "cell_type": "code",
   "execution_count": null,
   "metadata": {
    "tags": []
   },
   "outputs": [],
   "source": [
    "for k,v in name_to_emails1.items():\n",
    "    print(k,v)"
   ]
  },
  {
   "cell_type": "code",
   "execution_count": null,
   "metadata": {
    "tags": []
   },
   "outputs": [],
   "source": [
    "for k,v in name_to_emails1.items():\n",
    "    if len(v) > 1 and len(v) < 10:\n",
    "        \n",
    "        \n",
    "        print(k,v)"
   ]
  },
  {
   "cell_type": "code",
   "execution_count": null,
   "metadata": {},
   "outputs": [],
   "source": [
    "# name_to_emails['Rodney'] ==> {'Austin', 'Lewis', 'Moore', 'Register'}"
   ]
  },
  {
   "cell_type": "code",
   "execution_count": null,
   "metadata": {
    "tags": []
   },
   "outputs": [],
   "source": [
    "# How could this happen? \n",
    "# Venus Childs ==> {'', 'venus.childs@talgov.com', 'Venus.Childs@talgov.com', 'Gary@zprgroup.com'}\n",
    "for k,v in field_dict.items():\n",
    "    if rex.match(r'\\A.*Gary@zprgroup.com.*\\Z', k):\n",
    "        print(f\"{k}----->{v}\")"
   ]
  },
  {
   "cell_type": "code",
   "execution_count": null,
   "metadata": {
    "tags": []
   },
   "outputs": [],
   "source": [
    "field_dict"
   ]
  },
  {
   "cell_type": "code",
   "execution_count": null,
   "metadata": {
    "tags": []
   },
   "outputs": [],
   "source": [
    "for k,v in name_to_emails.items():\n",
    "    print(f\"{k} ==> {v}\")"
   ]
  },
  {
   "cell_type": "code",
   "execution_count": null,
   "metadata": {
    "tags": []
   },
   "outputs": [],
   "source": [
    "unique = invert_dictionary(field_dict)\n",
    "print(len(unique))  # way too high\n",
    "print(len(field_dict))"
   ]
  },
  {
   "cell_type": "code",
   "execution_count": null,
   "metadata": {
    "tags": []
   },
   "outputs": [],
   "source": [
    "for k,v in invert_dictionary(field_dict).items():\n",
    "    print(f\"{k}_________{v}\")  # v are keys from From, To, Cc lists\n",
    "    \n",
    "# What must be done: \n",
    "#  - identify all elements with a missing email\n",
    "#    a) find email that match corresponding names\n",
    "#    b) for names that cannot be matched, invent an email\n",
    "#  - Make use of name_to_emails, emails_to_name"
   ]
  },
  {
   "cell_type": "code",
   "execution_count": null,
   "metadata": {},
   "outputs": [],
   "source": [
    "len(unique_names), len(field_list)"
   ]
  },
  {
   "cell_type": "code",
   "execution_count": null,
   "metadata": {
    "tags": []
   },
   "outputs": [],
   "source": [
    "for k,v in unique_names.items():\n",
    "    print(f\"{k}-------------{v}\\n\")"
   ]
  },
  {
   "cell_type": "code",
   "execution_count": null,
   "metadata": {
    "tags": []
   },
   "outputs": [],
   "source": [
    "to_study_further = []\n",
    "camel_exploded = []\n",
    "left = []\n",
    "unrecognized = []\n",
    "for i, (k,v) in enumerate(name_to_emails.items()):\n",
    "    name = k[0] + ' ' + k[1]\n",
    "    name1 = standlib.clean_name(name)\n",
    "    if name1 == name or name1 == 'unrecognized':\n",
    "        unrecognized.append((name, name1))\n",
    "        continue\n",
    "    #print(f\"name: {k} ----- cleaned name: {name1}\")\n",
    "    if len(name1.split()) == 2:\n",
    "        name2 = standlib.explode_camelcase(name1)\n",
    "        if len(name1) != len(name2):\n",
    "            camel_exploded.append((name, name2))\n",
    "        print(f\"name: {name}<<< ------ cleaned name: {name2}<<<\")\n",
    "        to_study_further.append((name,name1))\n",
    "    #if i > 5000: break "
   ]
  },
  {
   "cell_type": "code",
   "execution_count": null,
   "metadata": {},
   "outputs": [],
   "source": [
    "len(to_study_further), len(name_to_emails)"
   ]
  },
  {
   "cell_type": "code",
   "execution_count": null,
   "metadata": {
    "tags": []
   },
   "outputs": [],
   "source": [
    "to_study_further"
   ]
  },
  {
   "cell_type": "code",
   "execution_count": null,
   "metadata": {},
   "outputs": [],
   "source": [
    "len(name_to_emails)"
   ]
  },
  {
   "cell_type": "code",
   "execution_count": null,
   "metadata": {},
   "outputs": [],
   "source": [
    "name = 'Dr.Louis St. Petery'\n",
    "standlib.remove_honorifics(name)"
   ]
  },
  {
   "cell_type": "code",
   "execution_count": null,
   "metadata": {},
   "outputs": [],
   "source": [
    "standlib.explode_camelcase('gorfd MarkLaevine')"
   ]
  },
  {
   "cell_type": "code",
   "execution_count": null,
   "metadata": {
    "tags": []
   },
   "outputs": [],
   "source": [
    "for i, name in enumerate(to_study_further):\n",
    "    name1 = standlib.clean_name(name)\n",
    "    #name1 = standlib.clean_name(name1)\n",
    "    if name1 == name or name1 == 'unrecognized':\n",
    "        continue\n",
    "    #print(f\"name: {k} ----- cleaned name: {name1}\")\n",
    "    if len(name1.split()) > 2:\n",
    "        print(f\"name: {name} ------ cleaned name: {name1}\")\n",
    "    #if i > 5000: break "
   ]
  },
  {
   "cell_type": "markdown",
   "metadata": {},
   "source": [
    "name = 'hunterandharp. com'\n",
    "standlib.remove_domains(name)"
   ]
  },
  {
   "cell_type": "code",
   "execution_count": null,
   "metadata": {
    "tags": []
   },
   "outputs": [],
   "source": [
    "print(len(field_dict))\n",
    "for i, (k,v) in enumerate(field_dict.items()):\n",
    "    if i > 30: break\n",
    "    if len(k) > 80: continue\n",
    "    if len(v) == 0: continue\n",
    "    print(k,v)\n"
   ]
  },
  {
   "cell_type": "code",
   "execution_count": null,
   "metadata": {
    "tags": []
   },
   "outputs": [],
   "source": [
    "list(email_to_names.keys())\n",
    "# Remove lines that are not emails, but save them in discarded list\n",
    "non_emails = []"
   ]
  },
  {
   "cell_type": "code",
   "execution_count": null,
   "metadata": {
    "tags": []
   },
   "outputs": [],
   "source": [
    "from_dict = standlib.ge_search_from(from_list[0:10000], email_to_names, name_to_emails, unrecognized_names)\n",
    "from_dict[3].add(3)\n",
    "for k,v in from_dict.items():\n",
    "    if len(k) < 50:\n",
    "        print(k, v)"
   ]
  },
  {
   "cell_type": "code",
   "execution_count": null,
   "metadata": {},
   "outputs": [],
   "source": [
    "def print_sorted_dict_keys(dct):\n",
    "    lst = list(dct.values())\n",
    "    lst.sort(key=lambda x: x[1])\n",
    "    for k in lst:\n",
    "        print(k)"
   ]
  },
  {
   "cell_type": "code",
   "execution_count": null,
   "metadata": {
    "tags": []
   },
   "outputs": [],
   "source": [
    "print_sorted_dict_keys(from_dict)"
   ]
  },
  {
   "cell_type": "code",
   "execution_count": null,
   "metadata": {
    "tags": []
   },
   "outputs": [],
   "source": [
    "for k,v in from_dict.items():\n",
    "    if re.search('@', k):\n",
    "        print(v)"
   ]
  },
  {
   "cell_type": "code",
   "execution_count": null,
   "metadata": {},
   "outputs": [],
   "source": [
    "dlist = list(from_dict.items())\n",
    "#print(dlist)\n",
    "dlist.sort(key=lambda x: x[0][1][0])\n",
    "for l in dlist:\n",
    "    if len(l[0]) > 5000: continue\n",
    "    print(l)\n",
    "    \n",
    "print(dlist[-1])"
   ]
  },
  {
   "cell_type": "code",
   "execution_count": null,
   "metadata": {
    "tags": []
   },
   "outputs": [],
   "source": [
    "for name, emails in name_to_emails.items():\n",
    "        print(f\"[{name}] => {emails}\")"
   ]
  },
  {
   "cell_type": "code",
   "execution_count": null,
   "metadata": {},
   "outputs": [],
   "source": [
    "for name in name_to_emails.keys():\n",
    "    name1 = standlib.clean_name(name)\n",
    "    print(\"-------------------------------\")\n",
    "    print(f\"name: {name}, --------   cleaned: {cleaned}\")"
   ]
  },
  {
   "cell_type": "code",
   "execution_count": null,
   "metadata": {},
   "outputs": [],
   "source": [
    "standlib"
   ]
  },
  {
   "cell_type": "code",
   "execution_count": null,
   "metadata": {},
   "outputs": [],
   "source": [
    "3"
   ]
  },
  {
   "cell_type": "markdown",
   "metadata": {},
   "source": [
    "# Create dictionaries email -> name and name -> email\n",
    "* Consider each element of name_to_emails. If there are two elements and one is empty, then name_email[name] = 'non_empty_email'\n",
    "* If there are 3 elements, and one is empty, choose the email with most overlap between name and email owner. \n",
    "* If there is a single element that is empty, create a fake email:   last_first@fake.com\n",
    "* If there are 4 elements, do not change them. Must be checked manually.\n",
    "* Ignore the empty name the maps to many emails. \n",
    "* Consider an element of email_to_names. Ingore the email that is empty. \n",
    "* IF there is one entry in the values set, then email_name[email] = 'name'\n",
    "* If there are two entries and one is empty, then email_name[email] = 'non-empty name'\n",
    "* If there are three entries and one is empty, \n"
   ]
  },
  {
   "cell_type": "code",
   "execution_count": null,
   "metadata": {},
   "outputs": [],
   "source": [
    "null_chosen_names, email_to_chosen, email_to_names_with_periods \\\n",
    "    = standlib.compute_email_to_chosen_name(email_to_names)"
   ]
  },
  {
   "cell_type": "code",
   "execution_count": null,
   "metadata": {
    "tags": []
   },
   "outputs": [],
   "source": [
    "for i, (k, v) in enumerate(email_to_chosen.items()):\n",
    "    if i < 5: print(f\"email: {k} --- names: {v}\")\n",
    "\n",
    "for i, (k, v) in enumerate(email_to_names_with_periods.items()):\n",
    "    if i < 5: print(f\"email: {k} --- names with periods: {v}\")"
   ]
  },
  {
   "cell_type": "code",
   "execution_count": null,
   "metadata": {},
   "outputs": [],
   "source": [
    "null_chosen_emails, names_to_remove, name_to_chosen \\\n",
    "    = standlib.compute_name_to_chosen_email(name_to_emails)\n",
    "# name_to_chosen_sort = list(name_to_chosen).sort(lambda x: x[0])\n",
    "name_to_chosen_sort = list(name_to_chosen.items())\n",
    "name_to_chosen_sort.sort(key=lambda x: x[0][0])"
   ]
  },
  {
   "cell_type": "code",
   "execution_count": null,
   "metadata": {
    "tags": []
   },
   "outputs": [],
   "source": [
    "for i, (k, v) in enumerate(name_to_chosen.items()):\n",
    "    if i < 5: print(f\"name: {k} --- emails: {v}\")\n",
    "\n",
    "names_to_remove[0:10]\n",
    "null_chosen_emails[0:5]   # emails are null, so must be determined"
   ]
  },
  {
   "cell_type": "code",
   "execution_count": null,
   "metadata": {},
   "outputs": [],
   "source": [
    "for name in null_chosen_emails:\n",
    "    try:\n",
    "        if name_to_chosen[name[0]]:\n",
    "            print(name)\n",
    "    except:\n",
    "        pass\n",
    "# None of the names in null_chosen emails are found in name_to_chosen"
   ]
  },
  {
   "cell_type": "code",
   "execution_count": null,
   "metadata": {
    "tags": []
   },
   "outputs": [],
   "source": [
    "emails_not_found_in_email_to_chosen, non_name_match, name_match \\\n",
    "    = standlib.round_trip_name(name_to_chosen, email_to_chosen)\n",
    "    \n",
    "names_not_found_in_name_to_chosen, non_email_match, email_match \\\n",
    "    = standlib.round_trip_email(email_to_chosen, name_to_chosen)"
   ]
  },
  {
   "cell_type": "code",
   "execution_count": null,
   "metadata": {},
   "outputs": [],
   "source": []
  },
  {
   "cell_type": "code",
   "execution_count": null,
   "metadata": {},
   "outputs": [],
   "source": [
    "email_to_chosen['abascom@wradvisors.com']"
   ]
  },
  {
   "cell_type": "code",
   "execution_count": null,
   "metadata": {},
   "outputs": [],
   "source": [
    "name_to_chosen;"
   ]
  },
  {
   "cell_type": "code",
   "execution_count": null,
   "metadata": {
    "tags": []
   },
   "outputs": [],
   "source": [
    "# Create a list indexed by email, and collect the names. \n",
    "email_to_names = defaultdict(list)\n",
    "for n,e in name_to_chosen.items():\n",
    "    email_to_names[e].append(n)\n",
    "# for k,v in email_to_names.items():\n",
    "#     print(f\"Email: {k} --- names: {v}\")\n",
    "len(email_to_names)"
   ]
  },
  {
   "cell_type": "code",
   "execution_count": null,
   "metadata": {},
   "outputs": [],
   "source": [
    "# Add the names associated with the emails to the list in email_to_names \n",
    "# Either add new entries, and expand existing list\n"
   ]
  },
  {
   "cell_type": "code",
   "execution_count": null,
   "metadata": {},
   "outputs": [],
   "source": [
    "len(name_to_chosen_sort)"
   ]
  },
  {
   "cell_type": "code",
   "execution_count": null,
   "metadata": {
    "tags": []
   },
   "outputs": [],
   "source": [
    "non_email_match\n",
    "#non_name_match"
   ]
  },
  {
   "cell_type": "code",
   "execution_count": null,
   "metadata": {},
   "outputs": [],
   "source": [
    "def remove_honorifics(name):\n",
    "    name = re_honorifics.sub(' ', name, re.I)\n",
    "    print(name)\n",
    "    return re.sub(' +', ' ', name)"
   ]
  },
  {
   "cell_type": "code",
   "execution_count": null,
   "metadata": {},
   "outputs": [],
   "source": [
    "name = 'Dr. Gordon E. dr. Bacher III'\n",
    "remove_honorifics(name)"
   ]
  },
  {
   "cell_type": "code",
   "execution_count": null,
   "metadata": {},
   "outputs": [],
   "source": [
    "names = (('laurie.', 'hartsfield'), ('Laurie', 'Hartsfield'))\n"
   ]
  },
  {
   "cell_type": "code",
   "execution_count": null,
   "metadata": {},
   "outputs": [],
   "source": [
    "# Identify last name matches\n",
    "matches = []\n",
    "non_matches = []\n",
    "for n1, n2 in non_name_match:\n",
    "    if n1[1] == n2[1]:\n",
    "        matches.append(n1)\n",
    "    else:\n",
    "        non_matches.append((n1,n2))\n",
    "len(matches), len(non_matches)"
   ]
  },
  {
   "cell_type": "code",
   "execution_count": null,
   "metadata": {},
   "outputs": [],
   "source": [
    "re_honorifics = re.compile(r'\\b([\\.,_-]|p\\.?h\\.?d\\.?|j\\.?r\\.?|mr\\.|ms\\.|mrs\\.|dr\\.|iii)')\n",
    "n = \"usdr. G-_ordon iii dr. p.hd iii\"\n",
    "re_honorifics.findall(n)\n",
    "re_honorifics.sub(' ', n)"
   ]
  },
  {
   "cell_type": "code",
   "execution_count": null,
   "metadata": {
    "tags": []
   },
   "outputs": [],
   "source": [
    "non_matches"
   ]
  },
  {
   "cell_type": "code",
   "execution_count": null,
   "metadata": {},
   "outputs": [],
   "source": [
    "# Search whether names in null_chosen_emails are found in email_to_chosen\n",
    "# for email, name in email_to_chosen.items():\n",
    "#     print(email, name)\n",
    "\n",
    "def search_null_chosen_emails():\n",
    "    for name in null_chosen_emails:\n",
    "        # search inefficiently, email_to_chosen\n",
    "        for key in email_to_chosen.keys():\n",
    "            if name[0] == email_to_chosen[key][0]:\n",
    "                print(\"match: name: \", name)\n",
    "                \n",
    "# search_null_chosen_emails()\n",
    "            \n",
    "# No matches found. Therefore, none of the names in null_chosen_emails have corresponding emails. \n",
    "# Therefore, fake emails must be created. \n",
    "null_chosen_emails"
   ]
  },
  {
   "cell_type": "code",
   "execution_count": null,
   "metadata": {},
   "outputs": [],
   "source": [
    "print(\"1: \",  email_to_chosen[\"CraigD@leoncountyfl.gov\"] )\n",
    "print(\"2: \",  email_to_chosen[\"CraigD@leoncountyﬂ.gov\"] )\n",
    "print(\"3: \",  email_to_chosen[\"Deborah.Craig@talgov.com\"] )\n",
    "print(\"4: \",  email_to_names[\"CraigD@leoncountyﬂ.gov\"] )\n",
    "print(\"5: \",  email_to_names[\"CraigD@leoncountyfl.gov\"] )\n",
    "print(\"6: \",  name_to_emails[('Deborah', 'Craig')] )\n",
    "\n",
    "# One missing email: Deborah.Crag@talgov.com"
   ]
  },
  {
   "cell_type": "code",
   "execution_count": null,
   "metadata": {
    "tags": []
   },
   "outputs": [],
   "source": [
    "name_to_emails"
   ]
  },
  {
   "cell_type": "code",
   "execution_count": null,
   "metadata": {
    "tags": []
   },
   "outputs": [],
   "source": [
    "# How can these happen in non_email_match\n",
    "# 'mailto:LBridges@flcities.com'),\n",
    "# 'calendarno.ﬁca.on@google.com>', 'paige.tallahasseedowntown@gmail.com'),\n",
    "# \n",
    "\n",
    "non_email_match\n",
    "# email_match"
   ]
  },
  {
   "cell_type": "code",
   "execution_count": null,
   "metadata": {},
   "outputs": [],
   "source": [
    "len(email_to_names_with_periods), email_to_names_with_periods;\n",
    "# Incorrect removals: \n",
    "# 'cur.s@morethanbuildings.com': ('Cur.s', 'Whigham'),\n",
    "# 'anita.favors.thompson@talgov.com': ('anita.favors.', 'thompson'),\n",
    "#  'Chris.an.Doolin@talgov.com': ('Chris.an', 'Doolin')\n",
    "# 3 out of 300 or 1% wrong removal. The reason is that the names were not capitalized in one case, \n",
    "#   an abbreviation was not capitalized (Cur.s instead of Cur.S), Same for Chris.an; the \"an\" should probably be capitalized."
   ]
  },
  {
   "cell_type": "code",
   "execution_count": null,
   "metadata": {
    "tags": []
   },
   "outputs": [],
   "source": [
    "non_name_match"
   ]
  },
  {
   "cell_type": "code",
   "execution_count": null,
   "metadata": {
    "tags": []
   },
   "outputs": [],
   "source": [
    "email_to_chosen"
   ]
  },
  {
   "cell_type": "code",
   "execution_count": null,
   "metadata": {},
   "outputs": [],
   "source": [
    "len(email_to_chosen)"
   ]
  },
  {
   "cell_type": "code",
   "execution_count": null,
   "metadata": {
    "tags": []
   },
   "outputs": [],
   "source": [
    "for email, names in email_to_names.items():\n",
    "    if len(names) > 1 and len(names) < 10:\n",
    "        print(f\"[{email}] => {names}\")"
   ]
  },
  {
   "cell_type": "markdown",
   "metadata": {},
   "source": [
    "---\n",
    "# COMPLETE FIRST ANALYSIS\n",
    "## Below is Joey stuff\n",
    "---"
   ]
  },
  {
   "cell_type": "code",
   "execution_count": null,
   "metadata": {
    "tags": []
   },
   "outputs": [],
   "source": [
    "people_list = []\n",
    "named_email_list = []\n",
    "name_list = []\n",
    "unrecognized_names = set()\n",
    "email_set = set()\n",
    "people_set = set()\n",
    "name_set = set()\n",
    "# name_dict[('joe', 'blow')] = list of emails\n",
    "name_dict = defaultdict(list) \n",
    "\n",
    "search_from_section(from_list)\n",
    "print(len(people_list))\n",
    "# search_to_section(to_list)\n",
    "# print(len(people_list))\n",
    "# search_cc_section(cc_list)\n",
    "# print(len(people_list))"
   ]
  },
  {
   "cell_type": "code",
   "execution_count": null,
   "metadata": {
    "tags": []
   },
   "outputs": [],
   "source": [
    "people_set = set(people_list)\n",
    "named_email_set = set(named_email_list)\n",
    "name_set = set(name_list)"
   ]
  },
  {
   "cell_type": "code",
   "execution_count": null,
   "metadata": {},
   "outputs": [],
   "source": [
    "people_list[0:2], named_email_list[0:2], name_list[0:2]"
   ]
  },
  {
   "cell_type": "code",
   "execution_count": null,
   "metadata": {},
   "outputs": [],
   "source": [
    "unrecognized_names"
   ]
  },
  {
   "cell_type": "code",
   "execution_count": null,
   "metadata": {
    "tags": []
   },
   "outputs": [],
   "source": [
    "named_email_list"
   ]
  },
  {
   "cell_type": "code",
   "execution_count": null,
   "metadata": {
    "tags": []
   },
   "outputs": [],
   "source": [
    "standlib.analyze_from_list(from_list)"
   ]
  },
  {
   "cell_type": "code",
   "execution_count": null,
   "metadata": {
    "scrolled": true
   },
   "outputs": [],
   "source": [
    "len(new_from_list)"
   ]
  },
  {
   "cell_type": "code",
   "execution_count": null,
   "metadata": {
    "scrolled": true
   },
   "outputs": [],
   "source": [
    "len(from_list)"
   ]
  },
  {
   "cell_type": "code",
   "execution_count": null,
   "metadata": {
    "tags": []
   },
   "outputs": [],
   "source": [
    "x"
   ]
  },
  {
   "cell_type": "code",
   "execution_count": null,
   "metadata": {},
   "outputs": [],
   "source": [
    "new_to_list = analyze_list_of_lists(to_list)\n",
    "new_cc_list = analyze_list_of_lists(cc_list)"
   ]
  },
  {
   "cell_type": "code",
   "execution_count": null,
   "metadata": {},
   "outputs": [],
   "source": [
    "len(to_list)"
   ]
  },
  {
   "cell_type": "code",
   "execution_count": null,
   "metadata": {},
   "outputs": [],
   "source": [
    "len(new_to_lists)"
   ]
  },
  {
   "cell_type": "code",
   "execution_count": null,
   "metadata": {
    "tags": []
   },
   "outputs": [],
   "source": [
    "#new_to_lists[:10]\n",
    "# for el in new_to_lists:\n",
    "for i, el in enumerate(new_to_lists):\n",
    "    ##if i > 5: break\n",
    "    print(el)   # How can element of new_to_lists be empty?\n",
    "    ell = el[0]\n",
    "    if ell[0] == ' ' or ell[1] == ' ':\n",
    "        print(ell)"
   ]
  },
  {
   "cell_type": "code",
   "execution_count": null,
   "metadata": {},
   "outputs": [],
   "source": [
    "len(cc_list)"
   ]
  },
  {
   "cell_type": "code",
   "execution_count": null,
   "metadata": {},
   "outputs": [],
   "source": [
    "len(new_cc_lists)"
   ]
  },
  {
   "cell_type": "code",
   "execution_count": null,
   "metadata": {},
   "outputs": [],
   "source": [
    "new_cc_lists[:10]"
   ]
  },
  {
   "cell_type": "code",
   "execution_count": null,
   "metadata": {},
   "outputs": [],
   "source": [
    "df_new = df.copy()\n",
    "df_new['From'] = new_from_list\n",
    "df_new['To'] = new_to_lists\n",
    "df_new['CC'] = new_cc_lists\n",
    "df_new\n"
   ]
  },
  {
   "cell_type": "code",
   "execution_count": null,
   "metadata": {},
   "outputs": [],
   "source": [
    "df_new.to_csv('output_0211_name_standardized.csv', index=0)"
   ]
  },
  {
   "cell_type": "code",
   "execution_count": null,
   "metadata": {},
   "outputs": [],
   "source": [
    "f = pd.read_csv('output_0211_name_standardized.csv')"
   ]
  },
  {
   "cell_type": "code",
   "execution_count": null,
   "metadata": {},
   "outputs": [],
   "source": [
    "f.To.head()"
   ]
  },
  {
   "cell_type": "code",
   "execution_count": null,
   "metadata": {},
   "outputs": [],
   "source": [
    "f.CC.head()"
   ]
  },
  {
   "cell_type": "code",
   "execution_count": null,
   "metadata": {},
   "outputs": [],
   "source": [
    "eval(f.CC.head()[0])"
   ]
  },
  {
   "cell_type": "markdown",
   "metadata": {},
   "source": [
    "---\n",
    "# Not used"
   ]
  },
  {
   "cell_type": "code",
   "execution_count": null,
   "metadata": {
    "tags": []
   },
   "outputs": [],
   "source": [
    "email_to_names = defaultdict(set)\n",
    "name_to_emails = defaultdict(set)\n",
    "unrecognized_names = set()\n",
    "field_dict = defaultdict(tuple)\n",
    "\n",
    "# from_dict, to_dict, cc_dict are currently the identity mapping\n",
    "# Eventually, each key will map to an email\n",
    "\n",
    "standlib.ge_search_from(from_list, email_to_names, name_to_emails, unrecognized_names, field_dict)\n",
    "print(len(field_dict))\n",
    "standlib.ge_search_list_of_lists(to_list, email_to_names, name_to_emails, unrecognized_names, field_dict)\n",
    "print(len(field_dict))\n",
    "standlib.ge_search_list_of_lists(cc_list, email_to_names, name_to_emails, unrecognized_names, field_dict)\n",
    "print(len(field_dict))\n",
    "\n",
    "# All entries have a single element in the set. So sets were not required. "
   ]
  },
  {
   "cell_type": "markdown",
   "metadata": {},
   "source": [
    "# Some experiments with my new class"
   ]
  },
  {
   "cell_type": "code",
   "execution_count": 242,
   "metadata": {},
   "outputs": [
    {
     "data": {
      "text/plain": [
       "'Ajonte Bush'"
      ]
     },
     "execution_count": 242,
     "metadata": {},
     "output_type": "execute_result"
    }
   ],
   "source": [
    "import unidecode\n",
    "name = 'Ajontè Bush'\n",
    "unidecode.unidecode(name)"
   ]
  },
  {
   "cell_type": "code",
   "execution_count": 278,
   "metadata": {},
   "outputs": [
    {
     "name": "stdout",
     "output_type": "stream",
     "text": [
      "__3 AE 45 Corey  HI KL Mathews______corey mathews\n",
      "__Adams Jennifer G______adams jennifer g\n",
      "__Ahmed Farhran R______ahmed farhran r\n",
      "__Ana Cruz, Aide to Ortiz______ aide to ortiz ana cruz\n",
      "__Ahmad Khalil Favors Sr______ahmad khalil favors \n",
      "__Roxanne Manning, AICP______ roxanne manning\n",
      "__Chris Chadwell, Aide to Wiggs______ aide to wiggs chris chadwell\n",
      "__Ajontè Bush______ajonte bush\n",
      "__Ajowe Halsey Asha A______ajowe halsey asha a\n",
      "__AIA Doug Shuler______ doug shuler\n",
      "__AICP Karen Jumonville______ karen jumonville\n",
      "__Crawford, Aisha R______ aisha r crawford\n",
      "__Erlebacher, Gordon______ gordon erlebacher\n",
      "__James \"Jim\" A. Snyder______james jim a snyder\n"
     ]
    }
   ],
   "source": [
    "#if there is more than one comma, probably a list of anmes\n",
    "names  = [\n",
    "    '3 AE 45 Corey  HI KL Mathews', # looks like two names. Missing comma? AE: two initials\n",
    "    'Adams Jennifer G',  # real name: Jennifer G. Adams? \n",
    "    'Ahmed Farhran R',  # I should keep all initials\n",
    "    'Ana Cruz, Aide to Ortiz', # Should return Ana Cruz, not \"aide cruz\"\n",
    "    'Ahmad Khalil Favors Sr', # should simply remove Sr\n",
    "    'Roxanne Manning, AICP', # shoudl simply remove AICP\n",
    "    'Chris Chadwell, Aide to Wiggs', #should return 'Chris Chadwell\n",
    "    'Ajontè Bush', # should remove the accent\n",
    "    'Ajowe Halsey Asha A', # should return the same\n",
    "    'AIA Doug Shuler', # remove AIA\n",
    "    'AICP Karen Jumonville', # remove AICP\n",
    "    'Crawford, Aisha R', # return 'Aisha R Crawford'\n",
    "    'Erlebacher, Gordon',\n",
    "    'James \"Jim\" A. Snyder',\n",
    "]\n",
    "\n",
    "for name in names:\n",
    "    #n = standlib.clean_name_better(name)\n",
    "    n = standlib.clean_name_better(name)\n",
    "    print(f\"__{name}______{n}\")\n"
   ]
  }
 ],
 "metadata": {
  "kernelspec": {
   "display_name": "Python 3",
   "language": "python",
   "name": "python3"
  },
  "language_info": {
   "codemirror_mode": {
    "name": "ipython",
    "version": 3
   },
   "file_extension": ".py",
   "mimetype": "text/x-python",
   "name": "python",
   "nbconvert_exporter": "python",
   "pygments_lexer": "ipython3",
   "version": "3.8.8"
  },
  "toc": {
   "base_numbering": 1,
   "nav_menu": {},
   "number_sections": true,
   "sideBar": true,
   "skip_h1_title": false,
   "title_cell": "Table of Contents",
   "title_sidebar": "Contents",
   "toc_cell": true,
   "toc_position": {},
   "toc_section_display": true,
   "toc_window_display": true
  },
  "widgets": {
   "application/vnd.jupyter.widget-state+json": {
    "state": {},
    "version_major": 2,
    "version_minor": 0
   }
  }
 },
 "nbformat": 4,
 "nbformat_minor": 4
}
