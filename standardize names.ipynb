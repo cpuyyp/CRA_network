{
 "cells": [
  {
   "cell_type": "markdown",
   "metadata": {
    "toc": true
   },
   "source": [
    "<h1>Table of Contents<span class=\"tocSkip\"></span></h1>\n",
    "<div class=\"toc\"><ul class=\"toc-item\"></ul></div>"
   ]
  },
  {
   "cell_type": "code",
   "execution_count": 2,
   "metadata": {},
   "outputs": [],
   "source": [
    "%load_ext autoreload\n",
    "%autoreload 2"
   ]
  },
  {
   "cell_type": "code",
   "execution_count": 3,
   "metadata": {
    "scrolled": true,
    "tags": []
   },
   "outputs": [],
   "source": [
    "import numpy as np\n",
    "# import networkx as nx\n",
    "import matplotlib.pyplot as plt\n",
    "import pandas as pd\n",
    "from collections import defaultdict\n",
    "import regex as rex\n",
    "import standardize_library as standlib\n",
    "from standardize_library import StandardizeNames\n",
    "from unidecode import unidecode\n",
    "import copy\n",
    "\n",
    "import name_matching_lib as nmlib\n",
    "import time\n",
    "# from sklearn.feature_extraction.text import TfidfVectorizer\n",
    "# from scipy.sparse import csr_matrix\n",
    "# import sparse_dot_topn.sparse_dot_topn as ct  #Cosine Similarity\n",
    "\n",
    "# from function_library import *\n",
    "# from function_library2 import *"
   ]
  },
  {
   "cell_type": "code",
   "execution_count": 4,
   "metadata": {},
   "outputs": [],
   "source": [
    "pd.set_option(\"display.max_rows\", 999)"
   ]
  },
  {
   "cell_type": "code",
   "execution_count": 26,
   "metadata": {},
   "outputs": [
    {
     "name": "stdout",
     "output_type": "stream",
     "text": [
      "71143\n"
     ]
    }
   ],
   "source": [
    "# either the sender or the recipient\n",
    "# df = pd.read_csv('new_clean_output.csv',index_col = 0)\n",
    "df = pd.read_csv('output_0211.csv')\n",
    "\n",
    "# df = df.drop_duplicates(keep='first',subset=['Sent'])\n",
    "# df = df.reset_index(drop=True)\n",
    "\n",
    "from_list = df['From'].values.tolist()\n",
    "to_list = df['To'].values.tolist()\n",
    "cc_list = df['CC'].values.tolist()\n",
    "print(len(from_list))"
   ]
  },
  {
   "cell_type": "code",
   "execution_count": 77,
   "metadata": {},
   "outputs": [],
   "source": [
    "np.savetxt(\"cc_list.txt\", cc_list, fmt='%s') "
   ]
  },
  {
   "cell_type": "code",
   "execution_count": 28,
   "metadata": {},
   "outputs": [],
   "source": [
    "name = \"Elyea, Janice, Lisenby, Katherine\""
   ]
  },
  {
   "cell_type": "code",
   "execution_count": 29,
   "metadata": {},
   "outputs": [
    {
     "name": "stdout",
     "output_type": "stream",
     "text": [
      "==>   Elyea, Janice, Lisenby, Katherine, Baldwin, Angela, Lowe, Terry, 'Paige Carter-Smith', Worrell, Don, Carter-Smith, Janice, Goad, Reese\n",
      "==>   Elyea, Janice, Lisenby, Katherine\n",
      "==>   Elyea, Janice, Lisenby, Katherine\n",
      "==>   Elyea, Janice, Lisenby, Katherine\n",
      "==>   Elyea, Janice, Lisenby, Katherine, Baldwin, Angela, Lowe, Terry, 'Paige Carter-Smith', Worrell, Don, Carter-Smith, Janice, Goad, Reese\n",
      "==>   Elyea, Janice, Lisenby, Katherine\n"
     ]
    }
   ],
   "source": [
    "for el in cc_list:\n",
    "    if pd.isnull(el): continue\n",
    "    if rex.match(r'.?Elyea, Janice, Lisenby, Katherine', el):\n",
    "        print(\"==> \", el)"
   ]
  },
  {
   "cell_type": "code",
   "execution_count": 30,
   "metadata": {
    "tags": []
   },
   "outputs": [],
   "source": [
    "cc_list;"
   ]
  },
  {
   "cell_type": "code",
   "execution_count": 31,
   "metadata": {
    "tags": []
   },
   "outputs": [],
   "source": [
    "# New class that collects all useful routines\n",
    "sz = 1000\n",
    "# sz = None\n",
    "# stand = StandardizeNames(from_list[:sz], to_list[:sz], cc_list[:sz])\n",
    "stand = StandardizeNames(from_list[:], to_list[:], cc_list[:])\n",
    "stand.process()"
   ]
  },
  {
   "cell_type": "code",
   "execution_count": 32,
   "metadata": {},
   "outputs": [
    {
     "data": {
      "text/plain": [
       "(2008, 9048)"
      ]
     },
     "execution_count": 32,
     "metadata": {},
     "output_type": "execute_result"
    }
   ],
   "source": [
    "stand.clean_names_without_emails;\n",
    "len(stand.clean_names_with_emails), len(stand.clean_names_without_emails)\n",
    "# len(stand.name_to_emails), len(stand.email_to_names)"
   ]
  },
  {
   "cell_type": "code",
   "execution_count": 33,
   "metadata": {},
   "outputs": [],
   "source": [
    "my_list = stand.clean_names_with_emails + stand.clean_names_without_emails\n",
    "matches_df = nmlib.name_matches(my_list, cs_thresh=0.7, ngram=2)"
   ]
  },
  {
   "cell_type": "code",
   "execution_count": 34,
   "metadata": {},
   "outputs": [
    {
     "data": {
      "text/plain": [
       "(31, 3)"
      ]
     },
     "execution_count": 34,
     "metadata": {},
     "output_type": "execute_result"
    }
   ],
   "source": [
    "matches_df.shape"
   ]
  },
  {
   "cell_type": "code",
   "execution_count": 36,
   "metadata": {},
   "outputs": [],
   "source": [
    "matches_df;"
   ]
  },
  {
   "cell_type": "code",
   "execution_count": 37,
   "metadata": {
    "tags": []
   },
   "outputs": [
    {
     "name": "stdout",
     "output_type": "stream",
     "text": [
      "no mail/mail:    northjonesallison,     allisonnorthjones,           0.85\n",
      "no mail/mail:          tantallison,           allisontant,           0.85\n",
      "no mail/mail:          adamgoodsen,           adamgoodson,           0.83\n",
      "no mail/mail:    allenthompsoncell,         allenthompson,           0.83\n",
      "no mail/mail:          allisonscor,          allisonscott,           0.82\n",
      "no mail/mail:   allmailboxesbewell,          allmailboxes,           0.81\n",
      "no mail/mail: allisonbehrmanthompson,        allisonbehrman,           0.81\n",
      "no mail/mail:          idathompson,        amandathompson,           0.80\n",
      "no mail/mail:        thompsonallen,         allenthompson,           0.80\n",
      "no mail/mail: allisonbehrmancappel,        allisonbehrman,           0.79\n",
      "no mail/mail:              ataylor,           alanataylor,           0.78\n",
      "no mail/mail:             adamcory,             adamcorey,           0.78\n",
      "no mail/mail:    alexmedinabarnack,            alexmedina,           0.77\n",
      "no mail/mail:          jananderson,              anderson,           0.76\n",
      "no mail/mail:         billanderson,              anderson,           0.76\n",
      "no mail/mail:          jimanderson,              anderson,           0.76\n",
      "no mail/mail:          paulajsmith,               ajsmith,           0.74\n",
      "no mail/mail:         juanwilliams,          alanwilliams,           0.73\n",
      "no mail/mail:         bresanderson,              anderson,           0.71\n",
      "no mail/mail:          teaseamanda,           amandatease,           0.70\n",
      "no mail/mail:         mattanderson,              anderson,           0.70\n"
     ]
    }
   ],
   "source": [
    "left = matches_df['left_side'].values\n",
    "right = matches_df['right_side'].values\n",
    "simil = matches_df['similarity'].values\n",
    "mails = set(stand.clean_names_with_emails)\n",
    "nomails = set(stand.clean_names_without_emails)\n",
    "for l,r,s in zip(left, right, simil):\n",
    "    if l in nomails and r in mails: \n",
    "        print(f\"no mail/mail: %20s,  %20s, %14.2f\" % (l, r, s))\n",
    "    elif r in nomails and l in mails:\n",
    "        print(f\"no mail/mail: %20s,  %20s, %14.2f\" % (r, l, s))"
   ]
  },
  {
   "cell_type": "code",
   "execution_count": null,
   "metadata": {},
   "outputs": [],
   "source": [
    "standlib.clean_name_better('5Gary Yordon (gary@govinc net')"
   ]
  },
  {
   "cell_type": "code",
   "execution_count": 38,
   "metadata": {},
   "outputs": [],
   "source": [
    "# Scan all the names \n",
    "stand.clean_to_unclean_names()\n",
    "lst = list(stand.clean_to_unclean.items())\n",
    "lst.sort(key=lambda x: x[0])"
   ]
  },
  {
   "cell_type": "code",
   "execution_count": 40,
   "metadata": {},
   "outputs": [
    {
     "data": {
      "text/plain": [
       "{\" 'Alana Taylor'\",\n",
       " ' Alana Taylor',\n",
       " 'Alana Taylor',\n",
       " 'Alana Taylor <ataylor@think3d.net',\n",
       " 'Alana Taylor <ataylor@think3d.net>, Stefanie Kiedrowski <skiedrow@gmail.com>, Paige CarterSmith <paigecartersmith@gmail.com',\n",
       " 'Alana Taylor [mailto:ATaylor@think3d.net]'}"
      ]
     },
     "execution_count": 40,
     "metadata": {},
     "output_type": "execute_result"
    }
   ],
   "source": [
    "nms = stand.clean_to_unclean\n",
    "nms['alanataylor']"
   ]
  },
  {
   "cell_type": "code",
   "execution_count": 41,
   "metadata": {
    "tags": []
   },
   "outputs": [
    {
     "data": {
      "text/plain": [
       "{\" 'Gary Yordon'\",\n",
       " \" 'Gary Yordon', 'Rick Oppenheim'\",\n",
       " \" 'Gary Yordon', Chuck Mitchell\",\n",
       " \" 'Gary Yordon', Gmax1 (gmax1@comcast.net)\",\n",
       " \" 'Gary Yordon', Wes Townson\",\n",
       " \" 'gary yordon'\",\n",
       " ' 5Gary Yordon',\n",
       " ' 5Gary Yordon (gary@govinc net)',\n",
       " ' 5Gary Yordon (gary@govinc.net)',\n",
       " ' 5Gary Yordon(gary@govinc.net)',\n",
       " ' <Gary Yordon',\n",
       " ' Gary Yordon',\n",
       " ' Gary Yordon (gary@govinc.net)',\n",
       " ' Gary Yordon (gary@govinc.net), Erik Rowen',\n",
       " ' Gary Yordon (gary@govinc.net), Gary Yordon(gbyordon@gmail.com)',\n",
       " ' Gary Yordon (gary@zprgroup.com)',\n",
       " ' Gary Yordon (gbyordon@gmail.com)',\n",
       " ' Gary Yordon (gbyordon@gmail.com) Monday, February 12, 2018 at 4:57:45 PM Eastern Standard Time',\n",
       " ' Gary Yordon <gary@govinc.net',\n",
       " ' Gary Yordon <gary@zprgroup.com',\n",
       " ' Gary Yordon(gary@govinc.net)',\n",
       " ' Gary Yordon(gbyordon@gmail.com)',\n",
       " ' GaryYordon',\n",
       " ' Yordon, Gary',\n",
       " ' gary yordon',\n",
       " ' yordon, gary',\n",
       " \"'Gary Yordon'\",\n",
       " \"'Gary Yordon' <gary@zprgroup.com\",\n",
       " \"'gary yordon'\",\n",
       " '5Gary Yordon (gary@govinc.net)',\n",
       " 'Gary Yordon',\n",
       " 'Gary Yordon (gary@govinc.net)',\n",
       " 'Gary Yordon (gbyordon@gmail.com)',\n",
       " 'Gary Yordon <ga1y_@ govinc.net',\n",
       " 'Gary Yordon <gary@govinc.net',\n",
       " 'Gary Yordon <gary@zprgroup.com',\n",
       " 'Gary Yordon <gary@zprgroup.com Monday, February 12, 2018 at 6:58:57 PM Eastern Standard Time',\n",
       " 'Gary Yordon <gary@zprgroup.com>',\n",
       " 'Gary Yordon [gary@govinc.net]',\n",
       " 'Gary Yordon [gary@zprgroup.com] Received: Monday, 08 Aug 2016, 8:00PM',\n",
       " 'Gary Yordon [mailto:gary@govinc net]',\n",
       " 'Gary Yordon [mailto:gary@govinc.net<http://govinc.net>]',\n",
       " 'Gary Yordon [mailto:gary@govinc.net]',\n",
       " 'Gary Yordon [mailto:gary@zprgroup.com]',\n",
       " 'Gary Yordon [mailto:gary@zprgroup.com] Monday, February 12, 2018 at 4:55:41 PM Eastern Standard Time',\n",
       " 'Gary Yordon [mailto:gbyordon@gmail.com]',\n",
       " 'Gary\\xa0Yordon\\xa0<gary@govinc.net',\n",
       " 'gary Yordon',\n",
       " 'gary yordon',\n",
       " 'gary yordon [mailto:gary@zprgroup.com]',\n",
       " 'gary yordon [mailto:noreply@insideicloud.icloud.com]'}"
      ]
     },
     "execution_count": 41,
     "metadata": {},
     "output_type": "execute_result"
    }
   ],
   "source": [
    "nms['garyyordon']\n",
    "# standlib.clean_name_better(' 5Gary Yordon')"
   ]
  },
  {
   "cell_type": "code",
   "execution_count": 42,
   "metadata": {},
   "outputs": [
    {
     "data": {
      "text/plain": [
       "{' Tease, Amanda',\n",
       " ' Tease, Amanda <Amanda.Tease@talgov.com>',\n",
       " '\"Tease, Amanda\" <Amanda.Tease@talgov.com',\n",
       " 'Tease, Amanda'}"
      ]
     },
     "execution_count": 42,
     "metadata": {},
     "output_type": "execute_result"
    }
   ],
   "source": [
    "nms['amandatease']"
   ]
  },
  {
   "cell_type": "code",
   "execution_count": 43,
   "metadata": {
    "tags": []
   },
   "outputs": [],
   "source": [
    "if False:\n",
    "    for i,el in enumerate(lst):\n",
    "        if len(el[1]) > 3: \n",
    "            #print(f\"___{el[0]}______  <<<  {len(el[1])}  >>>\")\n",
    "            pass\n",
    "        else: \n",
    "            print(f\"___{el[0]}______   {el[1]}  \")\n",
    "        if i > 1000: break"
   ]
  },
  {
   "cell_type": "markdown",
   "metadata": {},
   "source": [
    "# update From header"
   ]
  },
  {
   "cell_type": "code",
   "execution_count": 59,
   "metadata": {},
   "outputs": [],
   "source": [
    "len(from_list)\n",
    "with_emails = defaultdict(set)\n",
    "without_emails = defaultdict(set)\n",
    "count = 0\n",
    "count_from_with_emails = 0\n",
    "count_from_without_emails = 1\n",
    "new_from_list = []\n",
    "\n",
    "fd = stand.field_dict1\n",
    "for el in from_list:\n",
    "    if not fd[el]: \n",
    "        count += 1\n",
    "        new_from_list.append('')\n",
    "        continue\n",
    "    name, email = fd[el]\n",
    "    if email == '':\n",
    "        without_emails[el] = name\n",
    "        new_from_list.append(name)\n",
    "    else:\n",
    "        with_emails[el] = email\n",
    "        new_from_list.append(email)"
   ]
  },
  {
   "cell_type": "code",
   "execution_count": 60,
   "metadata": {},
   "outputs": [
    {
     "data": {
      "text/plain": [
       "(1741, 3108, 71143, 777)"
      ]
     },
     "execution_count": 60,
     "metadata": {},
     "output_type": "execute_result"
    }
   ],
   "source": [
    "len(without_emails), len(with_emails), len(from_list), count"
   ]
  },
  {
   "cell_type": "code",
   "execution_count": 64,
   "metadata": {},
   "outputs": [],
   "source": [
    "fd;"
   ]
  },
  {
   "cell_type": "code",
   "execution_count": 66,
   "metadata": {},
   "outputs": [
    {
     "data": {
      "text/plain": [
       "(71143, (71143, 16))"
      ]
     },
     "execution_count": 66,
     "metadata": {},
     "output_type": "execute_result"
    }
   ],
   "source": [
    "# The From without an email might not actually be real emails, but messages within the emails. Not sure about that. \n",
    "# \n",
    "df['new_from'] = new_from_list\n",
    "len(new_from_list), df.shape"
   ]
  },
  {
   "cell_type": "markdown",
   "metadata": {},
   "source": [
    "# update To header"
   ]
  },
  {
   "cell_type": "code",
   "execution_count": 70,
   "metadata": {},
   "outputs": [
    {
     "name": "stdout",
     "output_type": "stream",
     "text": [
      "==>  Brooks Hayes (brooks@culpeppercc.com)\n",
      "==>  Coons, Kristen\n",
      "==>  kim@inkbridge.com\n",
      "==>  Faris, Alison\n",
      "==>   andrew.gillum@talgov.com, anita.ﬂowers@talgov.com, rick.fernandez@talgov.com, Nancy Miller, scof, gil.ziﬀer@talgov.com, cur_s.richardson@talgov.com, deslogeb@leoncountyFL.gov, dozierk@leoncountyFl.gov, proctorb@leoncountyFL.gov, dailey@leoncountyFL.gov, Mary Ann Lindley\n",
      "==>   Elias Mathes TDIA, Davis, Danielle, Paige Carter-Smith, downtownmarket@earthlink.net\n",
      "==>  Alfano, Michael\n",
      "==>   longV@leoncountyﬂ.gov, Mary Ann Lindley, proctorb@leoncountyFL.gov, Monday, February 12, 2018 at 7:15:45 PM Eastern Standard Time\n",
      "==>  Chad Kittrell\n",
      "==>  Sue Dick; Dana Noles; Whitney Weeks; Ed Edward Murray Jr.; Kristin Dozier; Cecilia Homison; lonnie.ballard@talgov.com; balogs@tcc.fl.edu; kgb@coloneybell.com; rbouthillier@stearnsweaver.com; jt@inkbridge.com; will@realestateinsync.com; paige@governanceinc.com; dcoburn@fsu.edu; betsy.couch@kccitallahassee.com; chris.curry@talgov.com; daileyj@leoncountyfl.gov; austin.davidson@patlive.com; Stephanie.derzypolski@tmh.org; deslogeb@leoncountyfl.gov; dozierk@leoncountyfl.gov; bedington@fsu.edu; rick.fernandez@talgov.com; shawnta.fridaystroud@famu.edu; Andrew.Gillum@talgov.com; mhartline@cob.fsu.edu; chomison@firstcommercecu.org; wkhowell@thf-cpa.com; drew@vancorejones.com; jkiker@wggdlaw.com; lindleym@leoncountyfl.gov; longv@leoncountyfl.gov; llynch@taledc.com; scott.maddox@talgov.com; jmcneill@talcor.com; jim.mcshane@careersourcecapitalregion.com; rmiller@inn-park.com; nancy.miller@talgov.com; bmoor@ccbg.com; rmoore@moorebass.com; mmoore@moorebass.com; mooreki@tcc.fl.edu; karenm@moorecommgroup.com; timothy.moore@famu.edu; murdaugj@tcc.fl.edu; murray@talcor.com; jnelms@talquinelectric.com; boliver@oliverrenovation.com; gary@fsu.edu; marc@paulconsulting.com; audra@cocanet.org; jay.tallahasseedowntown@gmail.com; curtis.richardson@talgov.com; kim@inkbridge.net; rosenzweiga@leoncountyfl.gov; Darnell.Smith@bcbsfl.com; tsperry@oliverrenovation.com; wayne.tedder@talgov.com; tlwaters@tallahassee.com; micah@domiventures.com; kim@marpan.com; kxayabouth@my100bank.com; gil.ziffer@talgov.com\n"
     ]
    }
   ],
   "source": [
    "for i in range(10):\n",
    "    print(\"==> \", to_list[i])"
   ]
  },
  {
   "cell_type": "code",
   "execution_count": null,
   "metadata": {},
   "outputs": [],
   "source": [
    "len(to_list)\n",
    "with_emails = defaultdict(set)\n",
    "without_emails = defaultdict(set)\n",
    "count = 0\n",
    "count_from_with_emails = 0\n",
    "count_from_without_emails = 1\n",
    "new_from_list = []\n",
    "\n",
    "fd = stand.field_dict1\n",
    "for el in from_list:\n",
    "    if not fd[el]: \n",
    "        count += 1\n",
    "        new_from_list.append('')\n",
    "        continue\n",
    "    name, email = fd[el]\n",
    "    if email == '':\n",
    "        without_emails[el] = name\n",
    "        new_from_list.append(name)\n",
    "    else:\n",
    "        with_emails[el] = email\n",
    "        new_from_list.append(email)"
   ]
  },
  {
   "cell_type": "markdown",
   "metadata": {},
   "source": [
    "# update Cc header"
   ]
  },
  {
   "cell_type": "markdown",
   "metadata": {},
   "source": []
  },
  {
   "cell_type": "markdown",
   "metadata": {},
   "source": [
    "# Completed section based on class Standardize\n",
    "---"
   ]
  },
  {
   "cell_type": "code",
   "execution_count": null,
   "metadata": {},
   "outputs": [],
   "source": []
  },
  {
   "cell_type": "code",
   "execution_count": null,
   "metadata": {},
   "outputs": [],
   "source": []
  },
  {
   "cell_type": "code",
   "execution_count": null,
   "metadata": {},
   "outputs": [],
   "source": []
  },
  {
   "cell_type": "code",
   "execution_count": null,
   "metadata": {},
   "outputs": [],
   "source": []
  },
  {
   "cell_type": "code",
   "execution_count": null,
   "metadata": {},
   "outputs": [],
   "source": []
  },
  {
   "cell_type": "code",
   "execution_count": null,
   "metadata": {},
   "outputs": [],
   "source": []
  },
  {
   "cell_type": "code",
   "execution_count": null,
   "metadata": {},
   "outputs": [],
   "source": []
  },
  {
   "cell_type": "code",
   "execution_count": null,
   "metadata": {},
   "outputs": [],
   "source": []
  },
  {
   "cell_type": "code",
   "execution_count": 280,
   "metadata": {},
   "outputs": [
    {
     "name": "stdout",
     "output_type": "stream",
     "text": [
      "{'', 'mailtozacorey@gunster.com', 'rgrindler@101tally.com', 'acorey@gunster.com', 'adam@edisontally.com', 'mailtozacoreng101tally.com', 'adambcorey@gmail.com', 'mailtozacorey@101tally.com', 'adam@unconventionalstrategies.com', 'rmills@fsuoldschool.com', 'byronburroughs@yahoo.com', 'adam@101tallahassee.com', 'hlayerd@think3d.net', 'acorey@101tally.com', 'acorey@101tally.co'}\n"
     ]
    }
   ],
   "source": [
    "print(stand.name_to_emails[\"adam corey\"])"
   ]
  },
  {
   "cell_type": "code",
   "execution_count": 281,
   "metadata": {},
   "outputs": [],
   "source": [
    "# field_dict, unique_names, field_to_clean, unrecognized_names \n",
    "field_dict = standlib.create_field_dict(from_list, to_list, cc_list)\n",
    "field_dict1, unique_names, removed, unrecognized_names = standlib.clean_field_dict_values(field_dict)\n",
    "\n",
    "# study seperately\n",
    "# removed: remove all names (field content from From:, To:, cc:) with length greater than 20 (number can change)\n",
    "# unrecognized names: "
   ]
  },
  {
   "cell_type": "code",
   "execution_count": null,
   "metadata": {},
   "outputs": [],
   "source": [
    "standlib.print_dict(field_dict1, 1)"
   ]
  },
  {
   "cell_type": "code",
   "execution_count": null,
   "metadata": {
    "tags": []
   },
   "outputs": [],
   "source": [
    "removed[0:5]"
   ]
  },
  {
   "cell_type": "code",
   "execution_count": null,
   "metadata": {},
   "outputs": [],
   "source": [
    "# cleaned names: \n",
    "double_caps = []\n",
    "unq = list(unique_names.keys())\n",
    "#unq.sort(key=lambda x: x.lower().strip())\n",
    "# Sort with respect to last name\n",
    "unq.sort(key=lambda x: rex.sub(\".*\\s(\\w+)$\", r'\\1', x.lower()))\n",
    "print(len(unq))\n",
    "for k in unq:\n",
    "    n = standlib.join_prefix_to_stem(k)\n",
    "    # Two capital letters in succession\n",
    "    if rex.match(r'.*([A-Z])([A-Z]).*\\Z', k):\n",
    "        # print(\"Double Cap: \", k)\n",
    "        double_caps.append(n)\n",
    "    if  n != k:\n",
    "        print(f\"{k}_____{n}\")\n",
    "    #if  rex.match(r'\\A\\s?\\w{1,}\\ \\w+\\s?\\Z', k, flags=rex.UNICODE):\n",
    "    if 1:\n",
    "        # print(f\"___{k}___\")\n",
    "        pass\n",
    "print(\"nb double caps: \", len(double_caps))"
   ]
  },
  {
   "cell_type": "code",
   "execution_count": null,
   "metadata": {},
   "outputs": [],
   "source": [
    "field_dict1['Shane Moniz']\n",
    "def analyze(name):\n",
    "    print(f\"field_dict1[{name}]: {field_dict1[name]}\")\n",
    "analyze('Shane Moniz')"
   ]
  },
  {
   "cell_type": "markdown",
   "metadata": {},
   "source": [
    "## Abbreviations create issues. \n",
    "Perhaps the best way to define a name is to combine all the letters of the first, middle and last nmaes together and remove spaces, and lower case. Names are of secondary importance. It is the Emails that are important. So the goal might be to impute all  non-existent emails from the corresponding name if available. If not available, create a fake email.   Ultimately, \n",
    "* name_to_emails: For each name with no email, try and figure out the email from email_to_names. \n",
    "* This does not work. \n",
    "### Collect To/CC/From entries with no emails\n",
    "* try to determine the emails from field_dict values\n",
    "* start from email_to_names and name_to_emails. Note that these are cleaned names"
   ]
  },
  {
   "cell_type": "code",
   "execution_count": null,
   "metadata": {},
   "outputs": [],
   "source": [
    "email_to_names, name_to_emails = standlib.compute_email_name_dicts(field_dict1)\n",
    "len(email_to_names), len(name_to_emails)"
   ]
  },
  {
   "cell_type": "code",
   "execution_count": null,
   "metadata": {},
   "outputs": [],
   "source": [
    "for k in name_to_emails.keys():\n",
    "    if type(k) == tuple:\n",
    "        print('tuple', k)"
   ]
  },
  {
   "cell_type": "code",
   "execution_count": null,
   "metadata": {
    "tags": []
   },
   "outputs": [],
   "source": [
    "standlib.print_dict(email_to_names, 10)"
   ]
  },
  {
   "cell_type": "code",
   "execution_count": null,
   "metadata": {},
   "outputs": [],
   "source": [
    "standlib.print_dict(name_to_emails, 5)"
   ]
  },
  {
   "cell_type": "code",
   "execution_count": null,
   "metadata": {},
   "outputs": [],
   "source": [
    "len(email_to_names), len(name_to_emails)"
   ]
  },
  {
   "cell_type": "code",
   "execution_count": 10,
   "metadata": {},
   "outputs": [
    {
     "name": "stderr",
     "output_type": "stream",
     "text": [
      "[autoreload of standardize_library failed: Traceback (most recent call last):\n",
      "  File \"/Users/erlebach/opt/anaconda3/lib/python3.8/site-packages/IPython/extensions/autoreload.py\", line 245, in check\n",
      "    superreload(m, reload, self.old_objects)\n",
      "  File \"/Users/erlebach/opt/anaconda3/lib/python3.8/site-packages/IPython/extensions/autoreload.py\", line 394, in superreload\n",
      "    module = reload(module)\n",
      "  File \"/Users/erlebach/opt/anaconda3/lib/python3.8/imp.py\", line 314, in reload\n",
      "    return importlib.reload(module)\n",
      "  File \"/Users/erlebach/opt/anaconda3/lib/python3.8/importlib/__init__.py\", line 169, in reload\n",
      "    _bootstrap._exec(spec, module)\n",
      "  File \"<frozen importlib._bootstrap>\", line 604, in _exec\n",
      "  File \"<frozen importlib._bootstrap_external>\", line 779, in exec_module\n",
      "  File \"<frozen importlib._bootstrap_external>\", line 916, in get_code\n",
      "  File \"<frozen importlib._bootstrap_external>\", line 846, in source_to_code\n",
      "  File \"<frozen importlib._bootstrap>\", line 219, in _call_with_frames_removed\n",
      "  File \"/Users/erlebach/src/2022/CRA_network/standardize_library.py\", line 960\n",
      "    print(f\"[{i} : {el})\n",
      "                       ^\n",
      "SyntaxError: EOL while scanning string literal\n",
      "]\n"
     ]
    },
    {
     "ename": "NameError",
     "evalue": "name 'standlib' is not defined",
     "output_type": "error",
     "traceback": [
      "\u001b[0;31m---------------------------------------------------------------------------\u001b[0m",
      "\u001b[0;31mNameError\u001b[0m                                 Traceback (most recent call last)",
      "\u001b[0;32m<ipython-input-10-d11b8ec5f7a3>\u001b[0m in \u001b[0;36m<module>\u001b[0;34m\u001b[0m\n\u001b[1;32m      1\u001b[0m \u001b[0;31m# List of field_dict elements with no associated emails. In other words, the From:/To:/CC: fields have\u001b[0m\u001b[0;34m\u001b[0m\u001b[0;34m\u001b[0m\u001b[0;34m\u001b[0m\u001b[0m\n\u001b[1;32m      2\u001b[0m \u001b[0;31m#  entries with no email (i.e., no @). These are names with no email.\u001b[0m\u001b[0;34m\u001b[0m\u001b[0;34m\u001b[0m\u001b[0;34m\u001b[0m\u001b[0m\n\u001b[0;32m----> 3\u001b[0;31m \u001b[0mnames_without_emails\u001b[0m \u001b[0;34m=\u001b[0m \u001b[0mstandlib\u001b[0m\u001b[0;34m.\u001b[0m\u001b[0mget_names_without_emails_from_list\u001b[0m\u001b[0;34m(\u001b[0m\u001b[0mlist\u001b[0m\u001b[0;34m(\u001b[0m\u001b[0mfield_dict\u001b[0m\u001b[0;34m.\u001b[0m\u001b[0mkeys\u001b[0m\u001b[0;34m(\u001b[0m\u001b[0;34m)\u001b[0m\u001b[0;34m)\u001b[0m\u001b[0;34m)\u001b[0m\u001b[0;34m\u001b[0m\u001b[0;34m\u001b[0m\u001b[0m\n\u001b[0m\u001b[1;32m      4\u001b[0m \u001b[0;31m# list of tuples (field name, cleaned name)\u001b[0m\u001b[0;34m\u001b[0m\u001b[0;34m\u001b[0m\u001b[0;34m\u001b[0m\u001b[0m\n\u001b[1;32m      5\u001b[0m \u001b[0mnames_without_emails1\u001b[0m \u001b[0;34m=\u001b[0m \u001b[0mstandlib\u001b[0m\u001b[0;34m.\u001b[0m\u001b[0mget_names_without_emails_from_dict_tuples\u001b[0m\u001b[0;34m(\u001b[0m\u001b[0mfield_dict1\u001b[0m\u001b[0;34m)\u001b[0m\u001b[0;34m\u001b[0m\u001b[0;34m\u001b[0m\u001b[0m\n",
      "\u001b[0;31mNameError\u001b[0m: name 'standlib' is not defined"
     ]
    }
   ],
   "source": [
    "# List of field_dict elements with no associated emails. In other words, the From:/To:/CC: fields have \n",
    "#  entries with no email (i.e., no @). These are names with no email.\n",
    "names_without_emails = standlib.get_names_without_emails_from_list(list(field_dict.keys()))\n",
    "# list of tuples (field name, cleaned name)\n",
    "names_without_emails1 = standlib.get_names_without_emails_from_dict_tuples(field_dict1)\n",
    "len(names_without_emails), len(names_without_emails1)"
   ]
  },
  {
   "cell_type": "code",
   "execution_count": null,
   "metadata": {},
   "outputs": [],
   "source": [
    "list(field_dict.keys())[0:5]"
   ]
  },
  {
   "cell_type": "code",
   "execution_count": null,
   "metadata": {},
   "outputs": [],
   "source": [
    "list(field_dict1.keys())[0:5]"
   ]
  },
  {
   "cell_type": "code",
   "execution_count": null,
   "metadata": {},
   "outputs": [],
   "source": [
    "names_without_emails1[0:5]"
   ]
  },
  {
   "cell_type": "code",
   "execution_count": null,
   "metadata": {},
   "outputs": [],
   "source": [
    "# How many clean names without email\n",
    "clean_names_without_emails = set()\n",
    "for el in names_without_emails1:\n",
    "    clean_names_without_emails.add(el[1])\n",
    "print(len(clean_names_without_emails))  #11,358 (instead of 17,224 unclean ones)"
   ]
  },
  {
   "cell_type": "code",
   "execution_count": null,
   "metadata": {},
   "outputs": [],
   "source": [
    "missing_emails = set()\n",
    "for name in names_without_emails1: #(dirty_name, clean_name)\n",
    "    missing_emails.add(name[1])\n",
    "missing_emails = list(missing_emails)\n",
    "missing_emails.sort(key=lambda x: x)\n",
    "missing_emails;"
   ]
  },
  {
   "cell_type": "code",
   "execution_count": null,
   "metadata": {},
   "outputs": [],
   "source": [
    "names_without_emails1[100:110]"
   ]
  },
  {
   "cell_type": "code",
   "execution_count": null,
   "metadata": {},
   "outputs": [],
   "source": [
    "recovered_emails = {}\n",
    "print(\"init: len(missing_emails): \", len(missing_emails))\n",
    "for name in missing_emails:\n",
    "    emails = name_to_emails[name]\n",
    "    if emails != {''}:\n",
    "        if '' in emails:\n",
    "            emails.remove('')\n",
    "        recovered_emails[name] = emails\n",
    "        \n",
    "for name in recovered_emails.keys():\n",
    "    missing_emails.remove(name)\n",
    "        \n",
    "print(\"len(recovered_emails): \", len(recovered_emails))\n",
    "print(\"len(missing_emails): \", len(missing_emails))\n",
    "names_without_emails = missing_emails\n",
    "np.savetxt(\"missing_emails.txt\", missing_emails, fmt=\"%s\")"
   ]
  },
  {
   "cell_type": "markdown",
   "metadata": {
    "tags": []
   },
   "source": [
    "# Identification of similar names\n",
    "* In this way, a name $n_1$ form the missing_emails list, will be paired with a name $n_2$ from the name_to_emails list. \n",
    "* I need a measure of similary between two names. Perhaps the overlap? Or first and last name with the corresponding first and last names? "
   ]
  },
  {
   "cell_type": "markdown",
   "metadata": {
    "jupyter": {
     "outputs_hidden": true
    },
    "tags": []
   },
   "source": [
    "* I now have two lists: \n",
    "    * missing_emails (names without emails) \n",
    "    * name_to_mails (names with mails)\n",
    "    * Use NamesMatch with two name lists: missing_emails and name_to_mails.keys(). Make each name into a list \n",
    "    * of 1 name. See what happens\n",
    "* What I really want is a set of names. \n",
    "    * Look at email_to_names: Remove names that are obviously incorrect (how?)\n",
    "    * What is left is an id (a set of names linked to a single individual)\n",
    "    * I might not have the full id list. \n",
    "        * email1 ==> (name1a, name1b)\n",
    "        * email2 ==> (name1a, name2b)\n",
    "        * Therefore, the person's id is (name1a, name1b, name2b)\n",
    "    * QUESTION: How to create an expanded id list? An id list has a corresponding email set (email1, email2, etc)\n",
    "    * To each name without an email, Identify one or more emails, i.e., an email set. \n",
    "    * NEXT QUESTION: How to assign an email to which name (perhaps uniform random)? "
   ]
  },
  {
   "cell_type": "code",
   "execution_count": null,
   "metadata": {},
   "outputs": [],
   "source": [
    "names_with_mails = list(name_to_emails.keys())  # Remove names with no emails (TODO)\n",
    "names_without_emails = missing_emails"
   ]
  },
  {
   "cell_type": "code",
   "execution_count": null,
   "metadata": {},
   "outputs": [],
   "source": [
    "keys = list(name_to_emails.keys())\n",
    "keys[-1]  # should be a string, not a sequence!"
   ]
  },
  {
   "cell_type": "code",
   "execution_count": null,
   "metadata": {
    "tags": []
   },
   "outputs": [],
   "source": [
    "# Create lists of lists\n",
    "names_with_emails = []\n",
    "for name in name_to_emails.keys():\n",
    "    names_with_emails.append([name])\n",
    "    \n",
    "names_without_emails = []\n",
    "for name in missing_emails:\n",
    "    names_without_emails.append([name])"
   ]
  },
  {
   "cell_type": "code",
   "execution_count": null,
   "metadata": {},
   "outputs": [],
   "source": [
    "len(names_with_mails), names_with_mails;"
   ]
  },
  {
   "cell_type": "markdown",
   "metadata": {},
   "source": [
    "# Name Matching"
   ]
  },
  {
   "cell_type": "markdown",
   "metadata": {},
   "source": [
    "---"
   ]
  },
  {
   "cell_type": "code",
   "execution_count": null,
   "metadata": {},
   "outputs": [],
   "source": [
    "#List of names without emails\n",
    "len(missing_emails)"
   ]
  },
  {
   "cell_type": "code",
   "execution_count": null,
   "metadata": {},
   "outputs": [],
   "source": [
    "# list of names with emails\n",
    "len(names_with_emails)"
   ]
  },
  {
   "cell_type": "code",
   "execution_count": null,
   "metadata": {},
   "outputs": [],
   "source": [
    "total_list = missing_emails + names_with_mails\n",
    "matches_df = nmlib.name_matches(missing_emails)"
   ]
  },
  {
   "cell_type": "code",
   "execution_count": null,
   "metadata": {},
   "outputs": [],
   "source": [
    "missing_emails;\n",
    "emails = list(email_to_names.keys())\n",
    "emails;"
   ]
  },
  {
   "cell_type": "code",
   "execution_count": null,
   "metadata": {},
   "outputs": [],
   "source": [
    "emails_prefix = []\n",
    "# Create a list of names with email address from '@' removed\n",
    "for email in emails:\n",
    "    emails_prefix.append(rex.sub(r\"@.*$\", \"\", email))\n",
    "emails_prefix;\n",
    "np.savetxt(\"emails_prefix.csv\", emails_prefix, fmt=\"%s\")"
   ]
  },
  {
   "cell_type": "code",
   "execution_count": null,
   "metadata": {},
   "outputs": [],
   "source": [
    "len(emails_prefix), len(missing_emails)"
   ]
  },
  {
   "cell_type": "code",
   "execution_count": null,
   "metadata": {
    "tags": []
   },
   "outputs": [],
   "source": [
    "#standlib.print_dict(name_to_emails)\n",
    "for i, (name, emails) in enumerate(name_to_emails.items()):\n",
    "    lst = [name] + list(emails)\n",
    "    for i, l in enumerate(lst):\n",
    "        lst[i] = l.lower()\n",
    "    print(\"lst: \", lst)\n",
    "    lst = ['shane moniz', 'smoniz@connandassociates.com']\n",
    "    lst = ['shane moniz', 'sh. moniz@']\n",
    "    # matches = nmlib.name_matches(missing_emails, cs_thresh=0.2)\n",
    "    matches = nmlib.name_matches(lst, cs_thresh=0.1)\n",
    "    # matches = nmlib.name_matches_nonsparse(lst, cs_thresh=0.2)\n",
    "    print(\"matches: \", matches)\n",
    "    print(\".........................................\")\n",
    "    if i > 2: break\n",
    "    "
   ]
  },
  {
   "cell_type": "code",
   "execution_count": null,
   "metadata": {},
   "outputs": [],
   "source": [
    "np.dot"
   ]
  },
  {
   "cell_type": "code",
   "execution_count": null,
   "metadata": {
    "tags": []
   },
   "outputs": [],
   "source": [
    "# matches_df = nmlib.name_matches(names_with_mails)\n",
    "matches_df = nmlib.name_matches(names_with_mails, cs_thresh=0.8)\n",
    "# matches_df = nmlib.name_matches(emails_prefix, 0.6)\n",
    "matches_df.shape, matches_df.tail(50)\n",
    "name_to_emails[\"Tailor M\"]"
   ]
  },
  {
   "cell_type": "code",
   "execution_count": null,
   "metadata": {},
   "outputs": [],
   "source": [
    "em = emails_prefix[:155]\n",
    "len(em)"
   ]
  },
  {
   "cell_type": "code",
   "execution_count": null,
   "metadata": {},
   "outputs": [],
   "source": [
    "matches_df = nmlib.name_matches(em, 0.6)\n",
    "matches_df"
   ]
  },
  {
   "cell_type": "code",
   "execution_count": null,
   "metadata": {},
   "outputs": [],
   "source": [
    "matches_df = nmlib.name_matches_2(em, em[0:5], 0.6)\n",
    "matches_df"
   ]
  },
  {
   "cell_type": "code",
   "execution_count": null,
   "metadata": {},
   "outputs": [],
   "source": [
    "names_with_emails[-1]  # is a sequence. Should be a string!"
   ]
  },
  {
   "cell_type": "code",
   "execution_count": null,
   "metadata": {},
   "outputs": [],
   "source": [
    "len(names_with_emails),len(names_without_emails)"
   ]
  },
  {
   "cell_type": "code",
   "execution_count": null,
   "metadata": {
    "tags": []
   },
   "outputs": [],
   "source": [
    "x = names_matcher(names_with_emails[0:200], names_without_emails[0:200]);"
   ]
  },
  {
   "cell_type": "code",
   "execution_count": null,
   "metadata": {},
   "outputs": [],
   "source": [
    "x[0:10,:]"
   ]
  },
  {
   "cell_type": "markdown",
   "metadata": {
    "tags": []
   },
   "source": [
    "# standlib.print_dict(email_to_names, 5)"
   ]
  },
  {
   "cell_type": "markdown",
   "metadata": {},
   "source": [
    "---"
   ]
  },
  {
   "cell_type": "code",
   "execution_count": null,
   "metadata": {
    "tags": []
   },
   "outputs": [],
   "source": [
    "# An email may have multiple names attached, with mispellings, etc. one name must be chosen. \n",
    "# WHAT is null_chosen_names? <<<<<\n",
    "# Define notion of identity: \n",
    "##  email_to_names: email => set of names associated with that email (rightly or wrongly). \n",
    "## Remove all the names that are obviously wrong (using overlap for example): \n",
    "### choose name with max overlap with email, which is name_max\n",
    "###          compute overlap between name_max and all other names in the set. \n",
    "##           keep the names with overlap beyond a threshhold\n",
    "\n",
    "null_chosen_names, email_to_chosen_name, email_to_names_with_periods = \\\n",
    "    standlib.compute_email_to_chosen_name(email_to_names)"
   ]
  },
  {
   "cell_type": "code",
   "execution_count": null,
   "metadata": {},
   "outputs": [],
   "source": [
    "standlib.print_dict(email_to_chosen_name, 5)"
   ]
  },
  {
   "cell_type": "code",
   "execution_count": null,
   "metadata": {},
   "outputs": [],
   "source": [
    "len(email_to_chosen_name), len(email_to_names_with_periods), len(null_chosen_names)"
   ]
  },
  {
   "cell_type": "code",
   "execution_count": null,
   "metadata": {},
   "outputs": [],
   "source": [
    "null_chosen_names[0:5]"
   ]
  },
  {
   "cell_type": "markdown",
   "metadata": {},
   "source": [
    "# invert the dictionary; chosen_name_to_email  \n",
    "* Check that to each name there is a single email\n",
    "* One name can have multiple associated emails\n",
    "* Store emails in lower case to minimize duplicates such as\n",
    "    Gord@gmail.com and gord@gmail.com"
   ]
  },
  {
   "cell_type": "code",
   "execution_count": null,
   "metadata": {},
   "outputs": [],
   "source": [
    "chosen_name_to_email = defaultdict(set)\n",
    "for k,v in email_to_chosen_name.items():\n",
    "    chosen_name_to_email[v].add(k.lower())"
   ]
  },
  {
   "cell_type": "code",
   "execution_count": null,
   "metadata": {},
   "outputs": [],
   "source": [
    "standlib.overlap_str_str(\"patricia.sanzone@dep.state\", \"patricia.sanzone@dep.state.fl.us\")"
   ]
  },
  {
   "cell_type": "code",
   "execution_count": null,
   "metadata": {
    "tags": []
   },
   "outputs": [],
   "source": [
    "standlib.print_dict(chosen_name_to_email, 10, max_length=10)"
   ]
  },
  {
   "cell_type": "code",
   "execution_count": null,
   "metadata": {
    "tags": []
   },
   "outputs": [],
   "source": [
    "# Starting from clean_names_without_emails, scan the list one element at a time and find \n",
    "# the corresponding email. How many will be found?\n",
    "# Every person has a unique name, which is chosen_named\n",
    "name_email = {} #defaultdict(list)\n",
    "for name in clean_names_without_emails:\n",
    "    email = chosen_name_to_email[name]\n",
    "    if len(email) > 1 and len(email) < 10:\n",
    "        print(f\"{name}_____{email}\")\n",
    "        name_email[name] = email\n",
    "# Values are sets. Some sets have two values. "
   ]
  },
  {
   "cell_type": "code",
   "execution_count": null,
   "metadata": {},
   "outputs": [],
   "source": [
    "name_to_emails['Ryan Grindler']\n",
    "field_dict1['Ryan Grindler']"
   ]
  },
  {
   "cell_type": "code",
   "execution_count": null,
   "metadata": {
    "tags": []
   },
   "outputs": [],
   "source": [
    "len(name_email)\n",
    "print(len(name_email), len(clean_names_without_emails))\n",
    "name_email"
   ]
  },
  {
   "cell_type": "code",
   "execution_count": null,
   "metadata": {},
   "outputs": [],
   "source": [
    "# How many names in chosen_name_to_email are included in names_without_emails: "
   ]
  },
  {
   "cell_type": "markdown",
   "metadata": {},
   "source": [
    "---\n"
   ]
  },
  {
   "cell_type": "code",
   "execution_count": null,
   "metadata": {},
   "outputs": [],
   "source": [
    "len(names_without_emails), len(clean_names_without_emails)"
   ]
  },
  {
   "cell_type": "code",
   "execution_count": null,
   "metadata": {
    "tags": []
   },
   "outputs": [],
   "source": [
    "for name in clean_names_without_emails:\n",
    "    print(name)"
   ]
  },
  {
   "cell_type": "code",
   "execution_count": null,
   "metadata": {
    "tags": []
   },
   "outputs": [],
   "source": [
    "name_to_emails"
   ]
  },
  {
   "cell_type": "code",
   "execution_count": null,
   "metadata": {
    "tags": []
   },
   "outputs": [],
   "source": [
    "len(names_without_emails1), len(unique_names)"
   ]
  },
  {
   "cell_type": "code",
   "execution_count": null,
   "metadata": {
    "tags": []
   },
   "outputs": [],
   "source": [
    "for k, v in unique_names.items():\n",
    "    print(f\"{k} ===>   {v}\")\n",
    "    print(\"------------------------------------------\")"
   ]
  },
  {
   "cell_type": "code",
   "execution_count": null,
   "metadata": {
    "tags": []
   },
   "outputs": [],
   "source": [
    "# Names with no recognizable structure  first middle last or last, middle frst\n",
    "# Will undergo further processing\n",
    "# `unrecognized_names` are as found in To, From, CC email headers\n",
    "# first with explodeCamel if there is a single word in camel case\n",
    "# second by contrast with existing nanmes. For example, gjcoaker is probably G.J. Coaker . One way to tell with multiple consonnants following each other\n",
    "print(len(unrecognized_names), type(unrecognized_names))\n",
    "list(unrecognized_names)[0:10]"
   ]
  },
  {
   "cell_type": "code",
   "execution_count": null,
   "metadata": {},
   "outputs": [],
   "source": [
    "len(field_dict)"
   ]
  },
  {
   "cell_type": "code",
   "execution_count": null,
   "metadata": {},
   "outputs": [],
   "source": [
    "len(field_dict), len(name_to_emails), len(email_to_names)"
   ]
  },
  {
   "cell_type": "code",
   "execution_count": null,
   "metadata": {
    "tags": []
   },
   "outputs": [],
   "source": [
    "# All values of field_dict are (name, email) where `name` is the full name. \n",
    "for v in field_dict.values():\n",
    "    if (len(v) != 2): \n",
    "        print(v)"
   ]
  },
  {
   "cell_type": "code",
   "execution_count": null,
   "metadata": {
    "tags": []
   },
   "outputs": [],
   "source": [
    "list(name_to_emails.keys())[0:10]"
   ]
  },
  {
   "cell_type": "markdown",
   "metadata": {
    "tags": []
   },
   "source": [
    "* ('Andrea', 'Rosser') ----- cleaned name: An ea Rosser\n",
    "* ('Sheila', 'Williams') ----- cleaned name: Sheila Willia \n",
    "* ('Davisson Dunlap', 'III') ----- cleaned name: Davisson III\n",
    "* name: ('Dietrich A', 'Simmons') ----- cleaned name: Dietrich Simmons\n",
    "*\n",
    "*\n",
    "*\n",
    "*\n",
    "*\n",
    "*\n",
    "*\n",
    "* Remove .com, .gov, etc. \n",
    "     * first name ends in ., last name begins in (com, gov, us, edu)"
   ]
  },
  {
   "cell_type": "markdown",
   "metadata": {},
   "source": [
    "# `field_dict` has been enhanced with cleaned up names. How many different names are there? \n",
    "*   (from,to,cc)_list_element => (name, email)"
   ]
  },
  {
   "cell_type": "code",
   "execution_count": null,
   "metadata": {},
   "outputs": [],
   "source": [
    " email_to_names, name_to_emails = standlib.compute_email_name_dicts(field_dict1)"
   ]
  },
  {
   "cell_type": "code",
   "execution_count": null,
   "metadata": {},
   "outputs": [],
   "source": [
    "len(email_to_names), len(email_to_names1), len(name_to_emails), len(name_to_emails1)\n",
    "# WHY SO MUCH FEWER WITH THIS APPROACH?"
   ]
  },
  {
   "cell_type": "code",
   "execution_count": null,
   "metadata": {},
   "outputs": [],
   "source": [
    "# make all emails lower case. For this, need to create new sets\n",
    "# Go given that field_dict[k] = v,\n",
    "# define v1 = set(), fill it up, and then field_dict[k] = v1\n",
    "\n",
    "name_to_emails_lower = standlib.str_to_set_lower(name_to_emails)\n",
    "name_to_emails_lower;"
   ]
  },
  {
   "cell_type": "markdown",
   "metadata": {},
   "source": [
    "To each email corresponds a single name. Each name has multiple emails. \n",
    "Let us look at emails_to_name"
   ]
  },
  {
   "cell_type": "code",
   "execution_count": null,
   "metadata": {},
   "outputs": [],
   "source": [
    "list(field_dict.keys())[20]\n",
    "for k in field_dict.keys():\n",
    "    if rex.match('.*Paige', k): \n",
    "        #print(k)\n",
    "        pass"
   ]
  },
  {
   "cell_type": "code",
   "execution_count": null,
   "metadata": {},
   "outputs": [],
   "source": []
  },
  {
   "cell_type": "markdown",
   "metadata": {},
   "source": [
    "---\n",
    "# End of new Analysis"
   ]
  },
  {
   "cell_type": "code",
   "execution_count": null,
   "metadata": {},
   "outputs": [],
   "source": [
    "sorted(['A Taylor', 'Barber'])"
   ]
  },
  {
   "cell_type": "code",
   "execution_count": null,
   "metadata": {
    "tags": []
   },
   "outputs": [],
   "source": [
    "for k in sorted(name_to_emails.keys(), key=lambda x: x):\n",
    "    if len(k) < 10:\n",
    "        print(f\"{k}___________{name_to_emails[k]}\")"
   ]
  },
  {
   "cell_type": "code",
   "execution_count": null,
   "metadata": {
    "tags": []
   },
   "outputs": [],
   "source": [
    "for i, (k,v) in enumerate(name_to_emails.items()):\n",
    "    if len(k) < 10:\n",
    "        print(f\"{k}_________________{v}\")"
   ]
  },
  {
   "cell_type": "code",
   "execution_count": null,
   "metadata": {
    "tags": []
   },
   "outputs": [],
   "source": [
    "standlib.compute_email_to_chosen_name(email_to_names)"
   ]
  },
  {
   "cell_type": "code",
   "execution_count": null,
   "metadata": {},
   "outputs": [],
   "source": []
  },
  {
   "cell_type": "code",
   "execution_count": null,
   "metadata": {
    "tags": []
   },
   "outputs": [],
   "source": [
    "for k,v in name_to_emails1.items():\n",
    "    print(k,v)"
   ]
  },
  {
   "cell_type": "code",
   "execution_count": null,
   "metadata": {
    "tags": []
   },
   "outputs": [],
   "source": [
    "for k,v in name_to_emails1.items():\n",
    "    if len(v) > 1 and len(v) < 10:\n",
    "        \n",
    "        \n",
    "        print(k,v)"
   ]
  },
  {
   "cell_type": "code",
   "execution_count": null,
   "metadata": {},
   "outputs": [],
   "source": [
    "# name_to_emails['Rodney'] ==> {'Austin', 'Lewis', 'Moore', 'Register'}"
   ]
  },
  {
   "cell_type": "code",
   "execution_count": null,
   "metadata": {
    "tags": []
   },
   "outputs": [],
   "source": [
    "# How could this happen? \n",
    "# Venus Childs ==> {'', 'venus.childs@talgov.com', 'Venus.Childs@talgov.com', 'Gary@zprgroup.com'}\n",
    "for k,v in field_dict.items():\n",
    "    if rex.match(r'\\A.*Gary@zprgroup.com.*\\Z', k):\n",
    "        print(f\"{k}----->{v}\")"
   ]
  },
  {
   "cell_type": "code",
   "execution_count": null,
   "metadata": {
    "tags": []
   },
   "outputs": [],
   "source": [
    "field_dict"
   ]
  },
  {
   "cell_type": "code",
   "execution_count": null,
   "metadata": {
    "tags": []
   },
   "outputs": [],
   "source": [
    "for k,v in name_to_emails.items():\n",
    "    print(f\"{k} ==> {v}\")"
   ]
  },
  {
   "cell_type": "code",
   "execution_count": null,
   "metadata": {
    "tags": []
   },
   "outputs": [],
   "source": [
    "unique = invert_dictionary(field_dict)\n",
    "print(len(unique))  # way too high\n",
    "print(len(field_dict))"
   ]
  },
  {
   "cell_type": "code",
   "execution_count": null,
   "metadata": {
    "tags": []
   },
   "outputs": [],
   "source": [
    "for k,v in invert_dictionary(field_dict).items():\n",
    "    print(f\"{k}_________{v}\")  # v are keys from From, To, Cc lists\n",
    "    \n",
    "# What must be done: \n",
    "#  - identify all elements with a missing email\n",
    "#    a) find email that match corresponding names\n",
    "#    b) for names that cannot be matched, invent an email\n",
    "#  - Make use of name_to_emails, emails_to_name"
   ]
  },
  {
   "cell_type": "code",
   "execution_count": null,
   "metadata": {},
   "outputs": [],
   "source": [
    "len(unique_names), len(field_list)"
   ]
  },
  {
   "cell_type": "code",
   "execution_count": null,
   "metadata": {
    "tags": []
   },
   "outputs": [],
   "source": [
    "for k,v in unique_names.items():\n",
    "    print(f\"{k}-------------{v}\\n\")"
   ]
  },
  {
   "cell_type": "code",
   "execution_count": null,
   "metadata": {
    "tags": []
   },
   "outputs": [],
   "source": [
    "to_study_further = []\n",
    "camel_exploded = []\n",
    "left = []\n",
    "unrecognized = []\n",
    "for i, (k,v) in enumerate(name_to_emails.items()):\n",
    "    name = k[0] + ' ' + k[1]\n",
    "    name1 = standlib.clean_name(name)\n",
    "    if name1 == name or name1 == 'unrecognized':\n",
    "        unrecognized.append((name, name1))\n",
    "        continue\n",
    "    #print(f\"name: {k} ----- cleaned name: {name1}\")\n",
    "    if len(name1.split()) == 2:\n",
    "        name2 = standlib.explode_camelcase(name1)\n",
    "        if len(name1) != len(name2):\n",
    "            camel_exploded.append((name, name2))\n",
    "        print(f\"name: {name}<<< ------ cleaned name: {name2}<<<\")\n",
    "        to_study_further.append((name,name1))\n",
    "    #if i > 5000: break "
   ]
  },
  {
   "cell_type": "code",
   "execution_count": null,
   "metadata": {},
   "outputs": [],
   "source": [
    "len(to_study_further), len(name_to_emails)"
   ]
  },
  {
   "cell_type": "code",
   "execution_count": null,
   "metadata": {
    "tags": []
   },
   "outputs": [],
   "source": [
    "to_study_further"
   ]
  },
  {
   "cell_type": "code",
   "execution_count": null,
   "metadata": {},
   "outputs": [],
   "source": [
    "len(name_to_emails)"
   ]
  },
  {
   "cell_type": "code",
   "execution_count": null,
   "metadata": {},
   "outputs": [],
   "source": [
    "name = 'Dr.Louis St. Petery'\n",
    "standlib.remove_honorifics(name)"
   ]
  },
  {
   "cell_type": "code",
   "execution_count": null,
   "metadata": {},
   "outputs": [],
   "source": [
    "standlib.explode_camelcase('gorfd MarkLaevine')"
   ]
  },
  {
   "cell_type": "code",
   "execution_count": null,
   "metadata": {
    "tags": []
   },
   "outputs": [],
   "source": [
    "for i, name in enumerate(to_study_further):\n",
    "    name1 = standlib.clean_name(name)\n",
    "    #name1 = standlib.clean_name(name1)\n",
    "    if name1 == name or name1 == 'unrecognized':\n",
    "        continue\n",
    "    #print(f\"name: {k} ----- cleaned name: {name1}\")\n",
    "    if len(name1.split()) > 2:\n",
    "        print(f\"name: {name} ------ cleaned name: {name1}\")\n",
    "    #if i > 5000: break "
   ]
  },
  {
   "cell_type": "markdown",
   "metadata": {},
   "source": [
    "name = 'hunterandharp. com'\n",
    "standlib.remove_domains(name)"
   ]
  },
  {
   "cell_type": "code",
   "execution_count": null,
   "metadata": {
    "tags": []
   },
   "outputs": [],
   "source": [
    "print(len(field_dict))\n",
    "for i, (k,v) in enumerate(field_dict.items()):\n",
    "    if i > 30: break\n",
    "    if len(k) > 80: continue\n",
    "    if len(v) == 0: continue\n",
    "    print(k,v)\n"
   ]
  },
  {
   "cell_type": "code",
   "execution_count": null,
   "metadata": {
    "tags": []
   },
   "outputs": [],
   "source": [
    "list(email_to_names.keys())\n",
    "# Remove lines that are not emails, but save them in discarded list\n",
    "non_emails = []"
   ]
  },
  {
   "cell_type": "code",
   "execution_count": null,
   "metadata": {
    "tags": []
   },
   "outputs": [],
   "source": [
    "from_dict = standlib.ge_search_from(from_list[0:10000], email_to_names, name_to_emails, unrecognized_names)\n",
    "from_dict[3].add(3)\n",
    "for k,v in from_dict.items():\n",
    "    if len(k) < 50:\n",
    "        print(k, v)"
   ]
  },
  {
   "cell_type": "code",
   "execution_count": null,
   "metadata": {},
   "outputs": [],
   "source": [
    "def print_sorted_dict_keys(dct):\n",
    "    lst = list(dct.values())\n",
    "    lst.sort(key=lambda x: x[1])\n",
    "    for k in lst:\n",
    "        print(k)"
   ]
  },
  {
   "cell_type": "code",
   "execution_count": null,
   "metadata": {
    "tags": []
   },
   "outputs": [],
   "source": [
    "print_sorted_dict_keys(from_dict)"
   ]
  },
  {
   "cell_type": "code",
   "execution_count": null,
   "metadata": {
    "tags": []
   },
   "outputs": [],
   "source": [
    "for k,v in from_dict.items():\n",
    "    if re.search('@', k):\n",
    "        print(v)"
   ]
  },
  {
   "cell_type": "code",
   "execution_count": null,
   "metadata": {},
   "outputs": [],
   "source": [
    "dlist = list(from_dict.items())\n",
    "#print(dlist)\n",
    "dlist.sort(key=lambda x: x[0][1][0])\n",
    "for l in dlist:\n",
    "    if len(l[0]) > 5000: continue\n",
    "    print(l)\n",
    "    \n",
    "print(dlist[-1])"
   ]
  },
  {
   "cell_type": "code",
   "execution_count": null,
   "metadata": {
    "tags": []
   },
   "outputs": [],
   "source": [
    "for name, emails in name_to_emails.items():\n",
    "        print(f\"[{name}] => {emails}\")"
   ]
  },
  {
   "cell_type": "code",
   "execution_count": null,
   "metadata": {},
   "outputs": [],
   "source": [
    "for name in name_to_emails.keys():\n",
    "    name1 = standlib.clean_name(name)\n",
    "    print(\"-------------------------------\")\n",
    "    print(f\"name: {name}, --------   cleaned: {cleaned}\")"
   ]
  },
  {
   "cell_type": "code",
   "execution_count": null,
   "metadata": {},
   "outputs": [],
   "source": [
    "standlib"
   ]
  },
  {
   "cell_type": "code",
   "execution_count": null,
   "metadata": {},
   "outputs": [],
   "source": [
    "3"
   ]
  },
  {
   "cell_type": "markdown",
   "metadata": {},
   "source": [
    "# Create dictionaries email -> name and name -> email\n",
    "* Consider each element of name_to_emails. If there are two elements and one is empty, then name_email[name] = 'non_empty_email'\n",
    "* If there are 3 elements, and one is empty, choose the email with most overlap between name and email owner. \n",
    "* If there is a single element that is empty, create a fake email:   last_first@fake.com\n",
    "* If there are 4 elements, do not change them. Must be checked manually.\n",
    "* Ignore the empty name the maps to many emails. \n",
    "* Consider an element of email_to_names. Ingore the email that is empty. \n",
    "* IF there is one entry in the values set, then email_name[email] = 'name'\n",
    "* If there are two entries and one is empty, then email_name[email] = 'non-empty name'\n",
    "* If there are three entries and one is empty, \n"
   ]
  },
  {
   "cell_type": "code",
   "execution_count": null,
   "metadata": {},
   "outputs": [],
   "source": [
    "null_chosen_names, email_to_chosen, email_to_names_with_periods \\\n",
    "    = standlib.compute_email_to_chosen_name(email_to_names)"
   ]
  },
  {
   "cell_type": "code",
   "execution_count": null,
   "metadata": {
    "tags": []
   },
   "outputs": [],
   "source": [
    "for i, (k, v) in enumerate(email_to_chosen.items()):\n",
    "    if i < 5: print(f\"email: {k} --- names: {v}\")\n",
    "\n",
    "for i, (k, v) in enumerate(email_to_names_with_periods.items()):\n",
    "    if i < 5: print(f\"email: {k} --- names with periods: {v}\")"
   ]
  },
  {
   "cell_type": "code",
   "execution_count": null,
   "metadata": {},
   "outputs": [],
   "source": [
    "null_chosen_emails, names_to_remove, name_to_chosen \\\n",
    "    = standlib.compute_name_to_chosen_email(name_to_emails)\n",
    "# name_to_chosen_sort = list(name_to_chosen).sort(lambda x: x[0])\n",
    "name_to_chosen_sort = list(name_to_chosen.items())\n",
    "name_to_chosen_sort.sort(key=lambda x: x[0][0])"
   ]
  },
  {
   "cell_type": "code",
   "execution_count": null,
   "metadata": {
    "tags": []
   },
   "outputs": [],
   "source": [
    "for i, (k, v) in enumerate(name_to_chosen.items()):\n",
    "    if i < 5: print(f\"name: {k} --- emails: {v}\")\n",
    "\n",
    "names_to_remove[0:10]\n",
    "null_chosen_emails[0:5]   # emails are null, so must be determined"
   ]
  },
  {
   "cell_type": "code",
   "execution_count": null,
   "metadata": {},
   "outputs": [],
   "source": [
    "for name in null_chosen_emails:\n",
    "    try:\n",
    "        if name_to_chosen[name[0]]:\n",
    "            print(name)\n",
    "    except:\n",
    "        pass\n",
    "# None of the names in null_chosen emails are found in name_to_chosen"
   ]
  },
  {
   "cell_type": "code",
   "execution_count": null,
   "metadata": {
    "tags": []
   },
   "outputs": [],
   "source": [
    "emails_not_found_in_email_to_chosen, non_name_match, name_match \\\n",
    "    = standlib.round_trip_name(name_to_chosen, email_to_chosen)\n",
    "    \n",
    "names_not_found_in_name_to_chosen, non_email_match, email_match \\\n",
    "    = standlib.round_trip_email(email_to_chosen, name_to_chosen)"
   ]
  },
  {
   "cell_type": "code",
   "execution_count": null,
   "metadata": {},
   "outputs": [],
   "source": []
  },
  {
   "cell_type": "code",
   "execution_count": null,
   "metadata": {},
   "outputs": [],
   "source": [
    "email_to_chosen['abascom@wradvisors.com']"
   ]
  },
  {
   "cell_type": "code",
   "execution_count": null,
   "metadata": {},
   "outputs": [],
   "source": [
    "name_to_chosen;"
   ]
  },
  {
   "cell_type": "code",
   "execution_count": null,
   "metadata": {
    "tags": []
   },
   "outputs": [],
   "source": [
    "# Create a list indexed by email, and collect the names. \n",
    "email_to_names = defaultdict(list)\n",
    "for n,e in name_to_chosen.items():\n",
    "    email_to_names[e].append(n)\n",
    "# for k,v in email_to_names.items():\n",
    "#     print(f\"Email: {k} --- names: {v}\")\n",
    "len(email_to_names)"
   ]
  },
  {
   "cell_type": "code",
   "execution_count": null,
   "metadata": {},
   "outputs": [],
   "source": [
    "# Add the names associated with the emails to the list in email_to_names \n",
    "# Either add new entries, and expand existing list\n"
   ]
  },
  {
   "cell_type": "code",
   "execution_count": null,
   "metadata": {},
   "outputs": [],
   "source": [
    "len(name_to_chosen_sort)"
   ]
  },
  {
   "cell_type": "code",
   "execution_count": null,
   "metadata": {
    "tags": []
   },
   "outputs": [],
   "source": [
    "non_email_match\n",
    "#non_name_match"
   ]
  },
  {
   "cell_type": "code",
   "execution_count": null,
   "metadata": {},
   "outputs": [],
   "source": [
    "def remove_honorifics(name):\n",
    "    name = re_honorifics.sub(' ', name, re.I)\n",
    "    print(name)\n",
    "    return re.sub(' +', ' ', name)"
   ]
  },
  {
   "cell_type": "code",
   "execution_count": null,
   "metadata": {},
   "outputs": [],
   "source": [
    "name = 'Dr. Gordon E. dr. Bacher III'\n",
    "remove_honorifics(name)"
   ]
  },
  {
   "cell_type": "code",
   "execution_count": null,
   "metadata": {},
   "outputs": [],
   "source": [
    "names = (('laurie.', 'hartsfield'), ('Laurie', 'Hartsfield'))\n"
   ]
  },
  {
   "cell_type": "code",
   "execution_count": null,
   "metadata": {},
   "outputs": [],
   "source": [
    "# Identify last name matches\n",
    "matches = []\n",
    "non_matches = []\n",
    "for n1, n2 in non_name_match:\n",
    "    if n1[1] == n2[1]:\n",
    "        matches.append(n1)\n",
    "    else:\n",
    "        non_matches.append((n1,n2))\n",
    "len(matches), len(non_matches)"
   ]
  },
  {
   "cell_type": "code",
   "execution_count": null,
   "metadata": {},
   "outputs": [],
   "source": [
    "re_honorifics = re.compile(r'\\b([\\.,_-]|p\\.?h\\.?d\\.?|j\\.?r\\.?|mr\\.|ms\\.|mrs\\.|dr\\.|iii)')\n",
    "n = \"usdr. G-_ordon iii dr. p.hd iii\"\n",
    "re_honorifics.findall(n)\n",
    "re_honorifics.sub(' ', n)"
   ]
  },
  {
   "cell_type": "code",
   "execution_count": null,
   "metadata": {
    "tags": []
   },
   "outputs": [],
   "source": [
    "non_matches"
   ]
  },
  {
   "cell_type": "code",
   "execution_count": null,
   "metadata": {},
   "outputs": [],
   "source": [
    "# Search whether names in null_chosen_emails are found in email_to_chosen\n",
    "# for email, name in email_to_chosen.items():\n",
    "#     print(email, name)\n",
    "\n",
    "def search_null_chosen_emails():\n",
    "    for name in null_chosen_emails:\n",
    "        # search inefficiently, email_to_chosen\n",
    "        for key in email_to_chosen.keys():\n",
    "            if name[0] == email_to_chosen[key][0]:\n",
    "                print(\"match: name: \", name)\n",
    "                \n",
    "# search_null_chosen_emails()\n",
    "            \n",
    "# No matches found. Therefore, none of the names in null_chosen_emails have corresponding emails. \n",
    "# Therefore, fake emails must be created. \n",
    "null_chosen_emails"
   ]
  },
  {
   "cell_type": "code",
   "execution_count": null,
   "metadata": {},
   "outputs": [],
   "source": [
    "print(\"1: \",  email_to_chosen[\"CraigD@leoncountyfl.gov\"] )\n",
    "print(\"2: \",  email_to_chosen[\"CraigD@leoncountyﬂ.gov\"] )\n",
    "print(\"3: \",  email_to_chosen[\"Deborah.Craig@talgov.com\"] )\n",
    "print(\"4: \",  email_to_names[\"CraigD@leoncountyﬂ.gov\"] )\n",
    "print(\"5: \",  email_to_names[\"CraigD@leoncountyfl.gov\"] )\n",
    "print(\"6: \",  name_to_emails[('Deborah', 'Craig')] )\n",
    "\n",
    "# One missing email: Deborah.Crag@talgov.com"
   ]
  },
  {
   "cell_type": "code",
   "execution_count": null,
   "metadata": {
    "tags": []
   },
   "outputs": [],
   "source": [
    "name_to_emails"
   ]
  },
  {
   "cell_type": "code",
   "execution_count": null,
   "metadata": {
    "tags": []
   },
   "outputs": [],
   "source": [
    "# How can these happen in non_email_match\n",
    "# 'mailto:LBridges@flcities.com'),\n",
    "# 'calendarno.ﬁca.on@google.com>', 'paige.tallahasseedowntown@gmail.com'),\n",
    "# \n",
    "\n",
    "non_email_match\n",
    "# email_match"
   ]
  },
  {
   "cell_type": "code",
   "execution_count": null,
   "metadata": {},
   "outputs": [],
   "source": [
    "len(email_to_names_with_periods), email_to_names_with_periods;\n",
    "# Incorrect removals: \n",
    "# 'cur.s@morethanbuildings.com': ('Cur.s', 'Whigham'),\n",
    "# 'anita.favors.thompson@talgov.com': ('anita.favors.', 'thompson'),\n",
    "#  'Chris.an.Doolin@talgov.com': ('Chris.an', 'Doolin')\n",
    "# 3 out of 300 or 1% wrong removal. The reason is that the names were not capitalized in one case, \n",
    "#   an abbreviation was not capitalized (Cur.s instead of Cur.S), Same for Chris.an; the \"an\" should probably be capitalized."
   ]
  },
  {
   "cell_type": "code",
   "execution_count": null,
   "metadata": {
    "tags": []
   },
   "outputs": [],
   "source": [
    "non_name_match"
   ]
  },
  {
   "cell_type": "code",
   "execution_count": null,
   "metadata": {
    "tags": []
   },
   "outputs": [],
   "source": [
    "email_to_chosen"
   ]
  },
  {
   "cell_type": "code",
   "execution_count": null,
   "metadata": {},
   "outputs": [],
   "source": [
    "len(email_to_chosen)"
   ]
  },
  {
   "cell_type": "code",
   "execution_count": null,
   "metadata": {
    "tags": []
   },
   "outputs": [],
   "source": [
    "for email, names in email_to_names.items():\n",
    "    if len(names) > 1 and len(names) < 10:\n",
    "        print(f\"[{email}] => {names}\")"
   ]
  },
  {
   "cell_type": "markdown",
   "metadata": {},
   "source": [
    "---\n",
    "# COMPLETE FIRST ANALYSIS\n",
    "## Below is Joey stuff\n",
    "---"
   ]
  },
  {
   "cell_type": "code",
   "execution_count": null,
   "metadata": {
    "tags": []
   },
   "outputs": [],
   "source": [
    "people_list = []\n",
    "named_email_list = []\n",
    "name_list = []\n",
    "unrecognized_names = set()\n",
    "email_set = set()\n",
    "people_set = set()\n",
    "name_set = set()\n",
    "# name_dict[('joe', 'blow')] = list of emails\n",
    "name_dict = defaultdict(list) \n",
    "\n",
    "search_from_section(from_list)\n",
    "print(len(people_list))\n",
    "# search_to_section(to_list)\n",
    "# print(len(people_list))\n",
    "# search_cc_section(cc_list)\n",
    "# print(len(people_list))"
   ]
  },
  {
   "cell_type": "code",
   "execution_count": null,
   "metadata": {
    "tags": []
   },
   "outputs": [],
   "source": [
    "people_set = set(people_list)\n",
    "named_email_set = set(named_email_list)\n",
    "name_set = set(name_list)"
   ]
  },
  {
   "cell_type": "code",
   "execution_count": null,
   "metadata": {},
   "outputs": [],
   "source": [
    "people_list[0:2], named_email_list[0:2], name_list[0:2]"
   ]
  },
  {
   "cell_type": "code",
   "execution_count": null,
   "metadata": {},
   "outputs": [],
   "source": [
    "unrecognized_names"
   ]
  },
  {
   "cell_type": "code",
   "execution_count": null,
   "metadata": {
    "tags": []
   },
   "outputs": [],
   "source": [
    "named_email_list"
   ]
  },
  {
   "cell_type": "code",
   "execution_count": null,
   "metadata": {
    "tags": []
   },
   "outputs": [],
   "source": [
    "standlib.analyze_from_list(from_list)"
   ]
  },
  {
   "cell_type": "code",
   "execution_count": null,
   "metadata": {
    "scrolled": true
   },
   "outputs": [],
   "source": [
    "len(new_from_list)"
   ]
  },
  {
   "cell_type": "code",
   "execution_count": null,
   "metadata": {
    "scrolled": true
   },
   "outputs": [],
   "source": [
    "len(from_list)"
   ]
  },
  {
   "cell_type": "code",
   "execution_count": null,
   "metadata": {
    "tags": []
   },
   "outputs": [],
   "source": [
    "x"
   ]
  },
  {
   "cell_type": "code",
   "execution_count": null,
   "metadata": {},
   "outputs": [],
   "source": [
    "new_to_list = analyze_list_of_lists(to_list)\n",
    "new_cc_list = analyze_list_of_lists(cc_list)"
   ]
  },
  {
   "cell_type": "code",
   "execution_count": null,
   "metadata": {},
   "outputs": [],
   "source": [
    "len(to_list)"
   ]
  },
  {
   "cell_type": "code",
   "execution_count": null,
   "metadata": {},
   "outputs": [],
   "source": [
    "len(new_to_lists)"
   ]
  },
  {
   "cell_type": "code",
   "execution_count": null,
   "metadata": {
    "tags": []
   },
   "outputs": [],
   "source": [
    "#new_to_lists[:10]\n",
    "# for el in new_to_lists:\n",
    "for i, el in enumerate(new_to_lists):\n",
    "    ##if i > 5: break\n",
    "    print(el)   # How can element of new_to_lists be empty?\n",
    "    ell = el[0]\n",
    "    if ell[0] == ' ' or ell[1] == ' ':\n",
    "        print(ell)"
   ]
  },
  {
   "cell_type": "code",
   "execution_count": null,
   "metadata": {},
   "outputs": [],
   "source": [
    "len(cc_list)"
   ]
  },
  {
   "cell_type": "code",
   "execution_count": null,
   "metadata": {},
   "outputs": [],
   "source": [
    "len(new_cc_lists)"
   ]
  },
  {
   "cell_type": "code",
   "execution_count": null,
   "metadata": {},
   "outputs": [],
   "source": [
    "new_cc_lists[:10]"
   ]
  },
  {
   "cell_type": "code",
   "execution_count": null,
   "metadata": {},
   "outputs": [],
   "source": [
    "df_new = df.copy()\n",
    "df_new['From'] = new_from_list\n",
    "df_new['To'] = new_to_lists\n",
    "df_new['CC'] = new_cc_lists\n",
    "df_new\n"
   ]
  },
  {
   "cell_type": "code",
   "execution_count": null,
   "metadata": {},
   "outputs": [],
   "source": [
    "df_new.to_csv('output_0211_name_standardized.csv', index=0)"
   ]
  },
  {
   "cell_type": "code",
   "execution_count": null,
   "metadata": {},
   "outputs": [],
   "source": [
    "f = pd.read_csv('output_0211_name_standardized.csv')"
   ]
  },
  {
   "cell_type": "code",
   "execution_count": null,
   "metadata": {},
   "outputs": [],
   "source": [
    "f.To.head()"
   ]
  },
  {
   "cell_type": "code",
   "execution_count": null,
   "metadata": {},
   "outputs": [],
   "source": [
    "f.CC.head()"
   ]
  },
  {
   "cell_type": "code",
   "execution_count": null,
   "metadata": {},
   "outputs": [],
   "source": [
    "eval(f.CC.head()[0])"
   ]
  },
  {
   "cell_type": "markdown",
   "metadata": {},
   "source": [
    "---\n",
    "# Not used"
   ]
  },
  {
   "cell_type": "code",
   "execution_count": null,
   "metadata": {
    "tags": []
   },
   "outputs": [],
   "source": [
    "email_to_names = defaultdict(set)\n",
    "name_to_emails = defaultdict(set)\n",
    "unrecognized_names = set()\n",
    "field_dict = defaultdict(tuple)\n",
    "\n",
    "# from_dict, to_dict, cc_dict are currently the identity mapping\n",
    "# Eventually, each key will map to an email\n",
    "\n",
    "standlib.ge_search_from(from_list, email_to_names, name_to_emails, unrecognized_names, field_dict)\n",
    "print(len(field_dict))\n",
    "standlib.ge_search_list_of_lists(to_list, email_to_names, name_to_emails, unrecognized_names, field_dict)\n",
    "print(len(field_dict))\n",
    "standlib.ge_search_list_of_lists(cc_list, email_to_names, name_to_emails, unrecognized_names, field_dict)\n",
    "print(len(field_dict))\n",
    "\n",
    "# All entries have a single element in the set. So sets were not required. "
   ]
  },
  {
   "cell_type": "markdown",
   "metadata": {},
   "source": [
    "# Some experiments with my new class"
   ]
  },
  {
   "cell_type": "code",
   "execution_count": 242,
   "metadata": {},
   "outputs": [
    {
     "data": {
      "text/plain": [
       "'Ajonte Bush'"
      ]
     },
     "execution_count": 242,
     "metadata": {},
     "output_type": "execute_result"
    }
   ],
   "source": [
    "import unidecode\n",
    "name = 'Ajontè Bush'\n",
    "unidecode.unidecode(name)"
   ]
  },
  {
   "cell_type": "code",
   "execution_count": 278,
   "metadata": {},
   "outputs": [
    {
     "name": "stdout",
     "output_type": "stream",
     "text": [
      "__3 AE 45 Corey  HI KL Mathews______corey mathews\n",
      "__Adams Jennifer G______adams jennifer g\n",
      "__Ahmed Farhran R______ahmed farhran r\n",
      "__Ana Cruz, Aide to Ortiz______ aide to ortiz ana cruz\n",
      "__Ahmad Khalil Favors Sr______ahmad khalil favors \n",
      "__Roxanne Manning, AICP______ roxanne manning\n",
      "__Chris Chadwell, Aide to Wiggs______ aide to wiggs chris chadwell\n",
      "__Ajontè Bush______ajonte bush\n",
      "__Ajowe Halsey Asha A______ajowe halsey asha a\n",
      "__AIA Doug Shuler______ doug shuler\n",
      "__AICP Karen Jumonville______ karen jumonville\n",
      "__Crawford, Aisha R______ aisha r crawford\n",
      "__Erlebacher, Gordon______ gordon erlebacher\n",
      "__James \"Jim\" A. Snyder______james jim a snyder\n"
     ]
    }
   ],
   "source": [
    "#if there is more than one comma, probably a list of anmes\n",
    "names  = [\n",
    "    '3 AE 45 Corey  HI KL Mathews', # looks like two names. Missing comma? AE: two initials\n",
    "    'Adams Jennifer G',  # real name: Jennifer G. Adams? \n",
    "    'Ahmed Farhran R',  # I should keep all initials\n",
    "    'Ana Cruz, Aide to Ortiz', # Should return Ana Cruz, not \"aide cruz\"\n",
    "    'Ahmad Khalil Favors Sr', # should simply remove Sr\n",
    "    'Roxanne Manning, AICP', # shoudl simply remove AICP\n",
    "    'Chris Chadwell, Aide to Wiggs', #should return 'Chris Chadwell\n",
    "    'Ajontè Bush', # should remove the accent\n",
    "    'Ajowe Halsey Asha A', # should return the same\n",
    "    'AIA Doug Shuler', # remove AIA\n",
    "    'AICP Karen Jumonville', # remove AICP\n",
    "    'Crawford, Aisha R', # return 'Aisha R Crawford'\n",
    "    'Erlebacher, Gordon',\n",
    "    'James \"Jim\" A. Snyder',\n",
    "]\n",
    "\n",
    "for name in names:\n",
    "    #n = standlib.clean_name_better(name)\n",
    "    n = standlib.clean_name_better(name)\n",
    "    print(f\"__{name}______{n}\")\n"
   ]
  }
 ],
 "metadata": {
  "kernelspec": {
   "display_name": "Python 3",
   "language": "python",
   "name": "python3"
  },
  "language_info": {
   "codemirror_mode": {
    "name": "ipython",
    "version": 3
   },
   "file_extension": ".py",
   "mimetype": "text/x-python",
   "name": "python",
   "nbconvert_exporter": "python",
   "pygments_lexer": "ipython3",
   "version": "3.8.8"
  },
  "toc": {
   "base_numbering": 1,
   "nav_menu": {},
   "number_sections": true,
   "sideBar": true,
   "skip_h1_title": false,
   "title_cell": "Table of Contents",
   "title_sidebar": "Contents",
   "toc_cell": true,
   "toc_position": {},
   "toc_section_display": true,
   "toc_window_display": true
  },
  "widgets": {
   "application/vnd.jupyter.widget-state+json": {
    "state": {},
    "version_major": 2,
    "version_minor": 0
   }
  }
 },
 "nbformat": 4,
 "nbformat_minor": 4
}
