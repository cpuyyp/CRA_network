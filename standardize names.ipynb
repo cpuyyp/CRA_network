{
 "cells": [
  {
   "cell_type": "markdown",
   "metadata": {
    "toc": true
   },
   "source": [
    "<h1>Table of Contents<span class=\"tocSkip\"></span></h1>\n",
    "<div class=\"toc\"><ul class=\"toc-item\"></ul></div>"
   ]
  },
  {
   "cell_type": "code",
   "execution_count": 1,
   "metadata": {
    "scrolled": true
   },
   "outputs": [],
   "source": [
    "import numpy as np\n",
    "import networkx as nx\n",
    "import matplotlib.pyplot as plt\n",
    "import pandas as pd\n",
    "import re\n",
    "from function_library import *\n",
    "from function_library2 import *"
   ]
  },
  {
   "cell_type": "code",
   "execution_count": 62,
   "metadata": {},
   "outputs": [],
   "source": [
    "# Search for \"On Behalf\" in the string.\n",
    "re_behalf = re.compile(r'(.*)[Oo]n [Bb]ehalf')\n",
    "\n",
    "# Search anywhere on the line for <mailto:xxxx> where xxx is the mailing address. \n",
    "# The patterns also consider () and [] instead of <>. Extract the last occurence of \n",
    "# an mail address via ().\n",
    "re_bracket = re.compile(r'(.*)[\\[\\<\\(]mailto\\:(.*)[\\]\\>\\)]')\n",
    "\n",
    "# Search anywhere on the line for <xxxx>, (xxxx), or [xxxx]. Extract xxxx. If there are multiple \n",
    "# occurences, extract the last one because .* is greedy.\n",
    "re_bracket2 = re.compile(r'(.*)[\\[\\<\\(](.*)[\\]\\>\\)]')\n",
    "\n",
    "# Search anywhere in the line for a sequence of lower and upper cases letters, followed by a space (\\s)\n",
    "# followed by 0 or 1 capital letters [A-Z]? followed by 0 or a dots \\.? For example, \"GORdon A.\"\n",
    "# ERROR: only allowing for a single space after the first name. Should be one or more spaces (\\s+ intead of \\s?) ?\n",
    "# After the (first_name + initial + dot), allow for one sapce, and a last name formed from 1 or more [A-Za-z]. \n",
    "# Extract the last name with ()\n",
    "#re_name1 = re.compile(r'.*?([A-Za-z]+\\s?[A-Z]?\\.?)\\s([A-Za-z]+)')  # Written by Joey\n",
    "\n",
    "# I would allow for multiple initials: Gordon A. Z. Erlebacher, or Gordon A Z Erlebacher (dots might be missing), \n",
    "#  or Gordon AZ Erlebacher  (Multiple names, or concatenated initials)\n",
    "# re_name1 has no comma\n",
    "# PROBLEM: if the first name has unicode characters, it is not found, and the first name   switches to the last name. \n",
    "# That is probably the result of \\b, and the fact I allow zero or more sections to the first name. \n",
    "# I would like to capture the first name REGARDLESS OF THE CHARACTERS IN THE NAME, even numbers. So use \\w and the UNICODE FLAG.\n",
    "re_name1 = re.compile(r\"\"\".*?   \n",
    "    (                         # Capture first name +  middle names (abbreviated or not)\n",
    "        #[A-Za-z]+             # First name (one or more characters)\n",
    "        (?: \\s?\n",
    "            #(?:\\b[A-Za-z]+?\\b\\.?\\s*)+   # Not captured: Abbreviation structure\n",
    "            (?:\\b\\w+?\\b\\.?\\s*)+   # Not captured: Abbreviation structure\n",
    "        )+                       # Not captured: 1j or more sequence of abbreviations\n",
    "        #)?                       # Not captured: 0 or more sequence of abbreviations\n",
    "    )                            # end of first name + initials capture\n",
    "    #\\s*\\b([A-Za-z]+\\b)             # Capture last name preceded by one or more spaces. \n",
    "    \\s*\\b(\\w+\\b)             # Capture last name preceded by one or more spaces. \n",
    "                                 # \\b forces the last name to start at a word boundary\n",
    "\"\"\", re.X)\n",
    "\n",
    "# Extract last name with (), followed by a comma, (the last name only contains lower and upper case, no apostrophes or dashes)\n",
    "# Leave a single space, followed by first name ([A-Za-z], zero or more (?) spaces (\\s) (ERROR: should be 1 ore more spaces (+), \n",
    "# followed by 0 or 1 initials [A-Z] followed by 0 or 1 dots (\\.?). NOT GENERAL ENOUGH. What about Erle, Gordon A.E.F. or \n",
    "#   Erle, Gordon A. E.   F. ? \n",
    "#re_name2 = re.compile(r'.*?([A-Za-z]+),\\s([A-Za-z]+\\s?[A-Z]?\\.?)')  # Joey's version\n",
    "# Gordon's version\n",
    "re_name2 = re.compile(r\"\"\".*?\n",
    "    #([A-Za-z]+)\\b,\\s*                  # Capture last name followed by comma\n",
    "    (\\w+)\\b,\\s*                  # Capture last name followed by comma\n",
    "    (                                  # Capture first name and initials\n",
    "        (?: \\s*\n",
    "            #(?:\\b[A-Za-z]+\\b\\.?\\s*)?   # Not captured: Abbreviation structure\n",
    "            (?:\\b\\w+\\b\\.?\\s*)?   # Not captured: Abbreviation structure\n",
    "        )*                             # Not captured: 0 or more sequence of abbreviations\n",
    "    )   \n",
    "\"\"\", re.X)  \n",
    "\n",
    "re_name3 = re.compile(r\"\"\".*?\n",
    "    ([\\w^0-9]+)\n",
    "\"\"\", re.X | re.UNICODE)\n",
    "\n",
    "\n",
    "\n",
    "# Capture an email: that is a very complex exercise, so it it unlikely that this approarch works, but it is likely good enough. \n",
    "# Here is an more complex solution: https://www.oreilly.com/library/view/regular-expressions-cookbook/9781449327453/ch04s01.html\n",
    "# Email string is defined as the first occurance of the expression in (): \n",
    "#   The email is a series of [a-zA-Z_] followed by zero or one dots \\.? followed by one or more letter/number (/w), followed by '@'. \n",
    "#   followed by [a-zA-Z_0-9] (equiv to [\\w] zero or more times, followed by a dot (0 or 1 times), followed by [a-zA-Z_] 0 or more, \n",
    "#  followed by period 0 or more, followed by 2 or three letters \n",
    "re_email =  re.compile(r'.*?([a-zA-Z_]*\\.?\\w+@[a-zA-Z_0-9]*\\.?[a-zA-Z_]*\\.?[a-zA-Z]{2,3})')\n",
    "\n",
    "#  The following special characters are allowed in an email name:  ! # $ % & ' * + - / = ? ^ _ ` { |\n",
    "#  For now, we ignore them. \n",
    "#  A domain suffix is required, so the domain after @ has at least one period. The full domain must be less than 64 characters long. \n",
    "#  We ignore this constraint. \n",
    "# Hyphens are allowed, but must be surrounded by characters: (?:[A-Za-z0-9]+\\-?)+[A-Za-z0-9]+\n",
    "# Domain name rules: https://www.dynadot.com/community/blog/domain-name-rules.html\n",
    "#                    https://www.20i.com/support/domain-names/domain-name-restrictions\n",
    "re_email1 = re.compile(r'.*?([\\w.]*@[A-Za-z0-9\\-]*\\.?[a-zA-Z_]*\\.?[a-zA-Z])')\n",
    "\n",
    "re_domain = re.compile(r\"\"\".*?(  \n",
    "     (?: (?:  [A-Za-z0-9]+\\-?)+[A-Za-z0-9]+\\.)+ (?: [A-Za-z]+)\n",
    ")\"\"\", re.X)\n",
    "\n",
    "# Rewritten by G. Erlebacher, 2022-02-13.\n",
    "re_email = re.compile(r\"\"\".*?(\n",
    "     [\\w.]*@    # email name: upper/lower case, numerals, dots, underscores\n",
    "     (?:        # non-captured domain name\n",
    "         (?:    # non-captured\n",
    "             [A-Za-z0-9]+\\-?    # sequence of letters/numbers followed by one hyphen (`seqA`)\n",
    "         )+                     # one or more of `seqA`\n",
    "         [A-Za-z0-9]+\\.         # one or more letters after the last hyphen, followed by a dot\n",
    "     )+                         # non-capture: one or more of `seqB`\n",
    "     (?: [A-Za-z]+)             # the final domain segment, after the last dot\n",
    "    )   # capture full email\n",
    "\"\"\", re.X)\n",
    "\n",
    "re_cap = re.compile(r'[A-Z]')"
   ]
  },
  {
   "cell_type": "code",
   "execution_count": 4,
   "metadata": {},
   "outputs": [
    {
     "data": {
      "text/plain": [
       "('atwell', 'scott f.')"
      ]
     },
     "execution_count": 4,
     "metadata": {},
     "output_type": "execute_result"
    }
   ],
   "source": [
    "str1 = \"gord.erl.e@gmail.com\"\n",
    "str2 = \"gord..erle.bach@gmail.com\"\n",
    "str3 = \"3_gord..erle.ba3ch@gma+_-3il.com\"\n",
    "email = '3__42_gord@3sd-532-asd.523-asd3.adsf.com'\n",
    "re_email.match(email).groups(0)\n",
    "\n",
    "name = \"Gordon Ad.C.EDC. dd. Dd.   D. Erlebacher\"\n",
    "#print(re_name1.match(name).groups())\n",
    "\n",
    "name = \"Erlebacher, Gordon E. EF H. \"\n",
    "name = \", Gordon E. EF H. \"\n",
    "\n",
    "re_name2.match(name)\n",
    "\n",
    "# Two f's are a result of pdf translation. \n",
    "name = \"jeﬀ barbacci\"  \n",
    "re_name1.match(name).groups() \n",
    "\n",
    "# name = \"mccraw, rick\"\n",
    "# re_name2.match(name).groups()\n",
    "\n",
    "# name = \"john t burnette\"\n",
    "# re_name1.match(name).groups()\n",
    "\n",
    "name = \"atwell, scott f.\"\n",
    "re_name2.match(name).groups()"
   ]
  },
  {
   "cell_type": "code",
   "execution_count": 5,
   "metadata": {},
   "outputs": [
    {
     "name": "stdout",
     "output_type": "stream",
     "text": [
      "71143\n"
     ]
    }
   ],
   "source": [
    "# either the sender or the recipient\n",
    "# df = pd.read_csv('new_clean_output.csv',index_col = 0)\n",
    "df = pd.read_csv('output_0211.csv')\n",
    "\n",
    "# df = df.drop_duplicates(keep='first',subset=['Sent'])\n",
    "# df = df.reset_index(drop=True)\n",
    "\n",
    "from_list = df['From'].values.tolist()\n",
    "to_list = df['To'].values.tolist()\n",
    "cc_list = df['CC'].values.tolist()\n",
    "print(len(from_list))"
   ]
  },
  {
   "cell_type": "code",
   "execution_count": 6,
   "metadata": {},
   "outputs": [],
   "source": [
    "unrecognized_names = set()"
   ]
  },
  {
   "cell_type": "code",
   "execution_count": 81,
   "metadata": {},
   "outputs": [
    {
     "data": {
      "text/plain": [
       "['G', 'E']"
      ]
     },
     "execution_count": 81,
     "metadata": {},
     "output_type": "execute_result"
    }
   ],
   "source": [
    "name=\"GordonErlebacher fred\"\n",
    "# search = re.search(r'^\\s*([A-Z][^A-Z]+)([A-Z][^A-Z]+)[^/w]$', name)\n",
    "name.count('A-Z')\n",
    "count = re.compile(r'[A-Z]')\n",
    "re_cap.findall(name)\n"
   ]
  },
  {
   "cell_type": "code",
   "execution_count": 124,
   "metadata": {},
   "outputs": [],
   "source": [
    "re_first_last = re.compile(r'^([A-Z][a-z]*)([A-Z][a-z]*)$')\n",
    "name = \"GordonErlebacher \"\n"
   ]
  },
  {
   "cell_type": "code",
   "execution_count": 110,
   "metadata": {},
   "outputs": [],
   "source": [
    "def check_name(tname, tname_orig, temail_orig):\n",
    "    if re_name2.match(tname): \n",
    "        name = re_name2.findall(tname)[0]\n",
    "        first_name = name[1]\n",
    "        last_name = name[0]\n",
    "        if first_name == '' or last_name == '':\n",
    "            print(\"--> full name: \", tname)\n",
    "            print(\"     first: \", first_name, \"    last: \", last_name)\n",
    "    elif re_name1.match(tname):\n",
    "        name = re_name1.findall(tname)[0]\n",
    "        first_name = name[0]\n",
    "        last_name = name[1]\n",
    "        if first_name == '' or last_name == '':\n",
    "            print(\"==> full name: \", tname)\n",
    "            print(\"     first: \", first_name, \"    last: \", last_name)\n",
    "    else:\n",
    "        first_name = 'unrecognized name'\n",
    "        last_name = tname\n",
    "        # How many letters are capitalized in tname_orig\n",
    "        # search = re.search(r'(?:[A-Z][^A-Z]+){2}', tname_orig)\n",
    "        # if len(re_cap.findall(tname_orig)) == 2:\n",
    "        first_last = re_first_last.match(tname_orig.strip())\n",
    "        if first_last: \n",
    "            first_name = first_last.group(1).lower()\n",
    "            last_name = first_last.group(2).lower()\n",
    "            # print(\"*** valid name: \", tname_orig, first_name, last_name)\n",
    "        else:\n",
    "            unrecognized_names.add((tname_orig.strip(), temail_orig.strip()))\n",
    "        \n",
    "    return first_name, last_name\n",
    "    "
   ]
  },
  {
   "cell_type": "code",
   "execution_count": 106,
   "metadata": {},
   "outputs": [],
   "source": [
    "def check_email(f, regex):\n",
    "    tname, temail = regex.findall(f)[0]\n",
    "    tname=tname.lower().strip()\n",
    "    temail=temail.lower()\n",
    "    return tname, temail"
   ]
  },
  {
   "cell_type": "code",
   "execution_count": 107,
   "metadata": {
    "scrolled": true
   },
   "outputs": [],
   "source": [
    "\n",
    "# find unique complete person in From section\n",
    "def search_from_section(from_list):\n",
    "    print(\"==> search_from_section\")\n",
    "    for f in from_list: \n",
    "        if pd.isnull(f):\n",
    "            continue\n",
    "        f = f.lower()\n",
    "        if re_behalf.match(f):\n",
    "            f = re_behalf.findall(f)[0]\n",
    "        if re_bracket.match(f):\n",
    "            tname, temail = check_email(f, re_bracket)\n",
    "            if re_email.match(temail) and re_email.match(tname) == None:\n",
    "                email = re_email.findall(temail)[0]\n",
    "                if len(tname.split()) != 2:\n",
    "                    first_name = tname   # You do not know it is the first name\n",
    "                    last_name = ' '\n",
    "                else:\n",
    "                    first_name, last_name = check_name(tname, tname, temail)\n",
    "\n",
    "                if email not in named_email_list:\n",
    "                    person = (first_name, last_name, email)\n",
    "                    people_list.append(person)\n",
    "                    named_email_list.append(email)\n",
    "                    name_list.append(first_name + ' ' + last_name)\n",
    "\n",
    "# find unique complete person in TO section\n",
    "def search_to_section(to_list):\n",
    "    print(\"==> search_to_section\")\n",
    "    for ts in to_list: \n",
    "        if pd.isnull(ts):  # if nan\n",
    "            continue\n",
    "        ts = ts.lower()\n",
    "        ts = ts.split(';')\n",
    "        for t in ts:\n",
    "            t = t.strip(\"'\")\n",
    "            if re_bracket.match(t) or re_bracket2.match(t):\n",
    "                if re_bracket.match(t):\n",
    "                    tname, temail = re_bracket.findall(t)[0]\n",
    "                else:\n",
    "                    tname, temail = re_bracket2.findall(t)[0]\n",
    "                tname_orig = tname\n",
    "                temail_orig = temail\n",
    "                tname=tname.lower().strip()\n",
    "                temail=temail.lower()\n",
    "                if tname == '':\n",
    "                    continue\n",
    "\n",
    "                if re_email.match(temail) and re_email.match(tname) == None:\n",
    "                    email = re_email.findall(temail)[0]\n",
    "                    if len(tname.split()) != 2:\n",
    "                        first_name = tname\n",
    "                        last_name = ' '\n",
    "                    else:\n",
    "                        first_name, last_name = check_name(tname, tname_orig, temail_orig)\n",
    "\n",
    "                    if email not in named_email_list:\n",
    "                        person = (first_name, last_name, email)\n",
    "                        people_list.append(person)\n",
    "                        named_email_list.append(email)\n",
    "                        name_list.append(first_name + ' ' + last_name)\n",
    "                        \n",
    "def search_cc_section(cc_list):\n",
    "    print(\"==> search_cc_section\")\n",
    "    # find unique complete person in CC section\n",
    "    for ccs in cc_list: \n",
    "        if pd.isnull(ccs):\n",
    "            continue\n",
    "        #ccs = ccs.lower()  # not needed. tname is lowered further down\n",
    "        ccs = ccs.split(';')\n",
    "        for cc in ccs:\n",
    "            cc = cc.strip(\"'\")\n",
    "            if re_bracket.match(cc) or re_bracket2.match(cc):\n",
    "                if re_bracket.match(cc):\n",
    "                    tname, temail = re_bracket.findall(cc)[0]\n",
    "                else:\n",
    "                    tname, temail = re_bracket2.findall(cc)[0]\n",
    "                tname_orig = tname\n",
    "                tname=tname.lower().strip()  \n",
    "                temail_orig = temail\n",
    "                temail=temail.lower()\n",
    "                if tname == '':\n",
    "                    continue\n",
    "\n",
    "                if re_email.match(temail) and re_email.match(tname) == None:\n",
    "                    email = re_email.findall(temail)[0]\n",
    "                    if len(tname.split()) != 2:\n",
    "                        first_name, last_name = check_name(tname, tname_orig, temail_orig)\n",
    "                    else:\n",
    "                        first_name, last_name = check_name(tname, tname_orig, temail)\n",
    "\n",
    "                    if email not in named_email_list:\n",
    "                        person = (first_name, last_name, email)\n",
    "                        people_list.append(person)\n",
    "                        ## Obviously, person must have only two commas)\n",
    "                        split_person0 = person[0].split(',')\n",
    "                        if len(split_person0) != 1:  # SHOULD NOT HAPPEN in a perfect world\n",
    "                            print(\"SHOULD NOT HAPPEN: split_person: \", split_person0)  # <<< Identifies errors\n",
    "                            print(\"person: \", person)\n",
    "                            print(\"   tname: \", tname)\n",
    "                            print()\n",
    "                        named_email_list.append(email)\n",
    "                        name_list.append(first_name + ' ' + last_name)"
   ]
  },
  {
   "cell_type": "code",
   "execution_count": 108,
   "metadata": {
    "tags": []
   },
   "outputs": [],
   "source": [
    "people_list = []\n",
    "named_email_list = []\n",
    "name_list = []\n",
    "unrecognized_names = set()\n",
    "\n",
    "search_from_section(from_list)\n",
    "print(len(people_list))\n",
    "search_to_section(to_list)\n",
    "print(len(people_list))\n",
    "search_cc_section(cc_list)\n",
    "print(len(people_list))"
   ]
  },
  {
   "cell_type": "code",
   "execution_count": 128,
   "metadata": {
    "tags": []
   },
   "outputs": [],
   "source": [
    "people_set = set(people_list)\n",
    "named_email_set = set(named_email_list)\n",
    "name_set = set(name_list)"
   ]
  },
  {
   "cell_type": "code",
   "execution_count": 133,
   "metadata": {},
   "outputs": [
    {
     "data": {
      "text/plain": [
       "([('jennifer ', 'naff', 'director@springtimetallahassee.com'),\n",
       "  ('rick', 'mccraw', 'richard.mccraw@talgov.com')],\n",
       " ['director@springtimetallahassee.com', 'richard.mccraw@talgov.com'],\n",
       " ['jennifer  naff', 'rick mccraw'])"
      ]
     },
     "execution_count": 133,
     "metadata": {},
     "output_type": "execute_result"
    }
   ],
   "source": [
    "people_list[0:2], named_email_list[0:2], name_list[0:2]"
   ]
  },
  {
   "cell_type": "code",
   "execution_count": 109,
   "metadata": {},
   "outputs": [
    {
     "data": {
      "text/plain": [
       "{(\"'\", 'lesliehsmith@gmail.com'),\n",
       " (\"'AdamCorey\", 'acorey@101tally.com'),\n",
       " (\"'ClaudetteCromartie\", 'CromartieC08@gmail.com'),\n",
       " (\"'JayLanders'\", 'jwlanders@jwlanders.com'),\n",
       " (\"'PhillipSingleton\", 'phillip@pittman-law.com'),\n",
       " ('Adam', 'ACorey@gunster.com'),\n",
       " ('Gmax1', 'gmax1@comcast.net'),\n",
       " ('JTBurnette', 'jt@inkbridge.com'),\n",
       " ('JamesMcFaddin', 'mcfaddin@sostrategy.com'),\n",
       " ('Jeff', 'estimator@rtelectricllc.com'),\n",
       " ('JessicaLowe-Minor', 'LWVFExecutiveDirector@gmail.com'),\n",
       " ('Lo & Be', 'loandbedesigns@gmail.com'),\n",
       " ('Maisbel (Mae) Mendez', 'mmendez@101tally.com'),\n",
       " ('PhyllisDePreist', 'republic_parking@comcast.net'),\n",
       " ('Pons', 'communityinfo@leonschools.n et'),\n",
       " ('RickMcCraw', 'rick.mccraw@talgov.com'),\n",
       " ('Rivers', 'kim@inkbridge.com'),\n",
       " ('VerlaLawson-Grady', 'Verla.Lawson-Grady@djj.state.fl.us'),\n",
       " ('VerlaLawson-Grady', 'Verla.LawsonGrady@djj.state.fl.us'),\n",
       " ('arthur\"buddy\" jacobs', 'aijacobs@bellsouth.net'),\n",
       " ('charles\"charlie\" dudley', 'cdudley@bcmdm.com'),\n",
       " ('frederick \"fred\"springer', 'fspringer@bmolaw.com'),\n",
       " ('gary', 'gary@govinc.net'),\n",
       " ('prospere•, poldine', 'lprosper@central.uh.edu'),\n",
       " ('scof', 'scof.maddox@talgov.com'),\n",
       " ('scott', 'scott@scottmaddox.com')}"
      ]
     },
     "execution_count": 109,
     "metadata": {},
     "output_type": "execute_result"
    }
   ],
   "source": [
    "unrecognized_names"
   ]
  },
  {
   "cell_type": "code",
   "execution_count": 136,
   "metadata": {
    "scrolled": true
   },
   "outputs": [],
   "source": [
    "def analyze_from_list(from_list):\n",
    "    new_from_list = []\n",
    "\n",
    "    unknown_idx = 0\n",
    "    # replace the From section with unique people information\n",
    "    # from_list: all the names from the From: column, without removing duplicates\n",
    "    # Purpose: ...\n",
    "\n",
    "    for f in from_list: \n",
    "        if pd.isnull(f):  # NaN\n",
    "            person = ('f'+str(unknown_idx), 'l'+str(unknown_idx), 'f'+str(unknown_idx)+'_'+'l'+str(unknown_idx))\n",
    "            unknown_idx = unknown_idx + 1\n",
    "            new_from_list.append(person)\n",
    "            continue\n",
    "        email_exist_flag = 0\n",
    "        f = f.lower().strip(\"'\")  #  \"Why single quote? \n",
    "        email = ''\n",
    "        first_name = ''\n",
    "        last_name = ''\n",
    "        if re_behalf.match(f):\n",
    "            f = re_behalf.findall(f)[0]\n",
    "\n",
    "        if re_email.match(f):\n",
    "            email = re_email.findall(f)[0]\n",
    "            email = email.lower()\n",
    "            email_exist_flag = 1\n",
    "        if len(f.split()) != 2:    # CHECK\n",
    "            first_name = f\n",
    "            last_name = ' '     # why space and not empty\n",
    "        else:   # two words separated by space\n",
    "            if re_name1.match(f):\n",
    "                name = re_name1.findall(f)[0]\n",
    "                first_name = name[0]\n",
    "                last_name = name[1]\n",
    "            elif re_name2.match(f): \n",
    "                name = re_name2.findall(f)[0]\n",
    "                first_name = name[1]\n",
    "                last_name = name[0]\n",
    "            elif email_exist_flag == 1:\n",
    "                pass\n",
    "            else:\n",
    "                print('error: cannot find name and email in f')\n",
    "                print('f:', f)\n",
    "                first_name = 'fake'\n",
    "                last_name = f\n",
    "\n",
    "        name = first_name + ' ' + last_name\n",
    "\n",
    "        # all entries in named_email_list have a valid entry in people_list at the same index\n",
    "        if email in named_email_list:   # named_email_list: only emails\n",
    "            idx = named_email_list.index(email)\n",
    "            new_from_list.append(people_list[idx])\n",
    "        elif name in name_list:   ## WE MIGHT NOT NEED THIS (GE). Handle person with multiple emails\n",
    "            idx = name_list.index(name)\n",
    "            new_from_list.append(people_list[idx])\n",
    "        elif email_exist_flag == 1:   # email by itself\n",
    "            person = ('f'+str(unknown_idx), 'l'+str(unknown_idx), email)\n",
    "            new_from_list.append(person)\n",
    "            unknown_idx = unknown_idx + 1\n",
    "        else:\n",
    "            person = (first_name, last_name, first_name + '_' + last_name)\n",
    "            new_from_list.append(person)"
   ]
  },
  {
   "cell_type": "code",
   "execution_count": 137,
   "metadata": {},
   "outputs": [
    {
     "name": "stdout",
     "output_type": "stream",
     "text": [
      "error: cannot find name and email in f\n",
      "f:  re: trolley\n"
     ]
    }
   ],
   "source": [
    "analyze_from_list(from_list)"
   ]
  },
  {
   "cell_type": "code",
   "execution_count": 112,
   "metadata": {
    "scrolled": true
   },
   "outputs": [
    {
     "data": {
      "text/plain": [
       "71143"
      ]
     },
     "execution_count": 112,
     "metadata": {},
     "output_type": "execute_result"
    }
   ],
   "source": [
    "len(new_from_list)"
   ]
  },
  {
   "cell_type": "code",
   "execution_count": 113,
   "metadata": {
    "scrolled": true
   },
   "outputs": [
    {
     "data": {
      "text/plain": [
       "71143"
      ]
     },
     "execution_count": 113,
     "metadata": {},
     "output_type": "execute_result"
    }
   ],
   "source": [
    "len(from_list)"
   ]
  },
  {
   "cell_type": "code",
   "execution_count": 140,
   "metadata": {
    "tags": []
   },
   "outputs": [],
   "source": [
    "def analyze_list_of_lists(list_of_lists):\n",
    "    new_to_lists = []\n",
    "\n",
    "    # replace the To section with unique people information\n",
    "\n",
    "    for ts in to_list:\n",
    "        if pd.isnull(ts):\n",
    "            new_to_lists.append([])\n",
    "            continue\n",
    "        ts = ts.lower()\n",
    "        ts = ts.split(';')\n",
    "        new_to_list = []\n",
    "        for t in ts:       # ts: list of recipients\n",
    "            t = t.strip(\"'\")\n",
    "            email_exist_flag = 0\n",
    "            email = ''\n",
    "            first_name = ''\n",
    "            last_name = ''\n",
    "            if re_behalf.match(t):\n",
    "                t = re_behalf.findall(t)[0]\n",
    "\n",
    "            if re_email.match(t):\n",
    "                email = re_email.findall(t)[0]\n",
    "                email = email.lower()\n",
    "                email_exist_flag = 1\n",
    "            if len(t.split()) != 2:\n",
    "                first_name = t\n",
    "                last_name = ' '\n",
    "            else:\n",
    "                if re_name1.match(t):\n",
    "                    name = re_name1.findall(t)[0]\n",
    "                    first_name = name[0]\n",
    "                    last_name = name[1]\n",
    "                elif re_name2.match(t): \n",
    "                    name = re_name2.findall(t)[0]\n",
    "                    first_name = name[1]\n",
    "                    last_name = name[0]\n",
    "                elif email_exist_flag == 1:\n",
    "                    pass\n",
    "                else:\n",
    "                    first_name = 'fake'\n",
    "                    last_name = t\n",
    "                    print('error: cannot find name and email in t, make fake name')\n",
    "                    print(f\"t: {t},  first: {first_name}, last: {last_name}\")\n",
    "    #                 break\n",
    "\n",
    "            name = first_name + ' ' + last_name\n",
    "\n",
    "\n",
    "            if email in named_email_list:\n",
    "                idx = named_email_list.index(email)\n",
    "                new_to_list.append(people_list[idx])\n",
    "            elif name in name_list:\n",
    "                idx = name_list.index(name)\n",
    "                new_to_list.append(people_list[idx])\n",
    "            elif email_exist_flag == 1: # email by itself\n",
    "                person = ('f'+str(unknown_idx), 'l'+str(unknown_idx), email)\n",
    "                new_to_list.append(person)\n",
    "                unknown_idx = unknown_idx + 1\n",
    "            else:\n",
    "                person = (first_name, last_name, first_name + '_' + last_name)\n",
    "                new_to_list.append(person)\n",
    "        new_to_lists.append(new_to_list)\n",
    "    return new-to_list"
   ]
  },
  {
   "cell_type": "code",
   "execution_count": 141,
   "metadata": {},
   "outputs": [
    {
     "ename": "UnboundLocalError",
     "evalue": "local variable 'unknown_idx' referenced before assignment",
     "output_type": "error",
     "traceback": [
      "\u001b[0;31m---------------------------------------------------------------------------\u001b[0m",
      "\u001b[0;31mUnboundLocalError\u001b[0m                         Traceback (most recent call last)",
      "\u001b[0;32m<ipython-input-141-c8c690617c5e>\u001b[0m in \u001b[0;36m<module>\u001b[0;34m\u001b[0m\n\u001b[0;32m----> 1\u001b[0;31m \u001b[0mnew_to_list\u001b[0m \u001b[0;34m=\u001b[0m \u001b[0manalyze_list_of_lists\u001b[0m\u001b[0;34m(\u001b[0m\u001b[0mto_list\u001b[0m\u001b[0;34m)\u001b[0m\u001b[0;34m\u001b[0m\u001b[0;34m\u001b[0m\u001b[0m\n\u001b[0m\u001b[1;32m      2\u001b[0m \u001b[0mnew_cc_list\u001b[0m \u001b[0;34m=\u001b[0m \u001b[0manalyze_list_of_lists\u001b[0m\u001b[0;34m(\u001b[0m\u001b[0mcc_list\u001b[0m\u001b[0;34m)\u001b[0m\u001b[0;34m\u001b[0m\u001b[0;34m\u001b[0m\u001b[0m\n",
      "\u001b[0;32m<ipython-input-140-920a55c1db9b>\u001b[0m in \u001b[0;36manalyze_list_of_lists\u001b[0;34m(list_of_lists)\u001b[0m\n\u001b[1;32m     55\u001b[0m                 \u001b[0mnew_to_list\u001b[0m\u001b[0;34m.\u001b[0m\u001b[0mappend\u001b[0m\u001b[0;34m(\u001b[0m\u001b[0mpeople_list\u001b[0m\u001b[0;34m[\u001b[0m\u001b[0midx\u001b[0m\u001b[0;34m]\u001b[0m\u001b[0;34m)\u001b[0m\u001b[0;34m\u001b[0m\u001b[0;34m\u001b[0m\u001b[0m\n\u001b[1;32m     56\u001b[0m             \u001b[0;32melif\u001b[0m \u001b[0memail_exist_flag\u001b[0m \u001b[0;34m==\u001b[0m \u001b[0;36m1\u001b[0m\u001b[0;34m:\u001b[0m \u001b[0;31m# email by itself\u001b[0m\u001b[0;34m\u001b[0m\u001b[0;34m\u001b[0m\u001b[0m\n\u001b[0;32m---> 57\u001b[0;31m                 \u001b[0mperson\u001b[0m \u001b[0;34m=\u001b[0m \u001b[0;34m(\u001b[0m\u001b[0;34m'f'\u001b[0m\u001b[0;34m+\u001b[0m\u001b[0mstr\u001b[0m\u001b[0;34m(\u001b[0m\u001b[0munknown_idx\u001b[0m\u001b[0;34m)\u001b[0m\u001b[0;34m,\u001b[0m \u001b[0;34m'l'\u001b[0m\u001b[0;34m+\u001b[0m\u001b[0mstr\u001b[0m\u001b[0;34m(\u001b[0m\u001b[0munknown_idx\u001b[0m\u001b[0;34m)\u001b[0m\u001b[0;34m,\u001b[0m \u001b[0memail\u001b[0m\u001b[0;34m)\u001b[0m\u001b[0;34m\u001b[0m\u001b[0;34m\u001b[0m\u001b[0m\n\u001b[0m\u001b[1;32m     58\u001b[0m                 \u001b[0mnew_to_list\u001b[0m\u001b[0;34m.\u001b[0m\u001b[0mappend\u001b[0m\u001b[0;34m(\u001b[0m\u001b[0mperson\u001b[0m\u001b[0;34m)\u001b[0m\u001b[0;34m\u001b[0m\u001b[0;34m\u001b[0m\u001b[0m\n\u001b[1;32m     59\u001b[0m                 \u001b[0munknown_idx\u001b[0m \u001b[0;34m=\u001b[0m \u001b[0munknown_idx\u001b[0m \u001b[0;34m+\u001b[0m \u001b[0;36m1\u001b[0m\u001b[0;34m\u001b[0m\u001b[0;34m\u001b[0m\u001b[0m\n",
      "\u001b[0;31mUnboundLocalError\u001b[0m: local variable 'unknown_idx' referenced before assignment"
     ]
    }
   ],
   "source": [
    "new_to_list = analyze_list_of_lists(to_list)\n",
    "new_cc_list = analyze_list_of_lists(cc_list)"
   ]
  },
  {
   "cell_type": "code",
   "execution_count": 115,
   "metadata": {},
   "outputs": [
    {
     "data": {
      "text/plain": [
       "71143"
      ]
     },
     "execution_count": 115,
     "metadata": {},
     "output_type": "execute_result"
    }
   ],
   "source": [
    "len(to_list)"
   ]
  },
  {
   "cell_type": "code",
   "execution_count": 116,
   "metadata": {},
   "outputs": [
    {
     "data": {
      "text/plain": [
       "71143"
      ]
     },
     "execution_count": 116,
     "metadata": {},
     "output_type": "execute_result"
    }
   ],
   "source": [
    "len(new_to_lists)"
   ]
  },
  {
   "cell_type": "code",
   "execution_count": 123,
   "metadata": {
    "tags": []
   },
   "outputs": [
    {
     "name": "stdout",
     "output_type": "stream",
     "text": [
      "[('brooks ', 'hayes', 'brooks@culpeppercc.com')]\n",
      "[('kristen', 'coons', 'kristen.coons@talgov.com')]\n",
      "[('kim ', 'rivers', 'kim@inkbridge.com')]\n",
      "[('alison', 'faris', 'alison.faris@talgov.com')]\n",
      "[('andrew', 'gillum', 'andrew.gillum@talgov.com')]\n",
      "[('allen ', 'thompson', 'downtownmarket@earthlink.net')]\n",
      "[('michael', 'alfano', 'michael_alfano')]\n",
      "[('bill ', 'proctor', 'proctorb@leoncountyfl.gov')]\n",
      "[('chad ', 'kittrell', 'chad@hunterandharp.com')]\n",
      "[('sue ', 'dick', 'sdick@talchamber.com'), (' dana ', 'noles', ' dana _noles'), (' whitney ', 'weeks', ' whitney _weeks'), (' ed edward murray jr.', ' ', ' ed edward murray jr._ '), (' kristin ', 'dozier', ' kristin _dozier'), (' cecilia ', 'homison', ' cecilia _homison'), ('f4877', 'l4877', 'lonnie.ballard@talgov.com'), ('scott ', 'balog', 'balogs@tcc.fl.edu'), ('kathy ', 'bell', 'kgb@coloneybell.com'), ('reggie l. bouthillier', ' ', 'rbouthillier@stearnsweaver.com'), ('jt ', 'burnette', 'jt@inkbridge.com'), ('william f butler', ' ', 'will@realestateinsync.com'), ('f4878', 'l4878', 'paige@governanceinc.com'), ('david', 'coburn', 'dcoburn@fsu.edu'), ('betsy ', 'couch', 'betsy.couch@kccitallahassee.com'), ('thomas ', 'curry', 'chris.curry@talgov.com'), ('john ', 'dailey', 'daileyj@leoncountyfl.gov'), ('f4879', 'l4879', 'austin.davidson@patlive.com'), ('f4880', 'l4880', 'stephanie.derzypolski@tmh.org'), ('district 4 bryan desloge', ' ', 'deslogeb@leoncountyfl.gov'), ('kristin ', 'dozier', 'dozierk@leoncountyfl.gov'), ('f4881', 'l4881', 'bedington@fsu.edu'), ('rick', 'fernandez', 'rick.fernandez@talgov.com'), ('shawnta s.', 'friday', 'shawnta.fridaystroud@famu.edu'), ('andrew', 'gillum', 'andrew.gillum@talgov.com'), ('f4882', 'l4882', 'mhartline@cob.fsu.edu'), ('cecilia ', 'homison', 'chomison@firstcommercecu.org'), ('winstonhowell', ' ', 'wkhowell@thf-cpa.com'), ('f4883', 'l4883', 'drew@vancorejones.com'), ('jake ', 'kiker', 'jkiker@wggdlaw.com'), ('mary ann lindley', ' ', 'lindleym@leoncountyfl.gov'), ('vince ', 'long', 'longv@leoncountyfl.gov'), ('larrylynch', ' ', 'llynch@taledc.com'), ('scott', 'maddox', 'scott.maddox@talgov.com'), ('john ', 'mcneill', 'jmcneill@talcor.com'), ('jim ', 'mcshane', 'jim.mcshane@careersourcecapitalregion.com'), ('ron ', 'miller', 'rmiller@inn-park.com'), ('nancy', 'miller', 'nancy.miller@talgov.com'), ('billmoor', ' ', 'bmoor@ccbg.com'), ('rick ', 'moore', 'rmoore@moorebass.com'), ('melissa ', 'moore', 'mmoore@moorebass.com'), ('kimberly ', 'moore', 'mooreki@tcc.fl.edu'), ('karen ', 'moore', 'karenm@moorecommgroup.com'), ('f4884', 'l4884', 'timothy.moore@famu.edu'), ('jim ', 'murdaugh', 'murdaugj@tcc.fl.edu'), ('ed ', 'murray', 'murray@talcor.com'), ('f4885', 'l4885', 'jnelms@talquinelectric.com'), ('f4886', 'l4886', 'boliver@oliverrenovation.com'), ('gary', 'ostrander', 'gary@fsu.edu'), ('f4887', 'l4887', 'marc@paulconsulting.com'), ('audra pittman - council onculture and arts', ' ', 'audra@cocanet.org'), ('jay ', 'revell', 'jay.tallahasseedowntown@gmail.com'), ('f4888', 'l4888', 'curtis.richardson@talgov.com'), ('kim ', 'rivers', 'kim@inkbridge.net'), ('alan', 'rosenzweig', 'rosenzweiga@leoncountyfl.gov'), ('darnellsmith', ' ', 'darnell.smith@bcbsfl.com'), ('todd ', 'sperry', 'tsperry@oliverrenovation.com'), ('wayne', 'tedder', 'wayne.tedder@talgov.com'), ('f4889', 'l4889', 'tlwaters@tallahassee.com'), ('f4890', 'l4890', 'micah@domiventures.com'), ('kim ', 'williams', 'kim@marpan.com'), ('f4891', 'l4891', 'kxayabouth@my100bank.com'), ('gil', 'ziffer', 'gil.ziffer@talgov.com')]\n",
      "[('venus', 'childs', 'venus.childs@talgov.com'), ('gary ', 'yordon', 'gary@zprgroup.com')]\n",
      "[('davidvincent', ' ', 'dvincent@jra-architects.com'), ('edyoung', ' ', 'edward.youngjr@talgov.com'), ('akin ', 'akinyemi', 'akinyemia@leoncountyfl.gov'), (' beth ', 'kirkland', ' beth _kirkland'), ('carmen ', 'trammell', 'trammellc@leoncountyfl.gov'), ('catherine ', 'jones', 'jonesc@leoncountyfl.gov'), ('charles j. f. schreiber', ' ', 'cjschreiber@mcconnaughhay.com'), (' desireegorman', ' ', ' desireegorman_ '), ('f4892', 'l4892', 'drobbins@mcconnaughhay.com'), ('emma ', 'smith', 'smithe@leoncountyfl.gov'), ('keith ', 'bowers', 'kbowers24@earthlink.net'), ('keith ', 'bowers', 'keith.bowers@famu.edu'), ('kim ', 'rivers', 'kim@hunterharpholdings.com'), ('kimberly ', 'moore', 'kimberly.moore@wfplus.org'), (' kristopher ', 'dake', ' kristopher _dake'), ('michael', 'parker', 'michael.parker@talgov.com'), (' nick ', 'maddox', ' nick _maddox'), ('regina ', 'davis', 'frenchtowncdc@aol.com')]\n",
      "('davidvincent', ' ', 'dvincent@jra-architects.com')\n",
      "[('allen', 'thompson', 'william.thompson@talgov.com')]\n",
      "[(' members of the leon county sales tax committee', ' ', ' members of the leon county sales tax committee_ ')]\n",
      "(' members of the leon county sales tax committee', ' ', ' members of the leon county sales tax committee_ ')\n",
      "[('john', 'marks', 'john.marksiii@talgov.com'), ('gil', 'ziffer', 'gil.ziffer@talgov.com'), ('nancy', 'miller', 'nancy.miller@talgov.com'), ('scott', 'maddox', 'scott.maddox@talgov.com'), ('andrew', 'gillum', 'andrew.gillum@talgov.com')]\n",
      "[('william', 'haqield', 'whaqield@tallahassee.com')]\n",
      "[('adam ', 'corey', 'adam@unconventionalstrategies.com'), (' ryan ', 'grindler', ' ryan _grindler')]\n",
      "[('christopher', 'murphy', 'christopher_murphy3@cable.comcast.com')]\n",
      "[(' scof', ' ', ' scof_ ')]\n",
      "(' scof', ' ', ' scof_ ')\n",
      "[('marsha ', 'follmar', 'mfollmar@emaila2z.com')]\n",
      "[('william', 'haqield', 'whaqield@tallahassee.com')]\n",
      "[('nancy', 'miller', 'nancy.miller@talgov.com')]\n",
      "[('shane', 'house', 'shane.house@talgov.com')]\n",
      "[('andrew', 'gillum', 'andrew.gillum@talgov.com')]\n",
      "[('edward', 'kring', 'edward.kring@talgov.com'), ('andrea', 'rosser', 'andrea.rosser@talgov.com'), ('don', 'worrell', 'don.worrell@talgov.com')]\n",
      "[(' city commission office', ' ', ' city commission office_ '), (' leadership ', 'team', ' leadership _team'), ('mark', 'beaudoin', 'mark.beaudoin@talgov.com'), ('robby', 'powers', 'robby_powers')]\n",
      "(' city commission office', ' ', ' city commission office_ ')\n",
      "[('roxanne', 'manning', 'roxanne.manning@talgov.com'), ('michael', 'parker', 'michael.parker@talgov.com')]\n",
      "[('kim ', 'rivers', 'kim@inkbridge.com')]\n",
      "[('all ', 'mailboxes', 'all _mailboxes')]\n",
      "[('larry ', 'schmidt', 'larry@productionsupportgroup.com'), ('f4893', 'l4893', 'calista@productionsupportgroup.com')]\n",
      "[('rick', 'mccraw', 'richard.mccraw@talgov.com')]\n",
      "[(' announcements', ' ', ' announcements_ '), ('wade', 'bishop', 'wade_bishop'), ('nickcole', 'caldwell', 'nickcole_caldwell'), ('danny', 'capps', 'danny_capps'), (' citycommission ', 'office', ' citycommission _office'), ('alison', 'faris', 'alison.faris@talgov.com'), (' leadership ', 'team', ' leadership _team'), (' lutz,matt', ' ', ' lutz,matt_ '), (' van riper, jim', ' ', ' van riper, jim_ '), ('leann', 'williams', 'leann_williams')]\n",
      "(' announcements', ' ', ' announcements_ ')\n",
      "[]\n"
     ]
    },
    {
     "ename": "IndexError",
     "evalue": "list index out of range",
     "output_type": "error",
     "traceback": [
      "\u001b[0;31m---------------------------------------------------------------------------\u001b[0m",
      "\u001b[0;31mIndexError\u001b[0m                                Traceback (most recent call last)",
      "\u001b[0;32m<ipython-input-123-692d62968ae7>\u001b[0m in \u001b[0;36m<module>\u001b[0;34m\u001b[0m\n\u001b[1;32m      4\u001b[0m     \u001b[0;31m##if i > 5: break\u001b[0m\u001b[0;34m\u001b[0m\u001b[0;34m\u001b[0m\u001b[0;34m\u001b[0m\u001b[0m\n\u001b[1;32m      5\u001b[0m     \u001b[0mprint\u001b[0m\u001b[0;34m(\u001b[0m\u001b[0mel\u001b[0m\u001b[0;34m)\u001b[0m\u001b[0;34m\u001b[0m\u001b[0;34m\u001b[0m\u001b[0m\n\u001b[0;32m----> 6\u001b[0;31m     \u001b[0mell\u001b[0m \u001b[0;34m=\u001b[0m \u001b[0mel\u001b[0m\u001b[0;34m[\u001b[0m\u001b[0;36m0\u001b[0m\u001b[0;34m]\u001b[0m\u001b[0;34m\u001b[0m\u001b[0;34m\u001b[0m\u001b[0m\n\u001b[0m\u001b[1;32m      7\u001b[0m     \u001b[0;32mif\u001b[0m \u001b[0mell\u001b[0m\u001b[0;34m[\u001b[0m\u001b[0;36m0\u001b[0m\u001b[0;34m]\u001b[0m \u001b[0;34m==\u001b[0m \u001b[0;34m' '\u001b[0m \u001b[0;32mor\u001b[0m \u001b[0mell\u001b[0m\u001b[0;34m[\u001b[0m\u001b[0;36m1\u001b[0m\u001b[0;34m]\u001b[0m \u001b[0;34m==\u001b[0m \u001b[0;34m' '\u001b[0m\u001b[0;34m:\u001b[0m\u001b[0;34m\u001b[0m\u001b[0;34m\u001b[0m\u001b[0m\n\u001b[1;32m      8\u001b[0m         \u001b[0mprint\u001b[0m\u001b[0;34m(\u001b[0m\u001b[0mell\u001b[0m\u001b[0;34m)\u001b[0m\u001b[0;34m\u001b[0m\u001b[0;34m\u001b[0m\u001b[0m\n",
      "\u001b[0;31mIndexError\u001b[0m: list index out of range"
     ]
    }
   ],
   "source": [
    "#new_to_lists[:10]\n",
    "# for el in new_to_lists:\n",
    "for i, el in enumerate(new_to_lists):\n",
    "    ##if i > 5: break\n",
    "    print(el)   # How can element of new_to_lists be empty?\n",
    "    ell = el[0]\n",
    "    if ell[0] == ' ' or ell[1] == ' ':\n",
    "        print(ell)"
   ]
  },
  {
   "cell_type": "code",
   "execution_count": 510,
   "metadata": {},
   "outputs": [],
   "source": [
    "new_cc_lists = []\n",
    "# replace the cc section with unique people information\n",
    "\n",
    "for ccs in cc_list: \n",
    "    if pd.isnull(ccs):\n",
    "        new_cc_lists.append([])\n",
    "        continue\n",
    "    ccs = ccs.lower()\n",
    "    ccs = ccs.split(';')\n",
    "    new_cc_list = []\n",
    "    if len(ccs) == 1 and ccs[0].strip() == '':\n",
    "        new_cc_lists.append(new_cc_list)\n",
    "        continue\n",
    "    for cc in ccs:\n",
    "        cc = cc.strip(\"'\")\n",
    "        email_exist_flag = 0\n",
    "        email = ''\n",
    "        first_name = ''\n",
    "        last_name = ''\n",
    "        if re_behalf.match(cc):\n",
    "            cc = re_behalf.findall(cc)[0]\n",
    "\n",
    "        if re_email.match(cc):\n",
    "            email = re_email.findall(cc)[0]\n",
    "            email = email.lower()\n",
    "            email_exist_flag = 1\n",
    "        if len(cc.split()) != 2:\n",
    "            first_name = cc\n",
    "            last_name = ' '\n",
    "        else:\n",
    "            if re_name1.match(cc):\n",
    "                name = re_name1.findall(cc)[0]\n",
    "                first_name = name[0]\n",
    "                last_name = name[1]\n",
    "            elif re_name2.match(cc): \n",
    "                name = re_name2.findall(cc)[0]\n",
    "                first_name = name[1]\n",
    "                last_name = name[0]\n",
    "            elif email_exist_flag == 1:\n",
    "                pass\n",
    "            else:\n",
    "                first_name = 'fake'\n",
    "                last_name = cc\n",
    "                print('error: cannot find name and email in cc, make fake name')\n",
    "                print('cc:', cc)\n",
    "\n",
    "        name = first_name + ' ' + last_name\n",
    "\n",
    "        if email in named_email_list:\n",
    "            idx = named_email_list.index(email)\n",
    "            new_cc_list.append(people_list[idx])\n",
    "        elif name in name_list:\n",
    "            idx = name_list.index(name)\n",
    "            new_cc_list.append(people_list[idx])\n",
    "        elif email_exist_flag == 1:\n",
    "            person = ('f'+str(unknown_idx), 'l'+str(unknown_idx), email)\n",
    "            new_cc_list.append(person)\n",
    "            unknown_idx = unknown_idx + 1\n",
    "        else:\n",
    "            person = (first_name, last_name, first_name + '_' + last_name)\n",
    "            new_cc_list.append(person)\n",
    "    new_cc_lists.append(new_cc_list)"
   ]
  },
  {
   "cell_type": "code",
   "execution_count": 511,
   "metadata": {},
   "outputs": [
    {
     "data": {
      "text/plain": [
       "71143"
      ]
     },
     "execution_count": 511,
     "metadata": {},
     "output_type": "execute_result"
    }
   ],
   "source": [
    "len(cc_list)"
   ]
  },
  {
   "cell_type": "code",
   "execution_count": 512,
   "metadata": {},
   "outputs": [
    {
     "data": {
      "text/plain": [
       "71143"
      ]
     },
     "execution_count": 512,
     "metadata": {},
     "output_type": "execute_result"
    }
   ],
   "source": [
    "len(new_cc_lists)"
   ]
  },
  {
   "cell_type": "code",
   "execution_count": 513,
   "metadata": {},
   "outputs": [
    {
     "data": {
      "text/plain": [
       "[[('ryan ', 'grindler', 'rgrindler@101tally.com'),\n",
       "  ('', 'rosenfeld', 'david.rosenfeld@talgov.com')],\n",
       " [('', 'hurley', '_hurley')],\n",
       " [('jon ', 'brown', 'brownjon@leoncountyfl.gov'),\n",
       "  (' mathieu ', 'cavell', ' mathieu _cavell'),\n",
       "  ('', 'cmr', '_cmr'),\n",
       "  (' victoria ', 'connell', ' victoria _connell'),\n",
       "  (' deborah ', 'craig', ' deborah _craig'),\n",
       "  (' stephanie ', 'holloway', ' stephanie _holloway'),\n",
       "  (' lindsay ', 'jordan', ' lindsay _jordan'),\n",
       "  (' angeline ', 'taylor', ' angeline _taylor'),\n",
       "  (' jay ', 'townsend', ' jay _townsend'),\n",
       "  (' jessicamiller', ' ', ' jessicamiller_ ')],\n",
       " [('paige ', 'carter', 'paige.tallahasseedowntown@gmail.com'),\n",
       "  (' parade springtime tallahassee', ' ', ' parade springtime tallahassee_ '),\n",
       "  ('', 'kring', 'edward.kring@talgov.com')],\n",
       " [('gary ', 'yordon', 'gary@zprgroup.com')],\n",
       " [],\n",
       " [('', 'daniels', 'tanya.daniels@meritagehomes.com'),\n",
       "  (' simpson, roxanne m', ' ', ' simpson, roxanne m_ ')],\n",
       " [('', 'gillum', 'andrew.gillum@talgov.com')],\n",
       " [('jt ', 'burnette', 'jt@inkbridge.com'),\n",
       "  ('', 'parker', 'michael.parker@talgov.com'),\n",
       "  (' wild, ann j.', ' ', ' wild, ann j._ '),\n",
       "  ('', 'baker', 'sherri.baker@talgov.com')],\n",
       " []]"
      ]
     },
     "execution_count": 513,
     "metadata": {},
     "output_type": "execute_result"
    }
   ],
   "source": [
    "new_cc_lists[:10]"
   ]
  },
  {
   "cell_type": "code",
   "execution_count": 514,
   "metadata": {},
   "outputs": [
    {
     "data": {
      "text/html": [
       "<div>\n",
       "<style scoped>\n",
       "    .dataframe tbody tr th:only-of-type {\n",
       "        vertical-align: middle;\n",
       "    }\n",
       "\n",
       "    .dataframe tbody tr th {\n",
       "        vertical-align: top;\n",
       "    }\n",
       "\n",
       "    .dataframe thead th {\n",
       "        text-align: right;\n",
       "    }\n",
       "</style>\n",
       "<table border=\"1\" class=\"dataframe\">\n",
       "  <thead>\n",
       "    <tr style=\"text-align: right;\">\n",
       "      <th></th>\n",
       "      <th>filenm</th>\n",
       "      <th>From</th>\n",
       "      <th>Sent</th>\n",
       "      <th>To</th>\n",
       "      <th>CC</th>\n",
       "      <th>Bcc</th>\n",
       "      <th>Subject</th>\n",
       "      <th>Attachments</th>\n",
       "      <th>Importance</th>\n",
       "      <th>isThread</th>\n",
       "      <th>isAutoMessage</th>\n",
       "      <th>isDisplacement</th>\n",
       "      <th>hasAllCapLine</th>\n",
       "      <th>hasBadDate</th>\n",
       "      <th>Body</th>\n",
       "    </tr>\n",
       "  </thead>\n",
       "  <tbody>\n",
       "    <tr>\n",
       "      <th>0</th>\n",
       "      <td>29142_fn_10-4-Cascade-2015-1-0_ln_42056.txt</td>\n",
       "      <td>(shane a. moniz,  , smoniz@connandassociates.com)</td>\n",
       "      <td>Friday, May 08, 2015 11:38 AM</td>\n",
       "      <td>[(brooks , hayes, brooks@culpeppercc.com)]</td>\n",
       "      <td>[(ryan , grindler, rgrindler@101tally.com), (,...</td>\n",
       "      <td>NaN</td>\n",
       "      <td>Edison RFI's</td>\n",
       "      <td>RFI 008 Response.pdf; RFI 042 Response.pdf; RF...</td>\n",
       "      <td>NaN</td>\n",
       "      <td>False</td>\n",
       "      <td>False</td>\n",
       "      <td>False</td>\n",
       "      <td>False</td>\n",
       "      <td>True</td>\n",
       "      <td>['Response.pdf', 'Brooks, attached is our resp...</td>\n",
       "    </tr>\n",
       "    <tr>\n",
       "      <th>1</th>\n",
       "      <td>41353_fn_10-3-Cascade-2014-2-0_ln_16811.txt</td>\n",
       "      <td>(, beaudoin, mark.beaudoin@talgov.com)</td>\n",
       "      <td>Tuesday, August 19, 2014 5:21 PM</td>\n",
       "      <td>[(, coons, kristen.coons@talgov.com)]</td>\n",
       "      <td>[(, hurley, _hurley)]</td>\n",
       "      <td>NaN</td>\n",
       "      <td>RE: Revised lease</td>\n",
       "      <td>NaN</td>\n",
       "      <td>NaN</td>\n",
       "      <td>False</td>\n",
       "      <td>False</td>\n",
       "      <td>False</td>\n",
       "      <td>False</td>\n",
       "      <td>False</td>\n",
       "      <td>['Good by me!']</td>\n",
       "    </tr>\n",
       "    <tr>\n",
       "      <th>2</th>\n",
       "      <td>01216_fn_17-2-IB2013-1-0_ln_44062.txt</td>\n",
       "      <td>(ken , morris, morrisk@leoncountyfl.gov)</td>\n",
       "      <td>Tuesday, May 28, 2013 1:22 PM</td>\n",
       "      <td>[(kim , rivers, kim@inkbridge.com)]</td>\n",
       "      <td>[(jon , brown, brownjon@leoncountyfl.gov), ( m...</td>\n",
       "      <td>NaN</td>\n",
       "      <td>Proposed Imagine Schedule</td>\n",
       "      <td>NaN</td>\n",
       "      <td>NaN</td>\n",
       "      <td>False</td>\n",
       "      <td>False</td>\n",
       "      <td>False</td>\n",
       "      <td>False</td>\n",
       "      <td>False</td>\n",
       "      <td>['Kim,', 'See comments in blue regarding the p...</td>\n",
       "    </tr>\n",
       "    <tr>\n",
       "      <th>3</th>\n",
       "      <td>32414_fn_32-1-PaigeCS-1-1_ln_18843.txt</td>\n",
       "      <td>(jennifer , naff, director@springtimetallahass...</td>\n",
       "      <td>Wednesday, March 15, 2017 5:32 PM</td>\n",
       "      <td>[(, faris, alison.faris@talgov.com)]</td>\n",
       "      <td>[(paige , carter, paige.tallahasseedowntown@gm...</td>\n",
       "      <td>NaN</td>\n",
       "      <td>RE: Springtime Parade</td>\n",
       "      <td>NaN</td>\n",
       "      <td>NaN</td>\n",
       "      <td>False</td>\n",
       "      <td>False</td>\n",
       "      <td>False</td>\n",
       "      <td>True</td>\n",
       "      <td>False</td>\n",
       "      <td>['Hi Alison,', 'Dont apologize, I know its a l...</td>\n",
       "    </tr>\n",
       "    <tr>\n",
       "      <th>4</th>\n",
       "      <td>56710_fn_31-2-GaryYordon2-3_ln_41027.txt</td>\n",
       "      <td>(paul , lamaster, paullamaster250@comcast.net)</td>\n",
       "      <td>Sunday, June 7, 2015 at 1:33:39 PM Eastern Day...</td>\n",
       "      <td>[(, gillum, andrew.gillum@talgov.com)]</td>\n",
       "      <td>[(gary , yordon, gary@zprgroup.com)]</td>\n",
       "      <td>NaN</td>\n",
       "      <td>Tony Carvajal: Develop strategy to get ahead o...</td>\n",
       "      <td>NaN</td>\n",
       "      <td>NaN</td>\n",
       "      <td>False</td>\n",
       "      <td>False</td>\n",
       "      <td>True</td>\n",
       "      <td>False</td>\n",
       "      <td>False</td>\n",
       "      <td>['Highly recommend you take a moment out of yo...</td>\n",
       "    </tr>\n",
       "    <tr>\n",
       "      <th>...</th>\n",
       "      <td>...</td>\n",
       "      <td>...</td>\n",
       "      <td>...</td>\n",
       "      <td>...</td>\n",
       "      <td>...</td>\n",
       "      <td>...</td>\n",
       "      <td>...</td>\n",
       "      <td>...</td>\n",
       "      <td>...</td>\n",
       "      <td>...</td>\n",
       "      <td>...</td>\n",
       "      <td>...</td>\n",
       "      <td>...</td>\n",
       "      <td>...</td>\n",
       "      <td>...</td>\n",
       "    </tr>\n",
       "    <tr>\n",
       "      <th>71138</th>\n",
       "      <td>42570_fn_31-2-GaryYordon2-1_ln_10355.txt</td>\n",
       "      <td>(paul , lamaster, paullamaster250@comcast.net)</td>\n",
       "      <td>Thursday, August 10, 2017 at 11:35:27 AM Easte...</td>\n",
       "      <td>[(, gillum, andrew.gillum@talgov.com)]</td>\n",
       "      <td>[]</td>\n",
       "      <td>NaN</td>\n",
       "      <td>Tallahassee Democrat E-Edi4on Ar4cle</td>\n",
       "      <td>NaN</td>\n",
       "      <td>NaN</td>\n",
       "      <td>False</td>\n",
       "      <td>False</td>\n",
       "      <td>True</td>\n",
       "      <td>False</td>\n",
       "      <td>False</td>\n",
       "      <td>['nancy.miller@talgov.com, scoS.maddox@talgov....</td>\n",
       "    </tr>\n",
       "    <tr>\n",
       "      <th>71139</th>\n",
       "      <td>36011_fn_32-1-PaigeCS-1-2_ln_5990.txt</td>\n",
       "      <td>(ryan , grindler, ryan@edisontally.com)</td>\n",
       "      <td>Wednesday, February 22, 2017 at 6:27:34 PM Eas...</td>\n",
       "      <td>[( paige , carter,  paige _carter)]</td>\n",
       "      <td>[( steve adams, ashley edwards, allison scor, ...</td>\n",
       "      <td>NaN</td>\n",
       "      <td>Re: Summer Movie Night Series Discussion Mee-ng</td>\n",
       "      <td>NaN</td>\n",
       "      <td>NaN</td>\n",
       "      <td>False</td>\n",
       "      <td>False</td>\n",
       "      <td>True</td>\n",
       "      <td>False</td>\n",
       "      <td>False</td>\n",
       "      <td>['All,', 'We are s-ll working on some logis-ca...</td>\n",
       "    </tr>\n",
       "    <tr>\n",
       "      <th>71140</th>\n",
       "      <td>22004_fn_34-2-ScottMaddox2_ln_53965.txt</td>\n",
       "      <td>(, fleming, allison.fleming@talgov.com)</td>\n",
       "      <td>Tuesday, May 28, 2013 2:38 PM</td>\n",
       "      <td>[(scott , maddox, scott@scottmaddox.com)]</td>\n",
       "      <td>[(paige , carter, paigecartersmith@gmail.com)]</td>\n",
       "      <td>NaN</td>\n",
       "      <td>Call Sheet</td>\n",
       "      <td>Call List 5-28.xlsx</td>\n",
       "      <td>NaN</td>\n",
       "      <td>False</td>\n",
       "      <td>False</td>\n",
       "      <td>True</td>\n",
       "      <td>False</td>\n",
       "      <td>False</td>\n",
       "      <td>['Current Call sheet attached - including this...</td>\n",
       "    </tr>\n",
       "    <tr>\n",
       "      <th>71141</th>\n",
       "      <td>64016_fn_16-5-HunterHarpHoldings2015-2017_ln_6...</td>\n",
       "      <td>(scott , williams, scott@hunterandharp.com)</td>\n",
       "      <td>Monday, April 27, 2015 5:24 PM</td>\n",
       "      <td>[(scott , rowse, scott@morethanbuildings.com)]</td>\n",
       "      <td>[]</td>\n",
       "      <td>NaN</td>\n",
       "      <td>FW: Gateway Sprinklers and Sidewalks</td>\n",
       "      <td>NaN</td>\n",
       "      <td>NaN</td>\n",
       "      <td>False</td>\n",
       "      <td>False</td>\n",
       "      <td>False</td>\n",
       "      <td>False</td>\n",
       "      <td>False</td>\n",
       "      <td>['Do you have a contact for the sprinklers?', ...</td>\n",
       "    </tr>\n",
       "    <tr>\n",
       "      <th>71142</th>\n",
       "      <td>65874_fn_23-4-PaigeCarter-Smith2016-3-0_ln_145...</td>\n",
       "      <td>(, kelley, lizzy.kelley@talgov.com)</td>\n",
       "      <td>Wednesday, November 02, 2016 12:12 PM</td>\n",
       "      <td>[]</td>\n",
       "      <td>[]</td>\n",
       "      <td>NaN</td>\n",
       "      <td>COT NR - Sit. Stay. Socialize.</td>\n",
       "      <td>NaN</td>\n",
       "      <td>NaN</td>\n",
       "      <td>False</td>\n",
       "      <td>False</td>\n",
       "      <td>False</td>\n",
       "      <td>True</td>\n",
       "      <td>False</td>\n",
       "      <td>['CITY OF TALLAHASSEE NEWS RELEASE', 'FOR IMME...</td>\n",
       "    </tr>\n",
       "  </tbody>\n",
       "</table>\n",
       "<p>71143 rows × 15 columns</p>\n",
       "</div>"
      ],
      "text/plain": [
       "                                                  filenm  \\\n",
       "0            29142_fn_10-4-Cascade-2015-1-0_ln_42056.txt   \n",
       "1            41353_fn_10-3-Cascade-2014-2-0_ln_16811.txt   \n",
       "2                  01216_fn_17-2-IB2013-1-0_ln_44062.txt   \n",
       "3                 32414_fn_32-1-PaigeCS-1-1_ln_18843.txt   \n",
       "4               56710_fn_31-2-GaryYordon2-3_ln_41027.txt   \n",
       "...                                                  ...   \n",
       "71138           42570_fn_31-2-GaryYordon2-1_ln_10355.txt   \n",
       "71139              36011_fn_32-1-PaigeCS-1-2_ln_5990.txt   \n",
       "71140            22004_fn_34-2-ScottMaddox2_ln_53965.txt   \n",
       "71141  64016_fn_16-5-HunterHarpHoldings2015-2017_ln_6...   \n",
       "71142  65874_fn_23-4-PaigeCarter-Smith2016-3-0_ln_145...   \n",
       "\n",
       "                                                    From  \\\n",
       "0      (shane a. moniz,  , smoniz@connandassociates.com)   \n",
       "1                 (, beaudoin, mark.beaudoin@talgov.com)   \n",
       "2               (ken , morris, morrisk@leoncountyfl.gov)   \n",
       "3      (jennifer , naff, director@springtimetallahass...   \n",
       "4         (paul , lamaster, paullamaster250@comcast.net)   \n",
       "...                                                  ...   \n",
       "71138     (paul , lamaster, paullamaster250@comcast.net)   \n",
       "71139            (ryan , grindler, ryan@edisontally.com)   \n",
       "71140            (, fleming, allison.fleming@talgov.com)   \n",
       "71141        (scott , williams, scott@hunterandharp.com)   \n",
       "71142                (, kelley, lizzy.kelley@talgov.com)   \n",
       "\n",
       "                                                    Sent  \\\n",
       "0                          Friday, May 08, 2015 11:38 AM   \n",
       "1                       Tuesday, August 19, 2014 5:21 PM   \n",
       "2                          Tuesday, May 28, 2013 1:22 PM   \n",
       "3                      Wednesday, March 15, 2017 5:32 PM   \n",
       "4      Sunday, June 7, 2015 at 1:33:39 PM Eastern Day...   \n",
       "...                                                  ...   \n",
       "71138  Thursday, August 10, 2017 at 11:35:27 AM Easte...   \n",
       "71139  Wednesday, February 22, 2017 at 6:27:34 PM Eas...   \n",
       "71140                      Tuesday, May 28, 2013 2:38 PM   \n",
       "71141                     Monday, April 27, 2015 5:24 PM   \n",
       "71142              Wednesday, November 02, 2016 12:12 PM   \n",
       "\n",
       "                                                   To  \\\n",
       "0          [(brooks , hayes, brooks@culpeppercc.com)]   \n",
       "1               [(, coons, kristen.coons@talgov.com)]   \n",
       "2                 [(kim , rivers, kim@inkbridge.com)]   \n",
       "3                [(, faris, alison.faris@talgov.com)]   \n",
       "4              [(, gillum, andrew.gillum@talgov.com)]   \n",
       "...                                               ...   \n",
       "71138          [(, gillum, andrew.gillum@talgov.com)]   \n",
       "71139             [( paige , carter,  paige _carter)]   \n",
       "71140       [(scott , maddox, scott@scottmaddox.com)]   \n",
       "71141  [(scott , rowse, scott@morethanbuildings.com)]   \n",
       "71142                                              []   \n",
       "\n",
       "                                                      CC  Bcc  \\\n",
       "0      [(ryan , grindler, rgrindler@101tally.com), (,...  NaN   \n",
       "1                                  [(, hurley, _hurley)]  NaN   \n",
       "2      [(jon , brown, brownjon@leoncountyfl.gov), ( m...  NaN   \n",
       "3      [(paige , carter, paige.tallahasseedowntown@gm...  NaN   \n",
       "4                   [(gary , yordon, gary@zprgroup.com)]  NaN   \n",
       "...                                                  ...  ...   \n",
       "71138                                                 []  NaN   \n",
       "71139  [( steve adams, ashley edwards, allison scor, ...  NaN   \n",
       "71140     [(paige , carter, paigecartersmith@gmail.com)]  NaN   \n",
       "71141                                                 []  NaN   \n",
       "71142                                                 []  NaN   \n",
       "\n",
       "                                                 Subject  \\\n",
       "0                                           Edison RFI's   \n",
       "1                                      RE: Revised lease   \n",
       "2                              Proposed Imagine Schedule   \n",
       "3                                  RE: Springtime Parade   \n",
       "4      Tony Carvajal: Develop strategy to get ahead o...   \n",
       "...                                                  ...   \n",
       "71138               Tallahassee Democrat E-Edi4on Ar4cle   \n",
       "71139    Re: Summer Movie Night Series Discussion Mee-ng   \n",
       "71140                                         Call Sheet   \n",
       "71141               FW: Gateway Sprinklers and Sidewalks   \n",
       "71142                     COT NR - Sit. Stay. Socialize.   \n",
       "\n",
       "                                             Attachments Importance  isThread  \\\n",
       "0      RFI 008 Response.pdf; RFI 042 Response.pdf; RF...        NaN     False   \n",
       "1                                                    NaN        NaN     False   \n",
       "2                                                    NaN        NaN     False   \n",
       "3                                                    NaN        NaN     False   \n",
       "4                                                    NaN        NaN     False   \n",
       "...                                                  ...        ...       ...   \n",
       "71138                                                NaN        NaN     False   \n",
       "71139                                                NaN        NaN     False   \n",
       "71140                                Call List 5-28.xlsx        NaN     False   \n",
       "71141                                                NaN        NaN     False   \n",
       "71142                                                NaN        NaN     False   \n",
       "\n",
       "       isAutoMessage  isDisplacement  hasAllCapLine  hasBadDate  \\\n",
       "0              False           False          False        True   \n",
       "1              False           False          False       False   \n",
       "2              False           False          False       False   \n",
       "3              False           False           True       False   \n",
       "4              False            True          False       False   \n",
       "...              ...             ...            ...         ...   \n",
       "71138          False            True          False       False   \n",
       "71139          False            True          False       False   \n",
       "71140          False            True          False       False   \n",
       "71141          False           False          False       False   \n",
       "71142          False           False           True       False   \n",
       "\n",
       "                                                    Body  \n",
       "0      ['Response.pdf', 'Brooks, attached is our resp...  \n",
       "1                                        ['Good by me!']  \n",
       "2      ['Kim,', 'See comments in blue regarding the p...  \n",
       "3      ['Hi Alison,', 'Dont apologize, I know its a l...  \n",
       "4      ['Highly recommend you take a moment out of yo...  \n",
       "...                                                  ...  \n",
       "71138  ['nancy.miller@talgov.com, scoS.maddox@talgov....  \n",
       "71139  ['All,', 'We are s-ll working on some logis-ca...  \n",
       "71140  ['Current Call sheet attached - including this...  \n",
       "71141  ['Do you have a contact for the sprinklers?', ...  \n",
       "71142  ['CITY OF TALLAHASSEE NEWS RELEASE', 'FOR IMME...  \n",
       "\n",
       "[71143 rows x 15 columns]"
      ]
     },
     "execution_count": 514,
     "metadata": {},
     "output_type": "execute_result"
    }
   ],
   "source": [
    "df_new = df.copy()\n",
    "df_new['From'] = new_from_list\n",
    "df_new['To'] = new_to_lists\n",
    "df_new['CC'] = new_cc_lists\n",
    "df_new\n"
   ]
  },
  {
   "cell_type": "code",
   "execution_count": 167,
   "metadata": {},
   "outputs": [],
   "source": [
    "df_new.to_csv('output_0211_name_standardized.csv', index=0)"
   ]
  },
  {
   "cell_type": "code",
   "execution_count": 138,
   "metadata": {},
   "outputs": [],
   "source": [
    "f = pd.read_csv('output_0211_name_standardized.csv')"
   ]
  },
  {
   "cell_type": "code",
   "execution_count": 139,
   "metadata": {},
   "outputs": [
    {
     "data": {
      "text/plain": [
       "0      [('brooks', 'hayes', 'brooks@culpeppercc.com')]\n",
       "1    [('kristen', 'coons', 'kristen.coons@talgov.co...\n",
       "2             [('kim', 'rivers', 'kim@inkbridge.com')]\n",
       "3     [('alison', 'faris', 'alison.faris@talgov.com')]\n",
       "4    [('andrew', 'gillum', 'andrew.gillum@talgov.co...\n",
       "Name: To, dtype: object"
      ]
     },
     "execution_count": 139,
     "metadata": {},
     "output_type": "execute_result"
    }
   ],
   "source": [
    "f.To.head()"
   ]
  },
  {
   "cell_type": "code",
   "execution_count": 141,
   "metadata": {},
   "outputs": [
    {
     "data": {
      "text/plain": [
       "0    [('ryan', 'grindler', 'rgrindler@101tally.com'...\n",
       "1            [('patrick', 'hurley', 'patrick_hurley')]\n",
       "2    [('jon', 'brown', 'brownjon@leoncountyfl.gov')...\n",
       "3    [('paige', 'carter', 'paige.tallahasseedowntow...\n",
       "4           [('f72764', 'l72764', 'alan.williams@my')]\n",
       "Name: CC, dtype: object"
      ]
     },
     "execution_count": 141,
     "metadata": {},
     "output_type": "execute_result"
    }
   ],
   "source": [
    "f.CC.head()"
   ]
  },
  {
   "cell_type": "code",
   "execution_count": 145,
   "metadata": {},
   "outputs": [
    {
     "data": {
      "text/plain": [
       "[('ryan', 'grindler', 'rgrindler@101tally.com'),\n",
       " ('david', 'rosenfeld', 'david.rosenfeld@talgov.com')]"
      ]
     },
     "execution_count": 145,
     "metadata": {},
     "output_type": "execute_result"
    }
   ],
   "source": [
    "eval(f.CC.head()[0])"
   ]
  },
  {
   "cell_type": "code",
   "execution_count": null,
   "metadata": {},
   "outputs": [],
   "source": []
  }
 ],
 "metadata": {
  "kernelspec": {
   "display_name": "Python 3",
   "language": "python",
   "name": "python3"
  },
  "language_info": {
   "codemirror_mode": {
    "name": "ipython",
    "version": 3
   },
   "file_extension": ".py",
   "mimetype": "text/x-python",
   "name": "python",
   "nbconvert_exporter": "python",
   "pygments_lexer": "ipython3",
   "version": "3.8.8"
  },
  "toc": {
   "base_numbering": 1,
   "nav_menu": {},
   "number_sections": true,
   "sideBar": true,
   "skip_h1_title": false,
   "title_cell": "Table of Contents",
   "title_sidebar": "Contents",
   "toc_cell": true,
   "toc_position": {},
   "toc_section_display": true,
   "toc_window_display": true
  },
  "widgets": {
   "application/vnd.jupyter.widget-state+json": {
    "state": {},
    "version_major": 2,
    "version_minor": 0
   }
  }
 },
 "nbformat": 4,
 "nbformat_minor": 4
}
