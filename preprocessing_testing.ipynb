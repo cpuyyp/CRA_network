{
 "cells": [
  {
   "cell_type": "markdown",
   "metadata": {},
   "source": [
    "### Joey's version in root CRA folder"
   ]
  },
  {
   "cell_type": "markdown",
   "metadata": {
    "tags": [],
    "toc": true
   },
   "source": [
    "<h1>Table of Contents<span class=\"tocSkip\"></span></h1>\n",
    "<div class=\"toc\"><ul class=\"toc-item\"><li><ul class=\"toc-item\"><li><ul class=\"toc-item\"><li><span><a href=\"#Joey's-version-in-root-CRA-folder\" data-toc-modified-id=\"Joey's-version-in-root-CRA-folder-0.0.1\"><span class=\"toc-item-num\">0.0.1&nbsp;&nbsp;</span>Joey's version in root CRA folder</a></span></li></ul></li></ul></li><li><span><a href=\"#Transform-text-files-to-emails\" data-toc-modified-id=\"Transform-text-files-to-emails-1\"><span class=\"toc-item-num\">1&nbsp;&nbsp;</span>Transform text files to emails</a></span></li></ul></div>"
   ]
  },
  {
   "cell_type": "markdown",
   "metadata": {},
   "source": [
    "# Transform text files to emails\n",
    "* File names contain: \n",
    "    * an immutable email id\n",
    "    * the file name that contains the email\n",
    "    * the line number that locates the email"
   ]
  },
  {
   "cell_type": "code",
   "execution_count": 2,
   "metadata": {},
   "outputs": [],
   "source": [
    "import os\n",
    "import io\n",
    "import sys\n",
    "import re\n",
    "import csv\n",
    "import pandas as pd\n",
    "from tqdm import tqdm_notebook, tnrange\n",
    "from datetime import datetime\n",
    "from collections import defaultdict"
   ]
  },
  {
   "cell_type": "code",
   "execution_count": 3,
   "metadata": {},
   "outputs": [],
   "source": [
    "from dataclasses import dataclass, field "
   ]
  },
  {
   "cell_type": "code",
   "execution_count": 4,
   "metadata": {},
   "outputs": [],
   "source": [
    "def print_list(li):\n",
    "    for ele in li:\n",
    "        print(ele)\n",
    "def print_dict(dic):\n",
    "    for key,val in dic.items():\n",
    "        print(key, val)"
   ]
  },
  {
   "cell_type": "code",
   "execution_count": 5,
   "metadata": {},
   "outputs": [],
   "source": [
    "# must have one and only one pair of parenthese in regex\n",
    "headerReLib = {}\n",
    "\n",
    "headerReLib[re.compile(r'^From\\:\\s?(.*)')] = 'From'\n",
    "headerReLib[re.compile(r'^Sent\\:\\s?(.*)')] = 'Sent'\n",
    "headerReLib[re.compile(r'^Date\\:\\s?(.*)')] = 'Sent'\n",
    "headerReLib[re.compile(r'^To\\:\\s?(.*)')] = 'To'\n",
    "headerReLib[re.compile(r'^C[Cc]\\:\\s?(.*)')] = 'CC'\n",
    "headerReLib[re.compile(r'^B[Cc][Cc]\\:\\s?(.*)')] = 'BCC'\n",
    "headerReLib[re.compile(r'^Subject\\:\\s?(.*)')] = 'Subject' # possibly empty subject\n",
    "headerReLib[re.compile(r'^Attachments?\\:\\s?(.*)')] = 'Attachments' # search for Attachment/ARachment/AFachment\n",
    "# headerReLib[re.compile(r'^ARachments?\\:\\s?(.*)')] = 'Attachments' \n",
    "# headerReLib[re.compile(r'^AFachments?\\:\\s?(.*)')] = 'Attachments'  # need to correct spelling\n",
    "\n",
    "headerReLib[re.compile(r'Importance\\:\\s?(.*)')] = 'Importance'\n",
    "\n",
    "# headerReLib[re.compile(r'Read\\:\\s?(.*)')] = 'Read'"
   ]
  },
  {
   "cell_type": "code",
   "execution_count": 86,
   "metadata": {},
   "outputs": [],
   "source": [
    "cleanReLib = {}\n",
    "cleanReLib[re.compile(r'^Page\\s\\d+$')] = 'Page number'\n",
    "cleanReLib[re.compile(r'^Page\\s\\d+\\sof\\s\\d+$')] = 'Page number'\n",
    "cleanReLib[re.compile(r'^\\d{,3}\\-\\d{,3}$')] = 'Page number and file number'\n"
   ]
  },
  {
   "cell_type": "code",
   "execution_count": 87,
   "metadata": {},
   "outputs": [],
   "source": [
    "typoLib = {}\n",
    "typoLib['ARachments'] = 'Attachments'\n",
    "typoLib['AFachments'] = 'Attachments'\n",
    "# typosLib[] = \n",
    "# typosLib[] = \n"
   ]
  },
  {
   "cell_type": "code",
   "execution_count": 88,
   "metadata": {},
   "outputs": [],
   "source": [
    "def saveEmail(email):\n",
    "    # filecount and output path are global veriables\n",
    "    global email_count\n",
    "    global outputpath\n",
    "    global infile\n",
    "    global line_no\n",
    "    saving_order = ['From', 'Sent', 'To', 'CC', 'Bcc', 'Subject', 'Attachments', 'Importance', 'Body', 'isThread', 'isAutoreply']\n",
    "#     print('before saving')\n",
    "#     print_dict(email)\n",
    "    with open(outputpath + '/'+str(email_count)+'-fn_'+infile.split('.')[0]+'-ln_'+str(line_no)+'.txt', 'w+', encoding = 'utf-8') as f_out:\n",
    "        for key in saving_order:\n",
    "            if key in email:\n",
    "                if key == 'Body':\n",
    "                    f_out.write(key+': '+'\\n'.join(email[key]) + '\\n') # for body, join by space '\\n'\n",
    "                elif key == 'isThread' or key == 'isAutoreply':\n",
    "                    f_out.write(key+': '+ str(email[key]) +'\\n') # isThread is a bool\n",
    "                else:\n",
    "                    f_out.write(key+': '+' '.join(email[key]) + '\\n')  # for others, join by ' '\n",
    "    email_count += 1"
   ]
  },
  {
   "cell_type": "code",
   "execution_count": 89,
   "metadata": {},
   "outputs": [],
   "source": [
    "def validEmail(email, save = True, saveAny = False):\n",
    "    # if missing From or To, not a valid email. Read notice is skipped too.\n",
    "    valid = False\n",
    "    # email is valid if 2 or more sections shows\n",
    "    checking_section = ['From', 'To', 'Sent']\n",
    "    valid_count = 0\n",
    "    for section in checking_section:\n",
    "        if section in email:\n",
    "            valid_count+=1\n",
    "    if valid_count>=2:\n",
    "        valid = True\n",
    "    if saveAny or (save and valid):\n",
    "        saveEmail(email)\n",
    "    return valid"
   ]
  },
  {
   "cell_type": "code",
   "execution_count": 90,
   "metadata": {},
   "outputs": [],
   "source": [
    "# Why not add a \"Body:\" to the emails we create? \n",
    "def completeEmail(email):\n",
    "    global stack\n",
    "    global displacement_sections\n",
    "    global displacement\n",
    "    global prev_section  # GE, 2022-01-20\n",
    "    # if stack:\n",
    "    email['Body'] = email['Body'] + stack\n",
    "    stack = [] \n",
    "\n",
    "    validEmail(email, save = True)\n",
    "    \n",
    "    displacement_sections = []\n",
    "    prev_section = None  # GE: Correction. 2022-01-20\n",
    "    \n"
   ]
  },
  {
   "cell_type": "code",
   "execution_count": 91,
   "metadata": {},
   "outputs": [],
   "source": [
    "def isUselessLine(line, file_no = ''):\n",
    "    for regex, cleaning_reason in cleanReLib.items(): \n",
    "        if regex.match(line):\n",
    "            return True\n",
    "    if file_no != '':\n",
    "        if line == file_no:\n",
    "            return True\n",
    "    return False"
   ]
  },
  {
   "cell_type": "code",
   "execution_count": 92,
   "metadata": {},
   "outputs": [],
   "source": [
    "@dataclass\n",
    "class SavingArgs:\n",
    "    inputpath: str\n",
    "    infile: str\n",
    "    outputpath: str\n",
    "    email_count: int = 0\n",
    "    prev_section: str = ''\n",
    "    file_no: str = ''\n",
    "    insideAutoreply = False\n",
    "    \n",
    "@dataclass\n",
    "class SplittingArgs:\n",
    "    stack: list = field(default_factory=list)\n",
    "    displacement_sections: list = field(default_factory=list)\n",
    "    capTolerance: int = 0"
   ]
  },
  {
   "cell_type": "code",
   "execution_count": 93,
   "metadata": {},
   "outputs": [
    {
     "data": {
      "text/plain": [
       "SavingArgs(inputpath='./test_input/', infile='9-1-Adam-Corey-2012-1-0.txt', outputpath='./test_output/', email_count=0, prev_section='', file_no='')"
      ]
     },
     "execution_count": 93,
     "metadata": {},
     "output_type": "execute_result"
    }
   ],
   "source": [
    "sv_arg = SavingArgs(inputpath = \"./test_input/\", \n",
    "                    infile = \"9-1-Adam-Corey-2012-1-0.txt\",\n",
    "                    outputpath = \"./test_output/\")\n",
    "sv_arg"
   ]
  },
  {
   "cell_type": "code",
   "execution_count": 94,
   "metadata": {},
   "outputs": [
    {
     "data": {
      "text/plain": [
       "SplittingArgs(stack=[], displacement_sections=[], capTolerance=0)"
      ]
     },
     "execution_count": 94,
     "metadata": {},
     "output_type": "execute_result"
    }
   ],
   "source": [
    "spt_arg = SplittingArgs()\n",
    "spt_arg"
   ]
  },
  {
   "cell_type": "code",
   "execution_count": 64,
   "metadata": {},
   "outputs": [],
   "source": [
    "# def process(sv_arg, spt_arg):\n",
    "#     f_in = open(inputpath + infile, encoding=\"utf8\")\n",
    "#     email = defaultdict(list)\n",
    "# "
   ]
  },
  {
   "cell_type": "code",
   "execution_count": 100,
   "metadata": {},
   "outputs": [],
   "source": [
    "re_wrong_date = re.compile(r'^Date:\\s?[0-9]{1,2}[/-][0-9]{1,2}[/-][0-9]{4}$')"
   ]
  },
  {
   "cell_type": "code",
   "execution_count": 102,
   "metadata": {},
   "outputs": [],
   "source": [
    "# all global variables\n",
    "inputpath = \"./test_input/\"\n",
    "# inputpath = \"./read_original_text_files/email_txt/test_files/\"\n",
    "\n",
    "# infile = \"9-1-Adam-Corey-2012-1-0.txt\"\n",
    "infile = \"34-2-mytest.txt\"\n",
    "# infile = \"gordon2.txt\"\n",
    "\n",
    "spt = infile.split('-')\n",
    "file_no = spt[0]\n",
    "if len(spt)>1 and spt[1].isdigit():\n",
    "    file_no = file_no + '-' + spt[1]\n",
    "\n",
    "f_in = open(inputpath + infile, encoding=\"utf8\")\n",
    "outputpath = \"./test_output/\"\n",
    "# outputpath = \"./read_original_text_files/test_output/\"\n",
    "\n",
    "email_count = 0\n",
    "stack = []\n",
    "displacement_sections = []\n",
    "    \n",
    "# empty_line_count = 0\n",
    "# All sections are better to be lists. This is designed for the block displacement issue\n",
    "email = defaultdict(list)\n",
    "prev_section = None\n",
    "insideAttachment = False\n",
    "insideAutoreply = False\n",
    "capTolerance = 0\n",
    "# Iterate through the whole file\n",
    "for line_no, line in enumerate(f_in.readlines()):\n",
    "    capTolerance -= 1\n",
    "    \n",
    "    line = line.strip(\"\\f\").strip()\n",
    "    if line == '':\n",
    "        continue\n",
    "    if line[0] == '>':     # if line start with >, it's in a thread\n",
    "        email['isThread'] = True\n",
    "    line = line.strip(\">\").strip()\n",
    "\n",
    "    # Skip some useless rows, but not empty rows\n",
    "    if isUselessLine(line, file_no):\n",
    "#         print(\"This line seems useless\")\n",
    "#         print(line)\n",
    "        continue\n",
    "\n",
    "    # To identify autoreply\n",
    " \n",
    "    if \"From:\" in line:\n",
    "        insideAutoreply = False\n",
    "        insideAttachment = False\n",
    "        \n",
    "    if insideAutoreply or insideAttachment:\n",
    "        stack.append(line)\n",
    "        continue\n",
    "    if \"Read:\" in line or \"Not read:\" in line:\n",
    "        insideAutoreply = True\n",
    "        email['isAutoreply'] = True\n",
    "    \n",
    "    # For the case that From/Subject is wrongly appended to the end\n",
    "    # If people use \"From/Subject:\" in the content, this creates an incorrect split   \n",
    "    if \"From:\" in line:\n",
    "        spt = line.split(\"From:\")\n",
    "        if spt[0]:\n",
    "            stack.append(spt[0])\n",
    "            completeEmail(email)\n",
    "            email = defaultdict(list)\n",
    "            line = \"From:\" + spt[1]\n",
    "    elif \"Subject:\" in line:\n",
    "        spt = line.split(\"Subject:\")\n",
    "        if spt[0]:\n",
    "            stack.append(spt[0])\n",
    "            completeEmail(email)\n",
    "            email = defaultdict(list)\n",
    "            line = \"Subject:\" + spt[1]\n",
    "    # Scanned documents are found. And usually contains To: that could mess up the splitting.\n",
    "    # Scanned documents usually have a title line that all capital letters\n",
    "    ### Only capture attachments if they have a capitalized line 5 or more characters\n",
    "    # Will not capture emails written ALL-CAP. (do we want that?)\n",
    "    elif capTolerance <= 0 and len(line) > 5 and all(word.isupper() for word in line.split()) and not '.' in line:\n",
    "        insideAttachment = True\n",
    "        email['hasEmbeddedAttachment'] = True\n",
    "        stack.append(line)\n",
    "        continue\n",
    "    #     if line =='':\n",
    "    #         empty_line_count += 1\n",
    "    #     else:\n",
    "    #         empty_line_count = 0\n",
    "    #     if empty_line_count >= 2:\n",
    "    #         email = defaultdict(list)\n",
    "    # if no pattern match, put into stack\n",
    "    line_to_stack = True\n",
    "    \n",
    "    # search if line match any pattern\n",
    "    for regex, section in headerReLib.items():\n",
    "        if regex.match(line):\n",
    "            # if any section is found, the next line can be all cap with trigger insideAttachment\n",
    "            # even if this is 2, still only 1 line tolerance. Because decrement is earlier than checking\n",
    "            capTolerance = 2 # can be larger, but with cautious\n",
    "            \n",
    "            insideAttachment = False\n",
    "            \n",
    "            if section in email:  # repeat headers, indicating current email ends\n",
    "                if section == 'Sent' and re_wrong_date.match(line):\n",
    "                    stack.append(line)\n",
    "                    insideAttachment = True\n",
    "                    email['hasEmbeddedAttachment'] = True\n",
    "                else:\n",
    "                    completeEmail(email)\n",
    "                    email = defaultdict(list)\n",
    "            elif stack:   # section not in email, but non-zero body\n",
    "                if prev_section == None:\n",
    "                    print(\"error!!!\")\n",
    "                email[prev_section] = email[prev_section] + stack\n",
    "                stack = []\n",
    "                if displacement_sections:\n",
    "                    displacement_sections.pop(0)\n",
    "            \n",
    "            line = regex.findall(line)[0]\n",
    "            \n",
    "            email[section].append(line)\n",
    "            if line == '': # found empty header\n",
    "                displacement_sections.append(section)\n",
    "                capTolerance += 1 # if empty add 1 \n",
    "            prev_section = section\n",
    "            # if match, don't append to stack.\n",
    "            # have to use flag here, because there are multiple patterns testing\n",
    "            line_to_stack = False\n",
    "            break\n",
    "            \n",
    "    if line_to_stack and not insideAttachment:\n",
    "        stack.append(line)\n",
    "    # if block displacement is found, and there are non-header lines in the stack\n",
    "    if displacement_sections and stack:\n",
    "        popline = stack.pop(0)\n",
    "        if not popline == \"\":  # might be an empty line between the block of headers and block of fillers\n",
    "            section = displacement_sections.pop(0)\n",
    "            prev_section = section\n",
    "            email[section].append(popline)\n",
    "    \n",
    "\n",
    "# don't forget the last email\n",
    "completeEmail(email)"
   ]
  },
  {
   "cell_type": "code",
   "execution_count": null,
   "metadata": {},
   "outputs": [],
   "source": []
  },
  {
   "cell_type": "code",
   "execution_count": null,
   "metadata": {},
   "outputs": [],
   "source": []
  }
 ],
 "metadata": {
  "kernelspec": {
   "display_name": "Python 3",
   "language": "python",
   "name": "python3"
  },
  "language_info": {
   "codemirror_mode": {
    "name": "ipython",
    "version": 3
   },
   "file_extension": ".py",
   "mimetype": "text/x-python",
   "name": "python",
   "nbconvert_exporter": "python",
   "pygments_lexer": "ipython3",
   "version": "3.6.7"
  },
  "toc": {
   "base_numbering": 1,
   "nav_menu": {},
   "number_sections": true,
   "sideBar": true,
   "skip_h1_title": false,
   "title_cell": "Table of Contents",
   "title_sidebar": "Contents",
   "toc_cell": true,
   "toc_position": {
    "height": "calc(100% - 180px)",
    "left": "10px",
    "top": "150px",
    "width": "166px"
   },
   "toc_section_display": true,
   "toc_window_display": true
  },
  "widgets": {
   "application/vnd.jupyter.widget-state+json": {
    "state": {},
    "version_major": 2,
    "version_minor": 0
   }
  }
 },
 "nbformat": 4,
 "nbformat_minor": 4
}
