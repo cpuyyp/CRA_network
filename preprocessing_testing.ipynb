{
 "cells": [
  {
   "cell_type": "markdown",
   "metadata": {},
   "source": [
    "### Joey's version in root CRA folder"
   ]
  },
  {
   "cell_type": "markdown",
   "metadata": {
    "tags": [],
    "toc": true
   },
   "source": [
    "<h1>Table of Contents<span class=\"tocSkip\"></span></h1>\n",
    "<div class=\"toc\"><ul class=\"toc-item\"></ul></div>"
   ]
  },
  {
   "cell_type": "markdown",
   "metadata": {},
   "source": [
    "# Transform text files to emails\n",
    "* File names contain: \n",
    "    * an immutable email id\n",
    "    * the file name that contains the email\n",
    "    * the line number that locates the email"
   ]
  },
  {
   "cell_type": "code",
   "execution_count": 4,
   "metadata": {},
   "outputs": [],
   "source": [
    "import os\n",
    "import io\n",
    "import sys\n",
    "import re\n",
    "import csv\n",
    "import pandas as pd\n",
    "from tqdm import tqdm_notebook, tnrange\n",
    "from datetime import datetime\n",
    "from collections import defaultdict"
   ]
  },
  {
   "cell_type": "code",
   "execution_count": 5,
   "metadata": {},
   "outputs": [],
   "source": [
    "from dataclasses import dataclass, field "
   ]
  },
  {
   "cell_type": "code",
   "execution_count": 6,
   "metadata": {},
   "outputs": [],
   "source": [
    "def print_list(li):\n",
    "    for ele in li:\n",
    "        print(ele)\n",
    "def print_dict(dic):\n",
    "    for key,val in dic.items():\n",
    "        print(key, val)"
   ]
  },
  {
   "cell_type": "code",
   "execution_count": 7,
   "metadata": {},
   "outputs": [],
   "source": [
    "# must have one and only one pair of parenthese in regex\n",
    "headerReLib = {}\n",
    "\n",
    "headerReLib[re.compile(r'^From\\:\\s?(.*)')] = 'From'\n",
    "headerReLib[re.compile(r'^Sent\\:\\s?(.*)')] = 'Sent'\n",
    "headerReLib[re.compile(r'^Date\\:\\s?(.*)')] = 'Sent'\n",
    "headerReLib[re.compile(r'^To\\:\\s?(.*)')] = 'To'\n",
    "headerReLib[re.compile(r'^C[Cc]\\:\\s?(.*)')] = 'CC'\n",
    "headerReLib[re.compile(r'^B[Cc][Cc]\\:\\s?(.*)')] = 'BCC'\n",
    "headerReLib[re.compile(r'^Subject\\:\\s?(.*)')] = 'Subject' # possibly empty subject\n",
    "headerReLib[re.compile(r'^Attachments?\\:\\s?(.*)')] = 'Attachments' # search for Attachment/ARachment/AFachment\n",
    "# headerReLib[re.compile(r'^ARachments?\\:\\s?(.*)')] = 'Attachments' \n",
    "# headerReLib[re.compile(r'^AFachments?\\:\\s?(.*)')] = 'Attachments'  # need to correct spelling\n",
    "\n",
    "headerReLib[re.compile(r'Importance\\:\\s?(.*)')] = 'Importance'\n",
    "\n",
    "# headerReLib[re.compile(r'Read\\:\\s?(.*)')] = 'Read'"
   ]
  },
  {
   "cell_type": "code",
   "execution_count": 8,
   "metadata": {},
   "outputs": [
    {
     "data": {
      "text/plain": [
       "['hi']"
      ]
     },
     "execution_count": 8,
     "metadata": {},
     "output_type": "execute_result"
    }
   ],
   "source": [
    "p = re.compile(r'^Attachments?\\:\\s?(.*)')\n",
    "p.findall('Attachments: hi')"
   ]
  },
  {
   "cell_type": "code",
   "execution_count": 9,
   "metadata": {},
   "outputs": [],
   "source": [
    "cleanReLib = {}\n",
    "cleanReLib[re.compile(r'^Page\\s\\d+$')] = 'Page number'\n",
    "cleanReLib[re.compile(r'^Page\\s\\d+\\sof\\s\\d+$')] = 'Page number'\n",
    "cleanReLib[re.compile(r'^\\d{:3}\\-\\d{:3}$')] = 'Page number'\n"
   ]
  },
  {
   "cell_type": "code",
   "execution_count": 10,
   "metadata": {},
   "outputs": [],
   "source": [
    "def saveEmail(email):\n",
    "    # filecount and output path are global veriables\n",
    "    global email_count\n",
    "    global outputpath\n",
    "    global infile\n",
    "    global line_no\n",
    "    saving_order = ['From', 'Sent', 'To', 'CC', 'Bcc', 'Subject', 'Attachments', 'Importance', 'Body']\n",
    "#     print('before saving')\n",
    "#     print_dict(email)\n",
    "    with open(outputpath + '/'+str(email_count)+'-fn_'+infile.split('.')[0]+'-ln_'+str(line_no)+'.txt', 'w+', encoding = 'utf-8') as f_out:\n",
    "        for key in saving_order:\n",
    "            if key in email:\n",
    "                if key == 'Body':\n",
    "                    f_out.write(key+': '+' '.join(email[key]) + '\\n') # for body, join by space ' '\n",
    "                else:\n",
    "                    f_out.write(key+': '+''.join(email[key]) + '\\n')  # for body, join by ''\n",
    "    email_count += 1"
   ]
  },
  {
   "cell_type": "code",
   "execution_count": 11,
   "metadata": {},
   "outputs": [],
   "source": [
    "def validEmail(email, save = True, saveAny = False):\n",
    "    # if missing From or To, not a valid email. Read notice is skipped too.\n",
    "    valid = False\n",
    "    # GE: replace 'From' by 'From:' and 'To' by 'To:'? No since they are keys of email dict\n",
    "    # GE: How do you know the body is complete? When one of the headers appears in the body (according to Joey). \n",
    "    #     Where is this check executed?\n",
    "    if 'From' in email and 'To' in email and 'Read:' not in ''.join(email['Subject']):\n",
    "        valid = True\n",
    "    if saveAny or (save and valid):\n",
    "        saveEmail(email)\n",
    "    return valid"
   ]
  },
  {
   "cell_type": "code",
   "execution_count": 12,
   "metadata": {},
   "outputs": [],
   "source": [
    "# Why not add a \"Body:\" to the emails we create? \n",
    "def completeEmail(email):\n",
    "    global stack\n",
    "    global displacement_sections\n",
    "    global displacement\n",
    "    global prev_section  # GE, 2022-01-20\n",
    "    # if stack:\n",
    "    email['Body'] = email['Body'] + stack\n",
    "    stack = [] \n",
    "\n",
    "    validEmail(email, save = True)\n",
    "    \n",
    "    displacement_sections = []\n",
    "    prev_section = None  # GE: Correction. 2022-01-20\n",
    "    \n"
   ]
  },
  {
   "cell_type": "code",
   "execution_count": 13,
   "metadata": {},
   "outputs": [],
   "source": [
    "def isUselessLine(line):\n",
    "    for regex, cleaning_reason in cleanReLib.items(): \n",
    "        if regex.match(line):\n",
    "            return True\n",
    "    return False"
   ]
  },
  {
   "cell_type": "code",
   "execution_count": 14,
   "metadata": {},
   "outputs": [],
   "source": [
    "@dataclass\n",
    "class SavingArgs:\n",
    "    inputpath: str\n",
    "    infile: str\n",
    "    outputpath: str\n",
    "    email_count: int = 0\n",
    "    prev_section: str = ''\n",
    "        \n",
    "@dataclass\n",
    "class SplittingArgs:\n",
    "    stack: list = field(default_factory=list)\n",
    "    displacement_sections: list = field(default_factory=list)\n"
   ]
  },
  {
   "cell_type": "code",
   "execution_count": 15,
   "metadata": {},
   "outputs": [
    {
     "data": {
      "text/plain": [
       "SavingArgs(inputpath='./test_input/', infile='9-1-Adam-Corey-2012-1-0.txt', outputpath='./test_output/', email_count=0, prev_section='')"
      ]
     },
     "execution_count": 15,
     "metadata": {},
     "output_type": "execute_result"
    }
   ],
   "source": [
    "sv_arg = SavingArgs(inputpath = \"./test_input/\", \n",
    "                    infile = \"9-1-Adam-Corey-2012-1-0.txt\",\n",
    "                    outputpath = \"./test_output/\")\n",
    "sv_arg"
   ]
  },
  {
   "cell_type": "code",
   "execution_count": 16,
   "metadata": {},
   "outputs": [
    {
     "data": {
      "text/plain": [
       "SplittingArgs(stack=[], displacement_sections=[])"
      ]
     },
     "execution_count": 16,
     "metadata": {},
     "output_type": "execute_result"
    }
   ],
   "source": [
    "spt_arg = SplittingArgs()\n",
    "spt_arg"
   ]
  },
  {
   "cell_type": "code",
   "execution_count": 17,
   "metadata": {},
   "outputs": [],
   "source": [
    "# def process(sv_arg, spt_arg):\n",
    "#     f_in = open(inputpath + infile, encoding=\"utf8\")\n",
    "#     email = defaultdict(list)\n",
    "    "
   ]
  },
  {
   "cell_type": "code",
   "execution_count": 24,
   "metadata": {},
   "outputs": [
    {
     "name": "stdout",
     "output_type": "stream",
     "text": [
      "before findall, line:  From:  >>> 1\n",
      "after findall, line:   >>> 1\n",
      "before findall, line:  Sent: >>> 2\n",
      "after findall, line:  >>> 2\n",
      "before findall, line:  To:  >>> 3\n",
      "after findall, line:   >>> 3\n",
      "before findall, line:  Subject: >>> 4\n",
      "after findall, line:  >>> 4\n",
      "before findall, line:  To: gordon\n",
      "after findall, line:  gordon\n",
      "before findall, line:  From: Wanda\n",
      "after findall, line:  Wanda\n"
     ]
    }
   ],
   "source": [
    "# all global variables\n",
    "#inputpath = \"./test_input/\"\n",
    "inputpath = \"./read_original_text_files/email_txt/test_files/\"\n",
    "\n",
    "\n",
    "# infile = \"9-1-Adam-Corey-2012-1-0.txt\"\n",
    "infile = \"gordon1.txt\"\n",
    "\n",
    "# inputpath = './test/'\n",
    "# infile = 'test_emails.txt'\n",
    "f_in = open(inputpath + infile, encoding=\"utf8\")\n",
    "outputpath = \"./test_output/\"\n",
    "outputpath = \"./read_original_text_files/test_output/\"\n",
    "email_count = 0\n",
    "\n",
    "stack = []\n",
    "displacement_sections = []\n",
    "    \n",
    "empty_line_count = 0\n",
    "# All sections are better to be lists. This is designed for the block displacement issue\n",
    "email = defaultdict(list)\n",
    "prev_section = None\n",
    "prev_empty = False\n",
    "insideAttachment = False\n",
    "\n",
    "# Iterate through the whole file\n",
    "for line_no, line in enumerate(f_in.readlines()):\n",
    "    # GE: Should the > be stripped? We lose track of what was a thread. Perhaps thre should be a isThread flag?\n",
    "    if line.count(\">\") > line.count(\"<\"):     ### GE: DO NOT FOLLOW\n",
    "        email['isThread'] = True\n",
    "    line = line.strip(\"\\f\").strip(\">\").strip()\n",
    "\n",
    "    # Skip some useless rows, but not empty rows\n",
    "    if isUselessLine(line):\n",
    "#         print(\"This line seems useless\")\n",
    "#         print(line)\n",
    "        continue\n",
    "\n",
    "    # For the case that From/Subject is wrongly appended to the end\n",
    "    # If people use \"From/Subject:\" in the content, this creates an incorrect split \n",
    "    if \"From:\" in line:\n",
    "        spt = line.split(\"From:\")\n",
    "        if spt[0]:\n",
    "            stack.append(spt[0])\n",
    "            completeEmail(email)\n",
    "            email = defaultdict(list)\n",
    "            line = \"From:\" + spt[1]\n",
    "    elif \"Subject:\" in line:\n",
    "        spt = line.split(\"Subject:\")\n",
    "        if spt[0]:\n",
    "            stack.append(spt[0])\n",
    "            completeEmail(email)\n",
    "            email = defaultdict(list)\n",
    "            line = \"Subject:\" + spt[1]\n",
    "    # Scanned documents are found. And usually contains To: that could mess up the splitting.\n",
    "    # Scanned documents usually have a title line that all capital letters\n",
    "    # GE:   SHOULD BE \"elif\"?  <<<<<<<\n",
    "    ### Only capture attachments if they have a capitalized line 5 or more characters\n",
    "    # Will not capture emails written ALL-CAP. (do we want that?)\n",
    "    elif len(line) > 5 and all(word.isupper() for word in line.split()) and not '.' in line:\n",
    "        insideAttachment = True\n",
    "        completeEmail(email)\n",
    "        email = defaultdict(list)\n",
    "        # process the next line\n",
    "        continue\n",
    "    #     if line =='':\n",
    "    #         empty_line_count += 1\n",
    "    #     else:\n",
    "    #         empty_line_count = 0\n",
    "    #     if empty_line_count >= 2:\n",
    "    #         email = defaultdict(list)\n",
    "    # if no pattern match, put into stack\n",
    "    line_to_stack = True\n",
    "\n",
    "    # search if line match any pattern\n",
    "    for regex, section in headerReLib.items():\n",
    "        if regex.match(line):\n",
    "            insideAttachment = False\n",
    "            if section in email:  # repeat headers, indicating current email ends\n",
    "                completeEmail(email)\n",
    "                email = defaultdict(list)\n",
    "            elif stack:   # section not in email, but non-zero body\n",
    "                if prev_section == None:\n",
    "                    print(\"error!!!\")\n",
    "                email[prev_section] = email[prev_section] + stack\n",
    "                stack = []\n",
    "                if displacement_sections:\n",
    "                    displacement_sections.pop(0)\n",
    "        \n",
    "            line = regex.findall(line)[0]\n",
    "            \n",
    "            email[section].append(line)\n",
    "            if line == '': # found empty header\n",
    "                displacement_sections.append(section)\n",
    "                \n",
    "            prev_section = section\n",
    "            # if match, don't append to stack.\n",
    "            # have to use flag here, because there are multiple patterns testing\n",
    "            line_to_stack = False\n",
    "            break\n",
    "            \n",
    "    if line_to_stack and not insideAttachment:\n",
    "        stack.append(line)\n",
    "    # if block displacement is found, and there are non-header lines in the stack\n",
    "    if displacement_sections and stack:\n",
    "        popline = stack.pop(0)\n",
    "        if not popline == \"\":  # might be an empty line between the block of headers and block of fillers\n",
    "            section = displacement_sections.pop(0)\n",
    "            prev_section = section\n",
    "            email[section].append(popline)\n",
    "    \n",
    "\n",
    "# don't forget the last email\n",
    "completeEmail(email)"
   ]
  },
  {
   "cell_type": "code",
   "execution_count": null,
   "metadata": {},
   "outputs": [],
   "source": []
  },
  {
   "cell_type": "code",
   "execution_count": null,
   "metadata": {},
   "outputs": [],
   "source": []
  }
 ],
 "metadata": {
  "kernelspec": {
   "display_name": "Python 3",
   "language": "python",
   "name": "python3"
  },
  "language_info": {
   "codemirror_mode": {
    "name": "ipython",
    "version": 3
   },
   "file_extension": ".py",
   "mimetype": "text/x-python",
   "name": "python",
   "nbconvert_exporter": "python",
   "pygments_lexer": "ipython3",
   "version": "3.8.8"
  },
  "toc": {
   "base_numbering": 1,
   "nav_menu": {},
   "number_sections": true,
   "sideBar": true,
   "skip_h1_title": false,
   "title_cell": "Table of Contents",
   "title_sidebar": "Contents",
   "toc_cell": true,
   "toc_position": {
    "height": "calc(100% - 180px)",
    "left": "10px",
    "top": "150px",
    "width": "166px"
   },
   "toc_section_display": true,
   "toc_window_display": true
  },
  "widgets": {
   "application/vnd.jupyter.widget-state+json": {
    "state": {},
    "version_major": 2,
    "version_minor": 0
   }
  }
 },
 "nbformat": 4,
 "nbformat_minor": 4
}
