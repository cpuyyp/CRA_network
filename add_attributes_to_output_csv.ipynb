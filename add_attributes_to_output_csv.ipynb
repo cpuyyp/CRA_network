{
 "cells": [
  {
   "cell_type": "code",
   "execution_count": 1,
   "id": "3be9b330-f2d8-4735-842b-459cae843a3b",
   "metadata": {},
   "outputs": [],
   "source": [
    "import pandas as pd\n",
    "import nltk\n",
    "import spacy\n",
    "import re\n",
    "import seaborn as sns\n",
    "import matplotlib.pyplot as plt\n",
    "import exit"
   ]
  },
  {
   "cell_type": "code",
   "execution_count": 2,
   "id": "cb192510-761b-4cd9-858b-1141fcdc1694",
   "metadata": {},
   "outputs": [],
   "source": [
    "inpath = \"output_0211_name_standardized.csv\"\n",
    "inpath = \"output_2022-03-12_name_standardized.csv\"\n",
    "inpath = \"output_2022-03-12.csv\"\n",
    "\n",
    "df = pd.read_csv(inpath) #.iloc[0:50]"
   ]
  },
  {
   "cell_type": "markdown",
   "id": "b60fc6c6-b27d-4f1b-aeef-94912cbe009d",
   "metadata": {},
   "source": [
    "Calculate number of characters and number of words in the body.\n",
    "Note that there are spelling errors, and words separated by blank spaces that should not be there.\n",
    "Threads have been removed, but not attachments, although emails with attachments are flagged. Therefore, we could also \n",
    "compute statistics just for the emails without attachments, to get more realistic stats. "
   ]
  },
  {
   "cell_type": "code",
   "execution_count": 3,
   "id": "34ebff53-8a91-4d20-85b3-eaca7017613b",
   "metadata": {},
   "outputs": [
    {
     "data": {
      "text/plain": [
       "\"['Response.pdf', 'Brooks, attached is our response to RFIs 008, 042, 043, and 044.', 'Shane A. Moniz, AIA', 'Architect', 'Conn & Associates, Inc., Architects', '1960-C Buford Boulevard', 'Tallahassee, Florida 32308', 'p 850-878-8784', 'm 850-445-4056', 'smoniz@connandassociates.com', 'NUMBER:', 'REQUEST FOR INFORMATION 003', 'Date: March 2, 2015 PROJECT The Edison Restaurant Cascades Park', 'REFERENCE Project 0500', 'To: Shane Moniz']\""
      ]
     },
     "execution_count": 3,
     "metadata": {},
     "output_type": "execute_result"
    }
   ],
   "source": [
    "bodies = df.Body\n",
    "bodies[0]"
   ]
  },
  {
   "cell_type": "code",
   "execution_count": 4,
   "id": "37b2da39-dc24-4a3a-8329-61057d25f756",
   "metadata": {},
   "outputs": [
    {
     "data": {
      "text/plain": [
       "71143"
      ]
     },
     "execution_count": 4,
     "metadata": {},
     "output_type": "execute_result"
    }
   ],
   "source": [
    "df.shape[0]"
   ]
  },
  {
   "cell_type": "code",
   "execution_count": 5,
   "id": "c7dba49f-aafb-44a6-a97b-ea69095df965",
   "metadata": {},
   "outputs": [
    {
     "ename": "TypeError",
     "evalue": "'module' object is not callable",
     "output_type": "error",
     "traceback": [
      "\u001b[0;31m---------------------------------------------------------------------------\u001b[0m",
      "\u001b[0;31mTypeError\u001b[0m                                 Traceback (most recent call last)",
      "\u001b[0;32m<ipython-input-5-e828459ebe2b>\u001b[0m in \u001b[0;36m<module>\u001b[0;34m\u001b[0m\n\u001b[0;32m----> 1\u001b[0;31m \u001b[0mexit\u001b[0m\u001b[0;34m(\u001b[0m\u001b[0;34m)\u001b[0m\u001b[0;34m\u001b[0m\u001b[0;34m\u001b[0m\u001b[0m\n\u001b[0m",
      "\u001b[0;31mTypeError\u001b[0m: 'module' object is not callable"
     ]
    }
   ],
   "source": [
    "exit()"
   ]
  },
  {
   "cell_type": "code",
   "execution_count": null,
   "id": "fa704e7b-5f8e-4b9f-949f-d582d4c57ce6",
   "metadata": {},
   "outputs": [],
   "source": [
    "list(bodies)[0]"
   ]
  },
  {
   "cell_type": "code",
   "execution_count": null,
   "id": "317bd95d-8828-4fd3-af0c-c3fd36e8d9dd",
   "metadata": {},
   "outputs": [],
   "source": [
    "eval(bodies[0])"
   ]
  },
  {
   "cell_type": "code",
   "execution_count": null,
   "id": "8f30516e-61e6-4444-8121-8c6667507c0e",
   "metadata": {
    "tags": []
   },
   "outputs": [],
   "source": [
    "nb_words = []\n",
    "nb_chars = []\n",
    "body_len = []\n",
    "body_list = []\n",
    "\n",
    "# print(\"bodies columns: \", bodies.columns)\n",
    "for i, row in enumerate(bodies):\n",
    "    body = eval(row)\n",
    "    body = \" \".join(body)\n",
    "    words = body.split(\" \")\n",
    "    text = \"\".join(words)\n",
    "    if i < 3: \n",
    "        #print(\"-> row: \", row)\n",
    "        # print(\"-> body: \", body)\n",
    "        print(\"-> row.Body: \", df.iloc[i].Body)\n",
    "        print(\"-> type(body): \", type(body))\n",
    "    body_list.append(body)\n",
    "    # print(\"len(body_list): \", len(body), len(body_list))\n",
    "    body_len.append(len(body))\n",
    "    nb_words.append(len(words))\n",
    "    nb_chars.append(len(text))\n",
    "len(body_list), len(body_len), len(nb_words), len(nb_chars)"
   ]
  },
  {
   "cell_type": "code",
   "execution_count": null,
   "id": "ca38de51-f6ae-4827-ac06-4113291bd8eb",
   "metadata": {},
   "outputs": [],
   "source": [
    "body[0]"
   ]
  },
  {
   "cell_type": "code",
   "execution_count": null,
   "id": "7ef9e330-c30a-41a4-95cd-73e1835aed78",
   "metadata": {},
   "outputs": [],
   "source": [
    "body_list[0]"
   ]
  },
  {
   "cell_type": "code",
   "execution_count": null,
   "id": "da56518f-0296-4879-b871-74ac974c06d0",
   "metadata": {},
   "outputs": [],
   "source": [
    "df1 = df.copy()\n",
    "df1['nb_words'] = nb_words\n",
    "df1['nb_chars'] = nb_chars\n",
    "df1['body_len'] = body_len\n",
    "df1['body'] = body_list  # leaving original Body column"
   ]
  },
  {
   "cell_type": "code",
   "execution_count": null,
   "id": "e8a7ff34-010f-4f6d-ba44-6c2bccf1ae70",
   "metadata": {},
   "outputs": [],
   "source": [
    "df1[[\"body\", \"Body\", \"body_len\"]]"
   ]
  },
  {
   "cell_type": "code",
   "execution_count": null,
   "id": "421446d8-9930-43b1-ac6d-576bb55f147b",
   "metadata": {},
   "outputs": [],
   "source": [
    "df1.to_csv(\"output_with_attributes.csv\", index=0)"
   ]
  },
  {
   "cell_type": "code",
   "execution_count": null,
   "id": "e9cc15cb-f215-47e2-ad85-4c64cb087a82",
   "metadata": {},
   "outputs": [],
   "source": [
    "df2 = pd.read_csv(\"output_with_attributes.csv\")"
   ]
  },
  {
   "cell_type": "code",
   "execution_count": null,
   "id": "1f920902-8ffe-442d-b2fe-6df2e303e5aa",
   "metadata": {},
   "outputs": [],
   "source": [
    "df2 = df2.fillna('')\n",
    "df2.isnull()\n",
    "df2.Importance.iloc[0]"
   ]
  },
  {
   "cell_type": "markdown",
   "id": "ee52ec42-4e9e-4f78-8127-99b6080037db",
   "metadata": {},
   "source": [
    "# Remove email duplicates\n",
    "* Duplications have same From:, Send:, number of chars, number of words"
   ]
  },
  {
   "cell_type": "code",
   "execution_count": null,
   "id": "a64a8727-aab2-46e9-b5a2-a952e03e0835",
   "metadata": {
    "tags": []
   },
   "outputs": [],
   "source": [
    "# All mails with from with a large length have isDisplacement = True\n",
    "long_count = 0\n",
    "error_list = []\n",
    "\n",
    "for item, row in df2.iterrows():\n",
    "    error_list.append(\"None\")\n",
    "    # r = eval(row.From)  # Eval no longer required\n",
    "    r = row.From   #  MUST FIX THIS. NOT WORKING\n",
    "    disp = row.isDisplacement\n",
    "    lg = len(r[0]) + len(r[1]) + len(r[2])\n",
    "    if lg > 200:\n",
    "        print(row.filenm, lg, disp)\n",
    "        error_list[-1] = \"From\"\n",
    "        long_count += 1\n",
    "        \n",
    "print(\"long_count: \", long_count)\n",
    "df2['Error_from'] = error_list"
   ]
  },
  {
   "cell_type": "code",
   "execution_count": null,
   "id": "0a95d77a-1cb3-423b-b5e7-22dcff07fcb8",
   "metadata": {},
   "outputs": [],
   "source": [
    "error_sent = [] \n",
    "long_count = 0\n",
    "for item, row in df2.iterrows():\n",
    "    error_sent.append(\"None\")\n",
    "    r = row.Sent\n",
    "    if len(r) > 200:\n",
    "        error_sent[-1] = True\n",
    "        long_count += 1\n",
    "        \n",
    "df2[\"Error_sent\"] = error_sent"
   ]
  },
  {
   "cell_type": "code",
   "execution_count": null,
   "id": "7d0e90ba-7dd3-4664-a1f0-5f1f5fdf4306",
   "metadata": {},
   "outputs": [],
   "source": [
    "dfg = df2.groupby([\"From\", \"To\", \"Sent\", \"body\", \"body_len\", \"nb_words\"]).size().to_frame()\n",
    "#dfg = df2.groupby([\"From\"]).size()\n",
    "print(type(dfg), dfg.shape)"
   ]
  },
  {
   "cell_type": "code",
   "execution_count": null,
   "id": "1518858d-fff1-462c-a217-9db40185b81f",
   "metadata": {},
   "outputs": [],
   "source": [
    "df3 = df2.drop_duplicates([\"From\", \"To\", \"Sent\", \"body\"], keep='first')\n",
    "df3.shape"
   ]
  },
  {
   "cell_type": "code",
   "execution_count": null,
   "id": "31d5fd22-5344-478a-b966-ee6d2a327197",
   "metadata": {},
   "outputs": [],
   "source": [
    "df3.to_csv(\"output_with_attributes_no_duplicates.csv\", index=0)"
   ]
  },
  {
   "cell_type": "code",
   "execution_count": null,
   "id": "fd06e65d-dfeb-432e-aa16-6f34f5aa5ab7",
   "metadata": {},
   "outputs": [],
   "source": [
    "df3 = pd.read_csv(\"output_with_attributes_no_duplicates.csv\")\n",
    "df3 = df3.fillna('')  # replace NaN by ''"
   ]
  },
  {
   "cell_type": "code",
   "execution_count": null,
   "id": "40625289-8e1a-4268-8aae-864b9007b50e",
   "metadata": {},
   "outputs": [],
   "source": [
    "df3.shape, df1.shape"
   ]
  },
  {
   "cell_type": "code",
   "execution_count": null,
   "id": "003a76cb-bdf4-459d-a22e-0ea800ca42f7",
   "metadata": {},
   "outputs": [],
   "source": [
    "df3[df3.Sent.map(len) > 100].Sent.map(len)"
   ]
  },
  {
   "cell_type": "code",
   "execution_count": null,
   "id": "ebedc389-a080-49a1-8f26-c28bb0a61afc",
   "metadata": {},
   "outputs": [],
   "source": [
    "df3.columns"
   ]
  },
  {
   "cell_type": "code",
   "execution_count": null,
   "id": "e9ff379d-4642-431f-8580-16359c3c1a29",
   "metadata": {},
   "outputs": [],
   "source": [
    "df3.Importance.head(50)"
   ]
  },
  {
   "cell_type": "code",
   "execution_count": null,
   "id": "44fe9fcf-5ae0-4c69-b211-f36553c0a13c",
   "metadata": {},
   "outputs": [],
   "source": [
    "df3[df3.Sent.map(len) > 100].isDisplacement"
   ]
  },
  {
   "cell_type": "code",
   "execution_count": null,
   "id": "60950170-1840-4b84-9630-50203a3446c5",
   "metadata": {},
   "outputs": [],
   "source": [
    "# Now group emails by sender and calculate statistics\n",
    "df3g = df3.groupby('From')"
   ]
  },
  {
   "cell_type": "code",
   "execution_count": null,
   "id": "72bee63e-2d20-4d8b-b686-4c2dcf6daa78",
   "metadata": {},
   "outputs": [],
   "source": [
    "df3.nb_chars.dtype"
   ]
  },
  {
   "cell_type": "code",
   "execution_count": null,
   "id": "1c08dda0-4f16-44b9-83ac-6582aa745620",
   "metadata": {},
   "outputs": [],
   "source": [
    "dd = df3g['nb_words'].size()\n",
    "dd"
   ]
  },
  {
   "cell_type": "code",
   "execution_count": null,
   "id": "dfacf849-1ab9-42b4-8002-03e68544f0de",
   "metadata": {},
   "outputs": [],
   "source": [
    "df3['mn_nb_words'] = df3g['nb_words'].transform('mean')\n",
    "df3['std_nb_words'] = df3g['nb_words'].transform('std')\n",
    "df3['mn_nb_chars'] = df3g['nb_chars'].transform('mean')\n",
    "df3['std_nb_chars'] = df3g['nb_chars'].transform('std')\n",
    "df3['email_count'] = df3g['nb_words'].transform('size')\n",
    "df3.columns"
   ]
  },
  {
   "cell_type": "code",
   "execution_count": null,
   "id": "6938dd50-bc5f-4fdb-9aac-e635cc226579",
   "metadata": {},
   "outputs": [],
   "source": [
    "# Confirm that the 'count' columns is the number of emails per sender\n",
    "df3.groupby('From')['mn_nb_words'].size().values.sum(), df3.shape"
   ]
  },
  {
   "cell_type": "code",
   "execution_count": null,
   "id": "2fbbe2a9-66ac-4215-acb5-47a3b3f1d473",
   "metadata": {
    "tags": []
   },
   "outputs": [],
   "source": [
    "df3[['body_len','nb_chars','nb_words','mn_nb_words','std_nb_words','mn_nb_chars','std_nb_chars','email_count']]"
   ]
  },
  {
   "cell_type": "code",
   "execution_count": null,
   "id": "2eb0c785-7e16-40cc-b3ff-dc6b30b79e1c",
   "metadata": {},
   "outputs": [],
   "source": [
    "df3.to_csv(\"output_with_stats_columns.csv\", index=0)"
   ]
  },
  {
   "cell_type": "code",
   "execution_count": null,
   "id": "a81e961e-00d4-45bb-a62a-5798610a071a",
   "metadata": {},
   "outputs": [],
   "source": [
    "df3.describe().T"
   ]
  },
  {
   "cell_type": "code",
   "execution_count": null,
   "id": "81e9f6d4-9592-4509-96d9-955e0f3e49d0",
   "metadata": {},
   "outputs": [],
   "source": [
    "df3.describe().T"
   ]
  },
  {
   "cell_type": "markdown",
   "id": "1e1575d6-68d6-49a6-af39-2d55bd0c7217",
   "metadata": {},
   "source": [
    "---\n",
    "# Some plots with Seaborn"
   ]
  },
  {
   "cell_type": "code",
   "execution_count": null,
   "id": "bdcc78a9-9b23-46c4-bd52-c08b8013c91e",
   "metadata": {},
   "outputs": [],
   "source": [
    "\n",
    "sns.histplot(x=\"std_nb_words\",  data=df3)"
   ]
  },
  {
   "cell_type": "code",
   "execution_count": null,
   "id": "aa140426-0ba0-45c8-a771-0b13da831912",
   "metadata": {},
   "outputs": [],
   "source": [
    "dfgrps = df2.groupby([\"From\", \"body_len\"]).groups\n",
    "keys = list(dfgrps.keys())\n",
    "k = keys[0]\n",
    "k[1]\n",
    "keys_1 = [k for k in keys if k[1] == 1]"
   ]
  },
  {
   "cell_type": "code",
   "execution_count": null,
   "id": "6d4b6801-9c64-42c7-bf0d-4f2444043d46",
   "metadata": {},
   "outputs": [],
   "source": [
    "keys_1"
   ]
  },
  {
   "cell_type": "code",
   "execution_count": null,
   "id": "6b3b58e9-9bb1-498c-ba07-13542296ae57",
   "metadata": {},
   "outputs": [],
   "source": [
    "dfg = df2.groupby([\"From\", \"body_len\"])"
   ]
  },
  {
   "cell_type": "code",
   "execution_count": null,
   "id": "db06190a-8374-4073-a277-ecdc46f3d0a9",
   "metadata": {},
   "outputs": [],
   "source": [
    "for k in keys_1:\n",
    "   print(\"==> \", dfg.get_group(k).body)"
   ]
  },
  {
   "cell_type": "code",
   "execution_count": null,
   "id": "e6eea112-cbc8-40f9-b53f-231f58e14c62",
   "metadata": {},
   "outputs": [],
   "source": [
    "df.From.to_csv(\"from.csv\", index=0)"
   ]
  },
  {
   "cell_type": "code",
   "execution_count": null,
   "id": "c7a3bcfe-9af3-4bcb-80d5-a5724b417d4b",
   "metadata": {},
   "outputs": [],
   "source": [
    "body_list = eval(bodies[0])"
   ]
  },
  {
   "cell_type": "code",
   "execution_count": null,
   "id": "ab762b3a-d66c-4593-b589-330036fe6393",
   "metadata": {},
   "outputs": [],
   "source": [
    "type(bodies[0])"
   ]
  },
  {
   "cell_type": "markdown",
   "id": "b1410637-5707-42f4-896e-54c6fd352dfd",
   "metadata": {},
   "source": [
    "---"
   ]
  },
  {
   "cell_type": "code",
   "execution_count": null,
   "id": "5ca30f4b-c468-4c1a-b126-c0d2519dad20",
   "metadata": {},
   "outputs": [],
   "source": [
    "# Number of words. All words that don't relate to the email itself should be removed.\n",
    "# We'll do that at a later stsage. \n"
   ]
  },
  {
   "cell_type": "code",
   "execution_count": null,
   "id": "fe38e473-a4b5-4dcf-98ba-9b4809e67ae6",
   "metadata": {},
   "outputs": [],
   "source": [
    "nlp = spacy.load('en_core_web_sm')"
   ]
  },
  {
   "cell_type": "code",
   "execution_count": null,
   "id": "1c1c80f9-cc99-4e8d-9175-4af7330ec83b",
   "metadata": {},
   "outputs": [],
   "source": [
    "words = [len([i for i in nlp(re.sub('</b>|<b>', '', i2)) if not (i.is_space or i.is_punct)]) for i2 in body]"
   ]
  },
  {
   "cell_type": "code",
   "execution_count": null,
   "id": "67e9d2b2-018b-4c12-a373-93b195090560",
   "metadata": {},
   "outputs": [],
   "source": [
    "words = nlp(body)\n",
    "body"
   ]
  },
  {
   "cell_type": "code",
   "execution_count": null,
   "id": "0b1ec372-6b13-4ba3-a9ee-a61e6b3c6ab7",
   "metadata": {},
   "outputs": [],
   "source": [
    "nb_words = len(words)\n",
    "nb_chars = len(body)\n",
    "nb_words, nb_chars"
   ]
  },
  {
   "cell_type": "markdown",
   "id": "335a7c61-5bf8-4167-8756-db2e6fcbfe16",
   "metadata": {},
   "source": [
    "We must remove punctuation, and special characters. Lookint at the list below, perhaps remove phone numbers, any numbers, hyphens? \n",
    "I can also create my own parser? \n",
    "Read about [Spacy](https://spacy.io/usage/spacy-101#features)."
   ]
  },
  {
   "cell_type": "code",
   "execution_count": null,
   "id": "16f61303-e784-4713-9e99-cb2a13fffe76",
   "metadata": {},
   "outputs": [],
   "source": [
    "words"
   ]
  },
  {
   "cell_type": "code",
   "execution_count": null,
   "id": "dc0297b1-9471-42d6-9223-25eb5221218d",
   "metadata": {},
   "outputs": [],
   "source": [
    "for w in words:\n",
    "    print(w)"
   ]
  },
  {
   "cell_type": "code",
   "execution_count": null,
   "id": "75461931-8be3-401f-a379-0dc05d52209c",
   "metadata": {},
   "outputs": [],
   "source": [
    "for ent in words.ents:\n",
    "    print(ent, \",,\", ent.text, ent.start_char, ent.end_char, ent.label_)"
   ]
  },
  {
   "cell_type": "code",
   "execution_count": null,
   "id": "cdfc1e34-5edb-45b6-beef-be1aa1123070",
   "metadata": {},
   "outputs": [],
   "source": []
  }
 ],
 "metadata": {
  "kernelspec": {
   "display_name": "Python 3",
   "language": "python",
   "name": "python3"
  },
  "language_info": {
   "codemirror_mode": {
    "name": "ipython",
    "version": 3
   },
   "file_extension": ".py",
   "mimetype": "text/x-python",
   "name": "python",
   "nbconvert_exporter": "python",
   "pygments_lexer": "ipython3",
   "version": "3.8.8"
  },
  "widgets": {
   "application/vnd.jupyter.widget-state+json": {
    "state": {},
    "version_major": 2,
    "version_minor": 0
   }
  }
 },
 "nbformat": 4,
 "nbformat_minor": 5
}
