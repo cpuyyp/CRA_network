{
 "cells": [
  {
   "cell_type": "code",
   "execution_count": 252,
   "id": "3be9b330-f2d8-4735-842b-459cae843a3b",
   "metadata": {},
   "outputs": [],
   "source": [
    "import pandas as pd\n",
    "import nltk\n",
    "import spacy\n",
    "import re\n",
    "import seaborn as sns\n",
    "import matplotlib.pyplot as plt"
   ]
  },
  {
   "cell_type": "code",
   "execution_count": 100,
   "id": "cb192510-761b-4cd9-858b-1141fcdc1694",
   "metadata": {},
   "outputs": [],
   "source": [
    "inpath = \"output_0211_name_standardized.csv\"\n",
    "df = pd.read_csv(inpath) #.iloc[0:50]"
   ]
  },
  {
   "cell_type": "markdown",
   "id": "b60fc6c6-b27d-4f1b-aeef-94912cbe009d",
   "metadata": {},
   "source": [
    "Calculate number of characters and number of words in the body.\n",
    "Note that there are spelling errors, and words separated by blank spaces that should not be there.\n",
    "Threads have been removed, but not attachments, although emails with attachments are flagged. Therefore, we could also \n",
    "compute statistics just for the emails without attachments, to get more realistic stats. "
   ]
  },
  {
   "cell_type": "code",
   "execution_count": 101,
   "id": "34ebff53-8a91-4d20-85b3-eaca7017613b",
   "metadata": {},
   "outputs": [
    {
     "data": {
      "text/plain": [
       "\"['Response.pdf', 'Brooks, attached is our response to RFIs 008, 042, 043, and 044.', 'Shane A. Moniz, AIA', 'Architect', 'Conn & Associates, Inc., Architects', '1960-C Buford Boulevard', 'Tallahassee, Florida 32308', 'p 850-878-8784', 'm 850-445-4056', 'smoniz@connandassociates.com', 'NUMBER:', 'REQUEST FOR INFORMATION 003', 'Date: March 2, 2015 PROJECT The Edison Restaurant Cascades Park', 'REFERENCE Project 0500', 'To: Shane Moniz']\""
      ]
     },
     "execution_count": 101,
     "metadata": {},
     "output_type": "execute_result"
    }
   ],
   "source": [
    "bodies = df.Body\n",
    "bodies[0]"
   ]
  },
  {
   "cell_type": "code",
   "execution_count": 102,
   "id": "37b2da39-dc24-4a3a-8329-61057d25f756",
   "metadata": {},
   "outputs": [
    {
     "data": {
      "text/plain": [
       "71143"
      ]
     },
     "execution_count": 102,
     "metadata": {},
     "output_type": "execute_result"
    }
   ],
   "source": [
    "df.shape[0]"
   ]
  },
  {
   "cell_type": "code",
   "execution_count": 103,
   "id": "fa704e7b-5f8e-4b9f-949f-d582d4c57ce6",
   "metadata": {},
   "outputs": [
    {
     "data": {
      "text/plain": [
       "\"['Response.pdf', 'Brooks, attached is our response to RFIs 008, 042, 043, and 044.', 'Shane A. Moniz, AIA', 'Architect', 'Conn & Associates, Inc., Architects', '1960-C Buford Boulevard', 'Tallahassee, Florida 32308', 'p 850-878-8784', 'm 850-445-4056', 'smoniz@connandassociates.com', 'NUMBER:', 'REQUEST FOR INFORMATION 003', 'Date: March 2, 2015 PROJECT The Edison Restaurant Cascades Park', 'REFERENCE Project 0500', 'To: Shane Moniz']\""
      ]
     },
     "execution_count": 103,
     "metadata": {},
     "output_type": "execute_result"
    }
   ],
   "source": [
    "list(bodies)[0]"
   ]
  },
  {
   "cell_type": "code",
   "execution_count": 104,
   "id": "317bd95d-8828-4fd3-af0c-c3fd36e8d9dd",
   "metadata": {},
   "outputs": [
    {
     "data": {
      "text/plain": [
       "['Response.pdf',\n",
       " 'Brooks, attached is our response to RFIs 008, 042, 043, and 044.',\n",
       " 'Shane A. Moniz, AIA',\n",
       " 'Architect',\n",
       " 'Conn & Associates, Inc., Architects',\n",
       " '1960-C Buford Boulevard',\n",
       " 'Tallahassee, Florida 32308',\n",
       " 'p 850-878-8784',\n",
       " 'm 850-445-4056',\n",
       " 'smoniz@connandassociates.com',\n",
       " 'NUMBER:',\n",
       " 'REQUEST FOR INFORMATION 003',\n",
       " 'Date: March 2, 2015 PROJECT The Edison Restaurant Cascades Park',\n",
       " 'REFERENCE Project 0500',\n",
       " 'To: Shane Moniz']"
      ]
     },
     "execution_count": 104,
     "metadata": {},
     "output_type": "execute_result"
    }
   ],
   "source": [
    "eval(bodies[0])"
   ]
  },
  {
   "cell_type": "code",
   "execution_count": 105,
   "id": "8f30516e-61e6-4444-8121-8c6667507c0e",
   "metadata": {
    "tags": []
   },
   "outputs": [
    {
     "name": "stdout",
     "output_type": "stream",
     "text": [
      "-> row.Body:  ['Response.pdf', 'Brooks, attached is our response to RFIs 008, 042, 043, and 044.', 'Shane A. Moniz, AIA', 'Architect', 'Conn & Associates, Inc., Architects', '1960-C Buford Boulevard', 'Tallahassee, Florida 32308', 'p 850-878-8784', 'm 850-445-4056', 'smoniz@connandassociates.com', 'NUMBER:', 'REQUEST FOR INFORMATION 003', 'Date: March 2, 2015 PROJECT The Edison Restaurant Cascades Park', 'REFERENCE Project 0500', 'To: Shane Moniz']\n",
      "-> type(body):  <class 'str'>\n",
      "-> row.Body:  ['Good by me!']\n",
      "-> type(body):  <class 'str'>\n",
      "-> row.Body:  ['Kim,', 'See comments in blue regarding the proposed upcoming schedule. Ive copied in the City to see if Ive', 'missed anything.', 'June 6  Summary report of Public Forum Input; Existing Conditions Report Card presentation', ' June 10-11  Visioning Forums', ' June 28  deadline for online input and MIAB', ' Week of July 8th  Presentation of Synthesis (Community Aspirations and Issues) and draft Vision', 'Statement, Final Existing Conditions Report Card? (Note  John Fernsler not available for City / County', 'Commission presentations July 9th/10th). The County also has an all day budget workshop on Monday,', 'July 8th that is scheduled to end at 5pm. If WRT is planning a Steering Committee meeting in the', 'evening at Hotel Duval, we should be ok.', ' Week of August 12th  Final Vision Statement (VPSC endorsement), discussion of Strategic', 'Directions. Nothing on the books for the City or County that week but a Monday meeting would', 'immediately follow the Chamber Retreat. Just need to know what type of meeting this will be so we', 'can determine logistics.', ' August 26-27  tentative dates for the Vision Statement/Strategic Direction Validation Open', 'Houses. County and City Commission meetings on the 27th and 28th.', ' September 13  deadline for online input and MIAB', ' Week of September 23  Discussion of Open House feedback, draft Vision Plan presentation. County', 'and City Commission meetings on the 24th and 25th.', ' October 8-9  Presentation to County and City Commissions. County and City Commission meetings', 'on the 8th and 9th. Should we try to hold an IA meeting on the 7th so there is one presentation to City', 'and County Commissioners?', ' Week of October 21 - Preliminary Identification of Economic Development Initiatives. CRA and CRTPA', 'meetings during the day on Monday, October 21st. County and City Commission meetings on the 22nd', 'and 23rd.', ' Week of November 11  Prioritization. November 11th is the Veterans Day Holiday. County', 'Commissioners and the Administrator will be leaving town on the 12th for a conference. City', 'Commission meets on the 13th. November is filling up quick but the week of the 4th might be our best', 'bet.', ' Week of December 9  Public Presentation(s)? The County Commission has an all day retreat on', 'Monday, December 9th, followed by a Commission meeting on the 10th. There is a CRA meeting and', 'City Commission meeting on the 11th.']\n",
      "-> type(body):  <class 'str'>\n"
     ]
    },
    {
     "data": {
      "text/plain": [
       "(71143, 71143, 71143, 71143)"
      ]
     },
     "execution_count": 105,
     "metadata": {},
     "output_type": "execute_result"
    }
   ],
   "source": [
    "nb_words = []\n",
    "nb_chars = []\n",
    "body_len = []\n",
    "body_list = []\n",
    "\n",
    "# print(\"bodies columns: \", bodies.columns)\n",
    "for i, row in enumerate(bodies):\n",
    "    body = eval(row)\n",
    "    body = \" \".join(body)\n",
    "    words = body.split(\" \")\n",
    "    text = \"\".join(words)\n",
    "    if i < 3: \n",
    "        #print(\"-> row: \", row)\n",
    "        # print(\"-> body: \", body)\n",
    "        print(\"-> row.Body: \", df.iloc[i].Body)\n",
    "        print(\"-> type(body): \", type(body))\n",
    "    body_list.append(body)\n",
    "    # print(\"len(body_list): \", len(body), len(body_list))\n",
    "    body_len.append(len(body))\n",
    "    nb_words.append(len(words))\n",
    "    nb_chars.append(len(text))\n",
    "len(body_list), len(body_len), len(nb_words), len(nb_chars)"
   ]
  },
  {
   "cell_type": "code",
   "execution_count": 106,
   "id": "ca38de51-f6ae-4827-ac06-4113291bd8eb",
   "metadata": {},
   "outputs": [
    {
     "data": {
      "text/plain": [
       "'C'"
      ]
     },
     "execution_count": 106,
     "metadata": {},
     "output_type": "execute_result"
    }
   ],
   "source": [
    "body[0]"
   ]
  },
  {
   "cell_type": "code",
   "execution_count": 107,
   "id": "7ef9e330-c30a-41a4-95cd-73e1835aed78",
   "metadata": {},
   "outputs": [
    {
     "data": {
      "text/plain": [
       "'Response.pdf Brooks, attached is our response to RFIs 008, 042, 043, and 044. Shane A. Moniz, AIA Architect Conn & Associates, Inc., Architects 1960-C Buford Boulevard Tallahassee, Florida 32308 p 850-878-8784 m 850-445-4056 smoniz@connandassociates.com NUMBER: REQUEST FOR INFORMATION 003 Date: March 2, 2015 PROJECT The Edison Restaurant Cascades Park REFERENCE Project 0500 To: Shane Moniz'"
      ]
     },
     "execution_count": 107,
     "metadata": {},
     "output_type": "execute_result"
    }
   ],
   "source": [
    "body_list[0]"
   ]
  },
  {
   "cell_type": "code",
   "execution_count": 108,
   "id": "da56518f-0296-4879-b871-74ac974c06d0",
   "metadata": {},
   "outputs": [],
   "source": [
    "df1 = df.copy()\n",
    "df1['nb_words'] = nb_words\n",
    "df1['nb_chars'] = nb_chars\n",
    "df1['body_len'] = body_len\n",
    "df1['body'] = body_list  # leaving original Body column"
   ]
  },
  {
   "cell_type": "code",
   "execution_count": 109,
   "id": "e8a7ff34-010f-4f6d-ba44-6c2bccf1ae70",
   "metadata": {},
   "outputs": [
    {
     "data": {
      "text/html": [
       "<div>\n",
       "<style scoped>\n",
       "    .dataframe tbody tr th:only-of-type {\n",
       "        vertical-align: middle;\n",
       "    }\n",
       "\n",
       "    .dataframe tbody tr th {\n",
       "        vertical-align: top;\n",
       "    }\n",
       "\n",
       "    .dataframe thead th {\n",
       "        text-align: right;\n",
       "    }\n",
       "</style>\n",
       "<table border=\"1\" class=\"dataframe\">\n",
       "  <thead>\n",
       "    <tr style=\"text-align: right;\">\n",
       "      <th></th>\n",
       "      <th>body</th>\n",
       "      <th>Body</th>\n",
       "      <th>body_len</th>\n",
       "    </tr>\n",
       "  </thead>\n",
       "  <tbody>\n",
       "    <tr>\n",
       "      <th>0</th>\n",
       "      <td>Response.pdf Brooks, attached is our response ...</td>\n",
       "      <td>['Response.pdf', 'Brooks, attached is our resp...</td>\n",
       "      <td>392</td>\n",
       "    </tr>\n",
       "    <tr>\n",
       "      <th>1</th>\n",
       "      <td>Good by me!</td>\n",
       "      <td>['Good by me!']</td>\n",
       "      <td>11</td>\n",
       "    </tr>\n",
       "    <tr>\n",
       "      <th>2</th>\n",
       "      <td>Kim, See comments in blue regarding the propos...</td>\n",
       "      <td>['Kim,', 'See comments in blue regarding the p...</td>\n",
       "      <td>2328</td>\n",
       "    </tr>\n",
       "    <tr>\n",
       "      <th>3</th>\n",
       "      <td>Hi Alison, Dont apologize, I know its a lot to...</td>\n",
       "      <td>['Hi Alison,', 'Dont apologize, I know its a l...</td>\n",
       "      <td>1723</td>\n",
       "    </tr>\n",
       "    <tr>\n",
       "      <th>4</th>\n",
       "      <td>Highly recommend you take a moment out of your...</td>\n",
       "      <td>['Highly recommend you take a moment out of yo...</td>\n",
       "      <td>670</td>\n",
       "    </tr>\n",
       "    <tr>\n",
       "      <th>...</th>\n",
       "      <td>...</td>\n",
       "      <td>...</td>\n",
       "      <td>...</td>\n",
       "    </tr>\n",
       "    <tr>\n",
       "      <th>71138</th>\n",
       "      <td>nancy.miller@talgov.com, scoS.maddox@talgov.co...</td>\n",
       "      <td>['nancy.miller@talgov.com, scoS.maddox@talgov....</td>\n",
       "      <td>1398</td>\n",
       "    </tr>\n",
       "    <tr>\n",
       "      <th>71139</th>\n",
       "      <td>All, We are s-ll working on some logis-cal iss...</td>\n",
       "      <td>['All,', 'We are s-ll working on some logis-ca...</td>\n",
       "      <td>528</td>\n",
       "    </tr>\n",
       "    <tr>\n",
       "      <th>71140</th>\n",
       "      <td>Current Call sheet attached - including this g...</td>\n",
       "      <td>['Current Call sheet attached - including this...</td>\n",
       "      <td>401</td>\n",
       "    </tr>\n",
       "    <tr>\n",
       "      <th>71141</th>\n",
       "      <td>Do you have a contact for the sprinklers? Scott</td>\n",
       "      <td>['Do you have a contact for the sprinklers?', ...</td>\n",
       "      <td>48</td>\n",
       "    </tr>\n",
       "    <tr>\n",
       "      <th>71142</th>\n",
       "      <td>CITY OF TALLAHASSEE NEWS RELEASE FOR IMMEDIATE...</td>\n",
       "      <td>['CITY OF TALLAHASSEE NEWS RELEASE', 'FOR IMME...</td>\n",
       "      <td>1681</td>\n",
       "    </tr>\n",
       "  </tbody>\n",
       "</table>\n",
       "<p>71143 rows × 3 columns</p>\n",
       "</div>"
      ],
      "text/plain": [
       "                                                    body  \\\n",
       "0      Response.pdf Brooks, attached is our response ...   \n",
       "1                                            Good by me!   \n",
       "2      Kim, See comments in blue regarding the propos...   \n",
       "3      Hi Alison, Dont apologize, I know its a lot to...   \n",
       "4      Highly recommend you take a moment out of your...   \n",
       "...                                                  ...   \n",
       "71138  nancy.miller@talgov.com, scoS.maddox@talgov.co...   \n",
       "71139  All, We are s-ll working on some logis-cal iss...   \n",
       "71140  Current Call sheet attached - including this g...   \n",
       "71141   Do you have a contact for the sprinklers? Scott    \n",
       "71142  CITY OF TALLAHASSEE NEWS RELEASE FOR IMMEDIATE...   \n",
       "\n",
       "                                                    Body  body_len  \n",
       "0      ['Response.pdf', 'Brooks, attached is our resp...       392  \n",
       "1                                        ['Good by me!']        11  \n",
       "2      ['Kim,', 'See comments in blue regarding the p...      2328  \n",
       "3      ['Hi Alison,', 'Dont apologize, I know its a l...      1723  \n",
       "4      ['Highly recommend you take a moment out of yo...       670  \n",
       "...                                                  ...       ...  \n",
       "71138  ['nancy.miller@talgov.com, scoS.maddox@talgov....      1398  \n",
       "71139  ['All,', 'We are s-ll working on some logis-ca...       528  \n",
       "71140  ['Current Call sheet attached - including this...       401  \n",
       "71141  ['Do you have a contact for the sprinklers?', ...        48  \n",
       "71142  ['CITY OF TALLAHASSEE NEWS RELEASE', 'FOR IMME...      1681  \n",
       "\n",
       "[71143 rows x 3 columns]"
      ]
     },
     "execution_count": 109,
     "metadata": {},
     "output_type": "execute_result"
    }
   ],
   "source": [
    "df1[[\"body\", \"Body\", \"body_len\"]]"
   ]
  },
  {
   "cell_type": "code",
   "execution_count": 110,
   "id": "421446d8-9930-43b1-ac6d-576bb55f147b",
   "metadata": {},
   "outputs": [],
   "source": [
    "df1.to_csv(\"output_with_attributes.csv\", index=0)"
   ]
  },
  {
   "cell_type": "code",
   "execution_count": 179,
   "id": "e9cc15cb-f215-47e2-ad85-4c64cb087a82",
   "metadata": {},
   "outputs": [],
   "source": [
    "df2 = pd.read_csv(\"output_with_attributes.csv\")"
   ]
  },
  {
   "cell_type": "code",
   "execution_count": 180,
   "id": "1f920902-8ffe-442d-b2fe-6df2e303e5aa",
   "metadata": {},
   "outputs": [
    {
     "data": {
      "text/plain": [
       "''"
      ]
     },
     "execution_count": 180,
     "metadata": {},
     "output_type": "execute_result"
    }
   ],
   "source": [
    "df2 = df2.fillna('')\n",
    "df2.isnull()\n",
    "df2.Importance.iloc[0]"
   ]
  },
  {
   "cell_type": "markdown",
   "id": "ee52ec42-4e9e-4f78-8127-99b6080037db",
   "metadata": {},
   "source": [
    "# Remove email duplicates\n",
    "* Duplications have same From:, Send:, number of chars, number of words"
   ]
  },
  {
   "cell_type": "code",
   "execution_count": 181,
   "id": "a64a8727-aab2-46e9-b5a2-a952e03e0835",
   "metadata": {},
   "outputs": [
    {
     "name": "stdout",
     "output_type": "stream",
     "text": [
      "50060_fn_21-1-KimRivers2012_ln_31398.txt 8209 True\n",
      "70255_fn_21-6-KimRivers2014-1-0_ln_6466.txt 2255 True\n",
      "27184_fn_17-1-IB2012-1-0_ln_29524.txt 8209 True\n",
      "50034_fn_21-1-KimRivers2012_ln_20499.txt 9307 True\n",
      "05348_fn_18-2-Inkbridge2012-2_ln_10493.txt 13395 True\n",
      "27188_fn_17-1-IB2012-1-0_ln_31164.txt 8209 True\n",
      "23929_fn_18-3-Inkbridge2013-1-0_ln_23056.txt 2189 True\n",
      "50061_fn_21-1-KimRivers2012_ln_31501.txt 13395 True\n",
      "50029_fn_21-1-KimRivers2012_ln_18209.txt 13395 True\n",
      "50038_fn_21-1-KimRivers2012_ln_22162.txt 9307 True\n",
      "70250_fn_21-6-KimRivers2014-1-0_ln_4674.txt 2255 True\n",
      "50040_fn_21-1-KimRivers2012_ln_23095.txt 8209 True\n",
      "00847_fn_17-2-IB2013-1-0_ln_23497.txt 2189 True\n",
      "05345_fn_18-2-Inkbridge2012-2_ln_9462.txt 9307 True\n",
      "23876_fn_18-3-Inkbridge2013-1-0_ln_13063.txt 3061 True\n",
      "50042_fn_21-1-KimRivers2012_ln_23825.txt 9307 True\n",
      "27306_fn_17-1-IB2012-1-0_ln_36068.txt 8209 True\n",
      "23879_fn_18-3-Inkbridge2013-1-0_ln_13603.txt 3061 True\n",
      "05343_fn_18-2-Inkbridge2012-2_ln_8732.txt 8209 True\n",
      "50033_fn_21-1-KimRivers2012_ln_19872.txt 13395 True\n",
      "50026_fn_21-1-KimRivers2012_ln_17191.txt 9307 True\n",
      "50032_fn_21-1-KimRivers2012_ln_19769.txt 8209 True\n",
      "05355_fn_18-2-Inkbridge2012-2_ln_13700.txt 8209 True\n",
      "00797_fn_17-2-IB2013-1-0_ln_14044.txt 3061 True\n",
      "50056_fn_21-1-KimRivers2012_ln_29738.txt 8209 True\n",
      "50045_fn_21-1-KimRivers2012_ln_24861.txt 13395 True\n",
      "27320_fn_17-1-IB2012-1-0_ln_41766.txt 9307 True\n",
      "31698_fn_10-6-Cascade-2016-1-0_ln_25709.txt 113877 True\n",
      "50049_fn_21-1-KimRivers2012_ln_26521.txt 13395 True\n",
      "50062_fn_21-1-KimRivers2012_ln_32128.txt 9307 True\n",
      "27315_fn_17-1-IB2012-1-0_ln_39484.txt 13395 True\n",
      "27312_fn_17-1-IB2012-1-0_ln_38456.txt 9307 True\n",
      "05226_fn_18-2-Inkbridge2012-2_ln_3931.txt 13395 True\n",
      "05356_fn_18-2-Inkbridge2012-2_ln_13803.txt 13395 True\n",
      "27307_fn_17-1-IB2012-1-0_ln_36171.txt 13395 True\n",
      "50021_fn_21-1-KimRivers2012_ln_14919.txt 13395 True\n",
      "50048_fn_21-1-KimRivers2012_ln_26418.txt 8209 True\n",
      "27186_fn_17-1-IB2012-1-0_ln_30254.txt 9307 True\n",
      "50054_fn_21-1-KimRivers2012_ln_28808.txt 9307 True\n",
      "50057_fn_21-1-KimRivers2012_ln_29841.txt 13395 True\n",
      "11631_fn_21-2-KimRivers2013-1-0_ln_46201.txt 2189 True\n",
      "00794_fn_17-2-IB2013-1-0_ln_13504.txt 3061 True\n",
      "05227_fn_18-2-Inkbridge2012-2_ln_4558.txt 9307 True\n",
      "53400_fn_17-4-IB2014-1-0_ln_1107.txt 2255 True\n",
      "50050_fn_21-1-KimRivers2012_ln_27148.txt 9307 True\n",
      "05221_fn_18-2-Inkbridge2012-2_ln_2188.txt 8209 True\n",
      "05344_fn_18-2-Inkbridge2012-2_ln_8835.txt 13395 True\n",
      "27310_fn_17-1-IB2012-1-0_ln_37726.txt 8209 True\n",
      "11635_fn_21-2-KimRivers2013-1-0_ln_46576.txt 2189 True\n",
      "50046_fn_21-1-KimRivers2012_ln_25488.txt 9307 True\n",
      "50025_fn_21-1-KimRivers2012_ln_16564.txt 13395 True\n",
      "50022_fn_21-1-KimRivers2012_ln_15546.txt 9307 True\n",
      "27185_fn_17-1-IB2012-1-0_ln_29627.txt 13395 True\n",
      "70245_fn_21-6-KimRivers2014-1-0_ln_2882.txt 2255 True\n",
      "50036_fn_21-1-KimRivers2012_ln_21432.txt 8209 True\n",
      "27189_fn_17-1-IB2012-1-0_ln_31267.txt 13395 True\n",
      "50020_fn_21-1-KimRivers2012_ln_14816.txt 8209 True\n",
      "11543_fn_21-2-KimRivers2013-1-0_ln_25944.txt 3061 True\n",
      "50017_fn_21-1-KimRivers2012_ln_13274.txt 13395 True\n",
      "05223_fn_18-2-Inkbridge2012-2_ln_2918.txt 9307 True\n",
      "05357_fn_18-2-Inkbridge2012-2_ln_14430.txt 9307 True\n",
      "50024_fn_21-1-KimRivers2012_ln_16461.txt 8209 True\n",
      "50016_fn_21-1-KimRivers2012_ln_13171.txt 8209 True\n",
      "27316_fn_17-1-IB2012-1-0_ln_40111.txt 9307 True\n",
      "14647_fn_32-3-PaigeCS-3-2_ln_18262.txt 287 True\n",
      "11623_fn_21-2-KimRivers2013-1-0_ln_45451.txt 2189 True\n",
      "50037_fn_21-1-KimRivers2012_ln_21535.txt 13395 True\n",
      "05351_fn_18-2-Inkbridge2012-2_ln_12045.txt 8209 True\n",
      "11540_fn_21-2-KimRivers2013-1-0_ln_25404.txt 3061 True\n",
      "27319_fn_17-1-IB2012-1-0_ln_41139.txt 13395 True\n",
      "05349_fn_18-2-Inkbridge2012-2_ln_11120.txt 9307 True\n",
      "53405_fn_17-4-IB2014-1-0_ln_2866.txt 2255 True\n",
      "50053_fn_21-1-KimRivers2012_ln_28181.txt 13395 True\n",
      "23925_fn_18-3-Inkbridge2013-1-0_ln_22681.txt 2189 True\n",
      "27318_fn_17-1-IB2012-1-0_ln_41036.txt 8209 True\n",
      "05353_fn_18-2-Inkbridge2012-2_ln_12775.txt 9307 True\n",
      "50030_fn_21-1-KimRivers2012_ln_18836.txt 9307 True\n",
      "27314_fn_17-1-IB2012-1-0_ln_39381.txt 8209 True\n",
      "05352_fn_18-2-Inkbridge2012-2_ln_12148.txt 13395 True\n",
      "11627_fn_21-2-KimRivers2013-1-0_ln_45826.txt 2189 True\n",
      "05225_fn_18-2-Inkbridge2012-2_ln_3828.txt 8209 True\n",
      "08882_fn_18-6-Inkbridge2014-1-0_ln_2919.txt 2255 True\n",
      "70240_fn_21-6-KimRivers2014-1-0_ln_1090.txt 2255 True\n",
      "08877_fn_18-6-Inkbridge2014-1-0_ln_1124.txt 2255 True\n",
      "27308_fn_17-1-IB2012-1-0_ln_36798.txt 9307 True\n",
      "63373_fn_15-5-HunterHarp2013-3-0_ln_27699.txt 649 False\n",
      "50058_fn_21-1-KimRivers2012_ln_30468.txt 9307 True\n",
      "05222_fn_18-2-Inkbridge2012-2_ln_2291.txt 13395 True\n",
      "50018_fn_21-1-KimRivers2012_ln_13901.txt 9307 True\n",
      "50052_fn_21-1-KimRivers2012_ln_28078.txt 8209 True\n",
      "00843_fn_17-2-IB2013-1-0_ln_23122.txt 2189 True\n",
      "27311_fn_17-1-IB2012-1-0_ln_37829.txt 13395 True\n",
      "50041_fn_21-1-KimRivers2012_ln_23198.txt 13395 True\n",
      "27190_fn_17-1-IB2012-1-0_ln_31894.txt 9307 True\n",
      "50044_fn_21-1-KimRivers2012_ln_24758.txt 8209 True\n",
      "50028_fn_21-1-KimRivers2012_ln_18106.txt 8209 True\n",
      "05347_fn_18-2-Inkbridge2012-2_ln_10390.txt 8209 True\n",
      "long_count:  97\n"
     ]
    }
   ],
   "source": [
    "# All mails with from with a large length have isDisplacement = True\n",
    "long_count = 0\n",
    "error_list = []\n",
    "\n",
    "for item, row in df2.iterrows():\n",
    "    error_list.append(\"None\")\n",
    "    r = eval(row.From)\n",
    "    disp = row.isDisplacement\n",
    "    lg = len(r[0]) + len(r[1]) + len(r[2])\n",
    "    if lg > 200:\n",
    "        print(row.filenm, lg, disp)\n",
    "        error_list[-1] = \"From\"\n",
    "        long_count += 1\n",
    "        \n",
    "print(\"long_count: \", long_count)\n",
    "df2['Error_from'] = error_list"
   ]
  },
  {
   "cell_type": "code",
   "execution_count": 182,
   "id": "0a95d77a-1cb3-423b-b5e7-22dcff07fcb8",
   "metadata": {},
   "outputs": [],
   "source": [
    "error_sent = [] \n",
    "long_count = 0\n",
    "for item, row in df2.iterrows():\n",
    "    error_sent.append(\"None\")\n",
    "    r = row.Sent\n",
    "    if len(r) > 200:\n",
    "        error_sent[-1] = True\n",
    "        long_count += 1\n",
    "        \n",
    "df2[\"Error_sent\"] = error_sent"
   ]
  },
  {
   "cell_type": "code",
   "execution_count": 183,
   "id": "7d0e90ba-7dd3-4664-a1f0-5f1f5fdf4306",
   "metadata": {},
   "outputs": [
    {
     "name": "stdout",
     "output_type": "stream",
     "text": [
      "<class 'pandas.core.frame.DataFrame'> (39444, 1)\n"
     ]
    }
   ],
   "source": [
    "dfg = df2.groupby([\"From\", \"To\", \"Sent\", \"body\", \"body_len\", \"nb_words\"]).size().to_frame()\n",
    "#dfg = df2.groupby([\"From\"]).size()\n",
    "print(type(dfg), dfg.shape)"
   ]
  },
  {
   "cell_type": "code",
   "execution_count": 184,
   "id": "1518858d-fff1-462c-a217-9db40185b81f",
   "metadata": {},
   "outputs": [
    {
     "data": {
      "text/plain": [
       "(39444, 21)"
      ]
     },
     "execution_count": 184,
     "metadata": {},
     "output_type": "execute_result"
    }
   ],
   "source": [
    "df3 = df2.drop_duplicates([\"From\", \"To\", \"Sent\", \"body\"], keep='first')\n",
    "df3.shape"
   ]
  },
  {
   "cell_type": "code",
   "execution_count": 185,
   "id": "31d5fd22-5344-478a-b966-ee6d2a327197",
   "metadata": {},
   "outputs": [],
   "source": [
    "df3.to_csv(\"output_with_attributes_no_duplicates.csv\", index=0)"
   ]
  },
  {
   "cell_type": "code",
   "execution_count": 236,
   "id": "fd06e65d-dfeb-432e-aa16-6f34f5aa5ab7",
   "metadata": {},
   "outputs": [],
   "source": [
    "df3 = pd.read_csv(\"output_with_attributes_no_duplicates.csv\")\n",
    "df3 = df3.fillna('')  # replace NaN by ''"
   ]
  },
  {
   "cell_type": "code",
   "execution_count": 237,
   "id": "003a76cb-bdf4-459d-a22e-0ea800ca42f7",
   "metadata": {},
   "outputs": [
    {
     "data": {
      "text/plain": [
       "422      124\n",
       "518      140\n",
       "1016     125\n",
       "1076     118\n",
       "1332     124\n",
       "        ... \n",
       "38232    122\n",
       "38425    300\n",
       "38505    125\n",
       "38828    124\n",
       "38857    125\n",
       "Name: Sent, Length: 152, dtype: int64"
      ]
     },
     "execution_count": 237,
     "metadata": {},
     "output_type": "execute_result"
    }
   ],
   "source": [
    "df3[df3.Sent.map(len) > 100].Sent.map(len)"
   ]
  },
  {
   "cell_type": "code",
   "execution_count": null,
   "id": "ebedc389-a080-49a1-8f26-c28bb0a61afc",
   "metadata": {},
   "outputs": [],
   "source": []
  },
  {
   "cell_type": "code",
   "execution_count": 238,
   "id": "44fe9fcf-5ae0-4c69-b211-f36553c0a13c",
   "metadata": {},
   "outputs": [
    {
     "data": {
      "text/plain": [
       "422      True\n",
       "518      True\n",
       "1016     True\n",
       "1076     True\n",
       "1332     True\n",
       "         ... \n",
       "38232    True\n",
       "38425    True\n",
       "38505    True\n",
       "38828    True\n",
       "38857    True\n",
       "Name: isDisplacement, Length: 152, dtype: bool"
      ]
     },
     "execution_count": 238,
     "metadata": {},
     "output_type": "execute_result"
    }
   ],
   "source": [
    "df3[df3.Sent.map(len) > 100].isDisplacement"
   ]
  },
  {
   "cell_type": "code",
   "execution_count": 239,
   "id": "60950170-1840-4b84-9630-50203a3446c5",
   "metadata": {},
   "outputs": [],
   "source": [
    "# Now group emails by sender and calculate statistics\n",
    "df3g = df3.groupby('From')"
   ]
  },
  {
   "cell_type": "code",
   "execution_count": 240,
   "id": "72bee63e-2d20-4d8b-b686-4c2dcf6daa78",
   "metadata": {},
   "outputs": [
    {
     "data": {
      "text/plain": [
       "dtype('int64')"
      ]
     },
     "execution_count": 240,
     "metadata": {},
     "output_type": "execute_result"
    }
   ],
   "source": [
    "df3.nb_chars.dtype"
   ]
  },
  {
   "cell_type": "code",
   "execution_count": 241,
   "id": "1c08dda0-4f16-44b9-83ac-6582aa745620",
   "metadata": {},
   "outputs": [
    {
     "data": {
      "text/plain": [
       "From\n",
       "(\" sajjll>jec'lt:\", ' ', \" sajjll>jec'lt:_ \")                                                                       1\n",
       "(\"'allsaints district community association\", ' ', 'allsaintsdistrict@gmail.com')                                   1\n",
       "(\"brandon johnson ?b'ohnson talchamhercorn}\", ' ', \"brandon johnson ?b'ohnson talchamhercorn}_ \")                   1\n",
       "(\"brandon johnson {b'olmsonc talchambercom}\", ' ', \"brandon johnson {b'olmsonc talchambercom}_ \")                   1\n",
       "(\"ciggrojectthalgovcom mailto:c' ro'ects tal v.com\", ' ', \"ciggrojectthalgovcom mailto:c' ro'ects tal v.com_ \")     1\n",
       "                                                                                                                   ..\n",
       "('yulonda', 'mitchell', 'yulonda.mitchell@talgov.com')                                                              8\n",
       "('zach', 'lyne', 'zachary.lyne@talgov.com')                                                                         1\n",
       "('zachary', 'galloway', 'zachary.galloway@talgov.com')                                                              4\n",
       "('zachary', 'stipe', 'zachary_stipe')                                                                               2\n",
       "('zprgroup', ' ', 'gary@zprgroup')                                                                                 55\n",
       "Name: nb_words, Length: 7014, dtype: int64"
      ]
     },
     "execution_count": 241,
     "metadata": {},
     "output_type": "execute_result"
    }
   ],
   "source": [
    "dd = df3g['nb_words'].size()\n",
    "dd"
   ]
  },
  {
   "cell_type": "code",
   "execution_count": 242,
   "id": "dfacf849-1ab9-42b4-8002-03e68544f0de",
   "metadata": {},
   "outputs": [
    {
     "data": {
      "text/plain": [
       "Index(['filenm', 'From', 'Sent', 'To', 'CC', 'Bcc', 'Subject', 'Attachments',\n",
       "       'Importance', 'isThread', 'isAutoMessage', 'isDisplacement',\n",
       "       'hasAllCapLine', 'hasBadDate', 'Body', 'nb_words', 'nb_chars',\n",
       "       'body_len', 'body', 'Error_from', 'Error_sent', 'mn_nb_words',\n",
       "       'std_nb_words', 'mn_nb_chars', 'std_nb_chars'],\n",
       "      dtype='object')"
      ]
     },
     "execution_count": 242,
     "metadata": {},
     "output_type": "execute_result"
    }
   ],
   "source": [
    "df3['mn_nb_words'] = df3g['nb_words'].transform('mean')\n",
    "df3['std_nb_words'] = df3g['nb_words'].transform('std')\n",
    "df3['mn_nb_chars'] = df3g['nb_chars'].transform('mean')\n",
    "df3['std_nb_chars'] = df3g['nb_chars'].transform('std')\n",
    "df3.columns"
   ]
  },
  {
   "cell_type": "code",
   "execution_count": 243,
   "id": "2fbbe2a9-66ac-4215-acb5-47a3b3f1d473",
   "metadata": {},
   "outputs": [
    {
     "data": {
      "text/html": [
       "<div>\n",
       "<style scoped>\n",
       "    .dataframe tbody tr th:only-of-type {\n",
       "        vertical-align: middle;\n",
       "    }\n",
       "\n",
       "    .dataframe tbody tr th {\n",
       "        vertical-align: top;\n",
       "    }\n",
       "\n",
       "    .dataframe thead th {\n",
       "        text-align: right;\n",
       "    }\n",
       "</style>\n",
       "<table border=\"1\" class=\"dataframe\">\n",
       "  <thead>\n",
       "    <tr style=\"text-align: right;\">\n",
       "      <th></th>\n",
       "      <th>body_len</th>\n",
       "      <th>nb_chars</th>\n",
       "      <th>nb_words</th>\n",
       "      <th>mn_nb_words</th>\n",
       "      <th>std_nb_words</th>\n",
       "      <th>mn_nb_chars</th>\n",
       "      <th>std_nb_chars</th>\n",
       "    </tr>\n",
       "  </thead>\n",
       "  <tbody>\n",
       "    <tr>\n",
       "      <th>0</th>\n",
       "      <td>392</td>\n",
       "      <td>338</td>\n",
       "      <td>55</td>\n",
       "      <td>207.191781</td>\n",
       "      <td>575.220722</td>\n",
       "      <td>1203.369863</td>\n",
       "      <td>3298.465917</td>\n",
       "    </tr>\n",
       "    <tr>\n",
       "      <th>1</th>\n",
       "      <td>11</td>\n",
       "      <td>9</td>\n",
       "      <td>3</td>\n",
       "      <td>216.734406</td>\n",
       "      <td>954.868984</td>\n",
       "      <td>1136.110664</td>\n",
       "      <td>5063.717627</td>\n",
       "    </tr>\n",
       "    <tr>\n",
       "      <th>2</th>\n",
       "      <td>2328</td>\n",
       "      <td>1928</td>\n",
       "      <td>401</td>\n",
       "      <td>789.666667</td>\n",
       "      <td>1367.963784</td>\n",
       "      <td>4514.000000</td>\n",
       "      <td>8106.663649</td>\n",
       "    </tr>\n",
       "    <tr>\n",
       "      <th>3</th>\n",
       "      <td>1723</td>\n",
       "      <td>1445</td>\n",
       "      <td>279</td>\n",
       "      <td>448.125000</td>\n",
       "      <td>684.897547</td>\n",
       "      <td>2302.750000</td>\n",
       "      <td>3555.282145</td>\n",
       "    </tr>\n",
       "    <tr>\n",
       "      <th>4</th>\n",
       "      <td>670</td>\n",
       "      <td>561</td>\n",
       "      <td>110</td>\n",
       "      <td>178.145418</td>\n",
       "      <td>131.073968</td>\n",
       "      <td>1212.144840</td>\n",
       "      <td>686.257253</td>\n",
       "    </tr>\n",
       "    <tr>\n",
       "      <th>...</th>\n",
       "      <td>...</td>\n",
       "      <td>...</td>\n",
       "      <td>...</td>\n",
       "      <td>...</td>\n",
       "      <td>...</td>\n",
       "      <td>...</td>\n",
       "      <td>...</td>\n",
       "    </tr>\n",
       "    <tr>\n",
       "      <th>39439</th>\n",
       "      <td>1329</td>\n",
       "      <td>1203</td>\n",
       "      <td>127</td>\n",
       "      <td>178.145418</td>\n",
       "      <td>131.073968</td>\n",
       "      <td>1212.144840</td>\n",
       "      <td>686.257253</td>\n",
       "    </tr>\n",
       "    <tr>\n",
       "      <th>39440</th>\n",
       "      <td>707</td>\n",
       "      <td>580</td>\n",
       "      <td>128</td>\n",
       "      <td>77.915254</td>\n",
       "      <td>56.101862</td>\n",
       "      <td>403.474576</td>\n",
       "      <td>267.887868</td>\n",
       "    </tr>\n",
       "    <tr>\n",
       "      <th>39441</th>\n",
       "      <td>1398</td>\n",
       "      <td>1241</td>\n",
       "      <td>158</td>\n",
       "      <td>178.145418</td>\n",
       "      <td>131.073968</td>\n",
       "      <td>1212.144840</td>\n",
       "      <td>686.257253</td>\n",
       "    </tr>\n",
       "    <tr>\n",
       "      <th>39442</th>\n",
       "      <td>528</td>\n",
       "      <td>438</td>\n",
       "      <td>91</td>\n",
       "      <td>413.083503</td>\n",
       "      <td>3793.575338</td>\n",
       "      <td>1617.270876</td>\n",
       "      <td>16523.119220</td>\n",
       "    </tr>\n",
       "    <tr>\n",
       "      <th>39443</th>\n",
       "      <td>401</td>\n",
       "      <td>337</td>\n",
       "      <td>65</td>\n",
       "      <td>111.176513</td>\n",
       "      <td>232.939987</td>\n",
       "      <td>596.876732</td>\n",
       "      <td>1267.124838</td>\n",
       "    </tr>\n",
       "  </tbody>\n",
       "</table>\n",
       "<p>39444 rows × 7 columns</p>\n",
       "</div>"
      ],
      "text/plain": [
       "       body_len  nb_chars  nb_words  mn_nb_words  std_nb_words  mn_nb_chars  \\\n",
       "0           392       338        55   207.191781    575.220722  1203.369863   \n",
       "1            11         9         3   216.734406    954.868984  1136.110664   \n",
       "2          2328      1928       401   789.666667   1367.963784  4514.000000   \n",
       "3          1723      1445       279   448.125000    684.897547  2302.750000   \n",
       "4           670       561       110   178.145418    131.073968  1212.144840   \n",
       "...         ...       ...       ...          ...           ...          ...   \n",
       "39439      1329      1203       127   178.145418    131.073968  1212.144840   \n",
       "39440       707       580       128    77.915254     56.101862   403.474576   \n",
       "39441      1398      1241       158   178.145418    131.073968  1212.144840   \n",
       "39442       528       438        91   413.083503   3793.575338  1617.270876   \n",
       "39443       401       337        65   111.176513    232.939987   596.876732   \n",
       "\n",
       "       std_nb_chars  \n",
       "0       3298.465917  \n",
       "1       5063.717627  \n",
       "2       8106.663649  \n",
       "3       3555.282145  \n",
       "4        686.257253  \n",
       "...             ...  \n",
       "39439    686.257253  \n",
       "39440    267.887868  \n",
       "39441    686.257253  \n",
       "39442  16523.119220  \n",
       "39443   1267.124838  \n",
       "\n",
       "[39444 rows x 7 columns]"
      ]
     },
     "execution_count": 243,
     "metadata": {},
     "output_type": "execute_result"
    }
   ],
   "source": [
    "df3[['body_len','nb_chars','nb_words','mn_nb_words','std_nb_words','mn_nb_chars','std_nb_chars']]"
   ]
  },
  {
   "cell_type": "code",
   "execution_count": 246,
   "id": "2eb0c785-7e16-40cc-b3ff-dc6b30b79e1c",
   "metadata": {},
   "outputs": [],
   "source": [
    "df3.to_csv(\"output_with_stats_columns.csv\", index=0)"
   ]
  },
  {
   "cell_type": "code",
   "execution_count": 248,
   "id": "a81e961e-00d4-45bb-a62a-5798610a071a",
   "metadata": {},
   "outputs": [
    {
     "data": {
      "text/html": [
       "<div>\n",
       "<style scoped>\n",
       "    .dataframe tbody tr th:only-of-type {\n",
       "        vertical-align: middle;\n",
       "    }\n",
       "\n",
       "    .dataframe tbody tr th {\n",
       "        vertical-align: top;\n",
       "    }\n",
       "\n",
       "    .dataframe thead th {\n",
       "        text-align: right;\n",
       "    }\n",
       "</style>\n",
       "<table border=\"1\" class=\"dataframe\">\n",
       "  <thead>\n",
       "    <tr style=\"text-align: right;\">\n",
       "      <th></th>\n",
       "      <th>count</th>\n",
       "      <th>mean</th>\n",
       "      <th>std</th>\n",
       "      <th>min</th>\n",
       "      <th>25%</th>\n",
       "      <th>50%</th>\n",
       "      <th>75%</th>\n",
       "      <th>max</th>\n",
       "    </tr>\n",
       "  </thead>\n",
       "  <tbody>\n",
       "    <tr>\n",
       "      <th>nb_words</th>\n",
       "      <td>39444.0</td>\n",
       "      <td>274.482253</td>\n",
       "      <td>1498.709094</td>\n",
       "      <td>1.0</td>\n",
       "      <td>40.000000</td>\n",
       "      <td>96.000000</td>\n",
       "      <td>199.000000</td>\n",
       "      <td>94406.000000</td>\n",
       "    </tr>\n",
       "    <tr>\n",
       "      <th>nb_chars</th>\n",
       "      <td>39444.0</td>\n",
       "      <td>1526.380514</td>\n",
       "      <td>8150.989443</td>\n",
       "      <td>0.0</td>\n",
       "      <td>221.000000</td>\n",
       "      <td>546.000000</td>\n",
       "      <td>1156.000000</td>\n",
       "      <td>530506.000000</td>\n",
       "    </tr>\n",
       "    <tr>\n",
       "      <th>body_len</th>\n",
       "      <td>39444.0</td>\n",
       "      <td>1799.862767</td>\n",
       "      <td>9638.763442</td>\n",
       "      <td>0.0</td>\n",
       "      <td>261.000000</td>\n",
       "      <td>646.000000</td>\n",
       "      <td>1347.000000</td>\n",
       "      <td>624911.000000</td>\n",
       "    </tr>\n",
       "    <tr>\n",
       "      <th>mn_nb_words</th>\n",
       "      <td>39444.0</td>\n",
       "      <td>274.482253</td>\n",
       "      <td>646.336143</td>\n",
       "      <td>1.0</td>\n",
       "      <td>100.369863</td>\n",
       "      <td>163.820106</td>\n",
       "      <td>243.942857</td>\n",
       "      <td>32261.000000</td>\n",
       "    </tr>\n",
       "    <tr>\n",
       "      <th>std_nb_words</th>\n",
       "      <td>33795.0</td>\n",
       "      <td>582.420512</td>\n",
       "      <td>1369.975738</td>\n",
       "      <td>0.0</td>\n",
       "      <td>109.656051</td>\n",
       "      <td>164.752204</td>\n",
       "      <td>391.273360</td>\n",
       "      <td>28069.534462</td>\n",
       "    </tr>\n",
       "    <tr>\n",
       "      <th>mn_nb_chars</th>\n",
       "      <td>39444.0</td>\n",
       "      <td>1526.380514</td>\n",
       "      <td>3565.157932</td>\n",
       "      <td>0.0</td>\n",
       "      <td>534.357798</td>\n",
       "      <td>831.666667</td>\n",
       "      <td>1318.228571</td>\n",
       "      <td>149301.000000</td>\n",
       "    </tr>\n",
       "    <tr>\n",
       "      <th>std_nb_chars</th>\n",
       "      <td>33795.0</td>\n",
       "      <td>3099.847197</td>\n",
       "      <td>7459.613097</td>\n",
       "      <td>0.0</td>\n",
       "      <td>597.608460</td>\n",
       "      <td>865.478448</td>\n",
       "      <td>2072.168003</td>\n",
       "      <td>157701.876827</td>\n",
       "    </tr>\n",
       "  </tbody>\n",
       "</table>\n",
       "</div>"
      ],
      "text/plain": [
       "                count         mean          std  min         25%         50%  \\\n",
       "nb_words      39444.0   274.482253  1498.709094  1.0   40.000000   96.000000   \n",
       "nb_chars      39444.0  1526.380514  8150.989443  0.0  221.000000  546.000000   \n",
       "body_len      39444.0  1799.862767  9638.763442  0.0  261.000000  646.000000   \n",
       "mn_nb_words   39444.0   274.482253   646.336143  1.0  100.369863  163.820106   \n",
       "std_nb_words  33795.0   582.420512  1369.975738  0.0  109.656051  164.752204   \n",
       "mn_nb_chars   39444.0  1526.380514  3565.157932  0.0  534.357798  831.666667   \n",
       "std_nb_chars  33795.0  3099.847197  7459.613097  0.0  597.608460  865.478448   \n",
       "\n",
       "                      75%            max  \n",
       "nb_words       199.000000   94406.000000  \n",
       "nb_chars      1156.000000  530506.000000  \n",
       "body_len      1347.000000  624911.000000  \n",
       "mn_nb_words    243.942857   32261.000000  \n",
       "std_nb_words   391.273360   28069.534462  \n",
       "mn_nb_chars   1318.228571  149301.000000  \n",
       "std_nb_chars  2072.168003  157701.876827  "
      ]
     },
     "execution_count": 248,
     "metadata": {},
     "output_type": "execute_result"
    }
   ],
   "source": [
    "df3.describe().T"
   ]
  },
  {
   "cell_type": "code",
   "execution_count": 258,
   "id": "81e9f6d4-9592-4509-96d9-955e0f3e49d0",
   "metadata": {},
   "outputs": [
    {
     "data": {
      "text/html": [
       "<div>\n",
       "<style scoped>\n",
       "    .dataframe tbody tr th:only-of-type {\n",
       "        vertical-align: middle;\n",
       "    }\n",
       "\n",
       "    .dataframe tbody tr th {\n",
       "        vertical-align: top;\n",
       "    }\n",
       "\n",
       "    .dataframe thead th {\n",
       "        text-align: right;\n",
       "    }\n",
       "</style>\n",
       "<table border=\"1\" class=\"dataframe\">\n",
       "  <thead>\n",
       "    <tr style=\"text-align: right;\">\n",
       "      <th></th>\n",
       "      <th>count</th>\n",
       "      <th>mean</th>\n",
       "      <th>std</th>\n",
       "      <th>min</th>\n",
       "      <th>25%</th>\n",
       "      <th>50%</th>\n",
       "      <th>75%</th>\n",
       "      <th>max</th>\n",
       "    </tr>\n",
       "  </thead>\n",
       "  <tbody>\n",
       "    <tr>\n",
       "      <th>nb_words</th>\n",
       "      <td>39444.0</td>\n",
       "      <td>274.482253</td>\n",
       "      <td>1498.709094</td>\n",
       "      <td>1.0</td>\n",
       "      <td>40.000000</td>\n",
       "      <td>96.000000</td>\n",
       "      <td>199.000000</td>\n",
       "      <td>94406.000000</td>\n",
       "    </tr>\n",
       "    <tr>\n",
       "      <th>nb_chars</th>\n",
       "      <td>39444.0</td>\n",
       "      <td>1526.380514</td>\n",
       "      <td>8150.989443</td>\n",
       "      <td>0.0</td>\n",
       "      <td>221.000000</td>\n",
       "      <td>546.000000</td>\n",
       "      <td>1156.000000</td>\n",
       "      <td>530506.000000</td>\n",
       "    </tr>\n",
       "    <tr>\n",
       "      <th>body_len</th>\n",
       "      <td>39444.0</td>\n",
       "      <td>1799.862767</td>\n",
       "      <td>9638.763442</td>\n",
       "      <td>0.0</td>\n",
       "      <td>261.000000</td>\n",
       "      <td>646.000000</td>\n",
       "      <td>1347.000000</td>\n",
       "      <td>624911.000000</td>\n",
       "    </tr>\n",
       "    <tr>\n",
       "      <th>mn_nb_words</th>\n",
       "      <td>39444.0</td>\n",
       "      <td>274.482253</td>\n",
       "      <td>646.336143</td>\n",
       "      <td>1.0</td>\n",
       "      <td>100.369863</td>\n",
       "      <td>163.820106</td>\n",
       "      <td>243.942857</td>\n",
       "      <td>32261.000000</td>\n",
       "    </tr>\n",
       "    <tr>\n",
       "      <th>std_nb_words</th>\n",
       "      <td>33795.0</td>\n",
       "      <td>582.420512</td>\n",
       "      <td>1369.975738</td>\n",
       "      <td>0.0</td>\n",
       "      <td>109.656051</td>\n",
       "      <td>164.752204</td>\n",
       "      <td>391.273360</td>\n",
       "      <td>28069.534462</td>\n",
       "    </tr>\n",
       "    <tr>\n",
       "      <th>mn_nb_chars</th>\n",
       "      <td>39444.0</td>\n",
       "      <td>1526.380514</td>\n",
       "      <td>3565.157932</td>\n",
       "      <td>0.0</td>\n",
       "      <td>534.357798</td>\n",
       "      <td>831.666667</td>\n",
       "      <td>1318.228571</td>\n",
       "      <td>149301.000000</td>\n",
       "    </tr>\n",
       "    <tr>\n",
       "      <th>std_nb_chars</th>\n",
       "      <td>33795.0</td>\n",
       "      <td>3099.847197</td>\n",
       "      <td>7459.613097</td>\n",
       "      <td>0.0</td>\n",
       "      <td>597.608460</td>\n",
       "      <td>865.478448</td>\n",
       "      <td>2072.168003</td>\n",
       "      <td>157701.876827</td>\n",
       "    </tr>\n",
       "  </tbody>\n",
       "</table>\n",
       "</div>"
      ],
      "text/plain": [
       "                count         mean          std  min         25%         50%  \\\n",
       "nb_words      39444.0   274.482253  1498.709094  1.0   40.000000   96.000000   \n",
       "nb_chars      39444.0  1526.380514  8150.989443  0.0  221.000000  546.000000   \n",
       "body_len      39444.0  1799.862767  9638.763442  0.0  261.000000  646.000000   \n",
       "mn_nb_words   39444.0   274.482253   646.336143  1.0  100.369863  163.820106   \n",
       "std_nb_words  33795.0   582.420512  1369.975738  0.0  109.656051  164.752204   \n",
       "mn_nb_chars   39444.0  1526.380514  3565.157932  0.0  534.357798  831.666667   \n",
       "std_nb_chars  33795.0  3099.847197  7459.613097  0.0  597.608460  865.478448   \n",
       "\n",
       "                      75%            max  \n",
       "nb_words       199.000000   94406.000000  \n",
       "nb_chars      1156.000000  530506.000000  \n",
       "body_len      1347.000000  624911.000000  \n",
       "mn_nb_words    243.942857   32261.000000  \n",
       "std_nb_words   391.273360   28069.534462  \n",
       "mn_nb_chars   1318.228571  149301.000000  \n",
       "std_nb_chars  2072.168003  157701.876827  "
      ]
     },
     "execution_count": 258,
     "metadata": {},
     "output_type": "execute_result"
    }
   ],
   "source": [
    "df3.describe().T"
   ]
  },
  {
   "cell_type": "markdown",
   "id": "1e1575d6-68d6-49a6-af39-2d55bd0c7217",
   "metadata": {},
   "source": [
    "---\n",
    "# Some plots with Seaborn"
   ]
  },
  {
   "cell_type": "code",
   "execution_count": 262,
   "id": "bdcc78a9-9b23-46c4-bd52-c08b8013c91e",
   "metadata": {},
   "outputs": [
    {
     "data": {
      "text/plain": [
       "<AxesSubplot:xlabel='std_nb_words', ylabel='Count'>"
      ]
     },
     "execution_count": 262,
     "metadata": {},
     "output_type": "execute_result"
    },
    {
     "data": {
      "image/png": "[encoded data removed]",
      "text/plain": [
       "<Figure size 432x288 with 1 Axes>"
      ]
     },
     "metadata": {
      "needs_background": "light"
     },
     "output_type": "display_data"
    }
   ],
   "source": [
    "\n",
    "sns.histplot(x=\"std_nb_words\",  data=df3)"
   ]
  },
  {
   "cell_type": "code",
   "execution_count": 244,
   "id": "aa140426-0ba0-45c8-a771-0b13da831912",
   "metadata": {},
   "outputs": [],
   "source": [
    "dfgrps = df2.groupby([\"From\", \"body_len\"]).groups\n",
    "keys = list(dfgrps.keys())\n",
    "k = keys[0]\n",
    "k[1]\n",
    "keys_1 = [k for k in keys if k[1] == 1]"
   ]
  },
  {
   "cell_type": "code",
   "execution_count": null,
   "id": "6d4b6801-9c64-42c7-bf0d-4f2444043d46",
   "metadata": {},
   "outputs": [],
   "source": [
    "keys_1"
   ]
  },
  {
   "cell_type": "code",
   "execution_count": null,
   "id": "6b3b58e9-9bb1-498c-ba07-13542296ae57",
   "metadata": {},
   "outputs": [],
   "source": [
    "dfg = df2.groupby([\"From\", \"body_len\"])"
   ]
  },
  {
   "cell_type": "code",
   "execution_count": null,
   "id": "db06190a-8374-4073-a277-ecdc46f3d0a9",
   "metadata": {},
   "outputs": [],
   "source": [
    "for k in keys_1:\n",
    "   print(\"==> \", dfg.get_group(k).body)"
   ]
  },
  {
   "cell_type": "code",
   "execution_count": null,
   "id": "e6eea112-cbc8-40f9-b53f-231f58e14c62",
   "metadata": {},
   "outputs": [],
   "source": [
    "df.From.to_csv(\"from.csv\", index=0)"
   ]
  },
  {
   "cell_type": "code",
   "execution_count": null,
   "id": "c7a3bcfe-9af3-4bcb-80d5-a5724b417d4b",
   "metadata": {},
   "outputs": [],
   "source": [
    "body_list = eval(bodies[0])"
   ]
  },
  {
   "cell_type": "code",
   "execution_count": null,
   "id": "ab762b3a-d66c-4593-b589-330036fe6393",
   "metadata": {},
   "outputs": [],
   "source": [
    "type(bodies[0])"
   ]
  },
  {
   "cell_type": "markdown",
   "id": "b1410637-5707-42f4-896e-54c6fd352dfd",
   "metadata": {},
   "source": [
    "---"
   ]
  },
  {
   "cell_type": "code",
   "execution_count": null,
   "id": "5ca30f4b-c468-4c1a-b126-c0d2519dad20",
   "metadata": {},
   "outputs": [],
   "source": [
    "# Number of words. All words that don't relate to the email itself should be removed.\n",
    "# We'll do that at a later stsage. \n"
   ]
  },
  {
   "cell_type": "code",
   "execution_count": null,
   "id": "fe38e473-a4b5-4dcf-98ba-9b4809e67ae6",
   "metadata": {},
   "outputs": [],
   "source": [
    "nlp = spacy.load('en_core_web_sm')"
   ]
  },
  {
   "cell_type": "code",
   "execution_count": null,
   "id": "1c1c80f9-cc99-4e8d-9175-4af7330ec83b",
   "metadata": {},
   "outputs": [],
   "source": [
    "words = [len([i for i in nlp(re.sub('</b>|<b>', '', i2)) if not (i.is_space or i.is_punct)]) for i2 in body]"
   ]
  },
  {
   "cell_type": "code",
   "execution_count": null,
   "id": "67e9d2b2-018b-4c12-a373-93b195090560",
   "metadata": {},
   "outputs": [],
   "source": [
    "words = nlp(body)\n",
    "body"
   ]
  },
  {
   "cell_type": "code",
   "execution_count": null,
   "id": "0b1ec372-6b13-4ba3-a9ee-a61e6b3c6ab7",
   "metadata": {},
   "outputs": [],
   "source": [
    "nb_words = len(words)\n",
    "nb_chars = len(body)\n",
    "nb_words, nb_chars"
   ]
  },
  {
   "cell_type": "markdown",
   "id": "335a7c61-5bf8-4167-8756-db2e6fcbfe16",
   "metadata": {},
   "source": [
    "We must remove punctuation, and special characters. Lookint at the list below, perhaps remove phone numbers, any numbers, hyphens? \n",
    "I can also create my own parser? \n",
    "Read about [Spacy](https://spacy.io/usage/spacy-101#features)."
   ]
  },
  {
   "cell_type": "code",
   "execution_count": null,
   "id": "16f61303-e784-4713-9e99-cb2a13fffe76",
   "metadata": {},
   "outputs": [],
   "source": [
    "words"
   ]
  },
  {
   "cell_type": "code",
   "execution_count": null,
   "id": "dc0297b1-9471-42d6-9223-25eb5221218d",
   "metadata": {},
   "outputs": [],
   "source": [
    "for w in words:\n",
    "    print(w)"
   ]
  },
  {
   "cell_type": "code",
   "execution_count": null,
   "id": "75461931-8be3-401f-a379-0dc05d52209c",
   "metadata": {},
   "outputs": [],
   "source": [
    "for ent in words.ents:\n",
    "    print(ent, \",,\", ent.text, ent.start_char, ent.end_char, ent.label_)"
   ]
  },
  {
   "cell_type": "code",
   "execution_count": null,
   "id": "cdfc1e34-5edb-45b6-beef-be1aa1123070",
   "metadata": {},
   "outputs": [],
   "source": []
  }
 ],
 "metadata": {
  "kernelspec": {
   "display_name": "Python 3",
   "language": "python",
   "name": "python3"
  },
  "language_info": {
   "codemirror_mode": {
    "name": "ipython",
    "version": 3
   },
   "file_extension": ".py",
   "mimetype": "text/x-python",
   "name": "python",
   "nbconvert_exporter": "python",
   "pygments_lexer": "ipython3",
   "version": "3.8.8"
  },
  "widgets": {
   "application/vnd.jupyter.widget-state+json": {
    "state": {},
    "version_major": 2,
    "version_minor": 0
   }
  }
 },
 "nbformat": 4,
 "nbformat_minor": 5
}
