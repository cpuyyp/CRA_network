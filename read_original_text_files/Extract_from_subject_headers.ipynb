{
 "cells": [
  {
   "cell_type": "markdown",
   "id": "06202422-5196-48cc-b5ad-999baea2864c",
   "metadata": {},
   "source": [
    "# Extract From and Subject Headers and list them in order of appearance\n",
    "## 2022-01-25"
   ]
  },
  {
   "cell_type": "code",
   "execution_count": 1,
   "id": "9fcf3a20-88b7-4e05-9493-08331df2190c",
   "metadata": {},
   "outputs": [],
   "source": [
    "import numpy as np\n",
    "import pandas as pd\n",
    "import os, re\n",
    "from datetime import datetime\n",
    "from glob import glob\n",
    "from tqdm.notebook import tqdm, tnrange"
   ]
  },
  {
   "cell_type": "code",
   "execution_count": 13,
   "id": "31d1be4d-7266-422f-b22b-b484cc31a674",
   "metadata": {},
   "outputs": [
    {
     "data": {
      "text/plain": [
       "122"
      ]
     },
     "execution_count": 13,
     "metadata": {},
     "output_type": "execute_result"
    }
   ],
   "source": [
    "inputpath=\"./email_txt/downloaded_from_data_tallahassee/\"\n",
    "# inputpath=\"./test_output/\"\n",
    "# inputpath=\"./23-11/\"\n",
    "files = glob(inputpath + \"*.txt\")\n",
    "len(files)"
   ]
  },
  {
   "cell_type": "code",
   "execution_count": 21,
   "id": "4c6297e2-7c6e-4334-aeb1-77c2a3bd0858",
   "metadata": {
    "tags": []
   },
   "outputs": [
    {
     "data": {
      "application/vnd.jupyter.widget-view+json": {
       "model_id": "a7e39cc0561b4e95b891cda6faa323ee",
       "version_major": 2,
       "version_minor": 0
      },
      "text/plain": [
       "  0%|          | 0/122 [00:00<?, ?it/s]"
      ]
     },
     "metadata": {},
     "output_type": "display_data"
    }
   ],
   "source": [
    "files_dict = {}\n",
    "lines = []\n",
    "count = 0\n",
    "\n",
    "for file in tqdm(files[:]):\n",
    "    lines.append(\"==================== file: %s\" % file)\n",
    "    with open(file, \"r\") as f:\n",
    "        files_dict[file] = f.read().splitlines(); # \\n removed\n",
    "        append_line = False\n",
    "        for line_no, line in enumerate(files_dict[file]):\n",
    "            if (re.search(f\"(From:|Subject:|isAutoMessage:)\", line)): \n",
    "                full_line = f\"{line_no}, {file},  ===> , {line}\"\n",
    "                lines.append(full_line)\n",
    "                count += 1"
   ]
  },
  {
   "cell_type": "code",
   "execution_count": 17,
   "id": "c87f4c73-9d54-4579-a275-7c6231e7b287",
   "metadata": {
    "tags": []
   },
   "outputs": [
    {
     "name": "stdout",
     "output_type": "stream",
     "text": [
      "count:  145450\n",
      "==================== file: ./email_txt/downloaded_from_data_tallahassee/23-11-PCSgmail2014-2017.txt\n",
      "0, ./email_txt/downloaded_from_data_tallahassee/23-11-PCSgmail2014-2017.txt,  ===> , From: Bowen, Dan\n",
      "4, ./email_txt/downloaded_from_data_tallahassee/23-11-PCSgmail2014-2017.txt,  ===> , Subject: 902 NORTH ADAMS ST\n",
      "26, ./email_txt/downloaded_from_data_tallahassee/23-11-PCSgmail2014-2017.txt,  ===> ,  From: Bowen, Dan\n",
      "30, ./email_txt/downloaded_from_data_tallahassee/23-11-PCSgmail2014-2017.txt,  ===> , Subject: maddox building\n"
     ]
    }
   ],
   "source": [
    "print(\"count: \", count)\n",
    "for l in lines[0:5]:\n",
    "    print(l)"
   ]
  },
  {
   "cell_type": "code",
   "execution_count": 22,
   "id": "c6d81562-49bc-4534-9be7-ea8d80a7a84d",
   "metadata": {},
   "outputs": [],
   "source": [
    "np.savetxt(\"subject_headers_automsg.txt\", lines, fmt=\"%s\")"
   ]
  },
  {
   "cell_type": "markdown",
   "id": "22709bef-ab28-44ac-9873-933cccc0ffd6",
   "metadata": {},
   "source": [
    "### Save Sent: Headers to a file"
   ]
  }
 ],
 "metadata": {
  "kernelspec": {
   "display_name": "Python 3 (ipykernel)",
   "language": "python",
   "name": "python3"
  },
  "language_info": {
   "codemirror_mode": {
    "name": "ipython",
    "version": 3
   },
   "file_extension": ".py",
   "mimetype": "text/x-python",
   "name": "python",
   "nbconvert_exporter": "python",
   "pygments_lexer": "ipython3",
   "version": "3.8.12"
  },
  "widgets": {
   "application/vnd.jupyter.widget-state+json": {
    "state": {},
    "version_major": 2,
    "version_minor": 0
   }
  }
 },
 "nbformat": 4,
 "nbformat_minor": 5
}
