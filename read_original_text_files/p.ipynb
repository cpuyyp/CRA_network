{
 "cells": [
  {
   "cell_type": "code",
   "execution_count": 100,
   "metadata": {
    "tags": []
   },
   "outputs": [
    {
     "name": "stdout",
     "output_type": "stream",
     "text": [
      "The autoreload extension is already loaded. To reload it, use:\n",
      "  %reload_ext autoreload\n"
     ]
    }
   ],
   "source": [
    "%load_ext autoreload\n",
    "%autoreload 2\n",
    "\n",
    "import os\n",
    "import io\n",
    "import sys\n",
    "import re\n",
    "import csv\n",
    "import pandas as pd\n",
    "from tqdm import tqdm_notebook, tnrange, notebook\n",
    "from datetime import datetime\n",
    "import function_library3 as fctlib3"
   ]
  },
  {
   "cell_type": "code",
   "execution_count": 103,
   "metadata": {
    "tags": []
   },
   "outputs": [],
   "source": [
    "re_From = re.compile(r'^\\s?From\\:\\s?(.*)')\n",
    "re_From2 = re.compile(r'^F.S. 119.071 - Security .*From\\:\\s(.*)')\n",
    "re_Sent = re.compile(r'^Sent\\:\\s?(.*)')\n",
    "re_Sent2 = re.compile(r'^Date\\:\\s?(.*)')\n",
    "re_To = re.compile(r'^To\\:\\s?(.*)')\n",
    "re_CC = re.compile(r'^C[Cc]\\:\\s?(.*)')\n",
    "re_Subject = re.compile(r'^Sub\\s?j\\s?ect\\:\\s?(.*)')\n",
    "re_Subject2 = re.compile(r'^Title\\:\\s?(.*)')\n",
    "re_Attachments = re.compile(r'^Attachments\\:\\s?(.*)')\n",
    "re_Importance = re.compile(r'Importance\\:\\s?(.*)')\n",
    "\n",
    "re_page = re.compile(r'^Page\\s\\d+$')\n",
    "re_page2 = re.compile(r'^Page\\s\\d+\\sof\\s\\d+$')\n",
    "re_page3 = re.compile(r'^\\d+\\-\\d+$')\n",
    "\n",
    "re_tail = re.compile(r'^Sent\\sfrom\\s.*\\siPad')\n",
    "re_tail2 = re.compile(r'^Sent\\sfrom\\s.*\\siPhone')\n",
    "re_tail3 = re.compile(r'^On\\s\\w+\\,\\s\\w+\\swrote\\:')\n",
    "re_tail4 = re.compile(r'^On\\s.+\\,\\s[0-9]{4},\\sat\\s.+\\,.+')\n",
    "re_tail5 = re.compile(r'^Begin\\sforwarded\\smessage\\:')\n",
    "\n",
    "tails = ['Sent from my iPhone',\n",
    "         \"Sent from Paige's iPad\",\n",
    "        'On \\w+\\, \\w+ wrote:',\n",
    "        'Text messages of Karen Jumonville To/From Adam Corey',\n",
    "         'On Jun 1, 2013, at 8:21 AM, \"Favors Thompson, Anita\"',\n",
    "        'Begin forwarded message:']\n",
    "\n",
    "re_lowercase = re.compile(r'^[a-z].*')"
   ]
  },
  {
   "cell_type": "code",
   "execution_count": 104,
   "metadata": {
    "tags": []
   },
   "outputs": [
    {
     "data": {
      "text/plain": [
       "['Begin forwarded message:']"
      ]
     },
     "execution_count": 104,
     "metadata": {},
     "output_type": "execute_result"
    }
   ],
   "source": [
    "# test\n",
    "re_tail3.findall(\"Sent from K's iPhone\")\n",
    "re_tail5.findall(tails[5])"
   ]
  },
  {
   "cell_type": "code",
   "execution_count": 105,
   "metadata": {
    "tags": []
   },
   "outputs": [],
   "source": [
    "# test\n",
    "# correct_line('./unredacted_split_txt/66012.txt')"
   ]
  },
  {
   "cell_type": "code",
   "execution_count": 106,
   "metadata": {
    "tags": []
   },
   "outputs": [],
   "source": [
    "def get_headers(inputpath, outputpath='', file_name='x'): \n",
    "    dictionary = {}\n",
    "\n",
    "    with open(inputpath, 'r',encoding='utf8') as f:\n",
    "        list_from = []\n",
    "        list_sent = []\n",
    "        list_to = []\n",
    "        list_cc = []\n",
    "        list_subject = []\n",
    "        list_attachments = []\n",
    "        list_body = []\n",
    "        list_importance = []\n",
    "        for line in f.readlines():\n",
    "            #\\f is a special character (dot)\n",
    "            line = re.sub('\\f', '', line)\n",
    "            line = line.strip()\n",
    "            if re_From.match(line):\n",
    "                list_from.append(re_From.findall(line)[0])\n",
    "            elif re_Sent.match(line) or re_Sent2.match(line):\n",
    "                if re_Sent.match(line):\n",
    "                    list_sent.append(re_Sent.findall(line)[0])\n",
    "                else:\n",
    "                    list_sent.append(re_Sent2.findall(line)[0])\n",
    "\n",
    "            elif re_To.match(line):\n",
    "                list_to.append(re_To.findall(line)[0])\n",
    "            elif re_CC.match(line):\n",
    "                list_cc.append(re_CC.findall(line)[0])\n",
    "            elif re_Subject.match(line) or re_Subject2.match(line):\n",
    "                if re_Subject.match(line):\n",
    "                    list_subject.append(re_Subject.findall(line)[0])\n",
    "                else:\n",
    "                    list_subject.append(re_Subject2.findall(line)[0])\n",
    "\n",
    "            elif re_Attachments.match(line):\n",
    "                list_attachments.append(re_Attachments.findall(line)[0])\n",
    "            elif re_Importance.match(line):\n",
    "                list_importance.append(re_Importance.findall(line)[0])\n",
    "            else:\n",
    "                # state what this does.\n",
    "                line = re.sub('[^A-Za-z0-9\\s\\(\\)\\/\\\\\\&\\?\\!\\,\\.\\-\\@\\<\\>\\:\\+\\%\\;]', '', line)\n",
    "                list_body.append(line)\n",
    "                \n",
    "    # print(\"file_name: \", file_name)\n",
    "    splits = file_name.split(\"_\")\n",
    "    Id = splits[0][3:]\n",
    "    name = splits[1][3:]\n",
    "    line_no = splits[2][3:-3]\n",
    "    # print(f\"Id: {Id}, name: {name}, line_no: {line_no}\")\n",
    "    dictionary['Id'] = Id # file name is id.txt\n",
    "    dictionary['From'] = list_from\n",
    "    dictionary['Sent'] = list_sent\n",
    "    dictionary['To'] = list_to\n",
    "    dictionary['CC'] = list_cc\n",
    "    dictionary['Subject'] = list_subject\n",
    "    dictionary['Attachments'] = list_attachments\n",
    "    dictionary['Body'] = list_body\n",
    "    dictionary['Importance'] = list_importance\n",
    "    dictionary['FromFile'] = name\n",
    "    dictionary['FileLineNo'] = line_no\n",
    "    \n",
    "\n",
    "    return dictionary"
   ]
  },
  {
   "cell_type": "code",
   "execution_count": 112,
   "metadata": {
    "tags": []
   },
   "outputs": [
    {
     "name": "stderr",
     "output_type": "stream",
     "text": [
      "<ipython-input-112-09404d7d8a3f>:7: TqdmDeprecationWarning: This function will be removed in tqdm==5.0.0\n",
      "Please use `tqdm.notebook.tqdm` instead of `tqdm.tqdm_notebook`\n",
      "  for i, name in enumerate( tqdm_notebook(os.listdir(inputpath))):\n"
     ]
    },
    {
     "data": {
      "application/vnd.jupyter.widget-view+json": {
       "model_id": "6c196bb27c0d4e52a2e902dc5f55af79",
       "version_major": 2,
       "version_minor": 0
      },
      "text/plain": [
       "  0%|          | 0/338 [00:00<?, ?it/s]"
      ]
     },
     "metadata": {},
     "output_type": "display_data"
    },
    {
     "name": "stdout",
     "output_type": "stream",
     "text": [
      "name:  id=167_fn=23-11-PCSgmail2014-2017.txt_ln=10350.txt\n",
      "name:  id=142_fn=23-11-PCSgmail2014-2017.txt_ln=8514.txt\n",
      "name:  id=41_fn=23-11-PCSgmail2014-2017.txt_ln=1840.txt\n",
      "name:  id=256_fn=23-11-PCSgmail2014-2017.txt_ln=16147.txt\n",
      "name:  id=201_fn=23-11-PCSgmail2014-2017.txt_ln=12461.txt\n",
      "name:  id=46_fn=23-11-PCSgmail2014-2017.txt_ln=2048.txt\n",
      "name:  id=244_fn=23-11-PCSgmail2014-2017.txt_ln=15107.txt\n",
      "name:  id=150_fn=23-11-PCSgmail2014-2017.txt_ln=8782.txt\n",
      "name:  id=187_fn=23-11-PCSgmail2014-2017.txt_ln=11794.txt\n",
      "name:  id=218_fn=23-11-PCSgmail2014-2017.txt_ln=12962.txt\n",
      "name:  id=45_fn=23-11-PCSgmail2014-2017.txt_ln=2006.txt\n",
      "name:  id=13_fn=23-11-PCSgmail2014-2017.txt_ln=508.txt\n",
      "name:  id=99_fn=23-11-PCSgmail2014-2017.txt_ln=6064.txt\n",
      "name:  id=320_fn=23-11-PCSgmail2014-2017.txt_ln=21677.txt\n",
      "name:  id=60_fn=23-11-PCSgmail2014-2017.txt_ln=4944.txt\n",
      "name:  id=329_fn=23-11-PCSgmail2014-2017.txt_ln=22094.txt\n",
      "name:  id=190_fn=23-11-PCSgmail2014-2017.txt_ln=11948.txt\n",
      "name:  id=169_fn=23-11-PCSgmail2014-2017.txt_ln=10460.txt\n",
      "name:  id=34_fn=23-11-PCSgmail2014-2017.txt_ln=1638.txt\n",
      "name:  id=156_fn=23-11-PCSgmail2014-2017.txt_ln=9916.txt\n",
      "name:  id=95_fn=23-11-PCSgmail2014-2017.txt_ln=5940.txt\n",
      "name:  id=227_fn=23-11-PCSgmail2014-2017.txt_ln=13554.txt\n",
      "name:  id=71_fn=23-11-PCSgmail2014-2017.txt_ln=5249.txt\n",
      "name:  id=56_fn=23-11-PCSgmail2014-2017.txt_ln=4871.txt\n",
      "name:  id=309_fn=23-11-PCSgmail2014-2017.txt_ln=18392.txt\n",
      "name:  id=189_fn=23-11-PCSgmail2014-2017.txt_ln=11884.txt\n",
      "name:  id=280_fn=23-11-PCSgmail2014-2017.txt_ln=17188.txt\n",
      "name:  id=331_fn=23-11-PCSgmail2014-2017.txt_ln=22122.txt\n",
      "name:  id=255_fn=23-11-PCSgmail2014-2017.txt_ln=16068.txt\n",
      "name:  id=154_fn=23-11-PCSgmail2014-2017.txt_ln=9090.txt\n",
      "name:  id=184_fn=23-11-PCSgmail2014-2017.txt_ln=11645.txt\n",
      "name:  id=230_fn=23-11-PCSgmail2014-2017.txt_ln=13631.txt\n",
      "name:  id=35_fn=23-11-PCSgmail2014-2017.txt_ln=1672.txt\n",
      "name:  id=246_fn=23-11-PCSgmail2014-2017.txt_ln=15136.txt\n",
      "name:  id=98_fn=23-11-PCSgmail2014-2017.txt_ln=6014.txt\n",
      "name:  id=308_fn=23-11-PCSgmail2014-2017.txt_ln=18307.txt\n",
      "name:  id=177_fn=23-11-PCSgmail2014-2017.txt_ln=11278.txt\n",
      "name:  id=211_fn=23-11-PCSgmail2014-2017.txt_ln=12737.txt\n",
      "name:  id=2_fn=23-11-PCSgmail2014-2017.txt_ln=81.txt\n",
      "name:  id=203_fn=23-11-PCSgmail2014-2017.txt_ln=12531.txt\n",
      "name:  id=4_fn=23-11-PCSgmail2014-2017.txt_ln=155.txt\n",
      "name:  id=243_fn=23-11-PCSgmail2014-2017.txt_ln=15097.txt\n",
      "name:  id=228_fn=23-11-PCSgmail2014-2017.txt_ln=13581.txt\n",
      "name:  id=173_fn=23-11-PCSgmail2014-2017.txt_ln=10863.txt\n",
      "name:  id=79_fn=23-11-PCSgmail2014-2017.txt_ln=5476.txt\n",
      "name:  id=26_fn=23-11-PCSgmail2014-2017.txt_ln=1326.txt\n",
      "name:  id=282_fn=23-11-PCSgmail2014-2017.txt_ln=17226.txt\n",
      "name:  id=288_fn=23-11-PCSgmail2014-2017.txt_ln=17381.txt\n",
      "name:  id=291_fn=23-11-PCSgmail2014-2017.txt_ln=17463.txt\n",
      "name:  id=145_fn=23-11-PCSgmail2014-2017.txt_ln=8595.txt\n",
      "name:  id=221_fn=23-11-PCSgmail2014-2017.txt_ln=13053.txt\n",
      "name:  id=68_fn=23-11-PCSgmail2014-2017.txt_ln=5081.txt\n",
      "name:  id=131_fn=23-11-PCSgmail2014-2017.txt_ln=7076.txt\n",
      "name:  id=107_fn=23-11-PCSgmail2014-2017.txt_ln=6303.txt\n",
      "name:  id=140_fn=23-11-PCSgmail2014-2017.txt_ln=7357.txt\n",
      "name:  id=17_fn=23-11-PCSgmail2014-2017.txt_ln=985.txt\n",
      "name:  id=209_fn=23-11-PCSgmail2014-2017.txt_ln=12683.txt\n",
      "name:  id=263_fn=23-11-PCSgmail2014-2017.txt_ln=16739.txt\n",
      "name:  id=162_fn=23-11-PCSgmail2014-2017.txt_ln=10196.txt\n",
      "name:  id=164_fn=23-11-PCSgmail2014-2017.txt_ln=10244.txt\n",
      "name:  id=116_fn=23-11-PCSgmail2014-2017.txt_ln=6657.txt\n",
      "name:  id=238_fn=23-11-PCSgmail2014-2017.txt_ln=14427.txt\n",
      "name:  id=176_fn=23-11-PCSgmail2014-2017.txt_ln=11214.txt\n",
      "name:  id=123_fn=23-11-PCSgmail2014-2017.txt_ln=6855.txt\n",
      "name:  id=62_fn=23-11-PCSgmail2014-2017.txt_ln=4992.txt\n",
      "name:  id=76_fn=23-11-PCSgmail2014-2017.txt_ln=5419.txt\n",
      "name:  id=122_fn=23-11-PCSgmail2014-2017.txt_ln=6823.txt\n",
      "name:  id=148_fn=23-11-PCSgmail2014-2017.txt_ln=8702.txt\n",
      "name:  id=306_fn=23-11-PCSgmail2014-2017.txt_ln=18152.txt\n",
      "name:  id=200_fn=23-11-PCSgmail2014-2017.txt_ln=12422.txt\n",
      "name:  id=125_fn=23-11-PCSgmail2014-2017.txt_ln=6906.txt\n",
      "name:  id=199_fn=23-11-PCSgmail2014-2017.txt_ln=12412.txt\n",
      "name:  id=38_fn=23-11-PCSgmail2014-2017.txt_ln=1755.txt\n",
      "name:  id=179_fn=23-11-PCSgmail2014-2017.txt_ln=11398.txt\n",
      "name:  id=44_fn=23-11-PCSgmail2014-2017.txt_ln=1964.txt\n",
      "name:  id=311_fn=23-11-PCSgmail2014-2017.txt_ln=20554.txt\n",
      "name:  id=168_fn=23-11-PCSgmail2014-2017.txt_ln=10408.txt\n",
      "name:  id=85_fn=23-11-PCSgmail2014-2017.txt_ln=5653.txt\n",
      "name:  id=58_fn=23-11-PCSgmail2014-2017.txt_ln=4919.txt\n",
      "name:  id=302_fn=23-11-PCSgmail2014-2017.txt_ln=18088.txt\n",
      "name:  id=49_fn=23-11-PCSgmail2014-2017.txt_ln=4741.txt\n",
      "name:  id=321_fn=23-11-PCSgmail2014-2017.txt_ln=21691.txt\n",
      "name:  id=269_fn=23-11-PCSgmail2014-2017.txt_ln=16968.txt\n",
      "name:  id=298_fn=23-11-PCSgmail2014-2017.txt_ln=17664.txt\n",
      "name:  id=245_fn=23-11-PCSgmail2014-2017.txt_ln=15122.txt\n",
      "name:  id=161_fn=23-11-PCSgmail2014-2017.txt_ln=10142.txt\n",
      "name:  id=232_fn=23-11-PCSgmail2014-2017.txt_ln=13672.txt\n",
      "name:  id=257_fn=23-11-PCSgmail2014-2017.txt_ln=16413.txt\n",
      "name:  id=224_fn=23-11-PCSgmail2014-2017.txt_ln=13141.txt\n",
      "name:  id=64_fn=23-11-PCSgmail2014-2017.txt_ln=5011.txt\n",
      "name:  id=260_fn=23-11-PCSgmail2014-2017.txt_ln=16707.txt\n",
      "name:  id=274_fn=23-11-PCSgmail2014-2017.txt_ln=17056.txt\n",
      "name:  id=47_fn=23-11-PCSgmail2014-2017.txt_ln=2060.txt\n",
      "name:  id=1_fn=23-11-PCSgmail2014-2017.txt_ln=57.txt\n",
      "name:  id=88_fn=23-11-PCSgmail2014-2017.txt_ln=5714.txt\n",
      "name:  id=304_fn=23-11-PCSgmail2014-2017.txt_ln=18116.txt\n",
      "name:  id=103_fn=23-11-PCSgmail2014-2017.txt_ln=6179.txt\n",
      "name:  id=89_fn=23-11-PCSgmail2014-2017.txt_ln=5763.txt\n",
      "name:  id=305_fn=23-11-PCSgmail2014-2017.txt_ln=18145.txt\n",
      "name:  id=147_fn=23-11-PCSgmail2014-2017.txt_ln=8668.txt\n",
      "name:  id=111_fn=23-11-PCSgmail2014-2017.txt_ln=6515.txt\n",
      "name:  id=171_fn=23-11-PCSgmail2014-2017.txt_ln=10629.txt\n",
      "name:  id=287_fn=23-11-PCSgmail2014-2017.txt_ln=17337.txt\n",
      "name:  id=215_fn=23-11-PCSgmail2014-2017.txt_ln=12847.txt\n",
      "name:  id=296_fn=23-11-PCSgmail2014-2017.txt_ln=17578.txt\n",
      "name:  id=185_fn=23-11-PCSgmail2014-2017.txt_ln=11700.txt\n",
      "name:  id=86_fn=23-11-PCSgmail2014-2017.txt_ln=5692.txt\n",
      "name:  id=222_fn=23-11-PCSgmail2014-2017.txt_ln=13078.txt\n",
      "name:  id=146_fn=23-11-PCSgmail2014-2017.txt_ln=8634.txt\n",
      "name:  id=74_fn=23-11-PCSgmail2014-2017.txt_ln=5337.txt\n",
      "name:  id=83_fn=23-11-PCSgmail2014-2017.txt_ln=5599.txt\n",
      "name:  id=195_fn=23-11-PCSgmail2014-2017.txt_ln=12202.txt\n",
      "name:  id=96_fn=23-11-PCSgmail2014-2017.txt_ln=5954.txt\n",
      "name:  id=289_fn=23-11-PCSgmail2014-2017.txt_ln=17415.txt\n",
      "name:  id=204_fn=23-11-PCSgmail2014-2017.txt_ln=12566.txt\n",
      "name:  id=160_fn=23-11-PCSgmail2014-2017.txt_ln=10088.txt\n",
      "name:  id=158_fn=23-11-PCSgmail2014-2017.txt_ln=9994.txt\n",
      "name:  id=253_fn=23-11-PCSgmail2014-2017.txt_ln=15993.txt\n",
      "name:  id=90_fn=23-11-PCSgmail2014-2017.txt_ln=5806.txt\n",
      "name:  id=67_fn=23-11-PCSgmail2014-2017.txt_ln=5058.txt\n",
      "name:  id=48_fn=23-11-PCSgmail2014-2017.txt_ln=4724.txt\n",
      "name:  id=159_fn=23-11-PCSgmail2014-2017.txt_ln=10041.txt\n",
      "name:  id=210_fn=23-11-PCSgmail2014-2017.txt_ln=12713.txt\n",
      "name:  id=115_fn=23-11-PCSgmail2014-2017.txt_ln=6645.txt\n",
      "name:  id=81_fn=23-11-PCSgmail2014-2017.txt_ln=5566.txt\n",
      "name:  id=25_fn=23-11-PCSgmail2014-2017.txt_ln=1280.txt\n",
      "name:  id=114_fn=23-11-PCSgmail2014-2017.txt_ln=6633.txt\n",
      "name:  id=240_fn=23-11-PCSgmail2014-2017.txt_ln=14563.txt\n",
      "name:  id=112_fn=23-11-PCSgmail2014-2017.txt_ln=6588.txt\n",
      "name:  id=22_fn=23-11-PCSgmail2014-2017.txt_ln=1158.txt\n",
      "name:  id=30_fn=23-11-PCSgmail2014-2017.txt_ln=1442.txt\n",
      "name:  id=141_fn=23-11-PCSgmail2014-2017.txt_ln=7382.txt\n",
      "name:  id=61_fn=23-11-PCSgmail2014-2017.txt_ln=4956.txt\n",
      "name:  id=315_fn=23-11-PCSgmail2014-2017.txt_ln=21121.txt\n",
      "name:  id=59_fn=23-11-PCSgmail2014-2017.txt_ln=4926.txt\n",
      "name:  id=70_fn=23-11-PCSgmail2014-2017.txt_ln=5113.txt\n",
      "name:  id=219_fn=23-11-PCSgmail2014-2017.txt_ln=12981.txt\n",
      "name:  id=178_fn=23-11-PCSgmail2014-2017.txt_ln=11342.txt\n",
      "name:  id=229_fn=23-11-PCSgmail2014-2017.txt_ln=13612.txt\n",
      "name:  id=193_fn=23-11-PCSgmail2014-2017.txt_ln=12104.txt\n",
      "name:  id=262_fn=23-11-PCSgmail2014-2017.txt_ln=16721.txt\n",
      "name:  id=272_fn=23-11-PCSgmail2014-2017.txt_ln=17021.txt\n",
      "name:  id=21_fn=23-11-PCSgmail2014-2017.txt_ln=1128.txt\n",
      "name:  id=138_fn=23-11-PCSgmail2014-2017.txt_ln=7315.txt\n",
      "name:  id=254_fn=23-11-PCSgmail2014-2017.txt_ln=15998.txt\n",
      "name:  id=264_fn=23-11-PCSgmail2014-2017.txt_ln=16746.txt\n",
      "name:  id=106_fn=23-11-PCSgmail2014-2017.txt_ln=6288.txt\n",
      "name:  id=151_fn=23-11-PCSgmail2014-2017.txt_ln=8816.txt\n",
      "name:  id=310_fn=23-11-PCSgmail2014-2017.txt_ln=18415.txt\n",
      "name:  id=143_fn=23-11-PCSgmail2014-2017.txt_ln=8538.txt\n",
      "name:  id=174_fn=23-11-PCSgmail2014-2017.txt_ln=10980.txt\n",
      "name:  id=314_fn=23-11-PCSgmail2014-2017.txt_ln=20864.txt\n",
      "name:  id=32_fn=23-11-PCSgmail2014-2017.txt_ln=1493.txt\n",
      "name:  id=202_fn=23-11-PCSgmail2014-2017.txt_ln=12477.txt\n",
      "name:  id=39_fn=23-11-PCSgmail2014-2017.txt_ln=1782.txt\n",
      "name:  id=332_fn=23-11-PCSgmail2014-2017.txt_ln=22136.txt\n",
      "name:  id=312_fn=23-11-PCSgmail2014-2017.txt_ln=20615.txt\n",
      "name:  id=12_fn=23-11-PCSgmail2014-2017.txt_ln=429.txt\n",
      "name:  id=290_fn=23-11-PCSgmail2014-2017.txt_ln=17449.txt\n",
      "name:  id=10_fn=23-11-PCSgmail2014-2017.txt_ln=325.txt\n",
      "name:  id=109_fn=23-11-PCSgmail2014-2017.txt_ln=6405.txt\n",
      "name:  id=206_fn=23-11-PCSgmail2014-2017.txt_ln=12615.txt\n",
      "name:  id=75_fn=23-11-PCSgmail2014-2017.txt_ln=5363.txt\n",
      "name:  id=318_fn=23-11-PCSgmail2014-2017.txt_ln=21645.txt\n",
      "name:  id=226_fn=23-11-PCSgmail2014-2017.txt_ln=13208.txt\n",
      "name:  id=170_fn=23-11-PCSgmail2014-2017.txt_ln=10512.txt\n",
      "name:  id=110_fn=23-11-PCSgmail2014-2017.txt_ln=6421.txt\n",
      "name:  id=196_fn=23-11-PCSgmail2014-2017.txt_ln=12269.txt\n",
      "name:  id=80_fn=23-11-PCSgmail2014-2017.txt_ln=5522.txt\n",
      "name:  id=249_fn=23-11-PCSgmail2014-2017.txt_ln=15217.txt\n",
      "name:  id=301_fn=23-11-PCSgmail2014-2017.txt_ln=18069.txt\n",
      "name:  id=242_fn=23-11-PCSgmail2014-2017.txt_ln=15081.txt\n",
      "name:  id=285_fn=23-11-PCSgmail2014-2017.txt_ln=17281.txt\n",
      "name:  id=239_fn=23-11-PCSgmail2014-2017.txt_ln=14546.txt\n",
      "name:  id=328_fn=23-11-PCSgmail2014-2017.txt_ln=21995.txt\n",
      "name:  id=322_fn=23-11-PCSgmail2014-2017.txt_ln=21775.txt\n",
      "name:  id=208_fn=23-11-PCSgmail2014-2017.txt_ln=12657.txt\n",
      "name:  id=258_fn=23-11-PCSgmail2014-2017.txt_ln=16557.txt\n",
      "name:  id=336_fn=23-11-PCSgmail2014-2017.txt_ln=22196.txt\n",
      "name:  id=217_fn=23-11-PCSgmail2014-2017.txt_ln=12930.txt\n",
      "name:  id=163_fn=23-11-PCSgmail2014-2017.txt_ln=10220.txt\n",
      "name:  id=192_fn=23-11-PCSgmail2014-2017.txt_ln=12038.txt\n",
      "name:  id=155_fn=23-11-PCSgmail2014-2017.txt_ln=9503.txt\n",
      "name:  id=93_fn=23-11-PCSgmail2014-2017.txt_ln=5851.txt\n",
      "name:  id=252_fn=23-11-PCSgmail2014-2017.txt_ln=15885.txt\n",
      "name:  id=121_fn=23-11-PCSgmail2014-2017.txt_ln=6785.txt\n",
      "name:  id=235_fn=23-11-PCSgmail2014-2017.txt_ln=13739.txt\n",
      "name:  id=136_fn=23-11-PCSgmail2014-2017.txt_ln=7274.txt\n",
      "name:  id=250_fn=23-11-PCSgmail2014-2017.txt_ln=15253.txt\n",
      "name:  id=8_fn=23-11-PCSgmail2014-2017.txt_ln=290.txt\n",
      "name:  id=50_fn=23-11-PCSgmail2014-2017.txt_ln=4753.txt\n",
      "name:  id=36_fn=23-11-PCSgmail2014-2017.txt_ln=1722.txt\n",
      "name:  id=183_fn=23-11-PCSgmail2014-2017.txt_ln=11592.txt\n",
      "name:  id=100_fn=23-11-PCSgmail2014-2017.txt_ln=6075.txt\n",
      "name:  id=126_fn=23-11-PCSgmail2014-2017.txt_ln=6930.txt\n",
      "name:  id=325_fn=23-11-PCSgmail2014-2017.txt_ln=21813.txt\n",
      "name:  id=180_fn=23-11-PCSgmail2014-2017.txt_ln=11454.txt\n",
      "name:  id=0_fn=23-11-PCSgmail2014-2017.txt_ln=26.txt\n",
      "name:  id=33_fn=23-11-PCSgmail2014-2017.txt_ln=1560.txt\n",
      "name:  id=139_fn=23-11-PCSgmail2014-2017.txt_ln=7340.txt\n",
      "name:  id=198_fn=23-11-PCSgmail2014-2017.txt_ln=12367.txt\n",
      "name:  id=144_fn=23-11-PCSgmail2014-2017.txt_ln=8562.txt\n",
      "name:  id=72_fn=23-11-PCSgmail2014-2017.txt_ln=5268.txt\n",
      "name:  id=153_fn=23-11-PCSgmail2014-2017.txt_ln=9050.txt\n",
      "name:  id=307_fn=23-11-PCSgmail2014-2017.txt_ln=18223.txt\n",
      "name:  id=9_fn=23-11-PCSgmail2014-2017.txt_ln=309.txt\n",
      "name:  id=28_fn=23-11-PCSgmail2014-2017.txt_ln=1381.txt\n",
      "name:  id=236_fn=23-11-PCSgmail2014-2017.txt_ln=14368.txt\n",
      "name:  id=299_fn=23-11-PCSgmail2014-2017.txt_ln=18046.txt\n",
      "name:  id=188_fn=23-11-PCSgmail2014-2017.txt_ln=11852.txt\n",
      "name:  id=57_fn=23-11-PCSgmail2014-2017.txt_ln=4883.txt\n",
      "name:  id=152_fn=23-11-PCSgmail2014-2017.txt_ln=8933.txt\n",
      "name:  id=63_fn=23-11-PCSgmail2014-2017.txt_ln=4999.txt\n",
      "name:  id=14_fn=23-11-PCSgmail2014-2017.txt_ln=601.txt\n",
      "name:  id=124_fn=23-11-PCSgmail2014-2017.txt_ln=6893.txt\n",
      "name:  id=267_fn=23-11-PCSgmail2014-2017.txt_ln=16933.txt\n",
      "name:  id=133_fn=23-11-PCSgmail2014-2017.txt_ln=7153.txt\n",
      "name:  id=37_fn=23-11-PCSgmail2014-2017.txt_ln=1744.txt\n",
      "name:  id=213_fn=23-11-PCSgmail2014-2017.txt_ln=12797.txt\n",
      "name:  id=135_fn=23-11-PCSgmail2014-2017.txt_ln=7229.txt\n",
      "name:  id=214_fn=23-11-PCSgmail2014-2017.txt_ln=12827.txt\n",
      "name:  id=327_fn=23-11-PCSgmail2014-2017.txt_ln=21981.txt\n",
      "name:  id=281_fn=23-11-PCSgmail2014-2017.txt_ln=17203.txt\n",
      "name:  id=55_fn=23-11-PCSgmail2014-2017.txt_ln=4853.txt\n",
      "name:  id=127_fn=23-11-PCSgmail2014-2017.txt_ln=6954.txt\n",
      "name:  id=3_fn=23-11-PCSgmail2014-2017.txt_ln=113.txt\n",
      "name:  id=251_fn=23-11-PCSgmail2014-2017.txt_ln=15777.txt\n",
      "name:  id=69_fn=23-11-PCSgmail2014-2017.txt_ln=5101.txt\n",
      "name:  id=24_fn=23-11-PCSgmail2014-2017.txt_ln=1217.txt\n",
      "name:  id=132_fn=23-11-PCSgmail2014-2017.txt_ln=7091.txt\n",
      "name:  id=303_fn=23-11-PCSgmail2014-2017.txt_ln=18107.txt\n",
      "name:  id=52_fn=23-11-PCSgmail2014-2017.txt_ln=4802.txt\n",
      "name:  id=294_fn=23-11-PCSgmail2014-2017.txt_ln=17541.txt\n",
      "name:  id=78_fn=23-11-PCSgmail2014-2017.txt_ln=5469.txt\n",
      "name:  id=330_fn=23-11-PCSgmail2014-2017.txt_ln=22108.txt\n",
      "name:  id=316_fn=23-11-PCSgmail2014-2017.txt_ln=21173.txt\n",
      "name:  id=278_fn=23-11-PCSgmail2014-2017.txt_ln=17158.txt\n",
      "name:  id=27_fn=23-11-PCSgmail2014-2017.txt_ln=1339.txt\n",
      "name:  id=292_fn=23-11-PCSgmail2014-2017.txt_ln=17490.txt\n",
      "name:  id=119_fn=23-11-PCSgmail2014-2017.txt_ln=6724.txt\n",
      "name:  id=334_fn=23-11-PCSgmail2014-2017.txt_ln=22164.txt\n",
      "name:  id=276_fn=23-11-PCSgmail2014-2017.txt_ln=17124.txt\n",
      "name:  id=333_fn=23-11-PCSgmail2014-2017.txt_ln=22150.txt\n",
      "name:  id=117_fn=23-11-PCSgmail2014-2017.txt_ln=6688.txt\n",
      "name:  id=165_fn=23-11-PCSgmail2014-2017.txt_ln=10268.txt\n",
      "name:  id=42_fn=23-11-PCSgmail2014-2017.txt_ln=1874.txt\n",
      "name:  id=15_fn=23-11-PCSgmail2014-2017.txt_ln=713.txt\n",
      "name:  id=186_fn=23-11-PCSgmail2014-2017.txt_ln=11730.txt\n",
      "name:  id=270_fn=23-11-PCSgmail2014-2017.txt_ln=16986.txt\n",
      "name:  id=108_fn=23-11-PCSgmail2014-2017.txt_ln=6388.txt\n",
      "name:  id=233_fn=23-11-PCSgmail2014-2017.txt_ln=13703.txt\n",
      "name:  id=324_fn=23-11-PCSgmail2014-2017.txt_ln=21799.txt\n",
      "name:  id=337_fn=23-11-PCSgmail2014-2017.txt_ln=22210.txt\n",
      "name:  id=335_fn=23-11-PCSgmail2014-2017.txt_ln=22178.txt\n",
      "name:  id=40_fn=23-11-PCSgmail2014-2017.txt_ln=1816.txt\n",
      "name:  id=265_fn=23-11-PCSgmail2014-2017.txt_ln=16752.txt\n",
      "name:  id=277_fn=23-11-PCSgmail2014-2017.txt_ln=17138.txt\n",
      "name:  id=104_fn=23-11-PCSgmail2014-2017.txt_ln=6194.txt\n",
      "name:  id=194_fn=23-11-PCSgmail2014-2017.txt_ln=12163.txt\n",
      "name:  id=286_fn=23-11-PCSgmail2014-2017.txt_ln=17293.txt\n",
      "name:  id=94_fn=23-11-PCSgmail2014-2017.txt_ln=5900.txt\n",
      "name:  id=275_fn=23-11-PCSgmail2014-2017.txt_ln=17090.txt\n",
      "name:  id=23_fn=23-11-PCSgmail2014-2017.txt_ln=1194.txt\n",
      "name:  id=7_fn=23-11-PCSgmail2014-2017.txt_ln=279.txt\n",
      "name:  id=234_fn=23-11-PCSgmail2014-2017.txt_ln=13722.txt\n",
      "name:  id=181_fn=23-11-PCSgmail2014-2017.txt_ln=11507.txt\n",
      "name:  id=297_fn=23-11-PCSgmail2014-2017.txt_ln=17621.txt\n",
      "name:  id=293_fn=23-11-PCSgmail2014-2017.txt_ln=17512.txt\n",
      "name:  id=130_fn=23-11-PCSgmail2014-2017.txt_ln=7018.txt\n",
      "name:  id=313_fn=23-11-PCSgmail2014-2017.txt_ln=20817.txt\n",
      "name:  id=87_fn=23-11-PCSgmail2014-2017.txt_ln=5706.txt\n",
      "name:  id=182_fn=23-11-PCSgmail2014-2017.txt_ln=11562.txt\n",
      "name:  id=101_fn=23-11-PCSgmail2014-2017.txt_ln=6089.txt\n",
      "name:  id=268_fn=23-11-PCSgmail2014-2017.txt_ln=16950.txt\n",
      "name:  id=73_fn=23-11-PCSgmail2014-2017.txt_ln=5286.txt\n",
      "name:  id=31_fn=23-11-PCSgmail2014-2017.txt_ln=1473.txt\n",
      "name:  id=284_fn=23-11-PCSgmail2014-2017.txt_ln=17258.txt\n",
      "name:  id=172_fn=23-11-PCSgmail2014-2017.txt_ln=10746.txt\n",
      "name:  id=175_fn=23-11-PCSgmail2014-2017.txt_ln=11097.txt\n",
      "name:  id=273_fn=23-11-PCSgmail2014-2017.txt_ln=17036.txt\n",
      "name:  id=82_fn=23-11-PCSgmail2014-2017.txt_ln=5585.txt\n",
      "name:  id=65_fn=23-11-PCSgmail2014-2017.txt_ln=5026.txt\n",
      "name:  id=120_fn=23-11-PCSgmail2014-2017.txt_ln=6753.txt\n",
      "name:  id=5_fn=23-11-PCSgmail2014-2017.txt_ln=205.txt\n",
      "name:  id=43_fn=23-11-PCSgmail2014-2017.txt_ln=1907.txt\n",
      "name:  id=51_fn=23-11-PCSgmail2014-2017.txt_ln=4785.txt\n",
      "name:  id=29_fn=23-11-PCSgmail2014-2017.txt_ln=1421.txt\n",
      "name:  id=134_fn=23-11-PCSgmail2014-2017.txt_ln=7170.txt\n",
      "name:  id=319_fn=23-11-PCSgmail2014-2017.txt_ln=21663.txt\n",
      "name:  id=19_fn=23-11-PCSgmail2014-2017.txt_ln=1055.txt\n",
      "name:  id=271_fn=23-11-PCSgmail2014-2017.txt_ln=17001.txt\n",
      "name:  id=261_fn=23-11-PCSgmail2014-2017.txt_ln=16715.txt\n",
      "name:  id=102_fn=23-11-PCSgmail2014-2017.txt_ln=6173.txt\n",
      "name:  id=323_fn=23-11-PCSgmail2014-2017.txt_ln=21787.txt\n",
      "name:  id=248_fn=23-11-PCSgmail2014-2017.txt_ln=15185.txt\n",
      "name:  id=66_fn=23-11-PCSgmail2014-2017.txt_ln=5041.txt\n",
      "name:  id=157_fn=23-11-PCSgmail2014-2017.txt_ln=9955.txt\n",
      "name:  id=223_fn=23-11-PCSgmail2014-2017.txt_ln=13119.txt\n",
      "name:  id=220_fn=23-11-PCSgmail2014-2017.txt_ln=13008.txt\n",
      "name:  id=212_fn=23-11-PCSgmail2014-2017.txt_ln=12767.txt\n",
      "name:  id=84_fn=23-11-PCSgmail2014-2017.txt_ln=5607.txt\n",
      "name:  id=266_fn=23-11-PCSgmail2014-2017.txt_ln=16916.txt\n",
      "name:  id=97_fn=23-11-PCSgmail2014-2017.txt_ln=5961.txt\n",
      "name:  id=205_fn=23-11-PCSgmail2014-2017.txt_ln=12588.txt\n",
      "name:  id=241_fn=23-11-PCSgmail2014-2017.txt_ln=14822.txt\n",
      "name:  id=77_fn=23-11-PCSgmail2014-2017.txt_ln=5459.txt\n",
      "name:  id=149_fn=23-11-PCSgmail2014-2017.txt_ln=8742.txt\n",
      "name:  id=16_fn=23-11-PCSgmail2014-2017.txt_ln=966.txt\n",
      "name:  id=113_fn=23-11-PCSgmail2014-2017.txt_ln=6595.txt\n",
      "name:  id=53_fn=23-11-PCSgmail2014-2017.txt_ln=4814.txt\n",
      "name:  id=18_fn=23-11-PCSgmail2014-2017.txt_ln=1027.txt\n",
      "name:  id=166_fn=23-11-PCSgmail2014-2017.txt_ln=10292.txt\n",
      "name:  id=317_fn=23-11-PCSgmail2014-2017.txt_ln=21627.txt\n",
      "name:  id=247_fn=23-11-PCSgmail2014-2017.txt_ln=15151.txt\n",
      "name:  id=231_fn=23-11-PCSgmail2014-2017.txt_ln=13646.txt\n",
      "name:  id=259_fn=23-11-PCSgmail2014-2017.txt_ln=16563.txt\n",
      "name:  id=6_fn=23-11-PCSgmail2014-2017.txt_ln=255.txt\n",
      "name:  id=91_fn=23-11-PCSgmail2014-2017.txt_ln=5826.txt\n",
      "name:  id=105_fn=23-11-PCSgmail2014-2017.txt_ln=6279.txt\n",
      "name:  id=191_fn=23-11-PCSgmail2014-2017.txt_ln=12006.txt\n",
      "name:  id=216_fn=23-11-PCSgmail2014-2017.txt_ln=12904.txt\n",
      "name:  id=207_fn=23-11-PCSgmail2014-2017.txt_ln=12634.txt\n",
      "name:  id=128_fn=23-11-PCSgmail2014-2017.txt_ln=6973.txt\n",
      "name:  id=237_fn=23-11-PCSgmail2014-2017.txt_ln=14414.txt\n",
      "name:  id=279_fn=23-11-PCSgmail2014-2017.txt_ln=17168.txt\n",
      "name:  id=118_fn=23-11-PCSgmail2014-2017.txt_ln=6719.txt\n",
      "name:  id=11_fn=23-11-PCSgmail2014-2017.txt_ln=341.txt\n",
      "name:  id=295_fn=23-11-PCSgmail2014-2017.txt_ln=17571.txt\n",
      "name:  id=283_fn=23-11-PCSgmail2014-2017.txt_ln=17242.txt\n",
      "name:  id=137_fn=23-11-PCSgmail2014-2017.txt_ln=7298.txt\n",
      "name:  id=129_fn=23-11-PCSgmail2014-2017.txt_ln=7004.txt\n",
      "name:  id=300_fn=23-11-PCSgmail2014-2017.txt_ln=18060.txt\n",
      "name:  id=20_fn=23-11-PCSgmail2014-2017.txt_ln=1083.txt\n",
      "name:  id=225_fn=23-11-PCSgmail2014-2017.txt_ln=13168.txt\n",
      "name:  id=92_fn=23-11-PCSgmail2014-2017.txt_ln=5843.txt\n",
      "name:  id=326_fn=23-11-PCSgmail2014-2017.txt_ln=21967.txt\n",
      "name:  id=54_fn=23-11-PCSgmail2014-2017.txt_ln=4846.txt\n",
      "name:  id=197_fn=23-11-PCSgmail2014-2017.txt_ln=12328.txt\n"
     ]
    },
    {
     "data": {
      "text/plain": [
       "338"
      ]
     },
     "execution_count": 112,
     "metadata": {},
     "output_type": "execute_result"
    }
   ],
   "source": [
    "inputpath = './split_txt/' \n",
    "# inputpath = './redacted_split_txt/' \n",
    "# inputpath = './unredacted_split_txt/' \n",
    "# inputpath = './old_split_txt/' \n",
    "# inputpath = './test_split_txt/' \n",
    "l = []\n",
    "for i, name in enumerate( tqdm_notebook(os.listdir(inputpath))):\n",
    "    if name != '.DS_Store':\n",
    "        print(\"name: \", name)\n",
    "        l.append(get_headers(inputpath+'/'+name, file_name=name))\n",
    "    #if i == 5: break\n",
    "len(l)"
   ]
  },
  {
   "cell_type": "code",
   "execution_count": 50,
   "metadata": {
    "tags": []
   },
   "outputs": [],
   "source": [
    "# It would be easier to create a pandas array and then do  df.write_csv(\"filenm\", index=0)\n",
    "csv_columns = ['Id','From','Sent','To','CC','Subject','Attachments','Importance','Body','FromFile','FileLineNo']\n",
    "with open('./output.csv', 'w',encoding='utf8') as csvfile:\n",
    "# with open('./redacted_output.csv', 'w',encoding='utf8') as csvfile:\n",
    "# with open('./unredacted_output.csv', 'w',encoding='utf8') as csvfile:\n",
    "# with open('./old_output.csv', 'w',encoding='utf8') as csvfile:\n",
    "\n",
    "    writer = csv.DictWriter(csvfile, fieldnames=csv_columns)\n",
    "    writer.writeheader()\n",
    "    for data in l:\n",
    "        writer.writerow(data)"
   ]
  },
  {
   "cell_type": "code",
   "execution_count": 93,
   "metadata": {
    "tags": []
   },
   "outputs": [
    {
     "data": {
      "text/html": [
       "<div>\n",
       "<style scoped>\n",
       "    .dataframe tbody tr th:only-of-type {\n",
       "        vertical-align: middle;\n",
       "    }\n",
       "\n",
       "    .dataframe tbody tr th {\n",
       "        vertical-align: top;\n",
       "    }\n",
       "\n",
       "    .dataframe thead th {\n",
       "        text-align: right;\n",
       "    }\n",
       "</style>\n",
       "<table border=\"1\" class=\"dataframe\">\n",
       "  <thead>\n",
       "    <tr style=\"text-align: right;\">\n",
       "      <th></th>\n",
       "      <th>Id</th>\n",
       "      <th>From</th>\n",
       "      <th>Sent</th>\n",
       "      <th>To</th>\n",
       "      <th>CC</th>\n",
       "      <th>Subject</th>\n",
       "      <th>Attachments</th>\n",
       "      <th>Importance</th>\n",
       "      <th>Body</th>\n",
       "      <th>FromFile</th>\n",
       "      <th>FileLineNo</th>\n",
       "    </tr>\n",
       "  </thead>\n",
       "  <tbody>\n",
       "    <tr>\n",
       "      <th>0</th>\n",
       "      <td>167</td>\n",
       "      <td>['Chris Dudley']</td>\n",
       "      <td>['Monday, June 13, 2016 11:27 AM']</td>\n",
       "      <td>['Paige Carter-Smith']</td>\n",
       "      <td>['Claudia Davant; DIA Scott Dick; Cynthia Tunn...</td>\n",
       "      <td>['Re: TDIA - Board Meeting']</td>\n",
       "      <td>[]</td>\n",
       "      <td>[]</td>\n",
       "      <td>['', 'I will be.']</td>\n",
       "      <td>23-11-PCSgmail2014-2017.txt</td>\n",
       "      <td>10350.0</td>\n",
       "    </tr>\n",
       "    <tr>\n",
       "      <th>1</th>\n",
       "      <td>142</td>\n",
       "      <td>['Elias Mathes TDIA']</td>\n",
       "      <td>['Friday, June 03, 2016 7:12 AM']</td>\n",
       "      <td>['Allison Behrman']</td>\n",
       "      <td>['Paige Carter-Smith']</td>\n",
       "      <td>['TDIA Co-Sponsorship Applications']</td>\n",
       "      <td>['Co-Sponsorship Application_2016 Downtown Get...</td>\n",
       "      <td>[]</td>\n",
       "      <td>['Sundown Summer Concert Series SIGNED.pdf', '...</td>\n",
       "      <td>23-11-PCSgmail2014-2017.txt</td>\n",
       "      <td>8514.0</td>\n",
       "    </tr>\n",
       "    <tr>\n",
       "      <th>2</th>\n",
       "      <td>41</td>\n",
       "      <td>['Mallory Izbicki']</td>\n",
       "      <td>['Thursday, March 19, 2015 11:21 AM']</td>\n",
       "      <td>[\"'Bellamy, Mike (Fire Dept)'; 'Jay Revell'; R...</td>\n",
       "      <td>['Nicola Barnack']</td>\n",
       "      <td>['Oxygen Ball Cocktail Hour Wrap Up']</td>\n",
       "      <td>[]</td>\n",
       "      <td>[]</td>\n",
       "      <td>['Good Morning Celebrities!', 'We are planning...</td>\n",
       "      <td>23-11-PCSgmail2014-2017.txt</td>\n",
       "      <td>1840.0</td>\n",
       "    </tr>\n",
       "    <tr>\n",
       "      <th>3</th>\n",
       "      <td>256</td>\n",
       "      <td>['']</td>\n",
       "      <td>['']</td>\n",
       "      <td>['']</td>\n",
       "      <td>[]</td>\n",
       "      <td>['']</td>\n",
       "      <td>[]</td>\n",
       "      <td>[]</td>\n",
       "      <td>['', 'Paige Carter-Smith &lt;paigecartersmith@gma...</td>\n",
       "      <td>23-11-PCSgmail2014-2017.txt</td>\n",
       "      <td>16147.0</td>\n",
       "    </tr>\n",
       "    <tr>\n",
       "      <th>4</th>\n",
       "      <td>201</td>\n",
       "      <td>['Fran Conaway [mailto:franconaway32312@gmail....</td>\n",
       "      <td>['Sunday, July 24, 2016 8:42 PM', 'Sat, Jul 23...</td>\n",
       "      <td>['Whitaker, Angie; Paigecartersmith@gmail.com'...</td>\n",
       "      <td>[]</td>\n",
       "      <td>[\"Fwd: An Invitation to SeeTallahassee in a Ne...</td>\n",
       "      <td>[]</td>\n",
       "      <td>[]</td>\n",
       "      <td>['&lt;Angie.Whitaker@talgov.com&gt;, Gil.Ziffer@talg...</td>\n",
       "      <td>23-11-PCSgmail2014-2017.txt</td>\n",
       "      <td>12461.0</td>\n",
       "    </tr>\n",
       "  </tbody>\n",
       "</table>\n",
       "</div>"
      ],
      "text/plain": [
       "    Id                                               From  \\\n",
       "0  167                                   ['Chris Dudley']   \n",
       "1  142                              ['Elias Mathes TDIA']   \n",
       "2   41                                ['Mallory Izbicki']   \n",
       "3  256                                               ['']   \n",
       "4  201  ['Fran Conaway [mailto:franconaway32312@gmail....   \n",
       "\n",
       "                                                Sent  \\\n",
       "0                 ['Monday, June 13, 2016 11:27 AM']   \n",
       "1                  ['Friday, June 03, 2016 7:12 AM']   \n",
       "2              ['Thursday, March 19, 2015 11:21 AM']   \n",
       "3                                               ['']   \n",
       "4  ['Sunday, July 24, 2016 8:42 PM', 'Sat, Jul 23...   \n",
       "\n",
       "                                                  To  \\\n",
       "0                             ['Paige Carter-Smith']   \n",
       "1                                ['Allison Behrman']   \n",
       "2  [\"'Bellamy, Mike (Fire Dept)'; 'Jay Revell'; R...   \n",
       "3                                               ['']   \n",
       "4  ['Whitaker, Angie; Paigecartersmith@gmail.com'...   \n",
       "\n",
       "                                                  CC  \\\n",
       "0  ['Claudia Davant; DIA Scott Dick; Cynthia Tunn...   \n",
       "1                             ['Paige Carter-Smith']   \n",
       "2                                 ['Nicola Barnack']   \n",
       "3                                                 []   \n",
       "4                                                 []   \n",
       "\n",
       "                                             Subject  \\\n",
       "0                       ['Re: TDIA - Board Meeting']   \n",
       "1               ['TDIA Co-Sponsorship Applications']   \n",
       "2              ['Oxygen Ball Cocktail Hour Wrap Up']   \n",
       "3                                               ['']   \n",
       "4  [\"Fwd: An Invitation to SeeTallahassee in a Ne...   \n",
       "\n",
       "                                         Attachments Importance  \\\n",
       "0                                                 []         []   \n",
       "1  ['Co-Sponsorship Application_2016 Downtown Get...         []   \n",
       "2                                                 []         []   \n",
       "3                                                 []         []   \n",
       "4                                                 []         []   \n",
       "\n",
       "                                                Body  \\\n",
       "0                                 ['', 'I will be.']   \n",
       "1  ['Sundown Summer Concert Series SIGNED.pdf', '...   \n",
       "2  ['Good Morning Celebrities!', 'We are planning...   \n",
       "3  ['', 'Paige Carter-Smith <paigecartersmith@gma...   \n",
       "4  ['<Angie.Whitaker@talgov.com>, Gil.Ziffer@talg...   \n",
       "\n",
       "                      FromFile  FileLineNo  \n",
       "0  23-11-PCSgmail2014-2017.txt     10350.0  \n",
       "1  23-11-PCSgmail2014-2017.txt      8514.0  \n",
       "2  23-11-PCSgmail2014-2017.txt      1840.0  \n",
       "3  23-11-PCSgmail2014-2017.txt     16147.0  \n",
       "4  23-11-PCSgmail2014-2017.txt     12461.0  "
      ]
     },
     "execution_count": 93,
     "metadata": {},
     "output_type": "execute_result"
    }
   ],
   "source": [
    "df = pd.read_csv('output.csv')\n",
    "# df_redacted = pd.read_csv('redacted_output.csv')\n",
    "# df_unredacted = pd.read_csv('unredacted_output.csv')\n",
    "# df_old = pd.read_csv('old_output.csv')\n",
    "\n",
    "df.head()\n",
    "# df_redacted.head()\n",
    "# df_unredacted.head()\n",
    "# df_old.head()"
   ]
  },
  {
   "cell_type": "code",
   "execution_count": 99,
   "metadata": {
    "collapsed": true,
    "jupyter": {
     "outputs_hidden": true
    },
    "tags": []
   },
   "outputs": [
    {
     "data": {
      "application/vnd.jupyter.widget-view+json": {
       "model_id": "ebb714a189ac41a686ccefe5b7dbbd76",
       "version_major": 2,
       "version_minor": 0
      },
      "text/plain": [
       "  0%|          | 0/338 [00:00<?, ?it/s]"
      ]
     },
     "metadata": {},
     "output_type": "display_data"
    },
    {
     "name": "stdout",
     "output_type": "stream",
     "text": [
      "dt1:   June 13 2016 11:27 AM\n",
      "dt1:   June 03 2016 7:12 AM\n",
      "dt1:   March 19 2015 11:21 AM\n",
      "dt1:  \n",
      "dt1:   July 24 2016 8:42 PM\n",
      "dt1:   March 31 2015 2:01 PM\n",
      "dt1:   October 07 2016 8:21 AM\n",
      "dt1:   June 08 2016 9:56 AM\n",
      "dt1:   July 22 2016 4:58 PM\n",
      "dt1:   July 27 2016 10:43 AM\n",
      "dt1:   March 31 2015 2:01 PM\n",
      "dt1:   October 16 2014 7:53 PM\n",
      "dt1:   September 15 2015 11:20 AM\n",
      "dt1:  \n",
      "dt1:   May 27 2015 1:28 PM\n",
      "dt1:  \n",
      "dt1:   July 22 2016 4:58 PM\n",
      "dt1:   June 13 2016 11:58 AM\n",
      "dt1:   February 18 2015 10:15 AM\n",
      "dt1:   June 09 2016 11:18 PM\n",
      "dt1:   September 15 2015 11:20 AM\n",
      "dt1:   August 02 2016 11:41 AM\n",
      "dt1:  August 1 2015 1:59:26 AM EDT\n",
      "dt1:   May 27 2015 1:28 PM\n",
      "dt1:   April 20 2017 12:26 PM\n",
      "dt1:   June 14 2016 3:43 PM\n",
      "dt1:   January 05 2017 10:56 AM\n",
      "dt1:  \n",
      "dt1:   October 12 2016 2:40 PM\n",
      "dt1:   June 09 2016 11:08 AM\n",
      "dt1:   July 22 2016 3:38 PM\n",
      "dt1:   September 07 2016 7:03 PM\n",
      "dt1:   February 20 2015 9:50 AM\n",
      "dt1:   October 07 2016 10:30 AM\n",
      "dt1:   September 22 2015 12:14 PM Hi Cris \n",
      "dt1:   April 20 2017 5:08 PM\n",
      "dt1:   July 01 2016 12:32 PM\n",
      "dt1:   July 27 2016 12:16 PM\n",
      "dt1:   May 01 2014 4:52 PM\n",
      "dt1:   July 24 2016 8:42 PM\n",
      "dt1:   May 07 2014 9:33 PM\n",
      "dt1:   October 07 2016 8:00 AM\n",
      "dt1:   September 09 2016 10:21 AM\n",
      "dt1:   June 22 2016 2:18 PM\n",
      "dt1:   September 23 2015 1:32 PM\n",
      "dt1:   February 15 2015 5:01 PM\n",
      "dt1:   January 05 2017 10:56 AM\n",
      "dt1:   January 19 2017 10:00 AM\n",
      "dt1:   February 01 2017 3:58 PM\n",
      "dt1:   June 07 2016 10:18 PM\n",
      "dt1:   July 27 2016 10:43 AM\n",
      "dt1:   May 14 2015 11:45 AM\n",
      "dt1:   May 17 2016 4:06 PM\n",
      "dt1:   February 03 2016 2:30 PM\n",
      "dt1:   May 20 2016 1:07 PM\n",
      "dt1:   January 05 2015 3:23 PM\n",
      "dt1:   July 26 2016 10:08 AM\n",
      "dt1:   October 31 2016 12:34 PM\n",
      "dt1:   June 13 2016 10:11 AM\n",
      "dt1:   May 13 2016 5:27 PM\n",
      "dt1:   April 27 2016 11:12 AM\n",
      "dt1:   September 29 2016 8:53 AM\n",
      "dt1:   June 29 2016 9:17 AM\n",
      "dt1:   May 09 2016 2:05 PM\n",
      "dt1:   May 19 2015 3:40 PM\n",
      "dt1:   August 19 2015 1:25 PM\n",
      "dt1:   May 09 2016 8:04 AM\n",
      "dt1:   June 08 2016 7:00 AM\n",
      "dt1:   April 20 2017 1:26 PM\n",
      "dt1:   July 24 2016 10:52 PM\n",
      "dt1:   May 09 2016 12:39 PM\n",
      "dt1:   July 24 2016 8:41 PM\n",
      "dt1:   March 19 2015 1:17 PM\n",
      "dt1:   July 10 2016 2:26 PM\n",
      "dt1:   March 19 2015 11:53 AM\n",
      "dt1:   May 23 2017 6:49 PM\n",
      "dt1:   June 13 2016 11:27 AM\n",
      "dt1:   September 22 2015 12:14 PM Hi Cris \n",
      "dt1:   May 19 2015 3:40 PM\n",
      "dt1:   March 21 2017 10:59 AM\n",
      "dt1:   May 27 2015 1:28 PM\n",
      "dt1:  \n",
      "dt1:   November 30 2016 2:11 PM\n",
      "dt1:   March 13 2017 2:13 PM\n",
      "dt1:   October 07 2016 8:01 AM\n",
      "dt1:   June 13 2016 10:11 AM\n",
      "dt1:   September 09 2016 10:21 AM\n",
      "dt1:   October 17 2016 2:21 PM\n",
      "dt1:   August 01 2016 11:49 AM\n",
      "dt1:  July 15 2015 10:51:06 AM EDT\n",
      "dt1:   October 17 2016 2:33 PM\n",
      "dt1:   November 30 2016 2:10 PM\n",
      "dt1:   May 27 2015 1:23 PM\n",
      "dt1:   April 21 2014 5:28 PM\n",
      "dt1:   September 23 2015 1:32 PM\n",
      "dt1:   March 28 2017 11:22 AM\n",
      "dt1:   February 03 2016 2:32 PM\n",
      "dt1:   September 22 2015 12:14 PM Hi Cris \n",
      "dt1:   March 21 2017 10:59 AM\n",
      "dt1:   June 08 2016 7:00 AM\n",
      "dt1:   February 03 2016 8:41 AM\n",
      "dt1:   June 15 2016 8:44 AM\n",
      "dt1:   January 19 2017 10:00 AM\n",
      "dt1:   August 01 2016 9:16 AM\n",
      "dt1:   March 10 2017 3:40 PM\n",
      "dt1:   July 18 2016 2:39 PM\n",
      "dt1:   September 15 2015 11:20 AM\n",
      "dt1:   August 01 2016 9:43 AM\n",
      "dt1:   June 07 2016 10:32 PM\n",
      "dt1:   July 16 2015 12:49 PM\n",
      "dt1:   September 23 2015 5:55 PM\n",
      "dt1:   June 14 2016 3:43 PM\n",
      "dt1:   September 24 2015 6:42 AM\n",
      "dt1:   January 31 2017 3:18 PM\n",
      "dt1:   July 26 2016 10:07 AM\n",
      "dt1:   June 13 2016 10:01 AM\n",
      "dt1:   June 13 2016 9:53 AM\n",
      "dt1:   October 08 2016 10:41 PM\n",
      "dt1:   September 15 2015 11:20 AM\n",
      "dt1:   July 27 2015 11:16 AM\n",
      "dt1:   May 19 2015 3:40 PM\n",
      "dt1:   June 13 2016 10:01 AM\n",
      "dt1:   July 27 2016 10:43 AM\n",
      "dt1:   April 27 2016 11:12 AM\n",
      "dt1:   September 15 2015 11:20 AM\n",
      "dt1:   February 11 2015 2:27 AM\n",
      "dt1:  April 7 2016 7:34:22 AM EDT\n",
      "dt1:   September 30 2016 11:54 AM\n",
      "dt1:   March 09 2016 4:09 PM\n",
      "dt1:   February 11 2015 11:08 AM\n",
      "dt1:   February 11 2015 11:08 AM\n",
      "dt1:   May 12 2016 5:46 PM\n",
      "dt1:   May 27 2015 1:23 PM\n",
      "dt1:   December 07 2016 10:26 AM\n",
      "dt1:   May 27 2015 1:33 PM\n",
      "dt1:   August 03 2015 9:10 AM\n",
      "dt1:   August 01 2016 9:42 AM\n",
      "dt1:   July 01 2016 12:32 PM\n",
      "dt1:   September 08 2016 11:45 AM\n",
      "dt1:   July 22 2016 5:00 PM\n",
      "dt1:   October 31 2016 12:57 PM\n",
      "dt1:   November 30 2016 2:10 PM\n",
      "dt1:   February 11 2015 12:44 PM\n",
      "dt1:   May 20 2016 1:07 PM\n",
      "dt1:   October 13 2016 3:34 PM\n",
      "dt1:   November 07 2016 3:33 PM\n",
      "dt1:   February 15 2016 4:59 PM\n",
      "dt1:   June 09 2016 10:05 AM\n",
      "dt1:   May 02 2017 9:16 AM\n",
      "dt1:   June 07 2016 10:08 PM\n",
      "dt1:   June 22 2016 2:18 PM\n",
      "dt1:   December 07 2016 10:26 AM\n",
      "dt1:   February 11 2015 9:26 AM\n",
      "dt1:   July 24 2016 10:57 PM\n",
      "dt1:   19 Mar 2015 15:20:50 +0000\n",
      "dt1:  \n",
      "dt1:   December 19 2016 5:19 PM\n",
      "dt1:   June 16 2014 4:06 PM\n",
      "dt1:   January 31 2017 3:18 PM\n",
      "dt1:   June 03 2014 1:36 PM\n",
      "dt1:   February 16 2016 10:18 AM\n",
      "dt1:   July 26 2016 10:08 AM\n",
      "dt1:   August 18 2015 6:21 PM\n",
      "dt1:  \n",
      "dt1:   July 27 2016 10:43 AM\n",
      "dt1:   June 13 2016 11:58 AM\n",
      "dt1:   February 03 2016 2:30 PM\n",
      "dt1:   July 22 2016 5:00 PM\n",
      "dt1:   September 22 2015 12:14 PM Hi Cris \n",
      "dt1:   September 09 2016 10:21 AM\n",
      "dt1:   March 28 2017 11:22 AM\n",
      "dt1:   October 07 2016 1:24 PM\n",
      "dt1:   January 10 2017 4:19 PM\n",
      "dt1:   September 28 2016 2:02:34 PM\n",
      "dt1:  \n",
      "dt1:  \n",
      "dt1:   July 26 2016 10:15 AM\n",
      "dt1:   October 17 2016 2:32 PM\n",
      "dt1:  \n",
      "dt1:   August 01 2016 9:19 AM\n",
      "dt1:   June 13 2016 10:12 AM\n",
      "dt1:   June 14 2016 3:43 PM\n",
      "dt1:   June 09 2016 11:18 PM\n",
      "dt1:   September 23 2015 1:32 PM\n",
      "dt1:   October 08 2016 10:41 PM\n",
      "dt1:   May 09 2016 2:05 PM\n",
      "dt1:   September 13 2016 10:01 AM\n",
      "dt1:   May 17 2016 7:57 AM\n",
      "dt1:   September 08 2016 11:45 AM\n",
      "dt1:   June 02 2014 10:20 AM\n",
      "dt1:   May 27 2015 1:23 PM\n",
      "dt1:   February 24 2015 11:59 AM\n",
      "dt1:   June 14 2016 3:43 PM\n",
      "dt1:   September 24 2015 6:42 AM\n",
      "dt1:   May 12 2016 5:46 PM\n",
      "dt1:  \n",
      "dt1:   July 10 2016 2:26 PM\n",
      "dt1:   April 22 2014 3:34 PM\n",
      "dt1:   February 11 2015 2:27 AM\n",
      "dt1:   May 12 2016 5:46 PM\n",
      "dt1:   June 14 2016 3:43 PM\n",
      "dt1:   June 07 2016 10:08 PM\n",
      "dt1:   July 29 2015 2:33 PM\n",
      "dt1:   June 09 2016 10:08 AM\n",
      "dt1:   April 20 2017 12:26 PM\n",
      "dt1:   June 02 2014 11:02 AM\n",
      "dt1:   February 17 2015 2:12 PM\n",
      "dt1:   September 26 2016 10:28 AM\n",
      "dt1:   March 23 2017 12:07 PM\n",
      "dt1:   July 18 2016 2:39 PM\n",
      "dt1:   May 27 2015 1:23 PM\n",
      "dt1:   June 09 2016 10:08 AM\n",
      "dt1:   July 16 2015 7:10 PM\n",
      "dt1:   October 16 2014 10:34 PM\n",
      "dt1:   May 09 2016 8:04 AM\n",
      "dt1:   November 30 2016 2:09 PM\n",
      "dt1:   May 17 2016 4:06 PM\n",
      "dt1:   March 05 2015 4:52 PM\n",
      "dt1:   July 27 2016 12:28 PM\n",
      "dt1:   May 17 2016 4:06 PM\n",
      "dt1:   July 27 2016 10:43 AM\n",
      "dt1:  \n",
      "dt1:   January 06 2017 11:15 AM\n",
      "dt1:   May 27 2015 1:33 PM\n",
      "dt1:   May 12 2016 5:46 PM\n",
      "dt1:   April 21 2014 5:28 PM\n",
      "dt1:   September 07 2016 7:03 PM\n",
      "dt1:   May 14 2015 10:29 AM\n",
      "dt1:   February 11 2015 9:26 AM\n",
      "dt1:   May 17 2016 4:12 PM\n",
      "dt1:   March 29 2017 8:20 AM\n",
      "dt1:   May 27 2015 1:28 PM\n",
      "dt1:   February 24 2017 12:43 PM\n",
      "dt1:   September 23 2015 5:56 PM\n",
      "dt1:  \n",
      "dt1:   May 13 2016 5:27 PM\n",
      "dt1:   January 05 2017 10:55 AM\n",
      "dt1:   February 17 2015 2:12 PM\n",
      "dt1:   February 10 2017 5:05 PM\n",
      "dt1:   May 03 2016 7:54 AM\n",
      "dt1:  \n",
      "dt1:   January 04 2017 11:27 AM\n",
      "dt1:  \n",
      "dt1:   May 02 2016 1:35 PM\n",
      "dt1:   June 13 2016 10:12 AM\n",
      "dt1:   March 19 2015 11:23 AM\n",
      "dt1:   October 16 2014 11:08 PM\n",
      "dt1:   June 14 2016 3:43 PM\n",
      "dt1:   November 30 2016 2:11 PM\n",
      "dt1:   February 03 2016 8:41 AM\n",
      "dt1:   September 08 2016 11:45 AM\n",
      "dt1:  \n",
      "dt1:  \n",
      "dt1:  \n",
      "dt1:   March 19 2015 1:33 PM\n",
      "dt1:   November 07 2016 3:35 PM\n",
      "dt1:   January 05 2017 10:46 AM\n",
      "dt1:   February 03 2016 2:30 PM\n",
      "dt1:   July 18 2016 2:39 PM\n",
      "dt1:   January 11 2017 7:54 AM\n",
      "dt1:   September 22 2015 12:14 PM Hi Cris \n",
      "dt1:   January 04 2017 11:27 AM\n",
      "dt1:   February 11 2015 10:58 AM\n",
      "dt1:   May 15 2014 5:05 PM\n",
      "dt1:   September 07 2016 7:03 PM\n",
      "dt1:   July 22 2016 3:38 PM\n",
      "dt1:   March 13 2017 2:13 PM\n",
      "dt1:   February 10 2017 9:01 AM\n",
      "dt1:   May 13 2016 5:18 PM\n",
      "dt1:  \n",
      "dt1:   September 23 2015 6:07 PM\n",
      "dt1:   July 18 2016 2:39 PM\n",
      "dt1:   February 03 2016 2:30 PM\n",
      "dt1:   November 30 2016 2:09 PM\n",
      "dt1:   July 29 2015 1:51 PM\n",
      "dt1:   February 11 2015 10:58 AM\n",
      "dt1:   January 09 2017 4:00 PM\n",
      "dt1:   June 15 2016 8:44 AM\n",
      "dt1:   June 29 2016 9:17 AM\n",
      "dt1:   November 30 2016 2:41 PM\n",
      "dt1:   September 23 2015 6:08 PM\n",
      "dt1:   July 27 2015 12:15 PM\n",
      "dt1:   May 02 2016 1:35 PM\n",
      "dt1:   May 13 2014 5:13 PM\n",
      "dt1:   March 19 2015 11:30 AM\n",
      "dt1:   May 19 2015 3:40 PM\n",
      "dt1:   February 11 2015 12:44 PM\n",
      "dt1:   May 17 2016 4:25 PM\n",
      "dt1:  \n",
      "dt1:   January 28 2015 12:23 PM\n",
      "dt1:   November 30 2016 2:41 PM\n",
      "dt1:   November 04 2016 3:59 PM\n",
      "dt1:   February 03 2016 8:41 AM\n",
      "dt1:  \n",
      "dt1:   October 08 2016 5:02 PM\n",
      "dt1:  July 27 2015 11:34:52 AM EDT\n",
      "dt1:   June 13 2016 9:53 AM\n",
      "dt1:   July 27 2016 10:43 AM\n",
      "dt1:   August 01 2016 9:20 AM\n",
      "dt1:   July 27 2016 10:43 AM\n",
      "dt1:   September 23 2015 1:32 PM\n",
      "dt1:  \n",
      "dt1:   September 23 2015 1:32 PM\n",
      "dt1:   July 26 2016 10:15 AM\n",
      "dt1:   October 07 2016 1:24 PM\n",
      "dt1:   August 19 2015 11:49 AM\n",
      "dt1:   June 08 2016 9:56 AM\n",
      "dt1:   October 23 2014 1:49 PM\n",
      "dt1:   April 07 2016 8:01 AM\n",
      "dt1:   May 27 2015 1:23 PM\n",
      "dt1:   January 28 2015 9:46 AM\n",
      "dt1:   May 13 2016 5:27 PM\n",
      "dt1:   May 13 2016 5:27 PM\n",
      "dt1:   October 07 2016 8:01 AM\n",
      "dt1:   September 09 2016 10:25 AM\n",
      "dt1:   October 17 2016 3:12 PM\n",
      "dt1:   May 13 2014 5:13 PM\n",
      "dt1:   September 23 2015 8:47 PM\n",
      "dt1:   February 03 2016 8:41 AM\n",
      "dt1:   July 18 2016 2:39 PM\n",
      "dt1:   July 27 2016 10:43 AM\n",
      "dt1:   July 26 2016 10:18 AM\n",
      "dt1:   May 13 2016 3:13 PM\n",
      "dt1:   September 29 2016 12:00 PM\n",
      "dt1:   January 05 2017 12:49 PM\n",
      "dt1:   May 02 2016 1:35 PM\n",
      "dt1:   June 03 2014 1:36 PM\n",
      "dt1:   February 24 2017 12:48 PM\n",
      "dt1:   January 09 2017 4:00 PM\n",
      "dt1:   May 17 2016 10:26 AM\n",
      "dt1:   May 13 2016 1:53 PM\n",
      "dt1:   March 28 2017 2:26 PM\n",
      "dt1:   January 28 2015 12:23 PM\n",
      "dt1:   August 1 2016 9:43 AM\n",
      "dt1:   September 23 2015 5:55 PM\n",
      "dt1:  \n",
      "dt1:   May 19 2015 3:40 PM\n",
      "dt1:   July 18 2016 2:39 PM\n"
     ]
    }
   ],
   "source": [
    "new_dates = fctlib3.process_dates_new(df)"
   ]
  },
  {
   "cell_type": "code",
   "execution_count": 92,
   "metadata": {
    "tags": []
   },
   "outputs": [
    {
     "data": {
      "application/vnd.jupyter.widget-view+json": {
       "model_id": "2e3771e95efc49bf92af0024e0665e8d",
       "version_major": 2,
       "version_minor": 0
      },
      "text/plain": [
       "  0%|          | 0/338 [00:00<?, ?it/s]"
      ]
     },
     "metadata": {},
     "output_type": "display_data"
    },
    {
     "name": "stdout",
     "output_type": "stream",
     "text": [
      "dt:  Tue, September 22, 2015 12:14 PM  Hi Cris,\n",
      "dt1:  , September 22, 2015 12:14 PM  Hi Cris,\n",
      "dt:  Friday, July 22, 2016 3:38 PM\n",
      "dt1:  , July 22, 2016 3:38 PM\n",
      "dt:  Monday, July 18, 2016 2:39 PM\n",
      "dt1:  , July 18, 2016 2:39 PM\n",
      "dt:  Monday, July 18, 2016 2:39 PM\n",
      "dt1:  , July 18, 2016 2:39 PM\n",
      "dt:  Wednesday, July 27, 2016 10:43 AM\n",
      "dt1:  , July 27, 2016 10:43 AM\n",
      "dt:  Monday, July 18, 2016 2:39 PM\n",
      "dt1:  , July 18, 2016 2:39 PM\n",
      "dt:  Sunday, July 10, 2016 2:26 PM\n",
      "dt1:  , July 10, 2016 2:26 PM\n",
      "dt:  Tuesday, July 26, 2016 10:07 AM\n",
      "dt1:  , July 26, 2016 10:07 AM\n",
      "dt:  Monday, August 01, 2016 9:20 AM\n",
      "dt1:  , August 01, 2016 9:20 AM\n",
      "dt:  Friday, July 01, 2016 12:32 PM\n",
      "dt1:  , July 01, 2016 12:32 PM\n",
      "dt:  Sunday, July 24, 2016 10:57 PM\n",
      "dt1:  , July 24, 2016 10:57 PM\n",
      "dt:  Sunday, July 24, 2016 10:52 PM\n",
      "dt1:  , July 24, 2016 10:52 PM\n",
      "dt:  Sunday, July 24, 2016 8:42 PM\n",
      "dt1:  , July 24, 2016 8:42 PM\n",
      "dt:  Sunday, July 24, 2016 8:41 PM\n",
      "dt1:  , July 24, 2016 8:41 PM\n",
      "dt:  Friday, July 22, 2016 5:00 PM\n",
      "dt1:  , July 22, 2016 5:00 PM\n",
      "dt:  Friday, July 22, 2016 5:00 PM\n",
      "dt1:  , July 22, 2016 5:00 PM\n",
      "dt:  Friday, July 22, 2016 4:58 PM\n",
      "dt1:  , July 22, 2016 4:58 PM\n",
      "dt:  Friday, July 22, 2016 4:58 PM\n",
      "dt1:  , July 22, 2016 4:58 PM\n",
      "dt:  Friday, July 22, 2016 3:38 PM\n",
      "dt1:  , July 22, 2016 3:38 PM\n",
      "dt:  Wednesday, June 29, 2016 9:17 AM\n",
      "dt1:  , June 29, 2016 9:17 AM\n",
      "dt:  Monday, July 18, 2016 2:39 PM\n",
      "dt1:  , July 18, 2016 2:39 PM\n",
      "dt:  Tuesday, July 26, 2016 10:08 AM\n",
      "dt1:  , July 26, 2016 10:08 AM\n",
      "dt:  Tuesday, May 17, 2016 4:25 PM\n",
      "dt1:  , May 17, 2016 4:25 PM\n",
      "dt:  Monday, June 13, 2016 10:01 AM\n",
      "dt1:  , June 13, 2016 10:01 AM\n",
      "dt:  Friday, July 01, 2016 12:32 PM\n",
      "dt1:  , July 01, 2016 12:32 PM\n",
      "dt:  Monday, August 01, 2016 9:19 AM\n",
      "dt1:  , August 01, 2016 9:19 AM\n",
      "dt:  Monday, August 01, 2016 9:16 AM\n",
      "dt1:  , August 01, 2016 9:16 AM\n",
      "dt:  Wednesday, July 27, 2016 12:28 PM\n",
      "dt1:  , July 27, 2016 12:28 PM\n",
      "dt:  Wednesday, July 27, 2016 12:16 PM\n",
      "dt1:  , July 27, 2016 12:16 PM\n",
      "dt:  Wednesday, September 07, 2016 7:03 PM\n",
      "dt1:  , September 07, 2016 7:03 PM\n",
      "dt:  Wednesday, February 03, 2016 8:41 AM\n",
      "dt1:  , February 03, 2016 8:41 AM\n",
      "dt:  Monday, February 15, 2016 4:59 PM\n",
      "dt1:  , February 15, 2016 4:59 PM\n",
      "dt:  Wednesday, July 27, 2016 10:43 AM\n",
      "dt1:  , July 27, 2016 10:43 AM\n",
      "dt:  Wednesday, July 27, 2016 10:43 AM\n",
      "dt1:  , July 27, 2016 10:43 AM\n",
      "dt:  Wednesday, July 27, 2016 10:43 AM\n",
      "dt1:  , July 27, 2016 10:43 AM\n",
      "dt:  Wednesday, July 27, 2016 10:43 AM\n",
      "dt1:  , July 27, 2016 10:43 AM\n",
      "dt:  Wednesday, July 27, 2016 10:43 AM\n",
      "dt1:  , July 27, 2016 10:43 AM\n",
      "dt:  Tuesday, July 26, 2016 10:18 AM\n",
      "dt1:  , July 26, 2016 10:18 AM\n",
      "dt:  Tuesday, July 26, 2016 10:15 AM\n",
      "dt1:  , July 26, 2016 10:15 AM\n",
      "dt:  Tuesday, July 26, 2016 10:08 AM\n",
      "dt1:  , July 26, 2016 10:08 AM\n",
      "dt:  Wednesday, September 23, 2015 1:32 PM\n",
      "dt1:  , September 23, 2015 1:32 PM\n",
      "dt:  April 7, 2016 at 7:34:22 AM EDT\n",
      "dt1:  April 7, 2016 at 7:34:22 AM EDT\n",
      "dt:  Monday, June 13, 2016 10:12 AM\n",
      "dt1:  , June 13, 2016 10:12 AM\n",
      "dt:  Wednesday, July 27, 2016 10:43 AM\n",
      "dt1:  , July 27, 2016 10:43 AM\n",
      "dt:  Monday, June 13, 2016 9:53 AM\n",
      "dt1:  , June 13, 2016 9:53 AM\n",
      "dt:  Monday, August 01, 2016 11:49 AM\n",
      "dt1:  , August 01, 2016 11:49 AM\n",
      "dt:  Monday, August 01, 2016 9:42 AM\n",
      "dt1:  , August 01, 2016 9:42 AM\n",
      "dt:  Thursday, June 09, 2016 11:18 PM\n",
      "dt1:  , June 09, 2016 11:18 PM\n",
      "dt:  Thursday, June 09, 2016 11:18 PM\n",
      "dt1:  , June 09, 2016 11:18 PM\n",
      "dt:  Thursday, June 09, 2016 11:08 AM\n",
      "dt1:  , June 09, 2016 11:08 AM\n",
      "dt:  Thursday, June 09, 2016 10:08 AM\n",
      "dt1:  , June 09, 2016 10:08 AM\n",
      "dt:  Thursday, June 09, 2016 10:08 AM\n",
      "dt1:  , June 09, 2016 10:08 AM\n",
      "dt:  Thursday, June 09, 2016 10:05 AM\n",
      "dt1:  , June 09, 2016 10:05 AM\n",
      "dt:  Wednesday, June 08, 2016 9:56 AM\n",
      "dt1:  , June 08, 2016 9:56 AM\n",
      "dt:  Wednesday, June 08, 2016 9:56 AM\n",
      "dt1:  , June 08, 2016 9:56 AM\n",
      "dt:  Wednesday, June 08, 2016 7:00 AM\n",
      "dt1:  , June 08, 2016 7:00 AM\n",
      "dt:  Wednesday, June 08, 2016 7:00 AM\n",
      "dt1:  , June 08, 2016 7:00 AM\n",
      "dt:  Tuesday, June 07, 2016 10:32 PM\n",
      "dt1:  , June 07, 2016 10:32 PM\n",
      "dt:  Tuesday, June 07, 2016 10:18 PM\n",
      "dt1:  , June 07, 2016 10:18 PM\n",
      "dt:  Monday, August 01, 2016 9:43 AM\n",
      "dt1:  , August 01, 2016 9:43 AM\n",
      "dt:  Wednesday, September 23, 2015 1:32 PM\n",
      "dt1:  , September 23, 2015 1:32 PM\n",
      "dt:  Wednesday, July 27, 2016 10:43 AM\n",
      "dt1:  , July 27, 2016 10:43 AM\n",
      "dt:  Sunday, July 10, 2016 2:26 PM\n",
      "dt1:  , July 10, 2016 2:26 PM\n",
      "dt:  Wednesday, June 29, 2016 9:17 AM\n",
      "dt1:  , June 29, 2016 9:17 AM\n",
      "dt:  Monday, June 13, 2016 10:12 AM\n",
      "dt1:  , June 13, 2016 10:12 AM\n",
      "dt:  Monday, June 13, 2016 9:53 AM\n",
      "dt1:  , June 13, 2016 9:53 AM\n",
      "dt:  Monday, June 13, 2016 10:11 AM\n",
      "dt1:  , June 13, 2016 10:11 AM\n",
      "dt:  Monday, June 13, 2016 10:11 AM\n",
      "dt1:  , June 13, 2016 10:11 AM\n",
      "dt:  Wednesday, June 22, 2016 2:18 PM\n",
      "dt1:  , June 22, 2016 2:18 PM\n",
      "dt:  Wednesday, June 15, 2016 8:44 AM\n",
      "dt1:  , June 15, 2016 8:44 AM\n",
      "dt:  Wednesday, June 15, 2016 8:44 AM\n",
      "dt1:  , June 15, 2016 8:44 AM\n",
      "dt:  Tuesday, June 14, 2016 3:43 PM\n",
      "dt1:  , June 14, 2016 3:43 PM\n",
      "dt:  Tuesday, June 14, 2016 3:43 PM\n",
      "dt1:  , June 14, 2016 3:43 PM\n",
      "dt:  Tuesday, June 14, 2016 3:43 PM\n",
      "dt1:  , June 14, 2016 3:43 PM\n",
      "dt:  Tuesday, June 14, 2016 3:43 PM\n",
      "dt1:  , June 14, 2016 3:43 PM\n",
      "dt:  Tuesday, June 14, 2016 3:43 PM\n",
      "dt1:  , June 14, 2016 3:43 PM\n",
      "dt:  Tuesday, June 14, 2016 3:43 PM\n",
      "dt1:  , June 14, 2016 3:43 PM\n",
      "dt:  Monday, June 13, 2016 11:58 AM\n",
      "dt1:  , June 13, 2016 11:58 AM\n",
      "dt:  Monday, June 13, 2016 11:58 AM\n",
      "dt1:  , June 13, 2016 11:58 AM\n",
      "dt:  Monday, June 13, 2016 11:27 AM\n",
      "dt1:  , June 13, 2016 11:27 AM\n",
      "dt:  Monday, July 18, 2016 2:39 PM\n",
      "dt1:  , July 18, 2016 2:39 PM\n",
      "dt:  Monday, June 13, 2016 11:27 AM\n",
      "dt1:  , June 13, 2016 11:27 AM\n",
      "dt:  Tuesday, May 19, 2015 3:40 PM\n",
      "dt1:  , May 19, 2015 3:40 PM\n",
      "dt:  Wednesday, May 27, 2015 1:23 PM\n",
      "dt1:  , May 27, 2015 1:23 PM\n",
      "dt:  Monday, August 1, 2016 at 9:43 AM\n",
      "dt1:  , August 1, 2016 at 9:43 AM\n",
      "dt:  Friday, October 07, 2016 1:24 PM\n",
      "dt1:  , October 07, 2016 1:24 PM\n",
      "dt:  Thursday, April 20, 2017 1:26 PM\n",
      "dt1:  , April 20, 2017 1:26 PM\n",
      "dt:  Thursday, January 05, 2017 10:56 AM\n",
      "dt1:  , January 05, 2017 10:56 AM\n",
      "dt:  Wednesday, February 01, 2017 3:58 PM\n",
      "dt1:  , February 01, 2017 3:58 PM\n",
      "dt:  Thursday, April 20, 2017 5:08 PM\n",
      "dt1:  , April 20, 2017 5:08 PM\n",
      "dt:  Thursday, January 19, 2017 10:00 AM\n",
      "dt1:  , January 19, 2017 10:00 AM\n",
      "dt:  Wednesday, January 11, 2017 7:54 AM\n",
      "dt1:  , January 11, 2017 7:54 AM\n",
      "dt:  Tuesday, January 10, 2017 4:19 PM\n",
      "dt1:  , January 10, 2017 4:19 PM\n",
      "dt:  Monday, January 09, 2017 4:00 PM\n",
      "dt1:  , January 09, 2017 4:00 PM\n",
      "dt:  Monday, January 09, 2017 4:00 PM\n",
      "dt1:  , January 09, 2017 4:00 PM\n",
      "dt:  Friday, January 06, 2017 11:15 AM\n",
      "dt1:  , January 06, 2017 11:15 AM\n",
      "dt:  Tuesday, January 31, 2017 3:18 PM\n",
      "dt1:  , January 31, 2017 3:18 PM\n",
      "dt:  Thursday, January 05, 2017 12:49 PM\n",
      "dt1:  , January 05, 2017 12:49 PM\n",
      "dt:  Thursday, January 05, 2017 10:56 AM\n",
      "dt1:  , January 05, 2017 10:56 AM\n",
      "dt:  Thursday, January 05, 2017 10:55 AM\n",
      "dt1:  , January 05, 2017 10:55 AM\n",
      "dt:  Thursday, January 05, 2017 10:46 AM\n",
      "dt1:  , January 05, 2017 10:46 AM\n",
      "dt:  Friday, February 24, 2017 12:43 PM\n",
      "dt1:  , February 24, 2017 12:43 PM\n",
      "dt:  Friday, October 07, 2016 8:00 AM\n",
      "dt1:  , October 07, 2016 8:00 AM\n",
      "dt:  Saturday, October 08, 2016 5:02 PM\n",
      "dt1:  , October 08, 2016 5:02 PM\n",
      "dt:  Wednesday, September 07, 2016 7:03 PM\n",
      "dt1:  , September 07, 2016 7:03 PM\n",
      "dt:  Thursday, September 29, 2016 12:00 PM\n",
      "dt1:  , September 29, 2016 12:00 PM\n",
      "dt:  Thursday, April 20, 2017 12:26 PM\n",
      "dt1:  , April 20, 2017 12:26 PM\n",
      "dt:  Wednesday, March 29, 2017 8:20 AM\n",
      "dt1:  , March 29, 2017 8:20 AM\n",
      "dt:  Tuesday, March 28, 2017 11:22 AM\n",
      "dt1:  , March 28, 2017 11:22 AM\n",
      "dt:  Tuesday, March 28, 2017 11:22 AM\n",
      "dt1:  , March 28, 2017 11:22 AM\n",
      "dt:  Thursday, March 23, 2017 12:07 PM\n",
      "dt1:  , March 23, 2017 12:07 PM\n",
      "dt:  Monday, March 13, 2017 2:13 PM\n",
      "dt1:  , March 13, 2017 2:13 PM\n",
      "dt:  Friday, March 10, 2017 3:40 PM\n",
      "dt1:  , March 10, 2017 3:40 PM\n",
      "dt:  Monday, March 13, 2017 2:13 PM\n",
      "dt1:  , March 13, 2017 2:13 PM\n",
      "dt:  Friday, February 10, 2017 9:01 AM\n",
      "dt1:  , February 10, 2017 9:01 AM\n",
      "dt:  Tuesday, March 21, 2017 10:59 AM\n",
      "dt1:  , March 21, 2017 10:59 AM\n",
      "dt:  Friday, February 24, 2017 12:48 PM\n",
      "dt1:  , February 24, 2017 12:48 PM\n",
      "dt:  Monday, December 19, 2016 5:19 PM\n",
      "dt1:  , December 19, 2016 5:19 PM\n",
      "dt:  Wednesday, January 04, 2017 11:27 AM\n",
      "dt1:  , January 04, 2017 11:27 AM\n",
      "dt:  Tuesday, July 26, 2016 at 10:15 AM\n",
      "dt1:  , July 26, 2016 at 10:15 AM\n",
      "dt:  Wednesday, September 23, 2015 at 5:55 PM\n",
      "dt1:  , September 23, 2015 at 5:55 PM\n",
      "dt:  Wednesday, September 23, 2015 at 5:55 PM\n",
      "dt1:  , September 23, 2015 at 5:55 PM\n",
      "dt:  Tuesday, March 21, 2017 10:59 AM\n",
      "dt1:  , March 21, 2017 10:59 AM\n",
      "dt:  Thursday, April 20, 2017 12:26 PM\n",
      "dt1:  , April 20, 2017 12:26 PM\n",
      "dt:  Monday, September 26, 2016 10:28 AM\n",
      "dt1:  , September 26, 2016 10:28 AM\n",
      "dt:  Friday, September 09, 2016 10:25 AM\n",
      "dt1:  , September 09, 2016 10:25 AM\n",
      "dt:  Thursday, January 19, 2017 10:00 AM\n",
      "dt1:  , January 19, 2017 10:00 AM\n",
      "dt:  Thursday, September 08, 2016 11:45 AM\n",
      "dt1:  , September 08, 2016 11:45 AM\n",
      "dt:  Thursday, September 08, 2016 11:45 AM\n",
      "dt1:  , September 08, 2016 11:45 AM\n",
      "dt:  Saturday, October 08, 2016 10:41 PM\n",
      "dt1:  , October 08, 2016 10:41 PM\n",
      "dt:  Saturday, October 08, 2016 10:41 PM\n",
      "dt1:  , October 08, 2016 10:41 PM\n",
      "dt:  Wednesday, October 12, 2016 2:40 PM\n",
      "dt1:  , October 12, 2016 2:40 PM\n",
      "dt:  Wednesday, November 30, 2016 2:11 PM\n",
      "dt1:  , November 30, 2016 2:11 PM\n",
      "dt:  Wednesday, January 04, 2017 11:27 AM\n",
      "dt1:  , January 04, 2017 11:27 AM\n",
      "dt:  Friday, September 09, 2016 10:21 AM\n",
      "dt1:  , September 09, 2016 10:21 AM\n",
      "dt:  Thursday, October 13, 2016 3:34 PM\n",
      "dt1:  , October 13, 2016 3:34 PM\n",
      "dt:  Friday, October 07, 2016 1:24 PM\n",
      "dt1:  , October 07, 2016 1:24 PM\n",
      "dt:  Friday, September 30, 2016 11:54 AM\n",
      "dt1:  , September 30, 2016 11:54 AM\n",
      "dt:  Wednesday, December 07, 2016 10:26 AM\n",
      "dt1:  , December 07, 2016 10:26 AM\n",
      "dt:  Thursday, September 29, 2016 8:53 AM\n",
      "dt1:  , September 29, 2016 8:53 AM\n",
      "dt:  Wednesday, November 30, 2016 2:11 PM\n",
      "dt1:  , November 30, 2016 2:11 PM\n",
      "dt:  Tuesday, September 13, 2016 10:01 AM\n",
      "dt1:  , September 13, 2016 10:01 AM\n",
      "dt:  Friday, September 09, 2016 10:21 AM\n",
      "dt1:  , September 09, 2016 10:21 AM\n",
      "dt:  Friday, October 07, 2016 8:01 AM\n",
      "dt1:  , October 07, 2016 8:01 AM\n",
      "dt:  Friday, October 07, 2016 8:01 AM\n",
      "dt1:  , October 07, 2016 8:01 AM\n",
      "dt:  Friday, September 09, 2016 10:21 AM\n",
      "dt1:  , September 09, 2016 10:21 AM\n",
      "dt:  Wednesday, November 30, 2016 2:09 PM\n",
      "dt1:  , November 30, 2016 2:09 PM\n",
      "dt:  Tuesday, June 07, 2016 10:08 PM\n",
      "dt1:  , June 07, 2016 10:08 PM\n",
      "dt:  Tuesday, August 02, 2016 11:41 AM\n",
      "dt1:  , August 02, 2016 11:41 AM\n",
      "dt:  Tuesday, May 02, 2017 9:16 AM\n",
      "dt1:  , May 02, 2017 9:16 AM\n",
      "dt:  Wednesday, November 30, 2016 2:09 PM\n",
      "dt1:  , November 30, 2016 2:09 PM\n",
      "dt:  Tuesday, June 07, 2016 10:08 PM\n",
      "dt1:  , June 07, 2016 10:08 PM\n",
      "dt:  Monday, July 18, 2016 2:39 PM\n",
      "dt1:  , July 18, 2016 2:39 PM\n",
      "dt:  Wednesday, June 22, 2016 2:18 PM\n",
      "dt1:  , June 22, 2016 2:18 PM\n",
      "dt:  Sunday, July 24, 2016 8:42 PM\n",
      "dt1:  , July 24, 2016 8:42 PM\n",
      "dt:  Friday, October 07, 2016 8:21 AM\n",
      "dt1:  , October 07, 2016 8:21 AM\n",
      "dt:  Wednesday, November 30, 2016 2:41 PM\n",
      "dt1:  , November 30, 2016 2:41 PM\n",
      "dt:  Friday, November 04, 2016 3:59 PM\n",
      "dt1:  , November 04, 2016 3:59 PM\n",
      "dt:  Monday, November 07, 2016 3:35 PM\n",
      "dt1:  , November 07, 2016 3:35 PM\n",
      "dt:  Monday, November 07, 2016 3:33 PM\n",
      "dt1:  , November 07, 2016 3:33 PM\n",
      "dt:  Friday, May 20, 2016 1:07 PM\n",
      "dt1:  , May 20, 2016 1:07 PM\n",
      "dt:  Monday, October 31, 2016 12:57 PM\n",
      "dt1:  , October 31, 2016 12:57 PM\n",
      "dt:  Monday, October 31, 2016 12:34 PM\n",
      "dt1:  , October 31, 2016 12:34 PM\n",
      "dt:  Monday, October 17, 2016 3:12 PM\n",
      "dt1:  , October 17, 2016 3:12 PM\n",
      "dt:  Monday, October 17, 2016 2:33 PM\n",
      "dt1:  , October 17, 2016 2:33 PM\n",
      "dt:  Monday, October 17, 2016 2:32 PM\n",
      "dt1:  , October 17, 2016 2:32 PM\n",
      "dt:  Monday, October 17, 2016 2:21 PM\n",
      "dt1:  , October 17, 2016 2:21 PM\n",
      "dt:  Thursday, September 08, 2016 11:45 AM\n",
      "dt1:  , September 08, 2016 11:45 AM\n",
      "dt:  Friday, June 03, 2016 7:12 AM\n",
      "dt1:  , June 03, 2016 7:12 AM\n",
      "dt:  Tuesday, May 17, 2016 7:57 AM\n",
      "dt1:  , May 17, 2016 7:57 AM\n",
      "dt:  Tuesday, March 28, 2017 2:26 PM\n",
      "dt1:  , March 28, 2017 2:26 PM\n",
      "dt:  Wednesday, February 11, 2015 12:44 PM\n",
      "dt1:  , February 11, 2015 12:44 PM\n",
      "dt:  Wednesday, February 11, 2015 11:08 AM\n",
      "dt1:  , February 11, 2015 11:08 AM\n",
      "dt:  Wednesday, February 11, 2015 9:26 AM\n",
      "dt1:  , February 11, 2015 9:26 AM\n",
      "dt:  Wednesday, February 11, 2015 9:26 AM\n",
      "dt1:  , February 11, 2015 9:26 AM\n",
      "dt:  Wednesday, February 11, 2015 2:27 AM\n",
      "dt1:  , February 11, 2015 2:27 AM\n",
      "dt:  Wednesday, February 11, 2015 2:27 AM\n",
      "dt1:  , February 11, 2015 2:27 AM\n",
      "dt:  Thursday, May 14, 2015 10:29 AM\n",
      "dt1:  , May 14, 2015 10:29 AM\n",
      "dt:  Wednesday, January 28, 2015 12:23 PM\n",
      "dt1:  , January 28, 2015 12:23 PM\n",
      "dt:  Wednesday, January 28, 2015 9:46 AM\n",
      "dt1:  , January 28, 2015 9:46 AM\n",
      "dt:  Monday, January 05, 2015 3:23 PM\n",
      "dt1:  , January 05, 2015 3:23 PM\n",
      "dt:  Thursday, October 23, 2014 1:49 PM\n",
      "dt1:  , October 23, 2014 1:49 PM\n",
      "dt:  Thursday, October 16, 2014 11:08 PM\n",
      "dt1:  , October 16, 2014 11:08 PM\n",
      "dt:  Thursday, October 16, 2014 10:34 PM\n",
      "dt1:  , October 16, 2014 10:34 PM\n",
      "dt:  Thursday, October 16, 2014 7:53 PM\n",
      "dt1:  , October 16, 2014 7:53 PM\n",
      "dt:  Monday, June 16, 2014 4:06 PM\n",
      "dt1:  , June 16, 2014 4:06 PM\n",
      "dt:  Wednesday, January 28, 2015 12:23 PM\n",
      "dt1:  , January 28, 2015 12:23 PM\n",
      "dt:  Wednesday, November 30, 2016 at 2:10 PM\n",
      "dt1:  , November 30, 2016 at 2:10 PM\n",
      "dt:  Wednesday, February 11, 2015 12:44 PM\n",
      "dt1:  , February 11, 2015 12:44 PM\n",
      "dt:  Sunday, February 15, 2015 5:01 PM\n",
      "dt1:  , February 15, 2015 5:01 PM\n",
      "dt:  Tuesday, May 17, 2016 4:06 PM\n",
      "dt1:  , May 17, 2016 4:06 PM\n",
      "dt:  Tuesday, June 03, 2014 1:36 PM\n",
      "dt1:  , June 03, 2014 1:36 PM\n",
      "dt:  Wednesday, February 11, 2015 10:58 AM\n",
      "dt1:  , February 11, 2015 10:58 AM\n",
      "dt:  Tuesday, March 31, 2015 2:01 PM\n",
      "dt1:  , March 31, 2015 2:01 PM\n",
      "dt:  Tuesday, March 31, 2015 2:01 PM\n",
      "dt1:  , March 31, 2015 2:01 PM\n",
      "dt:  Thursday, March 19, 2015 1:33 PM\n",
      "dt1:  , March 19, 2015 1:33 PM\n",
      "dt:  Thursday, March 19, 2015 1:17 PM\n",
      "dt1:  , March 19, 2015 1:17 PM\n",
      "dt:  Thursday, March 19, 2015 11:53 AM\n",
      "dt1:  , March 19, 2015 11:53 AM\n",
      "dt:  Thursday, March 19, 2015 11:30 AM\n",
      "dt1:  , March 19, 2015 11:30 AM\n",
      "dt:  Thursday, March 19, 2015 11:23 AM\n",
      "dt1:  , March 19, 2015 11:23 AM\n",
      "dt:  Thursday, March 19, 2015 11:21 AM\n",
      "dt1:  , March 19, 2015 11:21 AM\n",
      "dt:  Thursday, March 05, 2015 4:52 PM\n",
      "dt1:  , March 05, 2015 4:52 PM\n",
      "dt:  Tuesday, February 24, 2015 11:59 AM\n",
      "dt1:  , February 24, 2015 11:59 AM\n",
      "dt:  Friday, February 20, 2015 9:50 AM\n",
      "dt1:  , February 20, 2015 9:50 AM\n",
      "dt:  Wednesday, February 18, 2015 10:15 AM\n",
      "dt1:  , February 18, 2015 10:15 AM\n",
      "dt:  Tuesday, February 17, 2015 2:12 PM\n",
      "dt1:  , February 17, 2015 2:12 PM\n",
      "dt:  Tuesday, February 17, 2015 2:12 PM\n",
      "dt1:  , February 17, 2015 2:12 PM\n",
      "dt:  Tuesday, June 03, 2014 1:36 PM\n",
      "dt1:  , June 03, 2014 1:36 PM\n",
      "dt:  Monday, June 13, 2016 10:01 AM\n",
      "dt1:  , June 13, 2016 10:01 AM\n",
      "dt:  Tuesday, May 17, 2016 4:12 PM\n",
      "dt1:  , May 17, 2016 4:12 PM\n",
      "dt:  Wednesday, May 27, 2015 1:28 PM\n",
      "dt1:  , May 27, 2015 1:28 PM\n",
      "dt:  Wednesday, November 30, 2016 2:41 PM\n",
      "dt1:  , November 30, 2016 2:41 PM\n",
      "dt:  \n",
      "dt1:  \n",
      "dt:  \n",
      "dt1:  \n",
      "dt:  Monday, June 02, 2014 10:20 AM\n",
      "dt1:  , June 02, 2014 10:20 AM\n",
      "dt:  Tue, September 22, 2015 12:14 PM  Hi Cris,\n",
      "dt1:  , September 22, 2015 12:14 PM  Hi Cris,\n",
      "dt:  \n",
      "dt1:  \n",
      "dt:  \n",
      "dt1:  \n",
      "dt:  \n",
      "dt1:  \n",
      "dt:  \n",
      "dt1:  \n",
      "dt:  Thursday, May 15, 2014 5:05 PM\n",
      "dt1:  , May 15, 2014 5:05 PM\n",
      "dt:  \n",
      "dt1:  \n",
      "dt:  \n",
      "dt1:  \n",
      "dt:  \n",
      "dt1:  \n",
      "dt:  Thursday, September 24, 2015 6:42 AM\n",
      "dt1:  , September 24, 2015 6:42 AM\n",
      "dt:  \n",
      "dt1:  \n",
      "dt:  \n",
      "dt1:  \n",
      "dt:  Thu, 19 Mar 2015 15:20:50 +0000\n",
      "dt1:  , 19 Mar 2015 15:20:50 +0000\n",
      "dt:  \n",
      "dt1:  \n",
      "dt:  \n",
      "dt1:  \n",
      "dt:  \n",
      "dt1:  \n",
      "dt:  \n",
      "dt1:  \n",
      "dt:  \n",
      "dt1:  \n",
      "dt:  \n",
      "dt1:  \n",
      "dt:  \n",
      "dt1:  \n",
      "dt:  Tuesday, May 13, 2014 5:13 PM\n",
      "dt1:  , May 13, 2014 5:13 PM\n",
      "dt:  Wednesday, May 07, 2014 9:33 PM\n",
      "dt1:  , May 07, 2014 9:33 PM\n",
      "dt:  Thursday, May 01, 2014 4:52 PM\n",
      "dt1:  , May 01, 2014 4:52 PM\n",
      "dt:  Tuesday, April 22, 2014 3:34 PM\n",
      "dt1:  , April 22, 2014 3:34 PM\n",
      "dt:  Monday, April 21, 2014 5:28 PM\n",
      "dt1:  , April 21, 2014 5:28 PM\n",
      "dt:  Monday, April 21, 2014 5:28 PM\n",
      "dt1:  , April 21, 2014 5:28 PM\n",
      "dt:  Wednesday, December 07, 2016 10:26 AM\n",
      "dt1:  , December 07, 2016 10:26 AM\n",
      "dt:  Tuesday, January 31, 2017 3:18 PM\n",
      "dt1:  , January 31, 2017 3:18 PM\n",
      "dt:  \n",
      "dt1:  \n",
      "dt:  Tue, September 22, 2015 12:14 PM  Hi Cris,\n",
      "dt1:  , September 22, 2015 12:14 PM  Hi Cris,\n",
      "dt:  \n",
      "dt1:  \n",
      "dt:  \n",
      "dt1:  \n",
      "dt:  Tue, September 22, 2015 12:14 PM  Hi Cris,\n",
      "dt1:  , September 22, 2015 12:14 PM  Hi Cris,\n",
      "dt:  \n",
      "dt1:  \n",
      "dt:  \n",
      "dt1:  \n",
      "dt:  Friday, May 13, 2016 3:13 PM\n",
      "dt1:  , May 13, 2016 3:13 PM\n",
      "dt:  Wednesday, September 07, 2016 7:03 PM\n",
      "dt1:  , September 07, 2016 7:03 PM\n",
      "dt:  Friday, February 10, 2017 5:05 PM\n",
      "dt1:  , February 10, 2017 5:05 PM\n",
      "dt:  Wednesday, February 03, 2016 8:41 AM\n",
      "dt1:  , February 03, 2016 8:41 AM\n",
      "dt:  Wednesday, July 29, 2015 2:33 PM\n",
      "dt1:  , July 29, 2015 2:33 PM\n",
      "dt:  Wednesday, March 09, 2016 4:09 PM\n",
      "dt1:  , March 09, 2016 4:09 PM\n",
      "dt:  Wednesday, February 03, 2016 2:30 PM\n",
      "dt1:  , February 03, 2016 2:30 PM\n",
      "dt:  Tuesday, February 16, 2016 10:18 AM\n",
      "dt1:  , February 16, 2016 10:18 AM\n",
      "dt:  Wednesday, November 30, 2016 at 2:10 PM\n",
      "dt1:  , November 30, 2016 at 2:10 PM\n",
      "dt:  Wednesday, February 03, 2016 2:32 PM\n",
      "dt1:  , February 03, 2016 2:32 PM\n",
      "dt:  Wednesday, February 11, 2015 10:58 AM\n",
      "dt1:  , February 11, 2015 10:58 AM\n",
      "dt:  Wednesday, February 03, 2016 2:30 PM\n",
      "dt1:  , February 03, 2016 2:30 PM\n",
      "dt:  Friday, October 07, 2016 10:30 AM\n",
      "dt1:  , October 07, 2016 10:30 AM\n",
      "dt:  Friday, May 13, 2016 5:27 PM\n",
      "dt1:  , May 13, 2016 5:27 PM\n",
      "dt:  Thursday, May 12, 2016 5:46 PM\n",
      "dt1:  , May 12, 2016 5:46 PM\n",
      "dt:  Monday, May 09, 2016 8:04 AM\n",
      "dt1:  , May 09, 2016 8:04 AM\n",
      "dt:  Monday, May 09, 2016 2:05 PM\n",
      "dt1:  , May 09, 2016 2:05 PM\n",
      "dt:  Wednesday, May 27, 2015 1:23 PM\n",
      "dt1:  , May 27, 2015 1:23 PM\n",
      "dt:  Tuesday, May 03, 2016 7:54 AM\n",
      "dt1:  , May 03, 2016 7:54 AM\n",
      "dt:  Monday, May 02, 2016 1:35 PM\n",
      "dt1:  , May 02, 2016 1:35 PM\n",
      "dt:  Wednesday, February 03, 2016 8:41 AM\n",
      "dt1:  , February 03, 2016 8:41 AM\n",
      "dt:  Monday, May 02, 2016 1:35 PM\n",
      "dt1:  , May 02, 2016 1:35 PM\n",
      "dt:  Wednesday, September 23, 2015 1:32 PM\n",
      "dt1:  , September 23, 2015 1:32 PM\n",
      "dt:  Wednesday, April 27, 2016 11:12 AM\n",
      "dt1:  , April 27, 2016 11:12 AM\n",
      "dt:  Thursday, May 12, 2016 5:46 PM\n",
      "dt1:  , May 12, 2016 5:46 PM\n",
      "dt:  Thursday, May 12, 2016 5:46 PM\n",
      "dt1:  , May 12, 2016 5:46 PM\n",
      "dt:  Tuesday, May 17, 2016 10:26 AM\n",
      "dt1:  , May 17, 2016 10:26 AM\n",
      "dt:  Friday, May 13, 2016 5:27 PM\n",
      "dt1:  , May 13, 2016 5:27 PM\n",
      "dt:  Tuesday, May 19, 2015 3:40 PM\n",
      "dt1:  , May 19, 2015 3:40 PM\n",
      "dt:  Friday, May 13, 2016 5:27 PM\n",
      "dt1:  , May 13, 2016 5:27 PM\n",
      "dt:  Friday, May 13, 2016 5:27 PM\n",
      "dt1:  , May 13, 2016 5:27 PM\n",
      "dt:  Friday, May 20, 2016 1:07 PM\n",
      "dt1:  , May 20, 2016 1:07 PM\n",
      "dt:  Thursday, September 24, 2015 6:42 AM\n",
      "dt1:  , September 24, 2015 6:42 AM\n",
      "dt:  Tuesday, May 17, 2016 4:06 PM\n",
      "dt1:  , May 17, 2016 4:06 PM\n",
      "dt:  Tuesday, May 17, 2016 4:06 PM\n",
      "dt1:  , May 17, 2016 4:06 PM\n",
      "dt:  Monday, May 09, 2016 8:04 AM\n",
      "dt1:  , May 09, 2016 8:04 AM\n",
      "dt:  Tue, September 22, 2015 12:14 PM  Hi Cris,\n",
      "dt1:  , September 22, 2015 12:14 PM  Hi Cris,\n",
      "dt:  Wednesday, February 11, 2015 11:08 AM\n",
      "dt1:  , February 11, 2015 11:08 AM\n",
      "dt:  Thursday, May 14, 2015 11:45 AM\n",
      "dt1:  , May 14, 2015 11:45 AM\n",
      "dt:  Monday, June 02, 2014 11:02 AM\n",
      "dt1:  , June 02, 2014 11:02 AM\n",
      "dt:  Tuesday, May 13, 2014 5:13 PM\n",
      "dt1:  , May 13, 2014 5:13 PM\n",
      "dt:  Friday, May 13, 2016 5:18 PM\n",
      "dt1:  , May 13, 2016 5:18 PM\n",
      "dt:  Friday, May 13, 2016 1:53 PM\n",
      "dt1:  , May 13, 2016 1:53 PM\n",
      "dt:  Wednesday, September 23, 2015 8:47 PM\n",
      "dt1:  , September 23, 2015 8:47 PM\n",
      "dt:  Thursday, April 07, 2016 8:01 AM\n",
      "dt1:  , April 07, 2016 8:01 AM\n",
      "dt:  Tuesday, May 19, 2015 3:40 PM\n",
      "dt1:  , May 19, 2015 3:40 PM\n",
      "dt:  Monday, May 02, 2016 1:35 PM\n",
      "dt1:  , May 02, 2016 1:35 PM\n",
      "dt:  Wednesday, September 23, 2015 1:32 PM\n",
      "dt1:  , September 23, 2015 1:32 PM\n",
      "dt:  Wednesday, May 27, 2015 1:28 PM\n",
      "dt1:  , May 27, 2015 1:28 PM\n",
      "dt:  Wednesday, May 27, 2015 1:33 PM\n",
      "dt1:  , May 27, 2015 1:33 PM\n",
      "dt:  Tuesday, May 23, 2017 6:49 PM\n",
      "dt1:  , May 23, 2017 6:49 PM\n",
      "dt:  Wednesday, February 03, 2016 8:41 AM\n",
      "dt1:  , February 03, 2016 8:41 AM\n",
      "dt:  Wednesday, July 29, 2015 1:51 PM\n",
      "dt1:  , July 29, 2015 1:51 PM\n",
      "dt:  Monday, July 27, 2015 12:15 PM\n",
      "dt1:  , July 27, 2015 12:15 PM\n",
      "dt:  Wednesday, May 27, 2015 1:28 PM\n",
      "dt1:  , May 27, 2015 1:28 PM\n",
      "dt:  Monday, July 27, 2015 11:16 AM\n",
      "dt1:  , July 27, 2015 11:16 AM\n",
      "dt:  Thursday, July 16, 2015 7:10 PM\n",
      "dt1:  , July 16, 2015 7:10 PM\n",
      "dt:  Thursday, July 16, 2015 12:49 PM\n",
      "dt1:  , July 16, 2015 12:49 PM\n",
      "dt:  Wednesday, May 27, 2015 1:28 PM\n",
      "dt1:  , May 27, 2015 1:28 PM\n",
      "dt:  Wednesday, May 27, 2015 1:23 PM\n",
      "dt1:  , May 27, 2015 1:23 PM\n",
      "dt:  Tuesday, May 19, 2015 3:40 PM\n",
      "dt1:  , May 19, 2015 3:40 PM\n",
      "dt:  Wednesday, February 03, 2016 2:30 PM\n",
      "dt1:  , February 03, 2016 2:30 PM\n",
      "dt:  Tuesday, September 15, 2015 11:20 AM\n",
      "dt1:  , September 15, 2015 11:20 AM\n",
      "dt:  Tuesday, September 15, 2015 11:20 AM\n",
      "dt1:  , September 15, 2015 11:20 AM\n",
      "dt:  Wednesday, August 19, 2015 1:25 PM\n",
      "dt1:  , August 19, 2015 1:25 PM\n",
      "dt:  Wednesday, February 03, 2016 2:30 PM\n",
      "dt1:  , February 03, 2016 2:30 PM\n",
      "dt:  Thursday, May 12, 2016 5:46 PM\n",
      "dt1:  , May 12, 2016 5:46 PM\n",
      "dt:  Monday, August 03, 2015 9:10 AM\n",
      "dt1:  , August 03, 2015 9:10 AM\n",
      "dt:  Wednesday, April 27, 2016 11:12 AM\n",
      "dt1:  , April 27, 2016 11:12 AM\n",
      "dt:  Wednesday, May 27, 2015 1:33 PM\n",
      "dt1:  , May 27, 2015 1:33 PM\n",
      "dt:  July 15, 2015 at 10:51:06 AM EDT\n",
      "dt1:  July 15, 2015 at 10:51:06 AM EDT\n",
      "dt:  July 27, 2015 at 11:34:52 AM EDT\n",
      "dt1:  July 27, 2015 at 11:34:52 AM EDT\n",
      "dt:  August 1, 2015 at 1:59:26 AM EDT\n",
      "dt1:  August 1, 2015 at 1:59:26 AM EDT\n",
      "dt:  Monday, May 09, 2016 12:39 PM\n",
      "dt1:  , May 09, 2016 12:39 PM\n",
      "dt:  Monday, May 09, 2016 2:05 PM\n",
      "dt1:  , May 09, 2016 2:05 PM\n",
      "dt:  Tuesday, May 19, 2015 3:40 PM\n",
      "dt1:  , May 19, 2015 3:40 PM\n",
      "dt:  Tuesday, September 15, 2015 11:20 AM\n",
      "dt1:  , September 15, 2015 11:20 AM\n",
      "dt:  Wednesday, August 19, 2015 11:49 AM\n",
      "dt1:  , August 19, 2015 11:49 AM\n",
      "dt:  Wednesday, September 23, 2015 6:08 PM\n",
      "dt1:  , September 23, 2015 6:08 PM\n",
      "dt:  Wednesday, May 27, 2015 1:23 PM\n",
      "dt1:  , May 27, 2015 1:23 PM\n",
      "dt:  Wednesday, September 23, 2015 6:07 PM\n",
      "dt1:  , September 23, 2015 6:07 PM\n",
      "dt:  Wednesday, May 27, 2015 1:23 PM\n",
      "dt1:  , May 27, 2015 1:23 PM\n",
      "dt:  Wednesday, September 23, 2015 5:56 PM\n",
      "dt1:  , September 23, 2015 5:56 PM\n",
      "dt:  Tuesday, August 18, 2015 6:21 PM\n",
      "dt1:  , August 18, 2015 6:21 PM\n",
      "dt:  Wednesday, September 23, 2015 1:32 PM\n",
      "dt1:  , September 23, 2015 1:32 PM\n",
      "dt:  Tuesday, September 15, 2015 11:20 AM\n",
      "dt1:  , September 15, 2015 11:20 AM\n",
      "dt:  Tuesday, September 15, 2015 11:20 AM\n",
      "dt1:  , September 15, 2015 11:20 AM\n",
      "dt:  Wednesday, September 28, 2016 2:02:34 PM\n",
      "dt1:  , September 28, 2016 2:02:34 PM\n"
     ]
    }
   ],
   "source": [
    "df[\"Sent2\"] = new_dates\n",
    "df = df.sort_values(by=\"Sent2\")\n",
    "# df_redacted = df.copy()\n",
    "df_old = df.copy()\n",
    "\n",
    "# df.to_csv(\"output2_time_identified.csv\", header=True)"
   ]
  },
  {
   "cell_type": "code",
   "execution_count": 84,
   "metadata": {
    "tags": []
   },
   "outputs": [],
   "source": [
    "date2 = pd.to_datetime(df['Sent2'].values.tolist())\n",
    "idx = date2 > datetime(2000,1,1)\n",
    "df2 = df.iloc[idx]\n",
    "df2 = df2.reset_index(drop=True)\n",
    "# df2.to_csv('output3_with_good_time.csv')"
   ]
  },
  {
   "cell_type": "code",
   "execution_count": 69,
   "metadata": {},
   "outputs": [
    {
     "data": {
      "text/html": [
       "<div>\n",
       "<style scoped>\n",
       "    .dataframe tbody tr th:only-of-type {\n",
       "        vertical-align: middle;\n",
       "    }\n",
       "\n",
       "    .dataframe tbody tr th {\n",
       "        vertical-align: top;\n",
       "    }\n",
       "\n",
       "    .dataframe thead th {\n",
       "        text-align: right;\n",
       "    }\n",
       "</style>\n",
       "<table border=\"1\" class=\"dataframe\">\n",
       "  <thead>\n",
       "    <tr style=\"text-align: right;\">\n",
       "      <th></th>\n",
       "      <th>Id</th>\n",
       "      <th>From</th>\n",
       "      <th>Sent</th>\n",
       "      <th>To</th>\n",
       "      <th>CC</th>\n",
       "      <th>Subject</th>\n",
       "      <th>Attachments</th>\n",
       "      <th>Importance</th>\n",
       "      <th>Body</th>\n",
       "      <th>FromFile</th>\n",
       "      <th>FileLineNo</th>\n",
       "      <th>Sent2</th>\n",
       "    </tr>\n",
       "  </thead>\n",
       "  <tbody>\n",
       "    <tr>\n",
       "      <th>0</th>\n",
       "      <td>1</td>\n",
       "      <td>['Bowen, Dan']</td>\n",
       "      <td>['Monday, April 21, 2014 5:28 PM']</td>\n",
       "      <td>[\"'electricalsrvs@aol.com'\"]</td>\n",
       "      <td>['Ash, Richard']</td>\n",
       "      <td>['maddox building']</td>\n",
       "      <td>[]</td>\n",
       "      <td>[]</td>\n",
       "      <td>['', 'Mr. Howell, per our conversation this af...</td>\n",
       "      <td>23-11-PCSgmail2014-2017.txt</td>\n",
       "      <td>57.0</td>\n",
       "      <td>2014-04-21 17:28:00</td>\n",
       "    </tr>\n",
       "    <tr>\n",
       "      <th>1</th>\n",
       "      <td>3</td>\n",
       "      <td>['Bowen, Dan']</td>\n",
       "      <td>['Monday, April 21, 2014 5:28 PM']</td>\n",
       "      <td>[\"'electricalsrvs@aol.com'\"]</td>\n",
       "      <td>['Ash, Richard']</td>\n",
       "      <td>['maddox building']</td>\n",
       "      <td>[]</td>\n",
       "      <td>[]</td>\n",
       "      <td>['', 'Mr. Howell, per our conversation this af...</td>\n",
       "      <td>23-11-PCSgmail2014-2017.txt</td>\n",
       "      <td>113.0</td>\n",
       "      <td>2014-04-21 17:28:00</td>\n",
       "    </tr>\n",
       "    <tr>\n",
       "      <th>2</th>\n",
       "      <td>0</td>\n",
       "      <td>['Bowen, Dan']</td>\n",
       "      <td>['Tuesday, April 22, 2014 3:34 PM']</td>\n",
       "      <td>[\"'paigecartersmith@gmail.com'\"]</td>\n",
       "      <td>[\"'electricalsrvs@aol.com'; Ash, Richard\"]</td>\n",
       "      <td>['902 NORTH ADAMS ST']</td>\n",
       "      <td>['maddox building (5.37 KB)']</td>\n",
       "      <td>[]</td>\n",
       "      <td>['', 'Ms. Smith, Mr. Eddie Johnson had Ms. Cam...</td>\n",
       "      <td>23-11-PCSgmail2014-2017.txt</td>\n",
       "      <td>26.0</td>\n",
       "      <td>2014-04-22 15:34:00</td>\n",
       "    </tr>\n",
       "    <tr>\n",
       "      <th>3</th>\n",
       "      <td>2</td>\n",
       "      <td>['Bowen, Dan']</td>\n",
       "      <td>['Thursday, May 01, 2014 4:52 PM']</td>\n",
       "      <td>[\"'electricalsrvs@aol.com'; paigecartersmith@g...</td>\n",
       "      <td>['Ash, Richard; Drose, Tina; Lockwood, Kenny']</td>\n",
       "      <td>['FW: maddox building']</td>\n",
       "      <td>[]</td>\n",
       "      <td>[]</td>\n",
       "      <td>['', 'Mr. Howell, The email below was the last...</td>\n",
       "      <td>23-11-PCSgmail2014-2017.txt</td>\n",
       "      <td>81.0</td>\n",
       "      <td>2014-05-01 16:52:00</td>\n",
       "    </tr>\n",
       "    <tr>\n",
       "      <th>4</th>\n",
       "      <td>4</td>\n",
       "      <td>['Gail Stansberry-Ziffer']</td>\n",
       "      <td>['Wednesday, May 07, 2014 9:33 PM']</td>\n",
       "      <td>['Karen Wendland; Vince Dix, Ph.D.; Jerome Nov...</td>\n",
       "      <td>[]</td>\n",
       "      <td>['Hope you can join us']</td>\n",
       "      <td>[]</td>\n",
       "      <td>[]</td>\n",
       "      <td>['', 'Tomorrow morning Gil and I will be on-ai...</td>\n",
       "      <td>23-11-PCSgmail2014-2017.txt</td>\n",
       "      <td>155.0</td>\n",
       "      <td>2014-05-07 21:33:00</td>\n",
       "    </tr>\n",
       "    <tr>\n",
       "      <th>...</th>\n",
       "      <td>...</td>\n",
       "      <td>...</td>\n",
       "      <td>...</td>\n",
       "      <td>...</td>\n",
       "      <td>...</td>\n",
       "      <td>...</td>\n",
       "      <td>...</td>\n",
       "      <td>...</td>\n",
       "      <td>...</td>\n",
       "      <td>...</td>\n",
       "      <td>...</td>\n",
       "      <td>...</td>\n",
       "    </tr>\n",
       "    <tr>\n",
       "      <th>300</th>\n",
       "      <td>309</td>\n",
       "      <td>['Paige Carter-Smith']</td>\n",
       "      <td>['Thursday, April 20, 2017 12:26 PM']</td>\n",
       "      <td>['edward.kring@talgov.com']</td>\n",
       "      <td>['TDIA Cell']</td>\n",
       "      <td>['']</td>\n",
       "      <td>['Trolley award Entry (2).docx']</td>\n",
       "      <td>[]</td>\n",
       "      <td>['', 'Research/Situation Analysis: Oh what joy...</td>\n",
       "      <td>23-11-PCSgmail2014-2017.txt</td>\n",
       "      <td>18392.0</td>\n",
       "      <td>2017-04-20 12:26:00</td>\n",
       "    </tr>\n",
       "    <tr>\n",
       "      <th>301</th>\n",
       "      <td>306</td>\n",
       "      <td>['Kring, Edward']</td>\n",
       "      <td>['Thursday, April 20, 2017 1:26 PM']</td>\n",
       "      <td>['Paige Carter-Smith']</td>\n",
       "      <td>['TDIA Cell']</td>\n",
       "      <td>['RE:']</td>\n",
       "      <td>['Trolley award Entry 2017.docx']</td>\n",
       "      <td>[]</td>\n",
       "      <td>['Gracias! Please send me any additions to the...</td>\n",
       "      <td>23-11-PCSgmail2014-2017.txt</td>\n",
       "      <td>18152.0</td>\n",
       "      <td>2017-04-20 13:26:00</td>\n",
       "    </tr>\n",
       "    <tr>\n",
       "      <th>302</th>\n",
       "      <td>308</td>\n",
       "      <td>['Paige Carter-Smith']</td>\n",
       "      <td>['Thursday, April 20, 2017 5:08 PM']</td>\n",
       "      <td>['edward.kring@talgov.com']</td>\n",
       "      <td>[]</td>\n",
       "      <td>['']</td>\n",
       "      <td>['Trolley award Entry 2017.docx']</td>\n",
       "      <td>[]</td>\n",
       "      <td>['', 'Research/Situation Analysis: Oh what joy...</td>\n",
       "      <td>23-11-PCSgmail2014-2017.txt</td>\n",
       "      <td>18307.0</td>\n",
       "      <td>2017-04-20 17:08:00</td>\n",
       "    </tr>\n",
       "    <tr>\n",
       "      <th>303</th>\n",
       "      <td>310</td>\n",
       "      <td>['German, Michael']</td>\n",
       "      <td>['Tuesday, May 02, 2017 9:16 AM']</td>\n",
       "      <td>[\"Amanda Sauer; catkins@crowncars.bm; jan.bubs...</td>\n",
       "      <td>[]</td>\n",
       "      <td>['E-mail']</td>\n",
       "      <td>[]</td>\n",
       "      <td>[]</td>\n",
       "      <td>['Hello all,', 'We are experiencing some e-mai...</td>\n",
       "      <td>23-11-PCSgmail2014-2017.txt</td>\n",
       "      <td>18415.0</td>\n",
       "      <td>2017-05-02 09:16:00</td>\n",
       "    </tr>\n",
       "    <tr>\n",
       "      <th>304</th>\n",
       "      <td>311</td>\n",
       "      <td>['accounting@lewispm.com']</td>\n",
       "      <td>['Tuesday, May 23, 2017 6:49 PM']</td>\n",
       "      <td>['Paige Carter-Smith', 'Date Governance Servic...</td>\n",
       "      <td>['paigecartersmith@gmail.com; scott.maddox@tal...</td>\n",
       "      <td>['Adams Street Lofts COA: Funds are required']</td>\n",
       "      <td>['Statements - Units owned by Governance Svcs ...</td>\n",
       "      <td>[]</td>\n",
       "      <td>['Date', 'Governance Services, LLC', '5/23/201...</td>\n",
       "      <td>23-11-PCSgmail2014-2017.txt</td>\n",
       "      <td>20554.0</td>\n",
       "      <td>2017-05-23 18:49:00</td>\n",
       "    </tr>\n",
       "  </tbody>\n",
       "</table>\n",
       "<p>305 rows × 12 columns</p>\n",
       "</div>"
      ],
      "text/plain": [
       "      Id                        From                                   Sent  \\\n",
       "0      1              ['Bowen, Dan']     ['Monday, April 21, 2014 5:28 PM']   \n",
       "1      3              ['Bowen, Dan']     ['Monday, April 21, 2014 5:28 PM']   \n",
       "2      0              ['Bowen, Dan']    ['Tuesday, April 22, 2014 3:34 PM']   \n",
       "3      2              ['Bowen, Dan']     ['Thursday, May 01, 2014 4:52 PM']   \n",
       "4      4  ['Gail Stansberry-Ziffer']    ['Wednesday, May 07, 2014 9:33 PM']   \n",
       "..   ...                         ...                                    ...   \n",
       "300  309      ['Paige Carter-Smith']  ['Thursday, April 20, 2017 12:26 PM']   \n",
       "301  306           ['Kring, Edward']   ['Thursday, April 20, 2017 1:26 PM']   \n",
       "302  308      ['Paige Carter-Smith']   ['Thursday, April 20, 2017 5:08 PM']   \n",
       "303  310         ['German, Michael']      ['Tuesday, May 02, 2017 9:16 AM']   \n",
       "304  311  ['accounting@lewispm.com']      ['Tuesday, May 23, 2017 6:49 PM']   \n",
       "\n",
       "                                                    To  \\\n",
       "0                         [\"'electricalsrvs@aol.com'\"]   \n",
       "1                         [\"'electricalsrvs@aol.com'\"]   \n",
       "2                     [\"'paigecartersmith@gmail.com'\"]   \n",
       "3    [\"'electricalsrvs@aol.com'; paigecartersmith@g...   \n",
       "4    ['Karen Wendland; Vince Dix, Ph.D.; Jerome Nov...   \n",
       "..                                                 ...   \n",
       "300                        ['edward.kring@talgov.com']   \n",
       "301                             ['Paige Carter-Smith']   \n",
       "302                        ['edward.kring@talgov.com']   \n",
       "303  [\"Amanda Sauer; catkins@crowncars.bm; jan.bubs...   \n",
       "304  ['Paige Carter-Smith', 'Date Governance Servic...   \n",
       "\n",
       "                                                    CC  \\\n",
       "0                                     ['Ash, Richard']   \n",
       "1                                     ['Ash, Richard']   \n",
       "2           [\"'electricalsrvs@aol.com'; Ash, Richard\"]   \n",
       "3       ['Ash, Richard; Drose, Tina; Lockwood, Kenny']   \n",
       "4                                                   []   \n",
       "..                                                 ...   \n",
       "300                                      ['TDIA Cell']   \n",
       "301                                      ['TDIA Cell']   \n",
       "302                                                 []   \n",
       "303                                                 []   \n",
       "304  ['paigecartersmith@gmail.com; scott.maddox@tal...   \n",
       "\n",
       "                                            Subject  \\\n",
       "0                               ['maddox building']   \n",
       "1                               ['maddox building']   \n",
       "2                            ['902 NORTH ADAMS ST']   \n",
       "3                           ['FW: maddox building']   \n",
       "4                          ['Hope you can join us']   \n",
       "..                                              ...   \n",
       "300                                            ['']   \n",
       "301                                         ['RE:']   \n",
       "302                                            ['']   \n",
       "303                                      ['E-mail']   \n",
       "304  ['Adams Street Lofts COA: Funds are required']   \n",
       "\n",
       "                                           Attachments Importance  \\\n",
       "0                                                   []         []   \n",
       "1                                                   []         []   \n",
       "2                        ['maddox building (5.37 KB)']         []   \n",
       "3                                                   []         []   \n",
       "4                                                   []         []   \n",
       "..                                                 ...        ...   \n",
       "300                   ['Trolley award Entry (2).docx']         []   \n",
       "301                  ['Trolley award Entry 2017.docx']         []   \n",
       "302                  ['Trolley award Entry 2017.docx']         []   \n",
       "303                                                 []         []   \n",
       "304  ['Statements - Units owned by Governance Svcs ...         []   \n",
       "\n",
       "                                                  Body  \\\n",
       "0    ['', 'Mr. Howell, per our conversation this af...   \n",
       "1    ['', 'Mr. Howell, per our conversation this af...   \n",
       "2    ['', 'Ms. Smith, Mr. Eddie Johnson had Ms. Cam...   \n",
       "3    ['', 'Mr. Howell, The email below was the last...   \n",
       "4    ['', 'Tomorrow morning Gil and I will be on-ai...   \n",
       "..                                                 ...   \n",
       "300  ['', 'Research/Situation Analysis: Oh what joy...   \n",
       "301  ['Gracias! Please send me any additions to the...   \n",
       "302  ['', 'Research/Situation Analysis: Oh what joy...   \n",
       "303  ['Hello all,', 'We are experiencing some e-mai...   \n",
       "304  ['Date', 'Governance Services, LLC', '5/23/201...   \n",
       "\n",
       "                        FromFile  FileLineNo               Sent2  \n",
       "0    23-11-PCSgmail2014-2017.txt        57.0 2014-04-21 17:28:00  \n",
       "1    23-11-PCSgmail2014-2017.txt       113.0 2014-04-21 17:28:00  \n",
       "2    23-11-PCSgmail2014-2017.txt        26.0 2014-04-22 15:34:00  \n",
       "3    23-11-PCSgmail2014-2017.txt        81.0 2014-05-01 16:52:00  \n",
       "4    23-11-PCSgmail2014-2017.txt       155.0 2014-05-07 21:33:00  \n",
       "..                           ...         ...                 ...  \n",
       "300  23-11-PCSgmail2014-2017.txt     18392.0 2017-04-20 12:26:00  \n",
       "301  23-11-PCSgmail2014-2017.txt     18152.0 2017-04-20 13:26:00  \n",
       "302  23-11-PCSgmail2014-2017.txt     18307.0 2017-04-20 17:08:00  \n",
       "303  23-11-PCSgmail2014-2017.txt     18415.0 2017-05-02 09:16:00  \n",
       "304  23-11-PCSgmail2014-2017.txt     20554.0 2017-05-23 18:49:00  \n",
       "\n",
       "[305 rows x 12 columns]"
      ]
     },
     "execution_count": 69,
     "metadata": {},
     "output_type": "execute_result"
    }
   ],
   "source": [
    "df2"
   ]
  },
  {
   "cell_type": "code",
   "execution_count": 66,
   "metadata": {
    "collapsed": true,
    "jupyter": {
     "outputs_hidden": true
    }
   },
   "outputs": [
    {
     "data": {
      "text/html": [
       "<div>\n",
       "<style scoped>\n",
       "    .dataframe tbody tr th:only-of-type {\n",
       "        vertical-align: middle;\n",
       "    }\n",
       "\n",
       "    .dataframe tbody tr th {\n",
       "        vertical-align: top;\n",
       "    }\n",
       "\n",
       "    .dataframe thead th {\n",
       "        text-align: right;\n",
       "    }\n",
       "</style>\n",
       "<table border=\"1\" class=\"dataframe\">\n",
       "  <thead>\n",
       "    <tr style=\"text-align: right;\">\n",
       "      <th></th>\n",
       "      <th>From</th>\n",
       "      <th>Sent</th>\n",
       "      <th>To</th>\n",
       "      <th>CC</th>\n",
       "      <th>Subject</th>\n",
       "      <th>Attachments</th>\n",
       "      <th>Importance</th>\n",
       "      <th>Body</th>\n",
       "      <th>Sent2</th>\n",
       "    </tr>\n",
       "  </thead>\n",
       "  <tbody>\n",
       "    <tr>\n",
       "      <th>0</th>\n",
       "      <td>['Heiter, Deborah [mailto:Deborah.Heiter@talgo...</td>\n",
       "      <td>['Friday, January 20, 2012 4:41 PM']</td>\n",
       "      <td>[\"Behenna, Bill; Branch, Cathy; Burn, Paula; C...</td>\n",
       "      <td>[]</td>\n",
       "      <td>['Economic Development Target Issue Meeting']</td>\n",
       "      <td>[]</td>\n",
       "      <td>[]</td>\n",
       "      <td>['', 'Deborah L. Heiter', 'Administrative Spec...</td>\n",
       "      <td>2012-01-20 16:41:00</td>\n",
       "    </tr>\n",
       "    <tr>\n",
       "      <th>1</th>\n",
       "      <td>['Beth Kirkland [mailto:bkirkland@taledc.com]']</td>\n",
       "      <td>['Monday, January 23, 2012 9:32 AM']</td>\n",
       "      <td>[\"'llaubscher@eflorida.com'\"]</td>\n",
       "      <td>[\"brook.pace@deo.myflorida.com; Kim Rivers (ki...</td>\n",
       "      <td>['City of Tallahassee meeting regarding SBCI']</td>\n",
       "      <td>[]</td>\n",
       "      <td>[]</td>\n",
       "      <td>['Louis,', 'Thank you for meeting with us in F...</td>\n",
       "      <td>2012-01-23 09:32:00</td>\n",
       "    </tr>\n",
       "    <tr>\n",
       "      <th>2</th>\n",
       "      <td>['Wiebler, Brian T.']</td>\n",
       "      <td>['Monday, February 27, 2012 10:04 AM']</td>\n",
       "      <td>[]</td>\n",
       "      <td>[]</td>\n",
       "      <td>['Rural Density']</td>\n",
       "      <td>[]</td>\n",
       "      <td>[]</td>\n",
       "      <td>['']</td>\n",
       "      <td>2012-02-27 10:04:00</td>\n",
       "    </tr>\n",
       "    <tr>\n",
       "      <th>3</th>\n",
       "      <td>['Beaudoin, Mark']</td>\n",
       "      <td>['Monday, March 05, 2012 11:33 AM']</td>\n",
       "      <td>['Corey, Adam']</td>\n",
       "      <td>['English, Jim; Coe, Torn; Bell?ower, Adrienne']</td>\n",
       "      <td>['Sidewalk Cafe Agreement']</td>\n",
       "      <td>[]</td>\n",
       "      <td>[]</td>\n",
       "      <td>['', 'Adam, thanks for the update regarding th...</td>\n",
       "      <td>2012-03-05 11:33:00</td>\n",
       "    </tr>\n",
       "    <tr>\n",
       "      <th>4</th>\n",
       "      <td>['Wiebler, Brian T.']</td>\n",
       "      <td>['Tuesday, March 27, 2012 3:59 PM']</td>\n",
       "      <td>['Wiebler, Brian T.']</td>\n",
       "      <td>[]</td>\n",
       "      <td>['Rural Density Comprehensive Plan Text Amendm...</td>\n",
       "      <td>[]</td>\n",
       "      <td>[]</td>\n",
       "      <td>['', 'This is a reminder of the open house eve...</td>\n",
       "      <td>2012-03-27 15:59:00</td>\n",
       "    </tr>\n",
       "    <tr>\n",
       "      <th>...</th>\n",
       "      <td>...</td>\n",
       "      <td>...</td>\n",
       "      <td>...</td>\n",
       "      <td>...</td>\n",
       "      <td>...</td>\n",
       "      <td>...</td>\n",
       "      <td>...</td>\n",
       "      <td>...</td>\n",
       "      <td>...</td>\n",
       "    </tr>\n",
       "    <tr>\n",
       "      <th>13085</th>\n",
       "      <td>['Campbell, Stacey']</td>\n",
       "      <td>['Friday, June 23, 2017 1:27 PM']</td>\n",
       "      <td>['Ryan Grindler']</td>\n",
       "      <td>['Donahoe, Judy']</td>\n",
       "      <td>['RE: Request: Construction Warranties']</td>\n",
       "      <td>[]</td>\n",
       "      <td>[]</td>\n",
       "      <td>['Perfect, thank you.']</td>\n",
       "      <td>2017-06-23 13:27:00</td>\n",
       "    </tr>\n",
       "    <tr>\n",
       "      <th>13086</th>\n",
       "      <td>['Gil Ziffer [mailto:gil@ziffberry.com]']</td>\n",
       "      <td>['Wednesday, June 28, 2017 3:32 PM']</td>\n",
       "      <td>['Branch, Cathy &lt;Cathy.Branch@talgov.com&gt;']</td>\n",
       "      <td>[]</td>\n",
       "      <td>['Fwd: 2013 AIP Forum White Paper_final (3).pdf']</td>\n",
       "      <td>[]</td>\n",
       "      <td>[]</td>\n",
       "      <td>['', 'Gil Ziffer', '(850) 509-7886']</td>\n",
       "      <td>2017-06-28 15:32:00</td>\n",
       "    </tr>\n",
       "    <tr>\n",
       "      <th>13087</th>\n",
       "      <td>['Gil Ziffer [mailto:gil@ziffberry.com]']</td>\n",
       "      <td>['Thursday, June 29, 2017 4:41 AM']</td>\n",
       "      <td>['Branch, Cathy &lt;Cathy.Branch@talgov.com&gt;']</td>\n",
       "      <td>[]</td>\n",
       "      <td>['Fwd: 2013 AIP Forum White Paper_final (3).pdf']</td>\n",
       "      <td>[]</td>\n",
       "      <td>[]</td>\n",
       "      <td>['', 'Subpoena']</td>\n",
       "      <td>2017-06-29 04:41:00</td>\n",
       "    </tr>\n",
       "    <tr>\n",
       "      <th>13088</th>\n",
       "      <td>['Gil Ziffer [mailto:gil@ziffberry.com]']</td>\n",
       "      <td>['Thursday, June 29, 2017 5:35 AM']</td>\n",
       "      <td>['Branch, Cathy &lt;Cathy.Branch@talgov.com&gt;']</td>\n",
       "      <td>[]</td>\n",
       "      <td>['Fwd: RE: Fwd:']</td>\n",
       "      <td>[]</td>\n",
       "      <td>[]</td>\n",
       "      <td>['', 'Subpoena']</td>\n",
       "      <td>2017-06-29 05:35:00</td>\n",
       "    </tr>\n",
       "    <tr>\n",
       "      <th>13089</th>\n",
       "      <td>['Gil Ziffer [mailto:gil@ziffberry.com]']</td>\n",
       "      <td>['Thursday, June 29, 2017 5:36 AM']</td>\n",
       "      <td>['Branch, Cathy &lt;Cathy.Branch@talgov.com&gt;']</td>\n",
       "      <td>[]</td>\n",
       "      <td>['Fwd: Sundown Sponsorship info']</td>\n",
       "      <td>[]</td>\n",
       "      <td>[]</td>\n",
       "      <td>['', 'Subpoena']</td>\n",
       "      <td>2017-06-29 05:36:00</td>\n",
       "    </tr>\n",
       "  </tbody>\n",
       "</table>\n",
       "<p>13090 rows × 9 columns</p>\n",
       "</div>"
      ],
      "text/plain": [
       "                                                    From  \\\n",
       "0      ['Heiter, Deborah [mailto:Deborah.Heiter@talgo...   \n",
       "1        ['Beth Kirkland [mailto:bkirkland@taledc.com]']   \n",
       "2                                  ['Wiebler, Brian T.']   \n",
       "3                                     ['Beaudoin, Mark']   \n",
       "4                                  ['Wiebler, Brian T.']   \n",
       "...                                                  ...   \n",
       "13085                               ['Campbell, Stacey']   \n",
       "13086          ['Gil Ziffer [mailto:gil@ziffberry.com]']   \n",
       "13087          ['Gil Ziffer [mailto:gil@ziffberry.com]']   \n",
       "13088          ['Gil Ziffer [mailto:gil@ziffberry.com]']   \n",
       "13089          ['Gil Ziffer [mailto:gil@ziffberry.com]']   \n",
       "\n",
       "                                         Sent  \\\n",
       "0        ['Friday, January 20, 2012 4:41 PM']   \n",
       "1        ['Monday, January 23, 2012 9:32 AM']   \n",
       "2      ['Monday, February 27, 2012 10:04 AM']   \n",
       "3         ['Monday, March 05, 2012 11:33 AM']   \n",
       "4         ['Tuesday, March 27, 2012 3:59 PM']   \n",
       "...                                       ...   \n",
       "13085       ['Friday, June 23, 2017 1:27 PM']   \n",
       "13086    ['Wednesday, June 28, 2017 3:32 PM']   \n",
       "13087     ['Thursday, June 29, 2017 4:41 AM']   \n",
       "13088     ['Thursday, June 29, 2017 5:35 AM']   \n",
       "13089     ['Thursday, June 29, 2017 5:36 AM']   \n",
       "\n",
       "                                                      To  \\\n",
       "0      [\"Behenna, Bill; Branch, Cathy; Burn, Paula; C...   \n",
       "1                          [\"'llaubscher@eflorida.com'\"]   \n",
       "2                                                     []   \n",
       "3                                        ['Corey, Adam']   \n",
       "4                                  ['Wiebler, Brian T.']   \n",
       "...                                                  ...   \n",
       "13085                                  ['Ryan Grindler']   \n",
       "13086        ['Branch, Cathy <Cathy.Branch@talgov.com>']   \n",
       "13087        ['Branch, Cathy <Cathy.Branch@talgov.com>']   \n",
       "13088        ['Branch, Cathy <Cathy.Branch@talgov.com>']   \n",
       "13089        ['Branch, Cathy <Cathy.Branch@talgov.com>']   \n",
       "\n",
       "                                                      CC  \\\n",
       "0                                                     []   \n",
       "1      [\"brook.pace@deo.myflorida.com; Kim Rivers (ki...   \n",
       "2                                                     []   \n",
       "3       ['English, Jim; Coe, Torn; Bell?ower, Adrienne']   \n",
       "4                                                     []   \n",
       "...                                                  ...   \n",
       "13085                                  ['Donahoe, Judy']   \n",
       "13086                                                 []   \n",
       "13087                                                 []   \n",
       "13088                                                 []   \n",
       "13089                                                 []   \n",
       "\n",
       "                                                 Subject Attachments  \\\n",
       "0          ['Economic Development Target Issue Meeting']          []   \n",
       "1         ['City of Tallahassee meeting regarding SBCI']          []   \n",
       "2                                      ['Rural Density']          []   \n",
       "3                            ['Sidewalk Cafe Agreement']          []   \n",
       "4      ['Rural Density Comprehensive Plan Text Amendm...          []   \n",
       "...                                                  ...         ...   \n",
       "13085           ['RE: Request: Construction Warranties']          []   \n",
       "13086  ['Fwd: 2013 AIP Forum White Paper_final (3).pdf']          []   \n",
       "13087  ['Fwd: 2013 AIP Forum White Paper_final (3).pdf']          []   \n",
       "13088                                  ['Fwd: RE: Fwd:']          []   \n",
       "13089                  ['Fwd: Sundown Sponsorship info']          []   \n",
       "\n",
       "      Importance                                               Body  \\\n",
       "0             []  ['', 'Deborah L. Heiter', 'Administrative Spec...   \n",
       "1             []  ['Louis,', 'Thank you for meeting with us in F...   \n",
       "2             []                                               ['']   \n",
       "3             []  ['', 'Adam, thanks for the update regarding th...   \n",
       "4             []  ['', 'This is a reminder of the open house eve...   \n",
       "...          ...                                                ...   \n",
       "13085         []                            ['Perfect, thank you.']   \n",
       "13086         []               ['', 'Gil Ziffer', '(850) 509-7886']   \n",
       "13087         []                                   ['', 'Subpoena']   \n",
       "13088         []                                   ['', 'Subpoena']   \n",
       "13089         []                                   ['', 'Subpoena']   \n",
       "\n",
       "                    Sent2  \n",
       "0     2012-01-20 16:41:00  \n",
       "1     2012-01-23 09:32:00  \n",
       "2     2012-02-27 10:04:00  \n",
       "3     2012-03-05 11:33:00  \n",
       "4     2012-03-27 15:59:00  \n",
       "...                   ...  \n",
       "13085 2017-06-23 13:27:00  \n",
       "13086 2017-06-28 15:32:00  \n",
       "13087 2017-06-29 04:41:00  \n",
       "13088 2017-06-29 05:35:00  \n",
       "13089 2017-06-29 05:36:00  \n",
       "\n",
       "[13090 rows x 9 columns]"
      ]
     },
     "execution_count": 66,
     "metadata": {},
     "output_type": "execute_result"
    }
   ],
   "source": [
    "df2.drop_duplicates(subset=['From','Sent2'],keep='first',inplace = True)\n",
    "df2 = df2.reset_index(drop=True)\n",
    "# df_redacted = df2.copy()\n",
    "df_old = df2.copy()\n",
    "\n",
    "# df2.to_csv('output4_without_dups.csv')\n",
    "# df_redacted.to_csv('redacted_emails.csv')\n",
    "# df_unredacted.to_csv('unredacted_emails.csv')\n",
    "df_old.to_csv('old_emails. csv')\n",
    "\n",
    "df2"
   ]
  }
 ],
 "metadata": {
  "kernelspec": {
   "display_name": "Python 3 (ipykernel)",
   "language": "python",
   "name": "python3"
  },
  "language_info": {
   "codemirror_mode": {
    "name": "ipython",
    "version": 3
   },
   "file_extension": ".py",
   "mimetype": "text/x-python",
   "name": "python",
   "nbconvert_exporter": "python",
   "pygments_lexer": "ipython3",
   "version": "3.8.12"
  },
  "widgets": {
   "application/vnd.jupyter.widget-state+json": {
    "state": {
     "0081ab5414f346c5b5a810b2f50d96fb": {
      "model_module": "@jupyter-widgets/controls",
      "model_module_version": "1.5.0",
      "model_name": "HTMLModel",
      "state": {
       "layout": "IPY_MODEL_ca971ba168834ed1967f86458a9a1f13",
       "style": "IPY_MODEL_c0cce4b81c654d15a28d867edf8bd3f6",
       "value": " 0/338 [00:00&lt;?, ?it/s]"
      }
     },
     "009faaa23e524c7fb8de103b4485ba94": {
      "model_module": "@jupyter-widgets/controls",
      "model_module_version": "1.5.0",
      "model_name": "ProgressStyleModel",
      "state": {
       "description_width": ""
      }
     },
     "00b21435bb68434dad9c0ea02baf9e08": {
      "model_module": "@jupyter-widgets/base",
      "model_module_version": "1.2.0",
      "model_name": "LayoutModel",
      "state": {}
     },
     "02a0a1fbff10401584f0ce900575ec15": {
      "model_module": "@jupyter-widgets/controls",
      "model_module_version": "1.5.0",
      "model_name": "HTMLModel",
      "state": {
       "layout": "IPY_MODEL_ea5e6ff453bb4aeba647acddda7408c2",
       "style": "IPY_MODEL_d5c0528bb9884e01ba05c47c3cadecb1",
       "value": " 338/338 [00:00&lt;00:00, 2044.17it/s]"
      }
     },
     "02e34dfcf01440b29fcb1a6548f45108": {
      "model_module": "@jupyter-widgets/controls",
      "model_module_version": "1.5.0",
      "model_name": "HTMLModel",
      "state": {
       "layout": "IPY_MODEL_fcdab1233922421da2706b90dfc87a24",
       "style": "IPY_MODEL_0581a2433f98493bb28f169e096a7abc",
       "value": "100%"
      }
     },
     "031477044ca944e0b70ff10cfc98f5f2": {
      "model_module": "@jupyter-widgets/controls",
      "model_module_version": "1.5.0",
      "model_name": "HTMLModel",
      "state": {
       "layout": "IPY_MODEL_9440390a53c043ac944ceeadc30796ed",
       "style": "IPY_MODEL_efc9136e198b4b5295462f5ad59d6f9d",
       "value": "  0%"
      }
     },
     "0342ff1a965a4fd9bbe2755bf82f3990": {
      "model_module": "@jupyter-widgets/controls",
      "model_module_version": "1.5.0",
      "model_name": "HTMLModel",
      "state": {
       "layout": "IPY_MODEL_f5c7bf81c0e04a2cb5773ac6b953e232",
       "style": "IPY_MODEL_53f3dfd226f044baa905acd8ee34538c",
       "value": " 338/338 [00:00&lt;00:00, 9438.96it/s]"
      }
     },
     "037697740de142b3a3abd34b53954738": {
      "model_module": "@jupyter-widgets/controls",
      "model_module_version": "1.5.0",
      "model_name": "HBoxModel",
      "state": {
       "children": [
        "IPY_MODEL_9f11e662314746a0bccedb983015f400",
        "IPY_MODEL_654d8dba16f445bc801c310027f7e5e3",
        "IPY_MODEL_1253263a9b1e44fdabbfb0822ce7c66d"
       ],
       "layout": "IPY_MODEL_cd1dd4c497f248138b96ca990b17eaf6"
      }
     },
     "04fe7d92991d45edac296fe807c60c77": {
      "model_module": "@jupyter-widgets/controls",
      "model_module_version": "1.5.0",
      "model_name": "HBoxModel",
      "state": {
       "children": [
        "IPY_MODEL_02e34dfcf01440b29fcb1a6548f45108",
        "IPY_MODEL_b219e95a41f54e61bfaeb3a73e9570ea",
        "IPY_MODEL_82d54acc87ca4fd5af91e53f79b9438f"
       ],
       "layout": "IPY_MODEL_464d8dd5c52f4507b5095ae73639b5cc"
      }
     },
     "0581a2433f98493bb28f169e096a7abc": {
      "model_module": "@jupyter-widgets/controls",
      "model_module_version": "1.5.0",
      "model_name": "DescriptionStyleModel",
      "state": {
       "description_width": ""
      }
     },
     "06614f689d414d8a900f669d1ab7fbec": {
      "model_module": "@jupyter-widgets/controls",
      "model_module_version": "1.5.0",
      "model_name": "FloatProgressModel",
      "state": {
       "bar_style": "success",
       "layout": "IPY_MODEL_f26d70d936ab436db79a0e3bfbb83908",
       "max": 1,
       "style": "IPY_MODEL_7386907ff6694d63b78a206cc4148fff"
      }
     },
     "066810bb1bc24c368282ae14b9699b3f": {
      "model_module": "@jupyter-widgets/controls",
      "model_module_version": "1.5.0",
      "model_name": "DescriptionStyleModel",
      "state": {
       "description_width": ""
      }
     },
     "0680d13ab23d43359e93d5fd337a0bd9": {
      "model_module": "@jupyter-widgets/controls",
      "model_module_version": "1.5.0",
      "model_name": "DescriptionStyleModel",
      "state": {
       "description_width": ""
      }
     },
     "06854116467f400cb25b35117dc5378f": {
      "model_module": "@jupyter-widgets/base",
      "model_module_version": "1.2.0",
      "model_name": "LayoutModel",
      "state": {}
     },
     "069496d77be14179951974b4c9b1a0bf": {
      "model_module": "@jupyter-widgets/controls",
      "model_module_version": "1.5.0",
      "model_name": "ProgressStyleModel",
      "state": {
       "description_width": ""
      }
     },
     "06d5a701c4ce4e2e8107db5321fba50a": {
      "model_module": "@jupyter-widgets/controls",
      "model_module_version": "1.5.0",
      "model_name": "HBoxModel",
      "state": {
       "children": [
        "IPY_MODEL_cf7a84ac5c32469d923d76f189e0469d",
        "IPY_MODEL_c9ac6f6695244f319c31e99082f24705",
        "IPY_MODEL_58c264b84a13457497eb8f6377828205"
       ],
       "layout": "IPY_MODEL_3ee6de7b6d83421bb6c719b88e258ebb"
      }
     },
     "07936e147a124f66bc93b5910b546590": {
      "model_module": "@jupyter-widgets/controls",
      "model_module_version": "1.5.0",
      "model_name": "FloatProgressModel",
      "state": {
       "bar_style": "success",
       "layout": "IPY_MODEL_13c0eacc730841e9a2aefea3d519cd56",
       "max": 338,
       "style": "IPY_MODEL_9286776e9bbf4b83a419d4285a39a22a",
       "value": 338
      }
     },
     "079f7dee5f2442f3a6a12833cf31bc77": {
      "model_module": "@jupyter-widgets/controls",
      "model_module_version": "1.5.0",
      "model_name": "HTMLModel",
      "state": {
       "layout": "IPY_MODEL_5b8921d792e24554b22eb667d01bc0c5",
       "style": "IPY_MODEL_33544b78264e486ab1e745aaf1287efa",
       "value": " 338/338 [00:00&lt;00:00, 8613.00it/s]"
      }
     },
     "07bc4c42fb5f4637a8a5fcb999612d2b": {
      "model_module": "@jupyter-widgets/controls",
      "model_module_version": "1.5.0",
      "model_name": "DescriptionStyleModel",
      "state": {
       "description_width": ""
      }
     },
     "07f1fa6286064c69a14762cdc0cd4592": {
      "model_module": "@jupyter-widgets/base",
      "model_module_version": "1.2.0",
      "model_name": "LayoutModel",
      "state": {}
     },
     "08570e42a9f14930968d94a8064650c9": {
      "model_module": "@jupyter-widgets/controls",
      "model_module_version": "1.5.0",
      "model_name": "HBoxModel",
      "state": {
       "children": [
        "IPY_MODEL_d12e07b8f0934386b7138a5843e35120",
        "IPY_MODEL_c41d77e133d9468f94358ae51b36c395",
        "IPY_MODEL_121edcc569fe4d30a67b239d2face225"
       ],
       "layout": "IPY_MODEL_54ed0259fa624d41ad867644e11bb703"
      }
     },
     "087a0b7a87704a22a9b71138e622cd12": {
      "model_module": "@jupyter-widgets/controls",
      "model_module_version": "1.5.0",
      "model_name": "ProgressStyleModel",
      "state": {
       "description_width": ""
      }
     },
     "08fd1a7e55f34156a288adf3207294a1": {
      "model_module": "@jupyter-widgets/controls",
      "model_module_version": "1.5.0",
      "model_name": "DescriptionStyleModel",
      "state": {
       "description_width": ""
      }
     },
     "0a7c448649ea4567a1dc055438303868": {
      "model_module": "@jupyter-widgets/base",
      "model_module_version": "1.2.0",
      "model_name": "LayoutModel",
      "state": {}
     },
     "0b4061719eaf4109a6d56dd8e1590f98": {
      "model_module": "@jupyter-widgets/controls",
      "model_module_version": "1.5.0",
      "model_name": "FloatProgressModel",
      "state": {
       "bar_style": "success",
       "layout": "IPY_MODEL_779c306db7904883b4e10b562f30dbf2",
       "max": 338,
       "style": "IPY_MODEL_def0d114ba0042a6a353b2cbd8493be9",
       "value": 338
      }
     },
     "0b63f9d56e2044a69b1dd32c32053aea": {
      "model_module": "@jupyter-widgets/base",
      "model_module_version": "1.2.0",
      "model_name": "LayoutModel",
      "state": {}
     },
     "0be2cf48901447a3a31b27d174642b13": {
      "model_module": "@jupyter-widgets/base",
      "model_module_version": "1.2.0",
      "model_name": "LayoutModel",
      "state": {}
     },
     "0c2d58f7ff234c62af23363d99e5b7f0": {
      "model_module": "@jupyter-widgets/base",
      "model_module_version": "1.2.0",
      "model_name": "LayoutModel",
      "state": {}
     },
     "0c4e434c07f94f9ea2b581e2d0caa361": {
      "model_module": "@jupyter-widgets/controls",
      "model_module_version": "1.5.0",
      "model_name": "HBoxModel",
      "state": {
       "children": [
        "IPY_MODEL_e2c063741ee043258f42e0a903b883a7",
        "IPY_MODEL_fa5e53f3b61c46ea8326a06bc99ee4e3",
        "IPY_MODEL_68dd7e23795040e4aedc38cd865960c6"
       ],
       "layout": "IPY_MODEL_27031a8535a2458faf4d9357cb6c48cf"
      }
     },
     "0cd647fd087845769ffbbf17a1ce544c": {
      "model_module": "@jupyter-widgets/base",
      "model_module_version": "1.2.0",
      "model_name": "LayoutModel",
      "state": {}
     },
     "0ce7c8ac7962429d8a43aa96523ed79c": {
      "model_module": "@jupyter-widgets/controls",
      "model_module_version": "1.5.0",
      "model_name": "DescriptionStyleModel",
      "state": {
       "description_width": ""
      }
     },
     "0cf9faa921894b2caacc202add0aac6c": {
      "model_module": "@jupyter-widgets/controls",
      "model_module_version": "1.5.0",
      "model_name": "DescriptionStyleModel",
      "state": {
       "description_width": ""
      }
     },
     "0d45e9d10b504a94b0565f5729ad2f82": {
      "model_module": "@jupyter-widgets/controls",
      "model_module_version": "1.5.0",
      "model_name": "DescriptionStyleModel",
      "state": {
       "description_width": ""
      }
     },
     "0d7c9b0fd8964ddc9bfc71335d5db79d": {
      "model_module": "@jupyter-widgets/base",
      "model_module_version": "1.2.0",
      "model_name": "LayoutModel",
      "state": {}
     },
     "0e07c9a4ee1b4146bb3f6ddf7032360d": {
      "model_module": "@jupyter-widgets/controls",
      "model_module_version": "1.5.0",
      "model_name": "FloatProgressModel",
      "state": {
       "bar_style": "success",
       "layout": "IPY_MODEL_e4bab5d5f3a148ac8a4737d7ae117c2e",
       "max": 338,
       "style": "IPY_MODEL_d7ebfe895cf7483fad3089ee45439eb8",
       "value": 338
      }
     },
     "0e47c9948c3d4877aaf81f5315ea9425": {
      "model_module": "@jupyter-widgets/base",
      "model_module_version": "1.2.0",
      "model_name": "LayoutModel",
      "state": {}
     },
     "0ecd4124d6a0465e9d63f761348e9a8a": {
      "model_module": "@jupyter-widgets/controls",
      "model_module_version": "1.5.0",
      "model_name": "DescriptionStyleModel",
      "state": {
       "description_width": ""
      }
     },
     "0f53b5f1b3b740d8b91d1243534a7a88": {
      "model_module": "@jupyter-widgets/base",
      "model_module_version": "1.2.0",
      "model_name": "LayoutModel",
      "state": {
       "width": "20px"
      }
     },
     "0f7ef0bdb7dd439dabfd75dc33d771ca": {
      "model_module": "@jupyter-widgets/base",
      "model_module_version": "1.2.0",
      "model_name": "LayoutModel",
      "state": {}
     },
     "0fa552f95c1542dc86f076cd3f315ba5": {
      "model_module": "@jupyter-widgets/controls",
      "model_module_version": "1.5.0",
      "model_name": "DescriptionStyleModel",
      "state": {
       "description_width": ""
      }
     },
     "0fda7092411b425dbece187d9230fd94": {
      "model_module": "@jupyter-widgets/controls",
      "model_module_version": "1.5.0",
      "model_name": "DescriptionStyleModel",
      "state": {
       "description_width": ""
      }
     },
     "1001ffc4f0ce4ac3a544bec208199357": {
      "model_module": "@jupyter-widgets/controls",
      "model_module_version": "1.5.0",
      "model_name": "DescriptionStyleModel",
      "state": {
       "description_width": ""
      }
     },
     "101dd8cc050c4733a3dc9f5fef23e98d": {
      "model_module": "@jupyter-widgets/controls",
      "model_module_version": "1.5.0",
      "model_name": "HTMLModel",
      "state": {
       "layout": "IPY_MODEL_455f9630b8eb4616ace3c9d9fd5cac62",
       "style": "IPY_MODEL_0cf9faa921894b2caacc202add0aac6c",
       "value": "100%"
      }
     },
     "104eaf48fd654733a2d0b10af6e986d6": {
      "model_module": "@jupyter-widgets/base",
      "model_module_version": "1.2.0",
      "model_name": "LayoutModel",
      "state": {}
     },
     "106ec48bec554a308fea944f7e1d266e": {
      "model_module": "@jupyter-widgets/base",
      "model_module_version": "1.2.0",
      "model_name": "LayoutModel",
      "state": {}
     },
     "10733537779a404d877bf1e9242e0ab9": {
      "model_module": "@jupyter-widgets/controls",
      "model_module_version": "1.5.0",
      "model_name": "DescriptionStyleModel",
      "state": {
       "description_width": ""
      }
     },
     "10bb2bb52d1a4d57b5236498a64d4824": {
      "model_module": "@jupyter-widgets/controls",
      "model_module_version": "1.5.0",
      "model_name": "HTMLModel",
      "state": {
       "layout": "IPY_MODEL_9f3851c2631245b48504901e55e4fa4c",
       "style": "IPY_MODEL_a0bcd67cbf274669984c8b0af79beef4",
       "value": "100%"
      }
     },
     "1103c31bc7c94fa9bb7433bfcaea6f40": {
      "model_module": "@jupyter-widgets/controls",
      "model_module_version": "1.5.0",
      "model_name": "HTMLModel",
      "state": {
       "layout": "IPY_MODEL_b789c4c089b343fba360b8b978ddac3a",
       "style": "IPY_MODEL_db272e1587c74df79680d3ded758cbe6",
       "value": "100%"
      }
     },
     "114c831c7cf1451dbd11acbcc06a0dc0": {
      "model_module": "@jupyter-widgets/base",
      "model_module_version": "1.2.0",
      "model_name": "LayoutModel",
      "state": {}
     },
     "115fb337773a414999f1ba81448fef06": {
      "model_module": "@jupyter-widgets/controls",
      "model_module_version": "1.5.0",
      "model_name": "DescriptionStyleModel",
      "state": {
       "description_width": ""
      }
     },
     "1167e07520234036ad653d36f87aa7ec": {
      "model_module": "@jupyter-widgets/controls",
      "model_module_version": "1.5.0",
      "model_name": "HTMLModel",
      "state": {
       "layout": "IPY_MODEL_b7be74bedb0244c4b95a53f02b3f19ef",
       "style": "IPY_MODEL_07bc4c42fb5f4637a8a5fcb999612d2b",
       "value": "  0%"
      }
     },
     "11a85d198e2849b4a44fb93ce2d01f6e": {
      "model_module": "@jupyter-widgets/base",
      "model_module_version": "1.2.0",
      "model_name": "LayoutModel",
      "state": {}
     },
     "120d5feab39244ef9994fb1ff422283d": {
      "model_module": "@jupyter-widgets/controls",
      "model_module_version": "1.5.0",
      "model_name": "DescriptionStyleModel",
      "state": {
       "description_width": ""
      }
     },
     "121edcc569fe4d30a67b239d2face225": {
      "model_module": "@jupyter-widgets/controls",
      "model_module_version": "1.5.0",
      "model_name": "HTMLModel",
      "state": {
       "layout": "IPY_MODEL_28db0fabc683482caf5819d2b2194b9a",
       "style": "IPY_MODEL_800c7872b1374ce3bcdc264d8113c5c7",
       "value": " 338/338 [00:00&lt;00:00, 2032.45it/s]"
      }
     },
     "1234e2ab1b2a40f2a8fbf24db9c303cb": {
      "model_module": "@jupyter-widgets/controls",
      "model_module_version": "1.5.0",
      "model_name": "FloatProgressModel",
      "state": {
       "bar_style": "success",
       "layout": "IPY_MODEL_e74a2beb8cd549478d3f9923b750df08",
       "max": 338,
       "style": "IPY_MODEL_d9d936c2d2b94e359e1bfe57b0dc7372",
       "value": 338
      }
     },
     "1253263a9b1e44fdabbfb0822ce7c66d": {
      "model_module": "@jupyter-widgets/controls",
      "model_module_version": "1.5.0",
      "model_name": "HTMLModel",
      "state": {
       "layout": "IPY_MODEL_4db0061ed3214937bc04faa8b9049628",
       "style": "IPY_MODEL_55d83686845e4f47827ec3c2d660e403",
       "value": " 338/338 [00:00&lt;00:00, 2195.24it/s]"
      }
     },
     "125f96b194874e6bbedc1b167cb79289": {
      "model_module": "@jupyter-widgets/base",
      "model_module_version": "1.2.0",
      "model_name": "LayoutModel",
      "state": {}
     },
     "12d8d94c40404182b349e3cbdd20efd4": {
      "model_module": "@jupyter-widgets/controls",
      "model_module_version": "1.5.0",
      "model_name": "DescriptionStyleModel",
      "state": {
       "description_width": ""
      }
     },
     "138ce42c073240f5aa9d23ab7a109ca9": {
      "model_module": "@jupyter-widgets/controls",
      "model_module_version": "1.5.0",
      "model_name": "DescriptionStyleModel",
      "state": {
       "description_width": ""
      }
     },
     "13c0eacc730841e9a2aefea3d519cd56": {
      "model_module": "@jupyter-widgets/base",
      "model_module_version": "1.2.0",
      "model_name": "LayoutModel",
      "state": {}
     },
     "13cb8aff490349349deac3c3889e0d5f": {
      "model_module": "@jupyter-widgets/controls",
      "model_module_version": "1.5.0",
      "model_name": "ProgressStyleModel",
      "state": {
       "description_width": ""
      }
     },
     "1451cc5345d9489d85ee4cec893e0b48": {
      "model_module": "@jupyter-widgets/controls",
      "model_module_version": "1.5.0",
      "model_name": "DescriptionStyleModel",
      "state": {
       "description_width": ""
      }
     },
     "15ca028c036e471a91e97c314ae1c54a": {
      "model_module": "@jupyter-widgets/controls",
      "model_module_version": "1.5.0",
      "model_name": "HTMLModel",
      "state": {
       "layout": "IPY_MODEL_2702d27394a1441faa8435428bff1f13",
       "style": "IPY_MODEL_400218d53f544f5084b47bc0ee2db9b7",
       "value": "100%"
      }
     },
     "162ba243bad54a5d876bfaf83688a222": {
      "model_module": "@jupyter-widgets/base",
      "model_module_version": "1.2.0",
      "model_name": "LayoutModel",
      "state": {}
     },
     "1642acd5c7664de18e7fb70acdd7c212": {
      "model_module": "@jupyter-widgets/controls",
      "model_module_version": "1.5.0",
      "model_name": "HTMLModel",
      "state": {
       "layout": "IPY_MODEL_1e3a6cb4c5944d858a02c2f0f49048cd",
       "style": "IPY_MODEL_066810bb1bc24c368282ae14b9699b3f",
       "value": " 338/338 [00:00&lt;00:00, 11206.21it/s]"
      }
     },
     "16465dff3bad4868bed3d54d40406493": {
      "model_module": "@jupyter-widgets/base",
      "model_module_version": "1.2.0",
      "model_name": "LayoutModel",
      "state": {}
     },
     "16a8821e84c7434aa0c0842088c46705": {
      "model_module": "@jupyter-widgets/base",
      "model_module_version": "1.2.0",
      "model_name": "LayoutModel",
      "state": {}
     },
     "1714c0b503a6460381235c6c6783ef2d": {
      "model_module": "@jupyter-widgets/controls",
      "model_module_version": "1.5.0",
      "model_name": "HBoxModel",
      "state": {
       "children": [
        "IPY_MODEL_7a95823102f146398e696024856a0170",
        "IPY_MODEL_85b5f26bb08340248ecb6a066f0dcc52",
        "IPY_MODEL_851e9d409c5c4c7ba137ddb3c04ece48"
       ],
       "layout": "IPY_MODEL_a3e1bcade275473495239b6d2879e81c"
      }
     },
     "177a66bc75234e478606d24bc9f1d647": {
      "model_module": "@jupyter-widgets/base",
      "model_module_version": "1.2.0",
      "model_name": "LayoutModel",
      "state": {}
     },
     "17bc2bc907fa463d8cea79b8e0e767a0": {
      "model_module": "@jupyter-widgets/controls",
      "model_module_version": "1.5.0",
      "model_name": "DescriptionStyleModel",
      "state": {
       "description_width": ""
      }
     },
     "180ef2af057b4deb8930757c4a577725": {
      "model_module": "@jupyter-widgets/base",
      "model_module_version": "1.2.0",
      "model_name": "LayoutModel",
      "state": {}
     },
     "18f1b43e1a54494085168f0b7393299e": {
      "model_module": "@jupyter-widgets/controls",
      "model_module_version": "1.5.0",
      "model_name": "HTMLModel",
      "state": {
       "layout": "IPY_MODEL_c6669d9185fb47f793a26f73f65ee3ae",
       "style": "IPY_MODEL_92e3c3016d5b468fa544efb2e3bccfd8",
       "value": " 338/338 [00:00&lt;00:00, 8302.83it/s]"
      }
     },
     "19edfc4a1a804f17baeee8ec2743445f": {
      "model_module": "@jupyter-widgets/base",
      "model_module_version": "1.2.0",
      "model_name": "LayoutModel",
      "state": {}
     },
     "1a32315aee04435ca71cb4bb2d3b8ca9": {
      "model_module": "@jupyter-widgets/base",
      "model_module_version": "1.2.0",
      "model_name": "LayoutModel",
      "state": {}
     },
     "1a74b74ad3ee452296f0d59b24fcf54e": {
      "model_module": "@jupyter-widgets/controls",
      "model_module_version": "1.5.0",
      "model_name": "HTMLModel",
      "state": {
       "layout": "IPY_MODEL_a9eb65432dd84c49b006b6a5a6450a1b",
       "style": "IPY_MODEL_974de620da78493fae8c02e521880eb6",
       "value": " 338/338 [00:00&lt;00:00, 1589.68it/s]"
      }
     },
     "1aaf9d13f65c4c8ba86c43384bfaf2bd": {
      "model_module": "@jupyter-widgets/base",
      "model_module_version": "1.2.0",
      "model_name": "LayoutModel",
      "state": {}
     },
     "1ad84d9c3d314f929d8550681e4eadbb": {
      "model_module": "@jupyter-widgets/base",
      "model_module_version": "1.2.0",
      "model_name": "LayoutModel",
      "state": {}
     },
     "1afba37c673340ecb9b41f698232080d": {
      "model_module": "@jupyter-widgets/base",
      "model_module_version": "1.2.0",
      "model_name": "LayoutModel",
      "state": {}
     },
     "1b38d2ccb83947cf971688820c2c7aab": {
      "model_module": "@jupyter-widgets/base",
      "model_module_version": "1.2.0",
      "model_name": "LayoutModel",
      "state": {}
     },
     "1bdf9530b54c46ba9f13882a38c2d4e0": {
      "model_module": "@jupyter-widgets/controls",
      "model_module_version": "1.5.0",
      "model_name": "HBoxModel",
      "state": {
       "children": [
        "IPY_MODEL_2e442401c0c543489f9caf8c501787ac",
        "IPY_MODEL_e94d168dabc64ca2a888b2264086c10e",
        "IPY_MODEL_b827298ce2f74939bcf41c5398f134a9"
       ],
       "layout": "IPY_MODEL_5a3d9c3db4864d0c91c7c51fc62a723d"
      }
     },
     "1be705fecaa84da4b0d11e679d3a94a7": {
      "model_module": "@jupyter-widgets/base",
      "model_module_version": "1.2.0",
      "model_name": "LayoutModel",
      "state": {}
     },
     "1c10b297df364044bb6f88b607bd4bba": {
      "model_module": "@jupyter-widgets/controls",
      "model_module_version": "1.5.0",
      "model_name": "ProgressStyleModel",
      "state": {
       "description_width": ""
      }
     },
     "1c31e786a7444a96b6aaf531b34a354c": {
      "model_module": "@jupyter-widgets/base",
      "model_module_version": "1.2.0",
      "model_name": "LayoutModel",
      "state": {}
     },
     "1c329f2cd3ff44709dda47a042d6a8e4": {
      "model_module": "@jupyter-widgets/base",
      "model_module_version": "1.2.0",
      "model_name": "LayoutModel",
      "state": {}
     },
     "1c65532935614df491be1ca3ad530ad8": {
      "model_module": "@jupyter-widgets/controls",
      "model_module_version": "1.5.0",
      "model_name": "HTMLModel",
      "state": {
       "layout": "IPY_MODEL_0a7c448649ea4567a1dc055438303868",
       "style": "IPY_MODEL_138ce42c073240f5aa9d23ab7a109ca9",
       "value": "  0%"
      }
     },
     "1d31334ad54a46699f7315fffa6a38b5": {
      "model_module": "@jupyter-widgets/controls",
      "model_module_version": "1.5.0",
      "model_name": "ProgressStyleModel",
      "state": {
       "description_width": ""
      }
     },
     "1e3a6cb4c5944d858a02c2f0f49048cd": {
      "model_module": "@jupyter-widgets/base",
      "model_module_version": "1.2.0",
      "model_name": "LayoutModel",
      "state": {}
     },
     "1e7294cb8b6441eb8714763165e176bf": {
      "model_module": "@jupyter-widgets/base",
      "model_module_version": "1.2.0",
      "model_name": "LayoutModel",
      "state": {}
     },
     "1e9e56fbceae4972aab384b05a4d44ef": {
      "model_module": "@jupyter-widgets/controls",
      "model_module_version": "1.5.0",
      "model_name": "DescriptionStyleModel",
      "state": {
       "description_width": ""
      }
     },
     "1eaa75b9aa174122a38db61329c78ed2": {
      "model_module": "@jupyter-widgets/controls",
      "model_module_version": "1.5.0",
      "model_name": "HTMLModel",
      "state": {
       "layout": "IPY_MODEL_16a8821e84c7434aa0c0842088c46705",
       "style": "IPY_MODEL_0ce7c8ac7962429d8a43aa96523ed79c",
       "value": "100%"
      }
     },
     "1eb2b15f1dea4af288ccd53fecafaa7d": {
      "model_module": "@jupyter-widgets/controls",
      "model_module_version": "1.5.0",
      "model_name": "DescriptionStyleModel",
      "state": {
       "description_width": ""
      }
     },
     "1f8ae01516fb4ec097a3bd8c7481786b": {
      "model_module": "@jupyter-widgets/controls",
      "model_module_version": "1.5.0",
      "model_name": "FloatProgressModel",
      "state": {
       "bar_style": "danger",
       "layout": "IPY_MODEL_0d7c9b0fd8964ddc9bfc71335d5db79d",
       "max": 338,
       "style": "IPY_MODEL_b07991eae6d04ed2b7c254edd3465d91"
      }
     },
     "1fc039d944f54aa682a783b3c7f9eeb0": {
      "model_module": "@jupyter-widgets/controls",
      "model_module_version": "1.5.0",
      "model_name": "HTMLModel",
      "state": {
       "layout": "IPY_MODEL_c615b02fd8ac491383dd37fe96901f29",
       "style": "IPY_MODEL_481281537bc54100979978e81e9c017b",
       "value": " 5/67652 [00:00&lt;04:39, 242.08it/s]"
      }
     },
     "1fe2782e52d8476da483c8c274bbe74f": {
      "model_module": "@jupyter-widgets/controls",
      "model_module_version": "1.5.0",
      "model_name": "DescriptionStyleModel",
      "state": {
       "description_width": ""
      }
     },
     "1fef986289ea4c68ac005834802fd6e3": {
      "model_module": "@jupyter-widgets/controls",
      "model_module_version": "1.5.0",
      "model_name": "HBoxModel",
      "state": {
       "children": [
        "IPY_MODEL_69d8d51945b44845a711c20826eb6c66",
        "IPY_MODEL_89beb9ebecb442a5af8e0fa74b6fee18",
        "IPY_MODEL_9640542308964288bd64ab99f54cc9fa"
       ],
       "layout": "IPY_MODEL_e8f9bed0dd9345839ed2204f9d39e1f8"
      }
     },
     "2041de38fd9a47f7ba7d0e060aebb499": {
      "model_module": "@jupyter-widgets/base",
      "model_module_version": "1.2.0",
      "model_name": "LayoutModel",
      "state": {}
     },
     "20b05333246147548465c0e5ac284d2a": {
      "model_module": "@jupyter-widgets/controls",
      "model_module_version": "1.5.0",
      "model_name": "DescriptionStyleModel",
      "state": {
       "description_width": ""
      }
     },
     "214ce32200754b77900e436579fc104b": {
      "model_module": "@jupyter-widgets/controls",
      "model_module_version": "1.5.0",
      "model_name": "HBoxModel",
      "state": {
       "children": [
        "IPY_MODEL_1eaa75b9aa174122a38db61329c78ed2",
        "IPY_MODEL_0e07c9a4ee1b4146bb3f6ddf7032360d",
        "IPY_MODEL_b5c8664810e943d69abc1dcd4e46f827"
       ],
       "layout": "IPY_MODEL_aa3755582f734a998370ef80594f6f42"
      }
     },
     "216fddf5e16b4b5299e25efb809a1e33": {
      "model_module": "@jupyter-widgets/controls",
      "model_module_version": "1.5.0",
      "model_name": "FloatProgressModel",
      "state": {
       "bar_style": "danger",
       "layout": "IPY_MODEL_a39e847f58cd4a62b3948a4ef80446be",
       "max": 6,
       "style": "IPY_MODEL_b9226700ce554b34bfa610b128705322"
      }
     },
     "2172e7a24a024776a3be2f5c98f401de": {
      "model_module": "@jupyter-widgets/base",
      "model_module_version": "1.2.0",
      "model_name": "LayoutModel",
      "state": {}
     },
     "21b6a0a675b0410dbf400aacdf9a44e8": {
      "model_module": "@jupyter-widgets/controls",
      "model_module_version": "1.5.0",
      "model_name": "DescriptionStyleModel",
      "state": {
       "description_width": ""
      }
     },
     "21b9755aca6b4e7e8bd3a57ad9bb4dae": {
      "model_module": "@jupyter-widgets/controls",
      "model_module_version": "1.5.0",
      "model_name": "DescriptionStyleModel",
      "state": {
       "description_width": ""
      }
     },
     "21d316a7eb154a6ab8d8fad5bb8f2e64": {
      "model_module": "@jupyter-widgets/controls",
      "model_module_version": "1.5.0",
      "model_name": "HTMLModel",
      "state": {
       "layout": "IPY_MODEL_878a312a0be84e668b14fec75eead899",
       "style": "IPY_MODEL_c89fb368d73142a18a5c55998f41c504",
       "value": "100%"
      }
     },
     "22eb0cc751a74c678dd8ee8e148fdbd8": {
      "model_module": "@jupyter-widgets/controls",
      "model_module_version": "1.5.0",
      "model_name": "FloatProgressModel",
      "state": {
       "bar_style": "success",
       "layout": "IPY_MODEL_6fb73b1a98144fd69a6843485452915d",
       "max": 338,
       "style": "IPY_MODEL_cbad54011b394d618853916e7d34faa4",
       "value": 338
      }
     },
     "2388a66c12614220927cfed2ea33c7e8": {
      "model_module": "@jupyter-widgets/base",
      "model_module_version": "1.2.0",
      "model_name": "LayoutModel",
      "state": {}
     },
     "2424d8aa3648477d87778b86fddc54df": {
      "model_module": "@jupyter-widgets/controls",
      "model_module_version": "1.5.0",
      "model_name": "DescriptionStyleModel",
      "state": {
       "description_width": ""
      }
     },
     "25fdccb9c4534b56b6efbd605336e709": {
      "model_module": "@jupyter-widgets/base",
      "model_module_version": "1.2.0",
      "model_name": "LayoutModel",
      "state": {}
     },
     "2702d27394a1441faa8435428bff1f13": {
      "model_module": "@jupyter-widgets/base",
      "model_module_version": "1.2.0",
      "model_name": "LayoutModel",
      "state": {}
     },
     "27031a8535a2458faf4d9357cb6c48cf": {
      "model_module": "@jupyter-widgets/base",
      "model_module_version": "1.2.0",
      "model_name": "LayoutModel",
      "state": {}
     },
     "2726647523ea4df2b7bd26b488744867": {
      "model_module": "@jupyter-widgets/base",
      "model_module_version": "1.2.0",
      "model_name": "LayoutModel",
      "state": {}
     },
     "274adb2bb27540d6bc1cb1d47fe40b87": {
      "model_module": "@jupyter-widgets/controls",
      "model_module_version": "1.5.0",
      "model_name": "FloatProgressModel",
      "state": {
       "bar_style": "success",
       "layout": "IPY_MODEL_ede3662e246e4e59b53badcaca29053e",
       "max": 338,
       "style": "IPY_MODEL_85587f25e40f4b7987af9d9cf1191fc9",
       "value": 338
      }
     },
     "2752fbc78a8243318f7c6cb025e93a80": {
      "model_module": "@jupyter-widgets/controls",
      "model_module_version": "1.5.0",
      "model_name": "HTMLModel",
      "state": {
       "layout": "IPY_MODEL_00b21435bb68434dad9c0ea02baf9e08",
       "style": "IPY_MODEL_cc60aec93a474b85b3f8b6ffe244652f",
       "value": "100%"
      }
     },
     "27a0e2270d4c423eafe1df0f4f2a13d2": {
      "model_module": "@jupyter-widgets/controls",
      "model_module_version": "1.5.0",
      "model_name": "HBoxModel",
      "state": {
       "children": [
        "IPY_MODEL_dd8d3001afba42fb8caf90b2d89797ef",
        "IPY_MODEL_e4f92e44e23145e2b3682e0c90596d8f",
        "IPY_MODEL_0081ab5414f346c5b5a810b2f50d96fb"
       ],
       "layout": "IPY_MODEL_6d32db2a0766491caf5f7c1026a72a11"
      }
     },
     "27ece1f386fb4282ab026755cc8df2ad": {
      "model_module": "@jupyter-widgets/controls",
      "model_module_version": "1.5.0",
      "model_name": "HTMLModel",
      "state": {
       "layout": "IPY_MODEL_8f24aff6b57d4287ae03f58646135d8d",
       "style": "IPY_MODEL_0ecd4124d6a0465e9d63f761348e9a8a",
       "value": "100%"
      }
     },
     "27f78f3fafad4169ab1acc82965ac337": {
      "model_module": "@jupyter-widgets/base",
      "model_module_version": "1.2.0",
      "model_name": "LayoutModel",
      "state": {}
     },
     "28ad57e40f5540ed802c7eff86be7f7f": {
      "model_module": "@jupyter-widgets/base",
      "model_module_version": "1.2.0",
      "model_name": "LayoutModel",
      "state": {}
     },
     "28b9983d75ea4402a4711795506ad757": {
      "model_module": "@jupyter-widgets/controls",
      "model_module_version": "1.5.0",
      "model_name": "DescriptionStyleModel",
      "state": {
       "description_width": ""
      }
     },
     "28db0fabc683482caf5819d2b2194b9a": {
      "model_module": "@jupyter-widgets/base",
      "model_module_version": "1.2.0",
      "model_name": "LayoutModel",
      "state": {}
     },
     "2908733b19a947b790ea19102957b86e": {
      "model_module": "@jupyter-widgets/controls",
      "model_module_version": "1.5.0",
      "model_name": "DescriptionStyleModel",
      "state": {
       "description_width": ""
      }
     },
     "29112db8f2ca42ed82ba8536818568f3": {
      "model_module": "@jupyter-widgets/controls",
      "model_module_version": "1.5.0",
      "model_name": "ProgressStyleModel",
      "state": {
       "description_width": ""
      }
     },
     "2933c46147074f43a27055e11372aa16": {
      "model_module": "@jupyter-widgets/base",
      "model_module_version": "1.2.0",
      "model_name": "LayoutModel",
      "state": {}
     },
     "29896d911c0e4e69b239105d605d5bc5": {
      "model_module": "@jupyter-widgets/controls",
      "model_module_version": "1.5.0",
      "model_name": "HBoxModel",
      "state": {
       "children": [
        "IPY_MODEL_d3c0f001232f4ba3ae3f025b9d5d9e45",
        "IPY_MODEL_59360213c5764907a863104142fa8893",
        "IPY_MODEL_a6ae4b5687684e6fa1351204ec760553"
       ],
       "layout": "IPY_MODEL_7a484cfa53ee44ebaf4e9df441d1359a"
      }
     },
     "29b452b4a5934bc5bd16957819fd629e": {
      "model_module": "@jupyter-widgets/controls",
      "model_module_version": "1.5.0",
      "model_name": "ProgressStyleModel",
      "state": {
       "description_width": ""
      }
     },
     "29ba9f7471fb495092f99825dc5cc714": {
      "model_module": "@jupyter-widgets/controls",
      "model_module_version": "1.5.0",
      "model_name": "DescriptionStyleModel",
      "state": {
       "description_width": ""
      }
     },
     "29ed10d126154af6a8839b2b1f95fcc1": {
      "model_module": "@jupyter-widgets/controls",
      "model_module_version": "1.5.0",
      "model_name": "HTMLModel",
      "state": {
       "layout": "IPY_MODEL_b3bd5171ba9142cc89367d26ffc8d1f3",
       "style": "IPY_MODEL_ff8695db7418466e92fe9d6126e2855a",
       "value": " 0/6 [00:00&lt;?, ?it/s]"
      }
     },
     "2a5769d49435482ba9f0cf4374ed18d7": {
      "model_module": "@jupyter-widgets/controls",
      "model_module_version": "1.5.0",
      "model_name": "FloatProgressModel",
      "state": {
       "bar_style": "success",
       "layout": "IPY_MODEL_0f53b5f1b3b740d8b91d1243534a7a88",
       "max": 1,
       "style": "IPY_MODEL_eb06b08a0bf443589f14101d9cd32953"
      }
     },
     "2a7e99498d5145f59a8785ad861e1948": {
      "model_module": "@jupyter-widgets/controls",
      "model_module_version": "1.5.0",
      "model_name": "DescriptionStyleModel",
      "state": {
       "description_width": ""
      }
     },
     "2abd2a38f08143fcb43e0fa0bd702986": {
      "model_module": "@jupyter-widgets/controls",
      "model_module_version": "1.5.0",
      "model_name": "HTMLModel",
      "state": {
       "layout": "IPY_MODEL_da8c021c8d234888935f7a25231cc548",
       "style": "IPY_MODEL_9bee2ca73d994cc2b55f6809d7fd8705",
       "value": "100%"
      }
     },
     "2ad79ab1882e43f0bb4f2c659d5288f0": {
      "model_module": "@jupyter-widgets/controls",
      "model_module_version": "1.5.0",
      "model_name": "HTMLModel",
      "state": {
       "layout": "IPY_MODEL_d3416a518e0d4ad58242e75078930404",
       "style": "IPY_MODEL_f17dab4164b14864882f280997e2878e",
       "value": " 44968/67652 [00:29&lt;00:15, 1482.25it/s]"
      }
     },
     "2af206ee2acf4ff88593b60869ab3ff5": {
      "model_module": "@jupyter-widgets/controls",
      "model_module_version": "1.5.0",
      "model_name": "DescriptionStyleModel",
      "state": {
       "description_width": ""
      }
     },
     "2bfa28a3417741589e0a3327912e972b": {
      "model_module": "@jupyter-widgets/controls",
      "model_module_version": "1.5.0",
      "model_name": "FloatProgressModel",
      "state": {
       "bar_style": "success",
       "layout": "IPY_MODEL_6a051f17c4994888bc3472587b433502",
       "max": 338,
       "style": "IPY_MODEL_f02aaca6df1d44399a299c075d61f614",
       "value": 338
      }
     },
     "2ced587d543942b98dd7327e8057902c": {
      "model_module": "@jupyter-widgets/base",
      "model_module_version": "1.2.0",
      "model_name": "LayoutModel",
      "state": {}
     },
     "2d13cd0f25894591b9753bda6fb1b995": {
      "model_module": "@jupyter-widgets/base",
      "model_module_version": "1.2.0",
      "model_name": "LayoutModel",
      "state": {}
     },
     "2d423741d3884a4588031688829d4b40": {
      "model_module": "@jupyter-widgets/base",
      "model_module_version": "1.2.0",
      "model_name": "LayoutModel",
      "state": {}
     },
     "2e3771e95efc49bf92af0024e0665e8d": {
      "model_module": "@jupyter-widgets/controls",
      "model_module_version": "1.5.0",
      "model_name": "HBoxModel",
      "state": {
       "children": [
        "IPY_MODEL_3bfc5a76cdf84f74bb10e4efa56115fc",
        "IPY_MODEL_07936e147a124f66bc93b5910b546590",
        "IPY_MODEL_c18fc3822a8e43fa8a6066548328bb78"
       ],
       "layout": "IPY_MODEL_4d881792afd64a5bb1194b7a0d20727a"
      }
     },
     "2e442401c0c543489f9caf8c501787ac": {
      "model_module": "@jupyter-widgets/controls",
      "model_module_version": "1.5.0",
      "model_name": "HTMLModel",
      "state": {
       "layout": "IPY_MODEL_4b432e699cd54a899cdc1e10d7b5201f",
       "style": "IPY_MODEL_a89edabd4cf84c449b52991f6f96f1fe",
       "value": "  0%"
      }
     },
     "2f49efc57ad348b59181a8170b6b4f81": {
      "model_module": "@jupyter-widgets/base",
      "model_module_version": "1.2.0",
      "model_name": "LayoutModel",
      "state": {}
     },
     "2f4b8b7248ec4592a028b910052f48a3": {
      "model_module": "@jupyter-widgets/base",
      "model_module_version": "1.2.0",
      "model_name": "LayoutModel",
      "state": {}
     },
     "2fc5843fb02f42d19d685af0f78e97be": {
      "model_module": "@jupyter-widgets/base",
      "model_module_version": "1.2.0",
      "model_name": "LayoutModel",
      "state": {}
     },
     "30037737c84e459d8b20b62c88cebdca": {
      "model_module": "@jupyter-widgets/controls",
      "model_module_version": "1.5.0",
      "model_name": "HBoxModel",
      "state": {
       "children": [
        "IPY_MODEL_ec8f2d535c3d4910b5048762594d09eb",
        "IPY_MODEL_c8291673f2864c469b4bdaa858f27872",
        "IPY_MODEL_6d08f1c3f3744b179e9f43a2eba65075"
       ],
       "layout": "IPY_MODEL_48841a28370d40fca30d7354b136ca3d"
      }
     },
     "30ebf41d25054e39aa01b7044cc99af5": {
      "model_module": "@jupyter-widgets/controls",
      "model_module_version": "1.5.0",
      "model_name": "DescriptionStyleModel",
      "state": {
       "description_width": ""
      }
     },
     "311c0545e06d418793daf9eb32ffb2c5": {
      "model_module": "@jupyter-widgets/controls",
      "model_module_version": "1.5.0",
      "model_name": "DescriptionStyleModel",
      "state": {
       "description_width": ""
      }
     },
     "31613f38f2454a41a91847b5f2cde2c4": {
      "model_module": "@jupyter-widgets/controls",
      "model_module_version": "1.5.0",
      "model_name": "DescriptionStyleModel",
      "state": {
       "description_width": ""
      }
     },
     "320a4f3e5363482f99ecc31e93bd5c8f": {
      "model_module": "@jupyter-widgets/base",
      "model_module_version": "1.2.0",
      "model_name": "LayoutModel",
      "state": {}
     },
     "32294d749dcd46c1999f3f98643d512e": {
      "model_module": "@jupyter-widgets/base",
      "model_module_version": "1.2.0",
      "model_name": "LayoutModel",
      "state": {}
     },
     "32d6fdd9745c4d2b8a2563ce1a6f91fa": {
      "model_module": "@jupyter-widgets/controls",
      "model_module_version": "1.5.0",
      "model_name": "DescriptionStyleModel",
      "state": {
       "description_width": ""
      }
     },
     "32f5de99671a42f0b471021aa8b6cb49": {
      "model_module": "@jupyter-widgets/controls",
      "model_module_version": "1.5.0",
      "model_name": "FloatProgressModel",
      "state": {
       "bar_style": "success",
       "layout": "IPY_MODEL_b2e32fc1fe3a4a1ebe2a339ee28f407b",
       "max": 338,
       "style": "IPY_MODEL_1c10b297df364044bb6f88b607bd4bba",
       "value": 338
      }
     },
     "32fb9953723d42d7a427ac566ef4ba70": {
      "model_module": "@jupyter-widgets/base",
      "model_module_version": "1.2.0",
      "model_name": "LayoutModel",
      "state": {}
     },
     "3330319d25454466821a0ea76700836c": {
      "model_module": "@jupyter-widgets/controls",
      "model_module_version": "1.5.0",
      "model_name": "DescriptionStyleModel",
      "state": {
       "description_width": ""
      }
     },
     "33544b78264e486ab1e745aaf1287efa": {
      "model_module": "@jupyter-widgets/controls",
      "model_module_version": "1.5.0",
      "model_name": "DescriptionStyleModel",
      "state": {
       "description_width": ""
      }
     },
     "3366ed45508c4df0bdc6cf1b741b3943": {
      "model_module": "@jupyter-widgets/controls",
      "model_module_version": "1.5.0",
      "model_name": "FloatProgressModel",
      "state": {
       "bar_style": "success",
       "layout": "IPY_MODEL_1afba37c673340ecb9b41f698232080d",
       "max": 338,
       "style": "IPY_MODEL_460e6a5cc49d4394a3cf2ba9637c56b9",
       "value": 338
      }
     },
     "362789184bf54987a09ab9b625d8e8af": {
      "model_module": "@jupyter-widgets/base",
      "model_module_version": "1.2.0",
      "model_name": "LayoutModel",
      "state": {}
     },
     "36286814270c46d2a8b836912cf399fe": {
      "model_module": "@jupyter-widgets/controls",
      "model_module_version": "1.5.0",
      "model_name": "HTMLModel",
      "state": {
       "layout": "IPY_MODEL_5fe3e753b7b042eab2fec5d0c100ccee",
       "style": "IPY_MODEL_763d875a1c924372b2202e49d9f27fb4",
       "value": " 338/338 [00:00&lt;00:00, 2515.98it/s]"
      }
     },
     "36c2b961300847f39e15ddf123e4238f": {
      "model_module": "@jupyter-widgets/controls",
      "model_module_version": "1.5.0",
      "model_name": "FloatProgressModel",
      "state": {
       "bar_style": "success",
       "layout": "IPY_MODEL_1a32315aee04435ca71cb4bb2d3b8ca9",
       "max": 338,
       "style": "IPY_MODEL_49b847c4266d41c9b3506458cce9837a",
       "value": 338
      }
     },
     "371e33aab5b942a1975b34d98cddb9db": {
      "model_module": "@jupyter-widgets/controls",
      "model_module_version": "1.5.0",
      "model_name": "HBoxModel",
      "state": {
       "children": [
        "IPY_MODEL_57d4996215924b5da70351677c79db19",
        "IPY_MODEL_f09176ea59a64e2b8bd16353c8af13d3",
        "IPY_MODEL_1642acd5c7664de18e7fb70acdd7c212"
       ],
       "layout": "IPY_MODEL_52c0570a603043e6ae89f938abd6269a"
      }
     },
     "38b4772575d14bb9b2318122e598dc3b": {
      "model_module": "@jupyter-widgets/controls",
      "model_module_version": "1.5.0",
      "model_name": "HBoxModel",
      "state": {
       "children": [
        "IPY_MODEL_bac808ec0e224546a66af0de2535e3b3",
        "IPY_MODEL_4ce2a54f41ec4fa29426187db60c0399",
        "IPY_MODEL_dd3b903196ba444492f8bb902d4fd9af"
       ],
       "layout": "IPY_MODEL_e55c06c6affc4a27acb76c4f514ccd44"
      }
     },
     "38dae5811b864ce3865a5758ce9297d2": {
      "model_module": "@jupyter-widgets/controls",
      "model_module_version": "1.5.0",
      "model_name": "HBoxModel",
      "state": {
       "children": [
        "IPY_MODEL_e5e631a0c0574a85919f31b1e39e3ea9",
        "IPY_MODEL_dd08d7b097bc48a7bcbbe806bf46ccba",
        "IPY_MODEL_d26efdd539ef4ee095089f00782740c4"
       ],
       "layout": "IPY_MODEL_5ea0658051e0424aab08d5bf46c1e5ce"
      }
     },
     "390c57dde07d4571b59be5e955cfce60": {
      "model_module": "@jupyter-widgets/controls",
      "model_module_version": "1.5.0",
      "model_name": "DescriptionStyleModel",
      "state": {
       "description_width": ""
      }
     },
     "3947ee6ea3eb4181a2c8ccaa26d5aede": {
      "model_module": "@jupyter-widgets/controls",
      "model_module_version": "1.5.0",
      "model_name": "HTMLModel",
      "state": {
       "layout": "IPY_MODEL_887e32ddf7a2494d8c0f9a7a6b76f279",
       "style": "IPY_MODEL_cd8d0e6c4e834d03ac2d66a225301684",
       "value": " 338/338 [00:00&lt;00:00, 2121.00it/s]"
      }
     },
     "39761ddb13bd42108042560c573ec2d3": {
      "model_module": "@jupyter-widgets/controls",
      "model_module_version": "1.5.0",
      "model_name": "HTMLModel",
      "state": {
       "layout": "IPY_MODEL_aa87cac857964c4eba80c887779fe609",
       "style": "IPY_MODEL_1451cc5345d9489d85ee4cec893e0b48",
       "value": " 0/6 [00:00&lt;?, ?it/s]"
      }
     },
     "397f18b687f343c0bedd0484f91bfa32": {
      "model_module": "@jupyter-widgets/controls",
      "model_module_version": "1.5.0",
      "model_name": "HTMLModel",
      "state": {
       "layout": "IPY_MODEL_61043379e2204c59abe892fa14a43e24",
       "style": "IPY_MODEL_9fb1edae059c49a58c1803c1e9298bdc",
       "value": " 338/338 [00:00&lt;00:00, 11678.97it/s]"
      }
     },
     "39e33a53c6cd4bb4912d22b5ad495312": {
      "model_module": "@jupyter-widgets/controls",
      "model_module_version": "1.5.0",
      "model_name": "DescriptionStyleModel",
      "state": {
       "description_width": ""
      }
     },
     "3a02c3577b3e48eaaddee07af271f1e2": {
      "model_module": "@jupyter-widgets/base",
      "model_module_version": "1.2.0",
      "model_name": "LayoutModel",
      "state": {}
     },
     "3a7b75dbf60d4f70b4967ee14df172fc": {
      "model_module": "@jupyter-widgets/controls",
      "model_module_version": "1.5.0",
      "model_name": "HTMLModel",
      "state": {
       "layout": "IPY_MODEL_ca63daa8f81340ed936b163dd7779a72",
       "style": "IPY_MODEL_0d45e9d10b504a94b0565f5729ad2f82",
       "value": "100%"
      }
     },
     "3a8918fa65f5482d9f3353f767a7b2a0": {
      "model_module": "@jupyter-widgets/controls",
      "model_module_version": "1.5.0",
      "model_name": "HTMLModel",
      "state": {
       "layout": "IPY_MODEL_6debe53369664134bd5565c9cc106d90",
       "style": "IPY_MODEL_ae1f95b999ec4cfdbaf89d03380228d6",
       "value": " 338/338 [00:00&lt;00:00, 7192.74it/s]"
      }
     },
     "3bfc5a76cdf84f74bb10e4efa56115fc": {
      "model_module": "@jupyter-widgets/controls",
      "model_module_version": "1.5.0",
      "model_name": "HTMLModel",
      "state": {
       "layout": "IPY_MODEL_d2d7310e0f38483aa5840f97aa5ee4cb",
       "style": "IPY_MODEL_d950827d28964e969a7f94d658d9bdde",
       "value": "100%"
      }
     },
     "3c21fd4f6601409e88c44b444951bad7": {
      "model_module": "@jupyter-widgets/base",
      "model_module_version": "1.2.0",
      "model_name": "LayoutModel",
      "state": {}
     },
     "3d5ee966f5cb4647904918cb1132cc9f": {
      "model_module": "@jupyter-widgets/base",
      "model_module_version": "1.2.0",
      "model_name": "LayoutModel",
      "state": {}
     },
     "3e2230f1555e4b52a79de8ac4ea6203a": {
      "model_module": "@jupyter-widgets/controls",
      "model_module_version": "1.5.0",
      "model_name": "DescriptionStyleModel",
      "state": {
       "description_width": ""
      }
     },
     "3ebb4b2988bb40db996da54015e65c4c": {
      "model_module": "@jupyter-widgets/controls",
      "model_module_version": "1.5.0",
      "model_name": "HTMLModel",
      "state": {
       "layout": "IPY_MODEL_2d423741d3884a4588031688829d4b40",
       "style": "IPY_MODEL_2424d8aa3648477d87778b86fddc54df",
       "value": "100%"
      }
     },
     "3ecb7f40bc2a463da71d7b4144afba3f": {
      "model_module": "@jupyter-widgets/controls",
      "model_module_version": "1.5.0",
      "model_name": "HTMLModel",
      "state": {
       "layout": "IPY_MODEL_dc2517da5eb440faa7210d5c3bd42a67",
       "style": "IPY_MODEL_f94d2d5450144772a4a1fd3a2e8df6af",
       "value": "100%"
      }
     },
     "3ee6de7b6d83421bb6c719b88e258ebb": {
      "model_module": "@jupyter-widgets/base",
      "model_module_version": "1.2.0",
      "model_name": "LayoutModel",
      "state": {}
     },
     "3f34ed3afd464217ae888de2fcce7fbc": {
      "model_module": "@jupyter-widgets/base",
      "model_module_version": "1.2.0",
      "model_name": "LayoutModel",
      "state": {}
     },
     "3f48d709c7a44d9f960d0cc44a283810": {
      "model_module": "@jupyter-widgets/controls",
      "model_module_version": "1.5.0",
      "model_name": "FloatProgressModel",
      "state": {
       "bar_style": "success",
       "layout": "IPY_MODEL_ad7421d1a8d44e5d853ffba1bd8e030f",
       "max": 338,
       "style": "IPY_MODEL_8281330b97b740e8870b372f2eef1f1c",
       "value": 338
      }
     },
     "3f7af90d1f9a459d80344094466edb59": {
      "model_module": "@jupyter-widgets/controls",
      "model_module_version": "1.5.0",
      "model_name": "DescriptionStyleModel",
      "state": {
       "description_width": ""
      }
     },
     "3fd9e67c7b72493d8352538802495e4c": {
      "model_module": "@jupyter-widgets/controls",
      "model_module_version": "1.5.0",
      "model_name": "HTMLModel",
      "state": {
       "layout": "IPY_MODEL_c0a244598ba146aa949fd72b9bf318f3",
       "style": "IPY_MODEL_64425e5408974778b8457336b7555164",
       "value": " 338/338 [00:00&lt;00:00, 2721.86it/s]"
      }
     },
     "3feb8a6974f741afb30fe8967e8e2d15": {
      "model_module": "@jupyter-widgets/controls",
      "model_module_version": "1.5.0",
      "model_name": "HBoxModel",
      "state": {
       "children": [
        "IPY_MODEL_dfa7ebf8a7c54adfb9a5b1735a4cc061",
        "IPY_MODEL_994f6206c565457ba7236cddd1efb693",
        "IPY_MODEL_ccd32db2229a4ec2a4222abcf56ae49c"
       ],
       "layout": "IPY_MODEL_e548b16f6cee4fffb0fede27315202d0"
      }
     },
     "400218d53f544f5084b47bc0ee2db9b7": {
      "model_module": "@jupyter-widgets/controls",
      "model_module_version": "1.5.0",
      "model_name": "DescriptionStyleModel",
      "state": {
       "description_width": ""
      }
     },
     "4005f459341549e9a9ac6862b7a9aba0": {
      "model_module": "@jupyter-widgets/base",
      "model_module_version": "1.2.0",
      "model_name": "LayoutModel",
      "state": {}
     },
     "400995be724743eca71c38a559fa2be6": {
      "model_module": "@jupyter-widgets/controls",
      "model_module_version": "1.5.0",
      "model_name": "HTMLModel",
      "state": {
       "layout": "IPY_MODEL_53e29e99645b4abd8c48b9358106a06e",
       "style": "IPY_MODEL_d88a59332be64709a2569995f9dd1e6f",
       "value": "100%"
      }
     },
     "409a54e35e014726b9ed3e18ebea3775": {
      "model_module": "@jupyter-widgets/base",
      "model_module_version": "1.2.0",
      "model_name": "LayoutModel",
      "state": {}
     },
     "40d73c8372b445afa61c7818eafecefd": {
      "model_module": "@jupyter-widgets/base",
      "model_module_version": "1.2.0",
      "model_name": "LayoutModel",
      "state": {}
     },
     "426d303176de4a2c84661982581e6d3b": {
      "model_module": "@jupyter-widgets/base",
      "model_module_version": "1.2.0",
      "model_name": "LayoutModel",
      "state": {}
     },
     "42c1ad272445495db1475b30c057a33c": {
      "model_module": "@jupyter-widgets/base",
      "model_module_version": "1.2.0",
      "model_name": "LayoutModel",
      "state": {}
     },
     "434845c1bb2e4a99a3f21d1383cd31cd": {
      "model_module": "@jupyter-widgets/controls",
      "model_module_version": "1.5.0",
      "model_name": "HBoxModel",
      "state": {
       "children": [
        "IPY_MODEL_54a577d24c0d486f9604af3b802828ae",
        "IPY_MODEL_59e1a14ddfa14e6ea0a5a8694c859584",
        "IPY_MODEL_c5e6b429d7d94c6ca6c0b613e799f47b"
       ],
       "layout": "IPY_MODEL_55e5d56517c84190a989ca6a71c5ef4b"
      }
     },
     "43762fdc0c9849d6862d32f6e861cc33": {
      "model_module": "@jupyter-widgets/controls",
      "model_module_version": "1.5.0",
      "model_name": "HTMLModel",
      "state": {
       "layout": "IPY_MODEL_8f7a82d83ef54987a2b8ab471f282dd5",
       "style": "IPY_MODEL_e28997821b99453b899fbf3bb659cc4a",
       "value": " 5/67652 [00:00&lt;03:48, 295.87it/s]"
      }
     },
     "4389b14aa5c743129e9a0fd55a17eab4": {
      "model_module": "@jupyter-widgets/controls",
      "model_module_version": "1.5.0",
      "model_name": "DescriptionStyleModel",
      "state": {
       "description_width": ""
      }
     },
     "43ee6b8ac3b043aaa4db0c882021a270": {
      "model_module": "@jupyter-widgets/controls",
      "model_module_version": "1.5.0",
      "model_name": "HTMLModel",
      "state": {
       "layout": "IPY_MODEL_7c1ecde7365244e78de76b4be65b91ea",
       "style": "IPY_MODEL_115fb337773a414999f1ba81448fef06",
       "value": " 0/123 [00:00&lt;?, ?it/s]"
      }
     },
     "4421abbe76c444bba656c41fc7ee877f": {
      "model_module": "@jupyter-widgets/controls",
      "model_module_version": "1.5.0",
      "model_name": "DescriptionStyleModel",
      "state": {
       "description_width": ""
      }
     },
     "4421ff59cd0f4bf3bb2eb5f78cd0576f": {
      "model_module": "@jupyter-widgets/controls",
      "model_module_version": "1.5.0",
      "model_name": "HBoxModel",
      "state": {
       "children": [
        "IPY_MODEL_3ebb4b2988bb40db996da54015e65c4c",
        "IPY_MODEL_84dfb3eeb37c4eedbb025538884e2441",
        "IPY_MODEL_4b0c71df44b9431e9c3c65421aa9dd56"
       ],
       "layout": "IPY_MODEL_11a85d198e2849b4a44fb93ce2d01f6e"
      }
     },
     "44277e28c78246859ff98de63cf47091": {
      "model_module": "@jupyter-widgets/controls",
      "model_module_version": "1.5.0",
      "model_name": "DescriptionStyleModel",
      "state": {
       "description_width": ""
      }
     },
     "4442ae3f5c37467482adfbaa0b298124": {
      "model_module": "@jupyter-widgets/base",
      "model_module_version": "1.2.0",
      "model_name": "LayoutModel",
      "state": {}
     },
     "4467efc1dd9c4ed6ad834462771d5680": {
      "model_module": "@jupyter-widgets/base",
      "model_module_version": "1.2.0",
      "model_name": "LayoutModel",
      "state": {}
     },
     "455f9630b8eb4616ace3c9d9fd5cac62": {
      "model_module": "@jupyter-widgets/base",
      "model_module_version": "1.2.0",
      "model_name": "LayoutModel",
      "state": {}
     },
     "458a9f5f8d424b039e2d31e46a9533e6": {
      "model_module": "@jupyter-widgets/controls",
      "model_module_version": "1.5.0",
      "model_name": "DescriptionStyleModel",
      "state": {
       "description_width": ""
      }
     },
     "45e9e8b998a24f179ea73a83c4565d95": {
      "model_module": "@jupyter-widgets/base",
      "model_module_version": "1.2.0",
      "model_name": "LayoutModel",
      "state": {}
     },
     "460b9fb2fa7743c69ed3f18e6eba061c": {
      "model_module": "@jupyter-widgets/controls",
      "model_module_version": "1.5.0",
      "model_name": "FloatProgressModel",
      "state": {
       "bar_style": "danger",
       "layout": "IPY_MODEL_dca77795ff5140d1860e1e6c4eaf6186",
       "max": 338,
       "style": "IPY_MODEL_fc8352fe28a440ff91d9bdf6017ea39a"
      }
     },
     "460e6a5cc49d4394a3cf2ba9637c56b9": {
      "model_module": "@jupyter-widgets/controls",
      "model_module_version": "1.5.0",
      "model_name": "ProgressStyleModel",
      "state": {
       "description_width": ""
      }
     },
     "464d8dd5c52f4507b5095ae73639b5cc": {
      "model_module": "@jupyter-widgets/base",
      "model_module_version": "1.2.0",
      "model_name": "LayoutModel",
      "state": {}
     },
     "46a10b1343714a6ea6311a5b8e8452fa": {
      "model_module": "@jupyter-widgets/base",
      "model_module_version": "1.2.0",
      "model_name": "LayoutModel",
      "state": {}
     },
     "46c62d1a6b81402089ab0683c61b371c": {
      "model_module": "@jupyter-widgets/controls",
      "model_module_version": "1.5.0",
      "model_name": "DescriptionStyleModel",
      "state": {
       "description_width": ""
      }
     },
     "48021dccba064ea2a8422fe1b5195c9c": {
      "model_module": "@jupyter-widgets/controls",
      "model_module_version": "1.5.0",
      "model_name": "DescriptionStyleModel",
      "state": {
       "description_width": ""
      }
     },
     "481281537bc54100979978e81e9c017b": {
      "model_module": "@jupyter-widgets/controls",
      "model_module_version": "1.5.0",
      "model_name": "DescriptionStyleModel",
      "state": {
       "description_width": ""
      }
     },
     "48841a28370d40fca30d7354b136ca3d": {
      "model_module": "@jupyter-widgets/base",
      "model_module_version": "1.2.0",
      "model_name": "LayoutModel",
      "state": {}
     },
     "48af2bdd956a4199ae19708e5df85362": {
      "model_module": "@jupyter-widgets/controls",
      "model_module_version": "1.5.0",
      "model_name": "HTMLModel",
      "state": {
       "layout": "IPY_MODEL_07f1fa6286064c69a14762cdc0cd4592",
       "style": "IPY_MODEL_32d6fdd9745c4d2b8a2563ce1a6f91fa",
       "value": " 0/6 [00:00&lt;?, ?it/s]"
      }
     },
     "49b847c4266d41c9b3506458cce9837a": {
      "model_module": "@jupyter-widgets/controls",
      "model_module_version": "1.5.0",
      "model_name": "ProgressStyleModel",
      "state": {
       "description_width": ""
      }
     },
     "4a13a38ae5dc44c9a0b591a023076613": {
      "model_module": "@jupyter-widgets/controls",
      "model_module_version": "1.5.0",
      "model_name": "FloatProgressModel",
      "state": {
       "bar_style": "danger",
       "layout": "IPY_MODEL_42c1ad272445495db1475b30c057a33c",
       "max": 6,
       "style": "IPY_MODEL_64c79febd5ad4004b02090807397ea5b"
      }
     },
     "4a7fd03e02d548099348e76c7da4a565": {
      "model_module": "@jupyter-widgets/base",
      "model_module_version": "1.2.0",
      "model_name": "LayoutModel",
      "state": {}
     },
     "4acfbcfe29854997835a895182030a11": {
      "model_module": "@jupyter-widgets/base",
      "model_module_version": "1.2.0",
      "model_name": "LayoutModel",
      "state": {}
     },
     "4b0c71df44b9431e9c3c65421aa9dd56": {
      "model_module": "@jupyter-widgets/controls",
      "model_module_version": "1.5.0",
      "model_name": "HTMLModel",
      "state": {
       "layout": "IPY_MODEL_162ba243bad54a5d876bfaf83688a222",
       "style": "IPY_MODEL_5dbd41b84876429dbf573f0acee4949b",
       "value": " 338/338 [00:00&lt;00:00, 1973.06it/s]"
      }
     },
     "4b432e699cd54a899cdc1e10d7b5201f": {
      "model_module": "@jupyter-widgets/base",
      "model_module_version": "1.2.0",
      "model_name": "LayoutModel",
      "state": {}
     },
     "4c294fc99fe943ebb10a34ed8addc5ce": {
      "model_module": "@jupyter-widgets/base",
      "model_module_version": "1.2.0",
      "model_name": "LayoutModel",
      "state": {}
     },
     "4c2ef6df89354b2fa2871e5d900d616d": {
      "model_module": "@jupyter-widgets/base",
      "model_module_version": "1.2.0",
      "model_name": "LayoutModel",
      "state": {}
     },
     "4c6f892636264014b277ab9883340631": {
      "model_module": "@jupyter-widgets/controls",
      "model_module_version": "1.5.0",
      "model_name": "FloatProgressModel",
      "state": {
       "bar_style": "success",
       "layout": "IPY_MODEL_c0081cd9391f4d6f83881692e299aedc",
       "max": 338,
       "style": "IPY_MODEL_8050c696be0e4bf1903957ddb8ab05ce",
       "value": 338
      }
     },
     "4cb0cffd22a2470eb44afdfee80148f5": {
      "model_module": "@jupyter-widgets/base",
      "model_module_version": "1.2.0",
      "model_name": "LayoutModel",
      "state": {}
     },
     "4ce2a54f41ec4fa29426187db60c0399": {
      "model_module": "@jupyter-widgets/controls",
      "model_module_version": "1.5.0",
      "model_name": "FloatProgressModel",
      "state": {
       "bar_style": "success",
       "layout": "IPY_MODEL_320a4f3e5363482f99ecc31e93bd5c8f",
       "max": 338,
       "style": "IPY_MODEL_b69490c058d743b0bb028ed9674af628",
       "value": 338
      }
     },
     "4d881792afd64a5bb1194b7a0d20727a": {
      "model_module": "@jupyter-widgets/base",
      "model_module_version": "1.2.0",
      "model_name": "LayoutModel",
      "state": {}
     },
     "4db0061ed3214937bc04faa8b9049628": {
      "model_module": "@jupyter-widgets/base",
      "model_module_version": "1.2.0",
      "model_name": "LayoutModel",
      "state": {}
     },
     "4def9744d4464f2e80ffceb19b106a5f": {
      "model_module": "@jupyter-widgets/controls",
      "model_module_version": "1.5.0",
      "model_name": "FloatProgressModel",
      "state": {
       "bar_style": "success",
       "layout": "IPY_MODEL_9d0fd90d7373433d8200df951663d4d5",
       "max": 338,
       "style": "IPY_MODEL_f4625b64b0324377aa8c8fbc04512aa5",
       "value": 338
      }
     },
     "4df32125426749ccbba204021f41dac1": {
      "model_module": "@jupyter-widgets/controls",
      "model_module_version": "1.5.0",
      "model_name": "DescriptionStyleModel",
      "state": {
       "description_width": ""
      }
     },
     "4e194c295af14d81bb031f8944c15bac": {
      "model_module": "@jupyter-widgets/base",
      "model_module_version": "1.2.0",
      "model_name": "LayoutModel",
      "state": {}
     },
     "4e9d1b22e21445dfa98fd896df99fffd": {
      "model_module": "@jupyter-widgets/controls",
      "model_module_version": "1.5.0",
      "model_name": "HTMLModel",
      "state": {
       "layout": "IPY_MODEL_708f7490c78d4fe8bee4541a7a03822e",
       "style": "IPY_MODEL_3330319d25454466821a0ea76700836c",
       "value": "  0%"
      }
     },
     "4ebb62c474cd43bda209728375d26712": {
      "model_module": "@jupyter-widgets/controls",
      "model_module_version": "1.5.0",
      "model_name": "HTMLModel",
      "state": {
       "layout": "IPY_MODEL_9bd0334db5fe4471b5dcba1d155d0f5c",
       "style": "IPY_MODEL_1001ffc4f0ce4ac3a544bec208199357",
       "value": " 0/0 [00:00&lt;?, ?it/s]"
      }
     },
     "4eeb2989f8794800aa9b9ddadc4eb640": {
      "model_module": "@jupyter-widgets/controls",
      "model_module_version": "1.5.0",
      "model_name": "HTMLModel",
      "state": {
       "layout": "IPY_MODEL_a46f598dac3544e58e17aa8ef6aa6dae",
       "style": "IPY_MODEL_f25b290af63c4ee29165966924a42aa4",
       "value": " 0/0 [00:00&lt;?, ?it/s]"
      }
     },
     "4f35245fe99c494890d176f2381d694f": {
      "model_module": "@jupyter-widgets/base",
      "model_module_version": "1.2.0",
      "model_name": "LayoutModel",
      "state": {}
     },
     "4fdefa8efa174ea987774a7231ec5551": {
      "model_module": "@jupyter-widgets/controls",
      "model_module_version": "1.5.0",
      "model_name": "FloatProgressModel",
      "state": {
       "bar_style": "danger",
       "layout": "IPY_MODEL_b8151ce7897a4c37927a8e1ad83bb165",
       "max": 6,
       "style": "IPY_MODEL_d561e66142d542fa8a7a3b24047918d2"
      }
     },
     "50ec9fb569bf45948b0817175c9dcaf4": {
      "model_module": "@jupyter-widgets/controls",
      "model_module_version": "1.5.0",
      "model_name": "ProgressStyleModel",
      "state": {
       "description_width": ""
      }
     },
     "52021abcdf674ece8a0d9bd187516498": {
      "model_module": "@jupyter-widgets/controls",
      "model_module_version": "1.5.0",
      "model_name": "HBoxModel",
      "state": {
       "children": [
        "IPY_MODEL_b1827f0d14ea40d3945526dbb3ec263b",
        "IPY_MODEL_4a13a38ae5dc44c9a0b591a023076613",
        "IPY_MODEL_e127a4395d6848fdaf35635d8ac79277"
       ],
       "layout": "IPY_MODEL_6cb9dda7285f486b86f49b3100d6a097"
      }
     },
     "524388db361b4a918a18e619cc47a6a5": {
      "model_module": "@jupyter-widgets/controls",
      "model_module_version": "1.5.0",
      "model_name": "HTMLModel",
      "state": {
       "layout": "IPY_MODEL_409a54e35e014726b9ed3e18ebea3775",
       "style": "IPY_MODEL_db21da3d69354ff38c368260c0d40aa4",
       "value": "100%"
      }
     },
     "525f5ada1cad44489e22f49a8b810802": {
      "model_module": "@jupyter-widgets/controls",
      "model_module_version": "1.5.0",
      "model_name": "HTMLModel",
      "state": {
       "layout": "IPY_MODEL_9992639689dc452a96aab90b1cf30b8a",
       "style": "IPY_MODEL_5c65126110df4d6aa20b5961d0fe8482",
       "value": "100%"
      }
     },
     "526447d662cb47f2bc9f02d8d4221cc6": {
      "model_module": "@jupyter-widgets/controls",
      "model_module_version": "1.5.0",
      "model_name": "HBoxModel",
      "state": {
       "children": [
        "IPY_MODEL_b4bc14b67a0a4e1486de2b79d0d9b77f",
        "IPY_MODEL_9f05f5725b9546e18d4a3c44c269c139",
        "IPY_MODEL_18f1b43e1a54494085168f0b7393299e"
       ],
       "layout": "IPY_MODEL_2041de38fd9a47f7ba7d0e060aebb499"
      }
     },
     "52c0570a603043e6ae89f938abd6269a": {
      "model_module": "@jupyter-widgets/base",
      "model_module_version": "1.2.0",
      "model_name": "LayoutModel",
      "state": {}
     },
     "53e29e99645b4abd8c48b9358106a06e": {
      "model_module": "@jupyter-widgets/base",
      "model_module_version": "1.2.0",
      "model_name": "LayoutModel",
      "state": {}
     },
     "53e7c639859d46eebedcd8fd12ea89a6": {
      "model_module": "@jupyter-widgets/controls",
      "model_module_version": "1.5.0",
      "model_name": "DescriptionStyleModel",
      "state": {
       "description_width": ""
      }
     },
     "53f3dfd226f044baa905acd8ee34538c": {
      "model_module": "@jupyter-widgets/controls",
      "model_module_version": "1.5.0",
      "model_name": "DescriptionStyleModel",
      "state": {
       "description_width": ""
      }
     },
     "545ab3a153634a3ba138fe30b8e83733": {
      "model_module": "@jupyter-widgets/controls",
      "model_module_version": "1.5.0",
      "model_name": "HTMLModel",
      "state": {
       "layout": "IPY_MODEL_cd8d854a61a646fd90a39dc3bc068de6",
       "style": "IPY_MODEL_2908733b19a947b790ea19102957b86e",
       "value": "100%"
      }
     },
     "5477c25f17f941a8b5a6e6c1782c79c5": {
      "model_module": "@jupyter-widgets/controls",
      "model_module_version": "1.5.0",
      "model_name": "DescriptionStyleModel",
      "state": {
       "description_width": ""
      }
     },
     "54a577d24c0d486f9604af3b802828ae": {
      "model_module": "@jupyter-widgets/controls",
      "model_module_version": "1.5.0",
      "model_name": "HTMLModel",
      "state": {
       "layout": "IPY_MODEL_e5d6b364521d41338d1ce648ff870893",
       "style": "IPY_MODEL_aa55cdbafd4a4fc5be73e222fd1f95b6",
       "value": "100%"
      }
     },
     "54ed0259fa624d41ad867644e11bb703": {
      "model_module": "@jupyter-widgets/base",
      "model_module_version": "1.2.0",
      "model_name": "LayoutModel",
      "state": {}
     },
     "553df70ac293449784cc5ba695349913": {
      "model_module": "@jupyter-widgets/base",
      "model_module_version": "1.2.0",
      "model_name": "LayoutModel",
      "state": {}
     },
     "553ea877ad2947879735a2ddf607e6a1": {
      "model_module": "@jupyter-widgets/base",
      "model_module_version": "1.2.0",
      "model_name": "LayoutModel",
      "state": {}
     },
     "555b38e041c9489da0d670d318a93e12": {
      "model_module": "@jupyter-widgets/base",
      "model_module_version": "1.2.0",
      "model_name": "LayoutModel",
      "state": {}
     },
     "55a34bbd8b904812a1b962ebfc34b632": {
      "model_module": "@jupyter-widgets/controls",
      "model_module_version": "1.5.0",
      "model_name": "ProgressStyleModel",
      "state": {
       "description_width": ""
      }
     },
     "55d83686845e4f47827ec3c2d660e403": {
      "model_module": "@jupyter-widgets/controls",
      "model_module_version": "1.5.0",
      "model_name": "DescriptionStyleModel",
      "state": {
       "description_width": ""
      }
     },
     "55e5d56517c84190a989ca6a71c5ef4b": {
      "model_module": "@jupyter-widgets/base",
      "model_module_version": "1.2.0",
      "model_name": "LayoutModel",
      "state": {}
     },
     "564ac7c74b494f38aec2fae74a69fccc": {
      "model_module": "@jupyter-widgets/base",
      "model_module_version": "1.2.0",
      "model_name": "LayoutModel",
      "state": {}
     },
     "565d33109e6c4bf79d817236c78050a8": {
      "model_module": "@jupyter-widgets/base",
      "model_module_version": "1.2.0",
      "model_name": "LayoutModel",
      "state": {}
     },
     "56d0a254d62442d39e298dd32ceb2d1c": {
      "model_module": "@jupyter-widgets/controls",
      "model_module_version": "1.5.0",
      "model_name": "DescriptionStyleModel",
      "state": {
       "description_width": ""
      }
     },
     "57d4996215924b5da70351677c79db19": {
      "model_module": "@jupyter-widgets/controls",
      "model_module_version": "1.5.0",
      "model_name": "HTMLModel",
      "state": {
       "layout": "IPY_MODEL_2f49efc57ad348b59181a8170b6b4f81",
       "style": "IPY_MODEL_6b549290e64e419e9f27d3860a1c8f0f",
       "value": "100%"
      }
     },
     "57fd5600f8e841cca9c4e495d42d8804": {
      "model_module": "@jupyter-widgets/controls",
      "model_module_version": "1.5.0",
      "model_name": "FloatProgressModel",
      "state": {
       "bar_style": "success",
       "layout": "IPY_MODEL_5fd989c4991e47dcbb519b031b9e2da1",
       "max": 338,
       "style": "IPY_MODEL_85300ce0c0b94772884eb15551414d33",
       "value": 338
      }
     },
     "5878658fc2e24f02a3765cd92d80ec05": {
      "model_module": "@jupyter-widgets/controls",
      "model_module_version": "1.5.0",
      "model_name": "HTMLModel",
      "state": {
       "layout": "IPY_MODEL_565d33109e6c4bf79d817236c78050a8",
       "style": "IPY_MODEL_4389b14aa5c743129e9a0fd55a17eab4",
       "value": " 0/6 [00:00&lt;?, ?it/s]"
      }
     },
     "58c264b84a13457497eb8f6377828205": {
      "model_module": "@jupyter-widgets/controls",
      "model_module_version": "1.5.0",
      "model_name": "HTMLModel",
      "state": {
       "layout": "IPY_MODEL_e575ef1f4e4e401e8a6f568edaa8175f",
       "style": "IPY_MODEL_d2dbff2af9a24c668c7b3c5ae595fcb5",
       "value": " 338/338 [00:00&lt;00:00, 2597.59it/s]"
      }
     },
     "58cdd627e3dd41a6a2b58928b85eb51b": {
      "model_module": "@jupyter-widgets/base",
      "model_module_version": "1.2.0",
      "model_name": "LayoutModel",
      "state": {}
     },
     "58f196ca2c6944bf8e43eb7d3470f0ca": {
      "model_module": "@jupyter-widgets/base",
      "model_module_version": "1.2.0",
      "model_name": "LayoutModel",
      "state": {}
     },
     "59360213c5764907a863104142fa8893": {
      "model_module": "@jupyter-widgets/controls",
      "model_module_version": "1.5.0",
      "model_name": "FloatProgressModel",
      "state": {
       "bar_style": "success",
       "layout": "IPY_MODEL_ecf2b44220e546499894de54ec8730b5",
       "max": 338,
       "style": "IPY_MODEL_55a34bbd8b904812a1b962ebfc34b632",
       "value": 338
      }
     },
     "596aa511d2a140cbb264f7fcd92b8cca": {
      "model_module": "@jupyter-widgets/base",
      "model_module_version": "1.2.0",
      "model_name": "LayoutModel",
      "state": {}
     },
     "598f6cad4a0a476d813fe213e2a9a03b": {
      "model_module": "@jupyter-widgets/controls",
      "model_module_version": "1.5.0",
      "model_name": "FloatProgressModel",
      "state": {
       "bar_style": "success",
       "layout": "IPY_MODEL_180ef2af057b4deb8930757c4a577725",
       "max": 338,
       "style": "IPY_MODEL_9e0716fe6f50441d9491bc530d3d0739",
       "value": 338
      }
     },
     "59e1a14ddfa14e6ea0a5a8694c859584": {
      "model_module": "@jupyter-widgets/controls",
      "model_module_version": "1.5.0",
      "model_name": "FloatProgressModel",
      "state": {
       "bar_style": "success",
       "layout": "IPY_MODEL_1be705fecaa84da4b0d11e679d3a94a7",
       "max": 338,
       "style": "IPY_MODEL_d16649963ae141cb87f337c59769d63a",
       "value": 338
      }
     },
     "5a1b2b93ae2146299472914328bd6d8d": {
      "model_module": "@jupyter-widgets/controls",
      "model_module_version": "1.5.0",
      "model_name": "HTMLModel",
      "state": {
       "layout": "IPY_MODEL_362789184bf54987a09ab9b625d8e8af",
       "style": "IPY_MODEL_20b05333246147548465c0e5ac284d2a",
       "value": " 338/338 [00:00&lt;00:00, 2516.30it/s]"
      }
     },
     "5a2b483ad62d42d3817570a99be63f91": {
      "model_module": "@jupyter-widgets/base",
      "model_module_version": "1.2.0",
      "model_name": "LayoutModel",
      "state": {}
     },
     "5a3d9c3db4864d0c91c7c51fc62a723d": {
      "model_module": "@jupyter-widgets/base",
      "model_module_version": "1.2.0",
      "model_name": "LayoutModel",
      "state": {}
     },
     "5a876f77c55c43a9b83dd43bb6ae1054": {
      "model_module": "@jupyter-widgets/controls",
      "model_module_version": "1.5.0",
      "model_name": "HBoxModel",
      "state": {
       "children": [
        "IPY_MODEL_88e1f23d1cc94310899e6c9cfb04ec1b",
        "IPY_MODEL_de355e53c2c24a39923cac63a2f30301",
        "IPY_MODEL_821a804a3be44b4d99c36a361602d069"
       ],
       "layout": "IPY_MODEL_ef62b595705e4b5d82af4792805ef7ab"
      }
     },
     "5b2746b4354e41a69ccf04d8d0213ebc": {
      "model_module": "@jupyter-widgets/controls",
      "model_module_version": "1.5.0",
      "model_name": "DescriptionStyleModel",
      "state": {
       "description_width": ""
      }
     },
     "5b8921d792e24554b22eb667d01bc0c5": {
      "model_module": "@jupyter-widgets/base",
      "model_module_version": "1.2.0",
      "model_name": "LayoutModel",
      "state": {}
     },
     "5c65126110df4d6aa20b5961d0fe8482": {
      "model_module": "@jupyter-widgets/controls",
      "model_module_version": "1.5.0",
      "model_name": "DescriptionStyleModel",
      "state": {
       "description_width": ""
      }
     },
     "5d228830f1fb4d92b9666fa97c7c69a0": {
      "model_module": "@jupyter-widgets/base",
      "model_module_version": "1.2.0",
      "model_name": "LayoutModel",
      "state": {}
     },
     "5d44f99539494495a1f87bd42e494e93": {
      "model_module": "@jupyter-widgets/controls",
      "model_module_version": "1.5.0",
      "model_name": "DescriptionStyleModel",
      "state": {
       "description_width": ""
      }
     },
     "5d4f7938a0754bf88de2d428ee14d2a8": {
      "model_module": "@jupyter-widgets/controls",
      "model_module_version": "1.5.0",
      "model_name": "HTMLModel",
      "state": {
       "layout": "IPY_MODEL_a338de72698348b39b8c29e5941f0ed5",
       "style": "IPY_MODEL_9a427a6fe2054301bf8558f9ddd86469",
       "value": "100%"
      }
     },
     "5dbd41b84876429dbf573f0acee4949b": {
      "model_module": "@jupyter-widgets/controls",
      "model_module_version": "1.5.0",
      "model_name": "DescriptionStyleModel",
      "state": {
       "description_width": ""
      }
     },
     "5e1f881dddb2406db04e36c786b4eb59": {
      "model_module": "@jupyter-widgets/base",
      "model_module_version": "1.2.0",
      "model_name": "LayoutModel",
      "state": {}
     },
     "5e2c68ce561c43e991b104991921326e": {
      "model_module": "@jupyter-widgets/controls",
      "model_module_version": "1.5.0",
      "model_name": "HBoxModel",
      "state": {
       "children": [
        "IPY_MODEL_c2e70020360b4faa86a709d8eef07c2d",
        "IPY_MODEL_efea6025fe864472946a47ce91d51549",
        "IPY_MODEL_4ebb62c474cd43bda209728375d26712"
       ],
       "layout": "IPY_MODEL_0cd647fd087845769ffbbf17a1ce544c"
      }
     },
     "5ea0658051e0424aab08d5bf46c1e5ce": {
      "model_module": "@jupyter-widgets/base",
      "model_module_version": "1.2.0",
      "model_name": "LayoutModel",
      "state": {}
     },
     "5ea14f9938b34137b9b24ebed18c45f2": {
      "model_module": "@jupyter-widgets/base",
      "model_module_version": "1.2.0",
      "model_name": "LayoutModel",
      "state": {}
     },
     "5eae13f7582e4d70bd42375cd7f82ffc": {
      "model_module": "@jupyter-widgets/controls",
      "model_module_version": "1.5.0",
      "model_name": "FloatProgressModel",
      "state": {
       "bar_style": "success",
       "layout": "IPY_MODEL_943316e158cb4df0832c14892904e13f",
       "max": 338,
       "style": "IPY_MODEL_29b452b4a5934bc5bd16957819fd629e",
       "value": 338
      }
     },
     "5f5c40ddc67d42f9a5c06f666758286f": {
      "model_module": "@jupyter-widgets/base",
      "model_module_version": "1.2.0",
      "model_name": "LayoutModel",
      "state": {}
     },
     "5fd989c4991e47dcbb519b031b9e2da1": {
      "model_module": "@jupyter-widgets/base",
      "model_module_version": "1.2.0",
      "model_name": "LayoutModel",
      "state": {}
     },
     "5fe3e753b7b042eab2fec5d0c100ccee": {
      "model_module": "@jupyter-widgets/base",
      "model_module_version": "1.2.0",
      "model_name": "LayoutModel",
      "state": {}
     },
     "61043379e2204c59abe892fa14a43e24": {
      "model_module": "@jupyter-widgets/base",
      "model_module_version": "1.2.0",
      "model_name": "LayoutModel",
      "state": {}
     },
     "612208258e2f47cda22428d0db6fd91c": {
      "model_module": "@jupyter-widgets/base",
      "model_module_version": "1.2.0",
      "model_name": "LayoutModel",
      "state": {}
     },
     "612fe764a4b64cb186e472010920ebbf": {
      "model_module": "@jupyter-widgets/controls",
      "model_module_version": "1.5.0",
      "model_name": "DescriptionStyleModel",
      "state": {
       "description_width": ""
      }
     },
     "6195583a01f0451f8971e023a1cb14ff": {
      "model_module": "@jupyter-widgets/base",
      "model_module_version": "1.2.0",
      "model_name": "LayoutModel",
      "state": {}
     },
     "62a0e743a6544feba8935f99ff6f96f2": {
      "model_module": "@jupyter-widgets/controls",
      "model_module_version": "1.5.0",
      "model_name": "ProgressStyleModel",
      "state": {
       "description_width": ""
      }
     },
     "6361fd193bab42d48a33c59518bed8fb": {
      "model_module": "@jupyter-widgets/controls",
      "model_module_version": "1.5.0",
      "model_name": "HTMLModel",
      "state": {
       "layout": "IPY_MODEL_40d73c8372b445afa61c7818eafecefd",
       "style": "IPY_MODEL_6eeaeab547ab41708325a0aa22d5a74d",
       "value": "100%"
      }
     },
     "641d472f7cd342d8a8a1e5f2e134c22c": {
      "model_module": "@jupyter-widgets/controls",
      "model_module_version": "1.5.0",
      "model_name": "HBoxModel",
      "state": {
       "children": [
        "IPY_MODEL_101dd8cc050c4733a3dc9f5fef23e98d",
        "IPY_MODEL_675e2e67492749a29c1dd69ef90b968b",
        "IPY_MODEL_02a0a1fbff10401584f0ce900575ec15"
       ],
       "layout": "IPY_MODEL_fea015d68c9d4425acedea3fd94fc0b5"
      }
     },
     "64425e5408974778b8457336b7555164": {
      "model_module": "@jupyter-widgets/controls",
      "model_module_version": "1.5.0",
      "model_name": "DescriptionStyleModel",
      "state": {
       "description_width": ""
      }
     },
     "64521f05d8b545d4b1431f70659305ac": {
      "model_module": "@jupyter-widgets/controls",
      "model_module_version": "1.5.0",
      "model_name": "FloatProgressModel",
      "state": {
       "bar_style": "success",
       "layout": "IPY_MODEL_9ff1a78e7c06470bbda339b053840912",
       "max": 338,
       "style": "IPY_MODEL_68ff5823fb6342c6b9b2be77eeb035d2",
       "value": 338
      }
     },
     "64c4c47af80147dcaa57c0487fd15a2e": {
      "model_module": "@jupyter-widgets/base",
      "model_module_version": "1.2.0",
      "model_name": "LayoutModel",
      "state": {}
     },
     "64c79febd5ad4004b02090807397ea5b": {
      "model_module": "@jupyter-widgets/controls",
      "model_module_version": "1.5.0",
      "model_name": "ProgressStyleModel",
      "state": {
       "description_width": ""
      }
     },
     "64fe26b2b0304e3a9c8f119baf873fad": {
      "model_module": "@jupyter-widgets/controls",
      "model_module_version": "1.5.0",
      "model_name": "FloatProgressModel",
      "state": {
       "bar_style": "danger",
       "layout": "IPY_MODEL_612208258e2f47cda22428d0db6fd91c",
       "max": 123,
       "style": "IPY_MODEL_d7ec961d4b644c6b8f26e98147b01f3e"
      }
     },
     "654d8dba16f445bc801c310027f7e5e3": {
      "model_module": "@jupyter-widgets/controls",
      "model_module_version": "1.5.0",
      "model_name": "FloatProgressModel",
      "state": {
       "bar_style": "success",
       "layout": "IPY_MODEL_e9720559a74045628f9cc2d27072886e",
       "max": 338,
       "style": "IPY_MODEL_62a0e743a6544feba8935f99ff6f96f2",
       "value": 338
      }
     },
     "655de040b5b44646895ebb8950462780": {
      "model_module": "@jupyter-widgets/controls",
      "model_module_version": "1.5.0",
      "model_name": "HTMLModel",
      "state": {
       "layout": "IPY_MODEL_46a10b1343714a6ea6311a5b8e8452fa",
       "style": "IPY_MODEL_0680d13ab23d43359e93d5fd337a0bd9",
       "value": " 338/338 [00:00&lt;00:00, 1655.45it/s]"
      }
     },
     "657786077c3b420c92f5655d404c5394": {
      "model_module": "@jupyter-widgets/base",
      "model_module_version": "1.2.0",
      "model_name": "LayoutModel",
      "state": {}
     },
     "65e60d4e729a4642ab3b9edb0e421d1a": {
      "model_module": "@jupyter-widgets/controls",
      "model_module_version": "1.5.0",
      "model_name": "FloatProgressModel",
      "state": {
       "bar_style": "success",
       "layout": "IPY_MODEL_762d2551da494f77825994e3e3f553cf",
       "max": 338,
       "style": "IPY_MODEL_a30daaef89104caa97179f460b0daa5b",
       "value": 338
      }
     },
     "669be103cbd144859cc342ed19d37845": {
      "model_module": "@jupyter-widgets/controls",
      "model_module_version": "1.5.0",
      "model_name": "HBoxModel",
      "state": {
       "children": [
        "IPY_MODEL_881b31b4c3e2436e881a61c082fd8740",
        "IPY_MODEL_f5ff49123f674bedb5c30e4327198abf",
        "IPY_MODEL_655de040b5b44646895ebb8950462780"
       ],
       "layout": "IPY_MODEL_564ac7c74b494f38aec2fae74a69fccc"
      }
     },
     "675e2e67492749a29c1dd69ef90b968b": {
      "model_module": "@jupyter-widgets/controls",
      "model_module_version": "1.5.0",
      "model_name": "FloatProgressModel",
      "state": {
       "bar_style": "success",
       "layout": "IPY_MODEL_0f7ef0bdb7dd439dabfd75dc33d771ca",
       "max": 338,
       "style": "IPY_MODEL_9196b7da83ad404e9c90519ef7e18f2b",
       "value": 338
      }
     },
     "68dd7e23795040e4aedc38cd865960c6": {
      "model_module": "@jupyter-widgets/controls",
      "model_module_version": "1.5.0",
      "model_name": "HTMLModel",
      "state": {
       "layout": "IPY_MODEL_553ea877ad2947879735a2ddf607e6a1",
       "style": "IPY_MODEL_1e9e56fbceae4972aab384b05a4d44ef",
       "value": " 0/338 [00:00&lt;?, ?it/s]"
      }
     },
     "68ff5823fb6342c6b9b2be77eeb035d2": {
      "model_module": "@jupyter-widgets/controls",
      "model_module_version": "1.5.0",
      "model_name": "ProgressStyleModel",
      "state": {
       "description_width": ""
      }
     },
     "690390b3ab844181bb237799267b1e1b": {
      "model_module": "@jupyter-widgets/controls",
      "model_module_version": "1.5.0",
      "model_name": "DescriptionStyleModel",
      "state": {
       "description_width": ""
      }
     },
     "69096b44a7344d218db7367c68c6755b": {
      "model_module": "@jupyter-widgets/controls",
      "model_module_version": "1.5.0",
      "model_name": "DescriptionStyleModel",
      "state": {
       "description_width": ""
      }
     },
     "696408807ae442beb91f3cc614ff4470": {
      "model_module": "@jupyter-widgets/controls",
      "model_module_version": "1.5.0",
      "model_name": "ProgressStyleModel",
      "state": {
       "description_width": ""
      }
     },
     "696857a5d9f34de2af95f188dbf9c6dd": {
      "model_module": "@jupyter-widgets/controls",
      "model_module_version": "1.5.0",
      "model_name": "HTMLModel",
      "state": {
       "layout": "IPY_MODEL_ffbd3db68ae047e29ae8b6fe8ad4a3fd",
       "style": "IPY_MODEL_690390b3ab844181bb237799267b1e1b",
       "value": " 0/123 [00:00&lt;?, ?it/s]"
      }
     },
     "69a6aa56ebf046c6a60bc896b76488e0": {
      "model_module": "@jupyter-widgets/controls",
      "model_module_version": "1.5.0",
      "model_name": "DescriptionStyleModel",
      "state": {
       "description_width": ""
      }
     },
     "69d8d51945b44845a711c20826eb6c66": {
      "model_module": "@jupyter-widgets/controls",
      "model_module_version": "1.5.0",
      "model_name": "HTMLModel",
      "state": {
       "layout": "IPY_MODEL_5ea14f9938b34137b9b24ebed18c45f2",
       "style": "IPY_MODEL_10733537779a404d877bf1e9242e0ab9",
       "value": "  0%"
      }
     },
     "69eb99743bec4adf9574600c41b45d8b": {
      "model_module": "@jupyter-widgets/controls",
      "model_module_version": "1.5.0",
      "model_name": "ProgressStyleModel",
      "state": {
       "description_width": ""
      }
     },
     "6a051f17c4994888bc3472587b433502": {
      "model_module": "@jupyter-widgets/base",
      "model_module_version": "1.2.0",
      "model_name": "LayoutModel",
      "state": {}
     },
     "6a7e68f331ee4af9a931b3ff158b7631": {
      "model_module": "@jupyter-widgets/controls",
      "model_module_version": "1.5.0",
      "model_name": "HTMLModel",
      "state": {
       "layout": "IPY_MODEL_ff13d3a295de4d009dd6ea49f1a0a8e0",
       "style": "IPY_MODEL_53e7c639859d46eebedcd8fd12ea89a6",
       "value": " 338/338 [00:00&lt;00:00, 1616.33it/s]"
      }
     },
     "6b549290e64e419e9f27d3860a1c8f0f": {
      "model_module": "@jupyter-widgets/controls",
      "model_module_version": "1.5.0",
      "model_name": "DescriptionStyleModel",
      "state": {
       "description_width": ""
      }
     },
     "6b944c2150734f4bb85ec8c323ac3757": {
      "model_module": "@jupyter-widgets/controls",
      "model_module_version": "1.5.0",
      "model_name": "DescriptionStyleModel",
      "state": {
       "description_width": ""
      }
     },
     "6bc64d1666d343bca9aef5115ec83eb6": {
      "model_module": "@jupyter-widgets/controls",
      "model_module_version": "1.5.0",
      "model_name": "HBoxModel",
      "state": {
       "children": [
        "IPY_MODEL_1167e07520234036ad653d36f87aa7ec",
        "IPY_MODEL_efc5420397d440f8b1b28fa8a97b0cb7",
        "IPY_MODEL_39761ddb13bd42108042560c573ec2d3"
       ],
       "layout": "IPY_MODEL_ffc44cb662a747999f9a4cbcdb4b7d44"
      }
     },
     "6bd87e5bb5844663ae7e0e3f96fa1109": {
      "model_module": "@jupyter-widgets/base",
      "model_module_version": "1.2.0",
      "model_name": "LayoutModel",
      "state": {}
     },
     "6c196bb27c0d4e52a2e902dc5f55af79": {
      "model_module": "@jupyter-widgets/controls",
      "model_module_version": "1.5.0",
      "model_name": "HBoxModel",
      "state": {
       "children": [
        "IPY_MODEL_b0f45b7cc8da481b91356ee02ac23002",
        "IPY_MODEL_274adb2bb27540d6bc1cb1d47fe40b87",
        "IPY_MODEL_f1036822011a496fba258578294f44b9"
       ],
       "layout": "IPY_MODEL_702e4ed1241944bf8416bcf318c900c7"
      }
     },
     "6ca0b2171a3646128e58036c337bfa8d": {
      "model_module": "@jupyter-widgets/controls",
      "model_module_version": "1.5.0",
      "model_name": "DescriptionStyleModel",
      "state": {
       "description_width": ""
      }
     },
     "6cb9dda7285f486b86f49b3100d6a097": {
      "model_module": "@jupyter-widgets/base",
      "model_module_version": "1.2.0",
      "model_name": "LayoutModel",
      "state": {}
     },
     "6d08f1c3f3744b179e9f43a2eba65075": {
      "model_module": "@jupyter-widgets/controls",
      "model_module_version": "1.5.0",
      "model_name": "HTMLModel",
      "state": {
       "layout": "IPY_MODEL_4c2ef6df89354b2fa2871e5d900d616d",
       "style": "IPY_MODEL_3e2230f1555e4b52a79de8ac4ea6203a",
       "value": " 338/338 [00:00&lt;00:00, 1710.69it/s]"
      }
     },
     "6d32db2a0766491caf5f7c1026a72a11": {
      "model_module": "@jupyter-widgets/base",
      "model_module_version": "1.2.0",
      "model_name": "LayoutModel",
      "state": {}
     },
     "6d8898f5b8f14d7abe65de5969b17af8": {
      "model_module": "@jupyter-widgets/controls",
      "model_module_version": "1.5.0",
      "model_name": "ProgressStyleModel",
      "state": {
       "description_width": ""
      }
     },
     "6dcb57e9f3014683a3f17d1ff6a40410": {
      "model_module": "@jupyter-widgets/controls",
      "model_module_version": "1.5.0",
      "model_name": "HBoxModel",
      "state": {
       "children": [
        "IPY_MODEL_21d316a7eb154a6ab8d8fad5bb8f2e64",
        "IPY_MODEL_22eb0cc751a74c678dd8ee8e148fdbd8",
        "IPY_MODEL_d4f80960fbe24dac89eb3a2a534bc0b2"
       ],
       "layout": "IPY_MODEL_9c89ec722db24bfd82f42a97cb7aa7c1"
      }
     },
     "6debe53369664134bd5565c9cc106d90": {
      "model_module": "@jupyter-widgets/base",
      "model_module_version": "1.2.0",
      "model_name": "LayoutModel",
      "state": {}
     },
     "6e0539a2d86c4ea0ae9661b8d654bc47": {
      "model_module": "@jupyter-widgets/controls",
      "model_module_version": "1.5.0",
      "model_name": "HTMLModel",
      "state": {
       "layout": "IPY_MODEL_16465dff3bad4868bed3d54d40406493",
       "style": "IPY_MODEL_ccb036f2ddc449d080d839401c899589",
       "value": "  0%"
      }
     },
     "6e1846f1ed8b4f79a418f99a0dd6d2c8": {
      "model_module": "@jupyter-widgets/controls",
      "model_module_version": "1.5.0",
      "model_name": "DescriptionStyleModel",
      "state": {
       "description_width": ""
      }
     },
     "6eeaeab547ab41708325a0aa22d5a74d": {
      "model_module": "@jupyter-widgets/controls",
      "model_module_version": "1.5.0",
      "model_name": "DescriptionStyleModel",
      "state": {
       "description_width": ""
      }
     },
     "6f3db1fc78fc4198b0424476581365e1": {
      "model_module": "@jupyter-widgets/controls",
      "model_module_version": "1.5.0",
      "model_name": "FloatProgressModel",
      "state": {
       "bar_style": "danger",
       "layout": "IPY_MODEL_d180713bb6754883adffc098b3d6a35a",
       "max": 67652,
       "style": "IPY_MODEL_69eb99743bec4adf9574600c41b45d8b",
       "value": 5
      }
     },
     "6fa9a3b783644991aae80db812a205bb": {
      "model_module": "@jupyter-widgets/controls",
      "model_module_version": "1.5.0",
      "model_name": "HTMLModel",
      "state": {
       "layout": "IPY_MODEL_596aa511d2a140cbb264f7fcd92b8cca",
       "style": "IPY_MODEL_cf1aa0760a904efca136fc33352be3a7",
       "value": " 0/0 [00:00&lt;?, ?it/s]"
      }
     },
     "6fb73b1a98144fd69a6843485452915d": {
      "model_module": "@jupyter-widgets/base",
      "model_module_version": "1.2.0",
      "model_name": "LayoutModel",
      "state": {}
     },
     "7025f1ca63a54be3a697d2cc134a6f5a": {
      "model_module": "@jupyter-widgets/base",
      "model_module_version": "1.2.0",
      "model_name": "LayoutModel",
      "state": {}
     },
     "702e4ed1241944bf8416bcf318c900c7": {
      "model_module": "@jupyter-widgets/base",
      "model_module_version": "1.2.0",
      "model_name": "LayoutModel",
      "state": {}
     },
     "708f7490c78d4fe8bee4541a7a03822e": {
      "model_module": "@jupyter-widgets/base",
      "model_module_version": "1.2.0",
      "model_name": "LayoutModel",
      "state": {}
     },
     "70f1fc99b3f64079ac2513bcb222203d": {
      "model_module": "@jupyter-widgets/base",
      "model_module_version": "1.2.0",
      "model_name": "LayoutModel",
      "state": {}
     },
     "724a013e01974fd28a9826bf3292e97b": {
      "model_module": "@jupyter-widgets/base",
      "model_module_version": "1.2.0",
      "model_name": "LayoutModel",
      "state": {}
     },
     "72b36f0fff42472990eacdd4c420ab4c": {
      "model_module": "@jupyter-widgets/controls",
      "model_module_version": "1.5.0",
      "model_name": "ProgressStyleModel",
      "state": {
       "description_width": ""
      }
     },
     "733f00b0464f479f871407c37aa21cdc": {
      "model_module": "@jupyter-widgets/controls",
      "model_module_version": "1.5.0",
      "model_name": "HBoxModel",
      "state": {
       "children": [
        "IPY_MODEL_2abd2a38f08143fcb43e0fa0bd702986",
        "IPY_MODEL_ce807ba448974c2bba0e8c5e0aca656f",
        "IPY_MODEL_b5b5ac955fbf4de09da8eaf42c715516"
       ],
       "layout": "IPY_MODEL_a6ea7ebdb7544311a4fd7376d54edb3f"
      }
     },
     "7386907ff6694d63b78a206cc4148fff": {
      "model_module": "@jupyter-widgets/controls",
      "model_module_version": "1.5.0",
      "model_name": "ProgressStyleModel",
      "state": {
       "description_width": ""
      }
     },
     "7445a539cbf644608414e95881e6126a": {
      "model_module": "@jupyter-widgets/controls",
      "model_module_version": "1.5.0",
      "model_name": "HBoxModel",
      "state": {
       "children": [
        "IPY_MODEL_6361fd193bab42d48a33c59518bed8fb",
        "IPY_MODEL_5eae13f7582e4d70bd42375cd7f82ffc",
        "IPY_MODEL_9cb9f443fac149c1b2681e3ff6286a55"
       ],
       "layout": "IPY_MODEL_2388a66c12614220927cfed2ea33c7e8"
      }
     },
     "762d2551da494f77825994e3e3f553cf": {
      "model_module": "@jupyter-widgets/base",
      "model_module_version": "1.2.0",
      "model_name": "LayoutModel",
      "state": {}
     },
     "763d875a1c924372b2202e49d9f27fb4": {
      "model_module": "@jupyter-widgets/controls",
      "model_module_version": "1.5.0",
      "model_name": "DescriptionStyleModel",
      "state": {
       "description_width": ""
      }
     },
     "76487f0cb1a14ff595ef43860f12b18c": {
      "model_module": "@jupyter-widgets/controls",
      "model_module_version": "1.5.0",
      "model_name": "FloatProgressModel",
      "state": {
       "bar_style": "success",
       "layout": "IPY_MODEL_32fb9953723d42d7a427ac566ef4ba70",
       "max": 338,
       "style": "IPY_MODEL_daf35fd31ea949a9b46fd0ec26f6917e",
       "value": 338
      }
     },
     "764d1b5e2d5d4b7e90c77bbe7ee3d767": {
      "model_module": "@jupyter-widgets/controls",
      "model_module_version": "1.5.0",
      "model_name": "DescriptionStyleModel",
      "state": {
       "description_width": ""
      }
     },
     "76d0c8c78b4449189395d96bdf40135a": {
      "model_module": "@jupyter-widgets/controls",
      "model_module_version": "1.5.0",
      "model_name": "FloatProgressModel",
      "state": {
       "bar_style": "danger",
       "layout": "IPY_MODEL_77407cde7ae64fa3886746d0ff2ff4ff",
       "max": 6,
       "style": "IPY_MODEL_fe8d7403324042c19d171afcbead70e5"
      }
     },
     "76dbbbdb7c9e4f52855945c6fb08a326": {
      "model_module": "@jupyter-widgets/controls",
      "model_module_version": "1.5.0",
      "model_name": "HTMLModel",
      "state": {
       "layout": "IPY_MODEL_0c2d58f7ff234c62af23363d99e5b7f0",
       "style": "IPY_MODEL_5477c25f17f941a8b5a6e6c1782c79c5",
       "value": " 338/338 [00:00&lt;00:00, 2016.70it/s]"
      }
     },
     "77407cde7ae64fa3886746d0ff2ff4ff": {
      "model_module": "@jupyter-widgets/base",
      "model_module_version": "1.2.0",
      "model_name": "LayoutModel",
      "state": {}
     },
     "7784e0231ab34e159f833850cf77ead7": {
      "model_module": "@jupyter-widgets/controls",
      "model_module_version": "1.5.0",
      "model_name": "HBoxModel",
      "state": {
       "children": [
        "IPY_MODEL_c402bb5f07a343288eece49585fd5679",
        "IPY_MODEL_06614f689d414d8a900f669d1ab7fbec",
        "IPY_MODEL_4eeb2989f8794800aa9b9ddadc4eb640"
       ],
       "layout": "IPY_MODEL_4f35245fe99c494890d176f2381d694f"
      }
     },
     "779c306db7904883b4e10b562f30dbf2": {
      "model_module": "@jupyter-widgets/base",
      "model_module_version": "1.2.0",
      "model_name": "LayoutModel",
      "state": {}
     },
     "77be105a8a6d417d9326da2b0a561f26": {
      "model_module": "@jupyter-widgets/controls",
      "model_module_version": "1.5.0",
      "model_name": "HBoxModel",
      "state": {
       "children": [
        "IPY_MODEL_b67719924c964e93bccb71eb40ef1da8",
        "IPY_MODEL_f6e05a7952f348fdbfc8a06904f0a2b3",
        "IPY_MODEL_5a1b2b93ae2146299472914328bd6d8d"
       ],
       "layout": "IPY_MODEL_2f4b8b7248ec4592a028b910052f48a3"
      }
     },
     "77fd4d417dcf44b686aca485d4bdc65a": {
      "model_module": "@jupyter-widgets/base",
      "model_module_version": "1.2.0",
      "model_name": "LayoutModel",
      "state": {}
     },
     "782fb3a91efe46909f831ac00f8e8e8a": {
      "model_module": "@jupyter-widgets/controls",
      "model_module_version": "1.5.0",
      "model_name": "FloatProgressModel",
      "state": {
       "bar_style": "danger",
       "layout": "IPY_MODEL_fbecd77683ef4c06a80c4187de3cd687",
       "max": 67652,
       "style": "IPY_MODEL_fe4f669e7e0646ea9c04c56152d8f6d1",
       "value": 44968
      }
     },
     "7858fb51627040ad92ea455532a827a3": {
      "model_module": "@jupyter-widgets/controls",
      "model_module_version": "1.5.0",
      "model_name": "HBoxModel",
      "state": {
       "children": [
        "IPY_MODEL_3ecb7f40bc2a463da71d7b4144afba3f",
        "IPY_MODEL_bd12e89f9ac04bf09f6555b396e070db",
        "IPY_MODEL_76dbbbdb7c9e4f52855945c6fb08a326"
       ],
       "layout": "IPY_MODEL_8d4b906a40c74a4a8f0ad7d419e16b11"
      }
     },
     "78d3796ece624930b737ff089a0f7f08": {
      "model_module": "@jupyter-widgets/controls",
      "model_module_version": "1.5.0",
      "model_name": "DescriptionStyleModel",
      "state": {
       "description_width": ""
      }
     },
     "78f22a3df7dc4bef9ad60dad34e2dac2": {
      "model_module": "@jupyter-widgets/controls",
      "model_module_version": "1.5.0",
      "model_name": "ProgressStyleModel",
      "state": {
       "description_width": ""
      }
     },
     "793018d0a9014b70ac92c6853e8abd3d": {
      "model_module": "@jupyter-widgets/base",
      "model_module_version": "1.2.0",
      "model_name": "LayoutModel",
      "state": {}
     },
     "79dc1add94b84d1f9150b0d6f38afe74": {
      "model_module": "@jupyter-widgets/controls",
      "model_module_version": "1.5.0",
      "model_name": "DescriptionStyleModel",
      "state": {
       "description_width": ""
      }
     },
     "79f7cf98b7da464ea6fe6033c5cf8386": {
      "model_module": "@jupyter-widgets/controls",
      "model_module_version": "1.5.0",
      "model_name": "DescriptionStyleModel",
      "state": {
       "description_width": ""
      }
     },
     "7a484cfa53ee44ebaf4e9df441d1359a": {
      "model_module": "@jupyter-widgets/base",
      "model_module_version": "1.2.0",
      "model_name": "LayoutModel",
      "state": {}
     },
     "7a6f408251ac409185316340935c515e": {
      "model_module": "@jupyter-widgets/controls",
      "model_module_version": "1.5.0",
      "model_name": "DescriptionStyleModel",
      "state": {
       "description_width": ""
      }
     },
     "7a95823102f146398e696024856a0170": {
      "model_module": "@jupyter-widgets/controls",
      "model_module_version": "1.5.0",
      "model_name": "HTMLModel",
      "state": {
       "layout": "IPY_MODEL_c67f550c6d224748be03edbbd1c54e4a",
       "style": "IPY_MODEL_612fe764a4b64cb186e472010920ebbf",
       "value": "  0%"
      }
     },
     "7b48c4ce36b845f88c4f98324179d182": {
      "model_module": "@jupyter-widgets/controls",
      "model_module_version": "1.5.0",
      "model_name": "DescriptionStyleModel",
      "state": {
       "description_width": ""
      }
     },
     "7b66b7d048f14a24a931bf25178227a3": {
      "model_module": "@jupyter-widgets/base",
      "model_module_version": "1.2.0",
      "model_name": "LayoutModel",
      "state": {}
     },
     "7c1ecde7365244e78de76b4be65b91ea": {
      "model_module": "@jupyter-widgets/base",
      "model_module_version": "1.2.0",
      "model_name": "LayoutModel",
      "state": {}
     },
     "7dec427b4cc84719acc58073ab573d57": {
      "model_module": "@jupyter-widgets/base",
      "model_module_version": "1.2.0",
      "model_name": "LayoutModel",
      "state": {}
     },
     "7eaec92f05cd49d1bce284a80e5454fc": {
      "model_module": "@jupyter-widgets/controls",
      "model_module_version": "1.5.0",
      "model_name": "HTMLModel",
      "state": {
       "layout": "IPY_MODEL_1aaf9d13f65c4c8ba86c43384bfaf2bd",
       "style": "IPY_MODEL_6ca0b2171a3646128e58036c337bfa8d",
       "value": " 338/338 [00:00&lt;00:00, 1909.43it/s]"
      }
     },
     "7eb3f5a0472f4420b1323981e20d717b": {
      "model_module": "@jupyter-widgets/controls",
      "model_module_version": "1.5.0",
      "model_name": "DescriptionStyleModel",
      "state": {
       "description_width": ""
      }
     },
     "7eda49725a084535a408168085bd6f4b": {
      "model_module": "@jupyter-widgets/controls",
      "model_module_version": "1.5.0",
      "model_name": "HTMLModel",
      "state": {
       "layout": "IPY_MODEL_4cb0cffd22a2470eb44afdfee80148f5",
       "style": "IPY_MODEL_6b944c2150734f4bb85ec8c323ac3757"
      }
     },
     "7ee677bdc24e44b3a4371c7f0662e1f9": {
      "model_module": "@jupyter-widgets/base",
      "model_module_version": "1.2.0",
      "model_name": "LayoutModel",
      "state": {}
     },
     "7f1814ef2e3741a8aad3ea70e3c14ce0": {
      "model_module": "@jupyter-widgets/controls",
      "model_module_version": "1.5.0",
      "model_name": "HBoxModel",
      "state": {
       "children": [
        "IPY_MODEL_c8c419ec6cc84c2289c19dc4e9fe22a1",
        "IPY_MODEL_d6b7211c03564fb5a1c1700bf7fb423a",
        "IPY_MODEL_43762fdc0c9849d6862d32f6e861cc33"
       ],
       "layout": "IPY_MODEL_c67a8c9bdbd142eea8570ad8ab6157b0"
      }
     },
     "7f9ee6b4099a4c00be654a6449270273": {
      "model_module": "@jupyter-widgets/controls",
      "model_module_version": "1.5.0",
      "model_name": "HBoxModel",
      "state": {
       "children": [
        "IPY_MODEL_e20130c8fcc64424b215681ab6978dc0",
        "IPY_MODEL_0b4061719eaf4109a6d56dd8e1590f98",
        "IPY_MODEL_db83c2302e2e4488b3669dce09a76f29"
       ],
       "layout": "IPY_MODEL_5d228830f1fb4d92b9666fa97c7c69a0"
      }
     },
     "800c7872b1374ce3bcdc264d8113c5c7": {
      "model_module": "@jupyter-widgets/controls",
      "model_module_version": "1.5.0",
      "model_name": "DescriptionStyleModel",
      "state": {
       "description_width": ""
      }
     },
     "8050c696be0e4bf1903957ddb8ab05ce": {
      "model_module": "@jupyter-widgets/controls",
      "model_module_version": "1.5.0",
      "model_name": "ProgressStyleModel",
      "state": {
       "description_width": ""
      }
     },
     "80bdceb3b13848f394f3e21bf98b2485": {
      "model_module": "@jupyter-widgets/base",
      "model_module_version": "1.2.0",
      "model_name": "LayoutModel",
      "state": {}
     },
     "821a804a3be44b4d99c36a361602d069": {
      "model_module": "@jupyter-widgets/controls",
      "model_module_version": "1.5.0",
      "model_name": "HTMLModel",
      "state": {
       "layout": "IPY_MODEL_c9e21d99233442bc8772c29d5a49a92a",
       "style": "IPY_MODEL_7a6f408251ac409185316340935c515e",
       "value": " 0/123 [00:00&lt;?, ?it/s]"
      }
     },
     "8281330b97b740e8870b372f2eef1f1c": {
      "model_module": "@jupyter-widgets/controls",
      "model_module_version": "1.5.0",
      "model_name": "ProgressStyleModel",
      "state": {
       "description_width": ""
      }
     },
     "82d54acc87ca4fd5af91e53f79b9438f": {
      "model_module": "@jupyter-widgets/controls",
      "model_module_version": "1.5.0",
      "model_name": "HTMLModel",
      "state": {
       "layout": "IPY_MODEL_960b41b25808495f898ff8490a7c4621",
       "style": "IPY_MODEL_7eb3f5a0472f4420b1323981e20d717b",
       "value": " 338/338 [00:00&lt;00:00, 11767.57it/s]"
      }
     },
     "84dfb3eeb37c4eedbb025538884e2441": {
      "model_module": "@jupyter-widgets/controls",
      "model_module_version": "1.5.0",
      "model_name": "FloatProgressModel",
      "state": {
       "bar_style": "success",
       "layout": "IPY_MODEL_426d303176de4a2c84661982581e6d3b",
       "max": 338,
       "style": "IPY_MODEL_dde6288d69db4e36993907260ba774e3",
       "value": 338
      }
     },
     "851e9d409c5c4c7ba137ddb3c04ece48": {
      "model_module": "@jupyter-widgets/controls",
      "model_module_version": "1.5.0",
      "model_name": "HTMLModel",
      "state": {
       "layout": "IPY_MODEL_e294700771af4951a45978da61ff756e",
       "style": "IPY_MODEL_311c0545e06d418793daf9eb32ffb2c5",
       "value": " 0/338 [00:00&lt;?, ?it/s]"
      }
     },
     "85300ce0c0b94772884eb15551414d33": {
      "model_module": "@jupyter-widgets/controls",
      "model_module_version": "1.5.0",
      "model_name": "ProgressStyleModel",
      "state": {
       "description_width": ""
      }
     },
     "85459d24b7bd49e789f61fc58218dce3": {
      "model_module": "@jupyter-widgets/controls",
      "model_module_version": "1.5.0",
      "model_name": "ProgressStyleModel",
      "state": {
       "description_width": ""
      }
     },
     "85538b70226a4ff1829db70ca50a2147": {
      "model_module": "@jupyter-widgets/controls",
      "model_module_version": "1.5.0",
      "model_name": "FloatProgressModel",
      "state": {
       "bar_style": "danger",
       "layout": "IPY_MODEL_5e1f881dddb2406db04e36c786b4eb59",
       "max": 123,
       "style": "IPY_MODEL_af66a50e75c24761989f5da448b85556"
      }
     },
     "85587f25e40f4b7987af9d9cf1191fc9": {
      "model_module": "@jupyter-widgets/controls",
      "model_module_version": "1.5.0",
      "model_name": "ProgressStyleModel",
      "state": {
       "description_width": ""
      }
     },
     "85b5f26bb08340248ecb6a066f0dcc52": {
      "model_module": "@jupyter-widgets/controls",
      "model_module_version": "1.5.0",
      "model_name": "FloatProgressModel",
      "state": {
       "bar_style": "danger",
       "layout": "IPY_MODEL_106ec48bec554a308fea944f7e1d266e",
       "max": 338,
       "style": "IPY_MODEL_ab4a7ea6b7344151bb198d0d13ecaa2c"
      }
     },
     "85d3e1eddd4941e79cc31b86ab8168bd": {
      "model_module": "@jupyter-widgets/controls",
      "model_module_version": "1.5.0",
      "model_name": "ProgressStyleModel",
      "state": {
       "description_width": ""
      }
     },
     "85f0dd9dc8c043fbbbd97a7b0a4807e9": {
      "model_module": "@jupyter-widgets/controls",
      "model_module_version": "1.5.0",
      "model_name": "DescriptionStyleModel",
      "state": {
       "description_width": ""
      }
     },
     "8757bcdda23449548e3bc161c4bad74f": {
      "model_module": "@jupyter-widgets/controls",
      "model_module_version": "1.5.0",
      "model_name": "ProgressStyleModel",
      "state": {
       "description_width": ""
      }
     },
     "877a6e14dca74869b373642f8bd47676": {
      "model_module": "@jupyter-widgets/base",
      "model_module_version": "1.2.0",
      "model_name": "LayoutModel",
      "state": {}
     },
     "878a312a0be84e668b14fec75eead899": {
      "model_module": "@jupyter-widgets/base",
      "model_module_version": "1.2.0",
      "model_name": "LayoutModel",
      "state": {}
     },
     "881b31b4c3e2436e881a61c082fd8740": {
      "model_module": "@jupyter-widgets/controls",
      "model_module_version": "1.5.0",
      "model_name": "HTMLModel",
      "state": {
       "layout": "IPY_MODEL_1ad84d9c3d314f929d8550681e4eadbb",
       "style": "IPY_MODEL_8de73132a13f44908bdf64791e6a1f6d",
       "value": "100%"
      }
     },
     "882ad6afaa6541a0ae283697d257b2fc": {
      "model_module": "@jupyter-widgets/controls",
      "model_module_version": "1.5.0",
      "model_name": "HBoxModel",
      "state": {
       "children": [
        "IPY_MODEL_f96c2cbf30534aeb8a28295dfb18141f",
        "IPY_MODEL_36c2b961300847f39e15ddf123e4238f",
        "IPY_MODEL_079f7dee5f2442f3a6a12833cf31bc77"
       ],
       "layout": "IPY_MODEL_fe64f2ebf49f448696aa87bed0b02e8a"
      }
     },
     "887b07a2bcee4b20ac7882a255a3bf18": {
      "model_module": "@jupyter-widgets/controls",
      "model_module_version": "1.5.0",
      "model_name": "HTMLModel",
      "state": {
       "layout": "IPY_MODEL_a17fec26fc11456884a2a5e6b7c13667",
       "style": "IPY_MODEL_8e91a9a5b53a4deb9583c6cd05ebce4e",
       "value": "100%"
      }
     },
     "887e32ddf7a2494d8c0f9a7a6b76f279": {
      "model_module": "@jupyter-widgets/base",
      "model_module_version": "1.2.0",
      "model_name": "LayoutModel",
      "state": {}
     },
     "88cb7ca696194c51a25ea387df911818": {
      "model_module": "@jupyter-widgets/controls",
      "model_module_version": "1.5.0",
      "model_name": "HTMLModel",
      "state": {
       "layout": "IPY_MODEL_9a5f0816052143498a21564b659af467",
       "style": "IPY_MODEL_28b9983d75ea4402a4711795506ad757",
       "value": "  0%"
      }
     },
     "88e1f23d1cc94310899e6c9cfb04ec1b": {
      "model_module": "@jupyter-widgets/controls",
      "model_module_version": "1.5.0",
      "model_name": "HTMLModel",
      "state": {
       "layout": "IPY_MODEL_931abe4c9b544a158d33b0da23534400",
       "style": "IPY_MODEL_69096b44a7344d218db7367c68c6755b",
       "value": "  0%"
      }
     },
     "891c3dce805947168a69c25eb105a167": {
      "model_module": "@jupyter-widgets/controls",
      "model_module_version": "1.5.0",
      "model_name": "DescriptionStyleModel",
      "state": {
       "description_width": ""
      }
     },
     "89beb9ebecb442a5af8e0fa74b6fee18": {
      "model_module": "@jupyter-widgets/controls",
      "model_module_version": "1.5.0",
      "model_name": "FloatProgressModel",
      "state": {
       "bar_style": "danger",
       "layout": "IPY_MODEL_e47d7a05c88a4a67b8d4e13620670bb5",
       "max": 338,
       "style": "IPY_MODEL_b0acfb67ccb142a6a15ffa1f15ae3143"
      }
     },
     "8ad966a454e64d78a4667dc5cc5b3bbb": {
      "model_module": "@jupyter-widgets/controls",
      "model_module_version": "1.5.0",
      "model_name": "HBoxModel",
      "state": {
       "children": [
        "IPY_MODEL_400995be724743eca71c38a559fa2be6",
        "IPY_MODEL_4c6f892636264014b277ab9883340631",
        "IPY_MODEL_0342ff1a965a4fd9bbe2755bf82f3990"
       ],
       "layout": "IPY_MODEL_d06a23ad4dc24784899bcb1d96c4a3f3"
      }
     },
     "8d17a31087924161be2247d566b36730": {
      "model_module": "@jupyter-widgets/base",
      "model_module_version": "1.2.0",
      "model_name": "LayoutModel",
      "state": {
       "width": "20px"
      }
     },
     "8d4b906a40c74a4a8f0ad7d419e16b11": {
      "model_module": "@jupyter-widgets/base",
      "model_module_version": "1.2.0",
      "model_name": "LayoutModel",
      "state": {}
     },
     "8d7d4d8b2793484a9989613c84d0f64f": {
      "model_module": "@jupyter-widgets/base",
      "model_module_version": "1.2.0",
      "model_name": "LayoutModel",
      "state": {}
     },
     "8de73132a13f44908bdf64791e6a1f6d": {
      "model_module": "@jupyter-widgets/controls",
      "model_module_version": "1.5.0",
      "model_name": "DescriptionStyleModel",
      "state": {
       "description_width": ""
      }
     },
     "8de8bf6e622d41d6a3e3d8b8ef962eef": {
      "model_module": "@jupyter-widgets/controls",
      "model_module_version": "1.5.0",
      "model_name": "DescriptionStyleModel",
      "state": {
       "description_width": ""
      }
     },
     "8e140c46e5e040b3a32c7305b07d909a": {
      "model_module": "@jupyter-widgets/base",
      "model_module_version": "1.2.0",
      "model_name": "LayoutModel",
      "state": {}
     },
     "8e91a9a5b53a4deb9583c6cd05ebce4e": {
      "model_module": "@jupyter-widgets/controls",
      "model_module_version": "1.5.0",
      "model_name": "DescriptionStyleModel",
      "state": {
       "description_width": ""
      }
     },
     "8ea3713b92ee410a81cc41292b4663b6": {
      "model_module": "@jupyter-widgets/controls",
      "model_module_version": "1.5.0",
      "model_name": "ProgressStyleModel",
      "state": {
       "description_width": ""
      }
     },
     "8f24aff6b57d4287ae03f58646135d8d": {
      "model_module": "@jupyter-widgets/base",
      "model_module_version": "1.2.0",
      "model_name": "LayoutModel",
      "state": {}
     },
     "8f7a82d83ef54987a2b8ab471f282dd5": {
      "model_module": "@jupyter-widgets/base",
      "model_module_version": "1.2.0",
      "model_name": "LayoutModel",
      "state": {}
     },
     "90af14f76b72457eaf604f23ee74a888": {
      "model_module": "@jupyter-widgets/controls",
      "model_module_version": "1.5.0",
      "model_name": "FloatProgressModel",
      "state": {
       "bar_style": "success",
       "layout": "IPY_MODEL_e9fb2db4547e45a394552024035e75cf",
       "max": 338,
       "style": "IPY_MODEL_d8edd5b8be614053a0f6ddfd50959159",
       "value": 338
      }
     },
     "9105ded467aa4fc9be1dc7754919c912": {
      "model_module": "@jupyter-widgets/controls",
      "model_module_version": "1.5.0",
      "model_name": "HBoxModel",
      "state": {
       "children": [
        "IPY_MODEL_1103c31bc7c94fa9bb7433bfcaea6f40",
        "IPY_MODEL_76487f0cb1a14ff595ef43860f12b18c",
        "IPY_MODEL_6a7e68f331ee4af9a931b3ff158b7631"
       ],
       "layout": "IPY_MODEL_da0a414fad254cc693b49c940af8d93b"
      }
     },
     "9132d265c598479dbd38a31b2c77b9ab": {
      "model_module": "@jupyter-widgets/base",
      "model_module_version": "1.2.0",
      "model_name": "LayoutModel",
      "state": {}
     },
     "9196b7da83ad404e9c90519ef7e18f2b": {
      "model_module": "@jupyter-widgets/controls",
      "model_module_version": "1.5.0",
      "model_name": "ProgressStyleModel",
      "state": {
       "description_width": ""
      }
     },
     "91da67ee75a347d1bb000baa526c0845": {
      "model_module": "@jupyter-widgets/controls",
      "model_module_version": "1.5.0",
      "model_name": "HTMLModel",
      "state": {
       "layout": "IPY_MODEL_c4197eac7d1d48299bf19ed3e84913db",
       "style": "IPY_MODEL_2af206ee2acf4ff88593b60869ab3ff5",
       "value": "100%"
      }
     },
     "91dd10e7314943c7b0fff56e4d297fcd": {
      "model_module": "@jupyter-widgets/controls",
      "model_module_version": "1.5.0",
      "model_name": "HBoxModel",
      "state": {
       "children": [
        "IPY_MODEL_c0fa9a448abd4c6f9fb62f9afee2f8da",
        "IPY_MODEL_90af14f76b72457eaf604f23ee74a888",
        "IPY_MODEL_dddb232c4a1e4f5eb17bf49db7f779d6"
       ],
       "layout": "IPY_MODEL_c7d00ebd05ab4427829cb7ef8584f2e0"
      }
     },
     "91fe68eeeb34441f85e56c3a2e8f0b65": {
      "model_module": "@jupyter-widgets/controls",
      "model_module_version": "1.5.0",
      "model_name": "ProgressStyleModel",
      "state": {
       "description_width": ""
      }
     },
     "927050e5f5214cb8aa5b69a757fe2b85": {
      "model_module": "@jupyter-widgets/base",
      "model_module_version": "1.2.0",
      "model_name": "LayoutModel",
      "state": {}
     },
     "9286776e9bbf4b83a419d4285a39a22a": {
      "model_module": "@jupyter-widgets/controls",
      "model_module_version": "1.5.0",
      "model_name": "ProgressStyleModel",
      "state": {
       "description_width": ""
      }
     },
     "92e3c3016d5b468fa544efb2e3bccfd8": {
      "model_module": "@jupyter-widgets/controls",
      "model_module_version": "1.5.0",
      "model_name": "DescriptionStyleModel",
      "state": {
       "description_width": ""
      }
     },
     "931abe4c9b544a158d33b0da23534400": {
      "model_module": "@jupyter-widgets/base",
      "model_module_version": "1.2.0",
      "model_name": "LayoutModel",
      "state": {}
     },
     "937092e39f4f44e7a7f0fa95e67e5c87": {
      "model_module": "@jupyter-widgets/controls",
      "model_module_version": "1.5.0",
      "model_name": "HTMLModel",
      "state": {
       "layout": "IPY_MODEL_c50fb229fdd44fa18c269d09c6316b73",
       "style": "IPY_MODEL_891c3dce805947168a69c25eb105a167",
       "value": "  0%"
      }
     },
     "943316e158cb4df0832c14892904e13f": {
      "model_module": "@jupyter-widgets/base",
      "model_module_version": "1.2.0",
      "model_name": "LayoutModel",
      "state": {}
     },
     "9440390a53c043ac944ceeadc30796ed": {
      "model_module": "@jupyter-widgets/base",
      "model_module_version": "1.2.0",
      "model_name": "LayoutModel",
      "state": {}
     },
     "945ce2f1358846a78c9576d956c155d3": {
      "model_module": "@jupyter-widgets/controls",
      "model_module_version": "1.5.0",
      "model_name": "HBoxModel",
      "state": {
       "children": [
        "IPY_MODEL_031477044ca944e0b70ff10cfc98f5f2",
        "IPY_MODEL_460b9fb2fa7743c69ed3f18e6eba061c",
        "IPY_MODEL_a892e9100780400d8837fcc16aeed131"
       ],
       "layout": "IPY_MODEL_a2a7d5bea06c4fd79abdbaf3245d3ccb"
      }
     },
     "956ea1348f94461583609fc7f9b4633d": {
      "model_module": "@jupyter-widgets/base",
      "model_module_version": "1.2.0",
      "model_name": "LayoutModel",
      "state": {}
     },
     "960b41b25808495f898ff8490a7c4621": {
      "model_module": "@jupyter-widgets/base",
      "model_module_version": "1.2.0",
      "model_name": "LayoutModel",
      "state": {}
     },
     "961bd12a8309443baac84a8ba0a06872": {
      "model_module": "@jupyter-widgets/controls",
      "model_module_version": "1.5.0",
      "model_name": "HTMLModel",
      "state": {
       "layout": "IPY_MODEL_cd09a8a3bc394930892226a8fd1ca921",
       "style": "IPY_MODEL_29ba9f7471fb495092f99825dc5cc714",
       "value": " 338/338 [00:00&lt;00:00, 4034.22it/s]"
      }
     },
     "9640542308964288bd64ab99f54cc9fa": {
      "model_module": "@jupyter-widgets/controls",
      "model_module_version": "1.5.0",
      "model_name": "HTMLModel",
      "state": {
       "layout": "IPY_MODEL_7025f1ca63a54be3a697d2cc134a6f5a",
       "style": "IPY_MODEL_21b6a0a675b0410dbf400aacdf9a44e8",
       "value": " 0/338 [00:00&lt;?, ?it/s]"
      }
     },
     "974de620da78493fae8c02e521880eb6": {
      "model_module": "@jupyter-widgets/controls",
      "model_module_version": "1.5.0",
      "model_name": "DescriptionStyleModel",
      "state": {
       "description_width": ""
      }
     },
     "982bad5c64bf4dd7ad1333331348c4e4": {
      "model_module": "@jupyter-widgets/base",
      "model_module_version": "1.2.0",
      "model_name": "LayoutModel",
      "state": {}
     },
     "994f6206c565457ba7236cddd1efb693": {
      "model_module": "@jupyter-widgets/controls",
      "model_module_version": "1.5.0",
      "model_name": "FloatProgressModel",
      "state": {
       "bar_style": "success",
       "layout": "IPY_MODEL_2ced587d543942b98dd7327e8057902c",
       "max": 338,
       "style": "IPY_MODEL_85d3e1eddd4941e79cc31b86ab8168bd",
       "value": 338
      }
     },
     "9992639689dc452a96aab90b1cf30b8a": {
      "model_module": "@jupyter-widgets/base",
      "model_module_version": "1.2.0",
      "model_name": "LayoutModel",
      "state": {}
     },
     "9a427a6fe2054301bf8558f9ddd86469": {
      "model_module": "@jupyter-widgets/controls",
      "model_module_version": "1.5.0",
      "model_name": "DescriptionStyleModel",
      "state": {
       "description_width": ""
      }
     },
     "9a5f0816052143498a21564b659af467": {
      "model_module": "@jupyter-widgets/base",
      "model_module_version": "1.2.0",
      "model_name": "LayoutModel",
      "state": {}
     },
     "9bd0334db5fe4471b5dcba1d155d0f5c": {
      "model_module": "@jupyter-widgets/base",
      "model_module_version": "1.2.0",
      "model_name": "LayoutModel",
      "state": {}
     },
     "9bee2ca73d994cc2b55f6809d7fd8705": {
      "model_module": "@jupyter-widgets/controls",
      "model_module_version": "1.5.0",
      "model_name": "DescriptionStyleModel",
      "state": {
       "description_width": ""
      }
     },
     "9c7006993f824ab982f189f43fd915d9": {
      "model_module": "@jupyter-widgets/base",
      "model_module_version": "1.2.0",
      "model_name": "LayoutModel",
      "state": {}
     },
     "9c89ec722db24bfd82f42a97cb7aa7c1": {
      "model_module": "@jupyter-widgets/base",
      "model_module_version": "1.2.0",
      "model_name": "LayoutModel",
      "state": {}
     },
     "9cb9f443fac149c1b2681e3ff6286a55": {
      "model_module": "@jupyter-widgets/controls",
      "model_module_version": "1.5.0",
      "model_name": "HTMLModel",
      "state": {
       "layout": "IPY_MODEL_28ad57e40f5540ed802c7eff86be7f7f",
       "style": "IPY_MODEL_46c62d1a6b81402089ab0683c61b371c",
       "value": " 338/338 [00:00&lt;00:00, 1553.88it/s]"
      }
     },
     "9d0fd90d7373433d8200df951663d4d5": {
      "model_module": "@jupyter-widgets/base",
      "model_module_version": "1.2.0",
      "model_name": "LayoutModel",
      "state": {}
     },
     "9e0716fe6f50441d9491bc530d3d0739": {
      "model_module": "@jupyter-widgets/controls",
      "model_module_version": "1.5.0",
      "model_name": "ProgressStyleModel",
      "state": {
       "description_width": ""
      }
     },
     "9e4d2951e08b430390450d25a72dd76c": {
      "model_module": "@jupyter-widgets/controls",
      "model_module_version": "1.5.0",
      "model_name": "HBoxModel",
      "state": {
       "children": [
        "IPY_MODEL_524388db361b4a918a18e619cc47a6a5",
        "IPY_MODEL_57fd5600f8e841cca9c4e495d42d8804",
        "IPY_MODEL_c30ba6a54c0c4d0198e28c1a505d0891"
       ],
       "layout": "IPY_MODEL_104eaf48fd654733a2d0b10af6e986d6"
      }
     },
     "9e4f50367fb64a3991a996c7616338b1": {
      "model_module": "@jupyter-widgets/controls",
      "model_module_version": "1.5.0",
      "model_name": "ProgressStyleModel",
      "state": {
       "description_width": ""
      }
     },
     "9e58128a2c714235a229d23a7563dfb0": {
      "model_module": "@jupyter-widgets/controls",
      "model_module_version": "1.5.0",
      "model_name": "HTMLModel",
      "state": {
       "layout": "IPY_MODEL_d03391f5d5b348109e847cc697243141",
       "style": "IPY_MODEL_44277e28c78246859ff98de63cf47091",
       "value": " 338/338 [00:00&lt;00:00, 2858.84it/s]"
      }
     },
     "9f05f5725b9546e18d4a3c44c269c139": {
      "model_module": "@jupyter-widgets/controls",
      "model_module_version": "1.5.0",
      "model_name": "FloatProgressModel",
      "state": {
       "bar_style": "success",
       "layout": "IPY_MODEL_cfbc28f6fb1848f4b1d8c86c53aebb64",
       "max": 338,
       "style": "IPY_MODEL_f5acaa75f8c44e6da01512db1c76b431",
       "value": 338
      }
     },
     "9f11e662314746a0bccedb983015f400": {
      "model_module": "@jupyter-widgets/controls",
      "model_module_version": "1.5.0",
      "model_name": "HTMLModel",
      "state": {
       "layout": "IPY_MODEL_df4bece55a134b029d07f849823411cc",
       "style": "IPY_MODEL_48021dccba064ea2a8422fe1b5195c9c",
       "value": "100%"
      }
     },
     "9f12615550744060ac648d0db8a38e1c": {
      "model_module": "@jupyter-widgets/base",
      "model_module_version": "1.2.0",
      "model_name": "LayoutModel",
      "state": {}
     },
     "9f3851c2631245b48504901e55e4fa4c": {
      "model_module": "@jupyter-widgets/base",
      "model_module_version": "1.2.0",
      "model_name": "LayoutModel",
      "state": {}
     },
     "9f96d836ff70459689ca7227bc0d7666": {
      "model_module": "@jupyter-widgets/controls",
      "model_module_version": "1.5.0",
      "model_name": "DescriptionStyleModel",
      "state": {
       "description_width": ""
      }
     },
     "9fb1edae059c49a58c1803c1e9298bdc": {
      "model_module": "@jupyter-widgets/controls",
      "model_module_version": "1.5.0",
      "model_name": "DescriptionStyleModel",
      "state": {
       "description_width": ""
      }
     },
     "9ff1a78e7c06470bbda339b053840912": {
      "model_module": "@jupyter-widgets/base",
      "model_module_version": "1.2.0",
      "model_name": "LayoutModel",
      "state": {}
     },
     "9ffdab2a15124950b0cd6440384fde1e": {
      "model_module": "@jupyter-widgets/controls",
      "model_module_version": "1.5.0",
      "model_name": "FloatProgressModel",
      "state": {
       "bar_style": "success",
       "layout": "IPY_MODEL_d741012b3c38450f873cbc28272ff2c3",
       "max": 338,
       "style": "IPY_MODEL_ed547aba7a0247279135fb49952b4970",
       "value": 338
      }
     },
     "a0bcd67cbf274669984c8b0af79beef4": {
      "model_module": "@jupyter-widgets/controls",
      "model_module_version": "1.5.0",
      "model_name": "DescriptionStyleModel",
      "state": {
       "description_width": ""
      }
     },
     "a1564e2f8b904f36a4d610cc5bd15c01": {
      "model_module": "@jupyter-widgets/base",
      "model_module_version": "1.2.0",
      "model_name": "LayoutModel",
      "state": {}
     },
     "a166210348cb460295a97b2ca7a05e4b": {
      "model_module": "@jupyter-widgets/base",
      "model_module_version": "1.2.0",
      "model_name": "LayoutModel",
      "state": {}
     },
     "a17fec26fc11456884a2a5e6b7c13667": {
      "model_module": "@jupyter-widgets/base",
      "model_module_version": "1.2.0",
      "model_name": "LayoutModel",
      "state": {}
     },
     "a1c111fde7334193a7f0c532e5d5aea9": {
      "model_module": "@jupyter-widgets/controls",
      "model_module_version": "1.5.0",
      "model_name": "FloatProgressModel",
      "state": {
       "bar_style": "success",
       "layout": "IPY_MODEL_1c31e786a7444a96b6aaf531b34a354c",
       "max": 338,
       "style": "IPY_MODEL_696408807ae442beb91f3cc614ff4470",
       "value": 338
      }
     },
     "a1c483d23ac743739aa2d8a049912a8f": {
      "model_module": "@jupyter-widgets/base",
      "model_module_version": "1.2.0",
      "model_name": "LayoutModel",
      "state": {}
     },
     "a20b68f239684f419b9a16ed3a4b7cc2": {
      "model_module": "@jupyter-widgets/controls",
      "model_module_version": "1.5.0",
      "model_name": "DescriptionStyleModel",
      "state": {
       "description_width": ""
      }
     },
     "a2205420487a45cea57fc2bc4728a901": {
      "model_module": "@jupyter-widgets/controls",
      "model_module_version": "1.5.0",
      "model_name": "FloatProgressModel",
      "state": {
       "bar_style": "success",
       "layout": "IPY_MODEL_982bad5c64bf4dd7ad1333331348c4e4",
       "max": 338,
       "style": "IPY_MODEL_009faaa23e524c7fb8de103b4485ba94",
       "value": 338
      }
     },
     "a2a7d5bea06c4fd79abdbaf3245d3ccb": {
      "model_module": "@jupyter-widgets/base",
      "model_module_version": "1.2.0",
      "model_name": "LayoutModel",
      "state": {}
     },
     "a2b17c422dd94d5e9a117e99b9232d3c": {
      "model_module": "@jupyter-widgets/controls",
      "model_module_version": "1.5.0",
      "model_name": "DescriptionStyleModel",
      "state": {
       "description_width": ""
      }
     },
     "a30daaef89104caa97179f460b0daa5b": {
      "model_module": "@jupyter-widgets/controls",
      "model_module_version": "1.5.0",
      "model_name": "ProgressStyleModel",
      "state": {
       "description_width": ""
      }
     },
     "a338de72698348b39b8c29e5941f0ed5": {
      "model_module": "@jupyter-widgets/base",
      "model_module_version": "1.2.0",
      "model_name": "LayoutModel",
      "state": {}
     },
     "a358cc5601b3414990b3f18a6a0fa1db": {
      "model_module": "@jupyter-widgets/base",
      "model_module_version": "1.2.0",
      "model_name": "LayoutModel",
      "state": {}
     },
     "a367bd8d48534d90bb1bea44fadbee29": {
      "model_module": "@jupyter-widgets/base",
      "model_module_version": "1.2.0",
      "model_name": "LayoutModel",
      "state": {}
     },
     "a39e847f58cd4a62b3948a4ef80446be": {
      "model_module": "@jupyter-widgets/base",
      "model_module_version": "1.2.0",
      "model_name": "LayoutModel",
      "state": {}
     },
     "a3e1bcade275473495239b6d2879e81c": {
      "model_module": "@jupyter-widgets/base",
      "model_module_version": "1.2.0",
      "model_name": "LayoutModel",
      "state": {}
     },
     "a3f91d2b182a4a8985a9f0fadec510ef": {
      "model_module": "@jupyter-widgets/controls",
      "model_module_version": "1.5.0",
      "model_name": "HTMLModel",
      "state": {
       "layout": "IPY_MODEL_bf1d6327d14845d58698e345a304855f",
       "style": "IPY_MODEL_8de8bf6e622d41d6a3e3d8b8ef962eef",
       "value": " 338/338 [00:00&lt;00:00, 2109.55it/s]"
      }
     },
     "a46f598dac3544e58e17aa8ef6aa6dae": {
      "model_module": "@jupyter-widgets/base",
      "model_module_version": "1.2.0",
      "model_name": "LayoutModel",
      "state": {}
     },
     "a48a69944ccb421e9b21c48ebf29d99a": {
      "model_module": "@jupyter-widgets/controls",
      "model_module_version": "1.5.0",
      "model_name": "DescriptionStyleModel",
      "state": {
       "description_width": ""
      }
     },
     "a568848c7bfb44a3bd6e35a078c030c8": {
      "model_module": "@jupyter-widgets/controls",
      "model_module_version": "1.5.0",
      "model_name": "DescriptionStyleModel",
      "state": {
       "description_width": ""
      }
     },
     "a68cfda7c0664a2f841ea8b258a96777": {
      "model_module": "@jupyter-widgets/base",
      "model_module_version": "1.2.0",
      "model_name": "LayoutModel",
      "state": {}
     },
     "a6ae4b5687684e6fa1351204ec760553": {
      "model_module": "@jupyter-widgets/controls",
      "model_module_version": "1.5.0",
      "model_name": "HTMLModel",
      "state": {
       "layout": "IPY_MODEL_a1c483d23ac743739aa2d8a049912a8f",
       "style": "IPY_MODEL_b0a9b39af98747869ecc35201c87ebf0",
       "value": " 338/338 [00:00&lt;00:00, 1225.32it/s]"
      }
     },
     "a6ea7ebdb7544311a4fd7376d54edb3f": {
      "model_module": "@jupyter-widgets/base",
      "model_module_version": "1.2.0",
      "model_name": "LayoutModel",
      "state": {}
     },
     "a81ea08f31dd42568f155d04532b299c": {
      "model_module": "@jupyter-widgets/controls",
      "model_module_version": "1.5.0",
      "model_name": "HBoxModel",
      "state": {
       "children": [
        "IPY_MODEL_887b07a2bcee4b20ac7882a255a3bf18",
        "IPY_MODEL_cde30d342e72477aabbf705c256f3842",
        "IPY_MODEL_3fd9e67c7b72493d8352538802495e4c"
       ],
       "layout": "IPY_MODEL_64c4c47af80147dcaa57c0487fd15a2e"
      }
     },
     "a851e1a3f7a94556ba09ba0e7a7c511b": {
      "model_module": "@jupyter-widgets/controls",
      "model_module_version": "1.5.0",
      "model_name": "HTMLModel",
      "state": {
       "layout": "IPY_MODEL_724a013e01974fd28a9826bf3292e97b",
       "style": "IPY_MODEL_764d1b5e2d5d4b7e90c77bbe7ee3d767",
       "value": " 0/6 [00:00&lt;?, ?it/s]"
      }
     },
     "a892e9100780400d8837fcc16aeed131": {
      "model_module": "@jupyter-widgets/controls",
      "model_module_version": "1.5.0",
      "model_name": "HTMLModel",
      "state": {
       "layout": "IPY_MODEL_2d13cd0f25894591b9753bda6fb1b995",
       "style": "IPY_MODEL_08fd1a7e55f34156a288adf3207294a1",
       "value": " 0/338 [00:00&lt;?, ?it/s]"
      }
     },
     "a89edabd4cf84c449b52991f6f96f1fe": {
      "model_module": "@jupyter-widgets/controls",
      "model_module_version": "1.5.0",
      "model_name": "DescriptionStyleModel",
      "state": {
       "description_width": ""
      }
     },
     "a967b207ab8c420a81a8f03ea9f69087": {
      "model_module": "@jupyter-widgets/controls",
      "model_module_version": "1.5.0",
      "model_name": "HTMLModel",
      "state": {
       "layout": "IPY_MODEL_877a6e14dca74869b373642f8bd47676",
       "style": "IPY_MODEL_4421abbe76c444bba656c41fc7ee877f",
       "value": "  0%"
      }
     },
     "a9eb65432dd84c49b006b6a5a6450a1b": {
      "model_module": "@jupyter-widgets/base",
      "model_module_version": "1.2.0",
      "model_name": "LayoutModel",
      "state": {}
     },
     "aa3755582f734a998370ef80594f6f42": {
      "model_module": "@jupyter-widgets/base",
      "model_module_version": "1.2.0",
      "model_name": "LayoutModel",
      "state": {}
     },
     "aa55cdbafd4a4fc5be73e222fd1f95b6": {
      "model_module": "@jupyter-widgets/controls",
      "model_module_version": "1.5.0",
      "model_name": "DescriptionStyleModel",
      "state": {
       "description_width": ""
      }
     },
     "aa87cac857964c4eba80c887779fe609": {
      "model_module": "@jupyter-widgets/base",
      "model_module_version": "1.2.0",
      "model_name": "LayoutModel",
      "state": {}
     },
     "aaa52605475443f59f902bbd015a48d2": {
      "model_module": "@jupyter-widgets/controls",
      "model_module_version": "1.5.0",
      "model_name": "ProgressStyleModel",
      "state": {
       "description_width": ""
      }
     },
     "ab2b9f262ff1458fb27ed2b07d4d9f3a": {
      "model_module": "@jupyter-widgets/controls",
      "model_module_version": "1.5.0",
      "model_name": "HTMLModel",
      "state": {
       "layout": "IPY_MODEL_feb0b75e7c2242f6a3d33f8a3393a08c",
       "style": "IPY_MODEL_a568848c7bfb44a3bd6e35a078c030c8",
       "value": "100%"
      }
     },
     "ab4a7ea6b7344151bb198d0d13ecaa2c": {
      "model_module": "@jupyter-widgets/controls",
      "model_module_version": "1.5.0",
      "model_name": "ProgressStyleModel",
      "state": {
       "description_width": ""
      }
     },
     "ad7421d1a8d44e5d853ffba1bd8e030f": {
      "model_module": "@jupyter-widgets/base",
      "model_module_version": "1.2.0",
      "model_name": "LayoutModel",
      "state": {}
     },
     "ad7e1d554f924f0ba7c5522d2c013526": {
      "model_module": "@jupyter-widgets/controls",
      "model_module_version": "1.5.0",
      "model_name": "DescriptionStyleModel",
      "state": {
       "description_width": ""
      }
     },
     "ae1f95b999ec4cfdbaf89d03380228d6": {
      "model_module": "@jupyter-widgets/controls",
      "model_module_version": "1.5.0",
      "model_name": "DescriptionStyleModel",
      "state": {
       "description_width": ""
      }
     },
     "af3b7ac00a484c7483ec4e74cd835cf5": {
      "model_module": "@jupyter-widgets/controls",
      "model_module_version": "1.5.0",
      "model_name": "HBoxModel",
      "state": {
       "children": [
        "IPY_MODEL_91da67ee75a347d1bb000baa526c0845",
        "IPY_MODEL_a2205420487a45cea57fc2bc4728a901",
        "IPY_MODEL_961bd12a8309443baac84a8ba0a06872"
       ],
       "layout": "IPY_MODEL_fd201c0a36264731a6f77a665ada882c"
      }
     },
     "af66a50e75c24761989f5da448b85556": {
      "model_module": "@jupyter-widgets/controls",
      "model_module_version": "1.5.0",
      "model_name": "ProgressStyleModel",
      "state": {
       "description_width": ""
      }
     },
     "af992bed5eee405591b999be763a0d8f": {
      "model_module": "@jupyter-widgets/base",
      "model_module_version": "1.2.0",
      "model_name": "LayoutModel",
      "state": {}
     },
     "b06d2f48900a400baa0d0383ba7714a0": {
      "model_module": "@jupyter-widgets/controls",
      "model_module_version": "1.5.0",
      "model_name": "DescriptionStyleModel",
      "state": {
       "description_width": ""
      }
     },
     "b07991eae6d04ed2b7c254edd3465d91": {
      "model_module": "@jupyter-widgets/controls",
      "model_module_version": "1.5.0",
      "model_name": "ProgressStyleModel",
      "state": {
       "description_width": ""
      }
     },
     "b0a9b39af98747869ecc35201c87ebf0": {
      "model_module": "@jupyter-widgets/controls",
      "model_module_version": "1.5.0",
      "model_name": "DescriptionStyleModel",
      "state": {
       "description_width": ""
      }
     },
     "b0acfb67ccb142a6a15ffa1f15ae3143": {
      "model_module": "@jupyter-widgets/controls",
      "model_module_version": "1.5.0",
      "model_name": "ProgressStyleModel",
      "state": {
       "description_width": ""
      }
     },
     "b0f45b7cc8da481b91356ee02ac23002": {
      "model_module": "@jupyter-widgets/controls",
      "model_module_version": "1.5.0",
      "model_name": "HTMLModel",
      "state": {
       "layout": "IPY_MODEL_3f34ed3afd464217ae888de2fcce7fbc",
       "style": "IPY_MODEL_cef097348338422db341b24a98d3ba47",
       "value": "100%"
      }
     },
     "b1827f0d14ea40d3945526dbb3ec263b": {
      "model_module": "@jupyter-widgets/controls",
      "model_module_version": "1.5.0",
      "model_name": "HTMLModel",
      "state": {
       "layout": "IPY_MODEL_b2ea4010dab44ecda494ad889a067351",
       "style": "IPY_MODEL_69a6aa56ebf046c6a60bc896b76488e0",
       "value": "  0%"
      }
     },
     "b1b33b5ee310441c8e6e5240e9219100": {
      "model_module": "@jupyter-widgets/controls",
      "model_module_version": "1.5.0",
      "model_name": "HBoxModel",
      "state": {
       "children": [
        "IPY_MODEL_10bb2bb52d1a4d57b5236498a64d4824",
        "IPY_MODEL_4def9744d4464f2e80ffceb19b106a5f",
        "IPY_MODEL_3a8918fa65f5482d9f3353f767a7b2a0"
       ],
       "layout": "IPY_MODEL_b91ffced1be942daaadaa487a9b7bd2b"
      }
     },
     "b219e95a41f54e61bfaeb3a73e9570ea": {
      "model_module": "@jupyter-widgets/controls",
      "model_module_version": "1.5.0",
      "model_name": "FloatProgressModel",
      "state": {
       "bar_style": "success",
       "layout": "IPY_MODEL_1b38d2ccb83947cf971688820c2c7aab",
       "max": 338,
       "style": "IPY_MODEL_9e4f50367fb64a3991a996c7616338b1",
       "value": 338
      }
     },
     "b2e32fc1fe3a4a1ebe2a339ee28f407b": {
      "model_module": "@jupyter-widgets/base",
      "model_module_version": "1.2.0",
      "model_name": "LayoutModel",
      "state": {}
     },
     "b2ea4010dab44ecda494ad889a067351": {
      "model_module": "@jupyter-widgets/base",
      "model_module_version": "1.2.0",
      "model_name": "LayoutModel",
      "state": {}
     },
     "b3bd5171ba9142cc89367d26ffc8d1f3": {
      "model_module": "@jupyter-widgets/base",
      "model_module_version": "1.2.0",
      "model_name": "LayoutModel",
      "state": {}
     },
     "b4bc14b67a0a4e1486de2b79d0d9b77f": {
      "model_module": "@jupyter-widgets/controls",
      "model_module_version": "1.5.0",
      "model_name": "HTMLModel",
      "state": {
       "layout": "IPY_MODEL_7ee677bdc24e44b3a4371c7f0662e1f9",
       "style": "IPY_MODEL_17bc2bc907fa463d8cea79b8e0e767a0",
       "value": "100%"
      }
     },
     "b4e6f0ba3103464db0df9ebd7e267ec2": {
      "model_module": "@jupyter-widgets/controls",
      "model_module_version": "1.5.0",
      "model_name": "HTMLModel",
      "state": {
       "layout": "IPY_MODEL_5f5c40ddc67d42f9a5c06f666758286f",
       "style": "IPY_MODEL_9f96d836ff70459689ca7227bc0d7666",
       "value": " 338/338 [00:00&lt;00:00, 4152.95it/s]"
      }
     },
     "b538b7a5e0c449f08fad11d8df27ac7e": {
      "model_module": "@jupyter-widgets/controls",
      "model_module_version": "1.5.0",
      "model_name": "DescriptionStyleModel",
      "state": {
       "description_width": ""
      }
     },
     "b53981d624b94932a3571be0a8f87b53": {
      "model_module": "@jupyter-widgets/base",
      "model_module_version": "1.2.0",
      "model_name": "LayoutModel",
      "state": {}
     },
     "b5a57487bf2d4afc9146f52a0a1f2c01": {
      "model_module": "@jupyter-widgets/controls",
      "model_module_version": "1.5.0",
      "model_name": "HBoxModel",
      "state": {
       "children": [
        "IPY_MODEL_88cb7ca696194c51a25ea387df911818",
        "IPY_MODEL_76d0c8c78b4449189395d96bdf40135a",
        "IPY_MODEL_48af2bdd956a4199ae19708e5df85362"
       ],
       "layout": "IPY_MODEL_cd9acf48c2d248ef82c09f2f4c1988d9"
      }
     },
     "b5af98518454489b8a5e00111293382d": {
      "model_module": "@jupyter-widgets/controls",
      "model_module_version": "1.5.0",
      "model_name": "DescriptionStyleModel",
      "state": {
       "description_width": ""
      }
     },
     "b5b5ac955fbf4de09da8eaf42c715516": {
      "model_module": "@jupyter-widgets/controls",
      "model_module_version": "1.5.0",
      "model_name": "HTMLModel",
      "state": {
       "layout": "IPY_MODEL_70f1fc99b3f64079ac2513bcb222203d",
       "style": "IPY_MODEL_c5eb0cc2ab3942149e93b69c0b9d57f5",
       "value": " 338/338 [00:00&lt;00:00, 8363.02it/s]"
      }
     },
     "b5c8664810e943d69abc1dcd4e46f827": {
      "model_module": "@jupyter-widgets/controls",
      "model_module_version": "1.5.0",
      "model_name": "HTMLModel",
      "state": {
       "layout": "IPY_MODEL_3a02c3577b3e48eaaddee07af271f1e2",
       "style": "IPY_MODEL_3f7af90d1f9a459d80344094466edb59",
       "value": " 338/338 [00:00&lt;00:00, 1656.36it/s]"
      }
     },
     "b604bb411f3e4837bc74063be5ab6c09": {
      "model_module": "@jupyter-widgets/base",
      "model_module_version": "1.2.0",
      "model_name": "LayoutModel",
      "state": {}
     },
     "b67719924c964e93bccb71eb40ef1da8": {
      "model_module": "@jupyter-widgets/controls",
      "model_module_version": "1.5.0",
      "model_name": "HTMLModel",
      "state": {
       "layout": "IPY_MODEL_d59137603f354b1d9123a4af0123c15e",
       "style": "IPY_MODEL_39e33a53c6cd4bb4912d22b5ad495312",
       "value": "100%"
      }
     },
     "b69490c058d743b0bb028ed9674af628": {
      "model_module": "@jupyter-widgets/controls",
      "model_module_version": "1.5.0",
      "model_name": "ProgressStyleModel",
      "state": {
       "description_width": ""
      }
     },
     "b6e87fd835b04d54a3219a8dc1081990": {
      "model_module": "@jupyter-widgets/base",
      "model_module_version": "1.2.0",
      "model_name": "LayoutModel",
      "state": {}
     },
     "b789c4c089b343fba360b8b978ddac3a": {
      "model_module": "@jupyter-widgets/base",
      "model_module_version": "1.2.0",
      "model_name": "LayoutModel",
      "state": {}
     },
     "b7be74bedb0244c4b95a53f02b3f19ef": {
      "model_module": "@jupyter-widgets/base",
      "model_module_version": "1.2.0",
      "model_name": "LayoutModel",
      "state": {}
     },
     "b8151ce7897a4c37927a8e1ad83bb165": {
      "model_module": "@jupyter-widgets/base",
      "model_module_version": "1.2.0",
      "model_name": "LayoutModel",
      "state": {}
     },
     "b827298ce2f74939bcf41c5398f134a9": {
      "model_module": "@jupyter-widgets/controls",
      "model_module_version": "1.5.0",
      "model_name": "HTMLModel",
      "state": {
       "layout": "IPY_MODEL_ce8dce56a9974d71b00b80826dacabe5",
       "style": "IPY_MODEL_30ebf41d25054e39aa01b7044cc99af5",
       "value": " 0/338 [00:00&lt;?, ?it/s]"
      }
     },
     "b8b0c35bc4af45458dd490bc213bf01f": {
      "model_module": "@jupyter-widgets/controls",
      "model_module_version": "1.5.0",
      "model_name": "HBoxModel",
      "state": {
       "children": [
        "IPY_MODEL_fd6e68ac01cc40fa8cc60496081b994e",
        "IPY_MODEL_598f6cad4a0a476d813fe213e2a9a03b",
        "IPY_MODEL_1a74b74ad3ee452296f0d59b24fcf54e"
       ],
       "layout": "IPY_MODEL_9c7006993f824ab982f189f43fd915d9"
      }
     },
     "b91ffced1be942daaadaa487a9b7bd2b": {
      "model_module": "@jupyter-widgets/base",
      "model_module_version": "1.2.0",
      "model_name": "LayoutModel",
      "state": {}
     },
     "b9226700ce554b34bfa610b128705322": {
      "model_module": "@jupyter-widgets/controls",
      "model_module_version": "1.5.0",
      "model_name": "ProgressStyleModel",
      "state": {
       "description_width": ""
      }
     },
     "b92c774e1ec44e8ba6cbf92553f636ae": {
      "model_module": "@jupyter-widgets/controls",
      "model_module_version": "1.5.0",
      "model_name": "HBoxModel",
      "state": {
       "children": [
        "IPY_MODEL_1c65532935614df491be1ca3ad530ad8",
        "IPY_MODEL_85538b70226a4ff1829db70ca50a2147",
        "IPY_MODEL_43ee6b8ac3b043aaa4db0c882021a270"
       ],
       "layout": "IPY_MODEL_9f12615550744060ac648d0db8a38e1c"
      }
     },
     "b9f2844c0ad4455a86948c8e0f145159": {
      "model_module": "@jupyter-widgets/controls",
      "model_module_version": "1.5.0",
      "model_name": "DescriptionStyleModel",
      "state": {
       "description_width": ""
      }
     },
     "bac808ec0e224546a66af0de2535e3b3": {
      "model_module": "@jupyter-widgets/controls",
      "model_module_version": "1.5.0",
      "model_name": "HTMLModel",
      "state": {
       "layout": "IPY_MODEL_8e140c46e5e040b3a32c7305b07d909a",
       "style": "IPY_MODEL_21b9755aca6b4e7e8bd3a57ad9bb4dae",
       "value": "100%"
      }
     },
     "bc4cb9a93bdb403a8c559e00f96f6566": {
      "model_module": "@jupyter-widgets/controls",
      "model_module_version": "1.5.0",
      "model_name": "HBoxModel",
      "state": {
       "children": [
        "IPY_MODEL_3a7b75dbf60d4f70b4967ee14df172fc",
        "IPY_MODEL_9ffdab2a15124950b0cd6440384fde1e",
        "IPY_MODEL_9e58128a2c714235a229d23a7563dfb0"
       ],
       "layout": "IPY_MODEL_fe0f151d933c491f959ab65bbbb84999"
      }
     },
     "bc7e7f86714f4896bdb0088b49dfa917": {
      "model_module": "@jupyter-widgets/base",
      "model_module_version": "1.2.0",
      "model_name": "LayoutModel",
      "state": {}
     },
     "bd12e89f9ac04bf09f6555b396e070db": {
      "model_module": "@jupyter-widgets/controls",
      "model_module_version": "1.5.0",
      "model_name": "FloatProgressModel",
      "state": {
       "bar_style": "success",
       "layout": "IPY_MODEL_7b66b7d048f14a24a931bf25178227a3",
       "max": 338,
       "style": "IPY_MODEL_13cb8aff490349349deac3c3889e0d5f",
       "value": 338
      }
     },
     "bdb22a67dd5f4adaa1a5cab833402142": {
      "model_module": "@jupyter-widgets/base",
      "model_module_version": "1.2.0",
      "model_name": "LayoutModel",
      "state": {}
     },
     "bf1d6327d14845d58698e345a304855f": {
      "model_module": "@jupyter-widgets/base",
      "model_module_version": "1.2.0",
      "model_name": "LayoutModel",
      "state": {}
     },
     "bf82a92f85db4f898096e1fe23b64d90": {
      "model_module": "@jupyter-widgets/controls",
      "model_module_version": "1.5.0",
      "model_name": "HTMLModel",
      "state": {
       "layout": "IPY_MODEL_114c831c7cf1451dbd11acbcc06a0dc0",
       "style": "IPY_MODEL_78d3796ece624930b737ff089a0f7f08",
       "value": " 338/338 [00:00&lt;00:00, 1515.14it/s]"
      }
     },
     "c0081cd9391f4d6f83881692e299aedc": {
      "model_module": "@jupyter-widgets/base",
      "model_module_version": "1.2.0",
      "model_name": "LayoutModel",
      "state": {}
     },
     "c0a244598ba146aa949fd72b9bf318f3": {
      "model_module": "@jupyter-widgets/base",
      "model_module_version": "1.2.0",
      "model_name": "LayoutModel",
      "state": {}
     },
     "c0beb0704434423bbef653818adac531": {
      "model_module": "@jupyter-widgets/controls",
      "model_module_version": "1.5.0",
      "model_name": "HBoxModel",
      "state": {
       "children": [
        "IPY_MODEL_6e0539a2d86c4ea0ae9661b8d654bc47",
        "IPY_MODEL_64fe26b2b0304e3a9c8f119baf873fad",
        "IPY_MODEL_696857a5d9f34de2af95f188dbf9c6dd"
       ],
       "layout": "IPY_MODEL_4c294fc99fe943ebb10a34ed8addc5ce"
      }
     },
     "c0cce4b81c654d15a28d867edf8bd3f6": {
      "model_module": "@jupyter-widgets/controls",
      "model_module_version": "1.5.0",
      "model_name": "DescriptionStyleModel",
      "state": {
       "description_width": ""
      }
     },
     "c0fa9a448abd4c6f9fb62f9afee2f8da": {
      "model_module": "@jupyter-widgets/controls",
      "model_module_version": "1.5.0",
      "model_name": "HTMLModel",
      "state": {
       "layout": "IPY_MODEL_a367bd8d48534d90bb1bea44fadbee29",
       "style": "IPY_MODEL_e3ce42934cfd4ddf879a4b76c05768df",
       "value": "100%"
      }
     },
     "c18fc3822a8e43fa8a6066548328bb78": {
      "model_module": "@jupyter-widgets/controls",
      "model_module_version": "1.5.0",
      "model_name": "HTMLModel",
      "state": {
       "layout": "IPY_MODEL_0be2cf48901447a3a31b27d174642b13",
       "style": "IPY_MODEL_5b2746b4354e41a69ccf04d8d0213ebc",
       "value": " 338/338 [00:00&lt;00:00, 1525.25it/s]"
      }
     },
     "c27aecb63f3948a9a7585212981ff3bb": {
      "model_module": "@jupyter-widgets/controls",
      "model_module_version": "1.5.0",
      "model_name": "FloatProgressModel",
      "state": {
       "bar_style": "danger",
       "layout": "IPY_MODEL_2172e7a24a024776a3be2f5c98f401de",
       "max": 6,
       "style": "IPY_MODEL_8757bcdda23449548e3bc161c4bad74f"
      }
     },
     "c2e70020360b4faa86a709d8eef07c2d": {
      "model_module": "@jupyter-widgets/controls",
      "model_module_version": "1.5.0",
      "model_name": "HTMLModel",
      "state": {
       "layout": "IPY_MODEL_657786077c3b420c92f5655d404c5394",
       "style": "IPY_MODEL_b06d2f48900a400baa0d0383ba7714a0"
      }
     },
     "c30ba6a54c0c4d0198e28c1a505d0891": {
      "model_module": "@jupyter-widgets/controls",
      "model_module_version": "1.5.0",
      "model_name": "HTMLModel",
      "state": {
       "layout": "IPY_MODEL_80bdceb3b13848f394f3e21bf98b2485",
       "style": "IPY_MODEL_6e1846f1ed8b4f79a418f99a0dd6d2c8",
       "value": " 338/338 [00:00&lt;00:00, 2050.23it/s]"
      }
     },
     "c402bb5f07a343288eece49585fd5679": {
      "model_module": "@jupyter-widgets/controls",
      "model_module_version": "1.5.0",
      "model_name": "HTMLModel",
      "state": {
       "layout": "IPY_MODEL_3c21fd4f6601409e88c44b444951bad7",
       "style": "IPY_MODEL_120d5feab39244ef9994fb1ff422283d"
      }
     },
     "c4197eac7d1d48299bf19ed3e84913db": {
      "model_module": "@jupyter-widgets/base",
      "model_module_version": "1.2.0",
      "model_name": "LayoutModel",
      "state": {}
     },
     "c41d77e133d9468f94358ae51b36c395": {
      "model_module": "@jupyter-widgets/controls",
      "model_module_version": "1.5.0",
      "model_name": "FloatProgressModel",
      "state": {
       "bar_style": "success",
       "layout": "IPY_MODEL_4467efc1dd9c4ed6ad834462771d5680",
       "max": 338,
       "style": "IPY_MODEL_de249a46877b4f75a7270c42ed568a65",
       "value": 338
      }
     },
     "c47f76b9a31a4cb4930c53e81ea58b7e": {
      "model_module": "@jupyter-widgets/controls",
      "model_module_version": "1.5.0",
      "model_name": "HBoxModel",
      "state": {
       "children": [
        "IPY_MODEL_fa44dd63078646d09c3464e8e64b6f8f",
        "IPY_MODEL_4fdefa8efa174ea987774a7231ec5551",
        "IPY_MODEL_29ed10d126154af6a8839b2b1f95fcc1"
       ],
       "layout": "IPY_MODEL_3d5ee966f5cb4647904918cb1132cc9f"
      }
     },
     "c50fb229fdd44fa18c269d09c6316b73": {
      "model_module": "@jupyter-widgets/base",
      "model_module_version": "1.2.0",
      "model_name": "LayoutModel",
      "state": {}
     },
     "c5d89b85960e4608be1f63f34fee7a4c": {
      "model_module": "@jupyter-widgets/controls",
      "model_module_version": "1.5.0",
      "model_name": "HTMLModel",
      "state": {
       "layout": "IPY_MODEL_fe8e588249ea47779d09693b050728e4",
       "style": "IPY_MODEL_4df32125426749ccbba204021f41dac1",
       "value": "  0%"
      }
     },
     "c5e6b429d7d94c6ca6c0b613e799f47b": {
      "model_module": "@jupyter-widgets/controls",
      "model_module_version": "1.5.0",
      "model_name": "HTMLModel",
      "state": {
       "layout": "IPY_MODEL_da30d8cea2644b689bce9aec05910108",
       "style": "IPY_MODEL_a2b17c422dd94d5e9a117e99b9232d3c",
       "value": " 338/338 [00:00&lt;00:00, 3663.40it/s]"
      }
     },
     "c5eb0cc2ab3942149e93b69c0b9d57f5": {
      "model_module": "@jupyter-widgets/controls",
      "model_module_version": "1.5.0",
      "model_name": "DescriptionStyleModel",
      "state": {
       "description_width": ""
      }
     },
     "c615b02fd8ac491383dd37fe96901f29": {
      "model_module": "@jupyter-widgets/base",
      "model_module_version": "1.2.0",
      "model_name": "LayoutModel",
      "state": {}
     },
     "c6669d9185fb47f793a26f73f65ee3ae": {
      "model_module": "@jupyter-widgets/base",
      "model_module_version": "1.2.0",
      "model_name": "LayoutModel",
      "state": {}
     },
     "c67a8c9bdbd142eea8570ad8ab6157b0": {
      "model_module": "@jupyter-widgets/base",
      "model_module_version": "1.2.0",
      "model_name": "LayoutModel",
      "state": {}
     },
     "c67f550c6d224748be03edbbd1c54e4a": {
      "model_module": "@jupyter-widgets/base",
      "model_module_version": "1.2.0",
      "model_name": "LayoutModel",
      "state": {}
     },
     "c69cbb8a0cf0479199c1d91b8fa53f83": {
      "model_module": "@jupyter-widgets/controls",
      "model_module_version": "1.5.0",
      "model_name": "HBoxModel",
      "state": {
       "children": [
        "IPY_MODEL_d42258bcf9234aca8bd7586515bad319",
        "IPY_MODEL_e48fcf7963b4483a96445b7479485aff",
        "IPY_MODEL_a3f91d2b182a4a8985a9f0fadec510ef"
       ],
       "layout": "IPY_MODEL_c931989b6cf84d53b3523bd41e3ad17f"
      }
     },
     "c6e1578b6d024b7ca3cb9e34f0b83436": {
      "model_module": "@jupyter-widgets/controls",
      "model_module_version": "1.5.0",
      "model_name": "HTMLModel",
      "state": {
       "layout": "IPY_MODEL_1c329f2cd3ff44709dda47a042d6a8e4",
       "style": "IPY_MODEL_2a7e99498d5145f59a8785ad861e1948",
       "value": " 338/338 [00:00&lt;00:00, 4283.08it/s]"
      }
     },
     "c7a6b191973d41c3b0b3a6f9168d685c": {
      "model_module": "@jupyter-widgets/base",
      "model_module_version": "1.2.0",
      "model_name": "LayoutModel",
      "state": {}
     },
     "c7d00ebd05ab4427829cb7ef8584f2e0": {
      "model_module": "@jupyter-widgets/base",
      "model_module_version": "1.2.0",
      "model_name": "LayoutModel",
      "state": {}
     },
     "c8291673f2864c469b4bdaa858f27872": {
      "model_module": "@jupyter-widgets/controls",
      "model_module_version": "1.5.0",
      "model_name": "FloatProgressModel",
      "state": {
       "bar_style": "success",
       "layout": "IPY_MODEL_4a7fd03e02d548099348e76c7da4a565",
       "max": 338,
       "style": "IPY_MODEL_50ec9fb569bf45948b0817175c9dcaf4",
       "value": 338
      }
     },
     "c89fb368d73142a18a5c55998f41c504": {
      "model_module": "@jupyter-widgets/controls",
      "model_module_version": "1.5.0",
      "model_name": "DescriptionStyleModel",
      "state": {
       "description_width": ""
      }
     },
     "c8c419ec6cc84c2289c19dc4e9fe22a1": {
      "model_module": "@jupyter-widgets/controls",
      "model_module_version": "1.5.0",
      "model_name": "HTMLModel",
      "state": {
       "layout": "IPY_MODEL_2933c46147074f43a27055e11372aa16",
       "style": "IPY_MODEL_390c57dde07d4571b59be5e955cfce60",
       "value": "  0%"
      }
     },
     "c931989b6cf84d53b3523bd41e3ad17f": {
      "model_module": "@jupyter-widgets/base",
      "model_module_version": "1.2.0",
      "model_name": "LayoutModel",
      "state": {}
     },
     "c9ac6f6695244f319c31e99082f24705": {
      "model_module": "@jupyter-widgets/controls",
      "model_module_version": "1.5.0",
      "model_name": "FloatProgressModel",
      "state": {
       "bar_style": "success",
       "layout": "IPY_MODEL_27f78f3fafad4169ab1acc82965ac337",
       "max": 338,
       "style": "IPY_MODEL_72b36f0fff42472990eacdd4c420ab4c",
       "value": 338
      }
     },
     "c9e21d99233442bc8772c29d5a49a92a": {
      "model_module": "@jupyter-widgets/base",
      "model_module_version": "1.2.0",
      "model_name": "LayoutModel",
      "state": {}
     },
     "ca63daa8f81340ed936b163dd7779a72": {
      "model_module": "@jupyter-widgets/base",
      "model_module_version": "1.2.0",
      "model_name": "LayoutModel",
      "state": {}
     },
     "ca971ba168834ed1967f86458a9a1f13": {
      "model_module": "@jupyter-widgets/base",
      "model_module_version": "1.2.0",
      "model_name": "LayoutModel",
      "state": {}
     },
     "cb4ddb252b684a01a4484097a375e41c": {
      "model_module": "@jupyter-widgets/controls",
      "model_module_version": "1.5.0",
      "model_name": "HBoxModel",
      "state": {
       "children": [
        "IPY_MODEL_c5d89b85960e4608be1f63f34fee7a4c",
        "IPY_MODEL_c27aecb63f3948a9a7585212981ff3bb",
        "IPY_MODEL_5878658fc2e24f02a3765cd92d80ec05"
       ],
       "layout": "IPY_MODEL_af992bed5eee405591b999be763a0d8f"
      }
     },
     "cbad54011b394d618853916e7d34faa4": {
      "model_module": "@jupyter-widgets/controls",
      "model_module_version": "1.5.0",
      "model_name": "ProgressStyleModel",
      "state": {
       "description_width": ""
      }
     },
     "cc60aec93a474b85b3f8b6ffe244652f": {
      "model_module": "@jupyter-widgets/controls",
      "model_module_version": "1.5.0",
      "model_name": "DescriptionStyleModel",
      "state": {
       "description_width": ""
      }
     },
     "cc922500165c40a79cdc15e4c35eecd3": {
      "model_module": "@jupyter-widgets/controls",
      "model_module_version": "1.5.0",
      "model_name": "HBoxModel",
      "state": {
       "children": [
        "IPY_MODEL_545ab3a153634a3ba138fe30b8e83733",
        "IPY_MODEL_65e60d4e729a4642ab3b9edb0e421d1a",
        "IPY_MODEL_c6e1578b6d024b7ca3cb9e34f0b83436"
       ],
       "layout": "IPY_MODEL_58cdd627e3dd41a6a2b58928b85eb51b"
      }
     },
     "cc9653ce2c90468ab8eafd77b515c844": {
      "model_module": "@jupyter-widgets/controls",
      "model_module_version": "1.5.0",
      "model_name": "HBoxModel",
      "state": {
       "children": [
        "IPY_MODEL_7eda49725a084535a408168085bd6f4b",
        "IPY_MODEL_2a5769d49435482ba9f0cf4374ed18d7",
        "IPY_MODEL_6fa9a3b783644991aae80db812a205bb"
       ],
       "layout": "IPY_MODEL_2726647523ea4df2b7bd26b488744867"
      }
     },
     "cca6505fc7974df892188a227295285e": {
      "model_module": "@jupyter-widgets/controls",
      "model_module_version": "1.5.0",
      "model_name": "DescriptionStyleModel",
      "state": {
       "description_width": ""
      }
     },
     "ccb036f2ddc449d080d839401c899589": {
      "model_module": "@jupyter-widgets/controls",
      "model_module_version": "1.5.0",
      "model_name": "DescriptionStyleModel",
      "state": {
       "description_width": ""
      }
     },
     "ccd32db2229a4ec2a4222abcf56ae49c": {
      "model_module": "@jupyter-widgets/controls",
      "model_module_version": "1.5.0",
      "model_name": "HTMLModel",
      "state": {
       "layout": "IPY_MODEL_f194b7b48944452f9f97a1338da53b8a",
       "style": "IPY_MODEL_ad7e1d554f924f0ba7c5522d2c013526",
       "value": " 338/338 [00:00&lt;00:00, 1349.04it/s]"
      }
     },
     "cd09a8a3bc394930892226a8fd1ca921": {
      "model_module": "@jupyter-widgets/base",
      "model_module_version": "1.2.0",
      "model_name": "LayoutModel",
      "state": {}
     },
     "cd1dd4c497f248138b96ca990b17eaf6": {
      "model_module": "@jupyter-widgets/base",
      "model_module_version": "1.2.0",
      "model_name": "LayoutModel",
      "state": {}
     },
     "cd8d0e6c4e834d03ac2d66a225301684": {
      "model_module": "@jupyter-widgets/controls",
      "model_module_version": "1.5.0",
      "model_name": "DescriptionStyleModel",
      "state": {
       "description_width": ""
      }
     },
     "cd8d854a61a646fd90a39dc3bc068de6": {
      "model_module": "@jupyter-widgets/base",
      "model_module_version": "1.2.0",
      "model_name": "LayoutModel",
      "state": {}
     },
     "cd9acf48c2d248ef82c09f2f4c1988d9": {
      "model_module": "@jupyter-widgets/base",
      "model_module_version": "1.2.0",
      "model_name": "LayoutModel",
      "state": {}
     },
     "cde30d342e72477aabbf705c256f3842": {
      "model_module": "@jupyter-widgets/controls",
      "model_module_version": "1.5.0",
      "model_name": "FloatProgressModel",
      "state": {
       "bar_style": "success",
       "layout": "IPY_MODEL_f6476040f15f4d389527a1ceacf7ff13",
       "max": 338,
       "style": "IPY_MODEL_8ea3713b92ee410a81cc41292b4663b6",
       "value": 338
      }
     },
     "ce807ba448974c2bba0e8c5e0aca656f": {
      "model_module": "@jupyter-widgets/controls",
      "model_module_version": "1.5.0",
      "model_name": "FloatProgressModel",
      "state": {
       "bar_style": "success",
       "layout": "IPY_MODEL_32294d749dcd46c1999f3f98643d512e",
       "max": 338,
       "style": "IPY_MODEL_aaa52605475443f59f902bbd015a48d2",
       "value": 338
      }
     },
     "ce8dce56a9974d71b00b80826dacabe5": {
      "model_module": "@jupyter-widgets/base",
      "model_module_version": "1.2.0",
      "model_name": "LayoutModel",
      "state": {}
     },
     "cef097348338422db341b24a98d3ba47": {
      "model_module": "@jupyter-widgets/controls",
      "model_module_version": "1.5.0",
      "model_name": "DescriptionStyleModel",
      "state": {
       "description_width": ""
      }
     },
     "cf1aa0760a904efca136fc33352be3a7": {
      "model_module": "@jupyter-widgets/controls",
      "model_module_version": "1.5.0",
      "model_name": "DescriptionStyleModel",
      "state": {
       "description_width": ""
      }
     },
     "cf7a84ac5c32469d923d76f189e0469d": {
      "model_module": "@jupyter-widgets/controls",
      "model_module_version": "1.5.0",
      "model_name": "HTMLModel",
      "state": {
       "layout": "IPY_MODEL_8d7d4d8b2793484a9989613c84d0f64f",
       "style": "IPY_MODEL_f2c9efaf1a6c4bcaa9dd6df2efd09634",
       "value": "100%"
      }
     },
     "cfbc28f6fb1848f4b1d8c86c53aebb64": {
      "model_module": "@jupyter-widgets/base",
      "model_module_version": "1.2.0",
      "model_name": "LayoutModel",
      "state": {}
     },
     "cfe8b9e57cbb40ffabf808bbb2049e97": {
      "model_module": "@jupyter-widgets/controls",
      "model_module_version": "1.5.0",
      "model_name": "DescriptionStyleModel",
      "state": {
       "description_width": ""
      }
     },
     "cfea9d43ba704b40b54d110a3941bbd4": {
      "model_module": "@jupyter-widgets/controls",
      "model_module_version": "1.5.0",
      "model_name": "HBoxModel",
      "state": {
       "children": [
        "IPY_MODEL_2752fbc78a8243318f7c6cb025e93a80",
        "IPY_MODEL_2bfa28a3417741589e0a3327912e972b",
        "IPY_MODEL_fc393d8468ee49d998913bfba300d68c"
       ],
       "layout": "IPY_MODEL_927050e5f5214cb8aa5b69a757fe2b85"
      }
     },
     "d03391f5d5b348109e847cc697243141": {
      "model_module": "@jupyter-widgets/base",
      "model_module_version": "1.2.0",
      "model_name": "LayoutModel",
      "state": {}
     },
     "d06a23ad4dc24784899bcb1d96c4a3f3": {
      "model_module": "@jupyter-widgets/base",
      "model_module_version": "1.2.0",
      "model_name": "LayoutModel",
      "state": {}
     },
     "d0bde776044f4755933d739c5a3009ad": {
      "model_module": "@jupyter-widgets/controls",
      "model_module_version": "1.5.0",
      "model_name": "HBoxModel",
      "state": {
       "children": [
        "IPY_MODEL_4e9d1b22e21445dfa98fd896df99fffd",
        "IPY_MODEL_216fddf5e16b4b5299e25efb809a1e33",
        "IPY_MODEL_a851e1a3f7a94556ba09ba0e7a7c511b"
       ],
       "layout": "IPY_MODEL_a166210348cb460295a97b2ca7a05e4b"
      }
     },
     "d12e07b8f0934386b7138a5843e35120": {
      "model_module": "@jupyter-widgets/controls",
      "model_module_version": "1.5.0",
      "model_name": "HTMLModel",
      "state": {
       "layout": "IPY_MODEL_b53981d624b94932a3571be0a8f87b53",
       "style": "IPY_MODEL_0fa552f95c1542dc86f076cd3f315ba5",
       "value": "100%"
      }
     },
     "d16649963ae141cb87f337c59769d63a": {
      "model_module": "@jupyter-widgets/controls",
      "model_module_version": "1.5.0",
      "model_name": "ProgressStyleModel",
      "state": {
       "description_width": ""
      }
     },
     "d180713bb6754883adffc098b3d6a35a": {
      "model_module": "@jupyter-widgets/base",
      "model_module_version": "1.2.0",
      "model_name": "LayoutModel",
      "state": {}
     },
     "d21dd34f48d3479cbe370f07bcf53ee2": {
      "model_module": "@jupyter-widgets/base",
      "model_module_version": "1.2.0",
      "model_name": "LayoutModel",
      "state": {}
     },
     "d26efdd539ef4ee095089f00782740c4": {
      "model_module": "@jupyter-widgets/controls",
      "model_module_version": "1.5.0",
      "model_name": "HTMLModel",
      "state": {
       "layout": "IPY_MODEL_6bd87e5bb5844663ae7e0e3f96fa1109",
       "style": "IPY_MODEL_a48a69944ccb421e9b21c48ebf29d99a",
       "value": " 338/338 [00:00&lt;00:00, 1745.46it/s]"
      }
     },
     "d2983709fec54a33a9ad9a39558ff343": {
      "model_module": "@jupyter-widgets/controls",
      "model_module_version": "1.5.0",
      "model_name": "DescriptionStyleModel",
      "state": {
       "description_width": ""
      }
     },
     "d2d7310e0f38483aa5840f97aa5ee4cb": {
      "model_module": "@jupyter-widgets/base",
      "model_module_version": "1.2.0",
      "model_name": "LayoutModel",
      "state": {}
     },
     "d2dbff2af9a24c668c7b3c5ae595fcb5": {
      "model_module": "@jupyter-widgets/controls",
      "model_module_version": "1.5.0",
      "model_name": "DescriptionStyleModel",
      "state": {
       "description_width": ""
      }
     },
     "d3416a518e0d4ad58242e75078930404": {
      "model_module": "@jupyter-widgets/base",
      "model_module_version": "1.2.0",
      "model_name": "LayoutModel",
      "state": {}
     },
     "d3c0f001232f4ba3ae3f025b9d5d9e45": {
      "model_module": "@jupyter-widgets/controls",
      "model_module_version": "1.5.0",
      "model_name": "HTMLModel",
      "state": {
       "layout": "IPY_MODEL_bdb22a67dd5f4adaa1a5cab833402142",
       "style": "IPY_MODEL_cca6505fc7974df892188a227295285e",
       "value": "100%"
      }
     },
     "d42258bcf9234aca8bd7586515bad319": {
      "model_module": "@jupyter-widgets/controls",
      "model_module_version": "1.5.0",
      "model_name": "HTMLModel",
      "state": {
       "layout": "IPY_MODEL_1e7294cb8b6441eb8714763165e176bf",
       "style": "IPY_MODEL_1fe2782e52d8476da483c8c274bbe74f",
       "value": "100%"
      }
     },
     "d4f80960fbe24dac89eb3a2a534bc0b2": {
      "model_module": "@jupyter-widgets/controls",
      "model_module_version": "1.5.0",
      "model_name": "HTMLModel",
      "state": {
       "layout": "IPY_MODEL_4442ae3f5c37467482adfbaa0b298124",
       "style": "IPY_MODEL_7b48c4ce36b845f88c4f98324179d182",
       "value": " 338/338 [00:00&lt;00:00, 1699.63it/s]"
      }
     },
     "d4fafcf9e4e5433897e7d0c9d19b92e2": {
      "model_module": "@jupyter-widgets/base",
      "model_module_version": "1.2.0",
      "model_name": "LayoutModel",
      "state": {}
     },
     "d52dd834e43a41b69cfd39ce6ecdbcaf": {
      "model_module": "@jupyter-widgets/controls",
      "model_module_version": "1.5.0",
      "model_name": "HBoxModel",
      "state": {
       "children": [
        "IPY_MODEL_a967b207ab8c420a81a8f03ea9f69087",
        "IPY_MODEL_6f3db1fc78fc4198b0424476581365e1",
        "IPY_MODEL_1fc039d944f54aa682a783b3c7f9eeb0"
       ],
       "layout": "IPY_MODEL_06854116467f400cb25b35117dc5378f"
      }
     },
     "d561e66142d542fa8a7a3b24047918d2": {
      "model_module": "@jupyter-widgets/controls",
      "model_module_version": "1.5.0",
      "model_name": "ProgressStyleModel",
      "state": {
       "description_width": ""
      }
     },
     "d59137603f354b1d9123a4af0123c15e": {
      "model_module": "@jupyter-widgets/base",
      "model_module_version": "1.2.0",
      "model_name": "LayoutModel",
      "state": {}
     },
     "d5c0528bb9884e01ba05c47c3cadecb1": {
      "model_module": "@jupyter-widgets/controls",
      "model_module_version": "1.5.0",
      "model_name": "DescriptionStyleModel",
      "state": {
       "description_width": ""
      }
     },
     "d6b7211c03564fb5a1c1700bf7fb423a": {
      "model_module": "@jupyter-widgets/controls",
      "model_module_version": "1.5.0",
      "model_name": "FloatProgressModel",
      "state": {
       "bar_style": "danger",
       "layout": "IPY_MODEL_d7dfa55553ef405b985448756f9ed5eb",
       "max": 67652,
       "style": "IPY_MODEL_069496d77be14179951974b4c9b1a0bf",
       "value": 5
      }
     },
     "d6ed365f425f4c66bae2dec7b7c60b01": {
      "model_module": "@jupyter-widgets/controls",
      "model_module_version": "1.5.0",
      "model_name": "ProgressStyleModel",
      "state": {
       "description_width": ""
      }
     },
     "d741012b3c38450f873cbc28272ff2c3": {
      "model_module": "@jupyter-widgets/base",
      "model_module_version": "1.2.0",
      "model_name": "LayoutModel",
      "state": {}
     },
     "d7dfa55553ef405b985448756f9ed5eb": {
      "model_module": "@jupyter-widgets/base",
      "model_module_version": "1.2.0",
      "model_name": "LayoutModel",
      "state": {}
     },
     "d7ebfe895cf7483fad3089ee45439eb8": {
      "model_module": "@jupyter-widgets/controls",
      "model_module_version": "1.5.0",
      "model_name": "ProgressStyleModel",
      "state": {
       "description_width": ""
      }
     },
     "d7ec961d4b644c6b8f26e98147b01f3e": {
      "model_module": "@jupyter-widgets/controls",
      "model_module_version": "1.5.0",
      "model_name": "ProgressStyleModel",
      "state": {
       "description_width": ""
      }
     },
     "d88a59332be64709a2569995f9dd1e6f": {
      "model_module": "@jupyter-widgets/controls",
      "model_module_version": "1.5.0",
      "model_name": "DescriptionStyleModel",
      "state": {
       "description_width": ""
      }
     },
     "d8edd5b8be614053a0f6ddfd50959159": {
      "model_module": "@jupyter-widgets/controls",
      "model_module_version": "1.5.0",
      "model_name": "ProgressStyleModel",
      "state": {
       "description_width": ""
      }
     },
     "d950827d28964e969a7f94d658d9bdde": {
      "model_module": "@jupyter-widgets/controls",
      "model_module_version": "1.5.0",
      "model_name": "DescriptionStyleModel",
      "state": {
       "description_width": ""
      }
     },
     "d9d936c2d2b94e359e1bfe57b0dc7372": {
      "model_module": "@jupyter-widgets/controls",
      "model_module_version": "1.5.0",
      "model_name": "ProgressStyleModel",
      "state": {
       "description_width": ""
      }
     },
     "da0a414fad254cc693b49c940af8d93b": {
      "model_module": "@jupyter-widgets/base",
      "model_module_version": "1.2.0",
      "model_name": "LayoutModel",
      "state": {}
     },
     "da30d8cea2644b689bce9aec05910108": {
      "model_module": "@jupyter-widgets/base",
      "model_module_version": "1.2.0",
      "model_name": "LayoutModel",
      "state": {}
     },
     "da8c021c8d234888935f7a25231cc548": {
      "model_module": "@jupyter-widgets/base",
      "model_module_version": "1.2.0",
      "model_name": "LayoutModel",
      "state": {}
     },
     "daf35fd31ea949a9b46fd0ec26f6917e": {
      "model_module": "@jupyter-widgets/controls",
      "model_module_version": "1.5.0",
      "model_name": "ProgressStyleModel",
      "state": {
       "description_width": ""
      }
     },
     "db21da3d69354ff38c368260c0d40aa4": {
      "model_module": "@jupyter-widgets/controls",
      "model_module_version": "1.5.0",
      "model_name": "DescriptionStyleModel",
      "state": {
       "description_width": ""
      }
     },
     "db272e1587c74df79680d3ded758cbe6": {
      "model_module": "@jupyter-widgets/controls",
      "model_module_version": "1.5.0",
      "model_name": "DescriptionStyleModel",
      "state": {
       "description_width": ""
      }
     },
     "db83c2302e2e4488b3669dce09a76f29": {
      "model_module": "@jupyter-widgets/controls",
      "model_module_version": "1.5.0",
      "model_name": "HTMLModel",
      "state": {
       "layout": "IPY_MODEL_9132d265c598479dbd38a31b2c77b9ab",
       "style": "IPY_MODEL_458a9f5f8d424b039e2d31e46a9533e6",
       "value": " 338/338 [00:00&lt;00:00, 2125.52it/s]"
      }
     },
     "dc065c96c49647fa8f1194341ccd6f8c": {
      "model_module": "@jupyter-widgets/controls",
      "model_module_version": "1.5.0",
      "model_name": "HBoxModel",
      "state": {
       "children": [
        "IPY_MODEL_15ca028c036e471a91e97c314ae1c54a",
        "IPY_MODEL_3366ed45508c4df0bdc6cf1b741b3943",
        "IPY_MODEL_397f18b687f343c0bedd0484f91bfa32"
       ],
       "layout": "IPY_MODEL_555b38e041c9489da0d670d318a93e12"
      }
     },
     "dc2517da5eb440faa7210d5c3bd42a67": {
      "model_module": "@jupyter-widgets/base",
      "model_module_version": "1.2.0",
      "model_name": "LayoutModel",
      "state": {}
     },
     "dca77795ff5140d1860e1e6c4eaf6186": {
      "model_module": "@jupyter-widgets/base",
      "model_module_version": "1.2.0",
      "model_name": "LayoutModel",
      "state": {}
     },
     "dcd2ff4f14dd4c89ae437bd479d0a51e": {
      "model_module": "@jupyter-widgets/controls",
      "model_module_version": "1.5.0",
      "model_name": "DescriptionStyleModel",
      "state": {
       "description_width": ""
      }
     },
     "dceec9a8f9834bfaa887433733317636": {
      "model_module": "@jupyter-widgets/controls",
      "model_module_version": "1.5.0",
      "model_name": "HBoxModel",
      "state": {
       "children": [
        "IPY_MODEL_27ece1f386fb4282ab026755cc8df2ad",
        "IPY_MODEL_32f5de99671a42f0b471021aa8b6cb49",
        "IPY_MODEL_7eaec92f05cd49d1bce284a80e5454fc"
       ],
       "layout": "IPY_MODEL_793018d0a9014b70ac92c6853e8abd3d"
      }
     },
     "dd08d7b097bc48a7bcbbe806bf46ccba": {
      "model_module": "@jupyter-widgets/controls",
      "model_module_version": "1.5.0",
      "model_name": "FloatProgressModel",
      "state": {
       "bar_style": "success",
       "layout": "IPY_MODEL_4005f459341549e9a9ac6862b7a9aba0",
       "max": 338,
       "style": "IPY_MODEL_91fe68eeeb34441f85e56c3a2e8f0b65",
       "value": 338
      }
     },
     "dd3b903196ba444492f8bb902d4fd9af": {
      "model_module": "@jupyter-widgets/controls",
      "model_module_version": "1.5.0",
      "model_name": "HTMLModel",
      "state": {
       "layout": "IPY_MODEL_4e194c295af14d81bb031f8944c15bac",
       "style": "IPY_MODEL_31613f38f2454a41a91847b5f2cde2c4",
       "value": " 338/338 [00:00&lt;00:00, 1376.74it/s]"
      }
     },
     "dd8d3001afba42fb8caf90b2d89797ef": {
      "model_module": "@jupyter-widgets/controls",
      "model_module_version": "1.5.0",
      "model_name": "HTMLModel",
      "state": {
       "layout": "IPY_MODEL_bc7e7f86714f4896bdb0088b49dfa917",
       "style": "IPY_MODEL_1eb2b15f1dea4af288ccd53fecafaa7d",
       "value": "  0%"
      }
     },
     "dddb232c4a1e4f5eb17bf49db7f779d6": {
      "model_module": "@jupyter-widgets/controls",
      "model_module_version": "1.5.0",
      "model_name": "HTMLModel",
      "state": {
       "layout": "IPY_MODEL_125f96b194874e6bbedc1b167cb79289",
       "style": "IPY_MODEL_79f7cf98b7da464ea6fe6033c5cf8386",
       "value": " 338/338 [00:00&lt;00:00, 2919.04it/s]"
      }
     },
     "dde6288d69db4e36993907260ba774e3": {
      "model_module": "@jupyter-widgets/controls",
      "model_module_version": "1.5.0",
      "model_name": "ProgressStyleModel",
      "state": {
       "description_width": ""
      }
     },
     "de249a46877b4f75a7270c42ed568a65": {
      "model_module": "@jupyter-widgets/controls",
      "model_module_version": "1.5.0",
      "model_name": "ProgressStyleModel",
      "state": {
       "description_width": ""
      }
     },
     "de355e53c2c24a39923cac63a2f30301": {
      "model_module": "@jupyter-widgets/controls",
      "model_module_version": "1.5.0",
      "model_name": "FloatProgressModel",
      "state": {
       "bar_style": "danger",
       "layout": "IPY_MODEL_45e9e8b998a24f179ea73a83c4565d95",
       "max": 123,
       "style": "IPY_MODEL_e91cbc3a1f9246c39e61c701572933de"
      }
     },
     "de6a47a38a9a42b9bccc3e0c32f00be3": {
      "model_module": "@jupyter-widgets/controls",
      "model_module_version": "1.5.0",
      "model_name": "ProgressStyleModel",
      "state": {
       "description_width": ""
      }
     },
     "def0d114ba0042a6a353b2cbd8493be9": {
      "model_module": "@jupyter-widgets/controls",
      "model_module_version": "1.5.0",
      "model_name": "ProgressStyleModel",
      "state": {
       "description_width": ""
      }
     },
     "df4bece55a134b029d07f849823411cc": {
      "model_module": "@jupyter-widgets/base",
      "model_module_version": "1.2.0",
      "model_name": "LayoutModel",
      "state": {}
     },
     "dfa7ebf8a7c54adfb9a5b1735a4cc061": {
      "model_module": "@jupyter-widgets/controls",
      "model_module_version": "1.5.0",
      "model_name": "HTMLModel",
      "state": {
       "layout": "IPY_MODEL_f4c5ba0a451d4e7abccdc1631440decf",
       "style": "IPY_MODEL_56d0a254d62442d39e298dd32ceb2d1c",
       "value": "100%"
      }
     },
     "e127a4395d6848fdaf35635d8ac79277": {
      "model_module": "@jupyter-widgets/controls",
      "model_module_version": "1.5.0",
      "model_name": "HTMLModel",
      "state": {
       "layout": "IPY_MODEL_6195583a01f0451f8971e023a1cb14ff",
       "style": "IPY_MODEL_d2983709fec54a33a9ad9a39558ff343",
       "value": " 0/6 [00:00&lt;?, ?it/s]"
      }
     },
     "e172d1d36f254a0d9f646a22e4bb6067": {
      "model_module": "@jupyter-widgets/controls",
      "model_module_version": "1.5.0",
      "model_name": "HTMLModel",
      "state": {
       "layout": "IPY_MODEL_4acfbcfe29854997835a895182030a11",
       "style": "IPY_MODEL_85f0dd9dc8c043fbbbd97a7b0a4807e9",
       "value": "100%"
      }
     },
     "e19a5af6af36431a81774a6ff145eb52": {
      "model_module": "@jupyter-widgets/controls",
      "model_module_version": "1.5.0",
      "model_name": "HBoxModel",
      "state": {
       "children": [
        "IPY_MODEL_ab2b9f262ff1458fb27ed2b07d4d9f3a",
        "IPY_MODEL_a1c111fde7334193a7f0c532e5d5aea9",
        "IPY_MODEL_36286814270c46d2a8b836912cf399fe"
       ],
       "layout": "IPY_MODEL_b604bb411f3e4837bc74063be5ab6c09"
      }
     },
     "e20130c8fcc64424b215681ab6978dc0": {
      "model_module": "@jupyter-widgets/controls",
      "model_module_version": "1.5.0",
      "model_name": "HTMLModel",
      "state": {
       "layout": "IPY_MODEL_58f196ca2c6944bf8e43eb7d3470f0ca",
       "style": "IPY_MODEL_dcd2ff4f14dd4c89ae437bd479d0a51e",
       "value": "100%"
      }
     },
     "e28997821b99453b899fbf3bb659cc4a": {
      "model_module": "@jupyter-widgets/controls",
      "model_module_version": "1.5.0",
      "model_name": "DescriptionStyleModel",
      "state": {
       "description_width": ""
      }
     },
     "e294700771af4951a45978da61ff756e": {
      "model_module": "@jupyter-widgets/base",
      "model_module_version": "1.2.0",
      "model_name": "LayoutModel",
      "state": {}
     },
     "e2c063741ee043258f42e0a903b883a7": {
      "model_module": "@jupyter-widgets/controls",
      "model_module_version": "1.5.0",
      "model_name": "HTMLModel",
      "state": {
       "layout": "IPY_MODEL_7dec427b4cc84719acc58073ab573d57",
       "style": "IPY_MODEL_79dc1add94b84d1f9150b0d6f38afe74",
       "value": "  0%"
      }
     },
     "e3ce42934cfd4ddf879a4b76c05768df": {
      "model_module": "@jupyter-widgets/controls",
      "model_module_version": "1.5.0",
      "model_name": "DescriptionStyleModel",
      "state": {
       "description_width": ""
      }
     },
     "e45769d0b0d84d86bda576ccb5a8430d": {
      "model_module": "@jupyter-widgets/base",
      "model_module_version": "1.2.0",
      "model_name": "LayoutModel",
      "state": {}
     },
     "e47d7a05c88a4a67b8d4e13620670bb5": {
      "model_module": "@jupyter-widgets/base",
      "model_module_version": "1.2.0",
      "model_name": "LayoutModel",
      "state": {}
     },
     "e48fcf7963b4483a96445b7479485aff": {
      "model_module": "@jupyter-widgets/controls",
      "model_module_version": "1.5.0",
      "model_name": "FloatProgressModel",
      "state": {
       "bar_style": "success",
       "layout": "IPY_MODEL_a358cc5601b3414990b3f18a6a0fa1db",
       "max": 338,
       "style": "IPY_MODEL_78f22a3df7dc4bef9ad60dad34e2dac2",
       "value": 338
      }
     },
     "e4a1f4f4a6d447c7871a852092aab0f5": {
      "model_module": "@jupyter-widgets/controls",
      "model_module_version": "1.5.0",
      "model_name": "HTMLModel",
      "state": {
       "layout": "IPY_MODEL_a68cfda7c0664a2f841ea8b258a96777",
       "style": "IPY_MODEL_e7c09355ab324d1b9c270cc14f401b8a",
       "value": " 66%"
      }
     },
     "e4bab5d5f3a148ac8a4737d7ae117c2e": {
      "model_module": "@jupyter-widgets/base",
      "model_module_version": "1.2.0",
      "model_name": "LayoutModel",
      "state": {}
     },
     "e4f512a02cc64a71bb3c74f410d1ac08": {
      "model_module": "@jupyter-widgets/controls",
      "model_module_version": "1.5.0",
      "model_name": "HBoxModel",
      "state": {
       "children": [
        "IPY_MODEL_e172d1d36f254a0d9f646a22e4bb6067",
        "IPY_MODEL_64521f05d8b545d4b1431f70659305ac",
        "IPY_MODEL_bf82a92f85db4f898096e1fe23b64d90"
       ],
       "layout": "IPY_MODEL_ef334c45323e4a9a87d472a246df2890"
      }
     },
     "e4f92e44e23145e2b3682e0c90596d8f": {
      "model_module": "@jupyter-widgets/controls",
      "model_module_version": "1.5.0",
      "model_name": "FloatProgressModel",
      "state": {
       "bar_style": "danger",
       "layout": "IPY_MODEL_c7a6b191973d41c3b0b3a6f9168d685c",
       "max": 338,
       "style": "IPY_MODEL_6d8898f5b8f14d7abe65de5969b17af8"
      }
     },
     "e548b16f6cee4fffb0fede27315202d0": {
      "model_module": "@jupyter-widgets/base",
      "model_module_version": "1.2.0",
      "model_name": "LayoutModel",
      "state": {}
     },
     "e55c06c6affc4a27acb76c4f514ccd44": {
      "model_module": "@jupyter-widgets/base",
      "model_module_version": "1.2.0",
      "model_name": "LayoutModel",
      "state": {}
     },
     "e575ef1f4e4e401e8a6f568edaa8175f": {
      "model_module": "@jupyter-widgets/base",
      "model_module_version": "1.2.0",
      "model_name": "LayoutModel",
      "state": {}
     },
     "e5d6b364521d41338d1ce648ff870893": {
      "model_module": "@jupyter-widgets/base",
      "model_module_version": "1.2.0",
      "model_name": "LayoutModel",
      "state": {}
     },
     "e5e631a0c0574a85919f31b1e39e3ea9": {
      "model_module": "@jupyter-widgets/controls",
      "model_module_version": "1.5.0",
      "model_name": "HTMLModel",
      "state": {
       "layout": "IPY_MODEL_177a66bc75234e478606d24bc9f1d647",
       "style": "IPY_MODEL_a20b68f239684f419b9a16ed3a4b7cc2",
       "value": "100%"
      }
     },
     "e615a808a03048cb97a7f1591c1af95f": {
      "model_module": "@jupyter-widgets/controls",
      "model_module_version": "1.5.0",
      "model_name": "HBoxModel",
      "state": {
       "children": [
        "IPY_MODEL_937092e39f4f44e7a7f0fa95e67e5c87",
        "IPY_MODEL_1f8ae01516fb4ec097a3bd8c7481786b",
        "IPY_MODEL_f03dcd0030ae4e898551ce42eeda7595"
       ],
       "layout": "IPY_MODEL_e45769d0b0d84d86bda576ccb5a8430d"
      }
     },
     "e74a2beb8cd549478d3f9923b750df08": {
      "model_module": "@jupyter-widgets/base",
      "model_module_version": "1.2.0",
      "model_name": "LayoutModel",
      "state": {}
     },
     "e7c09355ab324d1b9c270cc14f401b8a": {
      "model_module": "@jupyter-widgets/controls",
      "model_module_version": "1.5.0",
      "model_name": "DescriptionStyleModel",
      "state": {
       "description_width": ""
      }
     },
     "e8f9bed0dd9345839ed2204f9d39e1f8": {
      "model_module": "@jupyter-widgets/base",
      "model_module_version": "1.2.0",
      "model_name": "LayoutModel",
      "state": {}
     },
     "e91cbc3a1f9246c39e61c701572933de": {
      "model_module": "@jupyter-widgets/controls",
      "model_module_version": "1.5.0",
      "model_name": "ProgressStyleModel",
      "state": {
       "description_width": ""
      }
     },
     "e94d168dabc64ca2a888b2264086c10e": {
      "model_module": "@jupyter-widgets/controls",
      "model_module_version": "1.5.0",
      "model_name": "FloatProgressModel",
      "state": {
       "bar_style": "danger",
       "layout": "IPY_MODEL_f13aa08d53084a0f9810c544d98769c8",
       "max": 338,
       "style": "IPY_MODEL_85459d24b7bd49e789f61fc58218dce3"
      }
     },
     "e9720559a74045628f9cc2d27072886e": {
      "model_module": "@jupyter-widgets/base",
      "model_module_version": "1.2.0",
      "model_name": "LayoutModel",
      "state": {}
     },
     "e9fb2db4547e45a394552024035e75cf": {
      "model_module": "@jupyter-widgets/base",
      "model_module_version": "1.2.0",
      "model_name": "LayoutModel",
      "state": {}
     },
     "ea5e6ff453bb4aeba647acddda7408c2": {
      "model_module": "@jupyter-widgets/base",
      "model_module_version": "1.2.0",
      "model_name": "LayoutModel",
      "state": {}
     },
     "eb06b08a0bf443589f14101d9cd32953": {
      "model_module": "@jupyter-widgets/controls",
      "model_module_version": "1.5.0",
      "model_name": "ProgressStyleModel",
      "state": {
       "description_width": ""
      }
     },
     "eb36f2da8dac44189cc87bbef06a3b67": {
      "model_module": "@jupyter-widgets/controls",
      "model_module_version": "1.5.0",
      "model_name": "ProgressStyleModel",
      "state": {
       "description_width": ""
      }
     },
     "ebb714a189ac41a686ccefe5b7dbbd76": {
      "model_module": "@jupyter-widgets/controls",
      "model_module_version": "1.5.0",
      "model_name": "HBoxModel",
      "state": {
       "children": [
        "IPY_MODEL_525f5ada1cad44489e22f49a8b810802",
        "IPY_MODEL_3f48d709c7a44d9f960d0cc44a283810",
        "IPY_MODEL_b4e6f0ba3103464db0df9ebd7e267ec2"
       ],
       "layout": "IPY_MODEL_25fdccb9c4534b56b6efbd605336e709"
      }
     },
     "ec8f2d535c3d4910b5048762594d09eb": {
      "model_module": "@jupyter-widgets/controls",
      "model_module_version": "1.5.0",
      "model_name": "HTMLModel",
      "state": {
       "layout": "IPY_MODEL_a1564e2f8b904f36a4d610cc5bd15c01",
       "style": "IPY_MODEL_cfe8b9e57cbb40ffabf808bbb2049e97",
       "value": "100%"
      }
     },
     "ecf2b44220e546499894de54ec8730b5": {
      "model_module": "@jupyter-widgets/base",
      "model_module_version": "1.2.0",
      "model_name": "LayoutModel",
      "state": {}
     },
     "ed52257796ca4f189847af02821f32ee": {
      "model_module": "@jupyter-widgets/controls",
      "model_module_version": "1.5.0",
      "model_name": "HBoxModel",
      "state": {
       "children": [
        "IPY_MODEL_e4a1f4f4a6d447c7871a852092aab0f5",
        "IPY_MODEL_782fb3a91efe46909f831ac00f8e8e8a",
        "IPY_MODEL_2ad79ab1882e43f0bb4f2c659d5288f0"
       ],
       "layout": "IPY_MODEL_b6e87fd835b04d54a3219a8dc1081990"
      }
     },
     "ed547aba7a0247279135fb49952b4970": {
      "model_module": "@jupyter-widgets/controls",
      "model_module_version": "1.5.0",
      "model_name": "ProgressStyleModel",
      "state": {
       "description_width": ""
      }
     },
     "ede3662e246e4e59b53badcaca29053e": {
      "model_module": "@jupyter-widgets/base",
      "model_module_version": "1.2.0",
      "model_name": "LayoutModel",
      "state": {}
     },
     "ef334c45323e4a9a87d472a246df2890": {
      "model_module": "@jupyter-widgets/base",
      "model_module_version": "1.2.0",
      "model_name": "LayoutModel",
      "state": {}
     },
     "ef62b595705e4b5d82af4792805ef7ab": {
      "model_module": "@jupyter-widgets/base",
      "model_module_version": "1.2.0",
      "model_name": "LayoutModel",
      "state": {}
     },
     "efc5420397d440f8b1b28fa8a97b0cb7": {
      "model_module": "@jupyter-widgets/controls",
      "model_module_version": "1.5.0",
      "model_name": "FloatProgressModel",
      "state": {
       "bar_style": "danger",
       "layout": "IPY_MODEL_5a2b483ad62d42d3817570a99be63f91",
       "max": 6,
       "style": "IPY_MODEL_29112db8f2ca42ed82ba8536818568f3"
      }
     },
     "efc9136e198b4b5295462f5ad59d6f9d": {
      "model_module": "@jupyter-widgets/controls",
      "model_module_version": "1.5.0",
      "model_name": "DescriptionStyleModel",
      "state": {
       "description_width": ""
      }
     },
     "efea6025fe864472946a47ce91d51549": {
      "model_module": "@jupyter-widgets/controls",
      "model_module_version": "1.5.0",
      "model_name": "FloatProgressModel",
      "state": {
       "bar_style": "success",
       "layout": "IPY_MODEL_8d17a31087924161be2247d566b36730",
       "max": 1,
       "style": "IPY_MODEL_de6a47a38a9a42b9bccc3e0c32f00be3"
      }
     },
     "f02aaca6df1d44399a299c075d61f614": {
      "model_module": "@jupyter-widgets/controls",
      "model_module_version": "1.5.0",
      "model_name": "ProgressStyleModel",
      "state": {
       "description_width": ""
      }
     },
     "f03dcd0030ae4e898551ce42eeda7595": {
      "model_module": "@jupyter-widgets/controls",
      "model_module_version": "1.5.0",
      "model_name": "HTMLModel",
      "state": {
       "layout": "IPY_MODEL_d4fafcf9e4e5433897e7d0c9d19b92e2",
       "style": "IPY_MODEL_b9f2844c0ad4455a86948c8e0f145159",
       "value": " 0/338 [00:00&lt;?, ?it/s]"
      }
     },
     "f09176ea59a64e2b8bd16353c8af13d3": {
      "model_module": "@jupyter-widgets/controls",
      "model_module_version": "1.5.0",
      "model_name": "FloatProgressModel",
      "state": {
       "bar_style": "success",
       "layout": "IPY_MODEL_0b63f9d56e2044a69b1dd32c32053aea",
       "max": 338,
       "style": "IPY_MODEL_d6ed365f425f4c66bae2dec7b7c60b01",
       "value": 338
      }
     },
     "f1036822011a496fba258578294f44b9": {
      "model_module": "@jupyter-widgets/controls",
      "model_module_version": "1.5.0",
      "model_name": "HTMLModel",
      "state": {
       "layout": "IPY_MODEL_f22e85e5bbe44b30a36a321a3377500e",
       "style": "IPY_MODEL_12d8d94c40404182b349e3cbdd20efd4",
       "value": " 338/338 [00:00&lt;00:00, 1577.32it/s]"
      }
     },
     "f13aa08d53084a0f9810c544d98769c8": {
      "model_module": "@jupyter-widgets/base",
      "model_module_version": "1.2.0",
      "model_name": "LayoutModel",
      "state": {}
     },
     "f17dab4164b14864882f280997e2878e": {
      "model_module": "@jupyter-widgets/controls",
      "model_module_version": "1.5.0",
      "model_name": "DescriptionStyleModel",
      "state": {
       "description_width": ""
      }
     },
     "f194b7b48944452f9f97a1338da53b8a": {
      "model_module": "@jupyter-widgets/base",
      "model_module_version": "1.2.0",
      "model_name": "LayoutModel",
      "state": {}
     },
     "f22e85e5bbe44b30a36a321a3377500e": {
      "model_module": "@jupyter-widgets/base",
      "model_module_version": "1.2.0",
      "model_name": "LayoutModel",
      "state": {}
     },
     "f25b290af63c4ee29165966924a42aa4": {
      "model_module": "@jupyter-widgets/controls",
      "model_module_version": "1.5.0",
      "model_name": "DescriptionStyleModel",
      "state": {
       "description_width": ""
      }
     },
     "f26d70d936ab436db79a0e3bfbb83908": {
      "model_module": "@jupyter-widgets/base",
      "model_module_version": "1.2.0",
      "model_name": "LayoutModel",
      "state": {
       "width": "20px"
      }
     },
     "f2c9efaf1a6c4bcaa9dd6df2efd09634": {
      "model_module": "@jupyter-widgets/controls",
      "model_module_version": "1.5.0",
      "model_name": "DescriptionStyleModel",
      "state": {
       "description_width": ""
      }
     },
     "f4625b64b0324377aa8c8fbc04512aa5": {
      "model_module": "@jupyter-widgets/controls",
      "model_module_version": "1.5.0",
      "model_name": "ProgressStyleModel",
      "state": {
       "description_width": ""
      }
     },
     "f4c5ba0a451d4e7abccdc1631440decf": {
      "model_module": "@jupyter-widgets/base",
      "model_module_version": "1.2.0",
      "model_name": "LayoutModel",
      "state": {}
     },
     "f5acaa75f8c44e6da01512db1c76b431": {
      "model_module": "@jupyter-widgets/controls",
      "model_module_version": "1.5.0",
      "model_name": "ProgressStyleModel",
      "state": {
       "description_width": ""
      }
     },
     "f5c7bf81c0e04a2cb5773ac6b953e232": {
      "model_module": "@jupyter-widgets/base",
      "model_module_version": "1.2.0",
      "model_name": "LayoutModel",
      "state": {}
     },
     "f5ff49123f674bedb5c30e4327198abf": {
      "model_module": "@jupyter-widgets/controls",
      "model_module_version": "1.5.0",
      "model_name": "FloatProgressModel",
      "state": {
       "bar_style": "success",
       "layout": "IPY_MODEL_956ea1348f94461583609fc7f9b4633d",
       "max": 338,
       "style": "IPY_MODEL_eb36f2da8dac44189cc87bbef06a3b67",
       "value": 338
      }
     },
     "f6476040f15f4d389527a1ceacf7ff13": {
      "model_module": "@jupyter-widgets/base",
      "model_module_version": "1.2.0",
      "model_name": "LayoutModel",
      "state": {}
     },
     "f6e05a7952f348fdbfc8a06904f0a2b3": {
      "model_module": "@jupyter-widgets/controls",
      "model_module_version": "1.5.0",
      "model_name": "FloatProgressModel",
      "state": {
       "bar_style": "success",
       "layout": "IPY_MODEL_77fd4d417dcf44b686aca485d4bdc65a",
       "max": 338,
       "style": "IPY_MODEL_087a0b7a87704a22a9b71138e622cd12",
       "value": 338
      }
     },
     "f7d270c307cb48cc89a29368f8869446": {
      "model_module": "@jupyter-widgets/controls",
      "model_module_version": "1.5.0",
      "model_name": "HBoxModel",
      "state": {
       "children": [
        "IPY_MODEL_5d4f7938a0754bf88de2d428ee14d2a8",
        "IPY_MODEL_1234e2ab1b2a40f2a8fbf24db9c303cb",
        "IPY_MODEL_3947ee6ea3eb4181a2c8ccaa26d5aede"
       ],
       "layout": "IPY_MODEL_553df70ac293449784cc5ba695349913"
      }
     },
     "f94d2d5450144772a4a1fd3a2e8df6af": {
      "model_module": "@jupyter-widgets/controls",
      "model_module_version": "1.5.0",
      "model_name": "DescriptionStyleModel",
      "state": {
       "description_width": ""
      }
     },
     "f96c2cbf30534aeb8a28295dfb18141f": {
      "model_module": "@jupyter-widgets/controls",
      "model_module_version": "1.5.0",
      "model_name": "HTMLModel",
      "state": {
       "layout": "IPY_MODEL_19edfc4a1a804f17baeee8ec2743445f",
       "style": "IPY_MODEL_b538b7a5e0c449f08fad11d8df27ac7e",
       "value": "100%"
      }
     },
     "fa44dd63078646d09c3464e8e64b6f8f": {
      "model_module": "@jupyter-widgets/controls",
      "model_module_version": "1.5.0",
      "model_name": "HTMLModel",
      "state": {
       "layout": "IPY_MODEL_d21dd34f48d3479cbe370f07bcf53ee2",
       "style": "IPY_MODEL_5d44f99539494495a1f87bd42e494e93",
       "value": "  0%"
      }
     },
     "fa5e53f3b61c46ea8326a06bc99ee4e3": {
      "model_module": "@jupyter-widgets/controls",
      "model_module_version": "1.5.0",
      "model_name": "FloatProgressModel",
      "state": {
       "bar_style": "danger",
       "layout": "IPY_MODEL_fbead19e7c114a37aa9b2948d52329c3",
       "max": 338,
       "style": "IPY_MODEL_1d31334ad54a46699f7315fffa6a38b5"
      }
     },
     "fbead19e7c114a37aa9b2948d52329c3": {
      "model_module": "@jupyter-widgets/base",
      "model_module_version": "1.2.0",
      "model_name": "LayoutModel",
      "state": {}
     },
     "fbecd77683ef4c06a80c4187de3cd687": {
      "model_module": "@jupyter-widgets/base",
      "model_module_version": "1.2.0",
      "model_name": "LayoutModel",
      "state": {}
     },
     "fc393d8468ee49d998913bfba300d68c": {
      "model_module": "@jupyter-widgets/controls",
      "model_module_version": "1.5.0",
      "model_name": "HTMLModel",
      "state": {
       "layout": "IPY_MODEL_0e47c9948c3d4877aaf81f5315ea9425",
       "style": "IPY_MODEL_b5af98518454489b8a5e00111293382d",
       "value": " 338/338 [00:00&lt;00:00, 2607.88it/s]"
      }
     },
     "fc8352fe28a440ff91d9bdf6017ea39a": {
      "model_module": "@jupyter-widgets/controls",
      "model_module_version": "1.5.0",
      "model_name": "ProgressStyleModel",
      "state": {
       "description_width": ""
      }
     },
     "fcdab1233922421da2706b90dfc87a24": {
      "model_module": "@jupyter-widgets/base",
      "model_module_version": "1.2.0",
      "model_name": "LayoutModel",
      "state": {}
     },
     "fd201c0a36264731a6f77a665ada882c": {
      "model_module": "@jupyter-widgets/base",
      "model_module_version": "1.2.0",
      "model_name": "LayoutModel",
      "state": {}
     },
     "fd6e68ac01cc40fa8cc60496081b994e": {
      "model_module": "@jupyter-widgets/controls",
      "model_module_version": "1.5.0",
      "model_name": "HTMLModel",
      "state": {
       "layout": "IPY_MODEL_2fc5843fb02f42d19d685af0f78e97be",
       "style": "IPY_MODEL_0fda7092411b425dbece187d9230fd94",
       "value": "100%"
      }
     },
     "fe0f151d933c491f959ab65bbbb84999": {
      "model_module": "@jupyter-widgets/base",
      "model_module_version": "1.2.0",
      "model_name": "LayoutModel",
      "state": {}
     },
     "fe4f669e7e0646ea9c04c56152d8f6d1": {
      "model_module": "@jupyter-widgets/controls",
      "model_module_version": "1.5.0",
      "model_name": "ProgressStyleModel",
      "state": {
       "description_width": ""
      }
     },
     "fe64f2ebf49f448696aa87bed0b02e8a": {
      "model_module": "@jupyter-widgets/base",
      "model_module_version": "1.2.0",
      "model_name": "LayoutModel",
      "state": {}
     },
     "fe8d7403324042c19d171afcbead70e5": {
      "model_module": "@jupyter-widgets/controls",
      "model_module_version": "1.5.0",
      "model_name": "ProgressStyleModel",
      "state": {
       "description_width": ""
      }
     },
     "fe8e588249ea47779d09693b050728e4": {
      "model_module": "@jupyter-widgets/base",
      "model_module_version": "1.2.0",
      "model_name": "LayoutModel",
      "state": {}
     },
     "fea015d68c9d4425acedea3fd94fc0b5": {
      "model_module": "@jupyter-widgets/base",
      "model_module_version": "1.2.0",
      "model_name": "LayoutModel",
      "state": {}
     },
     "feb0b75e7c2242f6a3d33f8a3393a08c": {
      "model_module": "@jupyter-widgets/base",
      "model_module_version": "1.2.0",
      "model_name": "LayoutModel",
      "state": {}
     },
     "ff13d3a295de4d009dd6ea49f1a0a8e0": {
      "model_module": "@jupyter-widgets/base",
      "model_module_version": "1.2.0",
      "model_name": "LayoutModel",
      "state": {}
     },
     "ff8695db7418466e92fe9d6126e2855a": {
      "model_module": "@jupyter-widgets/controls",
      "model_module_version": "1.5.0",
      "model_name": "DescriptionStyleModel",
      "state": {
       "description_width": ""
      }
     },
     "ffbd3db68ae047e29ae8b6fe8ad4a3fd": {
      "model_module": "@jupyter-widgets/base",
      "model_module_version": "1.2.0",
      "model_name": "LayoutModel",
      "state": {}
     },
     "ffc44cb662a747999f9a4cbcdb4b7d44": {
      "model_module": "@jupyter-widgets/base",
      "model_module_version": "1.2.0",
      "model_name": "LayoutModel",
      "state": {}
     }
    },
    "version_major": 2,
    "version_minor": 0
   }
  }
 },
 "nbformat": 4,
 "nbformat_minor": 4
}
