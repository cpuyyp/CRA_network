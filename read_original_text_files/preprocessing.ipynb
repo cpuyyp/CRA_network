{
 "cells": [
  {
   "cell_type": "code",
   "execution_count": 1,
   "metadata": {
    "tags": []
   },
   "outputs": [],
   "source": [
    "%load_ext autoreload\n",
    "%autoreload 2\n",
    "\n",
    "import os\n",
    "import io\n",
    "import sys\n",
    "import re\n",
    "import csv\n",
    "import pandas as pd\n",
    "from tqdm import tqdm_notebook, tnrange, notebook\n",
    "from datetime import datetime\n",
    "import function_library3 as fctlib3"
   ]
  },
  {
   "cell_type": "code",
   "execution_count": 110,
   "metadata": {
    "tags": []
   },
   "outputs": [],
   "source": [
    "re_From = re.compile(r'^\\s?From\\:\\s?(.*)')\n",
    "re_From2 = re.compile(r'^F.S. 119.071 - Security .*From\\:\\s(.*)')\n",
    "re_Sent = re.compile(r'^Sent\\:\\s?(.*)')\n",
    "re_Sent2 = re.compile(r'^Date\\:\\s?(.*)')\n",
    "re_To = re.compile(r'^To\\:\\s?(.*)')\n",
    "re_CC = re.compile(r'^C[Cc]\\:\\s?(.*)')\n",
    "re_Subject = re.compile(r'^Sub\\s?j\\s?ect\\:\\s?(.*)')\n",
    "re_Subject2 = re.compile(r'^Title\\:\\s?(.*)')\n",
    "re_Attachments = re.compile(r'^Attachments\\:\\s?(.*)')\n",
    "re_Importance = re.compile(r'Importance\\:\\s?(.*)')\n",
    "\n",
    "re_line_separator = re.compile(r'(-+\\s*?Original\\s+\\w+\\s*?-+\\s*)(\\w)')\n",
    "                               \n",
    "re_page = re.compile(r'^Page\\s\\d+$')\n",
    "re_page2 = re.compile(r'^Page\\s\\d+\\sof\\s\\d+$')\n",
    "re_page3 = re.compile(r'^\\d+\\-\\d+$')\n",
    "\n",
    "re_tail = re.compile(r'^Sent\\sfrom\\s.*\\siPad')\n",
    "re_tail2 = re.compile(r'^Sent\\sfrom\\s.*\\siPhone')\n",
    "re_tail3 = re.compile(r'^On\\s\\w+\\,\\s\\w+\\swrote\\:')\n",
    "re_tail4 = re.compile(r'^On\\s.+\\,\\s[0-9]{4},\\sat\\s.+\\,.+')\n",
    "re_tail5 = re.compile(r'^Begin\\sforwarded\\smessage\\:')\n",
    "\n",
    "tails = ['Sent from my iPhone',\n",
    "         \"Sent from Paige's iPad\",\n",
    "        'On \\w+\\, \\w+ wrote:',\n",
    "        'Text messages of Karen Jumonville To/From Adam Corey',\n",
    "         'On Jun 1, 2013, at 8:21 AM, \"Favors Thompson, Anita\"',\n",
    "        'Begin forwarded message:']\n",
    "\n",
    "re_lowercase = re.compile(r'^[a-z].*')"
   ]
  },
  {
   "cell_type": "code",
   "execution_count": 113,
   "metadata": {},
   "outputs": [
    {
     "name": "stdout",
     "output_type": "stream",
     "text": [
      "<re.Match object; span=(0, 33), match='-----Original    Message ------ S'>\n",
      "r\u0002ubject\n"
     ]
    }
   ],
   "source": [
    "a = \"-----Original    Message ------ Subject\"\n",
    "print(re_line_separator.match(a))\n",
    "line = re_line_separator.sub('r\\2', a)\n",
    "# print(re_line_separator.groupindex(0))\n",
    "print(line)\n"
   ]
  },
  {
   "cell_type": "code",
   "execution_count": 3,
   "metadata": {
    "tags": []
   },
   "outputs": [
    {
     "data": {
      "text/plain": [
       "['Begin forwarded message:']"
      ]
     },
     "execution_count": 3,
     "metadata": {},
     "output_type": "execute_result"
    }
   ],
   "source": [
    "# test\n",
    "re_tail3.findall(\"Sent from K's iPhone\")\n",
    "re_tail5.findall(tails[5])"
   ]
  },
  {
   "cell_type": "code",
   "execution_count": 114,
   "metadata": {
    "tags": []
   },
   "outputs": [],
   "source": [
    "def split_emails(inputpath, outputpath, file_name, filecount=None):\n",
    "    #     f_in = io.open(inputpath, encoding='utf8',errors='ignore')\n",
    "    f_in = open(inputpath, encoding=\"utf8\")\n",
    "\n",
    "    if filecount == None:\n",
    "        # len(os.listdir(outputpath)) # files are named by numbers\n",
    "        filecount = 0\n",
    "        \n",
    "    email = []\n",
    "    #     email.append(f_in.readline().strip('\\f'))\n",
    "    \n",
    "    try:\n",
    "        for line_no, line in enumerate(f_in.readlines()):\n",
    "            if re_line_separator.match(line):\n",
    "                pass\n",
    "            \n",
    "            line = line.strip(\"\\f\").strip(\" \")\n",
    "            # print(\"line: \",  line)\n",
    "            # m1 = re_From.match(line)\n",
    "            # print(\"m1: \", m1)\n",
    "            # m2 = re_From2.match(line)\n",
    "            # print(\"m2: \", m2)\n",
    "            if re_From.match(line) or re_From2.match(line) or re_line_separator.match(line):\n",
    "                # Start new email\n",
    "                if re_line_separator.match(line):\n",
    "                    line = re_line_separator.sub(r'\\2', line)\n",
    "                    print(\"separator line: \", line)\n",
    "                if email != []:\n",
    "                    # print(\"before open, filecount: \", filecount+1, \", file_name :\", file_name, \", line_no: \", line_no)\n",
    "                    # print(\"outputpath: \", outputpath)\n",
    "                    with open(\n",
    "                        outputpath + \"/\" + \"id=\" + str(filecount) + \"_\" + \"fn=\" + str(file_name) + \n",
    "                        \"_\" + \"ln=\" + str(line_no) + \".txt\",\n",
    "                        \"w+\",\n",
    "                        encoding=\"utf-8\",\n",
    "                    ) as f_out:\n",
    "                        # print(\"outputpath: \", outputpath)\n",
    "                        for l in email:\n",
    "                            f_out.write(l)\n",
    "                email = []\n",
    "                filecount = filecount + 1\n",
    "            email.append(line)\n",
    "            # print(\"email append, email: \", email)\n",
    "    except:\n",
    "        print(\"split_emails: except\")   # Why is except called?\n",
    "        pass\n",
    "    f_in.close\n",
    "\n",
    "    return filecount"
   ]
  },
  {
   "cell_type": "code",
   "execution_count": 115,
   "metadata": {
    "tags": []
   },
   "outputs": [
    {
     "data": {
      "application/vnd.jupyter.widget-view+json": {
       "model_id": "011e758fa7604b02a92505da6d568c58",
       "version_major": 2,
       "version_minor": 0
      },
      "text/plain": [
       "  0%|          | 0/1 [00:00<?, ?it/s]"
      ]
     },
     "metadata": {},
     "output_type": "display_data"
    },
    {
     "name": "stdout",
     "output_type": "stream",
     "text": [
      "gordon.txt\n",
      "separator line:  Subject: Re: per Bobby Burleson\n",
      "\n"
     ]
    }
   ],
   "source": [
    "# Read mails from text files (translated from pdf)\n",
    "# Note: terminate paths with a forward slash\n",
    "inputpath = './email_txt/downloaded_from_data_tallahassee/'  \n",
    "inputpath = './email_txt/test_files/'  \n",
    "outputpath = './split_txt/' \n",
    "outputpath = './test_split_txt/'\n",
    "# inputpath = './redacted_email_txt/'\n",
    "# outputpath = './redacted_split_txt/' \n",
    "# inputpath = './unredacted_email_txt/'\n",
    "# outputpath = './unredacted_split_txt/' \n",
    "# inputpath = './old_email_txt/'\n",
    "# outputpath = './old_split_txt/' \n",
    "filecount = 0\n",
    "for inputfile in notebook.tqdm(os.listdir(inputpath)):\n",
    "#     print('processing '+inputpath+inputfile)\n",
    "    ## JOEY: why subtract 1 from filecount below? <<<<<<\n",
    "    print(inputfile)\n",
    "    #filecount = split_emails(inputpath+inputfile, outputpath, inputfile, filecount-1)  # ORIG\n",
    "    filecount = split_emails(inputpath+inputfile, outputpath, inputfile, filecount)\n",
    "    if filecount > 5:\n",
    "        print(\"filecount: \", filecount)\n",
    "        break\n",
    "    "
   ]
  },
  {
   "cell_type": "code",
   "execution_count": 40,
   "metadata": {
    "tags": []
   },
   "outputs": [],
   "source": [
    "def correct_line(inputpath, outputpath=''):\n",
    "    \"\"\"\n",
    "    What does this file do? \n",
    "    \"\"\"\n",
    "    if outputpath=='':\n",
    "        outputpath = inputpath\n",
    "    new_file = []\n",
    "    with open(inputpath, 'r', encoding='utf8') as f:\n",
    "        flag = 0\n",
    "        body = []\n",
    "        for line in f.readlines():\n",
    "            # remove formfeeds\n",
    "            line = re.sub('\\f', '', line).strip()\n",
    "            \n",
    "            if re_tail.match(line) or re_tail2.match(line) or re_tail3.match(line) or re_tail4.match(line) or re_tail5.match(line):\n",
    "                break\n",
    "            if re_page.match(line) or re_page2.match(line) or re_page3.match(line):\n",
    "                continue\n",
    "            if re_From.match(line) or re_From2.match(line) or re_Sent.match(line) or re_Sent2.match(line) or re_To.match(line) or re_CC.match(line):\n",
    "                if body != []:\n",
    "                    temp_line = ' '.join(body)\n",
    "                    new_file.append(temp_line)\n",
    "                body = []\n",
    "                body.append(line)\n",
    "            elif re_Subject.match(line):\n",
    "                flag = 1\n",
    "                temp_line = ' '.join(body)\n",
    "                body = []\n",
    "                new_file.append(temp_line)\n",
    "                body.append(line)\n",
    "            elif re_Attachments.match(line) and flag == 1:\n",
    "                flag = 2\n",
    "                temp_line = ' '.join(body)\n",
    "                body = []\n",
    "                body.append(line)\n",
    "                new_file.append(temp_line)\n",
    "            elif re_Attachments.match(line) and flag == 0:\n",
    "                flag = 3\n",
    "                temp_line = ' '.join(body)\n",
    "                body = []\n",
    "                new_file.append(temp_line)\n",
    "                body.append(line)\n",
    "#                 print(line)\n",
    "#                 print(re_Attachments.match(line))\n",
    "#                 print( re_Attachments.findall(line))\n",
    "                print('no title but attachment in file'+inputpath)\n",
    "#                 return\n",
    "            else:\n",
    "                body.append(line)\n",
    "            \n",
    "        if flag == 0:\n",
    "            flag2 = 0\n",
    "            new_file.append(body[0])\n",
    "            for line in body[1:]:\n",
    "                if ('<' in line or '>' in line or '(' in line or ')' in line or ',' in line or ';' in line or line == '') and flag2 == 0:\n",
    "                    new_file[-1] = new_file[-1] + ' ' + line\n",
    "                elif flag2 == 1:\n",
    "                    new_file.append(line)\n",
    "                else:\n",
    "                    flag2 = 1\n",
    "                    new_file.append('Subject: ' + line)\n",
    "        else:\n",
    "            for line in body:\n",
    "                new_file.append(line)\n",
    "        \n",
    "\n",
    "    with open(outputpath, 'w+', encoding = 'utf-8') as f_out:\n",
    "        for line in new_file:\n",
    "            f_out.write(line + '\\n')"
   ]
  },
  {
   "cell_type": "code",
   "execution_count": 49,
   "metadata": {
    "tags": []
   },
   "outputs": [
    {
     "name": "stderr",
     "output_type": "stream",
     "text": [
      "<ipython-input-49-2c12a2b30f6f>:34: TqdmDeprecationWarning: This function will be removed in tqdm==5.0.0\n",
      "Please use `tqdm.notebook.tqdm` instead of `tqdm.tqdm_notebook`\n",
      "  for name in tqdm_notebook(os.listdir(inputpath)):\n"
     ]
    },
    {
     "data": {
      "application/vnd.jupyter.widget-view+json": {
       "model_id": "9577aa04e12a4dd985a68816042ace80",
       "version_major": 2,
       "version_minor": 0
      },
      "text/plain": [
       "  0%|          | 0/2 [00:00<?, ?it/s]"
      ]
     },
     "metadata": {},
     "output_type": "display_data"
    }
   ],
   "source": [
    "inputpath = './split_txt/' \n",
    "# inputpath = './redacted_split_txt/' \n",
    "# inputpath = './unredacted_split_txt/' \n",
    "#inputpath = './old_split_txt/' \n",
    "inputpath = './test_split_txt/'\n",
    "\n",
    "\"\"\" \n",
    "GE: Somewhere, the lines\n",
    "\n",
    "From: Gayle Webb <gagawebb@comcast.net>\n",
    "To: \"Powell, Jr., Rudy\" <Rudy.Powell@dot.state.fl.us>\n",
    "CC:\n",
    "Date: Tue, September 22, 2015 12:14 PM\n",
    "\n",
    "Hi Cris,\n",
    "I received a request to see if it would\n",
    "be possible to prune up what appear to\n",
    "\n",
    "\n",
    "got converted to: \n",
    "\n",
    "\n",
    "From: Gayle Webb <gagawebb@comcast.net>\n",
    "To: \"Powell, Jr., Rudy\" <Rudy.Powell@dot.state.fl.us>\n",
    "CC:\n",
    "Date: Tue, September 22, 2015 12:14 PM  Hi Cris,\n",
    "Subject: I received a request to see if it would\n",
    "be possible to prune up what appear to\n",
    "\n",
    "    \n",
    "\"\"\"\n",
    "\n",
    "abnormal_email_id = []\n",
    "for name in tqdm_notebook(os.listdir(inputpath)):\n",
    "    #filenm = inputpath + '/' + name # not the best way\n",
    "    filenm = os.path.join(inputpath, name)  # works on windows, \n",
    "    try:\n",
    "        correct_line(filenm)\n",
    "    except:\n",
    "        abnormal_email_id.append(int(name[:-4]))\n",
    "        print(name)\n",
    "#         os.remove(inputpath+'/'+name)"
   ]
  },
  {
   "cell_type": "code",
   "execution_count": 49,
   "metadata": {
    "collapsed": true,
    "jupyter": {
     "outputs_hidden": true
    }
   },
   "outputs": [
    {
     "name": "stdout",
     "output_type": "stream",
     "text": [
      "no title but attachment in file./unredacted_split_txt/66012.txt\n"
     ]
    }
   ],
   "source": [
    "# test\n",
    "# correct_line('./unredacted_split_txt/66012.txt')"
   ]
  },
  {
   "cell_type": "code",
   "execution_count": 42,
   "metadata": {
    "tags": []
   },
   "outputs": [],
   "source": [
    "def get_headers(inputpath, outputpath='', file_name='x'): \n",
    "    dictionary = {}\n",
    "\n",
    "    with open(inputpath, 'r',encoding='utf8') as f:\n",
    "        list_from = []\n",
    "        list_sent = []\n",
    "        list_to = []\n",
    "        list_cc = []\n",
    "        list_subject = []\n",
    "        list_attachments = []\n",
    "        list_body = []\n",
    "        list_importance = []\n",
    "        for line in f.readlines():\n",
    "            #\\f is a special character (dot)\n",
    "            line = re.sub('\\f', '', line)\n",
    "            line = line.strip()\n",
    "            if re_From.match(line):\n",
    "                list_from.append(re_From.findall(line)[0])\n",
    "            elif re_Sent.match(line) or re_Sent2.match(line):\n",
    "                if re_Sent.match(line):\n",
    "                    list_sent.append(re_Sent.findall(line)[0])\n",
    "                else:\n",
    "                    list_sent.append(re_Sent2.findall(line)[0])\n",
    "\n",
    "            elif re_To.match(line):\n",
    "                list_to.append(re_To.findall(line)[0])\n",
    "            elif re_CC.match(line):\n",
    "                list_cc.append(re_CC.findall(line)[0])\n",
    "            elif re_Subject.match(line) or re_Subject2.match(line):\n",
    "                if re_Subject.match(line):\n",
    "                    list_subject.append(re_Subject.findall(line)[0])\n",
    "                else:\n",
    "                    list_subject.append(re_Subject2.findall(line)[0])\n",
    "\n",
    "            elif re_Attachments.match(line):\n",
    "                list_attachments.append(re_Attachments.findall(line)[0])\n",
    "            elif re_Importance.match(line):\n",
    "                list_importance.append(re_Importance.findall(line)[0])\n",
    "            else:\n",
    "                # state what this does.\n",
    "                line = re.sub('[^A-Za-z0-9\\s\\(\\)\\/\\\\\\&\\?\\!\\,\\.\\-\\@\\<\\>\\:\\+\\%\\;]', '', line)\n",
    "                list_body.append(line)\n",
    "                \n",
    "    # print(\"file_name: \", file_name)\n",
    "    splits = file_name.split(\"_\")\n",
    "    Id = splits[0][3:]\n",
    "    name = splits[1][3:]\n",
    "    line_no = splits[2][3:-3]\n",
    "    # print(f\"Id: {Id}, name: {name}, line_no: {line_no}\")\n",
    "    dictionary['Id'] = Id # file name is id.txt\n",
    "    dictionary['From'] = list_from\n",
    "    dictionary['Sent'] = list_sent\n",
    "    dictionary['To'] = list_to\n",
    "    dictionary['CC'] = list_cc\n",
    "    dictionary['Subject'] = list_subject\n",
    "    dictionary['Attachments'] = list_attachments\n",
    "    dictionary['Body'] = list_body\n",
    "    dictionary['Importance'] = list_importance\n",
    "    dictionary['FromFile'] = name\n",
    "    dictionary['FileLineNo'] = line_no\n",
    "    \n",
    "    return dictionary"
   ]
  },
  {
   "cell_type": "code",
   "execution_count": 43,
   "metadata": {
    "tags": []
   },
   "outputs": [
    {
     "name": "stderr",
     "output_type": "stream",
     "text": [
      "<ipython-input-43-1c416b10e5dc>:6: TqdmDeprecationWarning: This function will be removed in tqdm==5.0.0\n",
      "Please use `tqdm.notebook.tqdm` instead of `tqdm.tqdm_notebook`\n",
      "  for i, name in enumerate( tqdm_notebook(os.listdir(inputpath))):\n"
     ]
    },
    {
     "data": {
      "application/vnd.jupyter.widget-view+json": {
       "model_id": "0bae7197bf0a4286901e9312e0fe81c4",
       "version_major": 2,
       "version_minor": 0
      },
      "text/plain": [
       "  0%|          | 0/338 [00:00<?, ?it/s]"
      ]
     },
     "metadata": {},
     "output_type": "display_data"
    },
    {
     "data": {
      "text/plain": [
       "338"
      ]
     },
     "execution_count": 43,
     "metadata": {},
     "output_type": "execute_result"
    }
   ],
   "source": [
    "inputpath = './split_txt/' \n",
    "# inputpath = './redacted_split_txt/' \n",
    "# inputpath = './unredacted_split_txt/' \n",
    "# inputpath = './old_split_txt/' \n",
    "l = []\n",
    "for i, name in enumerate( tqdm_notebook(os.listdir(inputpath))):\n",
    "    if name != '.DS_Store':\n",
    "        # print(\"name: \", name)\n",
    "        l.append(get_headers(inputpath+'/'+name, file_name=name))\n",
    "    #if i == 5: break\n",
    "len(l)"
   ]
  },
  {
   "cell_type": "code",
   "execution_count": 50,
   "metadata": {
    "tags": []
   },
   "outputs": [],
   "source": [
    "# It would be easier to create a pandas array and then do  df.write_csv(\"filenm\", index=0)\n",
    "csv_columns = ['Id','From','Sent','To','CC','Subject','Attachments','Importance','Body','FromFile','FileLineNo']\n",
    "with open('./output.csv', 'w',encoding='utf8') as csvfile:\n",
    "# with open('./redacted_output.csv', 'w',encoding='utf8') as csvfile:\n",
    "# with open('./unredacted_output.csv', 'w',encoding='utf8') as csvfile:\n",
    "# with open('./old_output.csv', 'w',encoding='utf8') as csvfile:\n",
    "\n",
    "    writer = csv.DictWriter(csvfile, fieldnames=csv_columns)\n",
    "    writer.writeheader()\n",
    "    for data in l:\n",
    "        writer.writerow(data)"
   ]
  },
  {
   "cell_type": "code",
   "execution_count": 93,
   "metadata": {
    "tags": []
   },
   "outputs": [
    {
     "data": {
      "text/html": [
       "<div>\n",
       "<style scoped>\n",
       "    .dataframe tbody tr th:only-of-type {\n",
       "        vertical-align: middle;\n",
       "    }\n",
       "\n",
       "    .dataframe tbody tr th {\n",
       "        vertical-align: top;\n",
       "    }\n",
       "\n",
       "    .dataframe thead th {\n",
       "        text-align: right;\n",
       "    }\n",
       "</style>\n",
       "<table border=\"1\" class=\"dataframe\">\n",
       "  <thead>\n",
       "    <tr style=\"text-align: right;\">\n",
       "      <th></th>\n",
       "      <th>Id</th>\n",
       "      <th>From</th>\n",
       "      <th>Sent</th>\n",
       "      <th>To</th>\n",
       "      <th>CC</th>\n",
       "      <th>Subject</th>\n",
       "      <th>Attachments</th>\n",
       "      <th>Importance</th>\n",
       "      <th>Body</th>\n",
       "      <th>FromFile</th>\n",
       "      <th>FileLineNo</th>\n",
       "    </tr>\n",
       "  </thead>\n",
       "  <tbody>\n",
       "    <tr>\n",
       "      <th>0</th>\n",
       "      <td>167</td>\n",
       "      <td>['Chris Dudley']</td>\n",
       "      <td>['Monday, June 13, 2016 11:27 AM']</td>\n",
       "      <td>['Paige Carter-Smith']</td>\n",
       "      <td>['Claudia Davant; DIA Scott Dick; Cynthia Tunn...</td>\n",
       "      <td>['Re: TDIA - Board Meeting']</td>\n",
       "      <td>[]</td>\n",
       "      <td>[]</td>\n",
       "      <td>['', 'I will be.']</td>\n",
       "      <td>23-11-PCSgmail2014-2017.txt</td>\n",
       "      <td>10350.0</td>\n",
       "    </tr>\n",
       "    <tr>\n",
       "      <th>1</th>\n",
       "      <td>142</td>\n",
       "      <td>['Elias Mathes TDIA']</td>\n",
       "      <td>['Friday, June 03, 2016 7:12 AM']</td>\n",
       "      <td>['Allison Behrman']</td>\n",
       "      <td>['Paige Carter-Smith']</td>\n",
       "      <td>['TDIA Co-Sponsorship Applications']</td>\n",
       "      <td>['Co-Sponsorship Application_2016 Downtown Get...</td>\n",
       "      <td>[]</td>\n",
       "      <td>['Sundown Summer Concert Series SIGNED.pdf', '...</td>\n",
       "      <td>23-11-PCSgmail2014-2017.txt</td>\n",
       "      <td>8514.0</td>\n",
       "    </tr>\n",
       "    <tr>\n",
       "      <th>2</th>\n",
       "      <td>41</td>\n",
       "      <td>['Mallory Izbicki']</td>\n",
       "      <td>['Thursday, March 19, 2015 11:21 AM']</td>\n",
       "      <td>[\"'Bellamy, Mike (Fire Dept)'; 'Jay Revell'; R...</td>\n",
       "      <td>['Nicola Barnack']</td>\n",
       "      <td>['Oxygen Ball Cocktail Hour Wrap Up']</td>\n",
       "      <td>[]</td>\n",
       "      <td>[]</td>\n",
       "      <td>['Good Morning Celebrities!', 'We are planning...</td>\n",
       "      <td>23-11-PCSgmail2014-2017.txt</td>\n",
       "      <td>1840.0</td>\n",
       "    </tr>\n",
       "    <tr>\n",
       "      <th>3</th>\n",
       "      <td>256</td>\n",
       "      <td>['']</td>\n",
       "      <td>['']</td>\n",
       "      <td>['']</td>\n",
       "      <td>[]</td>\n",
       "      <td>['']</td>\n",
       "      <td>[]</td>\n",
       "      <td>[]</td>\n",
       "      <td>['', 'Paige Carter-Smith &lt;paigecartersmith@gma...</td>\n",
       "      <td>23-11-PCSgmail2014-2017.txt</td>\n",
       "      <td>16147.0</td>\n",
       "    </tr>\n",
       "    <tr>\n",
       "      <th>4</th>\n",
       "      <td>201</td>\n",
       "      <td>['Fran Conaway [mailto:franconaway32312@gmail....</td>\n",
       "      <td>['Sunday, July 24, 2016 8:42 PM', 'Sat, Jul 23...</td>\n",
       "      <td>['Whitaker, Angie; Paigecartersmith@gmail.com'...</td>\n",
       "      <td>[]</td>\n",
       "      <td>[\"Fwd: An Invitation to SeeTallahassee in a Ne...</td>\n",
       "      <td>[]</td>\n",
       "      <td>[]</td>\n",
       "      <td>['&lt;Angie.Whitaker@talgov.com&gt;, Gil.Ziffer@talg...</td>\n",
       "      <td>23-11-PCSgmail2014-2017.txt</td>\n",
       "      <td>12461.0</td>\n",
       "    </tr>\n",
       "  </tbody>\n",
       "</table>\n",
       "</div>"
      ],
      "text/plain": [
       "    Id                                               From  \\\n",
       "0  167                                   ['Chris Dudley']   \n",
       "1  142                              ['Elias Mathes TDIA']   \n",
       "2   41                                ['Mallory Izbicki']   \n",
       "3  256                                               ['']   \n",
       "4  201  ['Fran Conaway [mailto:franconaway32312@gmail....   \n",
       "\n",
       "                                                Sent  \\\n",
       "0                 ['Monday, June 13, 2016 11:27 AM']   \n",
       "1                  ['Friday, June 03, 2016 7:12 AM']   \n",
       "2              ['Thursday, March 19, 2015 11:21 AM']   \n",
       "3                                               ['']   \n",
       "4  ['Sunday, July 24, 2016 8:42 PM', 'Sat, Jul 23...   \n",
       "\n",
       "                                                  To  \\\n",
       "0                             ['Paige Carter-Smith']   \n",
       "1                                ['Allison Behrman']   \n",
       "2  [\"'Bellamy, Mike (Fire Dept)'; 'Jay Revell'; R...   \n",
       "3                                               ['']   \n",
       "4  ['Whitaker, Angie; Paigecartersmith@gmail.com'...   \n",
       "\n",
       "                                                  CC  \\\n",
       "0  ['Claudia Davant; DIA Scott Dick; Cynthia Tunn...   \n",
       "1                             ['Paige Carter-Smith']   \n",
       "2                                 ['Nicola Barnack']   \n",
       "3                                                 []   \n",
       "4                                                 []   \n",
       "\n",
       "                                             Subject  \\\n",
       "0                       ['Re: TDIA - Board Meeting']   \n",
       "1               ['TDIA Co-Sponsorship Applications']   \n",
       "2              ['Oxygen Ball Cocktail Hour Wrap Up']   \n",
       "3                                               ['']   \n",
       "4  [\"Fwd: An Invitation to SeeTallahassee in a Ne...   \n",
       "\n",
       "                                         Attachments Importance  \\\n",
       "0                                                 []         []   \n",
       "1  ['Co-Sponsorship Application_2016 Downtown Get...         []   \n",
       "2                                                 []         []   \n",
       "3                                                 []         []   \n",
       "4                                                 []         []   \n",
       "\n",
       "                                                Body  \\\n",
       "0                                 ['', 'I will be.']   \n",
       "1  ['Sundown Summer Concert Series SIGNED.pdf', '...   \n",
       "2  ['Good Morning Celebrities!', 'We are planning...   \n",
       "3  ['', 'Paige Carter-Smith <paigecartersmith@gma...   \n",
       "4  ['<Angie.Whitaker@talgov.com>, Gil.Ziffer@talg...   \n",
       "\n",
       "                      FromFile  FileLineNo  \n",
       "0  23-11-PCSgmail2014-2017.txt     10350.0  \n",
       "1  23-11-PCSgmail2014-2017.txt      8514.0  \n",
       "2  23-11-PCSgmail2014-2017.txt      1840.0  \n",
       "3  23-11-PCSgmail2014-2017.txt     16147.0  \n",
       "4  23-11-PCSgmail2014-2017.txt     12461.0  "
      ]
     },
     "execution_count": 93,
     "metadata": {},
     "output_type": "execute_result"
    }
   ],
   "source": [
    "df = pd.read_csv('output.csv')\n",
    "# df_redacted = pd.read_csv('redacted_output.csv')\n",
    "# df_unredacted = pd.read_csv('unredacted_output.csv')\n",
    "# df_old = pd.read_csv('old_output.csv')\n",
    "\n",
    "df.head()\n",
    "# df_redacted.head()\n",
    "# df_unredacted.head()\n",
    "# df_old.head()"
   ]
  },
  {
   "cell_type": "code",
   "execution_count": 99,
   "metadata": {
    "collapsed": true,
    "jupyter": {
     "outputs_hidden": true
    },
    "tags": []
   },
   "outputs": [
    {
     "data": {
      "application/vnd.jupyter.widget-view+json": {
       "model_id": "ebb714a189ac41a686ccefe5b7dbbd76",
       "version_major": 2,
       "version_minor": 0
      },
      "text/plain": [
       "  0%|          | 0/338 [00:00<?, ?it/s]"
      ]
     },
     "metadata": {},
     "output_type": "display_data"
    },
    {
     "name": "stdout",
     "output_type": "stream",
     "text": [
      "dt1:   June 13 2016 11:27 AM\n",
      "dt1:   June 03 2016 7:12 AM\n",
      "dt1:   March 19 2015 11:21 AM\n",
      "dt1:  \n",
      "dt1:   July 24 2016 8:42 PM\n",
      "dt1:   March 31 2015 2:01 PM\n",
      "dt1:   October 07 2016 8:21 AM\n",
      "dt1:   June 08 2016 9:56 AM\n",
      "dt1:   July 22 2016 4:58 PM\n",
      "dt1:   July 27 2016 10:43 AM\n",
      "dt1:   March 31 2015 2:01 PM\n",
      "dt1:   October 16 2014 7:53 PM\n",
      "dt1:   September 15 2015 11:20 AM\n",
      "dt1:  \n",
      "dt1:   May 27 2015 1:28 PM\n",
      "dt1:  \n",
      "dt1:   July 22 2016 4:58 PM\n",
      "dt1:   June 13 2016 11:58 AM\n",
      "dt1:   February 18 2015 10:15 AM\n",
      "dt1:   June 09 2016 11:18 PM\n",
      "dt1:   September 15 2015 11:20 AM\n",
      "dt1:   August 02 2016 11:41 AM\n",
      "dt1:  August 1 2015 1:59:26 AM EDT\n",
      "dt1:   May 27 2015 1:28 PM\n",
      "dt1:   April 20 2017 12:26 PM\n",
      "dt1:   June 14 2016 3:43 PM\n",
      "dt1:   January 05 2017 10:56 AM\n",
      "dt1:  \n",
      "dt1:   October 12 2016 2:40 PM\n",
      "dt1:   June 09 2016 11:08 AM\n",
      "dt1:   July 22 2016 3:38 PM\n",
      "dt1:   September 07 2016 7:03 PM\n",
      "dt1:   February 20 2015 9:50 AM\n",
      "dt1:   October 07 2016 10:30 AM\n",
      "dt1:   September 22 2015 12:14 PM Hi Cris \n",
      "dt1:   April 20 2017 5:08 PM\n",
      "dt1:   July 01 2016 12:32 PM\n",
      "dt1:   July 27 2016 12:16 PM\n",
      "dt1:   May 01 2014 4:52 PM\n",
      "dt1:   July 24 2016 8:42 PM\n",
      "dt1:   May 07 2014 9:33 PM\n",
      "dt1:   October 07 2016 8:00 AM\n",
      "dt1:   September 09 2016 10:21 AM\n",
      "dt1:   June 22 2016 2:18 PM\n",
      "dt1:   September 23 2015 1:32 PM\n",
      "dt1:   February 15 2015 5:01 PM\n",
      "dt1:   January 05 2017 10:56 AM\n",
      "dt1:   January 19 2017 10:00 AM\n",
      "dt1:   February 01 2017 3:58 PM\n",
      "dt1:   June 07 2016 10:18 PM\n",
      "dt1:   July 27 2016 10:43 AM\n",
      "dt1:   May 14 2015 11:45 AM\n",
      "dt1:   May 17 2016 4:06 PM\n",
      "dt1:   February 03 2016 2:30 PM\n",
      "dt1:   May 20 2016 1:07 PM\n",
      "dt1:   January 05 2015 3:23 PM\n",
      "dt1:   July 26 2016 10:08 AM\n",
      "dt1:   October 31 2016 12:34 PM\n",
      "dt1:   June 13 2016 10:11 AM\n",
      "dt1:   May 13 2016 5:27 PM\n",
      "dt1:   April 27 2016 11:12 AM\n",
      "dt1:   September 29 2016 8:53 AM\n",
      "dt1:   June 29 2016 9:17 AM\n",
      "dt1:   May 09 2016 2:05 PM\n",
      "dt1:   May 19 2015 3:40 PM\n",
      "dt1:   August 19 2015 1:25 PM\n",
      "dt1:   May 09 2016 8:04 AM\n",
      "dt1:   June 08 2016 7:00 AM\n",
      "dt1:   April 20 2017 1:26 PM\n",
      "dt1:   July 24 2016 10:52 PM\n",
      "dt1:   May 09 2016 12:39 PM\n",
      "dt1:   July 24 2016 8:41 PM\n",
      "dt1:   March 19 2015 1:17 PM\n",
      "dt1:   July 10 2016 2:26 PM\n",
      "dt1:   March 19 2015 11:53 AM\n",
      "dt1:   May 23 2017 6:49 PM\n",
      "dt1:   June 13 2016 11:27 AM\n",
      "dt1:   September 22 2015 12:14 PM Hi Cris \n",
      "dt1:   May 19 2015 3:40 PM\n",
      "dt1:   March 21 2017 10:59 AM\n",
      "dt1:   May 27 2015 1:28 PM\n",
      "dt1:  \n",
      "dt1:   November 30 2016 2:11 PM\n",
      "dt1:   March 13 2017 2:13 PM\n",
      "dt1:   October 07 2016 8:01 AM\n",
      "dt1:   June 13 2016 10:11 AM\n",
      "dt1:   September 09 2016 10:21 AM\n",
      "dt1:   October 17 2016 2:21 PM\n",
      "dt1:   August 01 2016 11:49 AM\n",
      "dt1:  July 15 2015 10:51:06 AM EDT\n",
      "dt1:   October 17 2016 2:33 PM\n",
      "dt1:   November 30 2016 2:10 PM\n",
      "dt1:   May 27 2015 1:23 PM\n",
      "dt1:   April 21 2014 5:28 PM\n",
      "dt1:   September 23 2015 1:32 PM\n",
      "dt1:   March 28 2017 11:22 AM\n",
      "dt1:   February 03 2016 2:32 PM\n",
      "dt1:   September 22 2015 12:14 PM Hi Cris \n",
      "dt1:   March 21 2017 10:59 AM\n",
      "dt1:   June 08 2016 7:00 AM\n",
      "dt1:   February 03 2016 8:41 AM\n",
      "dt1:   June 15 2016 8:44 AM\n",
      "dt1:   January 19 2017 10:00 AM\n",
      "dt1:   August 01 2016 9:16 AM\n",
      "dt1:   March 10 2017 3:40 PM\n",
      "dt1:   July 18 2016 2:39 PM\n",
      "dt1:   September 15 2015 11:20 AM\n",
      "dt1:   August 01 2016 9:43 AM\n",
      "dt1:   June 07 2016 10:32 PM\n",
      "dt1:   July 16 2015 12:49 PM\n",
      "dt1:   September 23 2015 5:55 PM\n",
      "dt1:   June 14 2016 3:43 PM\n",
      "dt1:   September 24 2015 6:42 AM\n",
      "dt1:   January 31 2017 3:18 PM\n",
      "dt1:   July 26 2016 10:07 AM\n",
      "dt1:   June 13 2016 10:01 AM\n",
      "dt1:   June 13 2016 9:53 AM\n",
      "dt1:   October 08 2016 10:41 PM\n",
      "dt1:   September 15 2015 11:20 AM\n",
      "dt1:   July 27 2015 11:16 AM\n",
      "dt1:   May 19 2015 3:40 PM\n",
      "dt1:   June 13 2016 10:01 AM\n",
      "dt1:   July 27 2016 10:43 AM\n",
      "dt1:   April 27 2016 11:12 AM\n",
      "dt1:   September 15 2015 11:20 AM\n",
      "dt1:   February 11 2015 2:27 AM\n",
      "dt1:  April 7 2016 7:34:22 AM EDT\n",
      "dt1:   September 30 2016 11:54 AM\n",
      "dt1:   March 09 2016 4:09 PM\n",
      "dt1:   February 11 2015 11:08 AM\n",
      "dt1:   February 11 2015 11:08 AM\n",
      "dt1:   May 12 2016 5:46 PM\n",
      "dt1:   May 27 2015 1:23 PM\n",
      "dt1:   December 07 2016 10:26 AM\n",
      "dt1:   May 27 2015 1:33 PM\n",
      "dt1:   August 03 2015 9:10 AM\n",
      "dt1:   August 01 2016 9:42 AM\n",
      "dt1:   July 01 2016 12:32 PM\n",
      "dt1:   September 08 2016 11:45 AM\n",
      "dt1:   July 22 2016 5:00 PM\n",
      "dt1:   October 31 2016 12:57 PM\n",
      "dt1:   November 30 2016 2:10 PM\n",
      "dt1:   February 11 2015 12:44 PM\n",
      "dt1:   May 20 2016 1:07 PM\n",
      "dt1:   October 13 2016 3:34 PM\n",
      "dt1:   November 07 2016 3:33 PM\n",
      "dt1:   February 15 2016 4:59 PM\n",
      "dt1:   June 09 2016 10:05 AM\n",
      "dt1:   May 02 2017 9:16 AM\n",
      "dt1:   June 07 2016 10:08 PM\n",
      "dt1:   June 22 2016 2:18 PM\n",
      "dt1:   December 07 2016 10:26 AM\n",
      "dt1:   February 11 2015 9:26 AM\n",
      "dt1:   July 24 2016 10:57 PM\n",
      "dt1:   19 Mar 2015 15:20:50 +0000\n",
      "dt1:  \n",
      "dt1:   December 19 2016 5:19 PM\n",
      "dt1:   June 16 2014 4:06 PM\n",
      "dt1:   January 31 2017 3:18 PM\n",
      "dt1:   June 03 2014 1:36 PM\n",
      "dt1:   February 16 2016 10:18 AM\n",
      "dt1:   July 26 2016 10:08 AM\n",
      "dt1:   August 18 2015 6:21 PM\n",
      "dt1:  \n",
      "dt1:   July 27 2016 10:43 AM\n",
      "dt1:   June 13 2016 11:58 AM\n",
      "dt1:   February 03 2016 2:30 PM\n",
      "dt1:   July 22 2016 5:00 PM\n",
      "dt1:   September 22 2015 12:14 PM Hi Cris \n",
      "dt1:   September 09 2016 10:21 AM\n",
      "dt1:   March 28 2017 11:22 AM\n",
      "dt1:   October 07 2016 1:24 PM\n",
      "dt1:   January 10 2017 4:19 PM\n",
      "dt1:   September 28 2016 2:02:34 PM\n",
      "dt1:  \n",
      "dt1:  \n",
      "dt1:   July 26 2016 10:15 AM\n",
      "dt1:   October 17 2016 2:32 PM\n",
      "dt1:  \n",
      "dt1:   August 01 2016 9:19 AM\n",
      "dt1:   June 13 2016 10:12 AM\n",
      "dt1:   June 14 2016 3:43 PM\n",
      "dt1:   June 09 2016 11:18 PM\n",
      "dt1:   September 23 2015 1:32 PM\n",
      "dt1:   October 08 2016 10:41 PM\n",
      "dt1:   May 09 2016 2:05 PM\n",
      "dt1:   September 13 2016 10:01 AM\n",
      "dt1:   May 17 2016 7:57 AM\n",
      "dt1:   September 08 2016 11:45 AM\n",
      "dt1:   June 02 2014 10:20 AM\n",
      "dt1:   May 27 2015 1:23 PM\n",
      "dt1:   February 24 2015 11:59 AM\n",
      "dt1:   June 14 2016 3:43 PM\n",
      "dt1:   September 24 2015 6:42 AM\n",
      "dt1:   May 12 2016 5:46 PM\n",
      "dt1:  \n",
      "dt1:   July 10 2016 2:26 PM\n",
      "dt1:   April 22 2014 3:34 PM\n",
      "dt1:   February 11 2015 2:27 AM\n",
      "dt1:   May 12 2016 5:46 PM\n",
      "dt1:   June 14 2016 3:43 PM\n",
      "dt1:   June 07 2016 10:08 PM\n",
      "dt1:   July 29 2015 2:33 PM\n",
      "dt1:   June 09 2016 10:08 AM\n",
      "dt1:   April 20 2017 12:26 PM\n",
      "dt1:   June 02 2014 11:02 AM\n",
      "dt1:   February 17 2015 2:12 PM\n",
      "dt1:   September 26 2016 10:28 AM\n",
      "dt1:   March 23 2017 12:07 PM\n",
      "dt1:   July 18 2016 2:39 PM\n",
      "dt1:   May 27 2015 1:23 PM\n",
      "dt1:   June 09 2016 10:08 AM\n",
      "dt1:   July 16 2015 7:10 PM\n",
      "dt1:   October 16 2014 10:34 PM\n",
      "dt1:   May 09 2016 8:04 AM\n",
      "dt1:   November 30 2016 2:09 PM\n",
      "dt1:   May 17 2016 4:06 PM\n",
      "dt1:   March 05 2015 4:52 PM\n",
      "dt1:   July 27 2016 12:28 PM\n",
      "dt1:   May 17 2016 4:06 PM\n",
      "dt1:   July 27 2016 10:43 AM\n",
      "dt1:  \n",
      "dt1:   January 06 2017 11:15 AM\n",
      "dt1:   May 27 2015 1:33 PM\n",
      "dt1:   May 12 2016 5:46 PM\n",
      "dt1:   April 21 2014 5:28 PM\n",
      "dt1:   September 07 2016 7:03 PM\n",
      "dt1:   May 14 2015 10:29 AM\n",
      "dt1:   February 11 2015 9:26 AM\n",
      "dt1:   May 17 2016 4:12 PM\n",
      "dt1:   March 29 2017 8:20 AM\n",
      "dt1:   May 27 2015 1:28 PM\n",
      "dt1:   February 24 2017 12:43 PM\n",
      "dt1:   September 23 2015 5:56 PM\n",
      "dt1:  \n",
      "dt1:   May 13 2016 5:27 PM\n",
      "dt1:   January 05 2017 10:55 AM\n",
      "dt1:   February 17 2015 2:12 PM\n",
      "dt1:   February 10 2017 5:05 PM\n",
      "dt1:   May 03 2016 7:54 AM\n",
      "dt1:  \n",
      "dt1:   January 04 2017 11:27 AM\n",
      "dt1:  \n",
      "dt1:   May 02 2016 1:35 PM\n",
      "dt1:   June 13 2016 10:12 AM\n",
      "dt1:   March 19 2015 11:23 AM\n",
      "dt1:   October 16 2014 11:08 PM\n",
      "dt1:   June 14 2016 3:43 PM\n",
      "dt1:   November 30 2016 2:11 PM\n",
      "dt1:   February 03 2016 8:41 AM\n",
      "dt1:   September 08 2016 11:45 AM\n",
      "dt1:  \n",
      "dt1:  \n",
      "dt1:  \n",
      "dt1:   March 19 2015 1:33 PM\n",
      "dt1:   November 07 2016 3:35 PM\n",
      "dt1:   January 05 2017 10:46 AM\n",
      "dt1:   February 03 2016 2:30 PM\n",
      "dt1:   July 18 2016 2:39 PM\n",
      "dt1:   January 11 2017 7:54 AM\n",
      "dt1:   September 22 2015 12:14 PM Hi Cris \n",
      "dt1:   January 04 2017 11:27 AM\n",
      "dt1:   February 11 2015 10:58 AM\n",
      "dt1:   May 15 2014 5:05 PM\n",
      "dt1:   September 07 2016 7:03 PM\n",
      "dt1:   July 22 2016 3:38 PM\n",
      "dt1:   March 13 2017 2:13 PM\n",
      "dt1:   February 10 2017 9:01 AM\n",
      "dt1:   May 13 2016 5:18 PM\n",
      "dt1:  \n",
      "dt1:   September 23 2015 6:07 PM\n",
      "dt1:   July 18 2016 2:39 PM\n",
      "dt1:   February 03 2016 2:30 PM\n",
      "dt1:   November 30 2016 2:09 PM\n",
      "dt1:   July 29 2015 1:51 PM\n",
      "dt1:   February 11 2015 10:58 AM\n",
      "dt1:   January 09 2017 4:00 PM\n",
      "dt1:   June 15 2016 8:44 AM\n",
      "dt1:   June 29 2016 9:17 AM\n",
      "dt1:   November 30 2016 2:41 PM\n",
      "dt1:   September 23 2015 6:08 PM\n",
      "dt1:   July 27 2015 12:15 PM\n",
      "dt1:   May 02 2016 1:35 PM\n",
      "dt1:   May 13 2014 5:13 PM\n",
      "dt1:   March 19 2015 11:30 AM\n",
      "dt1:   May 19 2015 3:40 PM\n",
      "dt1:   February 11 2015 12:44 PM\n",
      "dt1:   May 17 2016 4:25 PM\n",
      "dt1:  \n",
      "dt1:   January 28 2015 12:23 PM\n",
      "dt1:   November 30 2016 2:41 PM\n",
      "dt1:   November 04 2016 3:59 PM\n",
      "dt1:   February 03 2016 8:41 AM\n",
      "dt1:  \n",
      "dt1:   October 08 2016 5:02 PM\n",
      "dt1:  July 27 2015 11:34:52 AM EDT\n",
      "dt1:   June 13 2016 9:53 AM\n",
      "dt1:   July 27 2016 10:43 AM\n",
      "dt1:   August 01 2016 9:20 AM\n",
      "dt1:   July 27 2016 10:43 AM\n",
      "dt1:   September 23 2015 1:32 PM\n",
      "dt1:  \n",
      "dt1:   September 23 2015 1:32 PM\n",
      "dt1:   July 26 2016 10:15 AM\n",
      "dt1:   October 07 2016 1:24 PM\n",
      "dt1:   August 19 2015 11:49 AM\n",
      "dt1:   June 08 2016 9:56 AM\n",
      "dt1:   October 23 2014 1:49 PM\n",
      "dt1:   April 07 2016 8:01 AM\n",
      "dt1:   May 27 2015 1:23 PM\n",
      "dt1:   January 28 2015 9:46 AM\n",
      "dt1:   May 13 2016 5:27 PM\n",
      "dt1:   May 13 2016 5:27 PM\n",
      "dt1:   October 07 2016 8:01 AM\n",
      "dt1:   September 09 2016 10:25 AM\n",
      "dt1:   October 17 2016 3:12 PM\n",
      "dt1:   May 13 2014 5:13 PM\n",
      "dt1:   September 23 2015 8:47 PM\n",
      "dt1:   February 03 2016 8:41 AM\n",
      "dt1:   July 18 2016 2:39 PM\n",
      "dt1:   July 27 2016 10:43 AM\n",
      "dt1:   July 26 2016 10:18 AM\n",
      "dt1:   May 13 2016 3:13 PM\n",
      "dt1:   September 29 2016 12:00 PM\n",
      "dt1:   January 05 2017 12:49 PM\n",
      "dt1:   May 02 2016 1:35 PM\n",
      "dt1:   June 03 2014 1:36 PM\n",
      "dt1:   February 24 2017 12:48 PM\n",
      "dt1:   January 09 2017 4:00 PM\n",
      "dt1:   May 17 2016 10:26 AM\n",
      "dt1:   May 13 2016 1:53 PM\n",
      "dt1:   March 28 2017 2:26 PM\n",
      "dt1:   January 28 2015 12:23 PM\n",
      "dt1:   August 1 2016 9:43 AM\n",
      "dt1:   September 23 2015 5:55 PM\n",
      "dt1:  \n",
      "dt1:   May 19 2015 3:40 PM\n",
      "dt1:   July 18 2016 2:39 PM\n"
     ]
    }
   ],
   "source": [
    "new_dates = fctlib3.process_dates_new(df)"
   ]
  },
  {
   "cell_type": "code",
   "execution_count": 92,
   "metadata": {
    "tags": []
   },
   "outputs": [
    {
     "data": {
      "application/vnd.jupyter.widget-view+json": {
       "model_id": "2e3771e95efc49bf92af0024e0665e8d",
       "version_major": 2,
       "version_minor": 0
      },
      "text/plain": [
       "  0%|          | 0/338 [00:00<?, ?it/s]"
      ]
     },
     "metadata": {},
     "output_type": "display_data"
    },
    {
     "name": "stdout",
     "output_type": "stream",
     "text": [
      "dt:  Tue, September 22, 2015 12:14 PM  Hi Cris,\n",
      "dt1:  , September 22, 2015 12:14 PM  Hi Cris,\n",
      "dt:  Friday, July 22, 2016 3:38 PM\n",
      "dt1:  , July 22, 2016 3:38 PM\n",
      "dt:  Monday, July 18, 2016 2:39 PM\n",
      "dt1:  , July 18, 2016 2:39 PM\n",
      "dt:  Monday, July 18, 2016 2:39 PM\n",
      "dt1:  , July 18, 2016 2:39 PM\n",
      "dt:  Wednesday, July 27, 2016 10:43 AM\n",
      "dt1:  , July 27, 2016 10:43 AM\n",
      "dt:  Monday, July 18, 2016 2:39 PM\n",
      "dt1:  , July 18, 2016 2:39 PM\n",
      "dt:  Sunday, July 10, 2016 2:26 PM\n",
      "dt1:  , July 10, 2016 2:26 PM\n",
      "dt:  Tuesday, July 26, 2016 10:07 AM\n",
      "dt1:  , July 26, 2016 10:07 AM\n",
      "dt:  Monday, August 01, 2016 9:20 AM\n",
      "dt1:  , August 01, 2016 9:20 AM\n",
      "dt:  Friday, July 01, 2016 12:32 PM\n",
      "dt1:  , July 01, 2016 12:32 PM\n",
      "dt:  Sunday, July 24, 2016 10:57 PM\n",
      "dt1:  , July 24, 2016 10:57 PM\n",
      "dt:  Sunday, July 24, 2016 10:52 PM\n",
      "dt1:  , July 24, 2016 10:52 PM\n",
      "dt:  Sunday, July 24, 2016 8:42 PM\n",
      "dt1:  , July 24, 2016 8:42 PM\n",
      "dt:  Sunday, July 24, 2016 8:41 PM\n",
      "dt1:  , July 24, 2016 8:41 PM\n",
      "dt:  Friday, July 22, 2016 5:00 PM\n",
      "dt1:  , July 22, 2016 5:00 PM\n",
      "dt:  Friday, July 22, 2016 5:00 PM\n",
      "dt1:  , July 22, 2016 5:00 PM\n",
      "dt:  Friday, July 22, 2016 4:58 PM\n",
      "dt1:  , July 22, 2016 4:58 PM\n",
      "dt:  Friday, July 22, 2016 4:58 PM\n",
      "dt1:  , July 22, 2016 4:58 PM\n",
      "dt:  Friday, July 22, 2016 3:38 PM\n",
      "dt1:  , July 22, 2016 3:38 PM\n",
      "dt:  Wednesday, June 29, 2016 9:17 AM\n",
      "dt1:  , June 29, 2016 9:17 AM\n",
      "dt:  Monday, July 18, 2016 2:39 PM\n",
      "dt1:  , July 18, 2016 2:39 PM\n",
      "dt:  Tuesday, July 26, 2016 10:08 AM\n",
      "dt1:  , July 26, 2016 10:08 AM\n",
      "dt:  Tuesday, May 17, 2016 4:25 PM\n",
      "dt1:  , May 17, 2016 4:25 PM\n",
      "dt:  Monday, June 13, 2016 10:01 AM\n",
      "dt1:  , June 13, 2016 10:01 AM\n",
      "dt:  Friday, July 01, 2016 12:32 PM\n",
      "dt1:  , July 01, 2016 12:32 PM\n",
      "dt:  Monday, August 01, 2016 9:19 AM\n",
      "dt1:  , August 01, 2016 9:19 AM\n",
      "dt:  Monday, August 01, 2016 9:16 AM\n",
      "dt1:  , August 01, 2016 9:16 AM\n",
      "dt:  Wednesday, July 27, 2016 12:28 PM\n",
      "dt1:  , July 27, 2016 12:28 PM\n",
      "dt:  Wednesday, July 27, 2016 12:16 PM\n",
      "dt1:  , July 27, 2016 12:16 PM\n",
      "dt:  Wednesday, September 07, 2016 7:03 PM\n",
      "dt1:  , September 07, 2016 7:03 PM\n",
      "dt:  Wednesday, February 03, 2016 8:41 AM\n",
      "dt1:  , February 03, 2016 8:41 AM\n",
      "dt:  Monday, February 15, 2016 4:59 PM\n",
      "dt1:  , February 15, 2016 4:59 PM\n",
      "dt:  Wednesday, July 27, 2016 10:43 AM\n",
      "dt1:  , July 27, 2016 10:43 AM\n",
      "dt:  Wednesday, July 27, 2016 10:43 AM\n",
      "dt1:  , July 27, 2016 10:43 AM\n",
      "dt:  Wednesday, July 27, 2016 10:43 AM\n",
      "dt1:  , July 27, 2016 10:43 AM\n",
      "dt:  Wednesday, July 27, 2016 10:43 AM\n",
      "dt1:  , July 27, 2016 10:43 AM\n",
      "dt:  Wednesday, July 27, 2016 10:43 AM\n",
      "dt1:  , July 27, 2016 10:43 AM\n",
      "dt:  Tuesday, July 26, 2016 10:18 AM\n",
      "dt1:  , July 26, 2016 10:18 AM\n",
      "dt:  Tuesday, July 26, 2016 10:15 AM\n",
      "dt1:  , July 26, 2016 10:15 AM\n",
      "dt:  Tuesday, July 26, 2016 10:08 AM\n",
      "dt1:  , July 26, 2016 10:08 AM\n",
      "dt:  Wednesday, September 23, 2015 1:32 PM\n",
      "dt1:  , September 23, 2015 1:32 PM\n",
      "dt:  April 7, 2016 at 7:34:22 AM EDT\n",
      "dt1:  April 7, 2016 at 7:34:22 AM EDT\n",
      "dt:  Monday, June 13, 2016 10:12 AM\n",
      "dt1:  , June 13, 2016 10:12 AM\n",
      "dt:  Wednesday, July 27, 2016 10:43 AM\n",
      "dt1:  , July 27, 2016 10:43 AM\n",
      "dt:  Monday, June 13, 2016 9:53 AM\n",
      "dt1:  , June 13, 2016 9:53 AM\n",
      "dt:  Monday, August 01, 2016 11:49 AM\n",
      "dt1:  , August 01, 2016 11:49 AM\n",
      "dt:  Monday, August 01, 2016 9:42 AM\n",
      "dt1:  , August 01, 2016 9:42 AM\n",
      "dt:  Thursday, June 09, 2016 11:18 PM\n",
      "dt1:  , June 09, 2016 11:18 PM\n",
      "dt:  Thursday, June 09, 2016 11:18 PM\n",
      "dt1:  , June 09, 2016 11:18 PM\n",
      "dt:  Thursday, June 09, 2016 11:08 AM\n",
      "dt1:  , June 09, 2016 11:08 AM\n",
      "dt:  Thursday, June 09, 2016 10:08 AM\n",
      "dt1:  , June 09, 2016 10:08 AM\n",
      "dt:  Thursday, June 09, 2016 10:08 AM\n",
      "dt1:  , June 09, 2016 10:08 AM\n",
      "dt:  Thursday, June 09, 2016 10:05 AM\n",
      "dt1:  , June 09, 2016 10:05 AM\n",
      "dt:  Wednesday, June 08, 2016 9:56 AM\n",
      "dt1:  , June 08, 2016 9:56 AM\n",
      "dt:  Wednesday, June 08, 2016 9:56 AM\n",
      "dt1:  , June 08, 2016 9:56 AM\n",
      "dt:  Wednesday, June 08, 2016 7:00 AM\n",
      "dt1:  , June 08, 2016 7:00 AM\n",
      "dt:  Wednesday, June 08, 2016 7:00 AM\n",
      "dt1:  , June 08, 2016 7:00 AM\n",
      "dt:  Tuesday, June 07, 2016 10:32 PM\n",
      "dt1:  , June 07, 2016 10:32 PM\n",
      "dt:  Tuesday, June 07, 2016 10:18 PM\n",
      "dt1:  , June 07, 2016 10:18 PM\n",
      "dt:  Monday, August 01, 2016 9:43 AM\n",
      "dt1:  , August 01, 2016 9:43 AM\n",
      "dt:  Wednesday, September 23, 2015 1:32 PM\n",
      "dt1:  , September 23, 2015 1:32 PM\n",
      "dt:  Wednesday, July 27, 2016 10:43 AM\n",
      "dt1:  , July 27, 2016 10:43 AM\n",
      "dt:  Sunday, July 10, 2016 2:26 PM\n",
      "dt1:  , July 10, 2016 2:26 PM\n",
      "dt:  Wednesday, June 29, 2016 9:17 AM\n",
      "dt1:  , June 29, 2016 9:17 AM\n",
      "dt:  Monday, June 13, 2016 10:12 AM\n",
      "dt1:  , June 13, 2016 10:12 AM\n",
      "dt:  Monday, June 13, 2016 9:53 AM\n",
      "dt1:  , June 13, 2016 9:53 AM\n",
      "dt:  Monday, June 13, 2016 10:11 AM\n",
      "dt1:  , June 13, 2016 10:11 AM\n",
      "dt:  Monday, June 13, 2016 10:11 AM\n",
      "dt1:  , June 13, 2016 10:11 AM\n",
      "dt:  Wednesday, June 22, 2016 2:18 PM\n",
      "dt1:  , June 22, 2016 2:18 PM\n",
      "dt:  Wednesday, June 15, 2016 8:44 AM\n",
      "dt1:  , June 15, 2016 8:44 AM\n",
      "dt:  Wednesday, June 15, 2016 8:44 AM\n",
      "dt1:  , June 15, 2016 8:44 AM\n",
      "dt:  Tuesday, June 14, 2016 3:43 PM\n",
      "dt1:  , June 14, 2016 3:43 PM\n",
      "dt:  Tuesday, June 14, 2016 3:43 PM\n",
      "dt1:  , June 14, 2016 3:43 PM\n",
      "dt:  Tuesday, June 14, 2016 3:43 PM\n",
      "dt1:  , June 14, 2016 3:43 PM\n",
      "dt:  Tuesday, June 14, 2016 3:43 PM\n",
      "dt1:  , June 14, 2016 3:43 PM\n",
      "dt:  Tuesday, June 14, 2016 3:43 PM\n",
      "dt1:  , June 14, 2016 3:43 PM\n",
      "dt:  Tuesday, June 14, 2016 3:43 PM\n",
      "dt1:  , June 14, 2016 3:43 PM\n",
      "dt:  Monday, June 13, 2016 11:58 AM\n",
      "dt1:  , June 13, 2016 11:58 AM\n",
      "dt:  Monday, June 13, 2016 11:58 AM\n",
      "dt1:  , June 13, 2016 11:58 AM\n",
      "dt:  Monday, June 13, 2016 11:27 AM\n",
      "dt1:  , June 13, 2016 11:27 AM\n",
      "dt:  Monday, July 18, 2016 2:39 PM\n",
      "dt1:  , July 18, 2016 2:39 PM\n",
      "dt:  Monday, June 13, 2016 11:27 AM\n",
      "dt1:  , June 13, 2016 11:27 AM\n",
      "dt:  Tuesday, May 19, 2015 3:40 PM\n",
      "dt1:  , May 19, 2015 3:40 PM\n",
      "dt:  Wednesday, May 27, 2015 1:23 PM\n",
      "dt1:  , May 27, 2015 1:23 PM\n",
      "dt:  Monday, August 1, 2016 at 9:43 AM\n",
      "dt1:  , August 1, 2016 at 9:43 AM\n",
      "dt:  Friday, October 07, 2016 1:24 PM\n",
      "dt1:  , October 07, 2016 1:24 PM\n",
      "dt:  Thursday, April 20, 2017 1:26 PM\n",
      "dt1:  , April 20, 2017 1:26 PM\n",
      "dt:  Thursday, January 05, 2017 10:56 AM\n",
      "dt1:  , January 05, 2017 10:56 AM\n",
      "dt:  Wednesday, February 01, 2017 3:58 PM\n",
      "dt1:  , February 01, 2017 3:58 PM\n",
      "dt:  Thursday, April 20, 2017 5:08 PM\n",
      "dt1:  , April 20, 2017 5:08 PM\n",
      "dt:  Thursday, January 19, 2017 10:00 AM\n",
      "dt1:  , January 19, 2017 10:00 AM\n",
      "dt:  Wednesday, January 11, 2017 7:54 AM\n",
      "dt1:  , January 11, 2017 7:54 AM\n",
      "dt:  Tuesday, January 10, 2017 4:19 PM\n",
      "dt1:  , January 10, 2017 4:19 PM\n",
      "dt:  Monday, January 09, 2017 4:00 PM\n",
      "dt1:  , January 09, 2017 4:00 PM\n",
      "dt:  Monday, January 09, 2017 4:00 PM\n",
      "dt1:  , January 09, 2017 4:00 PM\n",
      "dt:  Friday, January 06, 2017 11:15 AM\n",
      "dt1:  , January 06, 2017 11:15 AM\n",
      "dt:  Tuesday, January 31, 2017 3:18 PM\n",
      "dt1:  , January 31, 2017 3:18 PM\n",
      "dt:  Thursday, January 05, 2017 12:49 PM\n",
      "dt1:  , January 05, 2017 12:49 PM\n",
      "dt:  Thursday, January 05, 2017 10:56 AM\n",
      "dt1:  , January 05, 2017 10:56 AM\n",
      "dt:  Thursday, January 05, 2017 10:55 AM\n",
      "dt1:  , January 05, 2017 10:55 AM\n",
      "dt:  Thursday, January 05, 2017 10:46 AM\n",
      "dt1:  , January 05, 2017 10:46 AM\n",
      "dt:  Friday, February 24, 2017 12:43 PM\n",
      "dt1:  , February 24, 2017 12:43 PM\n",
      "dt:  Friday, October 07, 2016 8:00 AM\n",
      "dt1:  , October 07, 2016 8:00 AM\n",
      "dt:  Saturday, October 08, 2016 5:02 PM\n",
      "dt1:  , October 08, 2016 5:02 PM\n",
      "dt:  Wednesday, September 07, 2016 7:03 PM\n",
      "dt1:  , September 07, 2016 7:03 PM\n",
      "dt:  Thursday, September 29, 2016 12:00 PM\n",
      "dt1:  , September 29, 2016 12:00 PM\n",
      "dt:  Thursday, April 20, 2017 12:26 PM\n",
      "dt1:  , April 20, 2017 12:26 PM\n",
      "dt:  Wednesday, March 29, 2017 8:20 AM\n",
      "dt1:  , March 29, 2017 8:20 AM\n",
      "dt:  Tuesday, March 28, 2017 11:22 AM\n",
      "dt1:  , March 28, 2017 11:22 AM\n",
      "dt:  Tuesday, March 28, 2017 11:22 AM\n",
      "dt1:  , March 28, 2017 11:22 AM\n",
      "dt:  Thursday, March 23, 2017 12:07 PM\n",
      "dt1:  , March 23, 2017 12:07 PM\n",
      "dt:  Monday, March 13, 2017 2:13 PM\n",
      "dt1:  , March 13, 2017 2:13 PM\n",
      "dt:  Friday, March 10, 2017 3:40 PM\n",
      "dt1:  , March 10, 2017 3:40 PM\n",
      "dt:  Monday, March 13, 2017 2:13 PM\n",
      "dt1:  , March 13, 2017 2:13 PM\n",
      "dt:  Friday, February 10, 2017 9:01 AM\n",
      "dt1:  , February 10, 2017 9:01 AM\n",
      "dt:  Tuesday, March 21, 2017 10:59 AM\n",
      "dt1:  , March 21, 2017 10:59 AM\n",
      "dt:  Friday, February 24, 2017 12:48 PM\n",
      "dt1:  , February 24, 2017 12:48 PM\n",
      "dt:  Monday, December 19, 2016 5:19 PM\n",
      "dt1:  , December 19, 2016 5:19 PM\n",
      "dt:  Wednesday, January 04, 2017 11:27 AM\n",
      "dt1:  , January 04, 2017 11:27 AM\n",
      "dt:  Tuesday, July 26, 2016 at 10:15 AM\n",
      "dt1:  , July 26, 2016 at 10:15 AM\n",
      "dt:  Wednesday, September 23, 2015 at 5:55 PM\n",
      "dt1:  , September 23, 2015 at 5:55 PM\n",
      "dt:  Wednesday, September 23, 2015 at 5:55 PM\n",
      "dt1:  , September 23, 2015 at 5:55 PM\n",
      "dt:  Tuesday, March 21, 2017 10:59 AM\n",
      "dt1:  , March 21, 2017 10:59 AM\n",
      "dt:  Thursday, April 20, 2017 12:26 PM\n",
      "dt1:  , April 20, 2017 12:26 PM\n",
      "dt:  Monday, September 26, 2016 10:28 AM\n",
      "dt1:  , September 26, 2016 10:28 AM\n",
      "dt:  Friday, September 09, 2016 10:25 AM\n",
      "dt1:  , September 09, 2016 10:25 AM\n",
      "dt:  Thursday, January 19, 2017 10:00 AM\n",
      "dt1:  , January 19, 2017 10:00 AM\n",
      "dt:  Thursday, September 08, 2016 11:45 AM\n",
      "dt1:  , September 08, 2016 11:45 AM\n",
      "dt:  Thursday, September 08, 2016 11:45 AM\n",
      "dt1:  , September 08, 2016 11:45 AM\n",
      "dt:  Saturday, October 08, 2016 10:41 PM\n",
      "dt1:  , October 08, 2016 10:41 PM\n",
      "dt:  Saturday, October 08, 2016 10:41 PM\n",
      "dt1:  , October 08, 2016 10:41 PM\n",
      "dt:  Wednesday, October 12, 2016 2:40 PM\n",
      "dt1:  , October 12, 2016 2:40 PM\n",
      "dt:  Wednesday, November 30, 2016 2:11 PM\n",
      "dt1:  , November 30, 2016 2:11 PM\n",
      "dt:  Wednesday, January 04, 2017 11:27 AM\n",
      "dt1:  , January 04, 2017 11:27 AM\n",
      "dt:  Friday, September 09, 2016 10:21 AM\n",
      "dt1:  , September 09, 2016 10:21 AM\n",
      "dt:  Thursday, October 13, 2016 3:34 PM\n",
      "dt1:  , October 13, 2016 3:34 PM\n",
      "dt:  Friday, October 07, 2016 1:24 PM\n",
      "dt1:  , October 07, 2016 1:24 PM\n",
      "dt:  Friday, September 30, 2016 11:54 AM\n",
      "dt1:  , September 30, 2016 11:54 AM\n",
      "dt:  Wednesday, December 07, 2016 10:26 AM\n",
      "dt1:  , December 07, 2016 10:26 AM\n",
      "dt:  Thursday, September 29, 2016 8:53 AM\n",
      "dt1:  , September 29, 2016 8:53 AM\n",
      "dt:  Wednesday, November 30, 2016 2:11 PM\n",
      "dt1:  , November 30, 2016 2:11 PM\n",
      "dt:  Tuesday, September 13, 2016 10:01 AM\n",
      "dt1:  , September 13, 2016 10:01 AM\n",
      "dt:  Friday, September 09, 2016 10:21 AM\n",
      "dt1:  , September 09, 2016 10:21 AM\n",
      "dt:  Friday, October 07, 2016 8:01 AM\n",
      "dt1:  , October 07, 2016 8:01 AM\n",
      "dt:  Friday, October 07, 2016 8:01 AM\n",
      "dt1:  , October 07, 2016 8:01 AM\n",
      "dt:  Friday, September 09, 2016 10:21 AM\n",
      "dt1:  , September 09, 2016 10:21 AM\n",
      "dt:  Wednesday, November 30, 2016 2:09 PM\n",
      "dt1:  , November 30, 2016 2:09 PM\n",
      "dt:  Tuesday, June 07, 2016 10:08 PM\n",
      "dt1:  , June 07, 2016 10:08 PM\n",
      "dt:  Tuesday, August 02, 2016 11:41 AM\n",
      "dt1:  , August 02, 2016 11:41 AM\n",
      "dt:  Tuesday, May 02, 2017 9:16 AM\n",
      "dt1:  , May 02, 2017 9:16 AM\n",
      "dt:  Wednesday, November 30, 2016 2:09 PM\n",
      "dt1:  , November 30, 2016 2:09 PM\n",
      "dt:  Tuesday, June 07, 2016 10:08 PM\n",
      "dt1:  , June 07, 2016 10:08 PM\n",
      "dt:  Monday, July 18, 2016 2:39 PM\n",
      "dt1:  , July 18, 2016 2:39 PM\n",
      "dt:  Wednesday, June 22, 2016 2:18 PM\n",
      "dt1:  , June 22, 2016 2:18 PM\n",
      "dt:  Sunday, July 24, 2016 8:42 PM\n",
      "dt1:  , July 24, 2016 8:42 PM\n",
      "dt:  Friday, October 07, 2016 8:21 AM\n",
      "dt1:  , October 07, 2016 8:21 AM\n",
      "dt:  Wednesday, November 30, 2016 2:41 PM\n",
      "dt1:  , November 30, 2016 2:41 PM\n",
      "dt:  Friday, November 04, 2016 3:59 PM\n",
      "dt1:  , November 04, 2016 3:59 PM\n",
      "dt:  Monday, November 07, 2016 3:35 PM\n",
      "dt1:  , November 07, 2016 3:35 PM\n",
      "dt:  Monday, November 07, 2016 3:33 PM\n",
      "dt1:  , November 07, 2016 3:33 PM\n",
      "dt:  Friday, May 20, 2016 1:07 PM\n",
      "dt1:  , May 20, 2016 1:07 PM\n",
      "dt:  Monday, October 31, 2016 12:57 PM\n",
      "dt1:  , October 31, 2016 12:57 PM\n",
      "dt:  Monday, October 31, 2016 12:34 PM\n",
      "dt1:  , October 31, 2016 12:34 PM\n",
      "dt:  Monday, October 17, 2016 3:12 PM\n",
      "dt1:  , October 17, 2016 3:12 PM\n",
      "dt:  Monday, October 17, 2016 2:33 PM\n",
      "dt1:  , October 17, 2016 2:33 PM\n",
      "dt:  Monday, October 17, 2016 2:32 PM\n",
      "dt1:  , October 17, 2016 2:32 PM\n",
      "dt:  Monday, October 17, 2016 2:21 PM\n",
      "dt1:  , October 17, 2016 2:21 PM\n",
      "dt:  Thursday, September 08, 2016 11:45 AM\n",
      "dt1:  , September 08, 2016 11:45 AM\n",
      "dt:  Friday, June 03, 2016 7:12 AM\n",
      "dt1:  , June 03, 2016 7:12 AM\n",
      "dt:  Tuesday, May 17, 2016 7:57 AM\n",
      "dt1:  , May 17, 2016 7:57 AM\n",
      "dt:  Tuesday, March 28, 2017 2:26 PM\n",
      "dt1:  , March 28, 2017 2:26 PM\n",
      "dt:  Wednesday, February 11, 2015 12:44 PM\n",
      "dt1:  , February 11, 2015 12:44 PM\n",
      "dt:  Wednesday, February 11, 2015 11:08 AM\n",
      "dt1:  , February 11, 2015 11:08 AM\n",
      "dt:  Wednesday, February 11, 2015 9:26 AM\n",
      "dt1:  , February 11, 2015 9:26 AM\n",
      "dt:  Wednesday, February 11, 2015 9:26 AM\n",
      "dt1:  , February 11, 2015 9:26 AM\n",
      "dt:  Wednesday, February 11, 2015 2:27 AM\n",
      "dt1:  , February 11, 2015 2:27 AM\n",
      "dt:  Wednesday, February 11, 2015 2:27 AM\n",
      "dt1:  , February 11, 2015 2:27 AM\n",
      "dt:  Thursday, May 14, 2015 10:29 AM\n",
      "dt1:  , May 14, 2015 10:29 AM\n",
      "dt:  Wednesday, January 28, 2015 12:23 PM\n",
      "dt1:  , January 28, 2015 12:23 PM\n",
      "dt:  Wednesday, January 28, 2015 9:46 AM\n",
      "dt1:  , January 28, 2015 9:46 AM\n",
      "dt:  Monday, January 05, 2015 3:23 PM\n",
      "dt1:  , January 05, 2015 3:23 PM\n",
      "dt:  Thursday, October 23, 2014 1:49 PM\n",
      "dt1:  , October 23, 2014 1:49 PM\n",
      "dt:  Thursday, October 16, 2014 11:08 PM\n",
      "dt1:  , October 16, 2014 11:08 PM\n",
      "dt:  Thursday, October 16, 2014 10:34 PM\n",
      "dt1:  , October 16, 2014 10:34 PM\n",
      "dt:  Thursday, October 16, 2014 7:53 PM\n",
      "dt1:  , October 16, 2014 7:53 PM\n",
      "dt:  Monday, June 16, 2014 4:06 PM\n",
      "dt1:  , June 16, 2014 4:06 PM\n",
      "dt:  Wednesday, January 28, 2015 12:23 PM\n",
      "dt1:  , January 28, 2015 12:23 PM\n",
      "dt:  Wednesday, November 30, 2016 at 2:10 PM\n",
      "dt1:  , November 30, 2016 at 2:10 PM\n",
      "dt:  Wednesday, February 11, 2015 12:44 PM\n",
      "dt1:  , February 11, 2015 12:44 PM\n",
      "dt:  Sunday, February 15, 2015 5:01 PM\n",
      "dt1:  , February 15, 2015 5:01 PM\n",
      "dt:  Tuesday, May 17, 2016 4:06 PM\n",
      "dt1:  , May 17, 2016 4:06 PM\n",
      "dt:  Tuesday, June 03, 2014 1:36 PM\n",
      "dt1:  , June 03, 2014 1:36 PM\n",
      "dt:  Wednesday, February 11, 2015 10:58 AM\n",
      "dt1:  , February 11, 2015 10:58 AM\n",
      "dt:  Tuesday, March 31, 2015 2:01 PM\n",
      "dt1:  , March 31, 2015 2:01 PM\n",
      "dt:  Tuesday, March 31, 2015 2:01 PM\n",
      "dt1:  , March 31, 2015 2:01 PM\n",
      "dt:  Thursday, March 19, 2015 1:33 PM\n",
      "dt1:  , March 19, 2015 1:33 PM\n",
      "dt:  Thursday, March 19, 2015 1:17 PM\n",
      "dt1:  , March 19, 2015 1:17 PM\n",
      "dt:  Thursday, March 19, 2015 11:53 AM\n",
      "dt1:  , March 19, 2015 11:53 AM\n",
      "dt:  Thursday, March 19, 2015 11:30 AM\n",
      "dt1:  , March 19, 2015 11:30 AM\n",
      "dt:  Thursday, March 19, 2015 11:23 AM\n",
      "dt1:  , March 19, 2015 11:23 AM\n",
      "dt:  Thursday, March 19, 2015 11:21 AM\n",
      "dt1:  , March 19, 2015 11:21 AM\n",
      "dt:  Thursday, March 05, 2015 4:52 PM\n",
      "dt1:  , March 05, 2015 4:52 PM\n",
      "dt:  Tuesday, February 24, 2015 11:59 AM\n",
      "dt1:  , February 24, 2015 11:59 AM\n",
      "dt:  Friday, February 20, 2015 9:50 AM\n",
      "dt1:  , February 20, 2015 9:50 AM\n",
      "dt:  Wednesday, February 18, 2015 10:15 AM\n",
      "dt1:  , February 18, 2015 10:15 AM\n",
      "dt:  Tuesday, February 17, 2015 2:12 PM\n",
      "dt1:  , February 17, 2015 2:12 PM\n",
      "dt:  Tuesday, February 17, 2015 2:12 PM\n",
      "dt1:  , February 17, 2015 2:12 PM\n",
      "dt:  Tuesday, June 03, 2014 1:36 PM\n",
      "dt1:  , June 03, 2014 1:36 PM\n",
      "dt:  Monday, June 13, 2016 10:01 AM\n",
      "dt1:  , June 13, 2016 10:01 AM\n",
      "dt:  Tuesday, May 17, 2016 4:12 PM\n",
      "dt1:  , May 17, 2016 4:12 PM\n",
      "dt:  Wednesday, May 27, 2015 1:28 PM\n",
      "dt1:  , May 27, 2015 1:28 PM\n",
      "dt:  Wednesday, November 30, 2016 2:41 PM\n",
      "dt1:  , November 30, 2016 2:41 PM\n",
      "dt:  \n",
      "dt1:  \n",
      "dt:  \n",
      "dt1:  \n",
      "dt:  Monday, June 02, 2014 10:20 AM\n",
      "dt1:  , June 02, 2014 10:20 AM\n",
      "dt:  Tue, September 22, 2015 12:14 PM  Hi Cris,\n",
      "dt1:  , September 22, 2015 12:14 PM  Hi Cris,\n",
      "dt:  \n",
      "dt1:  \n",
      "dt:  \n",
      "dt1:  \n",
      "dt:  \n",
      "dt1:  \n",
      "dt:  \n",
      "dt1:  \n",
      "dt:  Thursday, May 15, 2014 5:05 PM\n",
      "dt1:  , May 15, 2014 5:05 PM\n",
      "dt:  \n",
      "dt1:  \n",
      "dt:  \n",
      "dt1:  \n",
      "dt:  \n",
      "dt1:  \n",
      "dt:  Thursday, September 24, 2015 6:42 AM\n",
      "dt1:  , September 24, 2015 6:42 AM\n",
      "dt:  \n",
      "dt1:  \n",
      "dt:  \n",
      "dt1:  \n",
      "dt:  Thu, 19 Mar 2015 15:20:50 +0000\n",
      "dt1:  , 19 Mar 2015 15:20:50 +0000\n",
      "dt:  \n",
      "dt1:  \n",
      "dt:  \n",
      "dt1:  \n",
      "dt:  \n",
      "dt1:  \n",
      "dt:  \n",
      "dt1:  \n",
      "dt:  \n",
      "dt1:  \n",
      "dt:  \n",
      "dt1:  \n",
      "dt:  \n",
      "dt1:  \n",
      "dt:  Tuesday, May 13, 2014 5:13 PM\n",
      "dt1:  , May 13, 2014 5:13 PM\n",
      "dt:  Wednesday, May 07, 2014 9:33 PM\n",
      "dt1:  , May 07, 2014 9:33 PM\n",
      "dt:  Thursday, May 01, 2014 4:52 PM\n",
      "dt1:  , May 01, 2014 4:52 PM\n",
      "dt:  Tuesday, April 22, 2014 3:34 PM\n",
      "dt1:  , April 22, 2014 3:34 PM\n",
      "dt:  Monday, April 21, 2014 5:28 PM\n",
      "dt1:  , April 21, 2014 5:28 PM\n",
      "dt:  Monday, April 21, 2014 5:28 PM\n",
      "dt1:  , April 21, 2014 5:28 PM\n",
      "dt:  Wednesday, December 07, 2016 10:26 AM\n",
      "dt1:  , December 07, 2016 10:26 AM\n",
      "dt:  Tuesday, January 31, 2017 3:18 PM\n",
      "dt1:  , January 31, 2017 3:18 PM\n",
      "dt:  \n",
      "dt1:  \n",
      "dt:  Tue, September 22, 2015 12:14 PM  Hi Cris,\n",
      "dt1:  , September 22, 2015 12:14 PM  Hi Cris,\n",
      "dt:  \n",
      "dt1:  \n",
      "dt:  \n",
      "dt1:  \n",
      "dt:  Tue, September 22, 2015 12:14 PM  Hi Cris,\n",
      "dt1:  , September 22, 2015 12:14 PM  Hi Cris,\n",
      "dt:  \n",
      "dt1:  \n",
      "dt:  \n",
      "dt1:  \n",
      "dt:  Friday, May 13, 2016 3:13 PM\n",
      "dt1:  , May 13, 2016 3:13 PM\n",
      "dt:  Wednesday, September 07, 2016 7:03 PM\n",
      "dt1:  , September 07, 2016 7:03 PM\n",
      "dt:  Friday, February 10, 2017 5:05 PM\n",
      "dt1:  , February 10, 2017 5:05 PM\n",
      "dt:  Wednesday, February 03, 2016 8:41 AM\n",
      "dt1:  , February 03, 2016 8:41 AM\n",
      "dt:  Wednesday, July 29, 2015 2:33 PM\n",
      "dt1:  , July 29, 2015 2:33 PM\n",
      "dt:  Wednesday, March 09, 2016 4:09 PM\n",
      "dt1:  , March 09, 2016 4:09 PM\n",
      "dt:  Wednesday, February 03, 2016 2:30 PM\n",
      "dt1:  , February 03, 2016 2:30 PM\n",
      "dt:  Tuesday, February 16, 2016 10:18 AM\n",
      "dt1:  , February 16, 2016 10:18 AM\n",
      "dt:  Wednesday, November 30, 2016 at 2:10 PM\n",
      "dt1:  , November 30, 2016 at 2:10 PM\n",
      "dt:  Wednesday, February 03, 2016 2:32 PM\n",
      "dt1:  , February 03, 2016 2:32 PM\n",
      "dt:  Wednesday, February 11, 2015 10:58 AM\n",
      "dt1:  , February 11, 2015 10:58 AM\n",
      "dt:  Wednesday, February 03, 2016 2:30 PM\n",
      "dt1:  , February 03, 2016 2:30 PM\n",
      "dt:  Friday, October 07, 2016 10:30 AM\n",
      "dt1:  , October 07, 2016 10:30 AM\n",
      "dt:  Friday, May 13, 2016 5:27 PM\n",
      "dt1:  , May 13, 2016 5:27 PM\n",
      "dt:  Thursday, May 12, 2016 5:46 PM\n",
      "dt1:  , May 12, 2016 5:46 PM\n",
      "dt:  Monday, May 09, 2016 8:04 AM\n",
      "dt1:  , May 09, 2016 8:04 AM\n",
      "dt:  Monday, May 09, 2016 2:05 PM\n",
      "dt1:  , May 09, 2016 2:05 PM\n",
      "dt:  Wednesday, May 27, 2015 1:23 PM\n",
      "dt1:  , May 27, 2015 1:23 PM\n",
      "dt:  Tuesday, May 03, 2016 7:54 AM\n",
      "dt1:  , May 03, 2016 7:54 AM\n",
      "dt:  Monday, May 02, 2016 1:35 PM\n",
      "dt1:  , May 02, 2016 1:35 PM\n",
      "dt:  Wednesday, February 03, 2016 8:41 AM\n",
      "dt1:  , February 03, 2016 8:41 AM\n",
      "dt:  Monday, May 02, 2016 1:35 PM\n",
      "dt1:  , May 02, 2016 1:35 PM\n",
      "dt:  Wednesday, September 23, 2015 1:32 PM\n",
      "dt1:  , September 23, 2015 1:32 PM\n",
      "dt:  Wednesday, April 27, 2016 11:12 AM\n",
      "dt1:  , April 27, 2016 11:12 AM\n",
      "dt:  Thursday, May 12, 2016 5:46 PM\n",
      "dt1:  , May 12, 2016 5:46 PM\n",
      "dt:  Thursday, May 12, 2016 5:46 PM\n",
      "dt1:  , May 12, 2016 5:46 PM\n",
      "dt:  Tuesday, May 17, 2016 10:26 AM\n",
      "dt1:  , May 17, 2016 10:26 AM\n",
      "dt:  Friday, May 13, 2016 5:27 PM\n",
      "dt1:  , May 13, 2016 5:27 PM\n",
      "dt:  Tuesday, May 19, 2015 3:40 PM\n",
      "dt1:  , May 19, 2015 3:40 PM\n",
      "dt:  Friday, May 13, 2016 5:27 PM\n",
      "dt1:  , May 13, 2016 5:27 PM\n",
      "dt:  Friday, May 13, 2016 5:27 PM\n",
      "dt1:  , May 13, 2016 5:27 PM\n",
      "dt:  Friday, May 20, 2016 1:07 PM\n",
      "dt1:  , May 20, 2016 1:07 PM\n",
      "dt:  Thursday, September 24, 2015 6:42 AM\n",
      "dt1:  , September 24, 2015 6:42 AM\n",
      "dt:  Tuesday, May 17, 2016 4:06 PM\n",
      "dt1:  , May 17, 2016 4:06 PM\n",
      "dt:  Tuesday, May 17, 2016 4:06 PM\n",
      "dt1:  , May 17, 2016 4:06 PM\n",
      "dt:  Monday, May 09, 2016 8:04 AM\n",
      "dt1:  , May 09, 2016 8:04 AM\n",
      "dt:  Tue, September 22, 2015 12:14 PM  Hi Cris,\n",
      "dt1:  , September 22, 2015 12:14 PM  Hi Cris,\n",
      "dt:  Wednesday, February 11, 2015 11:08 AM\n",
      "dt1:  , February 11, 2015 11:08 AM\n",
      "dt:  Thursday, May 14, 2015 11:45 AM\n",
      "dt1:  , May 14, 2015 11:45 AM\n",
      "dt:  Monday, June 02, 2014 11:02 AM\n",
      "dt1:  , June 02, 2014 11:02 AM\n",
      "dt:  Tuesday, May 13, 2014 5:13 PM\n",
      "dt1:  , May 13, 2014 5:13 PM\n",
      "dt:  Friday, May 13, 2016 5:18 PM\n",
      "dt1:  , May 13, 2016 5:18 PM\n",
      "dt:  Friday, May 13, 2016 1:53 PM\n",
      "dt1:  , May 13, 2016 1:53 PM\n",
      "dt:  Wednesday, September 23, 2015 8:47 PM\n",
      "dt1:  , September 23, 2015 8:47 PM\n",
      "dt:  Thursday, April 07, 2016 8:01 AM\n",
      "dt1:  , April 07, 2016 8:01 AM\n",
      "dt:  Tuesday, May 19, 2015 3:40 PM\n",
      "dt1:  , May 19, 2015 3:40 PM\n",
      "dt:  Monday, May 02, 2016 1:35 PM\n",
      "dt1:  , May 02, 2016 1:35 PM\n",
      "dt:  Wednesday, September 23, 2015 1:32 PM\n",
      "dt1:  , September 23, 2015 1:32 PM\n",
      "dt:  Wednesday, May 27, 2015 1:28 PM\n",
      "dt1:  , May 27, 2015 1:28 PM\n",
      "dt:  Wednesday, May 27, 2015 1:33 PM\n",
      "dt1:  , May 27, 2015 1:33 PM\n",
      "dt:  Tuesday, May 23, 2017 6:49 PM\n",
      "dt1:  , May 23, 2017 6:49 PM\n",
      "dt:  Wednesday, February 03, 2016 8:41 AM\n",
      "dt1:  , February 03, 2016 8:41 AM\n",
      "dt:  Wednesday, July 29, 2015 1:51 PM\n",
      "dt1:  , July 29, 2015 1:51 PM\n",
      "dt:  Monday, July 27, 2015 12:15 PM\n",
      "dt1:  , July 27, 2015 12:15 PM\n",
      "dt:  Wednesday, May 27, 2015 1:28 PM\n",
      "dt1:  , May 27, 2015 1:28 PM\n",
      "dt:  Monday, July 27, 2015 11:16 AM\n",
      "dt1:  , July 27, 2015 11:16 AM\n",
      "dt:  Thursday, July 16, 2015 7:10 PM\n",
      "dt1:  , July 16, 2015 7:10 PM\n",
      "dt:  Thursday, July 16, 2015 12:49 PM\n",
      "dt1:  , July 16, 2015 12:49 PM\n",
      "dt:  Wednesday, May 27, 2015 1:28 PM\n",
      "dt1:  , May 27, 2015 1:28 PM\n",
      "dt:  Wednesday, May 27, 2015 1:23 PM\n",
      "dt1:  , May 27, 2015 1:23 PM\n",
      "dt:  Tuesday, May 19, 2015 3:40 PM\n",
      "dt1:  , May 19, 2015 3:40 PM\n",
      "dt:  Wednesday, February 03, 2016 2:30 PM\n",
      "dt1:  , February 03, 2016 2:30 PM\n",
      "dt:  Tuesday, September 15, 2015 11:20 AM\n",
      "dt1:  , September 15, 2015 11:20 AM\n",
      "dt:  Tuesday, September 15, 2015 11:20 AM\n",
      "dt1:  , September 15, 2015 11:20 AM\n",
      "dt:  Wednesday, August 19, 2015 1:25 PM\n",
      "dt1:  , August 19, 2015 1:25 PM\n",
      "dt:  Wednesday, February 03, 2016 2:30 PM\n",
      "dt1:  , February 03, 2016 2:30 PM\n",
      "dt:  Thursday, May 12, 2016 5:46 PM\n",
      "dt1:  , May 12, 2016 5:46 PM\n",
      "dt:  Monday, August 03, 2015 9:10 AM\n",
      "dt1:  , August 03, 2015 9:10 AM\n",
      "dt:  Wednesday, April 27, 2016 11:12 AM\n",
      "dt1:  , April 27, 2016 11:12 AM\n",
      "dt:  Wednesday, May 27, 2015 1:33 PM\n",
      "dt1:  , May 27, 2015 1:33 PM\n",
      "dt:  July 15, 2015 at 10:51:06 AM EDT\n",
      "dt1:  July 15, 2015 at 10:51:06 AM EDT\n",
      "dt:  July 27, 2015 at 11:34:52 AM EDT\n",
      "dt1:  July 27, 2015 at 11:34:52 AM EDT\n",
      "dt:  August 1, 2015 at 1:59:26 AM EDT\n",
      "dt1:  August 1, 2015 at 1:59:26 AM EDT\n",
      "dt:  Monday, May 09, 2016 12:39 PM\n",
      "dt1:  , May 09, 2016 12:39 PM\n",
      "dt:  Monday, May 09, 2016 2:05 PM\n",
      "dt1:  , May 09, 2016 2:05 PM\n",
      "dt:  Tuesday, May 19, 2015 3:40 PM\n",
      "dt1:  , May 19, 2015 3:40 PM\n",
      "dt:  Tuesday, September 15, 2015 11:20 AM\n",
      "dt1:  , September 15, 2015 11:20 AM\n",
      "dt:  Wednesday, August 19, 2015 11:49 AM\n",
      "dt1:  , August 19, 2015 11:49 AM\n",
      "dt:  Wednesday, September 23, 2015 6:08 PM\n",
      "dt1:  , September 23, 2015 6:08 PM\n",
      "dt:  Wednesday, May 27, 2015 1:23 PM\n",
      "dt1:  , May 27, 2015 1:23 PM\n",
      "dt:  Wednesday, September 23, 2015 6:07 PM\n",
      "dt1:  , September 23, 2015 6:07 PM\n",
      "dt:  Wednesday, May 27, 2015 1:23 PM\n",
      "dt1:  , May 27, 2015 1:23 PM\n",
      "dt:  Wednesday, September 23, 2015 5:56 PM\n",
      "dt1:  , September 23, 2015 5:56 PM\n",
      "dt:  Tuesday, August 18, 2015 6:21 PM\n",
      "dt1:  , August 18, 2015 6:21 PM\n",
      "dt:  Wednesday, September 23, 2015 1:32 PM\n",
      "dt1:  , September 23, 2015 1:32 PM\n",
      "dt:  Tuesday, September 15, 2015 11:20 AM\n",
      "dt1:  , September 15, 2015 11:20 AM\n",
      "dt:  Tuesday, September 15, 2015 11:20 AM\n",
      "dt1:  , September 15, 2015 11:20 AM\n",
      "dt:  Wednesday, September 28, 2016 2:02:34 PM\n",
      "dt1:  , September 28, 2016 2:02:34 PM\n"
     ]
    }
   ],
   "source": [
    "df[\"Sent2\"] = new_dates\n",
    "df = df.sort_values(by=\"Sent2\")\n",
    "# df_redacted = df.copy()\n",
    "df_old = df.copy()\n",
    "\n",
    "# df.to_csv(\"output2_time_identified.csv\", header=True)"
   ]
  },
  {
   "cell_type": "code",
   "execution_count": 84,
   "metadata": {
    "tags": []
   },
   "outputs": [],
   "source": [
    "date2 = pd.to_datetime(df['Sent2'].values.tolist())\n",
    "idx = date2 > datetime(2000,1,1)\n",
    "df2 = df.iloc[idx]\n",
    "df2 = df2.reset_index(drop=True)\n",
    "# df2.to_csv('output3_with_good_time.csv')"
   ]
  },
  {
   "cell_type": "code",
   "execution_count": 69,
   "metadata": {},
   "outputs": [
    {
     "data": {
      "text/html": [
       "<div>\n",
       "<style scoped>\n",
       "    .dataframe tbody tr th:only-of-type {\n",
       "        vertical-align: middle;\n",
       "    }\n",
       "\n",
       "    .dataframe tbody tr th {\n",
       "        vertical-align: top;\n",
       "    }\n",
       "\n",
       "    .dataframe thead th {\n",
       "        text-align: right;\n",
       "    }\n",
       "</style>\n",
       "<table border=\"1\" class=\"dataframe\">\n",
       "  <thead>\n",
       "    <tr style=\"text-align: right;\">\n",
       "      <th></th>\n",
       "      <th>Id</th>\n",
       "      <th>From</th>\n",
       "      <th>Sent</th>\n",
       "      <th>To</th>\n",
       "      <th>CC</th>\n",
       "      <th>Subject</th>\n",
       "      <th>Attachments</th>\n",
       "      <th>Importance</th>\n",
       "      <th>Body</th>\n",
       "      <th>FromFile</th>\n",
       "      <th>FileLineNo</th>\n",
       "      <th>Sent2</th>\n",
       "    </tr>\n",
       "  </thead>\n",
       "  <tbody>\n",
       "    <tr>\n",
       "      <th>0</th>\n",
       "      <td>1</td>\n",
       "      <td>['Bowen, Dan']</td>\n",
       "      <td>['Monday, April 21, 2014 5:28 PM']</td>\n",
       "      <td>[\"'electricalsrvs@aol.com'\"]</td>\n",
       "      <td>['Ash, Richard']</td>\n",
       "      <td>['maddox building']</td>\n",
       "      <td>[]</td>\n",
       "      <td>[]</td>\n",
       "      <td>['', 'Mr. Howell, per our conversation this af...</td>\n",
       "      <td>23-11-PCSgmail2014-2017.txt</td>\n",
       "      <td>57.0</td>\n",
       "      <td>2014-04-21 17:28:00</td>\n",
       "    </tr>\n",
       "    <tr>\n",
       "      <th>1</th>\n",
       "      <td>3</td>\n",
       "      <td>['Bowen, Dan']</td>\n",
       "      <td>['Monday, April 21, 2014 5:28 PM']</td>\n",
       "      <td>[\"'electricalsrvs@aol.com'\"]</td>\n",
       "      <td>['Ash, Richard']</td>\n",
       "      <td>['maddox building']</td>\n",
       "      <td>[]</td>\n",
       "      <td>[]</td>\n",
       "      <td>['', 'Mr. Howell, per our conversation this af...</td>\n",
       "      <td>23-11-PCSgmail2014-2017.txt</td>\n",
       "      <td>113.0</td>\n",
       "      <td>2014-04-21 17:28:00</td>\n",
       "    </tr>\n",
       "    <tr>\n",
       "      <th>2</th>\n",
       "      <td>0</td>\n",
       "      <td>['Bowen, Dan']</td>\n",
       "      <td>['Tuesday, April 22, 2014 3:34 PM']</td>\n",
       "      <td>[\"'paigecartersmith@gmail.com'\"]</td>\n",
       "      <td>[\"'electricalsrvs@aol.com'; Ash, Richard\"]</td>\n",
       "      <td>['902 NORTH ADAMS ST']</td>\n",
       "      <td>['maddox building (5.37 KB)']</td>\n",
       "      <td>[]</td>\n",
       "      <td>['', 'Ms. Smith, Mr. Eddie Johnson had Ms. Cam...</td>\n",
       "      <td>23-11-PCSgmail2014-2017.txt</td>\n",
       "      <td>26.0</td>\n",
       "      <td>2014-04-22 15:34:00</td>\n",
       "    </tr>\n",
       "    <tr>\n",
       "      <th>3</th>\n",
       "      <td>2</td>\n",
       "      <td>['Bowen, Dan']</td>\n",
       "      <td>['Thursday, May 01, 2014 4:52 PM']</td>\n",
       "      <td>[\"'electricalsrvs@aol.com'; paigecartersmith@g...</td>\n",
       "      <td>['Ash, Richard; Drose, Tina; Lockwood, Kenny']</td>\n",
       "      <td>['FW: maddox building']</td>\n",
       "      <td>[]</td>\n",
       "      <td>[]</td>\n",
       "      <td>['', 'Mr. Howell, The email below was the last...</td>\n",
       "      <td>23-11-PCSgmail2014-2017.txt</td>\n",
       "      <td>81.0</td>\n",
       "      <td>2014-05-01 16:52:00</td>\n",
       "    </tr>\n",
       "    <tr>\n",
       "      <th>4</th>\n",
       "      <td>4</td>\n",
       "      <td>['Gail Stansberry-Ziffer']</td>\n",
       "      <td>['Wednesday, May 07, 2014 9:33 PM']</td>\n",
       "      <td>['Karen Wendland; Vince Dix, Ph.D.; Jerome Nov...</td>\n",
       "      <td>[]</td>\n",
       "      <td>['Hope you can join us']</td>\n",
       "      <td>[]</td>\n",
       "      <td>[]</td>\n",
       "      <td>['', 'Tomorrow morning Gil and I will be on-ai...</td>\n",
       "      <td>23-11-PCSgmail2014-2017.txt</td>\n",
       "      <td>155.0</td>\n",
       "      <td>2014-05-07 21:33:00</td>\n",
       "    </tr>\n",
       "    <tr>\n",
       "      <th>...</th>\n",
       "      <td>...</td>\n",
       "      <td>...</td>\n",
       "      <td>...</td>\n",
       "      <td>...</td>\n",
       "      <td>...</td>\n",
       "      <td>...</td>\n",
       "      <td>...</td>\n",
       "      <td>...</td>\n",
       "      <td>...</td>\n",
       "      <td>...</td>\n",
       "      <td>...</td>\n",
       "      <td>...</td>\n",
       "    </tr>\n",
       "    <tr>\n",
       "      <th>300</th>\n",
       "      <td>309</td>\n",
       "      <td>['Paige Carter-Smith']</td>\n",
       "      <td>['Thursday, April 20, 2017 12:26 PM']</td>\n",
       "      <td>['edward.kring@talgov.com']</td>\n",
       "      <td>['TDIA Cell']</td>\n",
       "      <td>['']</td>\n",
       "      <td>['Trolley award Entry (2).docx']</td>\n",
       "      <td>[]</td>\n",
       "      <td>['', 'Research/Situation Analysis: Oh what joy...</td>\n",
       "      <td>23-11-PCSgmail2014-2017.txt</td>\n",
       "      <td>18392.0</td>\n",
       "      <td>2017-04-20 12:26:00</td>\n",
       "    </tr>\n",
       "    <tr>\n",
       "      <th>301</th>\n",
       "      <td>306</td>\n",
       "      <td>['Kring, Edward']</td>\n",
       "      <td>['Thursday, April 20, 2017 1:26 PM']</td>\n",
       "      <td>['Paige Carter-Smith']</td>\n",
       "      <td>['TDIA Cell']</td>\n",
       "      <td>['RE:']</td>\n",
       "      <td>['Trolley award Entry 2017.docx']</td>\n",
       "      <td>[]</td>\n",
       "      <td>['Gracias! Please send me any additions to the...</td>\n",
       "      <td>23-11-PCSgmail2014-2017.txt</td>\n",
       "      <td>18152.0</td>\n",
       "      <td>2017-04-20 13:26:00</td>\n",
       "    </tr>\n",
       "    <tr>\n",
       "      <th>302</th>\n",
       "      <td>308</td>\n",
       "      <td>['Paige Carter-Smith']</td>\n",
       "      <td>['Thursday, April 20, 2017 5:08 PM']</td>\n",
       "      <td>['edward.kring@talgov.com']</td>\n",
       "      <td>[]</td>\n",
       "      <td>['']</td>\n",
       "      <td>['Trolley award Entry 2017.docx']</td>\n",
       "      <td>[]</td>\n",
       "      <td>['', 'Research/Situation Analysis: Oh what joy...</td>\n",
       "      <td>23-11-PCSgmail2014-2017.txt</td>\n",
       "      <td>18307.0</td>\n",
       "      <td>2017-04-20 17:08:00</td>\n",
       "    </tr>\n",
       "    <tr>\n",
       "      <th>303</th>\n",
       "      <td>310</td>\n",
       "      <td>['German, Michael']</td>\n",
       "      <td>['Tuesday, May 02, 2017 9:16 AM']</td>\n",
       "      <td>[\"Amanda Sauer; catkins@crowncars.bm; jan.bubs...</td>\n",
       "      <td>[]</td>\n",
       "      <td>['E-mail']</td>\n",
       "      <td>[]</td>\n",
       "      <td>[]</td>\n",
       "      <td>['Hello all,', 'We are experiencing some e-mai...</td>\n",
       "      <td>23-11-PCSgmail2014-2017.txt</td>\n",
       "      <td>18415.0</td>\n",
       "      <td>2017-05-02 09:16:00</td>\n",
       "    </tr>\n",
       "    <tr>\n",
       "      <th>304</th>\n",
       "      <td>311</td>\n",
       "      <td>['accounting@lewispm.com']</td>\n",
       "      <td>['Tuesday, May 23, 2017 6:49 PM']</td>\n",
       "      <td>['Paige Carter-Smith', 'Date Governance Servic...</td>\n",
       "      <td>['paigecartersmith@gmail.com; scott.maddox@tal...</td>\n",
       "      <td>['Adams Street Lofts COA: Funds are required']</td>\n",
       "      <td>['Statements - Units owned by Governance Svcs ...</td>\n",
       "      <td>[]</td>\n",
       "      <td>['Date', 'Governance Services, LLC', '5/23/201...</td>\n",
       "      <td>23-11-PCSgmail2014-2017.txt</td>\n",
       "      <td>20554.0</td>\n",
       "      <td>2017-05-23 18:49:00</td>\n",
       "    </tr>\n",
       "  </tbody>\n",
       "</table>\n",
       "<p>305 rows × 12 columns</p>\n",
       "</div>"
      ],
      "text/plain": [
       "      Id                        From                                   Sent  \\\n",
       "0      1              ['Bowen, Dan']     ['Monday, April 21, 2014 5:28 PM']   \n",
       "1      3              ['Bowen, Dan']     ['Monday, April 21, 2014 5:28 PM']   \n",
       "2      0              ['Bowen, Dan']    ['Tuesday, April 22, 2014 3:34 PM']   \n",
       "3      2              ['Bowen, Dan']     ['Thursday, May 01, 2014 4:52 PM']   \n",
       "4      4  ['Gail Stansberry-Ziffer']    ['Wednesday, May 07, 2014 9:33 PM']   \n",
       "..   ...                         ...                                    ...   \n",
       "300  309      ['Paige Carter-Smith']  ['Thursday, April 20, 2017 12:26 PM']   \n",
       "301  306           ['Kring, Edward']   ['Thursday, April 20, 2017 1:26 PM']   \n",
       "302  308      ['Paige Carter-Smith']   ['Thursday, April 20, 2017 5:08 PM']   \n",
       "303  310         ['German, Michael']      ['Tuesday, May 02, 2017 9:16 AM']   \n",
       "304  311  ['accounting@lewispm.com']      ['Tuesday, May 23, 2017 6:49 PM']   \n",
       "\n",
       "                                                    To  \\\n",
       "0                         [\"'electricalsrvs@aol.com'\"]   \n",
       "1                         [\"'electricalsrvs@aol.com'\"]   \n",
       "2                     [\"'paigecartersmith@gmail.com'\"]   \n",
       "3    [\"'electricalsrvs@aol.com'; paigecartersmith@g...   \n",
       "4    ['Karen Wendland; Vince Dix, Ph.D.; Jerome Nov...   \n",
       "..                                                 ...   \n",
       "300                        ['edward.kring@talgov.com']   \n",
       "301                             ['Paige Carter-Smith']   \n",
       "302                        ['edward.kring@talgov.com']   \n",
       "303  [\"Amanda Sauer; catkins@crowncars.bm; jan.bubs...   \n",
       "304  ['Paige Carter-Smith', 'Date Governance Servic...   \n",
       "\n",
       "                                                    CC  \\\n",
       "0                                     ['Ash, Richard']   \n",
       "1                                     ['Ash, Richard']   \n",
       "2           [\"'electricalsrvs@aol.com'; Ash, Richard\"]   \n",
       "3       ['Ash, Richard; Drose, Tina; Lockwood, Kenny']   \n",
       "4                                                   []   \n",
       "..                                                 ...   \n",
       "300                                      ['TDIA Cell']   \n",
       "301                                      ['TDIA Cell']   \n",
       "302                                                 []   \n",
       "303                                                 []   \n",
       "304  ['paigecartersmith@gmail.com; scott.maddox@tal...   \n",
       "\n",
       "                                            Subject  \\\n",
       "0                               ['maddox building']   \n",
       "1                               ['maddox building']   \n",
       "2                            ['902 NORTH ADAMS ST']   \n",
       "3                           ['FW: maddox building']   \n",
       "4                          ['Hope you can join us']   \n",
       "..                                              ...   \n",
       "300                                            ['']   \n",
       "301                                         ['RE:']   \n",
       "302                                            ['']   \n",
       "303                                      ['E-mail']   \n",
       "304  ['Adams Street Lofts COA: Funds are required']   \n",
       "\n",
       "                                           Attachments Importance  \\\n",
       "0                                                   []         []   \n",
       "1                                                   []         []   \n",
       "2                        ['maddox building (5.37 KB)']         []   \n",
       "3                                                   []         []   \n",
       "4                                                   []         []   \n",
       "..                                                 ...        ...   \n",
       "300                   ['Trolley award Entry (2).docx']         []   \n",
       "301                  ['Trolley award Entry 2017.docx']         []   \n",
       "302                  ['Trolley award Entry 2017.docx']         []   \n",
       "303                                                 []         []   \n",
       "304  ['Statements - Units owned by Governance Svcs ...         []   \n",
       "\n",
       "                                                  Body  \\\n",
       "0    ['', 'Mr. Howell, per our conversation this af...   \n",
       "1    ['', 'Mr. Howell, per our conversation this af...   \n",
       "2    ['', 'Ms. Smith, Mr. Eddie Johnson had Ms. Cam...   \n",
       "3    ['', 'Mr. Howell, The email below was the last...   \n",
       "4    ['', 'Tomorrow morning Gil and I will be on-ai...   \n",
       "..                                                 ...   \n",
       "300  ['', 'Research/Situation Analysis: Oh what joy...   \n",
       "301  ['Gracias! Please send me any additions to the...   \n",
       "302  ['', 'Research/Situation Analysis: Oh what joy...   \n",
       "303  ['Hello all,', 'We are experiencing some e-mai...   \n",
       "304  ['Date', 'Governance Services, LLC', '5/23/201...   \n",
       "\n",
       "                        FromFile  FileLineNo               Sent2  \n",
       "0    23-11-PCSgmail2014-2017.txt        57.0 2014-04-21 17:28:00  \n",
       "1    23-11-PCSgmail2014-2017.txt       113.0 2014-04-21 17:28:00  \n",
       "2    23-11-PCSgmail2014-2017.txt        26.0 2014-04-22 15:34:00  \n",
       "3    23-11-PCSgmail2014-2017.txt        81.0 2014-05-01 16:52:00  \n",
       "4    23-11-PCSgmail2014-2017.txt       155.0 2014-05-07 21:33:00  \n",
       "..                           ...         ...                 ...  \n",
       "300  23-11-PCSgmail2014-2017.txt     18392.0 2017-04-20 12:26:00  \n",
       "301  23-11-PCSgmail2014-2017.txt     18152.0 2017-04-20 13:26:00  \n",
       "302  23-11-PCSgmail2014-2017.txt     18307.0 2017-04-20 17:08:00  \n",
       "303  23-11-PCSgmail2014-2017.txt     18415.0 2017-05-02 09:16:00  \n",
       "304  23-11-PCSgmail2014-2017.txt     20554.0 2017-05-23 18:49:00  \n",
       "\n",
       "[305 rows x 12 columns]"
      ]
     },
     "execution_count": 69,
     "metadata": {},
     "output_type": "execute_result"
    }
   ],
   "source": [
    "df2"
   ]
  },
  {
   "cell_type": "code",
   "execution_count": 66,
   "metadata": {
    "collapsed": true,
    "jupyter": {
     "outputs_hidden": true
    }
   },
   "outputs": [
    {
     "data": {
      "text/html": [
       "<div>\n",
       "<style scoped>\n",
       "    .dataframe tbody tr th:only-of-type {\n",
       "        vertical-align: middle;\n",
       "    }\n",
       "\n",
       "    .dataframe tbody tr th {\n",
       "        vertical-align: top;\n",
       "    }\n",
       "\n",
       "    .dataframe thead th {\n",
       "        text-align: right;\n",
       "    }\n",
       "</style>\n",
       "<table border=\"1\" class=\"dataframe\">\n",
       "  <thead>\n",
       "    <tr style=\"text-align: right;\">\n",
       "      <th></th>\n",
       "      <th>From</th>\n",
       "      <th>Sent</th>\n",
       "      <th>To</th>\n",
       "      <th>CC</th>\n",
       "      <th>Subject</th>\n",
       "      <th>Attachments</th>\n",
       "      <th>Importance</th>\n",
       "      <th>Body</th>\n",
       "      <th>Sent2</th>\n",
       "    </tr>\n",
       "  </thead>\n",
       "  <tbody>\n",
       "    <tr>\n",
       "      <th>0</th>\n",
       "      <td>['Heiter, Deborah [mailto:Deborah.Heiter@talgo...</td>\n",
       "      <td>['Friday, January 20, 2012 4:41 PM']</td>\n",
       "      <td>[\"Behenna, Bill; Branch, Cathy; Burn, Paula; C...</td>\n",
       "      <td>[]</td>\n",
       "      <td>['Economic Development Target Issue Meeting']</td>\n",
       "      <td>[]</td>\n",
       "      <td>[]</td>\n",
       "      <td>['', 'Deborah L. Heiter', 'Administrative Spec...</td>\n",
       "      <td>2012-01-20 16:41:00</td>\n",
       "    </tr>\n",
       "    <tr>\n",
       "      <th>1</th>\n",
       "      <td>['Beth Kirkland [mailto:bkirkland@taledc.com]']</td>\n",
       "      <td>['Monday, January 23, 2012 9:32 AM']</td>\n",
       "      <td>[\"'llaubscher@eflorida.com'\"]</td>\n",
       "      <td>[\"brook.pace@deo.myflorida.com; Kim Rivers (ki...</td>\n",
       "      <td>['City of Tallahassee meeting regarding SBCI']</td>\n",
       "      <td>[]</td>\n",
       "      <td>[]</td>\n",
       "      <td>['Louis,', 'Thank you for meeting with us in F...</td>\n",
       "      <td>2012-01-23 09:32:00</td>\n",
       "    </tr>\n",
       "    <tr>\n",
       "      <th>2</th>\n",
       "      <td>['Wiebler, Brian T.']</td>\n",
       "      <td>['Monday, February 27, 2012 10:04 AM']</td>\n",
       "      <td>[]</td>\n",
       "      <td>[]</td>\n",
       "      <td>['Rural Density']</td>\n",
       "      <td>[]</td>\n",
       "      <td>[]</td>\n",
       "      <td>['']</td>\n",
       "      <td>2012-02-27 10:04:00</td>\n",
       "    </tr>\n",
       "    <tr>\n",
       "      <th>3</th>\n",
       "      <td>['Beaudoin, Mark']</td>\n",
       "      <td>['Monday, March 05, 2012 11:33 AM']</td>\n",
       "      <td>['Corey, Adam']</td>\n",
       "      <td>['English, Jim; Coe, Torn; Bell?ower, Adrienne']</td>\n",
       "      <td>['Sidewalk Cafe Agreement']</td>\n",
       "      <td>[]</td>\n",
       "      <td>[]</td>\n",
       "      <td>['', 'Adam, thanks for the update regarding th...</td>\n",
       "      <td>2012-03-05 11:33:00</td>\n",
       "    </tr>\n",
       "    <tr>\n",
       "      <th>4</th>\n",
       "      <td>['Wiebler, Brian T.']</td>\n",
       "      <td>['Tuesday, March 27, 2012 3:59 PM']</td>\n",
       "      <td>['Wiebler, Brian T.']</td>\n",
       "      <td>[]</td>\n",
       "      <td>['Rural Density Comprehensive Plan Text Amendm...</td>\n",
       "      <td>[]</td>\n",
       "      <td>[]</td>\n",
       "      <td>['', 'This is a reminder of the open house eve...</td>\n",
       "      <td>2012-03-27 15:59:00</td>\n",
       "    </tr>\n",
       "    <tr>\n",
       "      <th>...</th>\n",
       "      <td>...</td>\n",
       "      <td>...</td>\n",
       "      <td>...</td>\n",
       "      <td>...</td>\n",
       "      <td>...</td>\n",
       "      <td>...</td>\n",
       "      <td>...</td>\n",
       "      <td>...</td>\n",
       "      <td>...</td>\n",
       "    </tr>\n",
       "    <tr>\n",
       "      <th>13085</th>\n",
       "      <td>['Campbell, Stacey']</td>\n",
       "      <td>['Friday, June 23, 2017 1:27 PM']</td>\n",
       "      <td>['Ryan Grindler']</td>\n",
       "      <td>['Donahoe, Judy']</td>\n",
       "      <td>['RE: Request: Construction Warranties']</td>\n",
       "      <td>[]</td>\n",
       "      <td>[]</td>\n",
       "      <td>['Perfect, thank you.']</td>\n",
       "      <td>2017-06-23 13:27:00</td>\n",
       "    </tr>\n",
       "    <tr>\n",
       "      <th>13086</th>\n",
       "      <td>['Gil Ziffer [mailto:gil@ziffberry.com]']</td>\n",
       "      <td>['Wednesday, June 28, 2017 3:32 PM']</td>\n",
       "      <td>['Branch, Cathy &lt;Cathy.Branch@talgov.com&gt;']</td>\n",
       "      <td>[]</td>\n",
       "      <td>['Fwd: 2013 AIP Forum White Paper_final (3).pdf']</td>\n",
       "      <td>[]</td>\n",
       "      <td>[]</td>\n",
       "      <td>['', 'Gil Ziffer', '(850) 509-7886']</td>\n",
       "      <td>2017-06-28 15:32:00</td>\n",
       "    </tr>\n",
       "    <tr>\n",
       "      <th>13087</th>\n",
       "      <td>['Gil Ziffer [mailto:gil@ziffberry.com]']</td>\n",
       "      <td>['Thursday, June 29, 2017 4:41 AM']</td>\n",
       "      <td>['Branch, Cathy &lt;Cathy.Branch@talgov.com&gt;']</td>\n",
       "      <td>[]</td>\n",
       "      <td>['Fwd: 2013 AIP Forum White Paper_final (3).pdf']</td>\n",
       "      <td>[]</td>\n",
       "      <td>[]</td>\n",
       "      <td>['', 'Subpoena']</td>\n",
       "      <td>2017-06-29 04:41:00</td>\n",
       "    </tr>\n",
       "    <tr>\n",
       "      <th>13088</th>\n",
       "      <td>['Gil Ziffer [mailto:gil@ziffberry.com]']</td>\n",
       "      <td>['Thursday, June 29, 2017 5:35 AM']</td>\n",
       "      <td>['Branch, Cathy &lt;Cathy.Branch@talgov.com&gt;']</td>\n",
       "      <td>[]</td>\n",
       "      <td>['Fwd: RE: Fwd:']</td>\n",
       "      <td>[]</td>\n",
       "      <td>[]</td>\n",
       "      <td>['', 'Subpoena']</td>\n",
       "      <td>2017-06-29 05:35:00</td>\n",
       "    </tr>\n",
       "    <tr>\n",
       "      <th>13089</th>\n",
       "      <td>['Gil Ziffer [mailto:gil@ziffberry.com]']</td>\n",
       "      <td>['Thursday, June 29, 2017 5:36 AM']</td>\n",
       "      <td>['Branch, Cathy &lt;Cathy.Branch@talgov.com&gt;']</td>\n",
       "      <td>[]</td>\n",
       "      <td>['Fwd: Sundown Sponsorship info']</td>\n",
       "      <td>[]</td>\n",
       "      <td>[]</td>\n",
       "      <td>['', 'Subpoena']</td>\n",
       "      <td>2017-06-29 05:36:00</td>\n",
       "    </tr>\n",
       "  </tbody>\n",
       "</table>\n",
       "<p>13090 rows × 9 columns</p>\n",
       "</div>"
      ],
      "text/plain": [
       "                                                    From  \\\n",
       "0      ['Heiter, Deborah [mailto:Deborah.Heiter@talgo...   \n",
       "1        ['Beth Kirkland [mailto:bkirkland@taledc.com]']   \n",
       "2                                  ['Wiebler, Brian T.']   \n",
       "3                                     ['Beaudoin, Mark']   \n",
       "4                                  ['Wiebler, Brian T.']   \n",
       "...                                                  ...   \n",
       "13085                               ['Campbell, Stacey']   \n",
       "13086          ['Gil Ziffer [mailto:gil@ziffberry.com]']   \n",
       "13087          ['Gil Ziffer [mailto:gil@ziffberry.com]']   \n",
       "13088          ['Gil Ziffer [mailto:gil@ziffberry.com]']   \n",
       "13089          ['Gil Ziffer [mailto:gil@ziffberry.com]']   \n",
       "\n",
       "                                         Sent  \\\n",
       "0        ['Friday, January 20, 2012 4:41 PM']   \n",
       "1        ['Monday, January 23, 2012 9:32 AM']   \n",
       "2      ['Monday, February 27, 2012 10:04 AM']   \n",
       "3         ['Monday, March 05, 2012 11:33 AM']   \n",
       "4         ['Tuesday, March 27, 2012 3:59 PM']   \n",
       "...                                       ...   \n",
       "13085       ['Friday, June 23, 2017 1:27 PM']   \n",
       "13086    ['Wednesday, June 28, 2017 3:32 PM']   \n",
       "13087     ['Thursday, June 29, 2017 4:41 AM']   \n",
       "13088     ['Thursday, June 29, 2017 5:35 AM']   \n",
       "13089     ['Thursday, June 29, 2017 5:36 AM']   \n",
       "\n",
       "                                                      To  \\\n",
       "0      [\"Behenna, Bill; Branch, Cathy; Burn, Paula; C...   \n",
       "1                          [\"'llaubscher@eflorida.com'\"]   \n",
       "2                                                     []   \n",
       "3                                        ['Corey, Adam']   \n",
       "4                                  ['Wiebler, Brian T.']   \n",
       "...                                                  ...   \n",
       "13085                                  ['Ryan Grindler']   \n",
       "13086        ['Branch, Cathy <Cathy.Branch@talgov.com>']   \n",
       "13087        ['Branch, Cathy <Cathy.Branch@talgov.com>']   \n",
       "13088        ['Branch, Cathy <Cathy.Branch@talgov.com>']   \n",
       "13089        ['Branch, Cathy <Cathy.Branch@talgov.com>']   \n",
       "\n",
       "                                                      CC  \\\n",
       "0                                                     []   \n",
       "1      [\"brook.pace@deo.myflorida.com; Kim Rivers (ki...   \n",
       "2                                                     []   \n",
       "3       ['English, Jim; Coe, Torn; Bell?ower, Adrienne']   \n",
       "4                                                     []   \n",
       "...                                                  ...   \n",
       "13085                                  ['Donahoe, Judy']   \n",
       "13086                                                 []   \n",
       "13087                                                 []   \n",
       "13088                                                 []   \n",
       "13089                                                 []   \n",
       "\n",
       "                                                 Subject Attachments  \\\n",
       "0          ['Economic Development Target Issue Meeting']          []   \n",
       "1         ['City of Tallahassee meeting regarding SBCI']          []   \n",
       "2                                      ['Rural Density']          []   \n",
       "3                            ['Sidewalk Cafe Agreement']          []   \n",
       "4      ['Rural Density Comprehensive Plan Text Amendm...          []   \n",
       "...                                                  ...         ...   \n",
       "13085           ['RE: Request: Construction Warranties']          []   \n",
       "13086  ['Fwd: 2013 AIP Forum White Paper_final (3).pdf']          []   \n",
       "13087  ['Fwd: 2013 AIP Forum White Paper_final (3).pdf']          []   \n",
       "13088                                  ['Fwd: RE: Fwd:']          []   \n",
       "13089                  ['Fwd: Sundown Sponsorship info']          []   \n",
       "\n",
       "      Importance                                               Body  \\\n",
       "0             []  ['', 'Deborah L. Heiter', 'Administrative Spec...   \n",
       "1             []  ['Louis,', 'Thank you for meeting with us in F...   \n",
       "2             []                                               ['']   \n",
       "3             []  ['', 'Adam, thanks for the update regarding th...   \n",
       "4             []  ['', 'This is a reminder of the open house eve...   \n",
       "...          ...                                                ...   \n",
       "13085         []                            ['Perfect, thank you.']   \n",
       "13086         []               ['', 'Gil Ziffer', '(850) 509-7886']   \n",
       "13087         []                                   ['', 'Subpoena']   \n",
       "13088         []                                   ['', 'Subpoena']   \n",
       "13089         []                                   ['', 'Subpoena']   \n",
       "\n",
       "                    Sent2  \n",
       "0     2012-01-20 16:41:00  \n",
       "1     2012-01-23 09:32:00  \n",
       "2     2012-02-27 10:04:00  \n",
       "3     2012-03-05 11:33:00  \n",
       "4     2012-03-27 15:59:00  \n",
       "...                   ...  \n",
       "13085 2017-06-23 13:27:00  \n",
       "13086 2017-06-28 15:32:00  \n",
       "13087 2017-06-29 04:41:00  \n",
       "13088 2017-06-29 05:35:00  \n",
       "13089 2017-06-29 05:36:00  \n",
       "\n",
       "[13090 rows x 9 columns]"
      ]
     },
     "execution_count": 66,
     "metadata": {},
     "output_type": "execute_result"
    }
   ],
   "source": [
    "df2.drop_duplicates(subset=['From','Sent2'],keep='first',inplace = True)\n",
    "df2 = df2.reset_index(drop=True)\n",
    "# df_redacted = df2.copy()\n",
    "df_old = df2.copy()\n",
    "\n",
    "# df2.to_csv('output4_without_dups.csv')\n",
    "# df_redacted.to_csv('redacted_emails.csv')\n",
    "# df_unredacted.to_csv('unredacted_emails.csv')\n",
    "df_old.to_csv('old_emails. csv')\n",
    "\n",
    "df2"
   ]
  }
 ],
 "metadata": {
  "kernelspec": {
   "display_name": "Python 3 (ipykernel)",
   "language": "python",
   "name": "python3"
  },
  "language_info": {
   "codemirror_mode": {
    "name": "ipython",
    "version": 3
   },
   "file_extension": ".py",
   "mimetype": "text/x-python",
   "name": "python",
   "nbconvert_exporter": "python",
   "pygments_lexer": "ipython3",
   "version": "3.8.12"
  },
  "widgets": {
   "application/vnd.jupyter.widget-state+json": {
    "state": {
     "00479790fa174092ad87db2d96dc99ba": {
      "model_module": "@jupyter-widgets/controls",
      "model_module_version": "1.5.0",
      "model_name": "DescriptionStyleModel",
      "state": {
       "description_width": ""
      }
     },
     "004b805f6d3643e39ba5ce326c014d52": {
      "model_module": "@jupyter-widgets/controls",
      "model_module_version": "1.5.0",
      "model_name": "FloatProgressModel",
      "state": {
       "bar_style": "success",
       "layout": "IPY_MODEL_22c8bbc160ce4d708cec2792178c432a",
       "max": 1,
       "style": "IPY_MODEL_f03b7ee9e1624c54b4d2f30cb7164298",
       "value": 1
      }
     },
     "011e758fa7604b02a92505da6d568c58": {
      "model_module": "@jupyter-widgets/controls",
      "model_module_version": "1.5.0",
      "model_name": "HBoxModel",
      "state": {
       "children": [
        "IPY_MODEL_dd8499ae0caa44a988122244bb6876e5",
        "IPY_MODEL_93560790441c4778af9510c656150418",
        "IPY_MODEL_91c593a8f53145b498a4ffa953760ac6"
       ],
       "layout": "IPY_MODEL_3b7ef1c854014317b601da690d07d3eb"
      }
     },
     "0598d114ece44617a0e8a619d54c1d76": {
      "model_module": "@jupyter-widgets/base",
      "model_module_version": "1.2.0",
      "model_name": "LayoutModel",
      "state": {}
     },
     "06e3d5651cd947eeb5ae522086c607be": {
      "model_module": "@jupyter-widgets/controls",
      "model_module_version": "1.5.0",
      "model_name": "HTMLModel",
      "state": {
       "layout": "IPY_MODEL_e11c3be0b5c341b98241deaff8d86d6c",
       "style": "IPY_MODEL_72f765d1624647648f473b68b77869be",
       "value": "100%"
      }
     },
     "082cb275fc164a2ea4d90e4797658e38": {
      "model_module": "@jupyter-widgets/controls",
      "model_module_version": "1.5.0",
      "model_name": "DescriptionStyleModel",
      "state": {
       "description_width": ""
      }
     },
     "0b3c12a7bf124f3d8753f7aae668561b": {
      "model_module": "@jupyter-widgets/controls",
      "model_module_version": "1.5.0",
      "model_name": "HBoxModel",
      "state": {
       "children": [
        "IPY_MODEL_3adb65377ac04c619602249416276c5d",
        "IPY_MODEL_20624b3f03e5477386e9e6209c59b38d",
        "IPY_MODEL_c8956b5f5c4846e480546de6f3c0f9e9"
       ],
       "layout": "IPY_MODEL_0cc19626376444fa8615ae7ca59a8d44"
      }
     },
     "0bae7197bf0a4286901e9312e0fe81c4": {
      "model_module": "@jupyter-widgets/controls",
      "model_module_version": "1.5.0",
      "model_name": "HBoxModel",
      "state": {
       "children": [
        "IPY_MODEL_42c3f01cd53d4cc6a3144f66c6aa1f98",
        "IPY_MODEL_1189c1c1b05b4938a2a2c13ee88f6112",
        "IPY_MODEL_e8fe3a32f0b74cd398b6a36fce0857c5"
       ],
       "layout": "IPY_MODEL_52ad37077dd9464ea4de2c2474eb611b"
      }
     },
     "0c1d30562bf64735ab6343702d809641": {
      "model_module": "@jupyter-widgets/controls",
      "model_module_version": "1.5.0",
      "model_name": "DescriptionStyleModel",
      "state": {
       "description_width": ""
      }
     },
     "0c7af9e4604f41deb78c73d246a0213a": {
      "model_module": "@jupyter-widgets/base",
      "model_module_version": "1.2.0",
      "model_name": "LayoutModel",
      "state": {}
     },
     "0cc19626376444fa8615ae7ca59a8d44": {
      "model_module": "@jupyter-widgets/base",
      "model_module_version": "1.2.0",
      "model_name": "LayoutModel",
      "state": {}
     },
     "0df699e00a0e42a697a78478945615f1": {
      "model_module": "@jupyter-widgets/base",
      "model_module_version": "1.2.0",
      "model_name": "LayoutModel",
      "state": {}
     },
     "0ead48b5c4e74c6086aff5b6b9ec9857": {
      "model_module": "@jupyter-widgets/controls",
      "model_module_version": "1.5.0",
      "model_name": "ProgressStyleModel",
      "state": {
       "description_width": ""
      }
     },
     "0ed54db9c7d6446faed30f1a5598191b": {
      "model_module": "@jupyter-widgets/controls",
      "model_module_version": "1.5.0",
      "model_name": "DescriptionStyleModel",
      "state": {
       "description_width": ""
      }
     },
     "0efef41111734e0b84d7940fbb081568": {
      "model_module": "@jupyter-widgets/controls",
      "model_module_version": "1.5.0",
      "model_name": "HTMLModel",
      "state": {
       "layout": "IPY_MODEL_6c62334206164fc38ebf1d655e4e2c8f",
       "style": "IPY_MODEL_c0ee17e87fcf449c9cd19cfddaf0fee4",
       "value": " 1/1 [00:00&lt;00:00, 52.86it/s]"
      }
     },
     "0fd8d1c64a3841ce91a04e5282fcca12": {
      "model_module": "@jupyter-widgets/base",
      "model_module_version": "1.2.0",
      "model_name": "LayoutModel",
      "state": {}
     },
     "101facba8ebc4195a2b814de4b224ab1": {
      "model_module": "@jupyter-widgets/base",
      "model_module_version": "1.2.0",
      "model_name": "LayoutModel",
      "state": {}
     },
     "1069d5fb8d584a12a6c216fc5f795fe1": {
      "model_module": "@jupyter-widgets/controls",
      "model_module_version": "1.5.0",
      "model_name": "ProgressStyleModel",
      "state": {
       "description_width": ""
      }
     },
     "1189c1c1b05b4938a2a2c13ee88f6112": {
      "model_module": "@jupyter-widgets/controls",
      "model_module_version": "1.5.0",
      "model_name": "FloatProgressModel",
      "state": {
       "bar_style": "success",
       "layout": "IPY_MODEL_82c75c04df584cc5ab65984032d3e2b8",
       "max": 338,
       "style": "IPY_MODEL_e8310b95100248dda28c7308fc76d208",
       "value": 338
      }
     },
     "11f1ececb35d40b99ca63cd2fc4f12c8": {
      "model_module": "@jupyter-widgets/controls",
      "model_module_version": "1.5.0",
      "model_name": "HBoxModel",
      "state": {
       "children": [
        "IPY_MODEL_06e3d5651cd947eeb5ae522086c607be",
        "IPY_MODEL_c250c8a07fb043e6aaae8c5d9c1eee2b",
        "IPY_MODEL_5eeff5e6e197474394be53b70d9bbe9b"
       ],
       "layout": "IPY_MODEL_0fd8d1c64a3841ce91a04e5282fcca12"
      }
     },
     "121ba857ede64061bd23255f163a75f4": {
      "model_module": "@jupyter-widgets/controls",
      "model_module_version": "1.5.0",
      "model_name": "HTMLModel",
      "state": {
       "layout": "IPY_MODEL_9d2c94352cc249deaa6feb45e7ceb476",
       "style": "IPY_MODEL_9f91f6799c394655b82b6da8fc36d7b3",
       "value": "100%"
      }
     },
     "1277f249ee9d4d0781894ceb3559e612": {
      "model_module": "@jupyter-widgets/controls",
      "model_module_version": "1.5.0",
      "model_name": "HBoxModel",
      "state": {
       "children": [
        "IPY_MODEL_e78480e6ace646e38e44bbdfa869c2f9",
        "IPY_MODEL_aa8de391d312440cb70ec1cf4b3e9a0e",
        "IPY_MODEL_894ca0307a55496088880a325c86e50c"
       ],
       "layout": "IPY_MODEL_2336c3efa21d4f479036461a550dbf9e"
      }
     },
     "141235e24b394a7893c61a03203ac7f0": {
      "model_module": "@jupyter-widgets/base",
      "model_module_version": "1.2.0",
      "model_name": "LayoutModel",
      "state": {}
     },
     "14bc3fbf3afc48e09d4420b648fea09e": {
      "model_module": "@jupyter-widgets/base",
      "model_module_version": "1.2.0",
      "model_name": "LayoutModel",
      "state": {}
     },
     "16c0618b8caa4e599ab688c74bedcc07": {
      "model_module": "@jupyter-widgets/base",
      "model_module_version": "1.2.0",
      "model_name": "LayoutModel",
      "state": {}
     },
     "19a7cd9dda274ae7a18b91b273e7aca5": {
      "model_module": "@jupyter-widgets/base",
      "model_module_version": "1.2.0",
      "model_name": "LayoutModel",
      "state": {}
     },
     "19b8c805af374a4391e7e3583a085ea4": {
      "model_module": "@jupyter-widgets/controls",
      "model_module_version": "1.5.0",
      "model_name": "HBoxModel",
      "state": {
       "children": [
        "IPY_MODEL_910fd1a4c871459588fa5decac048918",
        "IPY_MODEL_ce95add854f04e38a7bfdbea8b3a28a5",
        "IPY_MODEL_dd7531278f804f41a3bb2114c8d683f7"
       ],
       "layout": "IPY_MODEL_1def4cab9c2b40e3a2e45d67a6a37c30"
      }
     },
     "19d27f75e93f4c9f96a0a61cf76605d1": {
      "model_module": "@jupyter-widgets/controls",
      "model_module_version": "1.5.0",
      "model_name": "HBoxModel",
      "state": {
       "children": [
        "IPY_MODEL_779dc9b9eeec487cb272e647d3ede070",
        "IPY_MODEL_759195d9d57d492a9158d63e0ea3a0e3",
        "IPY_MODEL_634c774ad1f04a0c99ba5b463a611e96"
       ],
       "layout": "IPY_MODEL_14bc3fbf3afc48e09d4420b648fea09e"
      }
     },
     "1b0ec56cbf8242a0b50b41017a6913a0": {
      "model_module": "@jupyter-widgets/base",
      "model_module_version": "1.2.0",
      "model_name": "LayoutModel",
      "state": {}
     },
     "1c2a354ba0044cf387e954f37b0edadc": {
      "model_module": "@jupyter-widgets/base",
      "model_module_version": "1.2.0",
      "model_name": "LayoutModel",
      "state": {}
     },
     "1d5d97a64a5c49b09f73876615ca3007": {
      "model_module": "@jupyter-widgets/base",
      "model_module_version": "1.2.0",
      "model_name": "LayoutModel",
      "state": {}
     },
     "1db1bc1456e748ce818e87136f3012b1": {
      "model_module": "@jupyter-widgets/base",
      "model_module_version": "1.2.0",
      "model_name": "LayoutModel",
      "state": {}
     },
     "1ddcaaa717f64d2e9c9228020051821e": {
      "model_module": "@jupyter-widgets/controls",
      "model_module_version": "1.5.0",
      "model_name": "HTMLModel",
      "state": {
       "layout": "IPY_MODEL_258bcf71b2dc4830b3595c88888b7ea5",
       "style": "IPY_MODEL_709e400fb5074ad9a61462c9a957e673",
       "value": " 1/1 [00:00&lt;00:00, 34.55it/s]"
      }
     },
     "1dee24bd37d1440fad50e646516cdd0f": {
      "model_module": "@jupyter-widgets/base",
      "model_module_version": "1.2.0",
      "model_name": "LayoutModel",
      "state": {}
     },
     "1def4cab9c2b40e3a2e45d67a6a37c30": {
      "model_module": "@jupyter-widgets/base",
      "model_module_version": "1.2.0",
      "model_name": "LayoutModel",
      "state": {}
     },
     "1e40da3ac2974cc68c7ebe654d4f78dc": {
      "model_module": "@jupyter-widgets/base",
      "model_module_version": "1.2.0",
      "model_name": "LayoutModel",
      "state": {}
     },
     "1e775f6dc7684a44bbbb0e029cbe1416": {
      "model_module": "@jupyter-widgets/controls",
      "model_module_version": "1.5.0",
      "model_name": "DescriptionStyleModel",
      "state": {
       "description_width": ""
      }
     },
     "1f84aa1cf73e408cb0947bc1808fd1e9": {
      "model_module": "@jupyter-widgets/base",
      "model_module_version": "1.2.0",
      "model_name": "LayoutModel",
      "state": {}
     },
     "1fcd9a1137d0427a919eba4ff277d6de": {
      "model_module": "@jupyter-widgets/controls",
      "model_module_version": "1.5.0",
      "model_name": "DescriptionStyleModel",
      "state": {
       "description_width": ""
      }
     },
     "205f8a1a9fe340e1b72917801b136876": {
      "model_module": "@jupyter-widgets/base",
      "model_module_version": "1.2.0",
      "model_name": "LayoutModel",
      "state": {}
     },
     "20624b3f03e5477386e9e6209c59b38d": {
      "model_module": "@jupyter-widgets/controls",
      "model_module_version": "1.5.0",
      "model_name": "FloatProgressModel",
      "state": {
       "bar_style": "success",
       "layout": "IPY_MODEL_8bee9e0af6524d5e87a0745498d660e0",
       "max": 1,
       "style": "IPY_MODEL_5f58eb6c531047bea41bdd04d76e7b0c",
       "value": 1
      }
     },
     "21639561a5e44df78ff48998e51f8457": {
      "model_module": "@jupyter-widgets/controls",
      "model_module_version": "1.5.0",
      "model_name": "HBoxModel",
      "state": {
       "children": [
        "IPY_MODEL_335d325a0def4b55a3a95d27c4960599",
        "IPY_MODEL_7acca5eb81c54d64a3aee30147f6beda",
        "IPY_MODEL_70fe0e27a1224e8e89b0d7ce99505677"
       ],
       "layout": "IPY_MODEL_82224b154dd64b3eb5064cecd29afea1"
      }
     },
     "2232f02759754235961f292bfde18c53": {
      "model_module": "@jupyter-widgets/controls",
      "model_module_version": "1.5.0",
      "model_name": "HBoxModel",
      "state": {
       "children": [
        "IPY_MODEL_121ba857ede64061bd23255f163a75f4",
        "IPY_MODEL_3c47e1af418242ae9df87e585bf1ade0",
        "IPY_MODEL_e4c0e82f4f75414fa3024d52ec508306"
       ],
       "layout": "IPY_MODEL_6cd46750f81c4017895ea788d0677913"
      }
     },
     "2254470e04314297a3bbac9954c030b9": {
      "model_module": "@jupyter-widgets/controls",
      "model_module_version": "1.5.0",
      "model_name": "HTMLModel",
      "state": {
       "layout": "IPY_MODEL_dc959855ae7847389c990b999d0e8895",
       "style": "IPY_MODEL_2671c63280774ec79573d4bd616cfe59",
       "value": " 2/2 [00:00&lt;00:00, 134.02it/s]"
      }
     },
     "22c8bbc160ce4d708cec2792178c432a": {
      "model_module": "@jupyter-widgets/base",
      "model_module_version": "1.2.0",
      "model_name": "LayoutModel",
      "state": {}
     },
     "2336c3efa21d4f479036461a550dbf9e": {
      "model_module": "@jupyter-widgets/base",
      "model_module_version": "1.2.0",
      "model_name": "LayoutModel",
      "state": {}
     },
     "2375e35dc5dd46448e14973ddf17cd71": {
      "model_module": "@jupyter-widgets/base",
      "model_module_version": "1.2.0",
      "model_name": "LayoutModel",
      "state": {}
     },
     "23cf7495f37b4ce1b6ebf18c0fad57de": {
      "model_module": "@jupyter-widgets/base",
      "model_module_version": "1.2.0",
      "model_name": "LayoutModel",
      "state": {}
     },
     "2436f296f2d341469ea63f8ec849d6df": {
      "model_module": "@jupyter-widgets/controls",
      "model_module_version": "1.5.0",
      "model_name": "FloatProgressModel",
      "state": {
       "bar_style": "success",
       "layout": "IPY_MODEL_c350197396f945848722e7df7d072654",
       "max": 1,
       "style": "IPY_MODEL_275d6d3cac67454189af037ce5d1dc05",
       "value": 1
      }
     },
     "2468291bec5441bd8c89c69c04273051": {
      "model_module": "@jupyter-widgets/controls",
      "model_module_version": "1.5.0",
      "model_name": "HTMLModel",
      "state": {
       "layout": "IPY_MODEL_7c7f2fd37ff64c42ad6ae214fe90253a",
       "style": "IPY_MODEL_e445b398b3224f88845713547f415d53",
       "value": " 1/1 [00:00&lt;00:00, 45.76it/s]"
      }
     },
     "24b55b318e9446da882468eb1a2b2516": {
      "model_module": "@jupyter-widgets/base",
      "model_module_version": "1.2.0",
      "model_name": "LayoutModel",
      "state": {}
     },
     "258bcf71b2dc4830b3595c88888b7ea5": {
      "model_module": "@jupyter-widgets/base",
      "model_module_version": "1.2.0",
      "model_name": "LayoutModel",
      "state": {}
     },
     "259e4e1c2d3e4165a35c304eafbbfd2a": {
      "model_module": "@jupyter-widgets/base",
      "model_module_version": "1.2.0",
      "model_name": "LayoutModel",
      "state": {}
     },
     "2640bab0878348c79f6cc345200c0959": {
      "model_module": "@jupyter-widgets/controls",
      "model_module_version": "1.5.0",
      "model_name": "DescriptionStyleModel",
      "state": {
       "description_width": ""
      }
     },
     "2671c63280774ec79573d4bd616cfe59": {
      "model_module": "@jupyter-widgets/controls",
      "model_module_version": "1.5.0",
      "model_name": "DescriptionStyleModel",
      "state": {
       "description_width": ""
      }
     },
     "275d6d3cac67454189af037ce5d1dc05": {
      "model_module": "@jupyter-widgets/controls",
      "model_module_version": "1.5.0",
      "model_name": "ProgressStyleModel",
      "state": {
       "description_width": ""
      }
     },
     "276f22c7e48949b5b624f6fdd677706b": {
      "model_module": "@jupyter-widgets/base",
      "model_module_version": "1.2.0",
      "model_name": "LayoutModel",
      "state": {}
     },
     "27d6553a77b84fb78ee94162d06b84dc": {
      "model_module": "@jupyter-widgets/controls",
      "model_module_version": "1.5.0",
      "model_name": "ProgressStyleModel",
      "state": {
       "description_width": ""
      }
     },
     "27e2c39456cc4c128bea317bd6af2268": {
      "model_module": "@jupyter-widgets/controls",
      "model_module_version": "1.5.0",
      "model_name": "DescriptionStyleModel",
      "state": {
       "description_width": ""
      }
     },
     "2862bc96347a474d9d0820c573b9f98f": {
      "model_module": "@jupyter-widgets/base",
      "model_module_version": "1.2.0",
      "model_name": "LayoutModel",
      "state": {}
     },
     "29aed3bd46654fbd8514debd0f4c81a2": {
      "model_module": "@jupyter-widgets/controls",
      "model_module_version": "1.5.0",
      "model_name": "HTMLModel",
      "state": {
       "layout": "IPY_MODEL_e101c458a1924d99881a0aad08f903ad",
       "style": "IPY_MODEL_87d19f7ab00d461e99cdd43b02b2f792",
       "value": "100%"
      }
     },
     "2aa9c23089ba4f2e8b7c85339c9189e2": {
      "model_module": "@jupyter-widgets/controls",
      "model_module_version": "1.5.0",
      "model_name": "HTMLModel",
      "state": {
       "layout": "IPY_MODEL_c61be7529bf44b7182ab576218275d22",
       "style": "IPY_MODEL_27e2c39456cc4c128bea317bd6af2268",
       "value": "100%"
      }
     },
     "2b33de00f7644ef69e58294b8b9319d7": {
      "model_module": "@jupyter-widgets/controls",
      "model_module_version": "1.5.0",
      "model_name": "ProgressStyleModel",
      "state": {
       "description_width": ""
      }
     },
     "2b5acd31560e437dacadc80fcd897793": {
      "model_module": "@jupyter-widgets/base",
      "model_module_version": "1.2.0",
      "model_name": "LayoutModel",
      "state": {}
     },
     "2b8d1701e4c648c88881e3cf91e3780d": {
      "model_module": "@jupyter-widgets/base",
      "model_module_version": "1.2.0",
      "model_name": "LayoutModel",
      "state": {}
     },
     "2ba532a2db6b4aef9f6dcbe0cfdd99ca": {
      "model_module": "@jupyter-widgets/controls",
      "model_module_version": "1.5.0",
      "model_name": "ProgressStyleModel",
      "state": {
       "description_width": ""
      }
     },
     "2bc7f0ccdfb246f7a95e6a33e918449c": {
      "model_module": "@jupyter-widgets/base",
      "model_module_version": "1.2.0",
      "model_name": "LayoutModel",
      "state": {}
     },
     "2ca8cbe5dfe14c8ba63c57155792a20f": {
      "model_module": "@jupyter-widgets/base",
      "model_module_version": "1.2.0",
      "model_name": "LayoutModel",
      "state": {}
     },
     "2d2473b4a3814542920aa4331d96a89f": {
      "model_module": "@jupyter-widgets/controls",
      "model_module_version": "1.5.0",
      "model_name": "ProgressStyleModel",
      "state": {
       "description_width": ""
      }
     },
     "2d487bd7dae54df7bb63bbcd0ba3d56a": {
      "model_module": "@jupyter-widgets/controls",
      "model_module_version": "1.5.0",
      "model_name": "DescriptionStyleModel",
      "state": {
       "description_width": ""
      }
     },
     "2ff33024e1b740a7ba9fbdb5b5b8c535": {
      "model_module": "@jupyter-widgets/controls",
      "model_module_version": "1.5.0",
      "model_name": "FloatProgressModel",
      "state": {
       "bar_style": "success",
       "layout": "IPY_MODEL_cf89f3d0fc9d49a8975441f955cc273f",
       "max": 1,
       "style": "IPY_MODEL_78b7d91146984a8bab5c2b67f09e0835",
       "value": 1
      }
     },
     "305e6a96037d436298d2bd76e88a6230": {
      "model_module": "@jupyter-widgets/controls",
      "model_module_version": "1.5.0",
      "model_name": "FloatProgressModel",
      "state": {
       "bar_style": "danger",
       "layout": "IPY_MODEL_b69f1c8783c14eb5ac94a5f294503b7e",
       "max": 1,
       "style": "IPY_MODEL_4c7f74eadce84aa7bc6ef09ea2e06d58"
      }
     },
     "3079e3f13d1244338af95800c2e91a77": {
      "model_module": "@jupyter-widgets/base",
      "model_module_version": "1.2.0",
      "model_name": "LayoutModel",
      "state": {}
     },
     "30bc8917651245e180484fd4d4deb456": {
      "model_module": "@jupyter-widgets/controls",
      "model_module_version": "1.5.0",
      "model_name": "DescriptionStyleModel",
      "state": {
       "description_width": ""
      }
     },
     "30bf6d583ea1443781eb960ddcec164c": {
      "model_module": "@jupyter-widgets/controls",
      "model_module_version": "1.5.0",
      "model_name": "ProgressStyleModel",
      "state": {
       "description_width": ""
      }
     },
     "31204a80063640acb0a48765b03ac6fa": {
      "model_module": "@jupyter-widgets/controls",
      "model_module_version": "1.5.0",
      "model_name": "HTMLModel",
      "state": {
       "layout": "IPY_MODEL_686b986b72804664821dc24ab0b5c90e",
       "style": "IPY_MODEL_00479790fa174092ad87db2d96dc99ba",
       "value": "100%"
      }
     },
     "324dc7212a2b4545ad6e45609aeff912": {
      "model_module": "@jupyter-widgets/base",
      "model_module_version": "1.2.0",
      "model_name": "LayoutModel",
      "state": {}
     },
     "330e6789a1c54321b32caacd47768d6f": {
      "model_module": "@jupyter-widgets/base",
      "model_module_version": "1.2.0",
      "model_name": "LayoutModel",
      "state": {}
     },
     "3327933d20984b6cad4d823d1330601c": {
      "model_module": "@jupyter-widgets/controls",
      "model_module_version": "1.5.0",
      "model_name": "HTMLModel",
      "state": {
       "layout": "IPY_MODEL_8676698562644ce7988fb91651b5636f",
       "style": "IPY_MODEL_697f499d8f7b4ce0a98d0eb810c67f2e",
       "value": "100%"
      }
     },
     "335d325a0def4b55a3a95d27c4960599": {
      "model_module": "@jupyter-widgets/controls",
      "model_module_version": "1.5.0",
      "model_name": "HTMLModel",
      "state": {
       "layout": "IPY_MODEL_259e4e1c2d3e4165a35c304eafbbfd2a",
       "style": "IPY_MODEL_97bcdd90fae44fcf8f6ae56f52a135b5",
       "value": "100%"
      }
     },
     "339406f32d55403280927eb7c729d51a": {
      "model_module": "@jupyter-widgets/controls",
      "model_module_version": "1.5.0",
      "model_name": "DescriptionStyleModel",
      "state": {
       "description_width": ""
      }
     },
     "3576c01eed66466aba7fd8c1f810bae3": {
      "model_module": "@jupyter-widgets/controls",
      "model_module_version": "1.5.0",
      "model_name": "ProgressStyleModel",
      "state": {
       "description_width": ""
      }
     },
     "37739d64794c4d61b458def50fee0adc": {
      "model_module": "@jupyter-widgets/base",
      "model_module_version": "1.2.0",
      "model_name": "LayoutModel",
      "state": {}
     },
     "39c7848741de4393a786004c48776975": {
      "model_module": "@jupyter-widgets/controls",
      "model_module_version": "1.5.0",
      "model_name": "ProgressStyleModel",
      "state": {
       "description_width": ""
      }
     },
     "3a6e7b17c9d848ad98703f6851a361c3": {
      "model_module": "@jupyter-widgets/controls",
      "model_module_version": "1.5.0",
      "model_name": "HTMLModel",
      "state": {
       "layout": "IPY_MODEL_d680ff6551094d4780900522b768ebac",
       "style": "IPY_MODEL_30bc8917651245e180484fd4d4deb456",
       "value": " 1/1 [00:00&lt;00:00, 63.25it/s]"
      }
     },
     "3adb65377ac04c619602249416276c5d": {
      "model_module": "@jupyter-widgets/controls",
      "model_module_version": "1.5.0",
      "model_name": "HTMLModel",
      "state": {
       "layout": "IPY_MODEL_f83776025450439a936643174affc808",
       "style": "IPY_MODEL_54664237dc6343f98d620c352bed66cb",
       "value": "100%"
      }
     },
     "3b7ef1c854014317b601da690d07d3eb": {
      "model_module": "@jupyter-widgets/base",
      "model_module_version": "1.2.0",
      "model_name": "LayoutModel",
      "state": {}
     },
     "3c47e1af418242ae9df87e585bf1ade0": {
      "model_module": "@jupyter-widgets/controls",
      "model_module_version": "1.5.0",
      "model_name": "FloatProgressModel",
      "state": {
       "bar_style": "success",
       "layout": "IPY_MODEL_548caa0673164f5b876eafab3f1214d6",
       "max": 2,
       "style": "IPY_MODEL_2d2473b4a3814542920aa4331d96a89f",
       "value": 2
      }
     },
     "3c931d15fb784e4b9c6caf9994d6eb80": {
      "model_module": "@jupyter-widgets/controls",
      "model_module_version": "1.5.0",
      "model_name": "HBoxModel",
      "state": {
       "children": [
        "IPY_MODEL_770c5207242e439bae9d472464299ce5",
        "IPY_MODEL_99b9f226e7c94117bb91db65906e9e1b",
        "IPY_MODEL_0efef41111734e0b84d7940fbb081568"
       ],
       "layout": "IPY_MODEL_70aca2de58094c4696e38896dc14c294"
      }
     },
     "3d26e95745d04b97a69eb681ebabc92c": {
      "model_module": "@jupyter-widgets/base",
      "model_module_version": "1.2.0",
      "model_name": "LayoutModel",
      "state": {}
     },
     "3d2f6725d2634fa4aa459d8397c62e2f": {
      "model_module": "@jupyter-widgets/base",
      "model_module_version": "1.2.0",
      "model_name": "LayoutModel",
      "state": {}
     },
     "3df1d20b5c9e484ba63cfc1bb9b72038": {
      "model_module": "@jupyter-widgets/base",
      "model_module_version": "1.2.0",
      "model_name": "LayoutModel",
      "state": {}
     },
     "3f235a8144624bca9d15ca8835240e17": {
      "model_module": "@jupyter-widgets/base",
      "model_module_version": "1.2.0",
      "model_name": "LayoutModel",
      "state": {}
     },
     "40e5186947a245c18eb5739499d76b05": {
      "model_module": "@jupyter-widgets/controls",
      "model_module_version": "1.5.0",
      "model_name": "DescriptionStyleModel",
      "state": {
       "description_width": ""
      }
     },
     "413a5a3d5e114f76bd72c1a9a0319e06": {
      "model_module": "@jupyter-widgets/controls",
      "model_module_version": "1.5.0",
      "model_name": "DescriptionStyleModel",
      "state": {
       "description_width": ""
      }
     },
     "415a3aeab739440cab26237abd3d9161": {
      "model_module": "@jupyter-widgets/base",
      "model_module_version": "1.2.0",
      "model_name": "LayoutModel",
      "state": {}
     },
     "42393aa926234cc683e125314c4ec310": {
      "model_module": "@jupyter-widgets/controls",
      "model_module_version": "1.5.0",
      "model_name": "DescriptionStyleModel",
      "state": {
       "description_width": ""
      }
     },
     "42c3f01cd53d4cc6a3144f66c6aa1f98": {
      "model_module": "@jupyter-widgets/controls",
      "model_module_version": "1.5.0",
      "model_name": "HTMLModel",
      "state": {
       "layout": "IPY_MODEL_1f84aa1cf73e408cb0947bc1808fd1e9",
       "style": "IPY_MODEL_8cb705683dc441be9365b3293621efbf",
       "value": "100%"
      }
     },
     "44902f7fe22342b49d5d024e1afc00a3": {
      "model_module": "@jupyter-widgets/base",
      "model_module_version": "1.2.0",
      "model_name": "LayoutModel",
      "state": {}
     },
     "44a3356500cf4665904ffdb554197578": {
      "model_module": "@jupyter-widgets/controls",
      "model_module_version": "1.5.0",
      "model_name": "FloatProgressModel",
      "state": {
       "bar_style": "success",
       "layout": "IPY_MODEL_2b5acd31560e437dacadc80fcd897793",
       "max": 2,
       "style": "IPY_MODEL_64d0c149e4a644ba86322a198e72f483",
       "value": 2
      }
     },
     "44ecbbdba1af4a22b30687b5a18dbab8": {
      "model_module": "@jupyter-widgets/controls",
      "model_module_version": "1.5.0",
      "model_name": "HBoxModel",
      "state": {
       "children": [
        "IPY_MODEL_639dfb6b62fe4c58986ea9fb3aa0b502",
        "IPY_MODEL_b5e5db548b4f451195d0a639efc201c1",
        "IPY_MODEL_7278e66f62c54da7ac98c63315c5eabe"
       ],
       "layout": "IPY_MODEL_e4ddf14b2cc045049d447a34febde68c"
      }
     },
     "450d356bf2444f18abb5771b9e019d9e": {
      "model_module": "@jupyter-widgets/controls",
      "model_module_version": "1.5.0",
      "model_name": "HTMLModel",
      "state": {
       "layout": "IPY_MODEL_47d560a887b845b289bb211ee2754445",
       "style": "IPY_MODEL_5035099d04ff48de8d8eac58ca17e74e",
       "value": "100%"
      }
     },
     "461b5ec8b92e48309d23bfd7f9ca4641": {
      "model_module": "@jupyter-widgets/controls",
      "model_module_version": "1.5.0",
      "model_name": "DescriptionStyleModel",
      "state": {
       "description_width": ""
      }
     },
     "47d560a887b845b289bb211ee2754445": {
      "model_module": "@jupyter-widgets/base",
      "model_module_version": "1.2.0",
      "model_name": "LayoutModel",
      "state": {}
     },
     "480d88e337714893a6f15b4c587bf368": {
      "model_module": "@jupyter-widgets/base",
      "model_module_version": "1.2.0",
      "model_name": "LayoutModel",
      "state": {}
     },
     "481d41fd531142579b0c162b3e94f6d7": {
      "model_module": "@jupyter-widgets/controls",
      "model_module_version": "1.5.0",
      "model_name": "HBoxModel",
      "state": {
       "children": [
        "IPY_MODEL_31204a80063640acb0a48765b03ac6fa",
        "IPY_MODEL_004b805f6d3643e39ba5ce326c014d52",
        "IPY_MODEL_4b6df58cd0da447c90585a9995e9b7a8"
       ],
       "layout": "IPY_MODEL_276f22c7e48949b5b624f6fdd677706b"
      }
     },
     "4904309ba5d6408198523074575b16a9": {
      "model_module": "@jupyter-widgets/controls",
      "model_module_version": "1.5.0",
      "model_name": "FloatProgressModel",
      "state": {
       "bar_style": "success",
       "layout": "IPY_MODEL_f4581e631196403d93ab708f0ea6ab9a",
       "max": 1,
       "style": "IPY_MODEL_89869bcbddd1483c893e9efff5377a8d",
       "value": 1
      }
     },
     "4915d33ee9f24cffbc80fbc3e5412ea5": {
      "model_module": "@jupyter-widgets/controls",
      "model_module_version": "1.5.0",
      "model_name": "DescriptionStyleModel",
      "state": {
       "description_width": ""
      }
     },
     "4928260d5694424eb18f084f96a7ffb9": {
      "model_module": "@jupyter-widgets/controls",
      "model_module_version": "1.5.0",
      "model_name": "HBoxModel",
      "state": {
       "children": [
        "IPY_MODEL_7e971561dc1f4995af6df8cd83ab399f",
        "IPY_MODEL_f0e45786499245059d652b4bf7bb45a9",
        "IPY_MODEL_c0d3b590ff6a432ca3c37c2cf08d34ba"
       ],
       "layout": "IPY_MODEL_88b44afdc20c49899bf6405c40e1efe8"
      }
     },
     "49c32159a7424809a4fe8448583ecca3": {
      "model_module": "@jupyter-widgets/base",
      "model_module_version": "1.2.0",
      "model_name": "LayoutModel",
      "state": {}
     },
     "4b6df58cd0da447c90585a9995e9b7a8": {
      "model_module": "@jupyter-widgets/controls",
      "model_module_version": "1.5.0",
      "model_name": "HTMLModel",
      "state": {
       "layout": "IPY_MODEL_0c7af9e4604f41deb78c73d246a0213a",
       "style": "IPY_MODEL_5181f831654a4c288904b9eb2c2f9c05",
       "value": " 1/1 [00:00&lt;00:00, 37.14it/s]"
      }
     },
     "4c7f74eadce84aa7bc6ef09ea2e06d58": {
      "model_module": "@jupyter-widgets/controls",
      "model_module_version": "1.5.0",
      "model_name": "ProgressStyleModel",
      "state": {
       "description_width": ""
      }
     },
     "4cf09e8ef058477bb79975ff26e9f697": {
      "model_module": "@jupyter-widgets/controls",
      "model_module_version": "1.5.0",
      "model_name": "HBoxModel",
      "state": {
       "children": [
        "IPY_MODEL_5dd59db0b9de4254ac2593825382a28a",
        "IPY_MODEL_dbaacd6a2d554544b986fe0dda7a9e3d",
        "IPY_MODEL_ecb73ee1596d448f9b3058d6ed4e121e"
       ],
       "layout": "IPY_MODEL_4d4d1617bc1640118f15aaa0c104810c"
      }
     },
     "4d4d1617bc1640118f15aaa0c104810c": {
      "model_module": "@jupyter-widgets/base",
      "model_module_version": "1.2.0",
      "model_name": "LayoutModel",
      "state": {}
     },
     "4d51ee828fb64c97a6a8b77083178c7f": {
      "model_module": "@jupyter-widgets/controls",
      "model_module_version": "1.5.0",
      "model_name": "ProgressStyleModel",
      "state": {
       "description_width": ""
      }
     },
     "4dcd1117083e49888f3cd1527e3b630c": {
      "model_module": "@jupyter-widgets/controls",
      "model_module_version": "1.5.0",
      "model_name": "HTMLModel",
      "state": {
       "layout": "IPY_MODEL_205f8a1a9fe340e1b72917801b136876",
       "style": "IPY_MODEL_7748e6cf7d014b1a84e30a1ed25240c6",
       "value": " 0/1 [00:00&lt;?, ?it/s]"
      }
     },
     "4def6c1662c5445cb9c53502fa8c6949": {
      "model_module": "@jupyter-widgets/controls",
      "model_module_version": "1.5.0",
      "model_name": "HBoxModel",
      "state": {
       "children": [
        "IPY_MODEL_584fab6b44554ebf85f04b40273e0c11",
        "IPY_MODEL_fe1b0a4659ed432c82bac84129e3c21e",
        "IPY_MODEL_2254470e04314297a3bbac9954c030b9"
       ],
       "layout": "IPY_MODEL_b21f394f1c2d4e8b8216633dedc9516b"
      }
     },
     "4e0f02f42caf45a19ffecbd123c2f8b3": {
      "model_module": "@jupyter-widgets/base",
      "model_module_version": "1.2.0",
      "model_name": "LayoutModel",
      "state": {}
     },
     "4ee760157e39493981553c1200870065": {
      "model_module": "@jupyter-widgets/controls",
      "model_module_version": "1.5.0",
      "model_name": "HTMLModel",
      "state": {
       "layout": "IPY_MODEL_3df1d20b5c9e484ba63cfc1bb9b72038",
       "style": "IPY_MODEL_1fcd9a1137d0427a919eba4ff277d6de",
       "value": "100%"
      }
     },
     "4f8c4facb31c4f97967b9f51f686059b": {
      "model_module": "@jupyter-widgets/controls",
      "model_module_version": "1.5.0",
      "model_name": "DescriptionStyleModel",
      "state": {
       "description_width": ""
      }
     },
     "4fbc901c80034cb48c257cf6cb2f976f": {
      "model_module": "@jupyter-widgets/base",
      "model_module_version": "1.2.0",
      "model_name": "LayoutModel",
      "state": {}
     },
     "5035099d04ff48de8d8eac58ca17e74e": {
      "model_module": "@jupyter-widgets/controls",
      "model_module_version": "1.5.0",
      "model_name": "DescriptionStyleModel",
      "state": {
       "description_width": ""
      }
     },
     "5181f831654a4c288904b9eb2c2f9c05": {
      "model_module": "@jupyter-widgets/controls",
      "model_module_version": "1.5.0",
      "model_name": "DescriptionStyleModel",
      "state": {
       "description_width": ""
      }
     },
     "51be75fec9e54ed195dcd01bb4d34228": {
      "model_module": "@jupyter-widgets/controls",
      "model_module_version": "1.5.0",
      "model_name": "FloatProgressModel",
      "state": {
       "bar_style": "success",
       "layout": "IPY_MODEL_3d2f6725d2634fa4aa459d8397c62e2f",
       "max": 2,
       "style": "IPY_MODEL_2ba532a2db6b4aef9f6dcbe0cfdd99ca",
       "value": 2
      }
     },
     "51e9460a0cca417baf1f9735f8423fc5": {
      "model_module": "@jupyter-widgets/controls",
      "model_module_version": "1.5.0",
      "model_name": "DescriptionStyleModel",
      "state": {
       "description_width": ""
      }
     },
     "52ad37077dd9464ea4de2c2474eb611b": {
      "model_module": "@jupyter-widgets/base",
      "model_module_version": "1.2.0",
      "model_name": "LayoutModel",
      "state": {}
     },
     "52f0cb7001d2471580c8b0b2f43c7855": {
      "model_module": "@jupyter-widgets/controls",
      "model_module_version": "1.5.0",
      "model_name": "DescriptionStyleModel",
      "state": {
       "description_width": ""
      }
     },
     "53ce85045cd44f4497674b9142ff2102": {
      "model_module": "@jupyter-widgets/base",
      "model_module_version": "1.2.0",
      "model_name": "LayoutModel",
      "state": {}
     },
     "5415136ab133449e9c9d19c212946481": {
      "model_module": "@jupyter-widgets/controls",
      "model_module_version": "1.5.0",
      "model_name": "DescriptionStyleModel",
      "state": {
       "description_width": ""
      }
     },
     "54664237dc6343f98d620c352bed66cb": {
      "model_module": "@jupyter-widgets/controls",
      "model_module_version": "1.5.0",
      "model_name": "DescriptionStyleModel",
      "state": {
       "description_width": ""
      }
     },
     "548caa0673164f5b876eafab3f1214d6": {
      "model_module": "@jupyter-widgets/base",
      "model_module_version": "1.2.0",
      "model_name": "LayoutModel",
      "state": {}
     },
     "54f6b3da732545b78b6d75c791be9250": {
      "model_module": "@jupyter-widgets/controls",
      "model_module_version": "1.5.0",
      "model_name": "DescriptionStyleModel",
      "state": {
       "description_width": ""
      }
     },
     "5515165c85a2446498c5d9c58d4911bc": {
      "model_module": "@jupyter-widgets/controls",
      "model_module_version": "1.5.0",
      "model_name": "HTMLModel",
      "state": {
       "layout": "IPY_MODEL_2ca8cbe5dfe14c8ba63c57155792a20f",
       "style": "IPY_MODEL_413a5a3d5e114f76bd72c1a9a0319e06",
       "value": " 1/1 [00:00&lt;00:00, 54.56it/s]"
      }
     },
     "584fab6b44554ebf85f04b40273e0c11": {
      "model_module": "@jupyter-widgets/controls",
      "model_module_version": "1.5.0",
      "model_name": "HTMLModel",
      "state": {
       "layout": "IPY_MODEL_65eb8a656e644ffbbdf39da2be299fd7",
       "style": "IPY_MODEL_339406f32d55403280927eb7c729d51a",
       "value": "100%"
      }
     },
     "5b4c8f21a234435cae16dd84654e97e1": {
      "model_module": "@jupyter-widgets/base",
      "model_module_version": "1.2.0",
      "model_name": "LayoutModel",
      "state": {}
     },
     "5dd59db0b9de4254ac2593825382a28a": {
      "model_module": "@jupyter-widgets/controls",
      "model_module_version": "1.5.0",
      "model_name": "HTMLModel",
      "state": {
       "layout": "IPY_MODEL_9f905315743f43d4826fa2bb1bb28e62",
       "style": "IPY_MODEL_42393aa926234cc683e125314c4ec310",
       "value": "100%"
      }
     },
     "5e15bd21375840b895c733f99c14c689": {
      "model_module": "@jupyter-widgets/controls",
      "model_module_version": "1.5.0",
      "model_name": "HBoxModel",
      "state": {
       "children": [
        "IPY_MODEL_c988e96ed48a4b2993b85d0f96e506cf",
        "IPY_MODEL_2ff33024e1b740a7ba9fbdb5b5b8c535",
        "IPY_MODEL_2468291bec5441bd8c89c69c04273051"
       ],
       "layout": "IPY_MODEL_1dee24bd37d1440fad50e646516cdd0f"
      }
     },
     "5eeff5e6e197474394be53b70d9bbe9b": {
      "model_module": "@jupyter-widgets/controls",
      "model_module_version": "1.5.0",
      "model_name": "HTMLModel",
      "state": {
       "layout": "IPY_MODEL_8b701da809f845daabe49784f954d59b",
       "style": "IPY_MODEL_6639fe79534346989df0daf4321d311d",
       "value": " 1/1 [00:00&lt;00:00, 47.70it/s]"
      }
     },
     "5f58eb6c531047bea41bdd04d76e7b0c": {
      "model_module": "@jupyter-widgets/controls",
      "model_module_version": "1.5.0",
      "model_name": "ProgressStyleModel",
      "state": {
       "description_width": ""
      }
     },
     "61fa99ce2ae04a8f95a40e988aef8687": {
      "model_module": "@jupyter-widgets/base",
      "model_module_version": "1.2.0",
      "model_name": "LayoutModel",
      "state": {}
     },
     "63208fda79d24d58b23e8564e29960ca": {
      "model_module": "@jupyter-widgets/base",
      "model_module_version": "1.2.0",
      "model_name": "LayoutModel",
      "state": {}
     },
     "634c774ad1f04a0c99ba5b463a611e96": {
      "model_module": "@jupyter-widgets/controls",
      "model_module_version": "1.5.0",
      "model_name": "HTMLModel",
      "state": {
       "layout": "IPY_MODEL_4fbc901c80034cb48c257cf6cb2f976f",
       "style": "IPY_MODEL_4915d33ee9f24cffbc80fbc3e5412ea5",
       "value": " 1/1 [00:00&lt;00:00, 54.05it/s]"
      }
     },
     "639dfb6b62fe4c58986ea9fb3aa0b502": {
      "model_module": "@jupyter-widgets/controls",
      "model_module_version": "1.5.0",
      "model_name": "HTMLModel",
      "state": {
       "layout": "IPY_MODEL_7c17f6d1853f46488834c0b3b8ce8816",
       "style": "IPY_MODEL_cab8a142eed04212b22e353303753334",
       "value": "100%"
      }
     },
     "64d0c149e4a644ba86322a198e72f483": {
      "model_module": "@jupyter-widgets/controls",
      "model_module_version": "1.5.0",
      "model_name": "ProgressStyleModel",
      "state": {
       "description_width": ""
      }
     },
     "65eb8a656e644ffbbdf39da2be299fd7": {
      "model_module": "@jupyter-widgets/base",
      "model_module_version": "1.2.0",
      "model_name": "LayoutModel",
      "state": {}
     },
     "6639fe79534346989df0daf4321d311d": {
      "model_module": "@jupyter-widgets/controls",
      "model_module_version": "1.5.0",
      "model_name": "DescriptionStyleModel",
      "state": {
       "description_width": ""
      }
     },
     "678b14b7324546108e5cb34765606126": {
      "model_module": "@jupyter-widgets/base",
      "model_module_version": "1.2.0",
      "model_name": "LayoutModel",
      "state": {}
     },
     "6836916416a249eda6cec676747da9f8": {
      "model_module": "@jupyter-widgets/base",
      "model_module_version": "1.2.0",
      "model_name": "LayoutModel",
      "state": {}
     },
     "686b986b72804664821dc24ab0b5c90e": {
      "model_module": "@jupyter-widgets/base",
      "model_module_version": "1.2.0",
      "model_name": "LayoutModel",
      "state": {}
     },
     "697f499d8f7b4ce0a98d0eb810c67f2e": {
      "model_module": "@jupyter-widgets/controls",
      "model_module_version": "1.5.0",
      "model_name": "DescriptionStyleModel",
      "state": {
       "description_width": ""
      }
     },
     "69bd085bf1de4c348bd83038c6de2983": {
      "model_module": "@jupyter-widgets/base",
      "model_module_version": "1.2.0",
      "model_name": "LayoutModel",
      "state": {}
     },
     "6a436c981d2b4665a1fae2b36d3e86aa": {
      "model_module": "@jupyter-widgets/controls",
      "model_module_version": "1.5.0",
      "model_name": "ProgressStyleModel",
      "state": {
       "description_width": ""
      }
     },
     "6b57411045ce47e3bcb4823e6216c525": {
      "model_module": "@jupyter-widgets/controls",
      "model_module_version": "1.5.0",
      "model_name": "ProgressStyleModel",
      "state": {
       "description_width": ""
      }
     },
     "6c62334206164fc38ebf1d655e4e2c8f": {
      "model_module": "@jupyter-widgets/base",
      "model_module_version": "1.2.0",
      "model_name": "LayoutModel",
      "state": {}
     },
     "6c8d52ea217d4108aa8b15db4433b48b": {
      "model_module": "@jupyter-widgets/controls",
      "model_module_version": "1.5.0",
      "model_name": "HTMLModel",
      "state": {
       "layout": "IPY_MODEL_f27f3d933e914b53b1980465c75b8a6b",
       "style": "IPY_MODEL_461b5ec8b92e48309d23bfd7f9ca4641",
       "value": "  0%"
      }
     },
     "6cb264e28f7c40e89d947db29ebe9eaa": {
      "model_module": "@jupyter-widgets/base",
      "model_module_version": "1.2.0",
      "model_name": "LayoutModel",
      "state": {}
     },
     "6cc460f374fd45cda482c6dbaf82c597": {
      "model_module": "@jupyter-widgets/controls",
      "model_module_version": "1.5.0",
      "model_name": "HBoxModel",
      "state": {
       "children": [
        "IPY_MODEL_84c1d815b00a42e08049d00c2cd6498d",
        "IPY_MODEL_4904309ba5d6408198523074575b16a9",
        "IPY_MODEL_f1203127c5ac4b178361a2e6b75d4576"
       ],
       "layout": "IPY_MODEL_330e6789a1c54321b32caacd47768d6f"
      }
     },
     "6cd46750f81c4017895ea788d0677913": {
      "model_module": "@jupyter-widgets/base",
      "model_module_version": "1.2.0",
      "model_name": "LayoutModel",
      "state": {}
     },
     "6ce8631cb3b54d4f8c39895b0d29d520": {
      "model_module": "@jupyter-widgets/controls",
      "model_module_version": "1.5.0",
      "model_name": "DescriptionStyleModel",
      "state": {
       "description_width": ""
      }
     },
     "709e400fb5074ad9a61462c9a957e673": {
      "model_module": "@jupyter-widgets/controls",
      "model_module_version": "1.5.0",
      "model_name": "DescriptionStyleModel",
      "state": {
       "description_width": ""
      }
     },
     "70aca2de58094c4696e38896dc14c294": {
      "model_module": "@jupyter-widgets/base",
      "model_module_version": "1.2.0",
      "model_name": "LayoutModel",
      "state": {}
     },
     "70fe0e27a1224e8e89b0d7ce99505677": {
      "model_module": "@jupyter-widgets/controls",
      "model_module_version": "1.5.0",
      "model_name": "HTMLModel",
      "state": {
       "layout": "IPY_MODEL_3079e3f13d1244338af95800c2e91a77",
       "style": "IPY_MODEL_8c94ac490649448e9637d5d48c081b3b",
       "value": " 1/1 [00:00&lt;00:00, 54.96it/s]"
      }
     },
     "7278e66f62c54da7ac98c63315c5eabe": {
      "model_module": "@jupyter-widgets/controls",
      "model_module_version": "1.5.0",
      "model_name": "HTMLModel",
      "state": {
       "layout": "IPY_MODEL_dffc2fb9e8d64511aaf0c34c165e1d30",
       "style": "IPY_MODEL_9aa4943fa7ca40cf867dcf74ad28a8fb",
       "value": " 1/1 [00:00&lt;00:00, 46.38it/s]"
      }
     },
     "72f765d1624647648f473b68b77869be": {
      "model_module": "@jupyter-widgets/controls",
      "model_module_version": "1.5.0",
      "model_name": "DescriptionStyleModel",
      "state": {
       "description_width": ""
      }
     },
     "759195d9d57d492a9158d63e0ea3a0e3": {
      "model_module": "@jupyter-widgets/controls",
      "model_module_version": "1.5.0",
      "model_name": "FloatProgressModel",
      "state": {
       "bar_style": "success",
       "layout": "IPY_MODEL_ff42b3aaac154cbea7d768383b1e6687",
       "max": 1,
       "style": "IPY_MODEL_1069d5fb8d584a12a6c216fc5f795fe1",
       "value": 1
      }
     },
     "770c5207242e439bae9d472464299ce5": {
      "model_module": "@jupyter-widgets/controls",
      "model_module_version": "1.5.0",
      "model_name": "HTMLModel",
      "state": {
       "layout": "IPY_MODEL_ab74c8f6a7cd4a118e11768b927348fb",
       "style": "IPY_MODEL_9a6d6bbd12ec425b91ff9db94700b814",
       "value": "100%"
      }
     },
     "7748e6cf7d014b1a84e30a1ed25240c6": {
      "model_module": "@jupyter-widgets/controls",
      "model_module_version": "1.5.0",
      "model_name": "DescriptionStyleModel",
      "state": {
       "description_width": ""
      }
     },
     "779dc9b9eeec487cb272e647d3ede070": {
      "model_module": "@jupyter-widgets/controls",
      "model_module_version": "1.5.0",
      "model_name": "HTMLModel",
      "state": {
       "layout": "IPY_MODEL_974a4bebbce9425c9fed016e83d404a5",
       "style": "IPY_MODEL_d26b4a524ac1401385702b7998d62cda",
       "value": "100%"
      }
     },
     "78b7d91146984a8bab5c2b67f09e0835": {
      "model_module": "@jupyter-widgets/controls",
      "model_module_version": "1.5.0",
      "model_name": "ProgressStyleModel",
      "state": {
       "description_width": ""
      }
     },
     "7a54fe2a2e6242c6988d8e1171b20699": {
      "model_module": "@jupyter-widgets/controls",
      "model_module_version": "1.5.0",
      "model_name": "ProgressStyleModel",
      "state": {
       "description_width": ""
      }
     },
     "7acca5eb81c54d64a3aee30147f6beda": {
      "model_module": "@jupyter-widgets/controls",
      "model_module_version": "1.5.0",
      "model_name": "FloatProgressModel",
      "state": {
       "bar_style": "success",
       "layout": "IPY_MODEL_6836916416a249eda6cec676747da9f8",
       "max": 1,
       "style": "IPY_MODEL_b626e2d4912e49888098e6cc90b03d47",
       "value": 1
      }
     },
     "7b8f9900049e4e109c2af091b75f6c01": {
      "model_module": "@jupyter-widgets/controls",
      "model_module_version": "1.5.0",
      "model_name": "FloatProgressModel",
      "state": {
       "bar_style": "success",
       "layout": "IPY_MODEL_dbb20bffa9d345efbc51c746cceaa3b7",
       "max": 1,
       "style": "IPY_MODEL_c073bc39a8de4732aec0f1ba6eee5d97",
       "value": 1
      }
     },
     "7c17f6d1853f46488834c0b3b8ce8816": {
      "model_module": "@jupyter-widgets/base",
      "model_module_version": "1.2.0",
      "model_name": "LayoutModel",
      "state": {}
     },
     "7c7f2fd37ff64c42ad6ae214fe90253a": {
      "model_module": "@jupyter-widgets/base",
      "model_module_version": "1.2.0",
      "model_name": "LayoutModel",
      "state": {}
     },
     "7c89d0b6df2947458e50ea1d844724e6": {
      "model_module": "@jupyter-widgets/base",
      "model_module_version": "1.2.0",
      "model_name": "LayoutModel",
      "state": {}
     },
     "7e971561dc1f4995af6df8cd83ab399f": {
      "model_module": "@jupyter-widgets/controls",
      "model_module_version": "1.5.0",
      "model_name": "HTMLModel",
      "state": {
       "layout": "IPY_MODEL_101facba8ebc4195a2b814de4b224ab1",
       "style": "IPY_MODEL_0ed54db9c7d6446faed30f1a5598191b",
       "value": "100%"
      }
     },
     "7ec8e598340f44e38678a00169d277a1": {
      "model_module": "@jupyter-widgets/base",
      "model_module_version": "1.2.0",
      "model_name": "LayoutModel",
      "state": {}
     },
     "7f913a99df064b979e4b644ec0e8fa22": {
      "model_module": "@jupyter-widgets/controls",
      "model_module_version": "1.5.0",
      "model_name": "HTMLModel",
      "state": {
       "layout": "IPY_MODEL_db4c714d52794d2b96bd0da1c24e017d",
       "style": "IPY_MODEL_f708c41b605943eab7dae13770e2196c",
       "value": " 1/1 [00:00&lt;00:00, 56.06it/s]"
      }
     },
     "8031f7d1393747cd8b1b3a2d23397512": {
      "model_module": "@jupyter-widgets/controls",
      "model_module_version": "1.5.0",
      "model_name": "FloatProgressModel",
      "state": {
       "bar_style": "success",
       "layout": "IPY_MODEL_23cf7495f37b4ce1b6ebf18c0fad57de",
       "max": 1,
       "style": "IPY_MODEL_6a436c981d2b4665a1fae2b36d3e86aa",
       "value": 1
      }
     },
     "80c0f834a96749f0a15a4cd3aad03a3b": {
      "model_module": "@jupyter-widgets/controls",
      "model_module_version": "1.5.0",
      "model_name": "DescriptionStyleModel",
      "state": {
       "description_width": ""
      }
     },
     "82224b154dd64b3eb5064cecd29afea1": {
      "model_module": "@jupyter-widgets/base",
      "model_module_version": "1.2.0",
      "model_name": "LayoutModel",
      "state": {}
     },
     "82c75c04df584cc5ab65984032d3e2b8": {
      "model_module": "@jupyter-widgets/base",
      "model_module_version": "1.2.0",
      "model_name": "LayoutModel",
      "state": {}
     },
     "84c1d815b00a42e08049d00c2cd6498d": {
      "model_module": "@jupyter-widgets/controls",
      "model_module_version": "1.5.0",
      "model_name": "HTMLModel",
      "state": {
       "layout": "IPY_MODEL_96c86190e45242d997a3b169901a6836",
       "style": "IPY_MODEL_0c1d30562bf64735ab6343702d809641",
       "value": "100%"
      }
     },
     "85680d3c3a904335ab6f78c7befe2b1f": {
      "model_module": "@jupyter-widgets/controls",
      "model_module_version": "1.5.0",
      "model_name": "DescriptionStyleModel",
      "state": {
       "description_width": ""
      }
     },
     "863c34ec4fa8412b967e790a50a46e70": {
      "model_module": "@jupyter-widgets/base",
      "model_module_version": "1.2.0",
      "model_name": "LayoutModel",
      "state": {}
     },
     "866710c9f28b42e8af04cc8eb078375f": {
      "model_module": "@jupyter-widgets/controls",
      "model_module_version": "1.5.0",
      "model_name": "DescriptionStyleModel",
      "state": {
       "description_width": ""
      }
     },
     "8676698562644ce7988fb91651b5636f": {
      "model_module": "@jupyter-widgets/base",
      "model_module_version": "1.2.0",
      "model_name": "LayoutModel",
      "state": {}
     },
     "87d19f7ab00d461e99cdd43b02b2f792": {
      "model_module": "@jupyter-widgets/controls",
      "model_module_version": "1.5.0",
      "model_name": "DescriptionStyleModel",
      "state": {
       "description_width": ""
      }
     },
     "88b44afdc20c49899bf6405c40e1efe8": {
      "model_module": "@jupyter-widgets/base",
      "model_module_version": "1.2.0",
      "model_name": "LayoutModel",
      "state": {}
     },
     "894ca0307a55496088880a325c86e50c": {
      "model_module": "@jupyter-widgets/controls",
      "model_module_version": "1.5.0",
      "model_name": "HTMLModel",
      "state": {
       "layout": "IPY_MODEL_6cb264e28f7c40e89d947db29ebe9eaa",
       "style": "IPY_MODEL_dde3d00c48c44c3190c6ec125b446da7",
       "value": " 1/1 [00:00&lt;00:00, 34.30it/s]"
      }
     },
     "89869bcbddd1483c893e9efff5377a8d": {
      "model_module": "@jupyter-widgets/controls",
      "model_module_version": "1.5.0",
      "model_name": "ProgressStyleModel",
      "state": {
       "description_width": ""
      }
     },
     "8b701da809f845daabe49784f954d59b": {
      "model_module": "@jupyter-widgets/base",
      "model_module_version": "1.2.0",
      "model_name": "LayoutModel",
      "state": {}
     },
     "8b8265789cae4303b5f704cb552be561": {
      "model_module": "@jupyter-widgets/base",
      "model_module_version": "1.2.0",
      "model_name": "LayoutModel",
      "state": {}
     },
     "8bee9e0af6524d5e87a0745498d660e0": {
      "model_module": "@jupyter-widgets/base",
      "model_module_version": "1.2.0",
      "model_name": "LayoutModel",
      "state": {}
     },
     "8c421d2ca86b491c8763cd538036371a": {
      "model_module": "@jupyter-widgets/controls",
      "model_module_version": "1.5.0",
      "model_name": "ProgressStyleModel",
      "state": {
       "description_width": ""
      }
     },
     "8c94ac490649448e9637d5d48c081b3b": {
      "model_module": "@jupyter-widgets/controls",
      "model_module_version": "1.5.0",
      "model_name": "DescriptionStyleModel",
      "state": {
       "description_width": ""
      }
     },
     "8cb705683dc441be9365b3293621efbf": {
      "model_module": "@jupyter-widgets/controls",
      "model_module_version": "1.5.0",
      "model_name": "DescriptionStyleModel",
      "state": {
       "description_width": ""
      }
     },
     "8e4d3c48ebb740cb8cfcca165eee61e2": {
      "model_module": "@jupyter-widgets/base",
      "model_module_version": "1.2.0",
      "model_name": "LayoutModel",
      "state": {}
     },
     "8f115e9e0c084775b87bf7a6a1d3a7c2": {
      "model_module": "@jupyter-widgets/base",
      "model_module_version": "1.2.0",
      "model_name": "LayoutModel",
      "state": {}
     },
     "8f2f71d9402e4e4e91963a5341fbfe49": {
      "model_module": "@jupyter-widgets/controls",
      "model_module_version": "1.5.0",
      "model_name": "HTMLModel",
      "state": {
       "layout": "IPY_MODEL_920217f01f9849a3bdc9cf64e37060de",
       "style": "IPY_MODEL_d1a638b2c74342ebb67115f4986d3990",
       "value": "100%"
      }
     },
     "910fd1a4c871459588fa5decac048918": {
      "model_module": "@jupyter-widgets/controls",
      "model_module_version": "1.5.0",
      "model_name": "HTMLModel",
      "state": {
       "layout": "IPY_MODEL_f402369dbc04436ea2489ec6383b540a",
       "style": "IPY_MODEL_40e5186947a245c18eb5739499d76b05",
       "value": "100%"
      }
     },
     "91c593a8f53145b498a4ffa953760ac6": {
      "model_module": "@jupyter-widgets/controls",
      "model_module_version": "1.5.0",
      "model_name": "HTMLModel",
      "state": {
       "layout": "IPY_MODEL_3f235a8144624bca9d15ca8835240e17",
       "style": "IPY_MODEL_4f8c4facb31c4f97967b9f51f686059b",
       "value": " 1/1 [00:00&lt;00:00, 49.68it/s]"
      }
     },
     "920217f01f9849a3bdc9cf64e37060de": {
      "model_module": "@jupyter-widgets/base",
      "model_module_version": "1.2.0",
      "model_name": "LayoutModel",
      "state": {}
     },
     "93560790441c4778af9510c656150418": {
      "model_module": "@jupyter-widgets/controls",
      "model_module_version": "1.5.0",
      "model_name": "FloatProgressModel",
      "state": {
       "bar_style": "success",
       "layout": "IPY_MODEL_415a3aeab739440cab26237abd3d9161",
       "max": 1,
       "style": "IPY_MODEL_3576c01eed66466aba7fd8c1f810bae3",
       "value": 1
      }
     },
     "95649244c34d41288754c4e4fa3b81a2": {
      "model_module": "@jupyter-widgets/controls",
      "model_module_version": "1.5.0",
      "model_name": "DescriptionStyleModel",
      "state": {
       "description_width": ""
      }
     },
     "9577aa04e12a4dd985a68816042ace80": {
      "model_module": "@jupyter-widgets/controls",
      "model_module_version": "1.5.0",
      "model_name": "HBoxModel",
      "state": {
       "children": [
        "IPY_MODEL_2aa9c23089ba4f2e8b7c85339c9189e2",
        "IPY_MODEL_44a3356500cf4665904ffdb554197578",
        "IPY_MODEL_9ba7dd495a764668b40791c5678dc7a6"
       ],
       "layout": "IPY_MODEL_8f115e9e0c084775b87bf7a6a1d3a7c2"
      }
     },
     "9602360cca8940598f456b7c17e0208b": {
      "model_module": "@jupyter-widgets/controls",
      "model_module_version": "1.5.0",
      "model_name": "FloatProgressModel",
      "state": {
       "bar_style": "success",
       "layout": "IPY_MODEL_49c32159a7424809a4fe8448583ecca3",
       "max": 1,
       "style": "IPY_MODEL_c7f6297a18204bcead9b9f9a21025233",
       "value": 1
      }
     },
     "962a40d2eaad40e399aa99cee75ebd17": {
      "model_module": "@jupyter-widgets/base",
      "model_module_version": "1.2.0",
      "model_name": "LayoutModel",
      "state": {}
     },
     "964bade6e2af497680d5162046f1b3a6": {
      "model_module": "@jupyter-widgets/controls",
      "model_module_version": "1.5.0",
      "model_name": "HTMLModel",
      "state": {
       "layout": "IPY_MODEL_8b8265789cae4303b5f704cb552be561",
       "style": "IPY_MODEL_082cb275fc164a2ea4d90e4797658e38",
       "value": " 1/1 [00:00&lt;00:00, 52.10it/s]"
      }
     },
     "966381ab241846378fd7499079ca89e4": {
      "model_module": "@jupyter-widgets/controls",
      "model_module_version": "1.5.0",
      "model_name": "DescriptionStyleModel",
      "state": {
       "description_width": ""
      }
     },
     "96c86190e45242d997a3b169901a6836": {
      "model_module": "@jupyter-widgets/base",
      "model_module_version": "1.2.0",
      "model_name": "LayoutModel",
      "state": {}
     },
     "96fd8cc60fb74820afb4e25bf8b31f52": {
      "model_module": "@jupyter-widgets/controls",
      "model_module_version": "1.5.0",
      "model_name": "HBoxModel",
      "state": {
       "children": [
        "IPY_MODEL_9819047bcd904c8c973a6f1e5a3be8d5",
        "IPY_MODEL_df92d7053c4b4407b3e52f9844ca3ea7",
        "IPY_MODEL_3a6e7b17c9d848ad98703f6851a361c3"
       ],
       "layout": "IPY_MODEL_16c0618b8caa4e599ab688c74bedcc07"
      }
     },
     "974a4bebbce9425c9fed016e83d404a5": {
      "model_module": "@jupyter-widgets/base",
      "model_module_version": "1.2.0",
      "model_name": "LayoutModel",
      "state": {}
     },
     "97bcdd90fae44fcf8f6ae56f52a135b5": {
      "model_module": "@jupyter-widgets/controls",
      "model_module_version": "1.5.0",
      "model_name": "DescriptionStyleModel",
      "state": {
       "description_width": ""
      }
     },
     "9819047bcd904c8c973a6f1e5a3be8d5": {
      "model_module": "@jupyter-widgets/controls",
      "model_module_version": "1.5.0",
      "model_name": "HTMLModel",
      "state": {
       "layout": "IPY_MODEL_fbbf69d537f54159a76157e26fccde3d",
       "style": "IPY_MODEL_c3b185edd1d04240962e5cc04a8b3121",
       "value": "100%"
      }
     },
     "99b9f226e7c94117bb91db65906e9e1b": {
      "model_module": "@jupyter-widgets/controls",
      "model_module_version": "1.5.0",
      "model_name": "FloatProgressModel",
      "state": {
       "bar_style": "success",
       "layout": "IPY_MODEL_1b0ec56cbf8242a0b50b41017a6913a0",
       "max": 1,
       "style": "IPY_MODEL_8c421d2ca86b491c8763cd538036371a",
       "value": 1
      }
     },
     "9a584b50973946ddb299ac7779dc1e52": {
      "model_module": "@jupyter-widgets/base",
      "model_module_version": "1.2.0",
      "model_name": "LayoutModel",
      "state": {}
     },
     "9a6d6bbd12ec425b91ff9db94700b814": {
      "model_module": "@jupyter-widgets/controls",
      "model_module_version": "1.5.0",
      "model_name": "DescriptionStyleModel",
      "state": {
       "description_width": ""
      }
     },
     "9aa4943fa7ca40cf867dcf74ad28a8fb": {
      "model_module": "@jupyter-widgets/controls",
      "model_module_version": "1.5.0",
      "model_name": "DescriptionStyleModel",
      "state": {
       "description_width": ""
      }
     },
     "9ba7dd495a764668b40791c5678dc7a6": {
      "model_module": "@jupyter-widgets/controls",
      "model_module_version": "1.5.0",
      "model_name": "HTMLModel",
      "state": {
       "layout": "IPY_MODEL_8e4d3c48ebb740cb8cfcca165eee61e2",
       "style": "IPY_MODEL_bad0b40b80ce481aae8943a4b8238fba",
       "value": " 2/2 [00:00&lt;00:00, 125.26it/s]"
      }
     },
     "9d2c94352cc249deaa6feb45e7ceb476": {
      "model_module": "@jupyter-widgets/base",
      "model_module_version": "1.2.0",
      "model_name": "LayoutModel",
      "state": {}
     },
     "9eb41c48f08a42f3b9771868b239bd29": {
      "model_module": "@jupyter-widgets/base",
      "model_module_version": "1.2.0",
      "model_name": "LayoutModel",
      "state": {}
     },
     "9f905315743f43d4826fa2bb1bb28e62": {
      "model_module": "@jupyter-widgets/base",
      "model_module_version": "1.2.0",
      "model_name": "LayoutModel",
      "state": {}
     },
     "9f91f6799c394655b82b6da8fc36d7b3": {
      "model_module": "@jupyter-widgets/controls",
      "model_module_version": "1.5.0",
      "model_name": "DescriptionStyleModel",
      "state": {
       "description_width": ""
      }
     },
     "a1172ccded8b48868f25e5968a53cf80": {
      "model_module": "@jupyter-widgets/base",
      "model_module_version": "1.2.0",
      "model_name": "LayoutModel",
      "state": {}
     },
     "a22130d8759743888e327e7ae8300d9c": {
      "model_module": "@jupyter-widgets/base",
      "model_module_version": "1.2.0",
      "model_name": "LayoutModel",
      "state": {}
     },
     "a269684f8435445bac396dd078d9aab9": {
      "model_module": "@jupyter-widgets/base",
      "model_module_version": "1.2.0",
      "model_name": "LayoutModel",
      "state": {}
     },
     "a437fde0fd3a48ee97f1ca8337f9e0e3": {
      "model_module": "@jupyter-widgets/controls",
      "model_module_version": "1.5.0",
      "model_name": "HBoxModel",
      "state": {
       "children": [
        "IPY_MODEL_a5864a5594584390b040953750f07a80",
        "IPY_MODEL_7b8f9900049e4e109c2af091b75f6c01",
        "IPY_MODEL_f3f3f77350e8465384f003973a2c42b2"
       ],
       "layout": "IPY_MODEL_b1729d295e5942e8a2ec80d4ca1f4a18"
      }
     },
     "a5696680911e4d7f85b3a545cf0c3a5f": {
      "model_module": "@jupyter-widgets/base",
      "model_module_version": "1.2.0",
      "model_name": "LayoutModel",
      "state": {}
     },
     "a5864a5594584390b040953750f07a80": {
      "model_module": "@jupyter-widgets/controls",
      "model_module_version": "1.5.0",
      "model_name": "HTMLModel",
      "state": {
       "layout": "IPY_MODEL_2bc7f0ccdfb246f7a95e6a33e918449c",
       "style": "IPY_MODEL_866710c9f28b42e8af04cc8eb078375f",
       "value": "100%"
      }
     },
     "aa8de391d312440cb70ec1cf4b3e9a0e": {
      "model_module": "@jupyter-widgets/controls",
      "model_module_version": "1.5.0",
      "model_name": "FloatProgressModel",
      "state": {
       "bar_style": "success",
       "layout": "IPY_MODEL_9a584b50973946ddb299ac7779dc1e52",
       "max": 1,
       "style": "IPY_MODEL_c09ef11261124bf1997e342536870139",
       "value": 1
      }
     },
     "ab74c8f6a7cd4a118e11768b927348fb": {
      "model_module": "@jupyter-widgets/base",
      "model_module_version": "1.2.0",
      "model_name": "LayoutModel",
      "state": {}
     },
     "abc6d4b8fe4149bcbc17d26ba9921505": {
      "model_module": "@jupyter-widgets/controls",
      "model_module_version": "1.5.0",
      "model_name": "HBoxModel",
      "state": {
       "children": [
        "IPY_MODEL_4ee760157e39493981553c1200870065",
        "IPY_MODEL_cf28e95e92b04c6bbd939e99cd98b83e",
        "IPY_MODEL_1ddcaaa717f64d2e9c9228020051821e"
       ],
       "layout": "IPY_MODEL_d886bf8ca68a48ff84b169b3e918cb59"
      }
     },
     "ad30db4cad6d4ee495b9c7ab4a9fc7ba": {
      "model_module": "@jupyter-widgets/controls",
      "model_module_version": "1.5.0",
      "model_name": "HTMLModel",
      "state": {
       "layout": "IPY_MODEL_c0a2e4159b594880bfdce7ec7a164b46",
       "style": "IPY_MODEL_51e9460a0cca417baf1f9735f8423fc5",
       "value": "100%"
      }
     },
     "afce44cc91a743d9bbcb40e2b18422a8": {
      "model_module": "@jupyter-widgets/controls",
      "model_module_version": "1.5.0",
      "model_name": "HBoxModel",
      "state": {
       "children": [
        "IPY_MODEL_29aed3bd46654fbd8514debd0f4c81a2",
        "IPY_MODEL_e10cddf704e9414399dad51b6bd03bcf",
        "IPY_MODEL_964bade6e2af497680d5162046f1b3a6"
       ],
       "layout": "IPY_MODEL_480d88e337714893a6f15b4c587bf368"
      }
     },
     "b05996f5dc784e3ba5f4f3a7a346f44b": {
      "model_module": "@jupyter-widgets/controls",
      "model_module_version": "1.5.0",
      "model_name": "HBoxModel",
      "state": {
       "children": [
        "IPY_MODEL_6c8d52ea217d4108aa8b15db4433b48b",
        "IPY_MODEL_305e6a96037d436298d2bd76e88a6230",
        "IPY_MODEL_4dcd1117083e49888f3cd1527e3b630c"
       ],
       "layout": "IPY_MODEL_1d5d97a64a5c49b09f73876615ca3007"
      }
     },
     "b1729d295e5942e8a2ec80d4ca1f4a18": {
      "model_module": "@jupyter-widgets/base",
      "model_module_version": "1.2.0",
      "model_name": "LayoutModel",
      "state": {}
     },
     "b20551a2dedd4f49887617d3f733581d": {
      "model_module": "@jupyter-widgets/controls",
      "model_module_version": "1.5.0",
      "model_name": "FloatProgressModel",
      "state": {
       "bar_style": "success",
       "layout": "IPY_MODEL_2b8d1701e4c648c88881e3cf91e3780d",
       "max": 1,
       "style": "IPY_MODEL_2b33de00f7644ef69e58294b8b9319d7",
       "value": 1
      }
     },
     "b21f394f1c2d4e8b8216633dedc9516b": {
      "model_module": "@jupyter-widgets/base",
      "model_module_version": "1.2.0",
      "model_name": "LayoutModel",
      "state": {}
     },
     "b4cabe3acd1c4c16bc68f505057961b2": {
      "model_module": "@jupyter-widgets/controls",
      "model_module_version": "1.5.0",
      "model_name": "HTMLModel",
      "state": {
       "layout": "IPY_MODEL_7ec8e598340f44e38678a00169d277a1",
       "style": "IPY_MODEL_ece6e43cb5f04d2f802c36db690163a0",
       "value": "100%"
      }
     },
     "b5e5db548b4f451195d0a639efc201c1": {
      "model_module": "@jupyter-widgets/controls",
      "model_module_version": "1.5.0",
      "model_name": "FloatProgressModel",
      "state": {
       "bar_style": "success",
       "layout": "IPY_MODEL_141235e24b394a7893c61a03203ac7f0",
       "max": 1,
       "style": "IPY_MODEL_27d6553a77b84fb78ee94162d06b84dc",
       "value": 1
      }
     },
     "b626e2d4912e49888098e6cc90b03d47": {
      "model_module": "@jupyter-widgets/controls",
      "model_module_version": "1.5.0",
      "model_name": "ProgressStyleModel",
      "state": {
       "description_width": ""
      }
     },
     "b69f1c8783c14eb5ac94a5f294503b7e": {
      "model_module": "@jupyter-widgets/base",
      "model_module_version": "1.2.0",
      "model_name": "LayoutModel",
      "state": {}
     },
     "b7e2984d7b5846b09199762852354206": {
      "model_module": "@jupyter-widgets/controls",
      "model_module_version": "1.5.0",
      "model_name": "HBoxModel",
      "state": {
       "children": [
        "IPY_MODEL_ad30db4cad6d4ee495b9c7ab4a9fc7ba",
        "IPY_MODEL_8031f7d1393747cd8b1b3a2d23397512",
        "IPY_MODEL_e9b92c7fe4b846a79fc58221bc31968a"
       ],
       "layout": "IPY_MODEL_c27082f83b1e41adbc75034130984e06"
      }
     },
     "b83009550ee04f6db7768c08f4dc6da8": {
      "model_module": "@jupyter-widgets/controls",
      "model_module_version": "1.5.0",
      "model_name": "HTMLModel",
      "state": {
       "layout": "IPY_MODEL_a5696680911e4d7f85b3a545cf0c3a5f",
       "style": "IPY_MODEL_e84058b559274f0dac1d2aae9f86a0fa",
       "value": " 1/1 [00:00&lt;00:00, 52.85it/s]"
      }
     },
     "b856b92aa6224b4998f937efa5138046": {
      "model_module": "@jupyter-widgets/controls",
      "model_module_version": "1.5.0",
      "model_name": "HTMLModel",
      "state": {
       "layout": "IPY_MODEL_63208fda79d24d58b23e8564e29960ca",
       "style": "IPY_MODEL_ce439e7813ff444385c835a72dcd0390",
       "value": " 2/2 [00:00&lt;00:00, 101.61it/s]"
      }
     },
     "bad0b40b80ce481aae8943a4b8238fba": {
      "model_module": "@jupyter-widgets/controls",
      "model_module_version": "1.5.0",
      "model_name": "DescriptionStyleModel",
      "state": {
       "description_width": ""
      }
     },
     "c0547cb19357440d84b7f4a9970d14ae": {
      "model_module": "@jupyter-widgets/base",
      "model_module_version": "1.2.0",
      "model_name": "LayoutModel",
      "state": {}
     },
     "c073bc39a8de4732aec0f1ba6eee5d97": {
      "model_module": "@jupyter-widgets/controls",
      "model_module_version": "1.5.0",
      "model_name": "ProgressStyleModel",
      "state": {
       "description_width": ""
      }
     },
     "c09ef11261124bf1997e342536870139": {
      "model_module": "@jupyter-widgets/controls",
      "model_module_version": "1.5.0",
      "model_name": "ProgressStyleModel",
      "state": {
       "description_width": ""
      }
     },
     "c0a2e4159b594880bfdce7ec7a164b46": {
      "model_module": "@jupyter-widgets/base",
      "model_module_version": "1.2.0",
      "model_name": "LayoutModel",
      "state": {}
     },
     "c0d3b590ff6a432ca3c37c2cf08d34ba": {
      "model_module": "@jupyter-widgets/controls",
      "model_module_version": "1.5.0",
      "model_name": "HTMLModel",
      "state": {
       "layout": "IPY_MODEL_69bd085bf1de4c348bd83038c6de2983",
       "style": "IPY_MODEL_5415136ab133449e9c9d19c212946481",
       "value": " 1/1 [00:00&lt;00:00, 53.59it/s]"
      }
     },
     "c0ee17e87fcf449c9cd19cfddaf0fee4": {
      "model_module": "@jupyter-widgets/controls",
      "model_module_version": "1.5.0",
      "model_name": "DescriptionStyleModel",
      "state": {
       "description_width": ""
      }
     },
     "c21ca0b1d2e242998df577849890a8d7": {
      "model_module": "@jupyter-widgets/controls",
      "model_module_version": "1.5.0",
      "model_name": "ProgressStyleModel",
      "state": {
       "description_width": ""
      }
     },
     "c250c8a07fb043e6aaae8c5d9c1eee2b": {
      "model_module": "@jupyter-widgets/controls",
      "model_module_version": "1.5.0",
      "model_name": "FloatProgressModel",
      "state": {
       "bar_style": "success",
       "layout": "IPY_MODEL_0598d114ece44617a0e8a619d54c1d76",
       "max": 1,
       "style": "IPY_MODEL_30bf6d583ea1443781eb960ddcec164c",
       "value": 1
      }
     },
     "c27082f83b1e41adbc75034130984e06": {
      "model_module": "@jupyter-widgets/base",
      "model_module_version": "1.2.0",
      "model_name": "LayoutModel",
      "state": {}
     },
     "c350197396f945848722e7df7d072654": {
      "model_module": "@jupyter-widgets/base",
      "model_module_version": "1.2.0",
      "model_name": "LayoutModel",
      "state": {}
     },
     "c3b185edd1d04240962e5cc04a8b3121": {
      "model_module": "@jupyter-widgets/controls",
      "model_module_version": "1.5.0",
      "model_name": "DescriptionStyleModel",
      "state": {
       "description_width": ""
      }
     },
     "c61be7529bf44b7182ab576218275d22": {
      "model_module": "@jupyter-widgets/base",
      "model_module_version": "1.2.0",
      "model_name": "LayoutModel",
      "state": {}
     },
     "c7f6297a18204bcead9b9f9a21025233": {
      "model_module": "@jupyter-widgets/controls",
      "model_module_version": "1.5.0",
      "model_name": "ProgressStyleModel",
      "state": {
       "description_width": ""
      }
     },
     "c8956b5f5c4846e480546de6f3c0f9e9": {
      "model_module": "@jupyter-widgets/controls",
      "model_module_version": "1.5.0",
      "model_name": "HTMLModel",
      "state": {
       "layout": "IPY_MODEL_eb6c91835ad34a6a9b5a8d78816a8ab8",
       "style": "IPY_MODEL_fafc82433f6247e4a5cb838563d18a28",
       "value": " 1/1 [00:00&lt;00:00, 32.07it/s]"
      }
     },
     "c8d87a66547c44a7912b550412bfec14": {
      "model_module": "@jupyter-widgets/controls",
      "model_module_version": "1.5.0",
      "model_name": "HBoxModel",
      "state": {
       "children": [
        "IPY_MODEL_8f2f71d9402e4e4e91963a5341fbfe49",
        "IPY_MODEL_b20551a2dedd4f49887617d3f733581d",
        "IPY_MODEL_b83009550ee04f6db7768c08f4dc6da8"
       ],
       "layout": "IPY_MODEL_1c2a354ba0044cf387e954f37b0edadc"
      }
     },
     "c963e3b3c3ef484a98756119caf01f57": {
      "model_module": "@jupyter-widgets/controls",
      "model_module_version": "1.5.0",
      "model_name": "DescriptionStyleModel",
      "state": {
       "description_width": ""
      }
     },
     "c988e96ed48a4b2993b85d0f96e506cf": {
      "model_module": "@jupyter-widgets/controls",
      "model_module_version": "1.5.0",
      "model_name": "HTMLModel",
      "state": {
       "layout": "IPY_MODEL_dd384bfd07a84723aef508c650069527",
       "style": "IPY_MODEL_2640bab0878348c79f6cc345200c0959",
       "value": "100%"
      }
     },
     "ca076207ba264dbd9729fea69bf4d2bf": {
      "model_module": "@jupyter-widgets/controls",
      "model_module_version": "1.5.0",
      "model_name": "DescriptionStyleModel",
      "state": {
       "description_width": ""
      }
     },
     "cab8a142eed04212b22e353303753334": {
      "model_module": "@jupyter-widgets/controls",
      "model_module_version": "1.5.0",
      "model_name": "DescriptionStyleModel",
      "state": {
       "description_width": ""
      }
     },
     "cccd69cefe204284a34f7de141d00358": {
      "model_module": "@jupyter-widgets/controls",
      "model_module_version": "1.5.0",
      "model_name": "HTMLModel",
      "state": {
       "layout": "IPY_MODEL_37739d64794c4d61b458def50fee0adc",
       "style": "IPY_MODEL_eeca9eefe52d4ec5a5a9b56748b3d6d3",
       "value": "100%"
      }
     },
     "cddd1b82f8c145508e102ca0d9c1a79d": {
      "model_module": "@jupyter-widgets/controls",
      "model_module_version": "1.5.0",
      "model_name": "HBoxModel",
      "state": {
       "children": [
        "IPY_MODEL_3327933d20984b6cad4d823d1330601c",
        "IPY_MODEL_2436f296f2d341469ea63f8ec849d6df",
        "IPY_MODEL_f9db461ec0984655a44379030dda8ba1"
       ],
       "layout": "IPY_MODEL_f3a6abda49504225b52409321b83e1cc"
      }
     },
     "ce439e7813ff444385c835a72dcd0390": {
      "model_module": "@jupyter-widgets/controls",
      "model_module_version": "1.5.0",
      "model_name": "DescriptionStyleModel",
      "state": {
       "description_width": ""
      }
     },
     "ce95add854f04e38a7bfdbea8b3a28a5": {
      "model_module": "@jupyter-widgets/controls",
      "model_module_version": "1.5.0",
      "model_name": "FloatProgressModel",
      "state": {
       "bar_style": "success",
       "layout": "IPY_MODEL_7c89d0b6df2947458e50ea1d844724e6",
       "max": 338,
       "style": "IPY_MODEL_4d51ee828fb64c97a6a8b77083178c7f",
       "value": 338
      }
     },
     "cf28e95e92b04c6bbd939e99cd98b83e": {
      "model_module": "@jupyter-widgets/controls",
      "model_module_version": "1.5.0",
      "model_name": "FloatProgressModel",
      "state": {
       "bar_style": "success",
       "layout": "IPY_MODEL_2375e35dc5dd46448e14973ddf17cd71",
       "max": 1,
       "style": "IPY_MODEL_39c7848741de4393a786004c48776975",
       "value": 1
      }
     },
     "cf89f3d0fc9d49a8975441f955cc273f": {
      "model_module": "@jupyter-widgets/base",
      "model_module_version": "1.2.0",
      "model_name": "LayoutModel",
      "state": {}
     },
     "d15c3175ed4b4803b743e35f9beeb6ed": {
      "model_module": "@jupyter-widgets/base",
      "model_module_version": "1.2.0",
      "model_name": "LayoutModel",
      "state": {}
     },
     "d1a638b2c74342ebb67115f4986d3990": {
      "model_module": "@jupyter-widgets/controls",
      "model_module_version": "1.5.0",
      "model_name": "DescriptionStyleModel",
      "state": {
       "description_width": ""
      }
     },
     "d26b4a524ac1401385702b7998d62cda": {
      "model_module": "@jupyter-widgets/controls",
      "model_module_version": "1.5.0",
      "model_name": "DescriptionStyleModel",
      "state": {
       "description_width": ""
      }
     },
     "d680ff6551094d4780900522b768ebac": {
      "model_module": "@jupyter-widgets/base",
      "model_module_version": "1.2.0",
      "model_name": "LayoutModel",
      "state": {}
     },
     "d886bf8ca68a48ff84b169b3e918cb59": {
      "model_module": "@jupyter-widgets/base",
      "model_module_version": "1.2.0",
      "model_name": "LayoutModel",
      "state": {}
     },
     "d906c4ff877742b795e6a10cffef1dec": {
      "model_module": "@jupyter-widgets/controls",
      "model_module_version": "1.5.0",
      "model_name": "FloatProgressModel",
      "state": {
       "bar_style": "success",
       "layout": "IPY_MODEL_a22130d8759743888e327e7ae8300d9c",
       "max": 2,
       "style": "IPY_MODEL_7a54fe2a2e6242c6988d8e1171b20699",
       "value": 2
      }
     },
     "db4c714d52794d2b96bd0da1c24e017d": {
      "model_module": "@jupyter-widgets/base",
      "model_module_version": "1.2.0",
      "model_name": "LayoutModel",
      "state": {}
     },
     "dbaacd6a2d554544b986fe0dda7a9e3d": {
      "model_module": "@jupyter-widgets/controls",
      "model_module_version": "1.5.0",
      "model_name": "FloatProgressModel",
      "state": {
       "bar_style": "success",
       "layout": "IPY_MODEL_a269684f8435445bac396dd078d9aab9",
       "max": 1,
       "style": "IPY_MODEL_c21ca0b1d2e242998df577849890a8d7",
       "value": 1
      }
     },
     "dbb20bffa9d345efbc51c746cceaa3b7": {
      "model_module": "@jupyter-widgets/base",
      "model_module_version": "1.2.0",
      "model_name": "LayoutModel",
      "state": {}
     },
     "dc959855ae7847389c990b999d0e8895": {
      "model_module": "@jupyter-widgets/base",
      "model_module_version": "1.2.0",
      "model_name": "LayoutModel",
      "state": {}
     },
     "dd384bfd07a84723aef508c650069527": {
      "model_module": "@jupyter-widgets/base",
      "model_module_version": "1.2.0",
      "model_name": "LayoutModel",
      "state": {}
     },
     "dd7531278f804f41a3bb2114c8d683f7": {
      "model_module": "@jupyter-widgets/controls",
      "model_module_version": "1.5.0",
      "model_name": "HTMLModel",
      "state": {
       "layout": "IPY_MODEL_d15c3175ed4b4803b743e35f9beeb6ed",
       "style": "IPY_MODEL_f62fd2ab1d2f49568b2b0dd26c9b79c2",
       "value": " 338/338 [00:00&lt;00:00, 815.59it/s]"
      }
     },
     "dd8499ae0caa44a988122244bb6876e5": {
      "model_module": "@jupyter-widgets/controls",
      "model_module_version": "1.5.0",
      "model_name": "HTMLModel",
      "state": {
       "layout": "IPY_MODEL_2862bc96347a474d9d0820c573b9f98f",
       "style": "IPY_MODEL_54f6b3da732545b78b6d75c791be9250",
       "value": "100%"
      }
     },
     "ddd7e2b935eb4069b0828cd485bd09c6": {
      "model_module": "@jupyter-widgets/controls",
      "model_module_version": "1.5.0",
      "model_name": "HBoxModel",
      "state": {
       "children": [
        "IPY_MODEL_450d356bf2444f18abb5771b9e019d9e",
        "IPY_MODEL_dee112d0c13a47f1ad446811e7db8085",
        "IPY_MODEL_5515165c85a2446498c5d9c58d4911bc"
       ],
       "layout": "IPY_MODEL_53ce85045cd44f4497674b9142ff2102"
      }
     },
     "dde3d00c48c44c3190c6ec125b446da7": {
      "model_module": "@jupyter-widgets/controls",
      "model_module_version": "1.5.0",
      "model_name": "DescriptionStyleModel",
      "state": {
       "description_width": ""
      }
     },
     "ddf8b8116f43424ba4a4ace2137e064d": {
      "model_module": "@jupyter-widgets/controls",
      "model_module_version": "1.5.0",
      "model_name": "HBoxModel",
      "state": {
       "children": [
        "IPY_MODEL_e2f9bd183b3e44c9b2f2b18aa7d97acb",
        "IPY_MODEL_9602360cca8940598f456b7c17e0208b",
        "IPY_MODEL_7f913a99df064b979e4b644ec0e8fa22"
       ],
       "layout": "IPY_MODEL_19a7cd9dda274ae7a18b91b273e7aca5"
      }
     },
     "dee112d0c13a47f1ad446811e7db8085": {
      "model_module": "@jupyter-widgets/controls",
      "model_module_version": "1.5.0",
      "model_name": "FloatProgressModel",
      "state": {
       "bar_style": "success",
       "layout": "IPY_MODEL_1e40da3ac2974cc68c7ebe654d4f78dc",
       "max": 1,
       "style": "IPY_MODEL_eb998db58979482fbd57d1cbf3ad74f3",
       "value": 1
      }
     },
     "df92d7053c4b4407b3e52f9844ca3ea7": {
      "model_module": "@jupyter-widgets/controls",
      "model_module_version": "1.5.0",
      "model_name": "FloatProgressModel",
      "state": {
       "bar_style": "success",
       "layout": "IPY_MODEL_24b55b318e9446da882468eb1a2b2516",
       "max": 1,
       "style": "IPY_MODEL_f2af51523c844ffa962216c66c1e5f84",
       "value": 1
      }
     },
     "dffc2fb9e8d64511aaf0c34c165e1d30": {
      "model_module": "@jupyter-widgets/base",
      "model_module_version": "1.2.0",
      "model_name": "LayoutModel",
      "state": {}
     },
     "e101c458a1924d99881a0aad08f903ad": {
      "model_module": "@jupyter-widgets/base",
      "model_module_version": "1.2.0",
      "model_name": "LayoutModel",
      "state": {}
     },
     "e10cddf704e9414399dad51b6bd03bcf": {
      "model_module": "@jupyter-widgets/controls",
      "model_module_version": "1.5.0",
      "model_name": "FloatProgressModel",
      "state": {
       "bar_style": "success",
       "layout": "IPY_MODEL_61fa99ce2ae04a8f95a40e988aef8687",
       "max": 1,
       "style": "IPY_MODEL_e4962b9685c543948b046ef2b63d82c3",
       "value": 1
      }
     },
     "e11c3be0b5c341b98241deaff8d86d6c": {
      "model_module": "@jupyter-widgets/base",
      "model_module_version": "1.2.0",
      "model_name": "LayoutModel",
      "state": {}
     },
     "e2f9bd183b3e44c9b2f2b18aa7d97acb": {
      "model_module": "@jupyter-widgets/controls",
      "model_module_version": "1.5.0",
      "model_name": "HTMLModel",
      "state": {
       "layout": "IPY_MODEL_4e0f02f42caf45a19ffecbd123c2f8b3",
       "style": "IPY_MODEL_966381ab241846378fd7499079ca89e4",
       "value": "100%"
      }
     },
     "e445b398b3224f88845713547f415d53": {
      "model_module": "@jupyter-widgets/controls",
      "model_module_version": "1.5.0",
      "model_name": "DescriptionStyleModel",
      "state": {
       "description_width": ""
      }
     },
     "e4962b9685c543948b046ef2b63d82c3": {
      "model_module": "@jupyter-widgets/controls",
      "model_module_version": "1.5.0",
      "model_name": "ProgressStyleModel",
      "state": {
       "description_width": ""
      }
     },
     "e4c0e82f4f75414fa3024d52ec508306": {
      "model_module": "@jupyter-widgets/controls",
      "model_module_version": "1.5.0",
      "model_name": "HTMLModel",
      "state": {
       "layout": "IPY_MODEL_962a40d2eaad40e399aa99cee75ebd17",
       "style": "IPY_MODEL_85680d3c3a904335ab6f78c7befe2b1f",
       "value": " 2/2 [00:00&lt;00:00, 114.50it/s]"
      }
     },
     "e4ddf14b2cc045049d447a34febde68c": {
      "model_module": "@jupyter-widgets/base",
      "model_module_version": "1.2.0",
      "model_name": "LayoutModel",
      "state": {}
     },
     "e78480e6ace646e38e44bbdfa869c2f9": {
      "model_module": "@jupyter-widgets/controls",
      "model_module_version": "1.5.0",
      "model_name": "HTMLModel",
      "state": {
       "layout": "IPY_MODEL_c0547cb19357440d84b7f4a9970d14ae",
       "style": "IPY_MODEL_ca076207ba264dbd9729fea69bf4d2bf",
       "value": "100%"
      }
     },
     "e8310b95100248dda28c7308fc76d208": {
      "model_module": "@jupyter-widgets/controls",
      "model_module_version": "1.5.0",
      "model_name": "ProgressStyleModel",
      "state": {
       "description_width": ""
      }
     },
     "e84058b559274f0dac1d2aae9f86a0fa": {
      "model_module": "@jupyter-widgets/controls",
      "model_module_version": "1.5.0",
      "model_name": "DescriptionStyleModel",
      "state": {
       "description_width": ""
      }
     },
     "e8fe3a32f0b74cd398b6a36fce0857c5": {
      "model_module": "@jupyter-widgets/controls",
      "model_module_version": "1.5.0",
      "model_name": "HTMLModel",
      "state": {
       "layout": "IPY_MODEL_678b14b7324546108e5cb34765606126",
       "style": "IPY_MODEL_2d487bd7dae54df7bb63bbcd0ba3d56a",
       "value": " 338/338 [00:00&lt;00:00, 1628.35it/s]"
      }
     },
     "e9b92c7fe4b846a79fc58221bc31968a": {
      "model_module": "@jupyter-widgets/controls",
      "model_module_version": "1.5.0",
      "model_name": "HTMLModel",
      "state": {
       "layout": "IPY_MODEL_863c34ec4fa8412b967e790a50a46e70",
       "style": "IPY_MODEL_52f0cb7001d2471580c8b0b2f43c7855",
       "value": " 1/1 [00:00&lt;00:00, 63.48it/s]"
      }
     },
     "eb6c91835ad34a6a9b5a8d78816a8ab8": {
      "model_module": "@jupyter-widgets/base",
      "model_module_version": "1.2.0",
      "model_name": "LayoutModel",
      "state": {}
     },
     "eb998db58979482fbd57d1cbf3ad74f3": {
      "model_module": "@jupyter-widgets/controls",
      "model_module_version": "1.5.0",
      "model_name": "ProgressStyleModel",
      "state": {
       "description_width": ""
      }
     },
     "ebf4064588f24727b852dce620a42587": {
      "model_module": "@jupyter-widgets/controls",
      "model_module_version": "1.5.0",
      "model_name": "HBoxModel",
      "state": {
       "children": [
        "IPY_MODEL_b4cabe3acd1c4c16bc68f505057961b2",
        "IPY_MODEL_d906c4ff877742b795e6a10cffef1dec",
        "IPY_MODEL_f2a1d340b30a435f974c2fab0484de83"
       ],
       "layout": "IPY_MODEL_5b4c8f21a234435cae16dd84654e97e1"
      }
     },
     "ecb73ee1596d448f9b3058d6ed4e121e": {
      "model_module": "@jupyter-widgets/controls",
      "model_module_version": "1.5.0",
      "model_name": "HTMLModel",
      "state": {
       "layout": "IPY_MODEL_9eb41c48f08a42f3b9771868b239bd29",
       "style": "IPY_MODEL_6ce8631cb3b54d4f8c39895b0d29d520",
       "value": " 1/1 [00:00&lt;00:00, 81.09it/s]"
      }
     },
     "ece6e43cb5f04d2f802c36db690163a0": {
      "model_module": "@jupyter-widgets/controls",
      "model_module_version": "1.5.0",
      "model_name": "DescriptionStyleModel",
      "state": {
       "description_width": ""
      }
     },
     "ed9bbf5458364ff4928f1d5b86642caf": {
      "model_module": "@jupyter-widgets/controls",
      "model_module_version": "1.5.0",
      "model_name": "HBoxModel",
      "state": {
       "children": [
        "IPY_MODEL_cccd69cefe204284a34f7de141d00358",
        "IPY_MODEL_51be75fec9e54ed195dcd01bb4d34228",
        "IPY_MODEL_b856b92aa6224b4998f937efa5138046"
       ],
       "layout": "IPY_MODEL_3d26e95745d04b97a69eb681ebabc92c"
      }
     },
     "eeca9eefe52d4ec5a5a9b56748b3d6d3": {
      "model_module": "@jupyter-widgets/controls",
      "model_module_version": "1.5.0",
      "model_name": "DescriptionStyleModel",
      "state": {
       "description_width": ""
      }
     },
     "f03b7ee9e1624c54b4d2f30cb7164298": {
      "model_module": "@jupyter-widgets/controls",
      "model_module_version": "1.5.0",
      "model_name": "ProgressStyleModel",
      "state": {
       "description_width": ""
      }
     },
     "f0e45786499245059d652b4bf7bb45a9": {
      "model_module": "@jupyter-widgets/controls",
      "model_module_version": "1.5.0",
      "model_name": "FloatProgressModel",
      "state": {
       "bar_style": "success",
       "layout": "IPY_MODEL_a1172ccded8b48868f25e5968a53cf80",
       "max": 1,
       "style": "IPY_MODEL_0ead48b5c4e74c6086aff5b6b9ec9857",
       "value": 1
      }
     },
     "f1203127c5ac4b178361a2e6b75d4576": {
      "model_module": "@jupyter-widgets/controls",
      "model_module_version": "1.5.0",
      "model_name": "HTMLModel",
      "state": {
       "layout": "IPY_MODEL_1db1bc1456e748ce818e87136f3012b1",
       "style": "IPY_MODEL_1e775f6dc7684a44bbbb0e029cbe1416",
       "value": " 1/1 [00:00&lt;00:00, 50.66it/s]"
      }
     },
     "f27f3d933e914b53b1980465c75b8a6b": {
      "model_module": "@jupyter-widgets/base",
      "model_module_version": "1.2.0",
      "model_name": "LayoutModel",
      "state": {}
     },
     "f2a1d340b30a435f974c2fab0484de83": {
      "model_module": "@jupyter-widgets/controls",
      "model_module_version": "1.5.0",
      "model_name": "HTMLModel",
      "state": {
       "layout": "IPY_MODEL_324dc7212a2b4545ad6e45609aeff912",
       "style": "IPY_MODEL_95649244c34d41288754c4e4fa3b81a2",
       "value": " 2/2 [00:00&lt;00:00, 100.20it/s]"
      }
     },
     "f2af51523c844ffa962216c66c1e5f84": {
      "model_module": "@jupyter-widgets/controls",
      "model_module_version": "1.5.0",
      "model_name": "ProgressStyleModel",
      "state": {
       "description_width": ""
      }
     },
     "f3a6abda49504225b52409321b83e1cc": {
      "model_module": "@jupyter-widgets/base",
      "model_module_version": "1.2.0",
      "model_name": "LayoutModel",
      "state": {}
     },
     "f3f3f77350e8465384f003973a2c42b2": {
      "model_module": "@jupyter-widgets/controls",
      "model_module_version": "1.5.0",
      "model_name": "HTMLModel",
      "state": {
       "layout": "IPY_MODEL_0df699e00a0e42a697a78478945615f1",
       "style": "IPY_MODEL_c963e3b3c3ef484a98756119caf01f57",
       "value": " 1/1 [00:00&lt;00:00, 48.23it/s]"
      }
     },
     "f402369dbc04436ea2489ec6383b540a": {
      "model_module": "@jupyter-widgets/base",
      "model_module_version": "1.2.0",
      "model_name": "LayoutModel",
      "state": {}
     },
     "f4581e631196403d93ab708f0ea6ab9a": {
      "model_module": "@jupyter-widgets/base",
      "model_module_version": "1.2.0",
      "model_name": "LayoutModel",
      "state": {}
     },
     "f62fd2ab1d2f49568b2b0dd26c9b79c2": {
      "model_module": "@jupyter-widgets/controls",
      "model_module_version": "1.5.0",
      "model_name": "DescriptionStyleModel",
      "state": {
       "description_width": ""
      }
     },
     "f708c41b605943eab7dae13770e2196c": {
      "model_module": "@jupyter-widgets/controls",
      "model_module_version": "1.5.0",
      "model_name": "DescriptionStyleModel",
      "state": {
       "description_width": ""
      }
     },
     "f83776025450439a936643174affc808": {
      "model_module": "@jupyter-widgets/base",
      "model_module_version": "1.2.0",
      "model_name": "LayoutModel",
      "state": {}
     },
     "f9db461ec0984655a44379030dda8ba1": {
      "model_module": "@jupyter-widgets/controls",
      "model_module_version": "1.5.0",
      "model_name": "HTMLModel",
      "state": {
       "layout": "IPY_MODEL_44902f7fe22342b49d5d024e1afc00a3",
       "style": "IPY_MODEL_80c0f834a96749f0a15a4cd3aad03a3b",
       "value": " 1/1 [00:00&lt;00:00, 52.43it/s]"
      }
     },
     "fafc82433f6247e4a5cb838563d18a28": {
      "model_module": "@jupyter-widgets/controls",
      "model_module_version": "1.5.0",
      "model_name": "DescriptionStyleModel",
      "state": {
       "description_width": ""
      }
     },
     "fbbf69d537f54159a76157e26fccde3d": {
      "model_module": "@jupyter-widgets/base",
      "model_module_version": "1.2.0",
      "model_name": "LayoutModel",
      "state": {}
     },
     "fe1b0a4659ed432c82bac84129e3c21e": {
      "model_module": "@jupyter-widgets/controls",
      "model_module_version": "1.5.0",
      "model_name": "FloatProgressModel",
      "state": {
       "bar_style": "success",
       "layout": "IPY_MODEL_fee6158360a94212baf6681279d7d5db",
       "max": 2,
       "style": "IPY_MODEL_6b57411045ce47e3bcb4823e6216c525",
       "value": 2
      }
     },
     "fee6158360a94212baf6681279d7d5db": {
      "model_module": "@jupyter-widgets/base",
      "model_module_version": "1.2.0",
      "model_name": "LayoutModel",
      "state": {}
     },
     "ff42b3aaac154cbea7d768383b1e6687": {
      "model_module": "@jupyter-widgets/base",
      "model_module_version": "1.2.0",
      "model_name": "LayoutModel",
      "state": {}
     }
    },
    "version_major": 2,
    "version_minor": 0
   }
  }
 },
 "nbformat": 4,
 "nbformat_minor": 4
}
