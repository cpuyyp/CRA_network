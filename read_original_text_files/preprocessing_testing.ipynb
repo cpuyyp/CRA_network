{
 "cells": [
  {
   "cell_type": "markdown",
   "metadata": {},
   "source": [
    "### Joey's version in root CRA folder"
   ]
  },
  {
   "cell_type": "markdown",
   "metadata": {
    "tags": [],
    "toc": true
   },
   "source": [
    "<h1>Table of Contents<span class=\"tocSkip\"></span></h1>\n",
    "<div class=\"toc\"><ul class=\"toc-item\"><li><ul class=\"toc-item\"><li><ul class=\"toc-item\"><li><span><a href=\"#Joey's-version-in-root-CRA-folder\" data-toc-modified-id=\"Joey's-version-in-root-CRA-folder-0.0.1\"><span class=\"toc-item-num\">0.0.1&nbsp;&nbsp;</span>Joey's version in root CRA folder</a></span></li></ul></li></ul></li><li><span><a href=\"#Transform-text-files-to-emails\" data-toc-modified-id=\"Transform-text-files-to-emails-1\"><span class=\"toc-item-num\">1&nbsp;&nbsp;</span>Transform text files to emails</a></span></li><li><span><a href=\"#Make-dicts-and-def-functions\" data-toc-modified-id=\"Make-dicts-and-def-functions-2\"><span class=\"toc-item-num\">2&nbsp;&nbsp;</span>Make dicts and def functions</a></span></li><li><span><a href=\"#Usage\" data-toc-modified-id=\"Usage-3\"><span class=\"toc-item-num\">3&nbsp;&nbsp;</span>Usage</a></span></li><li><span><a href=\"#non-function-code-below\" data-toc-modified-id=\"non-function-code-below-4\"><span class=\"toc-item-num\">4&nbsp;&nbsp;</span>non function code below</a></span></li></ul></div>"
   ]
  },
  {
   "cell_type": "markdown",
   "metadata": {},
   "source": [
    "# Transform text files to emails\n",
    "* File names contain: \n",
    "    * an immutable email id\n",
    "    * the file name that contains the email\n",
    "    * the line number that locates the email"
   ]
  },
  {
   "cell_type": "markdown",
   "metadata": {},
   "source": [
    "# Make dicts and def functions\n",
    "\n",
    "**All cells below are necessary**"
   ]
  },
  {
   "cell_type": "code",
   "execution_count": 1,
   "metadata": {},
   "outputs": [],
   "source": [
    "import os\n",
    "import io\n",
    "import sys\n",
    "import re\n",
    "import csv\n",
    "import pandas as pd\n",
    "from tqdm.notebook import tqdm, tnrange\n",
    "from datetime import datetime\n",
    "from collections import defaultdict\n",
    "from dataclasses import dataclass, field "
   ]
  },
  {
   "cell_type": "code",
   "execution_count": 2,
   "metadata": {},
   "outputs": [],
   "source": [
    "# regex in headerReLib must have one and ONLY one pair of parenthese.\n",
    "headerReLib = {}  # dict{regex: str}\n",
    "headerReLib[re.compile(r'^From\\:\\s?(.*)')] = 'From'\n",
    "headerReLib[re.compile(r'^Sent\\:\\s?(.*)')] = 'Sent'\n",
    "headerReLib[re.compile(r'^Date\\:\\s?(.*)')] = 'Sent'\n",
    "headerReLib[re.compile(r'^To\\:\\s?(.*)')] = 'To'\n",
    "headerReLib[re.compile(r'^C[Cc]\\:\\s?(.*)')] = 'CC'\n",
    "headerReLib[re.compile(r'^B[Cc][Cc]\\:\\s?(.*)')] = 'BCC'\n",
    "headerReLib[re.compile(r'^Subject\\:\\s?(.*)')] = 'Subject' \n",
    "headerReLib[re.compile(r'^Attachments\\:\\s?(.*)')] = 'Attachments'  # Attachment: is not reliable in 9-1\n",
    "headerReLib[re.compile(r'Importance\\:\\s?(.*)')] = 'Importance'\n",
    "headerReLib[re.compile(r'Priority\\:\\s?(.*)')] = 'Importance'\n",
    "\n"
   ]
  },
  {
   "cell_type": "code",
   "execution_count": 3,
   "metadata": {},
   "outputs": [],
   "source": [
    "cleanReLib = {} # dict{regex: str}\n",
    "cleanReLib[re.compile(r'^Page\\s\\d+$')] = 'Page number'\n",
    "cleanReLib[re.compile(r'^Page\\s\\d+\\sof\\s\\d+$')] = 'Page number'\n",
    "cleanReLib[re.compile(r'^\\d{,3}\\-\\d{,3}$')] = 'Page number and file number'\n"
   ]
  },
  {
   "cell_type": "code",
   "execution_count": 4,
   "metadata": {},
   "outputs": [],
   "source": [
    "typoLib = {} # dict{str: str}\n",
    "typoLib['ARachments'] = 'Attachments'\n",
    "typoLib['AFachments'] = 'Attachments'\n"
   ]
  },
  {
   "cell_type": "code",
   "execution_count": 91,
   "metadata": {
    "tags": []
   },
   "outputs": [],
   "source": [
    "def saveEmail(email, sv_arg):\n",
    "    # save in specific order\n",
    "    saving_order = ['From', 'Sent', 'To', 'CC', 'Bcc', 'Subject', 'Attachments', 'Importance', 'Body', 'isThread', 'isAutoMessage', 'isDisplacement', 'hasAllCapLine', 'hasBadDate']\n",
    "    bool_headers = ['isThread', 'isAutoMessage', 'hasAllCapLine', 'hasBadDate', 'isDisplacement']\n",
    "    \n",
    "    str_email_count = f\"%05d\" % sv_arg.email_count\n",
    "    filenm = str(str_email_count)+'_fn_'+sv_arg.infile.split('.')[0]+'_ln_'+str(sv_arg.line_no)+'.txt'\n",
    "    filenm_path = sv_arg.outputpath + '/' + filenm # will not work on Windows\n",
    "    \n",
    "    with open(filenm_path, 'w+', encoding = 'utf-8') as f_out:\n",
    "    #with open(sv_arg.outputpath + '/'+str(sv_arg.email_count)+'-fn_'+sv_arg.infile.split('.')[0]+'-ln_'+str(sv_arg.line_no)+'.txt', 'w+', encoding = 'utf-8') as f_out:\n",
    "        for key in saving_order:\n",
    "            line_no = sv_arg.line_nb[key]\n",
    "            if key in email:\n",
    "                if key == 'Body':\n",
    "                    f_out.write(key+': '+'\\n'.join(email[key]) + '\\n') # for body, join by space '\\n'\n",
    "                elif key in bool_headers:\n",
    "                    f_out.write(f'{line_no} ' + key+': '+ str(email[key]) +'\\n') # for bool type\n",
    "                else:\n",
    "                    f_out.write(f'{line_no} ' + key+': '+' '.join(email[key]) + '\\n')  # for others, join by ' '\n",
    "    sv_arg.email_count += 1"
   ]
  },
  {
   "cell_type": "code",
   "execution_count": 110,
   "metadata": {},
   "outputs": [],
   "source": [
    "def validEmail(email, sv_arg, save=True, saveAny=False):\n",
    "    valid = False\n",
    "    # email is valid if 2 or more sections are found\n",
    "    checking_section = [\"From\", \"To\", \"Sent\"]\n",
    "    valid_count = 0\n",
    "    for section in checking_section:\n",
    "        if section in email:\n",
    "            valid_count += 1\n",
    "    if valid_count >= 2:\n",
    "        valid = True\n",
    "    if saveAny or (save and valid):\n",
    "        saveEmail(email, sv_arg)\n",
    "        print(f\"GE: Email saved, line_no: {sv_arg.line_no}, valid_count: {valid_count}\")\n",
    "    else:\n",
    "        print(\n",
    "            f\"GE: Email not saved, line_no: {sv_arg.line_no}, valid_count: {valid_count}\"\n",
    "        )\n",
    "    return valid"
   ]
  },
  {
   "cell_type": "code",
   "execution_count": 115,
   "metadata": {},
   "outputs": [],
   "source": [
    "def completeEmail(email, sv_arg, spt_arg):\n",
    "    # all lines in stack to body. even empty\n",
    "    email[\"Body\"] = email[\"Body\"] + spt_arg.stack\n",
    "    sv_arg.line_nb[\"Body\"].append(sv_arg.line_no)\n",
    "    validEmail(email, sv_arg, save=True, saveAny=False)\n",
    "    \n",
    "    print(f\"GE: Reset stack, displacement_sections, prev_section ({spt_arg.prev_section})\")\n",
    "\n",
    "    spt_arg.stack = []\n",
    "    spt_arg.displacement_sections = []\n",
    "    spt_arg.prev_section = None  # GE: Correction. 2022-01-20"
   ]
  },
  {
   "cell_type": "code",
   "execution_count": 102,
   "metadata": {},
   "outputs": [],
   "source": [
    "def isUselessLine(line, file_no = ''):\n",
    "    if line == '':\n",
    "        return True\n",
    "    if line == file_no:\n",
    "        return True\n",
    "    for regex, cleaning_reason in cleanReLib.items(): \n",
    "        if regex.match(line):\n",
    "            return True\n",
    "    return False"
   ]
  },
  {
   "cell_type": "code",
   "execution_count": 103,
   "metadata": {},
   "outputs": [],
   "source": [
    "def getFileNumber(infile):\n",
    "    spt = infile.split('-')\n",
    "    file_no = spt[0]\n",
    "    if len(spt)>1 and spt[1].isdigit():\n",
    "        file_no = file_no + '-' + spt[1]\n",
    "    return file_no"
   ]
  },
  {
   "cell_type": "code",
   "execution_count": 104,
   "metadata": {},
   "outputs": [],
   "source": [
    "@dataclass\n",
    "class SavingArgs:\n",
    "    inputpath: str # path to a folder ending with /\n",
    "    outputpath: str # path to a folder ending with /\n",
    "    infile: str = '' # filename only\n",
    "    email_count: int = 0\n",
    "    line_no: int = -1\n",
    "    \n",
    "@dataclass\n",
    "class SplittingArgs:\n",
    "    prev_section: str = None\n",
    "    stack: list = field(default_factory=list)\n",
    "    displacement_sections: list = field(default_factory=list)\n",
    "    capTolerance: int = 0\n",
    "#     appendingMode: bool = False   # Autoreply and attachment must be treated differently\n",
    "    isAutoMessage: bool = False\n",
    "    isDisplacement: bool = False\n",
    "    isAttachment: bool = False"
   ]
  },
  {
   "cell_type": "code",
   "execution_count": 149,
   "metadata": {},
   "outputs": [],
   "source": [
    "def process(sv_arg):\n",
    "    # define the bad date regex\n",
    "    re_wrong_date = re.compile(r\"\\d{1,2}:\\d{2}\")\n",
    "    \n",
    "    f_in = open(sv_arg.inputpath + sv_arg.infile, encoding=\"utf8\")\n",
    "    file_no = getFileNumber(sv_arg.infile)\n",
    "    \n",
    "    # initialize SplittingArgs and email object\n",
    "    spt_arg = SplittingArgs()\n",
    "    email = defaultdict(list)\n",
    "    sv_arg.line_nb = defaultdict(list)\n",
    "    \n",
    "    for line_no, line in enumerate(f_in.readlines()):\n",
    "        sv_arg.line_no = line_no\n",
    "        # decrement capTolerance (initial value is 2)\n",
    "        spt_arg.capTolerance -= 1\n",
    "        \n",
    "        # if line start with >, it's in a thread    \n",
    "        line = line.strip(\"\\f\").strip()\n",
    "        if len(line) >0 and line[0] == '>':    \n",
    "            email['isThread'] = True\n",
    "            sv_arg.line_nb['isThread'].append(line_no)\n",
    "        line = line.strip(\">\").strip()\n",
    "\n",
    "        # Skip some useless rows, including empty rows\n",
    "        if isUselessLine(line, file_no):\n",
    "            continue\n",
    "            \n",
    "        # correct typos\n",
    "        for typo, correction in typoLib.items(): \n",
    "            if typo in line:\n",
    "                line = line.replace(typo, correction)\n",
    "\n",
    "        # Autoreply and attachments are unlikely to have From: inside, but very likely to have To and Date.\n",
    "        # If found them, turn back to only consider From as the beginning of an email\n",
    "        # Only case to turn off appendingMode\n",
    "        if \"From:\" in line:\n",
    "            spt = line.split(\"From:\")\n",
    "            if spt[0]:\n",
    "                spt_arg.stack.append(spt[0])\n",
    "                completeEmail(email, sv_arg, spt_arg)\n",
    "                email = defaultdict(list)\n",
    "                sv_arg.line_nb = defaultdict(list)\n",
    "                line = \"From:\" + spt[1]\n",
    "            if spt_arg.isAutoMessage or spt_arg.isAttachment:\n",
    "                spt_arg.isAutoMessage = False\n",
    "                spt_arg.isAttachment = False\n",
    "                completeEmail(email, sv_arg, spt_arg)\n",
    "                email = defaultdict(list)\n",
    "                sv_arg.line_nb = defaultdict(list)\n",
    "        elif \"Subject:\" in line:\n",
    "            spt = line.split(\"Subject:\")\n",
    "            if spt[0]:\n",
    "                print(f\"split subject, line: {line_no}\")\n",
    "                spt_arg.stack.append(spt[0]) \n",
    "                print(\"GE, Subject: before completeEmail(0), line_no: \", line_no)\n",
    "                completeEmail(email, sv_arg, spt_arg)\n",
    "                email = defaultdict(list)\n",
    "                sv_arg.line_nb = defaultdict(list)\n",
    "                line = \"Subject:\" + spt[1]\n",
    "                print(f\"new subject line: {line}\")\n",
    "            if spt_arg.isAttachment:\n",
    "                spt_arg.isAttachment = False\n",
    "                completeEmail(email, sv_arg, spt_arg)\n",
    "                email = defaultdict(list)\n",
    "                sv_arg.line_nb = defaultdict(list)\n",
    "        \n",
    "        # append everything into body\n",
    "        if spt_arg.isAutoMessage or spt_arg.isAttachment:\n",
    "            spt_arg.stack.append(line)\n",
    "            continue\n",
    "        \n",
    "        # if these string shows in line, it's probably the end of body. So everything below might be attachment.\n",
    "        end_of_body = ['Tallahassee, FL', 'Phone:', 'FAX:']\n",
    "        for pattern in end_of_body:\n",
    "            if pattern in line:\n",
    "                spt_arg.isAttachment = True\n",
    "                \n",
    "        # Autoreplys or autoforwards are found. First of three cases triggers appendingMode.\n",
    "        keywordsInAutomessage = [\"Read:\", \"Not read:\", \"Sender:\", \"Tentative:\", \"Accepted:\", \"Declined:\"]\n",
    "        for keyword in keywordsInAutomessage:\n",
    "            if keyword in line:\n",
    "                spt_arg.isAutoMessage = True\n",
    "                email['isAutoMessage'] = True\n",
    "                sv_arg.line_nb['isAutoMessage'].append(line_no)\n",
    "\n",
    "        # Embedded attachments are found. Second of three cases triggers appendingMode.\n",
    "        # Attachments usually have a title line that all capital letters\n",
    "        # Add tolerance for all cap lines if comes right after a header section\n",
    "        if spt_arg.capTolerance <= 0 and len(line) > 5 and all(word.isupper() for word in line.split()) and not '.' in line and not ':' in line:\n",
    "            spt_arg.isAttachment = True\n",
    "            spt_arg.stack.append(line)\n",
    "            email['hasAllCapLine'] = True\n",
    "            sv_arg.line_nb['hasAllCapLine'].append(line_no)\n",
    "            continue\n",
    "        \n",
    "        # if no pattern match, put into stack\n",
    "        line_to_stack = True\n",
    "\n",
    "        # search if line match any pattern\n",
    "        for regex, section in headerReLib.items():\n",
    "            if regex.match(line):\n",
    "                # if any header section is found, the next line can be all cap without trigger appendingMode\n",
    "                # capTolerance = 2 actually has 1 line tolerance. Because decrement is earlier than checking\n",
    "                spt_arg.capTolerance = 2 # can be larger, but with cautious\n",
    "                \n",
    "                # found a repeating header section, indicating current email ends\n",
    "                if section in email:  \n",
    "                    # Bad date found. Third of three cases triggers appendingMode.\n",
    "                    # This can be an attachment or an appointment\n",
    "                    if section == 'Sent' and not re_wrong_date.search(line):\n",
    "                        spt_arg.stack.append(line)\n",
    "                        spt_arg.isAttachment = True\n",
    "                        email['hasBadDate'] = True\n",
    "                        sv_arg.line_nb['hasBadDate'].append(line_no)\n",
    "                        line_to_stack = False\n",
    "                        break\n",
    "                    else:\n",
    "                        if section == 'Subject': \n",
    "                            print(\"GE, Subject: before completeEmail(1), line_no: \", line_no)\n",
    "                            sv_arg.GE_subject_complete_email = True\n",
    "                            print(f\"GE,    email: {email}\")\n",
    "                        print(f\"Call completeEmail (1), email: {email}\")\n",
    "                        completeEmail(email, sv_arg, spt_arg)\n",
    "                        print(\"GE: reset email and line_nb dictionaries\\n\")\n",
    "                        email = defaultdict(list)\n",
    "                        sv_arg.line_nb = defaultdict(list)\n",
    "                        \n",
    "                # section not in email, all lines in stack belongs to prev_section\n",
    "                elif spt_arg.stack:   \n",
    "                    if spt_arg.prev_section == None:\n",
    "                        print(\"If this is not happenning at the beginning of a file, it is an error\")\n",
    "                        print('current line no:', line_no)\n",
    "                        spt_arg.stack = []\n",
    "                    else:\n",
    "                        email[spt_arg.prev_section] = email[spt_arg.prev_section] + spt_arg.stack\n",
    "                        sv_arg.line_nb[spt_arg.prev_section].append(line_no)   # I could use append so I can see trace\n",
    "                        spt_arg.stack = []\n",
    "                        \n",
    "                    if spt_arg.displacement_sections:\n",
    "                        print(f\"if spt_arg.displacement_sections, line_no: {line_no}\")\n",
    "                        print(f\"GE,    email: {email}\")\n",
    "                        spt_arg.displacement_sections.pop(0)\n",
    "                \n",
    "                # get rid of the header\n",
    "                line = regex.findall(line)[0]\n",
    "                email[section].append(line)\n",
    "                sv_arg.line_nb[section].append(line_no)   # last line nb\n",
    "                \n",
    "                # found empty, maybe it's a block displacement\n",
    "                if line == '': \n",
    "                    print(f\"line is empty: two quotes. line_no: {line_no}\")\n",
    "                    print(f\"GE,     email: {email}\")\n",
    "                    spt_arg.displacement_sections.append(section)\n",
    "                    print(f\"GE,     displacement_sections: \", spt_arg.displacement_sections)\n",
    "                    print(f\"GE,     email: {email}\")\n",
    "                    spt_arg.capTolerance += 1 # if found empty header, there can have one more line all cap\n",
    "                spt_arg.prev_section = section\n",
    "                \n",
    "                # if match, don't append to stack.\n",
    "                # have to use flag here, because there are multiple patterns testing\n",
    "                line_to_stack = False\n",
    "                break\n",
    "\n",
    "        if line_to_stack:\n",
    "            spt_arg.stack.append(line)\n",
    "            \n",
    "        # if block displacement is found, and there are lines in the stack\n",
    "        if spt_arg.displacement_sections and spt_arg.stack:\n",
    "            print(f\"in displacement_sections and stack is NOT empty, line_no: {line_no}\")\n",
    "            print(f\"   stack: {spt_arg.stack}\")\n",
    "            print(f\"   email: {email}\")\n",
    "            spt_arg.isDisplacement = True\n",
    "            email['isDisplacement'] = True\n",
    "            sv_arg.line_nb['isDisplacement'].append(line_no)\n",
    "            popline = spt_arg.stack.pop(0)\n",
    "            section = spt_arg.displacement_sections.pop(0)\n",
    "            email[section].append(popline)\n",
    "            sv_arg.line_nb[section].append(line_no)\n",
    "            spt_arg.prev_section = section\n",
    "\n",
    "    # don't forget the last email\n",
    "    completeEmail(email, sv_arg, spt_arg)"
   ]
  },
  {
   "cell_type": "markdown",
   "metadata": {
    "tags": []
   },
   "source": [
    "# Usage\n",
    "\n",
    "- Initialize SavingArgs with an inputpath and an outputpath as \n",
    "```python\n",
    "sv_arg = SavingArgs(inputpath = \"./test_input/\", outputpath = \"./test_output/\")\n",
    "```\n",
    "- For single file\n",
    "```python\n",
    "sv_arg.infile = \"9-1-Adam-Corey-2012-1-0.txt\"\n",
    "process(sv_arg)\n",
    "```\n",
    "- For multiple files\n",
    "```python\n",
    "for file in filenames:\n",
    "    sv_arg.infile = file\n",
    "    process(sv_arg)\n",
    "```\n",
    "\n",
    "**Note**\n",
    "If you want to rerun, it's better to reinitialize sv_arg, because sv_arg.email_count keeps increasing."
   ]
  },
  {
   "cell_type": "code",
   "execution_count": 147,
   "metadata": {},
   "outputs": [
    {
     "name": "stdout",
     "output_type": "stream",
     "text": [
      "Call completeEmail (1), email: defaultdict(<class 'list'>, {'From': ['Stephanie Hafer'], 'Sent': ['Thursday, March 05, 2015 4:52 PM'], 'To': ['Serena Moyle; Patti Hilaman; Paige Carter-Smith; PaigeCarter-Smith; Audra Pittman;', 'Courtney Ewing; Roderick Durham; Jay Revell; Mike Bellamy'], 'CC': ['Mallory.Izbicki@lungse.org; NicolaBarnack; Alex Medina'], 'Subject': ['Event Day Practice']})\n",
      "GE: Email saved, line_no: 22, valid_count: 3\n",
      "GE: Reset stack, displacement_sections, prev_section (Subject)\n",
      "GE: reset email and line_nb dictionaries\n",
      "\n",
      "Call completeEmail (1), email: defaultdict(<class 'list'>, {'From': ['Courtney Ewing'], 'Sent': ['Thursday, March 19, 2015 1:17 PM'], 'To': [\"Mallory Izbicki; 'Bellamy, Mike Fire Dept'; 'Jay Revell'; Roderick Durham\", \"roderickdurham@gmail.com; 'PattiHilaman'; 'Paige Carter-Smith'; 'Audra Pittman';\", \"'SerenaMoyle'\"], 'CC': ['Nicola Barnack'], 'Subject': ['RE: Oxygen Ball Cocktail Hour Wrap Up']})\n",
      "GE: Email saved, line_no: 33, valid_count: 3\n",
      "GE: Reset stack, displacement_sections, prev_section (Subject)\n",
      "GE: reset email and line_nb dictionaries\n",
      "\n",
      "GE: Email saved, line_no: 60, valid_count: 3\n",
      "GE: Reset stack, displacement_sections, prev_section (Sent)\n",
      "GE: Email saved, line_no: 94, valid_count: 3\n",
      "GE: Reset stack, displacement_sections, prev_section (Subject)\n",
      "GE: Email saved, line_no: 118, valid_count: 3\n",
      "GE: Reset stack, displacement_sections, prev_section (Subject)\n",
      "GE: Email saved, line_no: 152, valid_count: 3\n",
      "GE: Reset stack, displacement_sections, prev_section (Subject)\n",
      "GE: Email saved, line_no: 185, valid_count: 3\n",
      "GE: Reset stack, displacement_sections, prev_section (Subject)\n",
      "GE: Email saved, line_no: 215, valid_count: 3\n",
      "GE: Reset stack, displacement_sections, prev_section (Attachments)\n"
     ]
    }
   ],
   "source": [
    "sv_ge = SavingArgs(inputpath= \"./email_txt/test_files/\", outputpath = \"./gordon4/\", email_count=0)\n",
    "sv_ge.infile = \"gordon4.txt\"\n",
    "process(sv_ge)"
   ]
  },
  {
   "cell_type": "code",
   "execution_count": 107,
   "metadata": {},
   "outputs": [],
   "source": [
    "sv_ge = SavingArgs(inputpath= \"./gordon5/\", outputpath = \"./gordon5/\", email_count=0)\n",
    "sv_ge.infile = \"gordon5.txt\"\n",
    "process(sv_ge)"
   ]
  },
  {
   "cell_type": "code",
   "execution_count": 108,
   "metadata": {},
   "outputs": [
    {
     "name": "stdout",
     "output_type": "stream",
     "text": [
      "GE: Email not saved, line_no: 299, valid_count: 0\n",
      "GE: Email not saved, line_no: 2006, valid_count: 1\n"
     ]
    }
   ],
   "source": [
    "sv_ge = SavingArgs(inputpath= \"./gordon6/\", outputpath = \"./gordon6/\", email_count=0)\n",
    "sv_ge.infile = \"gordon6.txt\"\n",
    "process(sv_ge)"
   ]
  },
  {
   "cell_type": "code",
   "execution_count": 15,
   "metadata": {},
   "outputs": [],
   "source": [
    "sv_ge = SavingArgs(inputpath= \"./gordon7/\", outputpath = \"./gordon7/\", email_count=0)\n",
    "sv_ge.infile = \"gordon7.txt\"\n",
    "process(sv_ge)"
   ]
  },
  {
   "cell_type": "code",
   "execution_count": 16,
   "metadata": {},
   "outputs": [],
   "source": [
    "sv_ge = SavingArgs(inputpath= \"./23-11/\", outputpath = \"./23-11/\", email_count=0)\n",
    "sv_ge.infile = \"23-11-PCSgmail2014-2017.txt\"\n",
    "process(sv_ge)"
   ]
  },
  {
   "cell_type": "code",
   "execution_count": 17,
   "metadata": {},
   "outputs": [],
   "source": [
    "sv_ge = SavingArgs(inputpath= \"./17-2/\", outputpath = \"./17-2/\", email_count=0)\n",
    "sv_ge.infile = \"17-2_subset.txt\"\n",
    "process(sv_ge)"
   ]
  },
  {
   "cell_type": "code",
   "execution_count": 18,
   "metadata": {},
   "outputs": [],
   "source": [
    "sv_ge = SavingArgs(inputpath= \"./17-2a/\", outputpath = \"./17-2a/\", email_count=0)\n",
    "sv_ge.infile = \"17-2.txt\"\n",
    "process(sv_ge)"
   ]
  },
  {
   "cell_type": "code",
   "execution_count": 19,
   "metadata": {},
   "outputs": [],
   "source": [
    "sv_ge = SavingArgs(inputpath= \"./17-2b/\", outputpath = \"./17-2b/\", email_count=0)\n",
    "sv_ge.infile = \"17-2-IB2013-1-0.txt\"\n",
    "process(sv_ge)"
   ]
  },
  {
   "cell_type": "code",
   "execution_count": 20,
   "metadata": {},
   "outputs": [],
   "source": [
    "sv_ge = SavingArgs(inputpath= \"./23-11a/\", outputpath = \"./23-11a/\", email_count=0)\n",
    "sv_ge.infile = \"23-11.txt\"\n",
    "process(sv_ge)"
   ]
  },
  {
   "cell_type": "code",
   "execution_count": 21,
   "metadata": {},
   "outputs": [],
   "source": [
    "sv_ge = SavingArgs(inputpath= \"./34-3/\", outputpath = \"./34-3/\", email_count=0)\n",
    "sv_ge.infile = \"34-3.txt\"\n",
    "process(sv_ge)"
   ]
  },
  {
   "cell_type": "code",
   "execution_count": 22,
   "metadata": {},
   "outputs": [],
   "source": [
    "sv_ge = SavingArgs(inputpath= \"./18-4/\", outputpath = \"./18-4/\", email_count=0)\n",
    "sv_ge.infile = \"18-4.txt\"\n",
    "process(sv_ge)"
   ]
  },
  {
   "cell_type": "code",
   "execution_count": 23,
   "metadata": {},
   "outputs": [],
   "source": [
    "sv_ge = SavingArgs(inputpath= \"./18-4/\", outputpath = \"./18-4/\", email_count=0)\n",
    "sv_ge.infile = \"18-4a.txt\"\n",
    "process(sv_ge)"
   ]
  },
  {
   "cell_type": "code",
   "execution_count": 24,
   "metadata": {},
   "outputs": [],
   "source": [
    "sv_ge = SavingArgs(inputpath= \"./18-4/\", outputpath = \"./18-4/\", email_count=0)\n",
    "sv_ge.infile = \"18-4b.txt\"\n",
    "process(sv_ge)"
   ]
  },
  {
   "cell_type": "code",
   "execution_count": 25,
   "metadata": {},
   "outputs": [],
   "source": [
    "sv_ge = SavingArgs(inputpath= \"./18-4/\", outputpath = \"./18-4/\", email_count=0)\n",
    "sv_ge.infile = \"18-4d.txt\"\n",
    "process(sv_ge)"
   ]
  },
  {
   "cell_type": "code",
   "execution_count": 26,
   "metadata": {},
   "outputs": [],
   "source": [
    "sv_ge = SavingArgs(inputpath= \"./34-1/\", outputpath = \"./34-1/\", email_count=0)\n",
    "sv_ge.infile = \"34-1a.txt\"\n",
    "process(sv_ge)"
   ]
  },
  {
   "cell_type": "code",
   "execution_count": 27,
   "metadata": {},
   "outputs": [],
   "source": [
    "sv_ge = SavingArgs(inputpath= \"./34-1/\", outputpath = \"./34-1/\", email_count=0)\n",
    "sv_ge.infile = \"34-1b.txt\"\n",
    "process(sv_ge)"
   ]
  },
  {
   "cell_type": "code",
   "execution_count": 30,
   "metadata": {},
   "outputs": [],
   "source": [
    "sv_ge = SavingArgs(inputpath= \"./34-1/\", outputpath = \"./34-1/\", email_count=0)\n",
    "sv_ge.infile = \"34-1c.txt\"\n",
    "process(sv_ge)"
   ]
  },
  {
   "cell_type": "code",
   "execution_count": 31,
   "metadata": {},
   "outputs": [],
   "source": [
    "def process_case(path, filenm):\n",
    "    sv_ge = SavingArgs(inputpath= path, outputpath = path, email_count=0)\n",
    "    sv_ge.infile = filenm\n",
    "    process(sv_ge)"
   ]
  },
  {
   "cell_type": "code",
   "execution_count": 39,
   "metadata": {},
   "outputs": [],
   "source": [
    "process_case(\"./21-10/\", \"21-10.txt\")"
   ]
  },
  {
   "cell_type": "code",
   "execution_count": 40,
   "metadata": {},
   "outputs": [],
   "source": [
    "process_case(\"./21-11/\", \"21-11.txt\")"
   ]
  },
  {
   "cell_type": "code",
   "execution_count": 41,
   "metadata": {},
   "outputs": [],
   "source": [
    "process_case(\"./23-4/\", \"23-4.txt\")"
   ]
  },
  {
   "cell_type": "code",
   "execution_count": null,
   "metadata": {
    "tags": []
   },
   "outputs": [],
   "source": [
    "process_case(\"./21-6/\", \"21-6.txt\")"
   ]
  },
  {
   "cell_type": "code",
   "execution_count": 150,
   "metadata": {},
   "outputs": [
    {
     "name": "stdout",
     "output_type": "stream",
     "text": [
      "line is empty: two quotes. line_no: 6\n",
      "GE,     email: defaultdict(<class 'list'>, {'Subject': [\"Zaxby's VIP Grand Opening xxx\", 'Location: xx1', 'yyy  <<< LAST LINE OF BODY INCLUDED IN SUBJECT'], 'From': ['']})\n",
      "GE,     displacement_sections:  ['From']\n",
      "GE,     email: defaultdict(<class 'list'>, {'Subject': [\"Zaxby's VIP Grand Opening xxx\", 'Location: xx1', 'yyy  <<< LAST LINE OF BODY INCLUDED IN SUBJECT'], 'From': ['']})\n",
      "line is empty: two quotes. line_no: 7\n",
      "GE,     email: defaultdict(<class 'list'>, {'Subject': [\"Zaxby's VIP Grand Opening xxx\", 'Location: xx1', 'yyy  <<< LAST LINE OF BODY INCLUDED IN SUBJECT'], 'From': [''], 'Sent': ['']})\n",
      "GE,     displacement_sections:  ['From', 'Sent']\n",
      "GE,     email: defaultdict(<class 'list'>, {'Subject': [\"Zaxby's VIP Grand Opening xxx\", 'Location: xx1', 'yyy  <<< LAST LINE OF BODY INCLUDED IN SUBJECT'], 'From': [''], 'Sent': ['']})\n",
      "line is empty: two quotes. line_no: 8\n",
      "GE,     email: defaultdict(<class 'list'>, {'Subject': [\"Zaxby's VIP Grand Opening xxx\", 'Location: xx1', 'yyy  <<< LAST LINE OF BODY INCLUDED IN SUBJECT'], 'From': [''], 'Sent': [''], 'To': ['']})\n",
      "GE,     displacement_sections:  ['From', 'Sent', 'To']\n",
      "GE,     email: defaultdict(<class 'list'>, {'Subject': [\"Zaxby's VIP Grand Opening xxx\", 'Location: xx1', 'yyy  <<< LAST LINE OF BODY INCLUDED IN SUBJECT'], 'From': [''], 'Sent': [''], 'To': ['']})\n",
      "GE, Subject: before completeEmail(1), line_no:  9\n",
      "GE,    email: defaultdict(<class 'list'>, {'Subject': [\"Zaxby's VIP Grand Opening xxx\", 'Location: xx1', 'yyy  <<< LAST LINE OF BODY INCLUDED IN SUBJECT'], 'From': [''], 'Sent': [''], 'To': ['']})\n",
      "Call completeEmail (1), email: defaultdict(<class 'list'>, {'Subject': [\"Zaxby's VIP Grand Opening xxx\", 'Location: xx1', 'yyy  <<< LAST LINE OF BODY INCLUDED IN SUBJECT'], 'From': [''], 'Sent': [''], 'To': ['']})\n",
      "GE: Email saved, line_no: 9, valid_count: 3\n",
      "GE: Reset stack, displacement_sections, prev_section (To)\n",
      "GE: reset email and line_nb dictionaries\n",
      "\n",
      "line is empty: two quotes. line_no: 9\n",
      "GE,     email: defaultdict(<class 'list'>, {'Subject': ['']})\n",
      "GE,     displacement_sections:  ['Subject']\n",
      "GE,     email: defaultdict(<class 'list'>, {'Subject': ['']})\n",
      "line is empty: two quotes. line_no: 10\n",
      "GE,     email: defaultdict(<class 'list'>, {'Subject': [''], 'Attachments': ['']})\n",
      "GE,     displacement_sections:  ['Subject', 'Attachments']\n",
      "GE,     email: defaultdict(<class 'list'>, {'Subject': [''], 'Attachments': ['']})\n",
      "in displacement_sections and stack is NOT empty, line_no: 12\n",
      "   stack: ['Google Calendar <calendar-notification@google.com> on behalf of Ryan Grindler <rgrindler@']\n",
      "   email: defaultdict(<class 'list'>, {'Subject': [''], 'Attachments': ['']})\n",
      "in displacement_sections and stack is NOT empty, line_no: 13\n",
      "   stack: ['101tally.com']\n",
      "   email: defaultdict(<class 'list'>, {'Subject': ['', 'Google Calendar <calendar-notification@google.com> on behalf of Ryan Grindler <rgrindler@'], 'Attachments': [''], 'isDisplacement': True})\n",
      "GE: Email not saved, line_no: 19, valid_count: 0\n",
      "GE: Reset stack, displacement_sections, prev_section (Attachments)\n"
     ]
    }
   ],
   "source": [
    "# files = [\"test1\", \"test2\", \"test3\"] \n",
    "# files = [\"test20\", \"test21\"]\n",
    "files = [\"test23\"]\n",
    "for f in files:\n",
    "    process_case(\"./10-8/\", f + \".txt\")"
   ]
  },
  {
   "cell_type": "code",
   "execution_count": 29,
   "metadata": {
    "collapsed": true,
    "jupyter": {
     "outputs_hidden": true
    },
    "tags": []
   },
   "outputs": [
    {
     "data": {
      "application/vnd.jupyter.widget-view+json": {
       "model_id": "1eee6c4eb97746c89eddf988689df40d",
       "version_major": 2,
       "version_minor": 0
      },
      "text/plain": [
       "  0%|          | 0/124 [00:00<?, ?it/s]"
      ]
     },
     "metadata": {},
     "output_type": "display_data"
    },
    {
     "name": "stdout",
     "output_type": "stream",
     "text": [
      "GE: Email saved, line_no: 26, valid_count: 3\n",
      "GE: Reset stack, displacement_sections, prev_section (Attachments)\n",
      "GE: Email saved, line_no: 57, valid_count: 3\n",
      "GE: Reset stack, displacement_sections, prev_section (Subject)\n",
      "GE: Email saved, line_no: 81, valid_count: 3\n",
      "GE: Reset stack, displacement_sections, prev_section (Subject)\n",
      "GE: Email saved, line_no: 113, valid_count: 3\n",
      "GE: Reset stack, displacement_sections, prev_section (Subject)\n",
      "Call completeEmail (1), email: defaultdict(<class 'list'>, {'From': ['Gail Stansberry-Ziffer'], 'Sent': ['Wednesday, May 07, 2014 9:33 PM'], 'To': ['Karen Wendland; Vince Dix, Ph.D.; Jerome Novey; JoannaNovey; Shannon L. Novey; Jay', 'Newman; SueNewman; Audrey E. Post; Rebeccah Cantley Lutz; Rebeccah Lutz; April Salter;', 'Chris Fagiano; Drew Jones; Gretchen Jones; RosanneDunkelberger; Marsha Cantrell; Ed Jaffry;', 'Coni WhitfieldCarney; Brenda Boggs; Theresa Flury Esq.; Nancy Miller; Nancy Miller; Robin', 'Hassler Thompson, J.D.; Kris Knab; Martha Olive-Hall; Jessie Riley Watson; Paul Hill; Mollie', 'Hill; Sheila Meehan; SheilaSalyer; Andrew Gillum; R. JaiGillum; Paige Carter-Smith; Janet', 'Hinkle; KellySimmons Dozier; Laurie Dozier; Warren Jones; MarkCaster; Margie Menzel; John', 'Van Gieson; Jonathan J. Johnson; Laura Johnson; Donna Blanton; DonnaGabordi; Kathleen B.', 'Atkins-Gunter; Bill Giudice; Brooke Wilson Hallock; Janie Nelson; JanSheffield; Cecilia', 'Homison; Steve Copeland'], 'Subject': ['Hope you can join us']})\n",
      "GE: Email saved, line_no: 155, valid_count: 3\n",
      "GE: Reset stack, displacement_sections, prev_section (Subject)\n",
      "GE: reset email and line_nb dictionaries\n",
      "\n",
      "Call completeEmail (1), email: defaultdict(<class 'list'>, {'From': ['Barrett, Tonya'], 'Sent': ['Tuesday, May 13, 2014 5:13 PM'], 'To': [\"'Andrew.Chin@FAMU.edu'; 'Alonda.Thomas@FAMU.edu'; 'blounche.brown@famu.edu';\", \"'Cynthia.harris2@famu.edu'; 'Tola.thompson@famu.edu'; 'Linda.bargemiles@famu.edu';\", \"'Geraldine.ingram@famu.edu'; 'Rodner.wright@famu.edu'; 'Elizabeth.dawson@famu.edu';\", \"'Richard.gragg@famu.edu'; 'Valencia.matthews@famu.edu'; 'David.jackson@famu.edu';\", \"'Okoli@eng.fsu.edu'; Holloman, Sabrina; Blair, Ellen; Hendrieth, Angela; Hudson, Linda;\", 'Jackson, Cassandra; Bryant, Cherie(Planning); Jumonville, Karen; Manning, Roxanne;', \"'draburnette@comcast.net'; 'janeelizjohnson@hotmail.com'; 'paigecartersmith@gmail.com';\", \"'gypsygdd@comcast.net'; 'rjaigillum@gmail.com'; 'mrhaka@aol.com'; 'hughes@magnet.fsu.edu';\", \"'huberta.jlo@gmail.com'; 'Ejakubowski57@gmail.com'; 'jcsland@aol.com';\", \"'lwvfexecutivedirector@gmail.com'; 'mmcgee@rileymuseum.org'; Nickens, Ruth;\", \"'okonj@tcc.fl.edu'; 'kelly.otte@pacecenter.org'; 'reynaud@fsu.edu'; 'scsaxner@gmail.com';\", \"'gail@ziffberry.com'; 'jayeannterry@gmail.com'; 'vev02@my.fsu.edu';\", \"'Marcia.warfel@yahoo.com'; 'haley.oasis@comcast.net'; 'lisa.oasis@comcast.net'; Faris, Alison;\", 'Ingram, Cindy; Teter, Heather; Edwards, Ashley; Hightower, Jacqueline; Downing, Delores;', 'Mayor & City Commissioners; Appointed Officials; Executive Team'], 'Subject': ['Save the Date -- Welcome Tea for FAMU President Elmira Mangum, PhD']})\n",
      "GE: Email saved, line_no: 205, valid_count: 3\n",
      "GE: Reset stack, displacement_sections, prev_section (Subject)\n",
      "GE: reset email and line_nb dictionaries\n",
      "\n",
      "Call completeEmail (1), email: defaultdict(<class 'list'>, {'From': ['Barrett, Tonya'], 'Sent': ['Tuesday, May 13, 2014 5:13 PM'], 'To': [\"'Andrew.Chin@FAMU.edu'; 'Alonda.Thomas@FAMU.edu'; 'blounche.brown@famu.edu';\", \"'Cynthia.harris2@famu.edu'; 'Tola.thompson@famu.edu'; 'Linda.bargemiles@famu.edu';\", \"'Geraldine.ingram@famu.edu'; 'Rodner.wright@famu.edu'; 'Elizabeth.dawson@famu.edu';\", \"'Richard.gragg@famu.edu'; 'Valencia.matthews@famu.edu'; 'David.jackson@famu.edu';\", \"'Okoli@eng.fsu.edu'; Holloman, Sabrina; Blair, Ellen; Hendrieth, Angela; Hudson, Linda;\", 'Jackson, Cassandra; Bryant, Cherie(Planning); Jumonville, Karen; Manning, Roxanne;', \"'draburnette@comcast.net'; 'janeelizjohnson@hotmail.com'; 'paigecartersmith@gmail.com';\", \"'gypsygdd@comcast.net'; 'rjaigillum@gmail.com'; 'mrhaka@aol.com'; 'hughes@magnet.fsu.edu';\", \"'huberta.jlo@gmail.com'; 'Ejakubowski57@gmail.com'; 'jcsland@aol.com';\", \"'lwvfexecutivedirector@gmail.com'; 'mmcgee@rileymuseum.org'; Nickens, Ruth;\", \"'okonj@tcc.fl.edu'; 'kelly.otte@pacecenter.org'; 'reynaud@fsu.edu'; 'scsaxner@gmail.com';\", \"'gail@ziffberry.com'; 'jayeannterry@gmail.com'; 'vev02@my.fsu.edu';\", \"'Marcia.warfel@yahoo.com'; 'haley.oasis@comcast.net'; 'lisa.oasis@comcast.net'; Faris, Alison;\", 'Ingram, Cindy; Teter, Heather; Edwards, Ashley; Hightower, Jacqueline; Downing, Delores;', 'Mayor & City Commissioners; Appointed Officials; Executive Team'], 'Subject': ['Save the Date -- Welcome Tea for FAMU President Elmira Mangum, PhD']})\n",
      "GE: Email saved, line_no: 255, valid_count: 3\n",
      "GE: Reset stack, displacement_sections, prev_section (Subject)\n",
      "GE: reset email and line_nb dictionaries\n",
      "\n",
      "GE: Email saved, line_no: 279, valid_count: 3\n",
      "GE: Reset stack, displacement_sections, prev_section (Subject)\n",
      "Call completeEmail (1), email: defaultdict(<class 'list'>, {'From': ['Paige Carter-Smith'], 'Sent': ['Monday, June 02, 2014 10:20 AM'], 'To': ['Hightower, Jacqueline'], 'CC': ['Lisa Langenderfer'], 'Subject': ['Mangum Tea']})\n",
      "GE: Email saved, line_no: 290, valid_count: 3\n",
      "GE: Reset stack, displacement_sections, prev_section (Subject)\n",
      "GE: reset email and line_nb dictionaries\n",
      "\n",
      "GE: Email saved, line_no: 299, valid_count: 3\n",
      "GE: Reset stack, displacement_sections, prev_section (Subject)\n",
      "GE: Email not saved, line_no: 299, valid_count: 0\n",
      "GE: Reset stack, displacement_sections, prev_section (None)\n",
      "Call completeEmail (1), email: defaultdict(<class 'list'>, {'From': ['Paige Carter-Smith [mailto:paigecartersmith@gmail.com]'], 'Sent': ['Monday, June 02, 2014 10:20 AM'], 'To': ['Hightower, Jacqueline'], 'CC': ['Lisa Langenderfer'], 'Subject': ['Mangum Tea']})\n",
      "GE: Email saved, line_no: 309, valid_count: 3\n",
      "GE: Reset stack, displacement_sections, prev_section (Subject)\n",
      "GE: reset email and line_nb dictionaries\n",
      "\n",
      "GE: Email saved, line_no: 325, valid_count: 2\n",
      "GE: Reset stack, displacement_sections, prev_section (Subject)\n",
      "GE: Email saved, line_no: 341, valid_count: 2\n",
      "GE: Reset stack, displacement_sections, prev_section (Subject)\n",
      "GE: Email saved, line_no: 429, valid_count: 2\n",
      "GE: Reset stack, displacement_sections, prev_section (Subject)\n",
      "GE: Email saved, line_no: 508, valid_count: 3\n",
      "GE: Reset stack, displacement_sections, prev_section (Subject)\n",
      "GE: Email saved, line_no: 601, valid_count: 3\n",
      "GE: Reset stack, displacement_sections, prev_section (Subject)\n",
      "GE: Email saved, line_no: 713, valid_count: 3\n",
      "GE: Reset stack, displacement_sections, prev_section (Subject)\n",
      "Call completeEmail (1), email: defaultdict(<class 'list'>, {'From': ['Commissioner Branch'], 'Sent': ['Thursday, October 23, 2014 1:49 PM'], 'To': ['Scott Maddox; Dan R Stengle; Paige Carter-Smith; Christy Cameron; Allie Merzer-Fleming'], 'Subject': ['Obama Is a Republican   The American Conservative']})\n",
      "GE: Email saved, line_no: 966, valid_count: 3\n",
      "GE: Reset stack, displacement_sections, prev_section (Subject)\n",
      "GE: reset email and line_nb dictionaries\n",
      "\n",
      "Call completeEmail (1), email: defaultdict(<class 'list'>, {'From': ['Lisa Langenderfer'], 'Sent': ['Monday, January 05, 2015 3:23 PM'], 'To': ['Burnette, Ada; Carter-Smith, Paige; Dixon, Gail; Gillum,R.; Hughes, Roxanne; JacksonLowman, Huberta; Jakubowski, Elizabeth; James, ShaRon; Johnson,Jane; Land, Stephanie;', \"Lowe-Minor, Jessica; McGee, Marion; Nickens,Ruth; O'Kon, Jeanne; Ofuani, Sharon; Reynaud,\", 'Cecile; Saxner, Sara; Terry, Jaye; Vasquez, Veronica; Warfel,Marcia; Ziffer, Gail'], 'CC': ['Haley'], 'Subject': ['CSWG: Article of Interest']})\n",
      "GE: Email saved, line_no: 985, valid_count: 3\n",
      "GE: Reset stack, displacement_sections, prev_section (Subject)\n",
      "GE: reset email and line_nb dictionaries\n",
      "\n",
      "GE: Email saved, line_no: 1027, valid_count: 3\n",
      "GE: Reset stack, displacement_sections, prev_section (Subject)\n",
      "GE: Email saved, line_no: 1055, valid_count: 3\n",
      "GE: Reset stack, displacement_sections, prev_section (Attachments)\n",
      "GE: Email saved, line_no: 1083, valid_count: 3\n",
      "GE: Reset stack, displacement_sections, prev_section (Attachments)\n",
      "GE: Email saved, line_no: 1128, valid_count: 3\n",
      "GE: Reset stack, displacement_sections, prev_section (Importance)\n",
      "Call completeEmail (1), email: defaultdict(<class 'list'>, {'From': ['Bittle, Felicia [mailto:Felicia.Bittle@talgov.com]'], 'Sent': ['Wednesday, February 11, 2015 11:08 AM'], 'To': ['Steven Leoni'], 'Subject': ['RE: 420 N. Adams Street - Adams Street Lofts - Utilities']})\n",
      "GE: Email saved, line_no: 1158, valid_count: 3\n",
      "GE: Reset stack, displacement_sections, prev_section (Subject)\n",
      "GE: reset email and line_nb dictionaries\n",
      "\n",
      "GE: Email saved, line_no: 1194, valid_count: 3\n",
      "GE: Reset stack, displacement_sections, prev_section (Subject)\n",
      "GE: Email saved, line_no: 1217, valid_count: 3\n",
      "GE: Reset stack, displacement_sections, prev_section (Importance)\n",
      "GE: Email saved, line_no: 1280, valid_count: 3\n",
      "GE: Reset stack, displacement_sections, prev_section (Importance)\n",
      "Call completeEmail (1), email: defaultdict(<class 'list'>, {'From': ['Lisa Magruder'], 'Sent': ['Sunday, February 15, 2015 5:01 PM'], 'CC': ['Ada Puryear Burnette; Cecile Reynaud; Elizabeth Jakubowski; GailDixon; Gail Stansberry', \"Ziffer; Huberta Jackson-Lowman; Jane Johnson; Jaye Ann Terry; Jeanne O'Kon; Jessica LoweMinor; Marcia Warfel; MarionMcgee; Paige Carter-Smith; R. Jai Gillum; RoxanneHughes; Ruth\", 'Nickens; SaraSaxner; ShaRon James; SharonOfuani; Stephanie Land; Veronica Vasquez'], 'Subject': ['CSWG: Contacts for Poverty Simulation']})\n",
      "GE: Email saved, line_no: 1326, valid_count: 2\n",
      "GE: Reset stack, displacement_sections, prev_section (Subject)\n",
      "GE: reset email and line_nb dictionaries\n",
      "\n",
      "GE: Email saved, line_no: 1339, valid_count: 3\n",
      "GE: Reset stack, displacement_sections, prev_section (Attachments)\n",
      "GE: Email saved, line_no: 1381, valid_count: 3\n",
      "GE: Reset stack, displacement_sections, prev_section (Subject)\n",
      "GE: Email saved, line_no: 1421, valid_count: 3\n",
      "GE: Reset stack, displacement_sections, prev_section (Importance)\n",
      "Call completeEmail (1), email: defaultdict(<class 'list'>, {'From': ['Bittle, Felicia [mailto:Felicia.Bittle@talgov.com]'], 'Sent': ['Wednesday, February 11, 2015 11:08 AM'], 'To': ['Steven Leoni'], 'Subject': ['RE: 420 N. Adams Street - Adams Street Lofts - Utilities']})\n",
      "GE: Email saved, line_no: 1442, valid_count: 3\n",
      "GE: Reset stack, displacement_sections, prev_section (Subject)\n",
      "GE: reset email and line_nb dictionaries\n",
      "\n",
      "GE: Email saved, line_no: 1473, valid_count: 3\n",
      "GE: Reset stack, displacement_sections, prev_section (Subject)\n",
      "GE: Email saved, line_no: 1493, valid_count: 3\n",
      "GE: Reset stack, displacement_sections, prev_section (Importance)\n",
      "GE: Email saved, line_no: 1560, valid_count: 3\n",
      "GE: Reset stack, displacement_sections, prev_section (Importance)\n",
      "GE: Email saved, line_no: 1638, valid_count: 3\n",
      "GE: Reset stack, displacement_sections, prev_section (Attachments)\n",
      "GE: Email saved, line_no: 1672, valid_count: 3\n",
      "GE: Reset stack, displacement_sections, prev_section (Subject)\n",
      "GE: Email saved, line_no: 1722, valid_count: 3\n",
      "GE: Reset stack, displacement_sections, prev_section (Subject)\n",
      "Call completeEmail (1), email: defaultdict(<class 'list'>, {'From': ['Stephanie Hafer'], 'Sent': ['Thursday, March 05, 2015 4:52 PM'], 'To': ['Serena Moyle; Patti Hilaman; Paige Carter-Smith; PaigeCarter-Smith; Audra Pittman;', 'Courtney Ewing; Roderick Durham; Jay Revell; Mike Bellamy'], 'CC': ['Mallory.Izbicki@lungse.org; NicolaBarnack; Alex Medina'], 'Subject': ['Event Day Practice']})\n",
      "GE: Email saved, line_no: 1744, valid_count: 3\n",
      "GE: Reset stack, displacement_sections, prev_section (Subject)\n",
      "GE: reset email and line_nb dictionaries\n",
      "\n",
      "Call completeEmail (1), email: defaultdict(<class 'list'>, {'From': ['Courtney Ewing'], 'Sent': ['Thursday, March 19, 2015 1:17 PM'], 'To': [\"Mallory Izbicki; 'Bellamy, Mike Fire Dept'; 'Jay Revell'; Roderick Durham\", \"roderickdurham@gmail.com; 'PattiHilaman'; 'Paige Carter-Smith'; 'Audra Pittman';\", \"'SerenaMoyle'\"], 'CC': ['Nicola Barnack'], 'Subject': ['RE: Oxygen Ball Cocktail Hour Wrap Up']})\n",
      "GE: Email saved, line_no: 1755, valid_count: 3\n",
      "GE: Reset stack, displacement_sections, prev_section (Subject)\n",
      "GE: reset email and line_nb dictionaries\n",
      "\n",
      "GE: Email saved, line_no: 1782, valid_count: 3\n",
      "GE: Reset stack, displacement_sections, prev_section (Sent)\n",
      "GE: Email saved, line_no: 1816, valid_count: 3\n",
      "GE: Reset stack, displacement_sections, prev_section (Subject)\n",
      "GE: Email saved, line_no: 1840, valid_count: 3\n",
      "GE: Reset stack, displacement_sections, prev_section (Subject)\n",
      "GE: Email saved, line_no: 1874, valid_count: 3\n",
      "GE: Reset stack, displacement_sections, prev_section (Subject)\n",
      "GE: Email saved, line_no: 1907, valid_count: 3\n",
      "GE: Reset stack, displacement_sections, prev_section (Subject)\n",
      "GE: Email saved, line_no: 1964, valid_count: 3\n",
      "GE: Reset stack, displacement_sections, prev_section (Attachments)\n",
      "GE: Email saved, line_no: 2006, valid_count: 3\n",
      "GE: Reset stack, displacement_sections, prev_section (Subject)\n",
      "GE: Email saved, line_no: 2048, valid_count: 3\n",
      "GE: Reset stack, displacement_sections, prev_section (Subject)\n",
      "Call completeEmail (1), email: defaultdict(<class 'list'>, {'From': ['Justin Day'], 'Sent': ['Wednesday, May 27, 2015 1:23 PM'], 'To': ['Courtemanche, Rick (Rick.Courtemanche@talgov.com)'], 'CC': ['Dave Barmore (barmore@uber.com); Cesar Fernandez (fernandez@uber.com); Paige', 'Carter-Smith (paigecartersmith@gmail.com)'], 'Subject': ['FW: Vehicle for Hire ordinance'], 'Attachments': ['15-O-10 5-18-15 Draft Amendments.doc']})\n",
      "GE: Email saved, line_no: 2060, valid_count: 3\n",
      "GE: Reset stack, displacement_sections, prev_section (Attachments)\n",
      "GE: reset email and line_nb dictionaries\n",
      "\n",
      "GE: Email saved, line_no: 4724, valid_count: 3\n",
      "GE: Reset stack, displacement_sections, prev_section (Subject)\n",
      "Call completeEmail (1), email: defaultdict(<class 'list'>, {'From': ['Courtemanche, Rick'], 'Sent': ['Wednesday, May 27, 2015 1:28 PM'], 'To': ['Justin Day'], 'CC': ['Dave Barmore (barmore@uber.com); Cesar Fernandez (fernandez@uber.com); Paige', 'Carter-Smith (paigecartersmith@gmail.com); Shelley, Lewis'], 'Subject': ['RE: Vehicle for Hire ordinance']})\n",
      "GE: Email saved, line_no: 4741, valid_count: 3\n",
      "GE: Reset stack, displacement_sections, prev_section (Subject)\n",
      "GE: reset email and line_nb dictionaries\n",
      "\n",
      "Call completeEmail (1), email: defaultdict(<class 'list'>, {'From': ['Justin Day [mailto:jd@cardenaspartners.com]'], 'Sent': ['Wednesday, May 27, 2015 1:23 PM'], 'To': ['Courtemanche, Rick'], 'CC': ['Dave Barmore (barmore@uber.com); Cesar Fernandez (fernandez@uber.com); Paige Carter-Smith', '(paigecartersmith@gmail.com)'], 'Subject': ['FW: Vehicle for Hire ordinance']})\n",
      "GE: Email saved, line_no: 4753, valid_count: 3\n",
      "GE: Reset stack, displacement_sections, prev_section (Subject)\n",
      "GE: reset email and line_nb dictionaries\n",
      "\n",
      "Call completeEmail (1), email: defaultdict(<class 'list'>, {'From': ['Courtemanche, Rick [mailto:Rick.Courtemanche@talgov.com]'], 'Sent': ['Tuesday, May 19, 2015 3:40 PM'], 'To': ['Barmore@uber.com; Justin Day; fernandez@uber.com; Floyd Webb', '(fwebb@tallahasseeyellowcab.com); John Camillo (jcamillo@blserviceinc.com); Adam Corey', '(acorey@101tally.com); emailtofh@gmail.com'], 'CC': ['Shelley, Lewis'], 'Subject': ['Vehicle for Hire ordinance']})\n",
      "GE: Email saved, line_no: 4785, valid_count: 3\n",
      "GE: Reset stack, displacement_sections, prev_section (Subject)\n",
      "GE: reset email and line_nb dictionaries\n",
      "\n",
      "Call completeEmail (1), email: defaultdict(<class 'list'>, {'From': ['Courtemanche, Rick'], 'Sent': ['Wednesday, May 27, 2015 1:28 PM'], 'To': ['Justin Day'], 'CC': ['Dave Barmore (barmore@uber.com); Cesar Fernandez (fernandez@uber.com); Paige', 'Carter-Smith (paigecartersmith@gmail.com); Shelley, Lewis'], 'Subject': ['RE: Vehicle for Hire ordinance']})\n",
      "GE: Email saved, line_no: 4802, valid_count: 3\n",
      "GE: Reset stack, displacement_sections, prev_section (Subject)\n",
      "GE: reset email and line_nb dictionaries\n",
      "\n",
      "Call completeEmail (1), email: defaultdict(<class 'list'>, {'From': ['Justin Day [mailto:jd@cardenaspartners.com]'], 'Sent': ['Wednesday, May 27, 2015 1:23 PM'], 'To': ['Courtemanche, Rick'], 'CC': ['Dave Barmore (barmore@uber.com); Cesar Fernandez (fernandez@uber.com); Paige Carter-Smith', '(paigecartersmith@gmail.com)'], 'Subject': ['FW: Vehicle for Hire ordinance']})\n",
      "GE: Email saved, line_no: 4814, valid_count: 3\n",
      "GE: Reset stack, displacement_sections, prev_section (Subject)\n",
      "GE: reset email and line_nb dictionaries\n",
      "\n",
      "Call completeEmail (1), email: defaultdict(<class 'list'>, {'From': ['Courtemanche, Rick [mailto:Rick.Courtemanche@talgov.com]'], 'Sent': ['Tuesday, May 19, 2015 3:40 PM'], 'To': ['Barmore@uber.com; Justin Day; fernandez@uber.com; Floyd Webb', '(fwebb@tallahasseeyellowcab.com); John Camillo (jcamillo@blserviceinc.com); Adam Corey', '(acorey@101tally.com); emailtofh@gmail.com'], 'CC': ['Shelley, Lewis'], 'Subject': ['Vehicle for Hire ordinance']})\n",
      "GE: Email saved, line_no: 4846, valid_count: 3\n",
      "GE: Reset stack, displacement_sections, prev_section (Subject)\n",
      "GE: reset email and line_nb dictionaries\n",
      "\n",
      "Call completeEmail (1), email: defaultdict(<class 'list'>, {'From': ['Justin Day'], 'Sent': ['Wednesday, May 27, 2015 1:33 PM'], 'To': ['Courtemanche, Rick'], 'CC': ['Dave Barmore (barmore@uber.com); Cesar Fernandez (fernandez@uber.com); Paige', 'Carter-Smith (paigecartersmith@gmail.com); Shelley, Lewis'], 'Subject': ['RE: Vehicle for Hire ordinance']})\n",
      "GE: Email saved, line_no: 4853, valid_count: 3\n",
      "GE: Reset stack, displacement_sections, prev_section (Subject)\n",
      "GE: reset email and line_nb dictionaries\n",
      "\n",
      "Call completeEmail (1), email: defaultdict(<class 'list'>, {'From': ['Courtemanche, Rick [mailto:Rick.Courtemanche@talgov.com]'], 'Sent': ['Wednesday, May 27, 2015 1:28 PM'], 'To': ['Justin Day'], 'CC': ['Dave Barmore (barmore@uber.com); Cesar Fernandez (fernandez@uber.com); Paige Carter-Smith', '(paigecartersmith@gmail.com); Shelley, Lewis'], 'Subject': ['RE: Vehicle for Hire ordinance']})\n",
      "GE: Email saved, line_no: 4871, valid_count: 3\n",
      "GE: Reset stack, displacement_sections, prev_section (Subject)\n",
      "GE: reset email and line_nb dictionaries\n",
      "\n",
      "Call completeEmail (1), email: defaultdict(<class 'list'>, {'From': ['Justin Day [mailto:jd@cardenaspartners.com]'], 'Sent': ['Wednesday, May 27, 2015 1:23 PM'], 'To': ['Courtemanche, Rick'], 'CC': ['Dave Barmore (barmore@uber.com); Cesar Fernandez (fernandez@uber.com); Paige Carter-Smith', '(paigecartersmith@gmail.com)'], 'Subject': ['FW: Vehicle for Hire ordinance']})\n",
      "GE: Email saved, line_no: 4883, valid_count: 3\n",
      "GE: Reset stack, displacement_sections, prev_section (Subject)\n",
      "GE: reset email and line_nb dictionaries\n",
      "\n",
      "Call completeEmail (1), email: defaultdict(<class 'list'>, {'From': ['Courtemanche, Rick [mailto:Rick.Courtemanche@talgov.com]'], 'Sent': ['Tuesday, May 19, 2015 3:40 PM'], 'To': ['Barmore@uber.com; Justin Day; fernandez@uber.com; Floyd Webb', '(fwebb@tallahasseeyellowcab.com); John Camillo (jcamillo@blserviceinc.com); Adam Corey', '(acorey@101tally.com); emailtofh@gmail.com'], 'CC': ['Shelley, Lewis'], 'Subject': ['Vehicle for Hire ordinance']})\n",
      "GE: Email saved, line_no: 4919, valid_count: 3\n",
      "GE: Reset stack, displacement_sections, prev_section (Subject)\n",
      "GE: reset email and line_nb dictionaries\n",
      "\n",
      "Call completeEmail (1), email: defaultdict(<class 'list'>, {'From': ['Justin Day'], 'Sent': ['Wednesday, May 27, 2015 1:33 PM'], 'To': ['Courtemanche, Rick'], 'CC': ['Dave Barmore (barmore@uber.com); Cesar Fernandez (fernandez@uber.com); Paige', 'Carter-Smith (paigecartersmith@gmail.com); Shelley, Lewis'], 'Subject': ['RE: Vehicle for Hire ordinance']})\n",
      "GE: Email saved, line_no: 4926, valid_count: 3\n",
      "GE: Reset stack, displacement_sections, prev_section (Subject)\n",
      "GE: reset email and line_nb dictionaries\n",
      "\n",
      "Call completeEmail (1), email: defaultdict(<class 'list'>, {'From': ['Courtemanche, Rick [mailto:Rick.Courtemanche@talgov.com]'], 'Sent': ['Wednesday, May 27, 2015 1:28 PM'], 'To': ['Justin Day'], 'CC': ['Dave Barmore (barmore@uber.com); Cesar Fernandez (fernandez@uber.com); Paige Carter-Smith', '(paigecartersmith@gmail.com); Shelley, Lewis'], 'Subject': ['RE: Vehicle for Hire ordinance']})\n",
      "GE: Email saved, line_no: 4944, valid_count: 3\n",
      "GE: Reset stack, displacement_sections, prev_section (Subject)\n",
      "GE: reset email and line_nb dictionaries\n",
      "\n",
      "Call completeEmail (1), email: defaultdict(<class 'list'>, {'From': ['Justin Day [mailto:jd@cardenaspartners.com]'], 'Sent': ['Wednesday, May 27, 2015 1:23 PM'], 'To': ['Courtemanche, Rick'], 'CC': ['Dave Barmore (barmore@uber.com); Cesar Fernandez (fernandez@uber.com); Paige Carter-Smith', '(paigecartersmith@gmail.com)'], 'Subject': ['FW: Vehicle for Hire ordinance']})\n",
      "GE: Email saved, line_no: 4956, valid_count: 3\n",
      "GE: Reset stack, displacement_sections, prev_section (Subject)\n",
      "GE: reset email and line_nb dictionaries\n",
      "\n",
      "Call completeEmail (1), email: defaultdict(<class 'list'>, {'From': ['Courtemanche, Rick [mailto:Rick.Courtemanche@talgov.com]'], 'Sent': ['Tuesday, May 19, 2015 3:40 PM'], 'To': ['Barmore@uber.com; Justin Day; fernandez@uber.com; Floyd Webb', '(fwebb@tallahasseeyellowcab.com); John Camillo (jcamillo@blserviceinc.com); Adam Corey', '(acorey@101tally.com); emailtofh@gmail.com'], 'CC': ['Shelley, Lewis'], 'Subject': ['Vehicle for Hire ordinance']})\n",
      "GE: Email saved, line_no: 4992, valid_count: 3\n",
      "GE: Reset stack, displacement_sections, prev_section (Subject)\n",
      "GE: reset email and line_nb dictionaries\n",
      "\n",
      "Call completeEmail (1), email: defaultdict(<class 'list'>, {'From': ['Fleming, Allie'], 'Sent': ['Thursday, July 16, 2015 7:10 PM'], 'To': ['Scott Maddox; Paige Smith'], 'Subject': ['Fwd: Meeting Request']})\n",
      "GE: Email saved, line_no: 4999, valid_count: 3\n",
      "GE: Reset stack, displacement_sections, prev_section (Subject)\n",
      "GE: reset email and line_nb dictionaries\n",
      "\n",
      "Call completeEmail (1), email: defaultdict(<class 'list'>, {'From': ['Bryan Cherry <Bryan@adamsstadvocates.com'], 'Sent': ['July 15, 2015 at 10:51:06 AM EDT'], 'To': ['\"allie.fleming@talgov.com\" <allie.fleming@talgov.com'], 'Subject': ['Meeting Request']})\n",
      "GE: Email saved, line_no: 5011, valid_count: 3\n",
      "GE: Reset stack, displacement_sections, prev_section (Subject)\n",
      "GE: reset email and line_nb dictionaries\n",
      "\n",
      "GE: Email saved, line_no: 5026, valid_count: 3\n",
      "GE: Reset stack, displacement_sections, prev_section (Subject)\n",
      "GE: Email saved, line_no: 5041, valid_count: 3\n",
      "GE: Reset stack, displacement_sections, prev_section (Subject)\n",
      "GE: Email saved, line_no: 5058, valid_count: 3\n",
      "GE: Reset stack, displacement_sections, prev_section (Subject)\n",
      "Call completeEmail (1), email: defaultdict(<class 'list'>, {'From': ['Fleming, Allie [mailto:Allison.Fleming@talgov.com]'], 'Sent': ['Thursday, May 14, 2015 11:45 AM'], 'To': ['Melissa Moore <mmoore@moorebass.com'], 'CC': ['scott@scottmaddox.com; shamaddox@embarqmail.com'], 'Subject': ['RE: Chamber Retreat']})\n",
      "GE: Email saved, line_no: 5081, valid_count: 3\n",
      "GE: Reset stack, displacement_sections, prev_section (Subject)\n",
      "GE: reset email and line_nb dictionaries\n",
      "\n",
      "GE: Email saved, line_no: 5101, valid_count: 3\n",
      "GE: Reset stack, displacement_sections, prev_section (Subject)\n",
      "Call completeEmail (1), email: defaultdict(<class 'list'>, {'From': ['Maddox, Scott'], 'Sent': ['Monday, August 03, 2015 9:10 AM'], 'To': ['Scott Maddox; Paige Smith'], 'Subject': ['Fwd: PSCP Fall Meeting: in Bridgeport, Connecticut.']})\n",
      "GE: Email saved, line_no: 5113, valid_count: 3\n",
      "GE: Reset stack, displacement_sections, prev_section (Subject)\n",
      "GE: reset email and line_nb dictionaries\n",
      "\n",
      "Call completeEmail (1), email: defaultdict(<class 'list'>, {'From': ['\"Vizzo-Paniccia, AmyMarie\" <amymarie.vizzopaniccia@Bridgeportct.gov'], 'Sent': ['August 1, 2015 at 1:59:26 AM EDT'], 'To': ['\"PSCP@cmte.nlc.org\" <PSCP@cmte.nlc.org>, AmyMarie Vizzo-Paniccia', '<amvp76bpt@aol.com>, AmyMarie Vizzo-Paniccia <amvp76bpt@aol.com'], 'Subject': ['RE: PSCP Fall Meeting: in Bridgeport, Connecticut.']})\n",
      "GE: Email saved, line_no: 5249, valid_count: 3\n",
      "GE: Reset stack, displacement_sections, prev_section (Subject)\n",
      "GE: reset email and line_nb dictionaries\n",
      "\n",
      "Call completeEmail (1), email: defaultdict(<class 'list'>, {'From': ['PSCP-owner@cmte.nlc.org [PSCP-owner@cmte.nlc.org] On Behalf Of', 'Yucel Ors [Ors@nlc.org]'], 'Sent': ['Wednesday, July 29, 2015 2:33 PM'], 'To': ['PSCP@cmte.nlc.org'], 'Subject': ['RE: PSCP Fall Meeting: Airport Transportation to Bridgeport']})\n",
      "GE: Email saved, line_no: 5268, valid_count: 3\n",
      "GE: Reset stack, displacement_sections, prev_section (Subject)\n",
      "GE: reset email and line_nb dictionaries\n",
      "\n",
      "Call completeEmail (1), email: defaultdict(<class 'list'>, {'From': ['PSCP-owner@cmte.nlc.org [mailto:PSCP-owner@cmte.nlc.org] On', 'Behalf Of Randy Adams'], 'Sent': ['Wednesday, July 29, 2015 1:51 PM'], 'To': ['PSCP@cmte.nlc.org'], 'Subject': ['Re: PSCP Fall Meeting: Airport Transportation to Bridgeport']})\n",
      "GE: Email saved, line_no: 5286, valid_count: 3\n",
      "GE: Reset stack, displacement_sections, prev_section (Subject)\n",
      "GE: reset email and line_nb dictionaries\n",
      "\n",
      "Call completeEmail (1), email: defaultdict(<class 'list'>, {'From': ['Yucel Ors <Ors@nlc.org<mailto:Ors@nlc.org'], 'To': ['\"PSCP@cmte.nlc.org<mailto:PSCP@cmte.nlc.org>\"', '<PSCP@cmte.nlc.org<mailto:PSCP@cmte.nlc.org'], 'Sent': ['Thursday, July 16, 2015 12:49 PM'], 'Subject': ['PSCP Fall Meeting: Airport Transportation to Bridgeport']})\n",
      "GE: Email saved, line_no: 5337, valid_count: 3\n",
      "GE: Reset stack, displacement_sections, prev_section (Subject)\n",
      "GE: reset email and line_nb dictionaries\n",
      "\n",
      "Call completeEmail (1), email: defaultdict(<class 'list'>, {'From': ['Betsy Couch'], 'Sent': ['Tuesday, August 18, 2015 6:21 PM'], 'To': ['Wiebler, Brian T.; Paige Carter-Smith; Gayle Webb'], 'Subject': ['Meeting with KCCI Encompass Team']})\n",
      "GE: Email saved, line_no: 5363, valid_count: 3\n",
      "GE: Reset stack, displacement_sections, prev_section (Subject)\n",
      "GE: reset email and line_nb dictionaries\n",
      "\n",
      "GE: Email saved, line_no: 5389, valid_count: 3\n",
      "GE: Reset stack, displacement_sections, prev_section (Subject)\n",
      "Call completeEmail (1), email: defaultdict(<class 'list'>, {'From': ['Betsy Couch [mailto:betsy.couch@kccitallahassee.com]'], 'isThread': True, 'Sent': ['Tuesday, August 18, 2015 6:21 PM'], 'To': ['Wiebler, Brian T.; Paige Carter-Smith; Gayle Webb'], 'Subject': ['Meeting with KCCI Encompass Team']})\n",
      "GE: Email saved, line_no: 5419, valid_count: 3\n",
      "GE: Reset stack, displacement_sections, prev_section (Subject)\n",
      "GE: reset email and line_nb dictionaries\n",
      "\n",
      "GE: Email saved, line_no: 5437, valid_count: 3\n",
      "GE: Reset stack, displacement_sections, prev_section (Subject)\n",
      "Call completeEmail (1), email: defaultdict(<class 'list'>, {'From': ['Betsy Couch [mailto:betsy.couch@kccitallahassee.com]'], 'Sent': ['Tuesday, August 18, 2015 6:21 PM'], 'To': ['Wiebler, Brian T.; Paige Carter-Smith; Gayle Webb'], 'Subject': ['Meeting with KCCI Encompass Team']})\n",
      "GE: Email saved, line_no: 5459, valid_count: 3\n",
      "GE: Reset stack, displacement_sections, prev_section (Subject)\n",
      "GE: reset email and line_nb dictionaries\n",
      "\n",
      "Call completeEmail (1), email: defaultdict(<class 'list'>, {'From': ['Gayle Webb'], 'Sent': ['Wednesday, September 23, 2015 5:56 PM'], 'To': [\"'Paige Carter-Smith'; 'Fran Conaway'; 'Christine Nieves'; 'Bob Streater'; 'Alana Taylor';\", \"'Ashley M. Daniels'; brad@bigbendhospice.org; 'CHIARAPODERI Chiara Saldivar'; 'Mike\", \"Pate'; 'Joe Lowder'; 'Krishnan Viswanathan'; 'Lucas Lindsey'; 'Marcus Rhodes'; 'Rebekah Dorn';\", \"'Stefanie Kiedrowski'; 'Wiebler, Brian T.'; 'Betsy Couch'\"], 'Subject': ['yaaaay'], 'Attachments': ['IMG_0205.JPG']})\n",
      "GE: Email saved, line_no: 5469, valid_count: 3\n",
      "GE: Reset stack, displacement_sections, prev_section (Attachments)\n",
      "GE: reset email and line_nb dictionaries\n",
      "\n",
      "split subject, line: 5475\n",
      "GE, Subject: before completeEmail(0), line_no:  5475\n",
      "GE: Email saved, line_no: 5475, valid_count: 3\n",
      "GE: Reset stack, displacement_sections, prev_section (Subject)\n",
      "new subject line: Subject: Re: per Bobby Burleson\n",
      "line is empty: two quotes. line_no: 5478\n",
      "in displacement_sections and stack is NOT empty, line_no: 5481\n"
     ]
    },
    {
     "ename": "NameError",
     "evalue": "name 'stack' is not defined",
     "output_type": "error",
     "traceback": [
      "\u001b[0;31m---------------------------------------------------------------------------\u001b[0m",
      "\u001b[0;31mNameError\u001b[0m                                 Traceback (most recent call last)",
      "\u001b[0;32m<ipython-input-139-dd898c3e2cbe>\u001b[0m in \u001b[0;36m<module>\u001b[0;34m\u001b[0m\n\u001b[1;32m      9\u001b[0m     \u001b[0msv_ge\u001b[0m\u001b[0;34m.\u001b[0m\u001b[0minfile\u001b[0m \u001b[0;34m=\u001b[0m \u001b[0minputfile\u001b[0m\u001b[0;34m\u001b[0m\u001b[0;34m\u001b[0m\u001b[0m\n\u001b[1;32m     10\u001b[0m     \u001b[0;31m# print(sv_ge.inputpath, inputfile)\u001b[0m\u001b[0;34m\u001b[0m\u001b[0;34m\u001b[0m\u001b[0;34m\u001b[0m\u001b[0m\n\u001b[0;32m---> 11\u001b[0;31m     \u001b[0mprocess\u001b[0m\u001b[0;34m(\u001b[0m\u001b[0msv_ge\u001b[0m\u001b[0;34m)\u001b[0m\u001b[0;34m\u001b[0m\u001b[0;34m\u001b[0m\u001b[0m\n\u001b[0m",
      "\u001b[0;32m<ipython-input-138-65c82892e487>\u001b[0m in \u001b[0;36mprocess\u001b[0;34m(sv_arg)\u001b[0m\n\u001b[1;32m    164\u001b[0m         \u001b[0;32mif\u001b[0m \u001b[0mspt_arg\u001b[0m\u001b[0;34m.\u001b[0m\u001b[0mdisplacement_sections\u001b[0m \u001b[0;32mand\u001b[0m \u001b[0mspt_arg\u001b[0m\u001b[0;34m.\u001b[0m\u001b[0mstack\u001b[0m\u001b[0;34m:\u001b[0m\u001b[0;34m\u001b[0m\u001b[0;34m\u001b[0m\u001b[0m\n\u001b[1;32m    165\u001b[0m             \u001b[0mprint\u001b[0m\u001b[0;34m(\u001b[0m\u001b[0;34mf\"in displacement_sections and stack is NOT empty, line_no: {line_no}\"\u001b[0m\u001b[0;34m)\u001b[0m\u001b[0;34m\u001b[0m\u001b[0;34m\u001b[0m\u001b[0m\n\u001b[0;32m--> 166\u001b[0;31m             \u001b[0mprint\u001b[0m\u001b[0;34m(\u001b[0m\u001b[0;34mf\"   stack: {stack}\"\u001b[0m\u001b[0;34m)\u001b[0m\u001b[0;34m\u001b[0m\u001b[0;34m\u001b[0m\u001b[0m\n\u001b[0m\u001b[1;32m    167\u001b[0m             \u001b[0mspt_arg\u001b[0m\u001b[0;34m.\u001b[0m\u001b[0misDisplacement\u001b[0m \u001b[0;34m=\u001b[0m \u001b[0;32mTrue\u001b[0m\u001b[0;34m\u001b[0m\u001b[0;34m\u001b[0m\u001b[0m\n\u001b[1;32m    168\u001b[0m             \u001b[0memail\u001b[0m\u001b[0;34m[\u001b[0m\u001b[0;34m'isDisplacement'\u001b[0m\u001b[0;34m]\u001b[0m \u001b[0;34m=\u001b[0m \u001b[0;32mTrue\u001b[0m\u001b[0;34m\u001b[0m\u001b[0;34m\u001b[0m\u001b[0m\n",
      "\u001b[0;31mNameError\u001b[0m: name 'stack' is not defined"
     ]
    }
   ],
   "source": [
    "sv_ge = SavingArgs(inputpath= \"./email_txt/downloaded_from_data_tallahassee/\", outputpath = \"./test_output/\")\n",
    "\n",
    "\n",
    "sv_ge.email_couant = 0   # IMPORTANT to reset email_count\n",
    "\n",
    "files = os.listdir(sv_ge.inputpath)\n",
    "\n",
    "for inputfile in tqdm(files[0:]):\n",
    "    sv_ge.infile = inputfile\n",
    "    # print(sv_ge.inputpath, inputfile)\n",
    "    process(sv_ge)"
   ]
  },
  {
   "cell_type": "code",
   "execution_count": 37,
   "metadata": {},
   "outputs": [
    {
     "data": {
      "application/vnd.jupyter.widget-view+json": {
       "model_id": "e5ee5d353856493e88e4f0241d1257cb",
       "version_major": 2,
       "version_minor": 0
      },
      "text/plain": [
       "  0%|          | 0/124 [00:00<?, ?it/s]"
      ]
     },
     "metadata": {},
     "output_type": "display_data"
    },
    {
     "name": "stdout",
     "output_type": "stream",
     "text": [
      "If this is not happenning at the beginning of a file, is an error\n",
      "current line no: 1\n",
      "If this is not happenning at the beginning of a file, is an error\n",
      "current line no: 2\n",
      "If this is not happenning at the beginning of a file, is an error\n",
      "current line no: 2\n",
      "If this is not happenning at the beginning of a file, is an error\n",
      "current line no: 1\n",
      "If this is not happenning at the beginning of a file, is an error\n",
      "current line no: 2\n",
      "If this is not happenning at the beginning of a file, is an error\n",
      "current line no: 1\n",
      "If this is not happenning at the beginning of a file, is an error\n",
      "current line no: 2\n",
      "If this is not happenning at the beginning of a file, is an error\n",
      "current line no: 2\n",
      "If this is not happenning at the beginning of a file, is an error\n",
      "current line no: 2\n",
      "If this is not happenning at the beginning of a file, is an error\n",
      "current line no: 2\n",
      "If this is not happenning at the beginning of a file, is an error\n",
      "current line no: 2\n",
      "If this is not happenning at the beginning of a file, is an error\n",
      "current line no: 2\n",
      "If this is not happenning at the beginning of a file, is an error\n",
      "current line no: 2\n"
     ]
    }
   ],
   "source": [
    "sv_ge = SavingArgs(inputpath= \"./email_txt/downloaded_from_data_tallahassee/\", outputpath = \"./test_output/\")\n",
    "\n",
    "\n",
    "sv_ge.email_count = 0   # IMPORTANT to reset email_count\n",
    "\n",
    "files = os.listdir(sv_ge.inputpath)\n",
    "\n",
    "for inputfile in tqdm(files[0:]):\n",
    "    sv_ge.infile = inputfile\n",
    "    # print(sv_ge.inputpath, inputfile)\n",
    "    process(sv_ge)"
   ]
  },
  {
   "cell_type": "code",
   "execution_count": null,
   "metadata": {},
   "outputs": [],
   "source": []
  },
  {
   "cell_type": "markdown",
   "metadata": {},
   "source": [
    "# non function code below"
   ]
  },
  {
   "cell_type": "code",
   "execution_count": null,
   "metadata": {},
   "outputs": [],
   "source": []
  },
  {
   "cell_type": "code",
   "execution_count": null,
   "metadata": {},
   "outputs": [],
   "source": []
  },
  {
   "cell_type": "code",
   "execution_count": null,
   "metadata": {},
   "outputs": [],
   "source": []
  }
 ],
 "metadata": {
  "kernelspec": {
   "display_name": "Python 3",
   "language": "python",
   "name": "python3"
  },
  "language_info": {
   "codemirror_mode": {
    "name": "ipython",
    "version": 3
   },
   "file_extension": ".py",
   "mimetype": "text/x-python",
   "name": "python",
   "nbconvert_exporter": "python",
   "pygments_lexer": "ipython3",
   "version": "3.8.8"
  },
  "toc": {
   "base_numbering": 1,
   "nav_menu": {},
   "number_sections": true,
   "sideBar": true,
   "skip_h1_title": false,
   "title_cell": "Table of Contents",
   "title_sidebar": "Contents",
   "toc_cell": true,
   "toc_position": {
    "height": "calc(100% - 180px)",
    "left": "10px",
    "top": "150px",
    "width": "166px"
   },
   "toc_section_display": true,
   "toc_window_display": true
  },
  "widgets": {
   "application/vnd.jupyter.widget-state+json": {
    "state": {
     "0552b29aaecb43518259c68bc2bc741a": {
      "model_module": "@jupyter-widgets/base",
      "model_module_version": "1.2.0",
      "model_name": "LayoutModel",
      "state": {}
     },
     "0b79bc7e47d84f01a989d90b7cc2ad9e": {
      "model_module": "@jupyter-widgets/base",
      "model_module_version": "1.2.0",
      "model_name": "LayoutModel",
      "state": {}
     },
     "189f15f4b47c4bc7953a7c1d279f7b5e": {
      "model_module": "@jupyter-widgets/controls",
      "model_module_version": "1.5.0",
      "model_name": "FloatProgressModel",
      "state": {
       "bar_style": "danger",
       "layout": "IPY_MODEL_0b79bc7e47d84f01a989d90b7cc2ad9e",
       "max": 124,
       "style": "IPY_MODEL_a13837456a2f4a99b35d68635217453b"
      }
     },
     "1eee6c4eb97746c89eddf988689df40d": {
      "model_module": "@jupyter-widgets/controls",
      "model_module_version": "1.5.0",
      "model_name": "HBoxModel",
      "state": {
       "children": [
        "IPY_MODEL_a945114f39cf43b3bdcc4699e8aa3ee4",
        "IPY_MODEL_189f15f4b47c4bc7953a7c1d279f7b5e",
        "IPY_MODEL_f6f95b09c2544d3a941613bd63ac2bf9"
       ],
       "layout": "IPY_MODEL_bc236921139a441b859194ebb1f18cff"
      }
     },
     "2305697cfef14b14a21e26a6e1e48e82": {
      "model_module": "@jupyter-widgets/controls",
      "model_module_version": "1.5.0",
      "model_name": "FloatProgressModel",
      "state": {
       "bar_style": "success",
       "layout": "IPY_MODEL_5f72f77a39a549e0b9d567c29c37406c",
       "max": 124,
       "style": "IPY_MODEL_a33419b17e4244c8b62e8ef61befa28c",
       "value": 124
      }
     },
     "32ee9fe0566844b49c4ff6c1280b1c64": {
      "model_module": "@jupyter-widgets/controls",
      "model_module_version": "1.5.0",
      "model_name": "DescriptionStyleModel",
      "state": {
       "description_width": ""
      }
     },
     "39fde81cff6b4fdc812896a9ec89fe5a": {
      "model_module": "@jupyter-widgets/base",
      "model_module_version": "1.2.0",
      "model_name": "LayoutModel",
      "state": {}
     },
     "3dd4f34f3e594f47b7e7b3ce483bbb9c": {
      "model_module": "@jupyter-widgets/base",
      "model_module_version": "1.2.0",
      "model_name": "LayoutModel",
      "state": {}
     },
     "3fdcf7307973420f94a41bd7ef8220b7": {
      "model_module": "@jupyter-widgets/controls",
      "model_module_version": "1.5.0",
      "model_name": "HTMLModel",
      "state": {
       "layout": "IPY_MODEL_0552b29aaecb43518259c68bc2bc741a",
       "style": "IPY_MODEL_d2f27ab74aa64425a34c802ed643b28f",
       "value": " 124/124 [00:30&lt;00:00,  5.81it/s]"
      }
     },
     "5187c20e4811446690fae7b7e0606c73": {
      "model_module": "@jupyter-widgets/base",
      "model_module_version": "1.2.0",
      "model_name": "LayoutModel",
      "state": {}
     },
     "5f72f77a39a549e0b9d567c29c37406c": {
      "model_module": "@jupyter-widgets/base",
      "model_module_version": "1.2.0",
      "model_name": "LayoutModel",
      "state": {}
     },
     "686444f3a7d74858b7a48e9c464c4559": {
      "model_module": "@jupyter-widgets/controls",
      "model_module_version": "1.5.0",
      "model_name": "DescriptionStyleModel",
      "state": {
       "description_width": ""
      }
     },
     "7c9b51a74af3426ba7446ef97e6f9b57": {
      "model_module": "@jupyter-widgets/controls",
      "model_module_version": "1.5.0",
      "model_name": "DescriptionStyleModel",
      "state": {
       "description_width": ""
      }
     },
     "a13837456a2f4a99b35d68635217453b": {
      "model_module": "@jupyter-widgets/controls",
      "model_module_version": "1.5.0",
      "model_name": "ProgressStyleModel",
      "state": {
       "description_width": ""
      }
     },
     "a33419b17e4244c8b62e8ef61befa28c": {
      "model_module": "@jupyter-widgets/controls",
      "model_module_version": "1.5.0",
      "model_name": "ProgressStyleModel",
      "state": {
       "description_width": ""
      }
     },
     "a945114f39cf43b3bdcc4699e8aa3ee4": {
      "model_module": "@jupyter-widgets/controls",
      "model_module_version": "1.5.0",
      "model_name": "HTMLModel",
      "state": {
       "layout": "IPY_MODEL_39fde81cff6b4fdc812896a9ec89fe5a",
       "style": "IPY_MODEL_7c9b51a74af3426ba7446ef97e6f9b57",
       "value": "  0%"
      }
     },
     "bc236921139a441b859194ebb1f18cff": {
      "model_module": "@jupyter-widgets/base",
      "model_module_version": "1.2.0",
      "model_name": "LayoutModel",
      "state": {}
     },
     "c10da944c0ac493393f300725a0d3cd2": {
      "model_module": "@jupyter-widgets/base",
      "model_module_version": "1.2.0",
      "model_name": "LayoutModel",
      "state": {}
     },
     "d2f27ab74aa64425a34c802ed643b28f": {
      "model_module": "@jupyter-widgets/controls",
      "model_module_version": "1.5.0",
      "model_name": "DescriptionStyleModel",
      "state": {
       "description_width": ""
      }
     },
     "d75a35f6836a4beda54297a704e4c386": {
      "model_module": "@jupyter-widgets/controls",
      "model_module_version": "1.5.0",
      "model_name": "HBoxModel",
      "state": {
       "children": [
        "IPY_MODEL_d760a5c4e97842fba5fe0effec932c7e",
        "IPY_MODEL_2305697cfef14b14a21e26a6e1e48e82",
        "IPY_MODEL_3fdcf7307973420f94a41bd7ef8220b7"
       ],
       "layout": "IPY_MODEL_5187c20e4811446690fae7b7e0606c73"
      }
     },
     "d760a5c4e97842fba5fe0effec932c7e": {
      "model_module": "@jupyter-widgets/controls",
      "model_module_version": "1.5.0",
      "model_name": "HTMLModel",
      "state": {
       "layout": "IPY_MODEL_3dd4f34f3e594f47b7e7b3ce483bbb9c",
       "style": "IPY_MODEL_686444f3a7d74858b7a48e9c464c4559",
       "value": "100%"
      }
     },
     "f6f95b09c2544d3a941613bd63ac2bf9": {
      "model_module": "@jupyter-widgets/controls",
      "model_module_version": "1.5.0",
      "model_name": "HTMLModel",
      "state": {
       "layout": "IPY_MODEL_c10da944c0ac493393f300725a0d3cd2",
       "style": "IPY_MODEL_32ee9fe0566844b49c4ff6c1280b1c64",
       "value": " 0/124 [00:00&lt;?, ?it/s]"
      }
     }
    },
    "version_major": 2,
    "version_minor": 0
   }
  }
 },
 "nbformat": 4,
 "nbformat_minor": 4
}
