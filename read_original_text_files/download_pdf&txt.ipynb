{
 "cells": [
  {
   "cell_type": "code",
   "execution_count": 1,
   "metadata": {},
   "outputs": [],
   "source": [
    "import urllib, requests\n",
    "import re\n",
    "import numpy as np\n",
    "import pandas as pd\n",
    "from bs4 import BeautifulSoup\n",
    "from tqdm import tqdm_notebook, tnrange\n",
    "import random"
   ]
  },
  {
   "cell_type": "code",
   "execution_count": 13,
   "metadata": {},
   "outputs": [],
   "source": [
    "headers={\"User-Agent\":\"Mozilla/5.0 (Windows NT 10.0; Win64; x64) AppleWebKit/537.36 (KHTML, like Gecko) Chrome/80.0.3987.149 Safari/537.36\"} \n",
    "toc_url = 'https://data.tallahassee.com/fbi-cra-documents/'\n",
    "response = requests.get(url=toc_url,headers=headers)\n",
    "response.encoding = 'utf-8'\n",
    "soup = BeautifulSoup(response.text, features='lxml')\n"
   ]
  },
  {
   "cell_type": "code",
   "execution_count": 14,
   "metadata": {},
   "outputs": [],
   "source": [
    "r = soup.find_all('a',attrs={'class':\"list-group-item\"})\n",
    "url_paths = []\n",
    "titles = []\n",
    "for i in r:\n",
    "    url_paths.append(i['href'])\n",
    "    titles.append(i.h4.text)\n",
    "# should exclude last two\n",
    "num = len(url_paths)-2"
   ]
  },
  {
   "cell_type": "code",
   "execution_count": 15,
   "metadata": {},
   "outputs": [],
   "source": [
    "titles = titles[:-2]\n",
    "base_url = 'https://data.tallahassee.com'\n",
    "urls = []\n",
    "for i in range(num):\n",
    "    urls.append(base_url+url_paths[i])"
   ]
  },
  {
   "cell_type": "code",
   "execution_count": 16,
   "metadata": {},
   "outputs": [
    {
     "data": {
      "text/html": [
       "<div>\n",
       "<style scoped>\n",
       "    .dataframe tbody tr th:only-of-type {\n",
       "        vertical-align: middle;\n",
       "    }\n",
       "\n",
       "    .dataframe tbody tr th {\n",
       "        vertical-align: top;\n",
       "    }\n",
       "\n",
       "    .dataframe thead th {\n",
       "        text-align: right;\n",
       "    }\n",
       "</style>\n",
       "<table border=\"1\" class=\"dataframe\">\n",
       "  <thead>\n",
       "    <tr style=\"text-align: right;\">\n",
       "      <th></th>\n",
       "      <th>titles</th>\n",
       "      <th>urls</th>\n",
       "    </tr>\n",
       "  </thead>\n",
       "  <tbody>\n",
       "    <tr>\n",
       "      <th>0</th>\n",
       "      <td>1: City Commission Minutes</td>\n",
       "      <td>https://data.tallahassee.com/fbi-cra-documents...</td>\n",
       "    </tr>\n",
       "    <tr>\n",
       "      <th>1</th>\n",
       "      <td>2: City Commission Agenda Items</td>\n",
       "      <td>https://data.tallahassee.com/fbi-cra-documents...</td>\n",
       "    </tr>\n",
       "    <tr>\n",
       "      <th>2</th>\n",
       "      <td>3.1: AP Payments Combined</td>\n",
       "      <td>https://data.tallahassee.com/fbi-cra-documents...</td>\n",
       "    </tr>\n",
       "    <tr>\n",
       "      <th>3</th>\n",
       "      <td>3.2: AR Paid COT Invoices</td>\n",
       "      <td>https://data.tallahassee.com/fbi-cra-documents...</td>\n",
       "    </tr>\n",
       "    <tr>\n",
       "      <th>4</th>\n",
       "      <td>3.3: PCard Charges Combined</td>\n",
       "      <td>https://data.tallahassee.com/fbi-cra-documents...</td>\n",
       "    </tr>\n",
       "    <tr>\n",
       "      <th>...</th>\n",
       "      <td>...</td>\n",
       "      <td>...</td>\n",
       "    </tr>\n",
       "    <tr>\n",
       "      <th>144</th>\n",
       "      <td>(To Be Posted) 34.4: Scott Maddox 4 (Redacted ...</td>\n",
       "      <td>https://data.tallahassee.com/fbi-cra-documents...</td>\n",
       "    </tr>\n",
       "    <tr>\n",
       "      <th>145</th>\n",
       "      <td>NEW 34.5: Scott Maddox 5</td>\n",
       "      <td>https://data.tallahassee.com/fbi-cra-documents...</td>\n",
       "    </tr>\n",
       "    <tr>\n",
       "      <th>146</th>\n",
       "      <td>NEW 34.5: Scott Maddox 5 (Redacted Files)</td>\n",
       "      <td>https://data.tallahassee.com/fbi-cra-documents...</td>\n",
       "    </tr>\n",
       "    <tr>\n",
       "      <th>147</th>\n",
       "      <td>NEW 34.6: Scott Maddox 6</td>\n",
       "      <td>https://data.tallahassee.com/fbi-cra-documents...</td>\n",
       "    </tr>\n",
       "    <tr>\n",
       "      <th>148</th>\n",
       "      <td>NEW 34.6: Scott Maddox 6 (Redacted Files)</td>\n",
       "      <td>https://data.tallahassee.com/fbi-cra-documents...</td>\n",
       "    </tr>\n",
       "  </tbody>\n",
       "</table>\n",
       "<p>149 rows × 2 columns</p>\n",
       "</div>"
      ],
      "text/plain": [
       "                                                titles  \\\n",
       "0                           1: City Commission Minutes   \n",
       "1                      2: City Commission Agenda Items   \n",
       "2                            3.1: AP Payments Combined   \n",
       "3                            3.2: AR Paid COT Invoices   \n",
       "4                          3.3: PCard Charges Combined   \n",
       "..                                                 ...   \n",
       "144  (To Be Posted) 34.4: Scott Maddox 4 (Redacted ...   \n",
       "145                           NEW 34.5: Scott Maddox 5   \n",
       "146          NEW 34.5: Scott Maddox 5 (Redacted Files)   \n",
       "147                           NEW 34.6: Scott Maddox 6   \n",
       "148          NEW 34.6: Scott Maddox 6 (Redacted Files)   \n",
       "\n",
       "                                                  urls  \n",
       "0    https://data.tallahassee.com/fbi-cra-documents...  \n",
       "1    https://data.tallahassee.com/fbi-cra-documents...  \n",
       "2    https://data.tallahassee.com/fbi-cra-documents...  \n",
       "3    https://data.tallahassee.com/fbi-cra-documents...  \n",
       "4    https://data.tallahassee.com/fbi-cra-documents...  \n",
       "..                                                 ...  \n",
       "144  https://data.tallahassee.com/fbi-cra-documents...  \n",
       "145  https://data.tallahassee.com/fbi-cra-documents...  \n",
       "146  https://data.tallahassee.com/fbi-cra-documents...  \n",
       "147  https://data.tallahassee.com/fbi-cra-documents...  \n",
       "148  https://data.tallahassee.com/fbi-cra-documents...  \n",
       "\n",
       "[149 rows x 2 columns]"
      ]
     },
     "execution_count": 16,
     "metadata": {},
     "output_type": "execute_result"
    }
   ],
   "source": [
    "df = pd.DataFrame(data=titles, columns=['titles'])\n",
    "df['urls'] = urls\n",
    "df"
   ]
  },
  {
   "cell_type": "code",
   "execution_count": 20,
   "metadata": {
    "scrolled": true
   },
   "outputs": [
    {
     "name": "stderr",
     "output_type": "stream",
     "text": [
      "<ipython-input-20-c0dc18dcca4a>:6: TqdmDeprecationWarning: This function will be removed in tqdm==5.0.0\n",
      "Please use `tqdm.notebook.tqdm` instead of `tqdm.tqdm_notebook`\n",
      "  for url in tqdm_notebook(urls[-1:]):\n"
     ]
    },
    {
     "data": {
      "application/vnd.jupyter.widget-view+json": {
       "model_id": "3fb84225f5e841518b4ddd57c95570bb",
       "version_major": 2,
       "version_minor": 0
      },
      "text/plain": [
       "  0%|          | 0/1 [00:00<?, ?it/s]"
      ]
     },
     "metadata": {},
     "output_type": "display_data"
    },
    {
     "name": "stdout",
     "output_type": "stream",
     "text": [
      "target_line1:  \n"
     ]
    }
   ],
   "source": [
    "re_findjs = re.compile('\\\"(http.*\\.js)\\\"')\n",
    "re_findsource = re.compile('\\\"resources\\\"\\:(\\{.*\\})')\n",
    "re_findkeyvalue = re.compile('\\\"(.*?)\\\"\\:\\\"(.*?)\\\"')\n",
    "\n",
    "meta_dicts = []\n",
    "for url in tqdm_notebook(urls[-1:]):\n",
    "    response = requests.get(url=url,headers=headers,timeout=5)\n",
    "    response.encoding = 'utf-8'\n",
    "    try:\n",
    "        soup1 = BeautifulSoup(response.text, features='lxml')\n",
    "        target_line1 = soup1.find('div', attrs={'class':\"panel-body\"}).script.text\n",
    "        print(\"target_line1: \", target_line1)\n",
    "    except:\n",
    "        print(url+'not working')\n",
    "        continue  \n",
    "    try:\n",
    "        js = re_findjs.findall(target_line1)[0]\n",
    "    except:\n",
    "        continue\n",
    "    response = requests.get(url=js,headers=headers)\n",
    "    response.encoding = 'utf-8'\n",
    "    soup2 = BeautifulSoup(response.text, features='lxml')\n",
    "    target_line2 = soup2.find('p').text\n",
    "    dic = re_findsource.findall(target_line2)[0]\n",
    "    lst = re_findkeyvalue.findall(dic)\n",
    "    meta_dict = {}\n",
    "    for l in lst[:7]:\n",
    "        meta_dict[l[0]] = l[1]\n",
    "    meta_dicts.append(meta_dict)\n",
    "    url = meta_dict['pdf']\n",
    "    response = requests.get(url, allow_redirects=True)\n",
    "    filename = url.split('/')[-1]\n",
    "    with open('./pdf/'+filename, 'wb') as f:\n",
    "        f.write(response.content)\n",
    "    url = meta_dict['text']\n",
    "    response = requests.get(url, allow_redirects=True)\n",
    "    filename = url.split('/')[-1]\n",
    "    with open('./txt/'+filename, 'wb') as f:\n",
    "        f.write(response.content)"
   ]
  },
  {
   "cell_type": "code",
   "execution_count": null,
   "metadata": {},
   "outputs": [],
   "source": []
  },
  {
   "cell_type": "code",
   "execution_count": null,
   "metadata": {},
   "outputs": [],
   "source": []
  }
 ],
 "metadata": {
  "kernelspec": {
   "display_name": "Python 3",
   "language": "python",
   "name": "python3"
  },
  "language_info": {
   "codemirror_mode": {
    "name": "ipython",
    "version": 3
   },
   "file_extension": ".py",
   "mimetype": "text/x-python",
   "name": "python",
   "nbconvert_exporter": "python",
   "pygments_lexer": "ipython3",
   "version": "3.8.8"
  },
  "widgets": {
   "application/vnd.jupyter.widget-state+json": {
    "state": {},
    "version_major": 2,
    "version_minor": 0
   }
  }
 },
 "nbformat": 4,
 "nbformat_minor": 4
}
