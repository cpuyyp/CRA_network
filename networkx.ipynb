{
 "cells": [
  {
   "cell_type": "markdown",
   "metadata": {},
   "source": [
    "JOEY"
   ]
  },
  {
   "cell_type": "code",
   "execution_count": null,
   "metadata": {},
   "outputs": [],
   "source": [
    "import networkx as nx\n",
    "import matplotlib.pyplot as plt\n",
    "import pandas as pd\n",
    "from datetime import datetime\n",
    "import numpy as np\n",
    "import re\n",
    "import pickle"
   ]
  },
  {
   "cell_type": "code",
   "execution_count": null,
   "metadata": {
    "scrolled": true
   },
   "outputs": [],
   "source": [
    "df = pd.read_csv('/Users/joey/Desktop/output4.csv')\n",
    "df['Sent'] = pd.to_datetime(df['Sent'])\n",
    "df = df[df['Sent']>datetime(1900, 1, 1, 0, 0, 0)]\n",
    "df = df.reset_index(drop=True)\n",
    "del df['Unnamed: 0.1']\n",
    "df"
   ]
  },
  {
   "cell_type": "code",
   "execution_count": null,
   "metadata": {},
   "outputs": [],
   "source": [
    "df = df[df['Sent']<datetime(2014, 1, 1, 0, 0, 0)]\n",
    "df = df[df['Sent']>datetime(2013, 1, 1, 0, 0, 0)]\n"
   ]
  },
  {
   "cell_type": "code",
   "execution_count": null,
   "metadata": {},
   "outputs": [],
   "source": [
    "# testing for name correction\n",
    "a = 'Administration-Thomas Harrison <Abc.abc@gmail.com>'\n",
    "b = 'Wiebler, Brian T.'\n",
    "c = 'Brian T. Wiebler'\n",
    "d = 'JT Burnette (jt@inkbridge.com)'\n",
    "e = 'JTBurnette (jt@inkbridge.com)'\n",
    "f = 'Ingram, M\\'Lisa'\n",
    "g = 'Mike V'\n",
    "h = 'LCEM Mail'\n",
    "i = 'Gary Yordon [mailto:gary@govinc.net]'\n",
    "j = 'City Commission Office'\n",
    "k = '(gary@govinc.net)<gary@govinc.net>'\n",
    "l = 'alan1596@aol.com'\n",
    "m = ' april salter'\n",
    "re_name1 = re.compile(r'.*?([A-Z][a-z]+)\\s?[A-Z]?\\.?\\s?([A-Z][a-z]+\\s?[A-Z]?[a-z]+)')\n",
    "re_name2 = re.compile(r'.*?([A-Z][a-z]+),\\s?[A-Z]?\\'?([A-Z][a-z]+)\\s?[A-Z]?\\.?')\n",
    "re_name3 = re.compile(r'.*?([A-Z]+?)\\s?([A-Z]?[a-z]+)\\s?[\\[\\(]?.*\\@.*[\\)\\]]?')\n",
    "re_email = re.compile(r'.*?([a-zA-Z_]*\\.?\\w+@[a-zA-Z_]*\\.?[a-zA-Z_]*\\.?[a-zA-Z]{2,3})')\n",
    "\n",
    "def standardize_name(string): # for now, only keep names\n",
    "    if re_name1.match(string):\n",
    "#         print(1)\n",
    "        return re_name1.findall(string)[0][0]+' '+re_name1.findall(string)[0][1]\n",
    "    elif re_name2.match(string):\n",
    "#         print(2)   \n",
    "        return re_name2.findall(string)[0][1].strip()+' '+re_name2.findall(string)[0][0]\n",
    "    elif re_name3.match(string):\n",
    "#         print(3)\n",
    "        return re_name3.findall(string)[0][0].strip()+' '+re_name3.findall(string)[0][1]\n",
    "    elif re_email.match(string.lower()):\n",
    "#         print(4)\n",
    "#         return re_email.findall(string.lower())[0].strip()\n",
    "        return \n",
    "    else:\n",
    "        return\n",
    "#         return string.strip()\n",
    "standardize_name(k)"
   ]
  },
  {
   "cell_type": "code",
   "execution_count": null,
   "metadata": {},
   "outputs": [],
   "source": [
    "# convert pandas df to dictionary, only keep sender/recipient names and sent time\n",
    "email_dic = {}\n",
    "for idx, dataslice in enumerate(df.itertuples()):\n",
    "    standardized_name = []\n",
    "#   print(dataslice[4])\n",
    "    for person in dataslice[4][2:-2].replace(\"'\",'').strip().split(';'):\n",
    "#         print(person)\n",
    "        standardized_name.append(standardize_name(person))\n",
    "#         print(standardize_name(person))\n",
    "    for person in dataslice[5][2:-2].replace(\"'\",'').strip().split(';'):\n",
    "        if person != '':\n",
    "            standardized_name.append(standardize_name(person))\n",
    "    for name in standardized_name:\n",
    "        if standardize_name(dataslice[2]) not in email_dic:\n",
    "            email_dic[standardize_name(dataslice[2])] = []\n",
    "        if standardize_name(dataslice[2]) != None:\n",
    "            if name!=None:\n",
    "                email_dic[standardize_name(dataslice[2])].append([name,dataslice[3]])\n",
    "with open('email_dic.pickle', 'wb') as handle:\n",
    "    pickle.dump(email_dic, handle, protocol=pickle.HIGHEST_PROTOCOL)"
   ]
  },
  {
   "cell_type": "code",
   "execution_count": null,
   "metadata": {},
   "outputs": [],
   "source": [
    "# the key of the dictionary is sender's name, the value coresponds to the key is the recipient's name and sent time.\n",
    "with open('email_dic.pickle', 'rb') as handle:\n",
    "    email_dic = pickle.load(handle)\n",
    "email_dic_c = email_dic.copy()"
   ]
  },
  {
   "cell_type": "code",
   "execution_count": null,
   "metadata": {},
   "outputs": [],
   "source": [
    "all_names = []\n",
    "for sender in email_dic_c.keys():\n",
    "#     print(sender)\n",
    "    if sender != None:\n",
    "        all_names.append(sender)\n",
    "    for e in email_dic_c[sender]:\n",
    "        recipient = e[0]\n",
    "        if recipient != None:\n",
    "            all_names.append(recipient)\n",
    "\n",
    "\n",
    "for idx in range(len(all_names)):\n",
    "    all_names[idx] = all_names[idx].replace(\"'\",'').strip()\n",
    "    all_names[idx] = standardize_name(all_names[idx])\n",
    "unique_names = list(set(all_names))\n",
    "len(unique_names)"
   ]
  },
  {
   "cell_type": "code",
   "execution_count": null,
   "metadata": {
    "scrolled": true
   },
   "outputs": [],
   "source": [
    "unique_names.remove(None)\n",
    "unique_names.sort()\n",
    "unique_names[-100:]"
   ]
  },
  {
   "cell_type": "code",
   "execution_count": null,
   "metadata": {},
   "outputs": [],
   "source": [
    "# create name to index dictionary and index to name dictionary for later use\n",
    "name_id = {}\n",
    "for idx,name in enumerate(unique_names):\n",
    "    name_id[name] = idx\n",
    "id_name = {}\n",
    "for idx,name in enumerate(unique_names):\n",
    "    id_name[idx] = name"
   ]
  },
  {
   "cell_type": "code",
   "execution_count": null,
   "metadata": {},
   "outputs": [],
   "source": [
    "# create a square matrix to save number of emails sent and received by each person\n",
    "sender_to_recipient = np.zeros((len(unique_names),len(unique_names)))\n",
    "for sender in email_dic_c.keys():\n",
    "    for e in email_dic_c[sender]:\n",
    "        recipient = e[0]\n",
    "        if sender in name_id and recipient in name_id:\n",
    "            sender_to_recipient[name_id[sender],name_id[recipient]] = sender_to_recipient[name_id[sender],name_id[recipient]] +1\n",
    "np.sum(sender_to_recipient)"
   ]
  },
  {
   "cell_type": "code",
   "execution_count": null,
   "metadata": {},
   "outputs": [],
   "source": [
    "# plotting\n",
    "G = nx.Graph()\n",
    "edge_width = []\n",
    "node_weight_sender = np.sum(sender_to_recipient,axis = 1)\n",
    "node_weight_recipient = np.sum(sender_to_recipient,axis = 0)\n",
    "node_weight_total = node_weight_sender + node_weight_recipient \n",
    " \n",
    "# node_weight is the size of node \n",
    "# the node weight has to be in a specific order(in the order of time when the node first added to the graph), \n",
    "# cannot just use node_weight_total\n",
    "node_weight = [] \n",
    "for i in range(sender_to_recipient.shape[0]):\n",
    "    for j in range(i,sender_to_recipient.shape[0]):\n",
    "        # if there is more than 1 email between these 2 people, add node if haven't add. Add edge.\n",
    "        if sender_to_recipient[i,j] + sender_to_recipient[j,i] > 1:\n",
    "            if id_name[i] not in G.nodes():\n",
    "                G.add_node(id_name[i])\n",
    "                node_weight.append(node_weight_total[i])\n",
    "            if id_name[j] not in G.nodes():\n",
    "                    G.add_node(id_name[j])\n",
    "                    node_weight.append(node_weight_total[j])\n",
    "            G.add_edge(id_name[i], id_name[j],weight= 20/(sender_to_recipient[i,j] + sender_to_recipient[j,i] + 0.5*(node_weight_total[i]+ node_weight_total[j])))\n",
    "            edge_width.append(sender_to_recipient[i,j] + sender_to_recipient[j,i])\n",
    "print('done adding edges and nodes')\n",
    "\n",
    "# find who should be labeled\n",
    "node_have_label = {}\n",
    "for i in range(sender_to_recipient.shape[0]):\n",
    "    if node_weight_total[i]>250 and id_name[i] in G.nodes():\n",
    "        node_have_label[id_name[i]] = id_name[i]\n",
    "\n",
    "# edge_width is actrually edge strength. Bigger strength will lead to shorter distance\n",
    "# edge_width = np.sqrt(np.array(edge_width))\n",
    "edge_width = 0.2*(np.array(edge_width))\n",
    "print('done adding labels')\n",
    "\n",
    "plt.figure(figsize=(40,40))\n",
    "# calculating node positions\n",
    "pos = nx.spring_layout(G,iterations=30)\n",
    "print('done calculating position')\n",
    "\n",
    "nx.draw_networkx_nodes(G, pos, node_size= node_weight,node_color = 'black')\n",
    "nx.draw_networkx_edges(G, pos, width= edge_width, edge_color = 'grey')\n",
    "nx.draw_networkx_labels(G, pos, labels= node_have_label, font_size=24, font_color = 'red', font_family='sans-serif')\n",
    "\n",
    "plt.axis('off')\n",
    "plt.show()"
   ]
  },
  {
   "cell_type": "code",
   "execution_count": null,
   "metadata": {},
   "outputs": [],
   "source": [
    "# test\n",
    "edge_width.max()"
   ]
  },
  {
   "cell_type": "code",
   "execution_count": null,
   "metadata": {
    "scrolled": true
   },
   "outputs": [],
   "source": [
    "# test\n",
    "G = nx.Graph()\n",
    "\n",
    "G.add_edge('d','a',weight = 0.1)\n",
    "G.add_edge('d','b',weight = 100)\n",
    "G.add_edge('c','a',weight = 0.1)\n",
    "\n",
    "pos = nx.spring_layout(G)\n",
    "\n",
    "nx.draw_networkx_nodes(G, pos,node_color = 'black')\n",
    "nx.draw_networkx_edges(G, pos, width=1, edge_color = 'grey')\n",
    "nx.draw_networkx_labels(G, pos, labels={'a':'a','d':'d'}, font_size=30, font_color='blue',font_family='sans-serif')"
   ]
  },
  {
   "cell_type": "code",
   "execution_count": null,
   "metadata": {},
   "outputs": [],
   "source": []
  },
  {
   "cell_type": "code",
   "execution_count": null,
   "metadata": {},
   "outputs": [],
   "source": []
  },
  {
   "cell_type": "markdown",
   "metadata": {},
   "source": [
    "# old codes"
   ]
  },
  {
   "cell_type": "code",
   "execution_count": null,
   "metadata": {
    "scrolled": false
   },
   "outputs": [],
   "source": [
    "# # for i in range(5):\n",
    "# i = 1\n",
    "# df_for_plot2 = df_for_plot[df_for_plot['Sent']<datetime(2013+i, 1, 1, 0, 0, 0)]\n",
    "# df_for_plot3 = df_for_plot2[df_for_plot2['Sent']>datetime(2012+i, 1, 1, 0, 0, 0)]\n",
    "\n",
    "# G = nx.from_pandas_edgelist(df_for_plot3, 'From','To')\n",
    "# count = df_for_plot3['From'].append(df_for_plot3['To']).value_counts()\n",
    "# nodesizes = np.zeros(len(list(G.nodes)))\n",
    "# for i in range(len(list(G.nodes))):\n",
    "#     if list(G.nodes)[i] == None:\n",
    "#         nodesizes[i] = 0\n",
    "#     else:\n",
    "#         nodesizes[i] = count[count.index == list(G.nodes)[i]][0]\n",
    "# index = nodesizes.argsort()[-10:][::-1]\n",
    "# Top10 = [list(G.nodes)[i] for i in index]\n",
    "# Top10_val = [nodesizes[i] for i in index]\n",
    "# print(list(zip(Top10, Top10_val)))\n",
    "\n",
    "# plt.figure(figsize = (40,30))\n",
    "# pos = nx.spring_layout(G, k = 0.1, iterations = 30)\n",
    "# nx.draw_networkx(G, pos, node_size = nodesizes, node_color = 'black', with_labels = True, edge_color='grey')\n",
    "# plt.axis('off')\n",
    "# plt.show()"
   ]
  },
  {
   "cell_type": "code",
   "execution_count": null,
   "metadata": {},
   "outputs": [],
   "source": [
    "# l1 = list(G.nodes())\n",
    "# l2 = big_names\n",
    "# l3 = [x for x in l1 if x not in l2]\n",
    "# G.remove_nodes_from(l3)"
   ]
  },
  {
   "cell_type": "code",
   "execution_count": null,
   "metadata": {
    "scrolled": false
   },
   "outputs": [],
   "source": [
    "# count = df_for_plot3['From'].append(df_for_plot3['To']).value_counts()\n",
    "# nodesizes = np.zeros(len(list(G.nodes)))\n",
    "# for i in range(len(list(G.nodes))):\n",
    "#     if list(G.nodes)[i] == None:\n",
    "#         nodesizes[i] = 0\n",
    "#     else:\n",
    "#         nodesizes[i] = count[count.index == list(G.nodes)[i]][0]\n",
    "# index = nodesizes.argsort()[-10:][::-1]\n",
    "# Top10 = [list(G.nodes)[i] for i in index]\n",
    "# Top10_val = [nodesizes[i] for i in index]\n",
    "# print(list(zip(Top10, Top10_val)))\n",
    "\n",
    "# plt.figure(figsize = (40,30))\n",
    "# pos = nx.spring_layout(G, k = 0.1, iterations = 10)\n",
    "# nx.draw_networkx(G, pos, node_size = nodesizes, node_color = 'black', with_labels = True, edge_color='grey')\n",
    "# plt.axis('off')\n",
    "# plt.savefig('nx_200.png')\n",
    "# plt.show()"
   ]
  }
 ],
 "metadata": {
  "kernelspec": {
   "display_name": "Python 3",
   "language": "python",
   "name": "python3"
  },
  "language_info": {
   "codemirror_mode": {
    "name": "ipython",
    "version": 3
   },
   "file_extension": ".py",
   "mimetype": "text/x-python",
   "name": "python",
   "nbconvert_exporter": "python",
   "pygments_lexer": "ipython3",
   "version": "3.7.0"
  }
 },
 "nbformat": 4,
 "nbformat_minor": 2
}
