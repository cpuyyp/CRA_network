{
 "cells": [
  {
   "cell_type": "markdown",
   "id": "3f92ae88-9af9-473e-8d88-362aa9244079",
   "metadata": {},
   "source": [
    "* Author: Gordon Erlebacher\n",
    "* Date: 2022-03-03\n",
    "* Purpose: convert Sent field to either date (nb seconds from a fixed time) or an empty field."
   ]
  },
  {
   "cell_type": "code",
   "execution_count": null,
   "id": "082bdd43-ca7c-4b64-8fcf-0d85a1f11da0",
   "metadata": {},
   "outputs": [],
   "source": [
    "%load_ext autoreload\n",
    "%autoreload 2"
   ]
  },
  {
   "cell_type": "code",
   "execution_count": null,
   "id": "95da426c-2d92-4071-beda-c28fe21400c2",
   "metadata": {},
   "outputs": [],
   "source": [
    "import pandas as pd\n",
    "import date_library as datelib"
   ]
  },
  {
   "cell_type": "code",
   "execution_count": null,
   "id": "6078c0b2-075d-4193-9016-31dde607d5cc",
   "metadata": {},
   "outputs": [],
   "source": [
    "filenm = \"output_with_stats_columns.csv.gz\"\n",
    "filenm = \"output_0211.csv\"\n",
    "df = pd.read_csv(filenm)"
   ]
  },
  {
   "cell_type": "code",
   "execution_count": null,
   "id": "fdb4c5b5-41c8-4b07-a23e-90bd172af1bc",
   "metadata": {},
   "outputs": [],
   "source": [
    "date = datelib.DateClass()\n",
    "sent_lst = df['Sent'].values\n",
    "date.normalize_dates(sent_lst)"
   ]
  },
  {
   "cell_type": "code",
   "execution_count": null,
   "id": "20ce953a-52e7-450b-a635-94140e66aa15",
   "metadata": {
    "tags": []
   },
   "outputs": [],
   "source": [
    "date.create_dates_file(output_file=\"dates2.csv\")"
   ]
  },
  {
   "cell_type": "code",
   "execution_count": null,
   "id": "636b9662-aaf7-4ac5-93c9-d4e3d338189b",
   "metadata": {},
   "outputs": [],
   "source": [
    "date.update_output_file(df, \"output_03112022_dates.csv\")"
   ]
  },
  {
   "cell_type": "code",
   "execution_count": null,
   "id": "f37e5a6a-0179-4dcd-8ef7-5d2d15a2c39c",
   "metadata": {},
   "outputs": [],
   "source": [
    "df.columns"
   ]
  }
 ],
 "metadata": {
  "kernelspec": {
   "display_name": "Python 3",
   "language": "python",
   "name": "python3"
  },
  "language_info": {
   "codemirror_mode": {
    "name": "ipython",
    "version": 3
   },
   "file_extension": ".py",
   "mimetype": "text/x-python",
   "name": "python",
   "nbconvert_exporter": "python",
   "pygments_lexer": "ipython3",
   "version": "3.8.8"
  },
  "widgets": {
   "application/vnd.jupyter.widget-state+json": {
    "state": {},
    "version_major": 2,
    "version_minor": 0
   }
  }
 },
 "nbformat": 4,
 "nbformat_minor": 5
}
