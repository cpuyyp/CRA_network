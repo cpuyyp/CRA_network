{
 "cells": [
  {
   "cell_type": "markdown",
   "id": "3f92ae88-9af9-473e-8d88-362aa9244079",
   "metadata": {},
   "source": [
    "* Author: Gordon Erlebacher\n",
    "* Date: 2022-03-03\n",
    "* Purpose: convert Sent field to either date (nb seconds from a fixed time) or an empty field."
   ]
  },
  {
   "cell_type": "code",
   "execution_count": 2,
   "id": "95da426c-2d92-4071-beda-c28fe21400c2",
   "metadata": {},
   "outputs": [],
   "source": [
    "import pandas as pd\n",
    "import numpy as np\n",
    "import regex as rex\n",
    "from datetime import datetime\n",
    "from dateutil import parser\n",
    "from dateutil.tz import gettz\n",
    "from unidecode import unidecode\n",
    "import pytz\n",
    "import date_library as datelib"
   ]
  },
  {
   "cell_type": "code",
   "execution_count": 3,
   "id": "a0078746-c660-45fd-9f37-5d00542b1d13",
   "metadata": {
    "tags": []
   },
   "outputs": [
    {
     "data": {
      "text/plain": [
       "datetime.datetime(2003, 10, 11, 17, 13, 46, tzinfo=tzutc())"
      ]
     },
     "execution_count": 3,
     "metadata": {},
     "output_type": "execute_result"
    }
   ],
   "source": [
    "parser.parse(\"Sat Oct 11 17:13:46 UTC 2003\")"
   ]
  },
  {
   "cell_type": "code",
   "execution_count": 5,
   "id": "6078c0b2-075d-4193-9016-31dde607d5cc",
   "metadata": {},
   "outputs": [],
   "source": [
    "filenm = \"output_with_stats_columns.csv.gz\"\n",
    "filenm = \"output_0211.csv\"\n",
    "df = pd.read_csv(filenm)"
   ]
  },
  {
   "cell_type": "code",
   "execution_count": 6,
   "id": "fe11cc84-9594-4e39-a647-462b096901a9",
   "metadata": {},
   "outputs": [],
   "source": [
    "\n",
    "# Standard time :  UTC-5.0 \n",
    "# Daylight time :  UTC-4.0\n",
    "\n",
    "tzinfo = {\n",
    "          \"EDT\": pytz.timezone('US/Eastern'),\n",
    "          \"CDT\": pytz.timezone('US/Central'),\n",
    "          \"MDT\": pytz.timezone('US/Mountain'),\n",
    "          \"PDT\": pytz.timezone('US/Pacific'), \n",
    "          \"HDT\": pytz.timezone('US/Hawaii'), \n",
    "          \"GMT\": pytz.timezone('UTC'),\n",
    "    \n",
    "          # We will convert all times to UTC, then to seconds since 1970\n",
    "          # Then we will add/subtrace one hour (3600 sec) if time is in \n",
    "          # Savings Time (as opposed to Daylight Time)\n",
    "          \"EST\": pytz.timezone('US/Eastern'),\n",
    "          \"CST\": pytz.timezone('US/Central'),\n",
    "          \"MST\": pytz.timezone('US/Mountain'),\n",
    "          \"PST\": pytz.timezone('US/Pacific'), \n",
    "          \"HST\": pytz.timezone('US/Hawaii'),  \n",
    "         }\n",
    "\n",
    "# For example: when Eastern Daylight Time is used, the international meetings are held \n",
    "# between 10 am to 6 pm whereas for Eastern Standard Time the same meeting and conference \n",
    "# are held between 9 am to 5 pm.  So, 10 am EDT  <=====> 9 am EST\n",
    "\n",
    "def normalize(name1, exceptions, date_dict, time_zone):\n",
    "    # try: \n",
    "    # flag = False\n",
    "    \n",
    "    try:\n",
    "        if type(name1) != str:\n",
    "            date_dict.append((name1, '', ''))\n",
    "            time_zone.append('')\n",
    "            return\n",
    "\n",
    "        if rex.match(r'.*GMT', name1):   # missing some matches. WHY?\n",
    "            # print(type(name), name)//\n",
    "            if rex.match(r'.*2\\/16\\/17 ', name1): flag = True\n",
    "            name = rex.sub(r'\\(GMT-05:00\\)', ' EST ', name1)\n",
    "            name = rex.sub(r'\\(GMT-04:00\\)', ' EDT ', name)\n",
    "            name = rex.sub(r'(\\d+?\\/\\d+?)\\/(\\d\\d )', r'\\1/20\\2', name)  # will fail in the year 21xx <<<< NOT WORKING\n",
    "        else:\n",
    "            name = name1\n",
    "\n",
    "        # Missing 4-digit year\n",
    "        if not rex.match(r'.*\\d{4}', name):\n",
    "            date_dict.append((name1, '', ''))\n",
    "            time_zone.append('')\n",
    "            return\n",
    "\n",
    "        name = rex.sub(r'(Febnlaiy|Febnlaly|Febiuaiy|Feb1ua1y|Februa ry)', 'February', name)\n",
    "        name = rex.sub(r'(Janualy|J anuary)', 'January', name)\n",
    "        name = rex.sub(r\"(\\'iuesday)\", 'Tuesday', name) \n",
    "        name = rex.sub(r'Septem ber', 'September', name)\n",
    "\n",
    "        name = rex.sub(r',(\\d{4})', r', \\1', name)\n",
    "        name = rex.sub(r'(\\d{4})(\\d\\d:)', r'\\1 \\2', name)\n",
    "        name = rex.sub(r'(\\d{4} \\d) :', r'\\1:', name) \n",
    "        name = rex.sub(r'(\\d?:\\d?:) (\\d?)', r'\\1\\2', name)\n",
    "        name = rex.sub(r'(\\d{4} \\d+:) (\\d)', r'\\1\\2', name)  # CHECK ORIGINAL TEXT. Why does this error occur?\n",
    "\n",
    "        name = rex.sub(r'(\\w+ \\d+):( \\d{4})', r'\\1, \\2', name)\n",
    "        name = rex.sub(r'\\>', ':', name)\n",
    "        name = rex.sub(r'\\?', '', name)\n",
    "\n",
    "        tz = 'EST'\n",
    "        if rex.match('.*Eastern Daylight Time', name):\n",
    "            name = rex.sub('Eastern Daylight Time', 'EDT', name)  # difference between Daylight and Standard\n",
    "            tz = 'EDT'\n",
    "        elif rex.match('.*Eastern Standard Time', name):\n",
    "            name = rex.sub('Eastern Standard Time', 'EST', name)\n",
    "            tz = 'EST'\n",
    "        elif rex.match('.*PST', name):\n",
    "            tz = 'PST'\n",
    "        elif rex.match('.*PDT', name):   # Pacific\n",
    "            tz = 'PDT'\n",
    "        elif rex.match('.*HST', name):   # Hawaii\n",
    "            tz = 'HST'\n",
    "        elif rex.match('.*MDT', name):   # Mountain\n",
    "            tz = 'MDT'\n",
    "        elif rex.match('.*CDT', name):   # Central\n",
    "            tz = 'CDT'\n",
    "        elif rex.match('.*CST', name):   # Central\n",
    "            tz = 'CST'\n",
    "        elif rex.match('.*GMT', name):\n",
    "            tz = 'GMT'\n",
    "        else:\n",
    "            tz = 'EDT'  # default if nothing else\n",
    "\n",
    "        date_name = parser.parse(name, fuzzy=True, dayfirst=False, tzinfos=tzinfo)\n",
    "\n",
    "        # t is now a PDT datetime; convert it to UTC\n",
    "        date_name = date_name.astimezone(pytz.utc)\n",
    "        date_dict.append((name1, name, date_name))\n",
    "        time_zone.append(tz)\n",
    "    except:\n",
    "        try:\n",
    "            date_name = parser.parse(name, fuzzy=True, dayfirst=False, tzinfos=tzinfo)\n",
    "            date_name = name.astimezone(pytz.utc)\n",
    "            date_dict.append((name1, name, date_name))\n",
    "            time_zone.append(tz)\n",
    "        except:\n",
    "            # Ignore any line with more than 50 characters\n",
    "            # Ignore any line with the word \"the\"\n",
    "            # Ignore any line with two dates\n",
    "            if rex.match(r'\\A.*the.*\\Z', name): \n",
    "                date_dict.append((name1, '', ''))\n",
    "                time_zone.append('')\n",
    "                return\n",
    "            # Ignore line if the year appears twice\n",
    "            if rex.match('\\A.*(\\d{4}).*(\\d{4})', name): \n",
    "                date_dict.append((name1, '', ''))\n",
    "                time_zone.append('')\n",
    "                return\n",
    "            # Ignore line if there is no number\n",
    "            if not rex.match('.*\\d', name): \n",
    "                date_dict.append((name1, '', ''))\n",
    "                time_zone.append('')\n",
    "                return\n",
    "            if len(name) > 40:\n",
    "                date_dict.append((name1, '', ''))\n",
    "                time_zone.append('')\n",
    "                return\n",
    "            # if there is year in the string\n",
    "            if not rex.match(r'.*\\d{4}', name):\n",
    "                date_dict.append((name1, '', ''))\n",
    "                time_zone.append('')\n",
    "                return\n",
    "            exceptions.append(name)\n",
    "            date_dict.append((name1, '', ''))\n",
    "            time_zone.append('')\n",
    "                \n",
    "# Print the date in normalized form so I can spot check. \n",
    "# Then save them to a file. \n",
    "# On any date that is not valid, make it empty, tag the row and remove it from the output.csv file. "
   ]
  },
  {
   "cell_type": "code",
   "execution_count": 7,
   "id": "828b3593-f12a-480f-bd0a-5ce79dd51491",
   "metadata": {},
   "outputs": [
    {
     "data": {
      "text/plain": [
       "{'EDT': <DstTzInfo 'US/Eastern' LMT-1 day, 19:04:00 STD>,\n",
       " 'CDT': <DstTzInfo 'US/Central' LMT-1 day, 18:09:00 STD>,\n",
       " 'MDT': <DstTzInfo 'US/Mountain' LMT-1 day, 17:00:00 STD>,\n",
       " 'PDT': <DstTzInfo 'US/Pacific' LMT-1 day, 16:07:00 STD>,\n",
       " 'HDT': <DstTzInfo 'US/Hawaii' LMT-1 day, 13:29:00 STD>,\n",
       " 'GMT': <UTC>,\n",
       " 'EST': <DstTzInfo 'US/Eastern' LMT-1 day, 19:04:00 STD>,\n",
       " 'CST': <DstTzInfo 'US/Central' LMT-1 day, 18:09:00 STD>,\n",
       " 'MST': <DstTzInfo 'US/Mountain' LMT-1 day, 17:00:00 STD>,\n",
       " 'PST': <DstTzInfo 'US/Pacific' LMT-1 day, 16:07:00 STD>,\n",
       " 'HST': <DstTzInfo 'US/Hawaii' LMT-1 day, 13:29:00 STD>}"
      ]
     },
     "execution_count": 7,
     "metadata": {},
     "output_type": "execute_result"
    }
   ],
   "source": [
    "tzinfo"
   ]
  },
  {
   "cell_type": "code",
   "execution_count": 8,
   "id": "6d047801-3340-4471-bae1-c5ab30284690",
   "metadata": {},
   "outputs": [
    {
     "data": {
      "text/plain": [
       "71143"
      ]
     },
     "execution_count": 8,
     "metadata": {},
     "output_type": "execute_result"
    }
   ],
   "source": [
    "sent_lst = df['Sent'].values\n",
    "len(sent_lst)"
   ]
  },
  {
   "cell_type": "code",
   "execution_count": 9,
   "id": "25977a54-db46-41ed-ac26-546586e7ee34",
   "metadata": {},
   "outputs": [
    {
     "data": {
      "text/plain": [
       "<regex.Match object; span=(0, 8), match='2/16/17 '>"
      ]
     },
     "execution_count": 9,
     "metadata": {},
     "output_type": "execute_result"
    }
   ],
   "source": [
    "name = '2/16/17 3:25 PM (GMT-05:00)'\n",
    "name = rex.sub(r'(\\d?\\/\\d)\\/(\\d\\d )', r'\\1/20\\2', name)\n",
    "rex.match(r'(\\d+?\\/\\d+?)\\/(\\d\\d )', name)"
   ]
  },
  {
   "cell_type": "code",
   "execution_count": 10,
   "id": "59223a6a-551c-4d12-ba64-097fc21b409e",
   "metadata": {
    "tags": []
   },
   "outputs": [
    {
     "name": "stderr",
     "output_type": "stream",
     "text": [
      "/Users/erlebach/opt/anaconda3/lib/python3.8/site-packages/dateutil/parser/_parser.py:1213: UnknownTimezoneWarning: tzname US identified but not understood.  Pass `tzinfos` argument in order to correctly return a timezone-aware datetime.  In a future version, this will raise an exception.\n",
      "  warnings.warn(\"tzname {tzname} identified but not understood.  \"\n",
      "/Users/erlebach/opt/anaconda3/lib/python3.8/site-packages/dateutil/parser/_parser.py:1213: UnknownTimezoneWarning: tzname PMEDT identified but not understood.  Pass `tzinfos` argument in order to correctly return a timezone-aware datetime.  In a future version, this will raise an exception.\n",
      "  warnings.warn(\"tzname {tzname} identified but not understood.  \"\n",
      "/Users/erlebach/opt/anaconda3/lib/python3.8/site-packages/dateutil/parser/_parser.py:1213: UnknownTimezoneWarning: tzname OS identified but not understood.  Pass `tzinfos` argument in order to correctly return a timezone-aware datetime.  In a future version, this will raise an exception.\n",
      "  warnings.warn(\"tzname {tzname} identified but not understood.  \"\n"
     ]
    },
    {
     "data": {
      "text/plain": [
       "(1, 71143, (71143, 15))"
      ]
     },
     "execution_count": 10,
     "metadata": {},
     "output_type": "execute_result"
    }
   ],
   "source": [
    "exceptions = []\n",
    "date_dict = []\n",
    "time_zone = []\n",
    "for sent in sent_lst:\n",
    "    normalize(sent, exceptions, date_dict, time_zone)\n",
    "    \n",
    "len(exceptions), len(sent_lst), df.shape"
   ]
  },
  {
   "cell_type": "code",
   "execution_count": 11,
   "id": "a8dcba8a-00c8-45b7-92ac-fab542bd4e61",
   "metadata": {},
   "outputs": [
    {
     "data": {
      "text/plain": [
       "[' September 25, 2014 at 12:42: 22 PM EDT']"
      ]
     },
     "execution_count": 11,
     "metadata": {},
     "output_type": "execute_result"
    }
   ],
   "source": [
    "exceptions"
   ]
  },
  {
   "cell_type": "markdown",
   "id": "1693f145-5f9d-4ad5-be29-6b4b4ad09cf5",
   "metadata": {},
   "source": [
    "* 'Friday, May 13, 201611:18 AM': datetime.datetime(2022, 5, 13, 18, 16, 11),\n",
    "* "
   ]
  },
  {
   "cell_type": "code",
   "execution_count": 12,
   "id": "8c84ef21-16cb-45b5-b001-aea0591e7e54",
   "metadata": {
    "tags": []
   },
   "outputs": [
    {
     "name": "stdout",
     "output_type": "stream",
     "text": [
      "71143 71143 (71143, 15)\n"
     ]
    }
   ],
   "source": [
    "dates_orig = []\n",
    "dates_new = []\n",
    "dates_date = []\n",
    "date_adj = []\n",
    "timestamp = []\n",
    "for i, (tz_el, el) in enumerate(zip(time_zone, date_dict)):\n",
    "    dates_orig.append(el[0])\n",
    "    dates_new.append(el[1])\n",
    "    dates_date.append(el[2])\n",
    "    try:\n",
    "        # subtract 5 hours to convert back to Tallahassee time\n",
    " \n",
    "        if False:  # take daylight savings properly into account\n",
    "            if tz_el[1] == 'S':  # adjust time if Savings\n",
    "                timestp -= 3600\n",
    "        else:  \n",
    "            timestp = el[2].timestamp() - 5 * 3600 \n",
    "            \n",
    "        timestamp.append(timestp)\n",
    "        # Transform time from timestamp back to UTC\n",
    "        dtime = datelib.timestampToDateTimeUTC(timestp)\n",
    "        date_adj.append(dtime)\n",
    "    except:\n",
    "        timestamp.append(-1)\n",
    "        date_adj.append(('',''))\n",
    "    \n",
    "df1 = pd.DataFrame({'orig':dates_orig, 'new':dates_new, 'date':dates_date, 'TZ': time_zone, 'date_adj': date_adj, 'timestamp': timestamp})\n",
    "print(len(date_dict), len(dates_orig), df.shape)\n",
    "\n",
    "df1.to_csv(\"dates.csv\", index=0)"
   ]
  },
  {
   "cell_type": "code",
   "execution_count": 13,
   "id": "9efa063a-7ab1-45d7-9c8e-13bb42387cc6",
   "metadata": {},
   "outputs": [
    {
     "data": {
      "text/plain": [
       "((71143, 15), (71143, 6))"
      ]
     },
     "execution_count": 13,
     "metadata": {},
     "output_type": "execute_result"
    }
   ],
   "source": [
    "df.shape, df1.shape"
   ]
  },
  {
   "cell_type": "code",
   "execution_count": 14,
   "id": "210bf6f7-94cc-48c2-aafd-623ed40e012e",
   "metadata": {},
   "outputs": [],
   "source": [
    "# Add new columns: new date and time, and number of seconds since 1970\n",
    "# timestamp: seconds since 1970\n",
    "# dates_orig: original send column\n",
    "# date_adj[0]: adjusted date\n",
    "# date_adj[1]: adjusted time\n",
    "adj_date = []\n",
    "adj_time = []\n",
    "for dat_tim in date_adj:\n",
    "    adj_date.append(dat_tim[0])\n",
    "    adj_time.append(dat_tim[1])\n",
    "    \n",
    "df['timestamp'] = timestamp\n",
    "df['date_sent'] = adj_date\n",
    "df['time_sent'] = adj_time\n",
    "df.columns\n",
    "\n",
    "outfile = \"output_stats_timestamps.csv.gz\"\n",
    "outfile = \"output_03112022.csv\"\n",
    "df.to_csv(outfile, index=0)"
   ]
  },
  {
   "cell_type": "code",
   "execution_count": 590,
   "id": "f37e5a6a-0179-4dcd-8ef7-5d2d15a2c39c",
   "metadata": {},
   "outputs": [
    {
     "data": {
      "text/plain": [
       "Index(['filenm', 'From', 'Sent', 'To', 'CC', 'Bcc', 'Subject', 'Attachments',\n",
       "       'Importance', 'isThread', 'isAutoMessage', 'isDisplacement',\n",
       "       'hasAllCapLine', 'hasBadDate', 'Body', 'nb_words', 'nb_chars',\n",
       "       'body_len', 'body', 'Error_from', 'Error_sent', 'mn_nb_words',\n",
       "       'std_nb_words', 'mn_nb_chars', 'std_nb_chars', 'count', 'email_count',\n",
       "       'timestamp', 'date_sent', 'time_sent'],\n",
       "      dtype='object')"
      ]
     },
     "execution_count": 590,
     "metadata": {},
     "output_type": "execute_result"
    }
   ],
   "source": [
    "timestamp;\n",
    "df.columns"
   ]
  }
 ],
 "metadata": {
  "kernelspec": {
   "display_name": "Python 3",
   "language": "python",
   "name": "python3"
  },
  "language_info": {
   "codemirror_mode": {
    "name": "ipython",
    "version": 3
   },
   "file_extension": ".py",
   "mimetype": "text/x-python",
   "name": "python",
   "nbconvert_exporter": "python",
   "pygments_lexer": "ipython3",
   "version": "3.8.8"
  },
  "widgets": {
   "application/vnd.jupyter.widget-state+json": {
    "state": {},
    "version_major": 2,
    "version_minor": 0
   }
  }
 },
 "nbformat": 4,
 "nbformat_minor": 5
}
