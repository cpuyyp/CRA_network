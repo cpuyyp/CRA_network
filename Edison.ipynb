{
 "cells": [
  {
   "cell_type": "code",
   "execution_count": 2,
   "metadata": {},
   "outputs": [
    {
     "name": "stderr",
     "output_type": "stream",
     "text": [
      "DEBUG:matplotlib.backends:backend module://ipykernel.pylab.backend_inline version unknown\n"
     ]
    }
   ],
   "source": [
    "import matplotlib.pyplot as plt\n",
    "import pandas as pd\n",
    "from datetime import datetime\n",
    "import numpy as np\n",
    "import re\n",
    "import pickle\n",
    "from function_library import *\n",
    "from function_library2 import *"
   ]
  },
  {
   "cell_type": "code",
   "execution_count": 8,
   "metadata": {},
   "outputs": [],
   "source": [
    "l_from = fromPickle(\"from_list\")\n",
    "l_to   = fromPickle(\"to_list\")\n",
    "l_cc   = fromPickle(\"cc_list\")"
   ]
  },
  {
   "cell_type": "code",
   "execution_count": 5,
   "metadata": {},
   "outputs": [],
   "source": [
    "edison = 'edison'\n",
    "df = pd.read_csv('output4.csv')\n",
    "df['Sent'] = pd.to_datetime(df['Sent'])\n",
    "df = df[df['Sent'] > datetime( 2012, 1, 1, 0, 0, 0)]\n",
    "body = df['Body'].values\n",
    "subject = df['Subject'].values"
   ]
  },
  {
   "cell_type": "code",
   "execution_count": 6,
   "metadata": {},
   "outputs": [],
   "source": [
    "idx_list = []\n",
    "for idx in range(len(body)):\n",
    "    if edison in body[idx].lower() or edison in subject[idx].lower():\n",
    "        idx_list.append(idx)"
   ]
  },
  {
   "cell_type": "code",
   "execution_count": 10,
   "metadata": {},
   "outputs": [],
   "source": [
    "from_list = standardize_triplet(np.array(l_from)[idx_list].tolist())\n",
    "name_list = set(from_list)\n",
    "to_list = standardize_triplet(np.array(l_to)[idx_list].tolist())\n",
    "for names in to_list:\n",
    "    name_list |= set(names)\n",
    "    \n",
    "cc_list = standardize_triplet(np.array(l_cc)[idx_list].tolist())\n",
    "for names in cc_list:\n",
    "    name_list |= set(names)\n",
    "\n",
    "name_list = list(name_list)\n",
    "name_list.sort()"
   ]
  },
  {
   "cell_type": "code",
   "execution_count": 11,
   "metadata": {},
   "outputs": [],
   "source": [
    "with open('edison_people_list.txt', 'w') as filehandle:\n",
    "    for person in name_list[1:]:\n",
    "        filehandle.write('{} {}: {}\\n'.format(person[0], person[1], person[2]))"
   ]
  },
  {
   "cell_type": "code",
   "execution_count": null,
   "metadata": {},
   "outputs": [],
   "source": []
  }
 ],
 "metadata": {
  "kernelspec": {
   "display_name": "Python 3",
   "language": "python",
   "name": "python3"
  },
  "language_info": {
   "codemirror_mode": {
    "name": "ipython",
    "version": 3
   },
   "file_extension": ".py",
   "mimetype": "text/x-python",
   "name": "python",
   "nbconvert_exporter": "python",
   "pygments_lexer": "ipython3",
   "version": "3.6.7"
  }
 },
 "nbformat": 4,
 "nbformat_minor": 2
}
