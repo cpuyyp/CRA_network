{
 "cells": [
  {
   "cell_type": "markdown",
   "id": "08a0d5cd-b231-4ba2-bbfd-7a61fb61b458",
   "metadata": {},
   "source": [
    "# Clean up output file\n",
    "* Invalid emails: \n",
    "    * From element\n",
    "    * No Sent time\n",
    "* Remove items from CC: field\n",
    "* Remove items from To: field (if there is no email and no name)"
   ]
  },
  {
   "cell_type": "code",
   "execution_count": 1,
   "id": "68a52a62-9728-4aa1-b9e1-a365982a7c64",
   "metadata": {},
   "outputs": [],
   "source": [
    "%load_ext autoreload\n",
    "%autoreload 2"
   ]
  },
  {
   "cell_type": "code",
   "execution_count": 2,
   "id": "5054ecb0-02f2-4f10-9239-33e75dad4aac",
   "metadata": {},
   "outputs": [],
   "source": [
    "# import pandas as pd\n",
    "import numpy as np\n",
    "import regex as rex\n",
    "import pandas as pd\n",
    "from datetime import datetime\n",
    "from dateutil import parser\n",
    "from dateutil.tz import gettz\n",
    "from unidecode import unidecode\n",
    "import process_to_library as tolib\n",
    "import standardize_library as standlib"
   ]
  },
  {
   "cell_type": "code",
   "execution_count": 76,
   "id": "f36180d7-650c-4470-9192-6da79accba56",
   "metadata": {},
   "outputs": [],
   "source": [
    "df = pd.read_csv(\"output_attr_stats.csv.gz\")"
   ]
  },
  {
   "cell_type": "code",
   "execution_count": 85,
   "id": "b324b133-ddae-4933-a75b-a19ef9cbc449",
   "metadata": {},
   "outputs": [
    {
     "data": {
      "text/plain": [
       "(35942, 28)"
      ]
     },
     "execution_count": 85,
     "metadata": {},
     "output_type": "execute_result"
    }
   ],
   "source": [
    "df.shape"
   ]
  },
  {
   "cell_type": "code",
   "execution_count": 86,
   "id": "3726973a-1038-4fa4-8b60-ca2b777b90da",
   "metadata": {
    "tags": []
   },
   "outputs": [
    {
     "data": {
      "text/plain": [
       "(35357, 28)"
      ]
     },
     "execution_count": 86,
     "metadata": {},
     "output_type": "execute_result"
    }
   ],
   "source": [
    "# Remove all rows with negative timestamps\n",
    "df1 = df[df['timestamp'] > 0 ]\n",
    "df1.shape"
   ]
  },
  {
   "cell_type": "code",
   "execution_count": 88,
   "id": "6cd327fb-9069-4fd5-a7cf-f3bf048ce450",
   "metadata": {},
   "outputs": [
    {
     "data": {
      "text/plain": [
       "(35115, 28)"
      ]
     },
     "execution_count": 88,
     "metadata": {},
     "output_type": "execute_result"
    }
   ],
   "source": [
    "df2 = df1[df1.From != 'invalid']\n",
    "df2.shape"
   ]
  },
  {
   "cell_type": "code",
   "execution_count": 122,
   "id": "c0afa0a1-0b03-4c50-bca5-5702759adf74",
   "metadata": {},
   "outputs": [
    {
     "data": {
      "text/plain": [
       "(35106, 28)"
      ]
     },
     "execution_count": 122,
     "metadata": {},
     "output_type": "execute_result"
    }
   ],
   "source": [
    "df2 = df2[pd.isnull(df4.From) == False]\n",
    "df2.shape"
   ]
  },
  {
   "cell_type": "markdown",
   "id": "f2e15442-67d5-42e7-addf-aded6f0564ce",
   "metadata": {},
   "source": [
    "CC elements to remove: \n",
    "* ['850)545-2095edward.kring@talgov.comsentfrommyiphonethanks'\n",
    "* \"bryant ==> bryan  # remove quote)\n",
    "* \"mike(firedept\" ==> mike\n",
    "*  bellamy  # (what is this?)\n",
    "* cherie(planning => cherie   # why wasn't parenthesis removed?\n",
    "    * 51733_fn_34-5-ScottMaddox5_ln_54108.txt,\" Thomas, Debra (Planning) <Debra.Thomas@talgov.com\",\" Thursday, November 7, 2013 10:27 AM\", Mayo      r & City Commissioners,\" Bryant, Cherie (Planning); McDonald,Earnest; Faris, Alison\",, Palmer Avenue Block Party Ceremony Time, image001.      jpg,,False,False,True,False,False,\""
   ]
  },
  {
   "cell_type": "code",
   "execution_count": 196,
   "id": "b1919802-6418-450c-80e0-37912e287a54",
   "metadata": {},
   "outputs": [],
   "source": [
    "def remove_invalid_from_list(my_list):\n",
    "    # Construct new To: list with invalid cc: elements removed. Do not count them. \n",
    "    # Remove NaN as well.\n",
    "    new_my_list = []\n",
    "    for lst in my_list:\n",
    "        split = lst.split(\";\")\n",
    "        new_split = []\n",
    "        for el in split:\n",
    "            if not rex.match('.*invalid', el, flags=rex.I):\n",
    "                new_split.append(el)\n",
    "            # I do not expect spaces\n",
    "            if rex.match('.*\\s', el):\n",
    "                print(\"space match: \", el)\n",
    "        new_my_list.append(\";\".join(new_split))\n",
    "    return new_my_list"
   ]
  },
  {
   "cell_type": "code",
   "execution_count": 197,
   "id": "33e56297-8667-4303-981a-c5e73d758a1f",
   "metadata": {},
   "outputs": [
    {
     "data": {
      "text/plain": [
       "(35106, 35106)"
      ]
     },
     "execution_count": 197,
     "metadata": {},
     "output_type": "execute_result"
    }
   ],
   "source": [
    "to_list = remove_invalid_from_list(df2.To.values)\n",
    "cc_list = remove_invalid_from_list(df2.CC.values)\n",
    "len(to_list), len(cc_list)"
   ]
  },
  {
   "cell_type": "code",
   "execution_count": 192,
   "id": "165d5600-7365-4cb6-816e-6cedb6ee2461",
   "metadata": {},
   "outputs": [],
   "source": [
    "# Check that there are no \"invalid\"s left\n",
    "for el in cc_list:\n",
    "    if rex.match('.*invalid', el):\n",
    "        print(el)"
   ]
  },
  {
   "cell_type": "code",
   "execution_count": 172,
   "id": "5fb0ade9-5982-41a5-99ce-71d2ef80a201",
   "metadata": {},
   "outputs": [],
   "source": [
    "df3 = df2.copy()"
   ]
  },
  {
   "cell_type": "code",
   "execution_count": 193,
   "id": "af1a33b1-dc27-4523-bc30-0d9e2e2a999b",
   "metadata": {},
   "outputs": [
    {
     "name": "stdout",
     "output_type": "stream",
     "text": [
      "filenm: 29142_fn_10-4-Cascade-2015-1-0_ln_42056.txt\n",
      "From: shaneamoniz\n",
      "Sent: Friday, May 08, 2015 11:38 AM\n",
      "To: brooks@culpeppercc.com\n",
      "CC: rgrindler@101tally.com;davidrosenfeld\n",
      "Bcc: nan\n",
      "Subject: Edison RFI's\n",
      "Attachments: RFI 008 Response.pdf; RFI 042 Response.pdf; RFI 043 Response.pdf; RFI 044\n",
      "Importance: nan\n",
      "isThread: False\n",
      "isAutoMessage: False\n",
      "isDisplacement: False\n",
      "hasAllCapLine: False\n",
      "hasBadDate: True\n",
      "Body: ['Response.pdf', 'Brooks, attached is our response to RFIs 008, 042, 043, and 044.', 'Shane A. Moniz, AIA', 'Architect', 'Conn & Associates, Inc., Architects', '1960-C Buford Boulevard', 'Tallahassee, Florida 32308', 'p 850-878-8784', 'm 850-445-4056', 'smoniz@connandassociates.com', 'NUMBER:', 'REQUEST FOR INFORMATION 003', 'Date: March 2, 2015 PROJECT The Edison Restaurant Cascades Park', 'REFERENCE Project 0500', 'To: Shane Moniz']\n",
      "timestamp: 1431081480.0\n",
      "date_sent: 2015-05-08\n",
      "time_sent: 10:38\n",
      "cc: Ryan Grindler  rgrindler@101tally.com ; Rosenfeld, David\n",
      "nb_words: 55\n",
      "nb_chars: 338\n",
      "body_len: 392\n",
      "body: Response.pdf Brooks, attached is our response to RFIs 008, 042, 043, and 044. Shane A. Moniz, AIA Architect Conn & Associates, Inc., Architects 1960-C Buford Boulevard Tallahassee, Florida 32308 p 850-878-8784 m 850-445-4056 smoniz@connandassociates.com NUMBER: REQUEST FOR INFORMATION 003 Date: March 2, 2015 PROJECT The Edison Restaurant Cascades Park REFERENCE Project 0500 To: Shane Moniz\n",
      "mn_nb_words: 196.56666666666663\n",
      "std_nb_words: 750.0782342337793\n",
      "mn_nb_chars: 1132.1666666666667\n",
      "std_nb_chars: 4195.776752577675\n",
      "email_count: 30\n"
     ]
    }
   ],
   "source": [
    "for el in df3.values:\n",
    "    try:\n",
    "        if rex.match(r'.*INVALI', el):\n",
    "            print(el)\n",
    "    except:\n",
    "        cols = df3.columns\n",
    "        for c,e in zip(cols, el):\n",
    "            print(f\"{c}: {e}\")\n",
    "        break"
   ]
  },
  {
   "cell_type": "code",
   "execution_count": 190,
   "id": "447909ca-ef09-4ccc-a179-ec35d10781d8",
   "metadata": {},
   "outputs": [],
   "source": [
    "df3.loc[:,'To'] = to_list\n",
    "df3.loc[:,'CC'] = cc_list"
   ]
  },
  {
   "cell_type": "code",
   "execution_count": 189,
   "id": "a4e928d5-cf5f-4943-b632-12dc4954bb1a",
   "metadata": {
    "tags": []
   },
   "outputs": [
    {
     "name": "stdout",
     "output_type": "stream",
     "text": [
      "nb invalid_nan:  0\n"
     ]
    }
   ],
   "source": [
    "# From: field should only contain \\w characters. Identify those that don't\n",
    "count=0\n",
    "for el in df3.CC.values:\n",
    "    if  not rex.match(r'\\A[A-Za-z0-9;]*\\Z', el) and not rex.match(r'.*@',  el):\n",
    "        # print(el)\n",
    "        count += 1\n",
    "    if rex.match(r'.*invalid\\b',  el):\n",
    "        print(el)\n",
    "print(\"nb invalid_nan: \", count)"
   ]
  },
  {
   "cell_type": "code",
   "execution_count": 195,
   "id": "96170470-6e2d-483d-976b-ad198d937ef1",
   "metadata": {},
   "outputs": [],
   "source": [
    "df3.to_csv(\"output_without_invalid_mails.csv\", index=0)"
   ]
  }
 ],
 "metadata": {
  "kernelspec": {
   "display_name": "Python 3",
   "language": "python",
   "name": "python3"
  },
  "language_info": {
   "codemirror_mode": {
    "name": "ipython",
    "version": 3
   },
   "file_extension": ".py",
   "mimetype": "text/x-python",
   "name": "python",
   "nbconvert_exporter": "python",
   "pygments_lexer": "ipython3",
   "version": "3.8.8"
  },
  "widgets": {
   "application/vnd.jupyter.widget-state+json": {
    "state": {},
    "version_major": 2,
    "version_minor": 0
   }
  }
 },
 "nbformat": 4,
 "nbformat_minor": 5
}
