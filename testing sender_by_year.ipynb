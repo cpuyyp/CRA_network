{
 "cells": [
  {
   "cell_type": "code",
   "execution_count": null,
   "metadata": {},
   "outputs": [],
   "source": [
    "import matplotlib.pyplot as plt\n",
    "import pandas as pd\n",
    "from datetime import datetime\n",
    "import numpy as np\n",
    "import re\n",
    "import pickle\n",
    "from function_library import *"
   ]
  },
  {
   "cell_type": "code",
   "execution_count": null,
   "metadata": {},
   "outputs": [],
   "source": [
    "d_final = fromPickle(\"d_final\")"
   ]
  },
  {
   "cell_type": "code",
   "execution_count": null,
   "metadata": {},
   "outputs": [],
   "source": [
    "l_to   = fromPickle(\"to_list\")\n",
    "l_from = fromPickle(\"from_list\")\n",
    "l_cc   = fromPickle(\"cc_list\")"
   ]
  },
  {
   "cell_type": "code",
   "execution_count": null,
   "metadata": {},
   "outputs": [],
   "source": [
    "l_from"
   ]
  },
  {
   "cell_type": "code",
   "execution_count": null,
   "metadata": {},
   "outputs": [],
   "source": [
    "l_to"
   ]
  },
  {
   "cell_type": "code",
   "execution_count": null,
   "metadata": {},
   "outputs": [],
   "source": [
    "l_emails = []\n",
    "for k,v in d_final.items():\n",
    "    print(k,v)\n",
    "    break"
   ]
  },
  {
   "cell_type": "code",
   "execution_count": null,
   "metadata": {},
   "outputs": [],
   "source": [
    "# cannot use your readDataFrame function\n",
    "df = pd.read_csv('clean_output_noindex.csv', index_col=False)\n",
    "df['Sent'] = pd.to_datetime(df['Sent'])\n",
    "df"
   ]
  },
  {
   "cell_type": "code",
   "execution_count": null,
   "metadata": {},
   "outputs": [],
   "source": [
    "d_compiled_re = {}\n",
    "d_compiled_re['email'] = re.compile(r'([0-9a-zA-Z_\\.]*\\.?\\w+@[0-9a-zA-Z._-]*)')\n",
    "df = cleanDFColumn(df, 'To', d_compiled_re)\n",
    "df = cleanDFColumn(df, 'CC', d_compiled_re)\n",
    "df = cleanSenders(df, d_compiled_re)"
   ]
  },
  {
   "cell_type": "code",
   "execution_count": null,
   "metadata": {},
   "outputs": [],
   "source": [
    "df['To']"
   ]
  },
  {
   "cell_type": "code",
   "execution_count": null,
   "metadata": {},
   "outputs": [],
   "source": [
    "# cannot directly use l_to, because l_to is \n",
    "from_list = df['From'].values.tolist()\n",
    "unique_senders = list(uniqueEmails(from_list))\n",
    "unique_senders.sort()"
   ]
  },
  {
   "cell_type": "code",
   "execution_count": null,
   "metadata": {},
   "outputs": [],
   "source": [
    "name2id, id2name = nameToIndexDict(unique_senders)"
   ]
  },
  {
   "cell_type": "code",
   "execution_count": null,
   "metadata": {},
   "outputs": [],
   "source": [
    "sender_by_year = np.zeros((len(unique_senders),6))\n",
    "for year in range(2012,2018):\n",
    "    df_temp = restrictEmailsToYears(df, low=year, high=year+1)\n",
    "    col = year-2012\n",
    "    for sender in df_temp['From']:\n",
    "        # problem here: some triplet missing email address\n",
    "        # so they are considered as the the same empty person\n",
    "        # the names in the csv need to be \n",
    "        row = name2id[sender[2]]\n",
    "        sender_by_year[row,col] += 1\n",
    "print(sender_by_year.T.tolist())\n"
   ]
  },
  {
   "cell_type": "code",
   "execution_count": null,
   "metadata": {},
   "outputs": [],
   "source": [
    "sender_by_year_temp = sender_by_year.T.tolist()\n",
    "sender_by_year_temp.insert(0,unique_senders)\n",
    "sender_by_year_temp = np.array(sender_by_year_temp).T.tolist()\n",
    "sender_by_year_temp\n",
    "df_sender_by_year = pd.DataFrame(data = sender_by_year_temp, columns=['Senders','2012','2013','2014','2015','2016','2017'])\n",
    "df_sender_by_year.to_csv('sender_by_year.csv')\n",
    "\n"
   ]
  },
  {
   "cell_type": "code",
   "execution_count": null,
   "metadata": {},
   "outputs": [],
   "source": [
    "df.head()"
   ]
  },
  {
   "cell_type": "code",
   "execution_count": null,
   "metadata": {},
   "outputs": [],
   "source": []
  }
 ],
 "metadata": {
  "kernelspec": {
   "display_name": "Python 3",
   "language": "python",
   "name": "python3"
  },
  "language_info": {
   "codemirror_mode": {
    "name": "ipython",
    "version": 3
   },
   "file_extension": ".py",
   "mimetype": "text/x-python",
   "name": "python",
   "nbconvert_exporter": "python",
   "pygments_lexer": "ipython3",
   "version": "3.7.0"
  }
 },
 "nbformat": 4,
 "nbformat_minor": 2
}
