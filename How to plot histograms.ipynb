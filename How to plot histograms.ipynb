{
 "cells": [
  {
   "cell_type": "code",
   "execution_count": 27,
   "id": "2b436c9c-4227-4d9b-ac31-81da9e82295f",
   "metadata": {},
   "outputs": [],
   "source": [
    "import pandas as pd\n",
    "import matplotlib.pyplot as plt\n",
    "import numpy as np"
   ]
  },
  {
   "cell_type": "code",
   "execution_count": 2,
   "id": "d4809e59-b083-4283-ac66-c6cd39eb4862",
   "metadata": {},
   "outputs": [],
   "source": [
    "df = pd.read_csv(\"output_with_stats_columns.csv.gz\")"
   ]
  },
  {
   "cell_type": "code",
   "execution_count": 6,
   "id": "5e1d022d-4131-4bbf-8317-310d6fef9720",
   "metadata": {},
   "outputs": [
    {
     "data": {
      "text/plain": [
       "Index(['filenm', 'From', 'Sent', 'To', 'CC', 'Bcc', 'Subject', 'Attachments',\n",
       "       'Importance', 'isThread', 'isAutoMessage', 'isDisplacement',\n",
       "       'hasAllCapLine', 'hasBadDate', 'Body', 'nb_words', 'nb_chars',\n",
       "       'body_len', 'body', 'Error_from', 'Error_sent', 'mn_nb_words',\n",
       "       'std_nb_words', 'mn_nb_chars', 'std_nb_chars', 'count', 'email_count'],\n",
       "      dtype='object')"
      ]
     },
     "execution_count": 6,
     "metadata": {},
     "output_type": "execute_result"
    }
   ],
   "source": [
    "df.columns"
   ]
  },
  {
   "cell_type": "code",
   "execution_count": 8,
   "id": "f0cf08e6-3864-41d7-bdce-c899de511ef6",
   "metadata": {},
   "outputs": [
    {
     "data": {
      "text/html": [
       "<div>\n",
       "<style scoped>\n",
       "    .dataframe tbody tr th:only-of-type {\n",
       "        vertical-align: middle;\n",
       "    }\n",
       "\n",
       "    .dataframe tbody tr th {\n",
       "        vertical-align: top;\n",
       "    }\n",
       "\n",
       "    .dataframe thead th {\n",
       "        text-align: right;\n",
       "    }\n",
       "</style>\n",
       "<table border=\"1\" class=\"dataframe\">\n",
       "  <thead>\n",
       "    <tr style=\"text-align: right;\">\n",
       "      <th></th>\n",
       "      <th>Bcc</th>\n",
       "      <th>nb_words</th>\n",
       "      <th>nb_chars</th>\n",
       "      <th>body_len</th>\n",
       "      <th>mn_nb_words</th>\n",
       "      <th>std_nb_words</th>\n",
       "      <th>mn_nb_chars</th>\n",
       "      <th>std_nb_chars</th>\n",
       "      <th>count</th>\n",
       "      <th>email_count</th>\n",
       "    </tr>\n",
       "  </thead>\n",
       "  <tbody>\n",
       "    <tr>\n",
       "      <th>count</th>\n",
       "      <td>0.0</td>\n",
       "      <td>39444.000000</td>\n",
       "      <td>39444.000000</td>\n",
       "      <td>39444.000000</td>\n",
       "      <td>39444.000000</td>\n",
       "      <td>33795.000000</td>\n",
       "      <td>39444.000000</td>\n",
       "      <td>33795.000000</td>\n",
       "      <td>39444.000000</td>\n",
       "      <td>39444.000000</td>\n",
       "    </tr>\n",
       "    <tr>\n",
       "      <th>mean</th>\n",
       "      <td>NaN</td>\n",
       "      <td>274.482253</td>\n",
       "      <td>1526.380514</td>\n",
       "      <td>1799.862767</td>\n",
       "      <td>274.482253</td>\n",
       "      <td>582.420512</td>\n",
       "      <td>1526.380514</td>\n",
       "      <td>3099.847197</td>\n",
       "      <td>536.457864</td>\n",
       "      <td>536.457864</td>\n",
       "    </tr>\n",
       "    <tr>\n",
       "      <th>std</th>\n",
       "      <td>NaN</td>\n",
       "      <td>1498.709094</td>\n",
       "      <td>8150.989443</td>\n",
       "      <td>9638.763442</td>\n",
       "      <td>646.336143</td>\n",
       "      <td>1369.975738</td>\n",
       "      <td>3565.157932</td>\n",
       "      <td>7459.613097</td>\n",
       "      <td>974.900303</td>\n",
       "      <td>974.900303</td>\n",
       "    </tr>\n",
       "    <tr>\n",
       "      <th>min</th>\n",
       "      <td>NaN</td>\n",
       "      <td>1.000000</td>\n",
       "      <td>0.000000</td>\n",
       "      <td>0.000000</td>\n",
       "      <td>1.000000</td>\n",
       "      <td>0.000000</td>\n",
       "      <td>0.000000</td>\n",
       "      <td>0.000000</td>\n",
       "      <td>1.000000</td>\n",
       "      <td>1.000000</td>\n",
       "    </tr>\n",
       "    <tr>\n",
       "      <th>25%</th>\n",
       "      <td>NaN</td>\n",
       "      <td>40.000000</td>\n",
       "      <td>221.000000</td>\n",
       "      <td>261.000000</td>\n",
       "      <td>100.369863</td>\n",
       "      <td>109.656051</td>\n",
       "      <td>534.357798</td>\n",
       "      <td>597.608460</td>\n",
       "      <td>12.000000</td>\n",
       "      <td>12.000000</td>\n",
       "    </tr>\n",
       "    <tr>\n",
       "      <th>50%</th>\n",
       "      <td>NaN</td>\n",
       "      <td>96.000000</td>\n",
       "      <td>546.000000</td>\n",
       "      <td>646.000000</td>\n",
       "      <td>163.820106</td>\n",
       "      <td>164.752204</td>\n",
       "      <td>831.666667</td>\n",
       "      <td>865.478448</td>\n",
       "      <td>93.000000</td>\n",
       "      <td>93.000000</td>\n",
       "    </tr>\n",
       "    <tr>\n",
       "      <th>75%</th>\n",
       "      <td>NaN</td>\n",
       "      <td>199.000000</td>\n",
       "      <td>1156.000000</td>\n",
       "      <td>1347.000000</td>\n",
       "      <td>243.942857</td>\n",
       "      <td>391.273360</td>\n",
       "      <td>1318.228571</td>\n",
       "      <td>2072.168003</td>\n",
       "      <td>565.000000</td>\n",
       "      <td>565.000000</td>\n",
       "    </tr>\n",
       "    <tr>\n",
       "      <th>max</th>\n",
       "      <td>NaN</td>\n",
       "      <td>94406.000000</td>\n",
       "      <td>530506.000000</td>\n",
       "      <td>624911.000000</td>\n",
       "      <td>32261.000000</td>\n",
       "      <td>28069.534462</td>\n",
       "      <td>149301.000000</td>\n",
       "      <td>157701.876827</td>\n",
       "      <td>3459.000000</td>\n",
       "      <td>3459.000000</td>\n",
       "    </tr>\n",
       "  </tbody>\n",
       "</table>\n",
       "</div>"
      ],
      "text/plain": [
       "       Bcc      nb_words       nb_chars       body_len   mn_nb_words  \\\n",
       "count  0.0  39444.000000   39444.000000   39444.000000  39444.000000   \n",
       "mean   NaN    274.482253    1526.380514    1799.862767    274.482253   \n",
       "std    NaN   1498.709094    8150.989443    9638.763442    646.336143   \n",
       "min    NaN      1.000000       0.000000       0.000000      1.000000   \n",
       "25%    NaN     40.000000     221.000000     261.000000    100.369863   \n",
       "50%    NaN     96.000000     546.000000     646.000000    163.820106   \n",
       "75%    NaN    199.000000    1156.000000    1347.000000    243.942857   \n",
       "max    NaN  94406.000000  530506.000000  624911.000000  32261.000000   \n",
       "\n",
       "       std_nb_words    mn_nb_chars   std_nb_chars         count   email_count  \n",
       "count  33795.000000   39444.000000   33795.000000  39444.000000  39444.000000  \n",
       "mean     582.420512    1526.380514    3099.847197    536.457864    536.457864  \n",
       "std     1369.975738    3565.157932    7459.613097    974.900303    974.900303  \n",
       "min        0.000000       0.000000       0.000000      1.000000      1.000000  \n",
       "25%      109.656051     534.357798     597.608460     12.000000     12.000000  \n",
       "50%      164.752204     831.666667     865.478448     93.000000     93.000000  \n",
       "75%      391.273360    1318.228571    2072.168003    565.000000    565.000000  \n",
       "max    28069.534462  149301.000000  157701.876827   3459.000000   3459.000000  "
      ]
     },
     "execution_count": 8,
     "metadata": {},
     "output_type": "execute_result"
    }
   ],
   "source": [
    "df.describe()"
   ]
  },
  {
   "cell_type": "code",
   "execution_count": 14,
   "id": "239a511a-e1f0-4d99-9c76-d16e915dd1a3",
   "metadata": {},
   "outputs": [
    {
     "data": {
      "text/plain": [
       "numpy.ndarray"
      ]
     },
     "execution_count": 14,
     "metadata": {},
     "output_type": "execute_result"
    }
   ],
   "source": [
    "nb_words = df['nb_words'].values\n",
    "type(nb_words)"
   ]
  },
  {
   "cell_type": "code",
   "execution_count": 32,
   "id": "682633d5-8ee2-4ea7-a516-d1c9ae63507c",
   "metadata": {},
   "outputs": [
    {
     "data": {
      "text/plain": [
       "(0.0, 1000.0)"
      ]
     },
     "execution_count": 32,
     "metadata": {},
     "output_type": "execute_result"
    },
    {
     "data": {
      "image/png": "[encoded data removed]",
      "text/plain": [
       "<Figure size 432x288 with 1 Axes>"
      ]
     },
     "metadata": {
      "needs_background": "light"
     },
     "output_type": "display_data"
    }
   ],
   "source": [
    "plt.hist(nb_words, bins=2000);\n",
    "plt.xlim(0, 1000)"
   ]
  },
  {
   "cell_type": "code",
   "execution_count": null,
   "id": "4668eef5-b3e2-42a3-b16b-927bcb882d4b",
   "metadata": {},
   "outputs": [],
   "source": []
  },
  {
   "cell_type": "code",
   "execution_count": 34,
   "id": "87c3fa2c-8bf1-4e0a-a3f5-960c511c3f58",
   "metadata": {},
   "outputs": [
    {
     "data": {
      "text/plain": [
       "(274.4822533211642, 96.0, 1498.6900964125693)"
      ]
     },
     "execution_count": 34,
     "metadata": {},
     "output_type": "execute_result"
    }
   ],
   "source": [
    "np.mean(nb_words), np.median(nb_words), np.std(nb_words)"
   ]
  },
  {
   "cell_type": "code",
   "execution_count": 35,
   "id": "41933b53-5c99-4647-96c2-833b39625d80",
   "metadata": {},
   "outputs": [],
   "source": [
    "nb_words_without_outliers = nb_words[nb_words < 1500]"
   ]
  },
  {
   "cell_type": "code",
   "execution_count": 38,
   "id": "bb8711dc-3394-4458-a540-d4d95435a877",
   "metadata": {},
   "outputs": [
    {
     "data": {
      "text/plain": [
       "(array([7668., 6413., 4900., 3931., 3152., 2351., 1750., 1338.,  979.,\n",
       "         965.,  716.,  573.,  515.,  487.,  419.,  293.,  215.,  227.,\n",
       "         214.,  158.,  106.,   96.,  113.,   94.,   77.,   52.,   81.,\n",
       "          43.,   69.,   65.,   37.,   47.,   43.,   34.,   25.,   48.,\n",
       "          29.,   38.,   36.,   26.,   16.,   17.,   15.,   18.,   20.,\n",
       "          18.,   23.,   18.,   18.,   13.]),\n",
       " array([1.00000e+00, 3.08200e+01, 6.06400e+01, 9.04600e+01, 1.20280e+02,\n",
       "        1.50100e+02, 1.79920e+02, 2.09740e+02, 2.39560e+02, 2.69380e+02,\n",
       "        2.99200e+02, 3.29020e+02, 3.58840e+02, 3.88660e+02, 4.18480e+02,\n",
       "        4.48300e+02, 4.78120e+02, 5.07940e+02, 5.37760e+02, 5.67580e+02,\n",
       "        5.97400e+02, 6.27220e+02, 6.57040e+02, 6.86860e+02, 7.16680e+02,\n",
       "        7.46500e+02, 7.76320e+02, 8.06140e+02, 8.35960e+02, 8.65780e+02,\n",
       "        8.95600e+02, 9.25420e+02, 9.55240e+02, 9.85060e+02, 1.01488e+03,\n",
       "        1.04470e+03, 1.07452e+03, 1.10434e+03, 1.13416e+03, 1.16398e+03,\n",
       "        1.19380e+03, 1.22362e+03, 1.25344e+03, 1.28326e+03, 1.31308e+03,\n",
       "        1.34290e+03, 1.37272e+03, 1.40254e+03, 1.43236e+03, 1.46218e+03,\n",
       "        1.49200e+03]),\n",
       " <BarContainer object of 50 artists>)"
      ]
     },
     "execution_count": 38,
     "metadata": {},
     "output_type": "execute_result"
    },
    {
     "data": {
      "image/png": "[encoded data removed]",
      "text/plain": [
       "<Figure size 432x288 with 1 Axes>"
      ]
     },
     "metadata": {
      "needs_background": "light"
     },
     "output_type": "display_data"
    }
   ],
   "source": [
    "plt.hist(nb_words_without_outliers, bins=50)"
   ]
  },
  {
   "cell_type": "code",
   "execution_count": 37,
   "id": "5af54bbe-9112-4d84-9aee-9492fbf86701",
   "metadata": {},
   "outputs": [
    {
     "data": {
      "text/plain": [
       "(152.64395450659345, 93.0)"
      ]
     },
     "execution_count": 37,
     "metadata": {},
     "output_type": "execute_result"
    }
   ],
   "source": [
    "np.mean(nb_words_without_outliers), np.median(nb_words_without_outliers)"
   ]
  },
  {
   "cell_type": "code",
   "execution_count": 78,
   "id": "167b93c1-871f-4d0b-8973-31c58a2cebfa",
   "metadata": {},
   "outputs": [],
   "source": [
    "def plot_hist(ax, var, xlab=\"NEED LABEL\"):\n",
    "    std = np.std(var)\n",
    "    var_without_outliers = var[np.where(var < std)]\n",
    "    ax.hist(var_without_outliers, bins=50)\n",
    "    ax.set_xlabel(xlab)\n",
    "    plt.tight_layout()"
   ]
  },
  {
   "cell_type": "code",
   "execution_count": 82,
   "id": "c63788d3-f239-4e0c-bd46-966db417770b",
   "metadata": {},
   "outputs": [
    {
     "data": {
      "image/png": "[encoded data removed]",
      "text/plain": [
       "<Figure size 432x288 with 4 Axes>"
      ]
     },
     "metadata": {
      "needs_background": "light"
     },
     "output_type": "display_data"
    }
   ],
   "source": [
    "fig, axes = plt.subplots(2, 2)\n",
    "plot_hist(axes[0,0], df['nb_chars'].values, 'nb_chars')\n",
    "plot_hist(axes[1,0], df['nb_words'].values, 'nb_chars')\n",
    "plot_hist(axes[0,1], df['count'].values, 'count')\n",
    "plot_hist(axes[1,1], df['std_nb_chars'].values, 'mn_nb_chars')"
   ]
  },
  {
   "cell_type": "code",
   "execution_count": 81,
   "id": "f3ae513e-5b8f-4493-95f9-35f85e384b87",
   "metadata": {},
   "outputs": [
    {
     "data": {
      "text/plain": [
       "0         3298.465917\n",
       "1         5063.717627\n",
       "2         8106.663649\n",
       "3         3555.282145\n",
       "4          686.257253\n",
       "             ...     \n",
       "39439      686.257253\n",
       "39440      267.887868\n",
       "39441      686.257253\n",
       "39442    16523.119220\n",
       "39443     1267.124838\n",
       "Name: std_nb_chars, Length: 39444, dtype: float64"
      ]
     },
     "execution_count": 81,
     "metadata": {},
     "output_type": "execute_result"
    }
   ],
   "source": []
  },
  {
   "cell_type": "code",
   "execution_count": null,
   "id": "89fff9db-25d3-4191-8499-3a0e626623d3",
   "metadata": {},
   "outputs": [],
   "source": []
  },
  {
   "cell_type": "code",
   "execution_count": 75,
   "id": "f23c010d-9e4f-4e87-8f65-22cecc664f94",
   "metadata": {},
   "outputs": [
    {
     "data": {
      "text/plain": [
       "array([[<AxesSubplot:title={'center':'Bcc'}>,\n",
       "        <AxesSubplot:title={'center':'nb_words'}>,\n",
       "        <AxesSubplot:title={'center':'nb_chars'}>],\n",
       "       [<AxesSubplot:title={'center':'body_len'}>,\n",
       "        <AxesSubplot:title={'center':'mn_nb_words'}>,\n",
       "        <AxesSubplot:title={'center':'std_nb_words'}>],\n",
       "       [<AxesSubplot:title={'center':'mn_nb_chars'}>,\n",
       "        <AxesSubplot:title={'center':'std_nb_chars'}>,\n",
       "        <AxesSubplot:title={'center':'count'}>],\n",
       "       [<AxesSubplot:title={'center':'email_count'}>, <AxesSubplot:>,\n",
       "        <AxesSubplot:>]], dtype=object)"
      ]
     },
     "execution_count": 75,
     "metadata": {},
     "output_type": "execute_result"
    },
    {
     "data": {
      "image/png": "[encoded data removed]",
      "text/plain": [
       "<Figure size 864x576 with 12 Axes>"
      ]
     },
     "metadata": {
      "needs_background": "light"
     },
     "output_type": "display_data"
    }
   ],
   "source": [
    "df.hist(figsize=(12,8), bins=300)"
   ]
  },
  {
   "cell_type": "code",
   "execution_count": null,
   "id": "68e03ccb-a786-4429-b0c2-80a88530f27c",
   "metadata": {},
   "outputs": [],
   "source": []
  }
 ],
 "metadata": {
  "kernelspec": {
   "display_name": "Python 3",
   "language": "python",
   "name": "python3"
  },
  "language_info": {
   "codemirror_mode": {
    "name": "ipython",
    "version": 3
   },
   "file_extension": ".py",
   "mimetype": "text/x-python",
   "name": "python",
   "nbconvert_exporter": "python",
   "pygments_lexer": "ipython3",
   "version": "3.8.8"
  },
  "widgets": {
   "application/vnd.jupyter.widget-state+json": {
    "state": {},
    "version_major": 2,
    "version_minor": 0
   }
  }
 },
 "nbformat": 4,
 "nbformat_minor": 5
}
