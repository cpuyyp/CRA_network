{
 "cells": [
  {
   "cell_type": "markdown",
   "metadata": {
    "colab": {
     "base_uri": "https://localhost:8080/"
    },
    "id": "hgV98alAS0Fb",
    "jupyter": {
     "outputs_hidden": true
    },
    "outputId": "542016cd-22de-41bd-a146-4ffa3ee2839f",
    "tags": []
   },
   "source": [
    "! pip install torch-scatter torch-sparse torch-cluster torch-spline-conv torch-geometric -f https://data.pyg.org/whl/torch-1.10.0+cu111.html"
   ]
  },
  {
   "cell_type": "code",
   "execution_count": 4,
   "metadata": {},
   "outputs": [],
   "source": [
    "%load_ext autoreload\n",
    "%autoreload 2"
   ]
  },
  {
   "cell_type": "code",
   "execution_count": 7,
   "metadata": {
    "id": "ri4veG96hud2"
   },
   "outputs": [],
   "source": [
    "import torch\n",
    "import torch_scatter\n",
    "import torch_sparse\n",
    "#import torch_geometric\n",
    "import tqdm.auto\n",
    "import os\n",
    "from operator import itemgetter\n",
    "# import tensorflow\n",
    "\n",
    "import numpy as np\n",
    "import pandas as pd\n",
    "import matplotlib.pyplot as plt\n",
    "import networkx as nx\n",
    "import re\n",
    "import regex as rex\n",
    "import math\n",
    "\n",
    "from collections import defaultdict\n",
    "import matplotlib.cm as cm\n",
    "\n",
    "import csv\n",
    "import function_library_gordon_code as funclib"
   ]
  },
  {
   "cell_type": "code",
   "execution_count": 8,
   "metadata": {
    "colab": {
     "base_uri": "https://localhost:8080/"
    },
    "id": "Z_ScoGCbPVRO",
    "outputId": "cb896b3c-4446-4afe-e001-1c044c2db042"
   },
   "outputs": [],
   "source": [
    "#path = \"/content/drive/MyDrive/output7_new_sentiment.csv\"\n",
    "filenm = \"./output_attr_stats.csv\"\n",
    "# from google.colab import drive\n",
    "# drive.mount('/content/drive')\n",
    "#in my drive I have the csv file and I will be pulling that from my google drive"
   ]
  },
  {
   "cell_type": "code",
   "execution_count": 9,
   "metadata": {
    "id": "a8rvG6twlQgH"
   },
   "outputs": [],
   "source": [
    "emails = pd.read_csv(filenm)\n",
    "#loads the emails into a pandas dataframe"
   ]
  },
  {
   "cell_type": "code",
   "execution_count": 98,
   "metadata": {},
   "outputs": [
    {
     "name": "stdout",
     "output_type": "stream",
     "text": [
      "nb non-strings:  585\n"
     ]
    }
   ],
   "source": [
    "dates = df['date_sent'].values\n",
    "count_not_string = 0\n",
    "valid_dates = []\n",
    "\n",
    "for date in dates:\n",
    "    try:\n",
    "        if not rex.match(r'.*20', date):\n",
    "            print(date)\n",
    "        else:\n",
    "            valid_dates.append(date)\n",
    "    except:\n",
    "        count_not_string += 1\n",
    "\n",
    "print(\"nb non-strings: \", count_not_string)\n",
    "np.savetxt(\"valid_dates\", sorted(valid_dates), fmt='%s')\n",
    "\n",
    "# We find 585 records where the Sent field is not a string. "
   ]
  },
  {
   "cell_type": "code",
   "execution_count": 49,
   "metadata": {},
   "outputs": [
    {
     "data": {
      "text/plain": [
       "277"
      ]
     },
     "execution_count": 49,
     "metadata": {},
     "output_type": "execute_result"
    }
   ],
   "source": [
    "emails['Sent'].isnull().sum()"
   ]
  },
  {
   "cell_type": "code",
   "execution_count": 92,
   "metadata": {
    "tags": []
   },
   "outputs": [
    {
     "data": {
      "text/plain": [
       "Series([], Name: date_sent, dtype: object)"
      ]
     },
     "execution_count": 92,
     "metadata": {},
     "output_type": "execute_result"
    }
   ],
   "source": [
    "df = emails\n",
    "df[(df['date_sent'] < '2008') | (df['date_sent'] > '2018')].date_sent"
   ]
  },
  {
   "cell_type": "code",
   "execution_count": 99,
   "metadata": {},
   "outputs": [
    {
     "name": "stdout",
     "output_type": "stream",
     "text": [
      "('2008', '01') (0, 28)\n",
      "('2008', '02') (0, 28)\n",
      "('2008', '03') (0, 28)\n",
      "('2008', '04') (0, 28)\n",
      "('2008', '05') (0, 28)\n",
      "('2008', '06') (0, 28)\n",
      "('2008', '07') (0, 28)\n",
      "('2008', '08') (4, 28)\n",
      "('2008', '09') (0, 28)\n",
      "('2008', '10') (0, 28)\n",
      "('2008', '11') (0, 28)\n",
      "('2008', '12') (0, 28)\n",
      "('2009', '01') (0, 28)\n",
      "('2009', '02') (0, 28)\n",
      "('2009', '03') (0, 28)\n",
      "('2009', '04') (0, 28)\n",
      "('2009', '05') (0, 28)\n",
      "('2009', '06') (0, 28)\n",
      "('2009', '07') (0, 28)\n",
      "('2009', '08') (0, 28)\n",
      "('2009', '09') (0, 28)\n",
      "('2009', '10') (0, 28)\n",
      "('2009', '11') (0, 28)\n",
      "('2009', '12') (0, 28)\n",
      "('2010', '01') (0, 28)\n",
      "('2010', '02') (0, 28)\n",
      "('2010', '03') (0, 28)\n",
      "('2010', '04') (3, 28)\n",
      "('2010', '05') (0, 28)\n",
      "('2010', '06') (0, 28)\n",
      "('2010', '07') (0, 28)\n",
      "('2010', '08') (0, 28)\n",
      "('2010', '09') (0, 28)\n",
      "('2010', '10') (0, 28)\n",
      "('2010', '11') (0, 28)\n",
      "('2010', '12') (0, 28)\n",
      "('2011', '01') (0, 28)\n",
      "('2011', '02') (0, 28)\n",
      "('2011', '03') (0, 28)\n",
      "('2011', '04') (0, 28)\n",
      "('2011', '05') (0, 28)\n",
      "('2011', '06') (0, 28)\n",
      "('2011', '07') (0, 28)\n",
      "('2011', '08') (2, 28)\n",
      "('2011', '09') (0, 28)\n",
      "('2011', '10') (2, 28)\n",
      "('2011', '11') (0, 28)\n",
      "('2011', '12') (0, 28)\n",
      "('2012', '01') (12, 28)\n",
      "('2012', '02') (26, 28)\n",
      "('2012', '03') (19, 28)\n",
      "('2012', '04') (141, 28)\n",
      "('2012', '05') (178, 28)\n",
      "('2012', '06') (202, 28)\n",
      "('2012', '07') (120, 28)\n",
      "('2012', '08') (174, 28)\n",
      "('2012', '09') (165, 28)\n",
      "('2012', '10') (225, 28)\n",
      "('2012', '11') (525, 28)\n",
      "('2012', '12') (832, 28)\n",
      "('2013', '01') (761, 28)\n",
      "('2013', '02') (813, 28)\n",
      "('2013', '03') (808, 28)\n",
      "('2013', '04') (1116, 28)\n",
      "('2013', '05') (1283, 28)\n",
      "('2013', '06') (925, 28)\n",
      "('2013', '07') (874, 28)\n",
      "('2013', '08') (584, 28)\n",
      "('2013', '09') (1029, 28)\n",
      "('2013', '10') (437, 28)\n",
      "('2013', '11') (391, 28)\n",
      "('2013', '12') (403, 28)\n",
      "('2014', '01') (450, 28)\n",
      "('2014', '02') (419, 28)\n",
      "('2014', '03') (379, 28)\n",
      "('2014', '04') (437, 28)\n",
      "('2014', '05') (320, 28)\n",
      "('2014', '06') (203, 28)\n",
      "('2014', '07') (310, 28)\n",
      "('2014', '08') (387, 28)\n",
      "('2014', '09') (371, 28)\n",
      "('2014', '10') (316, 28)\n",
      "('2014', '11') (283, 28)\n",
      "('2014', '12') (419, 28)\n",
      "('2015', '01') (436, 28)\n",
      "('2015', '02') (431, 28)\n",
      "('2015', '03') (402, 28)\n",
      "('2015', '04') (467, 28)\n",
      "('2015', '05') (518, 28)\n",
      "('2015', '06') (441, 28)\n",
      "('2015', '07') (356, 28)\n",
      "('2015', '08') (526, 28)\n",
      "('2015', '09') (448, 28)\n",
      "('2015', '10') (339, 28)\n",
      "('2015', '11') (445, 28)\n",
      "('2015', '12') (225, 28)\n",
      "('2016', '01') (372, 28)\n",
      "('2016', '02') (532, 28)\n",
      "('2016', '03') (355, 28)\n",
      "('2016', '04') (277, 28)\n",
      "('2016', '05') (393, 28)\n",
      "('2016', '06') (644, 28)\n",
      "('2016', '07') (679, 28)\n",
      "('2016', '08') (997, 28)\n",
      "('2016', '09') (839, 28)\n",
      "('2016', '10') (714, 28)\n",
      "('2016', '11') (619, 28)\n",
      "('2016', '12') (583, 28)\n",
      "('2017', '01') (1013, 28)\n",
      "('2017', '02') (1821, 28)\n",
      "('2017', '03') (1282, 28)\n",
      "('2017', '04') (839, 28)\n",
      "('2017', '05') (699, 28)\n",
      "('2017', '06') (490, 28)\n",
      "('2017', '07') (304, 28)\n",
      "('2017', '08') (310, 28)\n",
      "('2017', '09') (213, 28)\n",
      "('2017', '10') (0, 28)\n",
      "('2017', '11') (0, 28)\n",
      "('2017', '12') (0, 28)\n",
      "tot_nb_rows:  35357\n",
      "emails.shape:  (35942, 28)\n"
     ]
    }
   ],
   "source": [
    "def choose_month_year(df, year, month):\n",
    "    min_date = f\"{year}-{month}-01\"\n",
    "    max_date = f\"{year}-{month}-31\"\n",
    "    month_df = df[(df['date_sent'].str.lower() <= max_date) & (df['date_sent'].str.lower() >= min_date)]\n",
    "    return month_df\n",
    "\n",
    "dct = {}\n",
    "years = [('%4d' % year) for year in range(2008, 2018)]\n",
    "months = [('%02d' % month) for month in range(1,13)]\n",
    "for year in years:\n",
    "    for month in months:\n",
    "        dct[(year, month)] = choose_month_year(emails, year, month)\n",
    "\n",
    "nb_rows = 0      \n",
    "for k,v in dct.items():\n",
    "    nb_rows += v.shape[0]\n",
    "    print(k, v.shape)\n",
    "    \n",
    "print(\"tot_nb_rows: \", nb_rows)\n",
    "print(\"emails.shape: \", emails.shape)\n",
    "dct['2013','04'].to_csv(\"2013-04.csv\", index=0)"
   ]
  },
  {
   "cell_type": "code",
   "execution_count": 96,
   "metadata": {},
   "outputs": [
    {
     "data": {
      "text/plain": [
       "35       2013-11-14\n",
       "71       2013-11-07\n",
       "376      2013-11-08\n",
       "411      2013-11-08\n",
       "663      2013-11-22\n",
       "            ...    \n",
       "34787    2013-11-08\n",
       "35270    2013-11-07\n",
       "35361    2013-11-15\n",
       "35393    2013-11-25\n",
       "35590    2013-11-25\n",
       "Name: date_sent, Length: 391, dtype: object"
      ]
     },
     "execution_count": 96,
     "metadata": {},
     "output_type": "execute_result"
    }
   ],
   "source": [
    "dct[('2013','11')].date_sent"
   ]
  },
  {
   "cell_type": "code",
   "execution_count": 91,
   "metadata": {
    "id": "MGS0TEdPRsKZ"
   },
   "outputs": [],
   "source": [
    "emails_2011_08 = emails.iloc[0:2]\n",
    "#this creates a small subsection of the emails that were sent in 2011/08 for testingdsfdf"
   ]
  },
  {
   "cell_type": "code",
   "execution_count": 21,
   "metadata": {},
   "outputs": [
    {
     "data": {
      "text/plain": [
       "(35942, 28)"
      ]
     },
     "execution_count": 21,
     "metadata": {},
     "output_type": "execute_result"
    }
   ],
   "source": [
    "emails.shape"
   ]
  },
  {
   "cell_type": "markdown",
   "metadata": {},
   "source": [
    "### Nodes should be people defined by From, CC, To"
   ]
  },
  {
   "cell_type": "code",
   "execution_count": 106,
   "metadata": {
    "id": "IgU2Nem6Y8do"
   },
   "outputs": [],
   "source": [
    "nodes_2011_08 = funclib.get_Unique_Nodes(emails_2011_08)"
   ]
  },
  {
   "cell_type": "code",
   "execution_count": 59,
   "metadata": {},
   "outputs": [],
   "source": [
    "#Found the following emails that need fixing: \n",
    "\"\"\"\n",
    "heperez<heperez@earthlink.net%3cmailto:heperez><heperez@earthlink.net%3cmailto:heperez\n",
    "microsoftexchange329e71ec88ae4615bbc36ab6ce41109e@talgov.com\n",
    "jay.tallahasseedowntown=gmail.com@mail129.us2.mcsv.net\n",
    "microsoftexchange329e71ec88ae4615bbc36ab6ce41109e@talgov.com\n",
    "microsoftexchange329e71ec88ae4615bbc36ab6ce41109e@talgov.com\n",
    "microsoftexchange329e71ec88ae4615bbc36ab6ce41109e@talgov.com\n",
    "jay.tallahasseedowntown=gmail.com@mail121.us2.mcsv.net\n",
    "microsoftexchange329e71ec88ae4615bbc36ab6ce41109e@talgov.com\n",
    "jay.tallahasseedowntown=gmail.com@mail21.wdc03.rsgsv.net\n",
    "heperez<heperez@earthlink.net%3cmailto:heperez><heperez@earthlink.net%3cmailto:heperez\n",
    "jay.tallahasseedowntown=gmail.com@mail66.atl11.rsgsv.net\n",
    "jay.tallahasseedowntown=gmail.com@mail181.wdc02.mcdlv.net\n",
    "jay.tallahasseedowntown=gmail.com@mail205.atl81.rsgsv.net\n",
    "microsoftexchange329e71ec88ae4615bbc36ab6ce41109e@talgov.com\n",
    "jay.tallahasseedowntown=gmail.com@mail21.wdc03.rsgsv.net\n",
    "microsoftexchange329e71ec88ae4615bbc36ab6ce41109e@talgov.com\n",
    "jay.tallahasseedowntown=gmail.com@mail180.wdc02.mcdlv.net\n",
    "microsoftexchange329e71ec88ae4615bbc36ab6ce41109e@talgov.com\n",
    "jay.tallahasseedowntown=gmail.com@mail21.wdc03.rsgsv.net\n",
    "jay.tallahasseedowntown=gmail.com@mail26.wdc03.rsgsv.net\n",
    "jay.tallahasseedowntown=gmail.com@mail26.wdc03.rsgsv.net\n",
    "jay.tallahasseedowntown=gmail.com@mail28.wdc03.rsgsv.net\n",
    "microsoftexchange329e71ec88ae4615bbc36ab6ce41109e@talgov.com\n",
    "jay.tallahasseedowntown=gmail.com@mail25.wdc03.rsgsv.net\n",
    "microsoftexchange329e71ec88ae4615bbc36ab6ce41109e@talgov.com\n",
    "invitation.miami-cslt-owner@liste.diplomatie.gouv.fr\n",
    "microsoftexchange329e71ec88ae4615bbc36ab6ce41109e@talgov.com\n",
    "heperez<heperez@earthlink.net%3cmailto:heperez><heperez@earthlink.net%3cmailto:heperez\n",
    "jay.tallahasseedowntown=gmail.com@mail66.atl11.rsgsv.net\n",
    "microsoftexchange329e71ec88ae4615bbc36ab6ce41109e@talgov.com\n",
    "microsoftexchange329e71ec88ae4615bbc36ab6ce41109e@talgov.com\n",
    "jay.tallahasseedowntown=gmail.com@mail24.wdc03.rsgsv.net\n",
    "jay.tallahasseedowntown=gmail.com@mail24.wdc03.rsgsv.net\n",
    "jay.tallahasseedowntown=gmail.com@mail26.wdc03.rsgsv.net\n",
    "jay.tallahasseedowntown=gmail.com@mail174.us4.mcsv.net\n",
    "patrickmckee@mindspring.com%3cpatrickmckee@mindspring.com>\n",
    "850)545-2095edward.kring@talgov.comsentfrommyiphonethanks,eddieedwardmarwkringci-zenengagementambassador,departmentofcommunica-onsoﬃce:(850)891-8081cell:(850\n",
    "850)545-2095edward.kring@talgov.comsentfrommyiphonethanks,eddieedwardmarwkringci-zenengagementambassador,departmentofcommunica-onsoﬃce:(850)891-8081cell:(850\n",
    "downtown_colleagues@mailman.downtowndevelopment.com\n",
    "downtown_colleagues@mailman.downtowndevelopment.com\n",
    "downtown_colleagues@mailman.downtowndevelopment.com\n",
    "\"\"\";"
   ]
  },
  {
   "cell_type": "code",
   "execution_count": 132,
   "metadata": {
    "id": "IgU2Nem6Y8do"
   },
   "outputs": [
    {
     "data": {
      "text/plain": [
       "25074"
      ]
     },
     "execution_count": 132,
     "metadata": {},
     "output_type": "execute_result"
    }
   ],
   "source": [
    "all_nodes = funclib.get_Unique_Nodes(emails, verbose=False)\n",
    "#generates the nodes that were used in 2011/08 and all of the nodes in the dataset\n",
    "len(all_nodes)"
   ]
  },
  {
   "cell_type": "code",
   "execution_count": null,
   "metadata": {},
   "outputs": [],
   "source": [
    "dfg.size().index"
   ]
  },
  {
   "cell_type": "code",
   "execution_count": null,
   "metadata": {},
   "outputs": [],
   "source": []
  },
  {
   "cell_type": "code",
   "execution_count": 158,
   "metadata": {
    "tags": []
   },
   "outputs": [],
   "source": [
    "# Only keep From/To/CC with emails\n",
    "def make_edges_ge(df):\n",
    "    dfg = emails.groupby('From')\n",
    "    edges = defaultdict(list)\n",
    "\n",
    "    for from_node in dfg.size().index:\n",
    "        if not rex.match(r'.*@', from_node): \n",
    "            continue\n",
    "        db = dfg.get_group(from_node)\n",
    "        edges[from_node] = list(funclib.get_receiver_nodes(db, from_node))\n",
    "    return edges"
   ]
  },
  {
   "cell_type": "code",
   "execution_count": 161,
   "metadata": {
    "tags": []
   },
   "outputs": [
    {
     "name": "stdout",
     "output_type": "stream",
     "text": [
      "enter \n",
      "1836\n"
     ]
    },
    {
     "data": {
      "text/plain": [
       "collections.defaultdict"
      ]
     },
     "execution_count": 161,
     "metadata": {},
     "output_type": "execute_result"
    }
   ],
   "source": [
    "edges1 = make_edges_ge(emails)\n",
    "print(len(edges1))\n",
    "list(edges1.keys())"
   ]
  },
  {
   "cell_type": "code",
   "execution_count": null,
   "metadata": {
    "id": "dA7WacW1C98Z"
   },
   "outputs": [],
   "source": [
    "edge_2011_08 = make_edgelist(emails_2011_08, nodes_2011_08)\n",
    "#generates an edgelist based on the nodes generated on the emails_2011_08 df"
   ]
  },
  {
   "cell_type": "code",
   "execution_count": 61,
   "metadata": {
    "id": "u-BUkJp9lo3d"
   },
   "outputs": [],
   "source": [
    "funclib.make_edgelist(emails,all_nodes);"
   ]
  },
  {
   "cell_type": "code",
   "execution_count": null,
   "metadata": {
    "id": "JHA8JTnieEu4"
   },
   "outputs": [],
   "source": [
    "\n",
    "years = sep_by_year(emails)"
   ]
  },
  {
   "cell_type": "code",
   "execution_count": null,
   "metadata": {
    "id": "5ubHFd9QeFCW"
   },
   "outputs": [],
   "source": [
    "month_2012 = sep_by_month(years[1])"
   ]
  },
  {
   "cell_type": "code",
   "execution_count": null,
   "metadata": {
    "colab": {
     "base_uri": "https://localhost:8080/"
    },
    "id": "ZKIuu6xEIMIe",
    "outputId": "dfafe554-ce84-4e82-fe42-6a2b95edcb43"
   },
   "outputs": [],
   "source": [
    "sep_by_day(month_2012[0])"
   ]
  },
  {
   "cell_type": "code",
   "execution_count": null,
   "metadata": {
    "colab": {
     "base_uri": "https://localhost:8080/",
     "height": 281
    },
    "id": "65J14BsuXQGp",
    "outputId": "4aa8d515-a3ac-43cc-a36d-8c279c92ef8b"
   },
   "outputs": [],
   "source": [
    "disp_Graph(nodes_2011_08, edge_2011_08, '2011/08')\n",
    "display(edge_2011_08)\n",
    "#displays the graph based on the first month of the dataset"
   ]
  },
  {
   "cell_type": "code",
   "execution_count": null,
   "metadata": {
    "colab": {
     "base_uri": "https://localhost:8080/",
     "height": 264
    },
    "id": "2vhQ-SDikQ5e",
    "outputId": "dec518a6-38bb-4b74-b16a-422c2e9626fb"
   },
   "outputs": [],
   "source": [
    "nodes_2012_01 = get_Unique_Nodes(month_2012[0])\n",
    "edges_2012_01 = make_edgelist(month_2012[0], nodes_2012_01)\n",
    "\n",
    "\n",
    "disp_Graph(nodes_2012_01,edges_2012_01, '2012/01')\n",
    "\n",
    "#this displays the emails in the second month of the dataset\n",
    "#though as can be seen here the graph gets very messy when too many nodes are added"
   ]
  },
  {
   "cell_type": "code",
   "execution_count": null,
   "metadata": {
    "colab": {
     "base_uri": "https://localhost:8080/",
     "height": 34
    },
    "id": "Zv6ICQ1vmbq3",
    "outputId": "02c91297-4bb5-42e6-b983-cb67fa69d218"
   },
   "outputs": [],
   "source": [
    "display(len(nodes_2012_01))"
   ]
  },
  {
   "cell_type": "code",
   "execution_count": null,
   "metadata": {
    "colab": {
     "base_uri": "https://localhost:8080/",
     "height": 34
    },
    "id": "TZSXW07yVrFR",
    "outputId": "2f082571-bf00-442b-ff98-17f89d8570b7"
   },
   "outputs": [],
   "source": [
    "#this is to test out different ways of concating dfs\n",
    "all_2012 = pd.DataFrame()\n",
    "for i in range(12):\n",
    "  all_2012 = all_2012.append(month_2012[i])\n",
    "display(len(all_2012))"
   ]
  },
  {
   "cell_type": "code",
   "execution_count": null,
   "metadata": {
    "id": "zU02eDSAa3vq"
   },
   "outputs": [],
   "source": [
    "nodes_2012 = get_Unique_Nodes(all_2012)\n",
    "edges_2012 = make_edgelist(all_2012, nodes_2012)"
   ]
  },
  {
   "cell_type": "code",
   "execution_count": null,
   "metadata": {
    "colab": {
     "base_uri": "https://localhost:8080/",
     "height": 34
    },
    "id": "zEy1408KbsJp",
    "outputId": "ddb1a5e0-0e52-415e-e2cd-dd1c5bb46057"
   },
   "outputs": [],
   "source": [
    "x = edges_2012[0]\n",
    "display(len(x))"
   ]
  },
  {
   "cell_type": "code",
   "execution_count": null,
   "metadata": {
    "id": "Gd-b3dxBmKxp"
   },
   "outputs": [],
   "source": [
    "create_edges_txt(edges_2012)"
   ]
  },
  {
   "cell_type": "code",
   "execution_count": null,
   "metadata": {
    "id": "W3LioRkDnI3K"
   },
   "outputs": [],
   "source": [
    "create_nodes_txt(nodes_2012)"
   ]
  },
  {
   "cell_type": "code",
   "execution_count": null,
   "metadata": {
    "id": "fGx0GmGAnaBv"
   },
   "outputs": [],
   "source": [
    "all_2012_graph = Graph()\n",
    "all_2012_graph.read_edges('edges.txt')\n",
    "all_2012_graph.read_node_metadata('nodes.txt')"
   ]
  },
  {
   "cell_type": "code",
   "execution_count": null,
   "metadata": {
    "colab": {
     "base_uri": "https://localhost:8080/",
     "height": 51
    },
    "id": "xQdzFfybpfdf",
    "outputId": "e346ee79-ed63-4e13-b8bd-463aa2815bed"
   },
   "outputs": [],
   "source": [
    "model = Simple_GNN(16,64,8133,3,aggregation_mode='mean')\n",
    "\n",
    "display((all_2012_graph.node_metadata).shape)\n",
    "\n",
    "### We initialize the GNN_Trainer and train for 200\n",
    "### epochs on CPU. \n",
    "trainer = GNN_Node_Trainer(all_2012_graph,num_epochs=200,random_seed=1)\n",
    "#display(model)\n",
    "predictions = trainer(model)"
   ]
  },
  {
   "cell_type": "code",
   "execution_count": null,
   "metadata": {
    "colab": {
     "base_uri": "https://localhost:8080/",
     "height": 34
    },
    "id": "l9qgZ4bDQThK",
    "outputId": "0c0d54df-7c61-4b8e-d845-099170aca56d"
   },
   "outputs": [],
   "source": [
    "display(edge_2011_08)\n",
    "get_sent_list(edge_2011_08, len(nodes_2011_08))\n",
    "sent_2012 = get_sent_list(edges_2012, len(nodes_2012))"
   ]
  },
  {
   "cell_type": "code",
   "execution_count": null,
   "metadata": {
    "id": "51AxtTlNNJlJ"
   },
   "outputs": [],
   "source": [
    "recieved_2012 = get_recieved_list(edges_2012, len(nodes_2012))"
   ]
  },
  {
   "cell_type": "code",
   "execution_count": null,
   "metadata": {
    "colab": {
     "base_uri": "https://localhost:8080/",
     "height": 34
    },
    "id": "NnJEYuyvMSP3",
    "outputId": "111725b8-6a6b-446c-ec0b-3a46b05d9262"
   },
   "outputs": [],
   "source": [
    "node_num_2012 = []\n",
    "for node in nodes_2012:\n",
    "  x = nodes_2012.index(node)\n",
    "  node_num_2012.append(x)\n",
    "node_meta_2012 = [node_num_2012, sent_2012, recieved_2012]\n",
    "display(len(node_meta_2012))\n",
    "create_nodes_txt(node_meta_2012)"
   ]
  },
  {
   "cell_type": "code",
   "execution_count": null,
   "metadata": {
    "id": "IHsmH9IlVGVI"
   },
   "outputs": [],
   "source": [
    "all_2012_graph = Graph()\n",
    "all_2012_graph.read_edges('edges.txt')\n",
    "all_2012_graph.read_node_metadata('nodes.txt')"
   ]
  },
  {
   "cell_type": "code",
   "execution_count": null,
   "metadata": {
    "colab": {
     "base_uri": "https://localhost:8080/",
     "height": 51
    },
    "id": "_A1m3EIFVNCD",
    "outputId": "0b57984f-01a5-4435-d497-80b3c3505de6"
   },
   "outputs": [],
   "source": [
    "model = Simple_GNN(2,64,5958,3,aggregation_mode='mean')\n",
    "\n",
    "display((all_2012_graph.node_metadata).shape)\n",
    "\n",
    "### We initialize the GNN_Trainer and train for 200\n",
    "### epochs on CPU. \n",
    "trainer = GNN_Node_Trainer(all_2012_graph,num_epochs=200,random_seed=1)\n",
    "#display(model)\n",
    "predictions = trainer(model)"
   ]
  },
  {
   "cell_type": "code",
   "execution_count": null,
   "metadata": {
    "colab": {
     "base_uri": "https://localhost:8080/"
    },
    "id": "FzuukLdFCnIA",
    "outputId": "5cac1bca-445f-472d-bbcb-7983f8d072ab"
   },
   "outputs": [],
   "source": [
    "email_node_meta_2012 = get_email_node_meta(all_2012)"
   ]
  },
  {
   "cell_type": "code",
   "execution_count": null,
   "metadata": {
    "id": "Wh6MDCbrJjQZ"
   },
   "outputs": [],
   "source": [
    "email_edge_2012 = create_email_edgelist(all_2012, nodes_2012)"
   ]
  },
  {
   "cell_type": "code",
   "execution_count": null,
   "metadata": {
    "colab": {
     "base_uri": "https://localhost:8080/"
    },
    "id": "6MPR1hwTNFCo",
    "outputId": "5f5eb7d2-f2dc-4f70-946c-954fcdb40a11",
    "tags": []
   },
   "outputs": [],
   "source": [
    "email_G = nx.Graph()\n",
    "email_nodes_2012 = []\n",
    "for i in range(len(all_2012)):\n",
    "  email_nodes_2012.append(i)\n",
    "email_G.add_nodes_from(email_nodes_2012)\n",
    "email_G.add_edges_from(email_edge_2012)\n",
    "for i in range(len(all_2012)):\n",
    "  email_G.nodes[i]['num char'] = email_node_meta_2012[0][i]\n",
    "  email_G.nodes[i]['num word'] = email_node_meta_2012[1][i]\n",
    "  email_G.nodes[i]['mean char in word'] = email_node_meta_2012[2][i]\n",
    "  email_G.nodes[i]['std char in word'] = email_node_meta_2012[3][i]\n",
    "\n",
    "email_G.nodes.data()"
   ]
  },
  {
   "cell_type": "code",
   "execution_count": null,
   "metadata": {
    "colab": {
     "base_uri": "https://localhost:8080/",
     "height": 51
    },
    "id": "NeyJQk6Nl5iC",
    "outputId": "69e3a9ea-adcd-41a6-ab44-0412781a42eb"
   },
   "outputs": [],
   "source": [
    "test_node_11_08 = create_node_list(emails_2011_08)\n",
    "display(test_node_11_08)"
   ]
  },
  {
   "cell_type": "code",
   "execution_count": null,
   "metadata": {
    "colab": {
     "base_uri": "https://localhost:8080/",
     "height": 34
    },
    "id": "5KA4T-4-vzP8",
    "outputId": "8457d93e-4dbe-4a23-b7ad-74dc2999299e"
   },
   "outputs": [],
   "source": [
    "test_edge_11_08 = create_edge_list(emails_2011_08, test_node_11_08)\n",
    "display(test_edge_11_08)"
   ]
  },
  {
   "cell_type": "code",
   "execution_count": null,
   "metadata": {
    "colab": {
     "base_uri": "https://localhost:8080/",
     "height": 867
    },
    "id": "i2aM6CksxEtj",
    "outputId": "c4f16e39-ee72-48d0-e024-2eb7ba8d506c"
   },
   "outputs": [],
   "source": [
    "test_node_2012_01 = create_node_list(month_2012[0])\n",
    "test_edge_2012_01 = create_edge_list(month_2012[0], test_node_2012_01)\n",
    "\n",
    "display(test_node_2012_01)\n",
    "display(test_edge_2012_01)"
   ]
  },
  {
   "cell_type": "code",
   "execution_count": null,
   "metadata": {
    "colab": {
     "base_uri": "https://localhost:8080/",
     "height": 34
    },
    "id": "EFjpgaYzamON",
    "outputId": "145b3e52-fb82-437a-8e26-5a052de901b7"
   },
   "outputs": [],
   "source": [
    "x = []\n",
    "display(len(x))"
   ]
  },
  {
   "cell_type": "code",
   "execution_count": null,
   "metadata": {
    "colab": {
     "base_uri": "https://localhost:8080/",
     "height": 34
    },
    "id": "gbt7-9YSAS2_",
    "outputId": "016fae8d-5e46-40dd-c363-ec5c13a865cd"
   },
   "outputs": [],
   "source": [
    "rec_node_list = get_node_recieved_list(month_2012[0], test_node_2012_01)\n",
    "display(rec_node_list)"
   ]
  },
  {
   "cell_type": "code",
   "execution_count": null,
   "metadata": {
    "colab": {
     "base_uri": "https://localhost:8080/",
     "height": 612
    },
    "id": "YJsUuYjoexEl",
    "outputId": "46380f25-7b07-4d44-84a4-ebecac56b093"
   },
   "outputs": [],
   "source": [
    "test_node_meta_2012_01 = create_node_meta_list(month_2012[0], test_node_2012_01)\n",
    "display(test_node_meta_2012_01)"
   ]
  },
  {
   "cell_type": "code",
   "execution_count": null,
   "metadata": {
    "colab": {
     "base_uri": "https://localhost:8080/",
     "height": 352
    },
    "id": "eT1zp9B77gox",
    "outputId": "8184660b-e951-4817-da94-d5269f43de57"
   },
   "outputs": [],
   "source": [
    "create_edge_meta_list(month_2012[0], test_node_2012_01, test_edge_2012_01)"
   ]
  },
  {
   "cell_type": "code",
   "execution_count": null,
   "metadata": {
    "colab": {
     "base_uri": "https://localhost:8080/"
    },
    "id": "d5a26OrzV5P8",
    "outputId": "6b76d6be-6c69-492b-9cfa-aa7dba80e072"
   },
   "outputs": [],
   "source": [
    "node_list_2012 = create_node_list(all_2012)\n",
    "edge_list_2012 = create_edge_list(all_2012, node_list_2012)\n",
    "node_meta_list_2012 = create_node_meta_list(all_2012, node_list_2012)\n",
    "rec_node_list_2012 = get_node_recieved_list(all_2012, node_list_2012)"
   ]
  },
  {
   "cell_type": "code",
   "execution_count": null,
   "metadata": {
    "id": "IQYmp7x1SczO"
   },
   "outputs": [],
   "source": [
    "bi_class_to_2012 = create_bi_class_to(all_2012, node_meta_list_2012)"
   ]
  },
  {
   "cell_type": "code",
   "execution_count": null,
   "metadata": {
    "colab": {
     "base_uri": "https://localhost:8080/",
     "height": 204
    },
    "id": "tQrh8DvVTgGn",
    "outputId": "9e692d60-7b79-461c-998d-c3e29cc30414"
   },
   "outputs": [],
   "source": [
    "#later create a more optimized way of seperating the node metadata\n",
    "char_mean_2012 = []\n",
    "word_mean_2012 = []\n",
    "to_mean_2012 = []\n",
    "cc_mean_2012 = []\n",
    "char_std_2012 = []\n",
    "word_std_2012 = []\n",
    "to_std_2012 = []\n",
    "cc_std_2012 = []\n",
    "num_sent_2012 = []\n",
    "#rec_node_list_2012\n",
    "bi_class_char_2012 = create_bi_class_char(all_2012, node_meta_list_2012)\n",
    "for i in range(len(node_meta_list_2012)):\n",
    "  q = node_meta_list_2012[i]\n",
    "  char_mean_2012.append(q[0])\n",
    "  word_mean_2012.append(q[1])\n",
    "  to_mean_2012.append(q[2])\n",
    "  cc_mean_2012.append(q[3])\n",
    "  char_std_2012.append(q[4])\n",
    "  word_std_2012.append(q[5])\n",
    "  to_std_2012.append(q[6])\n",
    "  cc_std_2012.append(q[7])\n",
    "  num_sent_2012.append(q[8])\n",
    "bi_class_list_char_mean_2012 = create_bi_class(all_2012, char_mean_2012)\n",
    "bi_class_list_word_mean_2012 = create_bi_class(all_2012, word_mean_2012)\n",
    "bi_class_list_to_mean_2012 = create_bi_class(all_2012, to_mean_2012)\n",
    "bi_class_list_cc_mean_2012 = create_bi_class(all_2012, cc_mean_2012)\n",
    "bi_class_list_char_std_2012 = create_bi_class(all_2012, char_std_2012)\n",
    "bi_class_list_word_std_2012 = create_bi_class(all_2012, word_std_2012)\n",
    "bi_class_list_to_std_2012 = create_bi_class(all_2012, to_mean_2012)\n",
    "bi_class_list_cc_std_2012 = create_bi_class(all_2012, cc_mean_2012)\n",
    "bi_class_list_num_sent_2012 = create_bi_class(all_2012, num_sent_2012)\n",
    "bi_class_list_num_rec_2012 = create_bi_class(all_2012, rec_node_list_2012)\n",
    "bi_classes = [bi_class_list_char_mean_2012, bi_class_list_word_mean_2012, bi_class_list_to_mean_2012, bi_class_list_cc_mean_2012, bi_class_list_char_std_2012, bi_class_list_word_std_2012, bi_class_list_to_std_2012, bi_class_list_cc_std_2012, bi_class_list_num_sent_2012, bi_class_list_num_rec_2012]\n",
    "display(len(node_meta_list_2012))\n",
    "display(len(node_meta_list_2012[0]))\n",
    "display(node_meta_list_2012[4])"
   ]
  },
  {
   "cell_type": "code",
   "execution_count": null,
   "metadata": {
    "colab": {
     "base_uri": "https://localhost:8080/",
     "height": 1000
    },
    "id": "nqnCpMkA7Rsc",
    "outputId": "7a948ca5-b1ab-41e6-807d-fb04ddec4564"
   },
   "outputs": [],
   "source": [
    "#this is what generated the plots that I used in the meeting\n",
    "\n",
    "\n",
    "titles = ['mean char', 'mean words', 'mean to', 'mean cc', 'std char', 'std words', 'std to', 'std cc', 'num sent', 'num recieved']\n",
    "figure_title = ['mean_char.png', 'mean_words.png', 'mean_to.png', 'mean_cc.png', 'std_char.png', 'std_words.png', 'std_to.png', 'std_cc.png', 'num_sent.png', 'num_recieved.png']\n",
    "for i in range(10):\n",
    "  create_node_list_txt(node_list_2012, node_meta_list_2012, rec_node_list_2012, bi_classes[i])\n",
    "  create_edges_txt(edge_list_2012)\n",
    "  all_2012_graph = Graph()\n",
    "  all_2012_graph.read_edges('edges.txt')\n",
    "  all_2012_graph.read_node_metadata('nodes.txt')\n",
    "  model = Simple_GNN(10,64,2,3,aggregation_mode='mean')\n",
    "\n",
    "  display((all_2012_graph.node_metadata).shape)\n",
    "  \n",
    "\n",
    "  ### We initialize the GNN_Trainer and train for 200\n",
    "  ### epochs on CPU. \n",
    "  r = torch.randperm(all_2012_graph.num_nodes)\n",
    "  trainer = GNN_Node_Trainer(all_2012_graph,train_index= r[:int(.8 * len(r))], test_index= r[int(.8 * len(r))::],num_epochs=200,random_seed=1)\n",
    "  #display(model)\n",
    "  predictions = trainer(model)\n",
    "  print(f\"Train Class #: {all_2012_graph.node_metadata[:,0][trainer.train_index].unique(return_counts=True)[1]}\")\n",
    "  print(f\"Test Class #: {all_2012_graph.node_metadata[:,0][trainer.test_index].unique(return_counts=True)[1]}\")\n",
    "  acc = print_acc(predictions, bi_classes[i])\n",
    "  color_str = 'rb'\n",
    "  #colors = cm.rainbow(predictions.argmax(dim=1))\n",
    "  predx = []\n",
    "  predy = []\n",
    "  prepx1 = []\n",
    "  prepx2 = []\n",
    "  prepy1 = []\n",
    "  prepy2 = []\n",
    "  for j in range(len(predictions)):\n",
    "    q = torch.detach(predictions[j])\n",
    "    predx.append(q[0])\n",
    "    predy.append(q[1])\n",
    "    if predictions.argmax(dim=1)[j] == 0:\n",
    "      prepx1.append(q[0])\n",
    "      prepy1.append(q[1])\n",
    "    else:\n",
    "      prepx2.append(q[0])\n",
    "      prepy2.append(q[1])\n",
    "  plt.figure()\n",
    "  e = np.ones(len(predictions))#0 is purple 1 is yellow\n",
    "  #plt.scatter(predx, predy, c=e)\n",
    "  #plt.scatter(predx, predy, c=predictions.argmax(dim=1))\n",
    "  fig, ax = plt.subplots()\n",
    "  p1 = ax.scatter(prepx1, prepy1, c='blue')\n",
    "  p2 = ax.scatter(prepx2, prepy2, c='red')\n",
    "  s = str(acc)\n",
    "  plt.title(titles[i] + ' accuraccy = ' + s[0:5] + '%')\n",
    "  fig.legend((p1,p2),('less than','greater than'))\n",
    "  fig.savefig(figure_title[i])\n",
    "  plt.show()\n",
    "  \n"
   ]
  },
  {
   "cell_type": "code",
   "execution_count": null,
   "metadata": {
    "id": "VkrYUF-JL4cF"
   },
   "outputs": [],
   "source": []
  },
  {
   "cell_type": "code",
   "execution_count": null,
   "metadata": {
    "id": "RuVNGlVdbW2D"
   },
   "outputs": [],
   "source": [
    "create_node_list_txt(node_list_2012, node_meta_list_2012, rec_node_list_2012, bi_class_to_2012)\n",
    "create_edges_txt(edge_list_2012)\n"
   ]
  },
  {
   "cell_type": "code",
   "execution_count": null,
   "metadata": {
    "colab": {
     "base_uri": "https://localhost:8080/",
     "height": 51
    },
    "id": "mdrMZyXJdgJ1",
    "outputId": "4814a260-11f2-47da-92d4-2172d2afb16a"
   },
   "outputs": [],
   "source": [
    "all_2012_graph = Graph()\n",
    "all_2012_graph.read_edges('edges.txt')\n",
    "all_2012_graph.read_node_metadata('nodes.txt')\n",
    "model = Simple_GNN(10,64,2,3,aggregation_mode='mean')\n",
    "\n",
    "display((all_2012_graph.node_metadata).shape)\n",
    "\n",
    "### We initialize the GNN_Trainer and train for 200\n",
    "### epochs on CPU. \n",
    "trainer = GNN_Node_Trainer(all_2012_graph,num_epochs=200,random_seed=1)\n",
    "#display(model)\n",
    "predictions = trainer(model)"
   ]
  },
  {
   "cell_type": "code",
   "execution_count": null,
   "metadata": {
    "colab": {
     "base_uri": "https://localhost:8080/",
     "height": 34
    },
    "id": "e8TmB4jwSk7l",
    "outputId": "56041b35-a778-465a-8796-269d752d5ca4"
   },
   "outputs": [],
   "source": [
    "display(torch.detach(predictions[0]))"
   ]
  },
  {
   "cell_type": "code",
   "execution_count": null,
   "metadata": {
    "id": "xdMrmf8YfN2s"
   },
   "outputs": [],
   "source": [
    "create_node_list_txt(node_list_2012, node_meta_list_2012, rec_node_list_2012, bi_class_char_2012)\n",
    "create_edges_txt(edge_list_2012)"
   ]
  },
  {
   "cell_type": "code",
   "execution_count": null,
   "metadata": {
    "colab": {
     "base_uri": "https://localhost:8080/",
     "height": 51
    },
    "id": "CVsCA77wfOqe",
    "outputId": "d18915c2-ceb3-4be1-bd1f-a19da45c5d65"
   },
   "outputs": [],
   "source": [
    "all_2012_graph = Graph()\n",
    "all_2012_graph.read_edges('edges.txt')\n",
    "all_2012_graph.read_node_metadata('nodes.txt')\n",
    "model = Simple_GNN(10,64,2,3,aggregation_mode='mean')\n",
    "\n",
    "display((all_2012_graph.node_metadata).shape)\n",
    "\n",
    "### We initialize the GNN_Trainer and train for 200\n",
    "### epochs on CPU. \n",
    "trainer = GNN_Node_Trainer(all_2012_graph,num_epochs=200,random_seed=1)\n",
    "#display(model)\n",
    "predictions = trainer(model)"
   ]
  },
  {
   "cell_type": "code",
   "execution_count": null,
   "metadata": {
    "colab": {
     "base_uri": "https://localhost:8080/"
    },
    "id": "N8cmFO2cSTUA",
    "outputId": "a613ef8e-5930-4a92-c1a1-43c2ecf59fdb"
   },
   "outputs": [],
   "source": [
    "print(f\"Train Class #: {all_2012_graph.node_metadata[:,0][trainer.train_index].unique(return_counts=True)[1]}\")\n",
    "print(f\"Test Class #: {all_2012_graph.node_metadata[:,0][trainer.test_index].unique(return_counts=True)[1]}\")"
   ]
  },
  {
   "cell_type": "code",
   "execution_count": null,
   "metadata": {
    "id": "8FFmyIHAUpmH"
   },
   "outputs": [],
   "source": []
  },
  {
   "cell_type": "code",
   "execution_count": null,
   "metadata": {
    "colab": {
     "base_uri": "https://localhost:8080/"
    },
    "id": "-DBFwYJjlPCv",
    "outputId": "c4fe038b-bad0-4a41-fcce-92de4597da8e",
    "tags": []
   },
   "outputs": [],
   "source": [
    "email_G_2012 = nx.Graph()\n",
    "email_nodes_list_2012 = []\n",
    "for i in range(len(node_list_2012)):\n",
    "  email_nodes_list_2012.append(i)\n",
    "email_G_2012.add_nodes_from(email_nodes_list_2012)\n",
    "email_G_2012.add_edges_from(edge_list_2012)\n",
    "for i in range(len(all_2012)):\n",
    "  email_G_2012.nodes[i]['mn num char'] = node_meta_list_2012[i][0]\n",
    "  email_G_2012.nodes[i]['mn num word'] = node_meta_list_2012[i][1]\n",
    "  email_G_2012.nodes[i]['mn to'] = node_meta_list_2012[i][2]\n",
    "  email_G_2012.nodes[i]['mn cc'] = node_meta_list_2012[i][3]\n",
    "  email_G_2012.nodes[i]['std num char'] = node_meta_list_2012[i][4]\n",
    "  email_G_2012.nodes[i]['std num word'] = node_meta_list_2012[i][5]\n",
    "  email_G_2012.nodes[i]['std to'] = node_meta_list_2012[i][6]\n",
    "  email_G_2012.nodes[i]['std cc'] = node_meta_list_2012[i][7]\n",
    "  email_G_2012.nodes[i]['sent num'] = node_meta_list_2012[i][8]\n",
    "  email_G_2012.nodes[i]['recieved num'] = rec_node_list_2012[i]\n",
    "email_G_2012.nodes.data()"
   ]
  },
  {
   "cell_type": "code",
   "execution_count": null,
   "metadata": {
    "id": "CIMnLhoKozUC"
   },
   "outputs": [],
   "source": [
    "# 0: training set (50%); 1: testing set (50%)\n",
    "# mask = torch.from_numpy(np.random.randint(0, 2, H0.shape[0]))\n",
    "\n",
    "def setup_training(model, mask, frac_train=0.5, lr=0.001):\n",
    "    mask = torch.from_numpy(\n",
    "        np.random.choice(2, G.nb_nodes, p=[frac_train, 1.0 - frac_train])\n",
    "    )\n",
    "\n",
    "    loss_fn = BinaryCrossEntropyLoss(mask)\n",
    "\n",
    "    # optimizer = torch.optim.SGD(model.parameters(), lr=1.e-3)\n",
    "    optimizer = torch.optim.AdamW(model.parameters(), lr=lr)\n",
    "    return loss_fn, optimizer"
   ]
  },
  {
   "cell_type": "code",
   "execution_count": null,
   "metadata": {
    "colab": {
     "base_uri": "https://localhost:8080/",
     "height": 232
    },
    "id": "tw4xlUVpo0Jh",
    "outputId": "c23f2ec1-718a-4582-c898-0ce292a5eeea"
   },
   "outputs": [],
   "source": [
    "G = nx.karate_club_graph()\n",
    "karate.add_gaussian_features(G, means=[0.0, 1.5], std=(1, 1), nb_features=16)\n",
    "display(G.node_metadata.shape[0])\n",
    "model = MyGCN(G)\n",
    "loss_fn, optimizer = setup_training(model, mask, frac_train=0.55, lr=0.001)\n",
    "losses, accuracy_count = new_train(G, model, mask, loss_fn, optimizer, nb_epochs=1000)"
   ]
  },
  {
   "cell_type": "code",
   "execution_count": null,
   "metadata": {
    "id": "a1sm4-tqpPDL"
   },
   "outputs": [],
   "source": []
  },
  {
   "cell_type": "code",
   "execution_count": null,
   "metadata": {
    "id": "WWtLKGPZpPgZ"
   },
   "outputs": [],
   "source": []
  }
 ],
 "metadata": {
  "colab": {
   "collapsed_sections": [],
   "name": "Copy of GNN_CRA_collab.ipynb",
   "provenance": []
  },
  "kernelspec": {
   "display_name": "Python 3",
   "language": "python",
   "name": "python3"
  },
  "language_info": {
   "codemirror_mode": {
    "name": "ipython",
    "version": 3
   },
   "file_extension": ".py",
   "mimetype": "text/x-python",
   "name": "python",
   "nbconvert_exporter": "python",
   "pygments_lexer": "ipython3",
   "version": "3.8.8"
  },
  "widgets": {
   "application/vnd.jupyter.widget-state+json": {
    "state": {},
    "version_major": 2,
    "version_minor": 0
   }
  }
 },
 "nbformat": 4,
 "nbformat_minor": 4
}
