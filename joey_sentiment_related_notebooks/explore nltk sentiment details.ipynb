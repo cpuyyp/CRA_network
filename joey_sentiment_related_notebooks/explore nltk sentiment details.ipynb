{
 "cells": [
  {
   "cell_type": "markdown",
   "metadata": {},
   "source": [
    "**Modifying NLTK source code to understand what exactly is happenning behind. Modification not listed.**"
   ]
  },
  {
   "cell_type": "code",
   "execution_count": 14,
   "metadata": {},
   "outputs": [],
   "source": [
    "from nltk.sentiment.vader import SentimentIntensityAnalyzer\n",
    "import math"
   ]
  },
  {
   "cell_type": "code",
   "execution_count": 2,
   "metadata": {},
   "outputs": [],
   "source": [
    "sid = SentimentIntensityAnalyzer()"
   ]
  },
  {
   "cell_type": "code",
   "execution_count": 23,
   "metadata": {},
   "outputs": [
    {
     "name": "stdout",
     "output_type": "stream",
     "text": [
      "words_and_emoticons ['deeply', 'LIKE', 'apple', 'like', 'banana..']\n",
      "['deeply', 'LIKE', 'apple', 'like', 'banana..']\n",
      "BOOSTER_DICT {'absolutely': 0.293, 'amazingly': 0.293, 'awfully': 0.293, 'completely': 0.293, 'considerably': 0.293, 'decidedly': 0.293, 'deeply': 0.293, 'effing': 0.293, 'enormously': 0.293, 'entirely': 0.293, 'especially': 0.293, 'exceptionally': 0.293, 'extremely': 0.293, 'fabulously': 0.293, 'flipping': 0.293, 'flippin': 0.293, 'fricking': 0.293, 'frickin': 0.293, 'frigging': 0.293, 'friggin': 0.293, 'fully': 0.293, 'fucking': 0.293, 'greatly': 0.293, 'hella': 0.293, 'highly': 0.293, 'hugely': 0.293, 'incredibly': 0.293, 'intensely': 0.293, 'majorly': 0.293, 'more': 0.293, 'most': 0.293, 'particularly': 0.293, 'purely': 0.293, 'quite': 0.293, 'really': 0.293, 'remarkably': 0.293, 'so': 0.293, 'substantially': 0.293, 'thoroughly': 0.293, 'totally': 0.293, 'tremendously': 0.293, 'uber': 0.293, 'unbelievably': 0.293, 'unusually': 0.293, 'utterly': 0.293, 'very': 0.293, 'almost': -0.293, 'barely': -0.293, 'hardly': -0.293, 'just enough': -0.293, 'kind of': -0.293, 'kinda': -0.293, 'kindof': -0.293, 'kind-of': -0.293, 'less': -0.293, 'little': -0.293, 'marginally': -0.293, 'occasionally': -0.293, 'partly': -0.293, 'scarcely': -0.293, 'slightly': -0.293, 'somewhat': -0.293, 'sort of': -0.293, 'sorta': -0.293, 'sortof': -0.293, 'sort-of': -0.293}\n",
      "self.constants.C_INCR 0.733\n",
      "self.constants.N_SCALAR -0.74\n",
      "sentiments 1 [0, 2.5260000000000002, 0, 1.7637, 0]\n",
      "sentiments 2 [0, 2.5260000000000002, 0, 1.7637, 0]\n",
      "punct_emph_amplifier 0.292\n",
      "pos_sum, neg_sum, neu_count  6.2897 0.0 3\n",
      "pos_sum, neg_sum, neu_count 222 6.5817 0.0 3\n",
      "score_valence {'neg': 0.0, 'neu': 0.313, 'pos': 0.687, 'compound': 0.7637}\n",
      "punct_emph_amplifier 0.292\n",
      "pos_sum, neg_sum, neu_count  6.2897 0.0 3\n",
      "pos_sum, neg_sum, neu_count 222 6.5817 0.0 3\n"
     ]
    }
   ],
   "source": [
    "sentence = 'I deeply LIKE apple! I like a banana..'\n",
    "ss = sid.polarity_scores(sentence)\n",
    "# for k in sorted(ss):\n",
    "#     print('{0}: {1}, '.format(k, ss[k]), end='')"
   ]
  },
  {
   "cell_type": "code",
   "execution_count": 21,
   "metadata": {},
   "outputs": [
    {
     "data": {
      "text/plain": [
       "4.2897"
      ]
     },
     "execution_count": 21,
     "metadata": {},
     "output_type": "execute_result"
    }
   ],
   "source": [
    "2.5260 + 1.7637"
   ]
  },
  {
   "cell_type": "code",
   "execution_count": 10,
   "metadata": {},
   "outputs": [
    {
     "data": {
      "text/plain": [
       "6.0534"
      ]
     },
     "execution_count": 10,
     "metadata": {},
     "output_type": "execute_result"
    }
   ],
   "source": [
    "float(sum([0, 2.5260000000000002, 0, 1.7637, 0, 0, 0, 1.7637, 0]))"
   ]
  },
  {
   "cell_type": "code",
   "execution_count": 15,
   "metadata": {},
   "outputs": [],
   "source": [
    "def normalize(score, alpha=15):\n",
    "        \"\"\"\n",
    "        Normalize the score to be between -1 and 1 using an alpha that\n",
    "        approximates the max expected value\n",
    "        \"\"\"\n",
    "        norm_score = score / math.sqrt((score * score) + alpha)\n",
    "        return norm_score\n"
   ]
  },
  {
   "cell_type": "code",
   "execution_count": 25,
   "metadata": {},
   "outputs": [
    {
     "data": {
      "text/plain": [
       "0.7637017935068786"
      ]
     },
     "execution_count": 25,
     "metadata": {},
     "output_type": "execute_result"
    }
   ],
   "source": [
    "normalize(4.2897+0.292)"
   ]
  },
  {
   "cell_type": "code",
   "execution_count": 28,
   "metadata": {},
   "outputs": [
    {
     "data": {
      "text/plain": [
       "0.3130968408528758"
      ]
     },
     "execution_count": 28,
     "metadata": {},
     "output_type": "execute_result"
    }
   ],
   "source": [
    "3/(9.2897+0.292)"
   ]
  },
  {
   "cell_type": "code",
   "execution_count": null,
   "metadata": {},
   "outputs": [],
   "source": []
  },
  {
   "cell_type": "code",
   "execution_count": 26,
   "metadata": {},
   "outputs": [
    {
     "data": {
      "text/plain": [
       "{'neg': 0.0, 'neu': 0.313, 'pos': 0.687, 'compound': 0.7637}"
      ]
     },
     "execution_count": 26,
     "metadata": {},
     "output_type": "execute_result"
    }
   ],
   "source": [
    "ss"
   ]
  },
  {
   "cell_type": "code",
   "execution_count": 9,
   "metadata": {},
   "outputs": [
    {
     "data": {
      "text/plain": [
       "0.6090033495379723"
      ]
     },
     "execution_count": 9,
     "metadata": {},
     "output_type": "execute_result"
    }
   ],
   "source": [
    "9.3454/(9.3454+6)"
   ]
  },
  {
   "cell_type": "code",
   "execution_count": 6,
   "metadata": {},
   "outputs": [
    {
     "data": {
      "text/plain": [
       "True"
      ]
     },
     "execution_count": 6,
     "metadata": {},
     "output_type": "execute_result"
    }
   ],
   "source": [
    "'LIKE'.isupper()"
   ]
  },
  {
   "cell_type": "code",
   "execution_count": 7,
   "metadata": {},
   "outputs": [
    {
     "name": "stdout",
     "output_type": "stream",
     "text": [
      "words_and_emoticons ['never', 'like', 'banana..']\n",
      "['never', 'like', 'banana..']\n",
      "BOOSTER_DICT {'absolutely': 0.293, 'amazingly': 0.293, 'awfully': 0.293, 'completely': 0.293, 'considerably': 0.293, 'decidedly': 0.293, 'deeply': 0.293, 'effing': 0.293, 'enormously': 0.293, 'entirely': 0.293, 'especially': 0.293, 'exceptionally': 0.293, 'extremely': 0.293, 'fabulously': 0.293, 'flipping': 0.293, 'flippin': 0.293, 'fricking': 0.293, 'frickin': 0.293, 'frigging': 0.293, 'friggin': 0.293, 'fully': 0.293, 'fucking': 0.293, 'greatly': 0.293, 'hella': 0.293, 'highly': 0.293, 'hugely': 0.293, 'incredibly': 0.293, 'intensely': 0.293, 'majorly': 0.293, 'more': 0.293, 'most': 0.293, 'particularly': 0.293, 'purely': 0.293, 'quite': 0.293, 'really': 0.293, 'remarkably': 0.293, 'so': 0.293, 'substantially': 0.293, 'thoroughly': 0.293, 'totally': 0.293, 'tremendously': 0.293, 'uber': 0.293, 'unbelievably': 0.293, 'unusually': 0.293, 'utterly': 0.293, 'very': 0.293, 'almost': -0.293, 'barely': -0.293, 'hardly': -0.293, 'just enough': -0.293, 'kind of': -0.293, 'kinda': -0.293, 'kindof': -0.293, 'kind-of': -0.293, 'less': -0.293, 'little': -0.293, 'marginally': -0.293, 'occasionally': -0.293, 'partly': -0.293, 'scarcely': -0.293, 'slightly': -0.293, 'somewhat': -0.293, 'sort of': -0.293, 'sorta': -0.293, 'sortof': -0.293, 'sort-of': -0.293}\n",
      "self.constants.C_INCR 0.733\n",
      "self.constants.N_SCALAR -0.74\n",
      "sentiments 1 [0, -1.1099999999999999, 0]\n",
      "sentiments 2 [0, -1.1099999999999999, 0]\n",
      "punct_emph_amplifier 0.0\n",
      "pos_sum, neg_sum, neu_count  0.0 -2.11 2\n",
      "pos_sum, neg_sum, neu_count 222 0.0 -2.11 2\n",
      "score_valence {'neg': 0.513, 'neu': 0.487, 'pos': 0.0, 'compound': -0.2755}\n",
      "punct_emph_amplifier 0.0\n",
      "pos_sum, neg_sum, neu_count  0.0 -2.11 2\n",
      "pos_sum, neg_sum, neu_count 222 0.0 -2.11 2\n"
     ]
    }
   ],
   "source": [
    "sentence = 'I never like a banana..'\n",
    "ss = sid.polarity_scores(sentence)\n",
    "# for k in sorted(ss):\n",
    "#     print('{0}: {1}, '.format(k, ss[k]), end='')"
   ]
  },
  {
   "cell_type": "code",
   "execution_count": 19,
   "metadata": {},
   "outputs": [
    {
     "name": "stdout",
     "output_type": "stream",
     "text": [
      "words_and_emoticons ['like', 'banana..']\n",
      "['like', 'banana..']\n",
      "BOOSTER_DICT {'absolutely': 0.293, 'amazingly': 0.293, 'awfully': 0.293, 'completely': 0.293, 'considerably': 0.293, 'decidedly': 0.293, 'deeply': 0.293, 'effing': 0.293, 'enormously': 0.293, 'entirely': 0.293, 'especially': 0.293, 'exceptionally': 0.293, 'extremely': 0.293, 'fabulously': 0.293, 'flipping': 0.293, 'flippin': 0.293, 'fricking': 0.293, 'frickin': 0.293, 'frigging': 0.293, 'friggin': 0.293, 'fully': 0.293, 'fucking': 0.293, 'greatly': 0.293, 'hella': 0.293, 'highly': 0.293, 'hugely': 0.293, 'incredibly': 0.293, 'intensely': 0.293, 'majorly': 0.293, 'more': 0.293, 'most': 0.293, 'particularly': 0.293, 'purely': 0.293, 'quite': 0.293, 'really': 0.293, 'remarkably': 0.293, 'so': 0.293, 'substantially': 0.293, 'thoroughly': 0.293, 'totally': 0.293, 'tremendously': 0.293, 'uber': 0.293, 'unbelievably': 0.293, 'unusually': 0.293, 'utterly': 0.293, 'very': 0.293, 'almost': -0.293, 'barely': -0.293, 'hardly': -0.293, 'just enough': -0.293, 'kind of': -0.293, 'kinda': -0.293, 'kindof': -0.293, 'kind-of': -0.293, 'less': -0.293, 'little': -0.293, 'marginally': -0.293, 'occasionally': -0.293, 'partly': -0.293, 'scarcely': -0.293, 'slightly': -0.293, 'somewhat': -0.293, 'sort of': -0.293, 'sorta': -0.293, 'sortof': -0.293, 'sort-of': -0.293}\n",
      "self.constants.C_INCR 0.733\n",
      "self.constants.N_SCALAR -0.74\n",
      "sentiments 1 [1.5, 0]\n",
      "sentiments 2 [1.5, 0]\n",
      "punct_emph_amplifier 0.0\n",
      "pos_sum, neg_sum, neu_count  2.5 0.0 1\n",
      "pos_sum, neg_sum, neu_count 222 2.5 0.0 1\n",
      "score_valence {'neg': 0.0, 'neu': 0.286, 'pos': 0.714, 'compound': 0.3612}\n",
      "punct_emph_amplifier 0.0\n",
      "pos_sum, neg_sum, neu_count  2.5 0.0 1\n",
      "pos_sum, neg_sum, neu_count 222 2.5 0.0 1\n"
     ]
    }
   ],
   "source": [
    "sentence = 'I like a banana..'\n",
    "ss = sid.polarity_scores(sentence)\n",
    "# for k in sorted(ss):\n",
    "#     print('{0}: {1}, '.format(k, ss[k]), end='')"
   ]
  },
  {
   "cell_type": "code",
   "execution_count": null,
   "metadata": {},
   "outputs": [],
   "source": []
  }
 ],
 "metadata": {
  "kernelspec": {
   "display_name": "Python 3",
   "language": "python",
   "name": "python3"
  },
  "language_info": {
   "codemirror_mode": {
    "name": "ipython",
    "version": 3
   },
   "file_extension": ".py",
   "mimetype": "text/x-python",
   "name": "python",
   "nbconvert_exporter": "python",
   "pygments_lexer": "ipython3",
   "version": "3.7.6"
  },
  "toc": {
   "base_numbering": 1,
   "nav_menu": {},
   "number_sections": true,
   "sideBar": true,
   "skip_h1_title": false,
   "title_cell": "Table of Contents",
   "title_sidebar": "Contents",
   "toc_cell": false,
   "toc_position": {},
   "toc_section_display": true,
   "toc_window_display": true
  }
 },
 "nbformat": 4,
 "nbformat_minor": 4
}
