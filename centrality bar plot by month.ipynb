{
 "cells": [
  {
   "cell_type": "markdown",
   "metadata": {
    "toc": true
   },
   "source": [
    "<h1>Table of Contents<span class=\"tocSkip\"></span></h1>\n",
    "<div class=\"toc\"><ul class=\"toc-item\"></ul></div>"
   ]
  },
  {
   "cell_type": "code",
   "execution_count": 2,
   "metadata": {},
   "outputs": [],
   "source": [
    "import numpy as np\n",
    "import matplotlib\n",
    "import matplotlib.pyplot as plt\n",
    "import pandas as pd\n",
    "from datetime import datetime\n",
    "import scipy.sparse\n"
   ]
  },
  {
   "cell_type": "code",
   "execution_count": 3,
   "metadata": {},
   "outputs": [],
   "source": [
    "df_email = pd.read_csv('output7_new_sentiment.csv',index_col = 0)\n",
    "date_email = pd.to_datetime(df_email['Sent'])\n",
    "month = date_email.dt.month\n",
    "year = date_email.dt.year"
   ]
  },
  {
   "cell_type": "code",
   "execution_count": 4,
   "metadata": {},
   "outputs": [],
   "source": [
    "# seperate months by stage. \n",
    "idxes = []\n",
    "time_labels = []\n",
    "tickcolors = ['green', 'blue', 'red', 'orange']\n",
    "color = tickcolors[0]\n",
    "time_labels_for_tickcolor = {}\n",
    "skip = True # some month in the middle is empty, so I use a skip flag to skip the first several month but keep the middle ones\n",
    "for y in range(2012,2018):\n",
    "    for m in range(1,13):\n",
    "        idx = (year == y) * (month == m)\n",
    "        if idx.sum() == 0 and skip == True:\n",
    "            continue\n",
    "        else:\n",
    "            skip = False\n",
    "            \n",
    "            idxes.append(np.array(idx))\n",
    "            label = str(y)+'.'+str(m)\n",
    "            time_labels.append(label)\n",
    "            time_labels_for_tickcolor[label] = color\n",
    "            if label == '2014.1':\n",
    "                color = tickcolors[1]\n",
    "            elif label == '2014.5':\n",
    "                color = tickcolors[2]\n",
    "            elif label == '2016.2':\n",
    "                color = tickcolors[3]\n",
    "                \n",
    "for i,idx in enumerate(idxes[::-1]): # remove the empty months in the end\n",
    "    if idx.sum() != 0:\n",
    "        break\n",
    "idxes = idxes[:-i]\n",
    "time_labels = time_labels[:-i]"
   ]
  },
  {
   "cell_type": "code",
   "execution_count": null,
   "metadata": {},
   "outputs": [],
   "source": [
    "# read centrality calculations from file. The calculation is done seperately.\n",
    "centrality = np.load('all_email_centrality.npy')\n"
   ]
  },
  {
   "cell_type": "code",
   "execution_count": null,
   "metadata": {},
   "outputs": [],
   "source": [
    "fig, ax1 = plt.subplots(figsize = (15,4))\n",
    "\n",
    "x = centrality[:,13]\n",
    "ax1.spines['right'].set_visible(False)\n",
    "ax1.spines['top'].set_visible(False)\n",
    "ax1.spines['left'].set_visible(False)\n",
    "ax1.spines['bottom'].set_visible(False)\n",
    "ax1.set_title('betweenness centrality and network density', fontsize = 24)\n",
    "ax1.bar(np.arange(len(idxes)), x, label = 'avg centrality', alpha = 0.6, color = 'purple')\n",
    "ax1.legend(loc=2)\n",
    "\n",
    "# set different colors for month labels on x-axis\n",
    "ax1.set_xticks(np.arange(len(idxes)))\n",
    "ax1.set_xticklabels(time_labels, rotation = 90, fontsize = 14)\n",
    "ax1.set_xlabel('time', fontsize = 16)\n",
    "ax1.set_ylabel('avg centrality', color='purple', fontsize = 20)\n",
    "ax1.set_yticks(np.linspace(x.min(), x.max(), 7))\n",
    "ax1.set_ylim(x.min() - 0.01*(x.max()-x.min()), x.max() + 0.01*(x.max()-x.min()))\n",
    "for ticklabel in plt.gca().get_xticklabels():\n",
    "    ticklabel.set_color(time_labels_for_tickcolor[ticklabel.get_text()])\n",
    "ax1.grid(axis = 'y')\n",
    "\n",
    "x = centrality[:,15]\n",
    "ax2 = ax1.twinx()\n",
    "ax2.spines['left'].set_visible(False)\n",
    "ax2.spines['top'].set_visible(False)\n",
    "ax2.spines['bottom'].set_visible(False)\n",
    "ax2.spines['right'].set_visible(False)\n",
    "ax2.spines[\"right\"].set_position((\"axes\", -0.12))\n",
    "ax2.plot(x ,label = 'std centrality', c = 'orange', linewidth = 3, ls = 'dashed')\n",
    "ax2.set_ylabel('std centrality', color='orange', fontsize = 20, x = -1.2, y = 0.5)\n",
    "ax2.yaxis.set_label_coords(-0.14 ,0.5) \n",
    "ax2.set_yticks(np.linspace(x.min(), x.max(), 7))\n",
    "ax2.set_ylim(x.min() - 0.01*(x.max()-x.min()), x.max() + 0.01*(x.max()-x.min()))\n",
    "ax2.legend(loc=2, bbox_to_anchor=(0.0,0.9))\n",
    "\n",
    "x = centrality[:,23]\n",
    "ax3 = ax1.twinx()\n",
    "ax3.spines['right'].set_visible(False)\n",
    "ax3.spines['left'].set_visible(False)\n",
    "ax3.spines['top'].set_visible(False)\n",
    "ax3.spines['bottom'].set_visible(False)\n",
    "ax3.plot(x, label = 'density', c = 'gray', linewidth = 3, alpha = 0.6)\n",
    "ax3.set_ylabel('density', color='gray', fontsize = 20)\n",
    "ax3.set_yticks(np.linspace(x.min(), x.max(), 7))\n",
    "ax3.set_ylim(x.min() - 0.01*(x.max()-x.min()), x.max() + 0.01*(x.max()-x.min()))\n",
    "ax3.legend(loc=1)\n",
    "\n",
    "\n",
    "x = centrality[:,24]\n",
    "ax4 = ax1.twinx()\n",
    "ax4.spines['right'].set_visible(False)\n",
    "ax4.spines['left'].set_visible(False)\n",
    "ax4.spines['top'].set_visible(False)\n",
    "ax4.spines['bottom'].set_visible(False)\n",
    "ax4.spines[\"right\"].set_position((\"axes\", 1.08))\n",
    "ax4.plot(x, label = 'modified density', c = 'black', linewidth = 2, alpha = 0.6)\n",
    "ax4.set_ylabel('modified density', color='black', fontsize = 20, x = 1.2, y = 0.5)\n",
    "ax4.set_yticks(np.linspace(x.min(), x.max(), 7))\n",
    "ax4.set_ylim(x.min() - 0.01*(x.max()-x.min()), x.max() + 0.01*(x.max()-x.min()))\n",
    "ax4.legend(loc=1, bbox_to_anchor=(1.0,0.9))\n",
    "\n",
    "plt.tight_layout()\n",
    "plt.show()"
   ]
  }
 ],
 "metadata": {
  "kernelspec": {
   "display_name": "Python 3",
   "language": "python",
   "name": "python3"
  },
  "language_info": {
   "codemirror_mode": {
    "name": "ipython",
    "version": 3
   },
   "file_extension": ".py",
   "mimetype": "text/x-python",
   "name": "python",
   "nbconvert_exporter": "python",
   "pygments_lexer": "ipython3",
   "version": "3.6.7"
  },
  "toc": {
   "base_numbering": 1,
   "nav_menu": {},
   "number_sections": true,
   "sideBar": true,
   "skip_h1_title": false,
   "title_cell": "Table of Contents",
   "title_sidebar": "Contents",
   "toc_cell": true,
   "toc_position": {},
   "toc_section_display": true,
   "toc_window_display": true
  }
 },
 "nbformat": 4,
 "nbformat_minor": 2
}
