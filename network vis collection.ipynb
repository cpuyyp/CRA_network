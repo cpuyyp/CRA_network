{
 "cells": [
  {
   "cell_type": "markdown",
   "metadata": {
    "toc": true
   },
   "source": [
    "<h1>Table of Contents<span class=\"tocSkip\"></span></h1>\n",
    "<div class=\"toc\"><ul class=\"toc-item\"><li><span><a href=\"#Preprocessing\" data-toc-modified-id=\"Preprocessing-1\"><span class=\"toc-item-num\">1&nbsp;&nbsp;</span>Preprocessing</a></span><ul class=\"toc-item\"><li><span><a href=\"#connection-matrix\" data-toc-modified-id=\"connection-matrix-1.1\"><span class=\"toc-item-num\">1.1&nbsp;&nbsp;</span>connection matrix</a></span></li><li><span><a href=\"#edge-list-and-node/edge-attribute-list\" data-toc-modified-id=\"edge-list-and-node/edge-attribute-list-1.2\"><span class=\"toc-item-num\">1.2&nbsp;&nbsp;</span>edge list and node/edge attribute list</a></span></li></ul></li><li><span><a href=\"#Network-Visualization\" data-toc-modified-id=\"Network-Visualization-2\"><span class=\"toc-item-num\">2&nbsp;&nbsp;</span>Network Visualization</a></span><ul class=\"toc-item\"><li><span><a href=\"#network-parameters\" data-toc-modified-id=\"network-parameters-2.1\"><span class=\"toc-item-num\">2.1&nbsp;&nbsp;</span>network parameters</a></span></li><li><span><a href=\"#network-vis-examples\" data-toc-modified-id=\"network-vis-examples-2.2\"><span class=\"toc-item-num\">2.2&nbsp;&nbsp;</span>network vis examples</a></span><ul class=\"toc-item\"><li><span><a href=\"#network-of-all\" data-toc-modified-id=\"network-of-all-2.2.1\"><span class=\"toc-item-num\">2.2.1&nbsp;&nbsp;</span>network of all</a></span></li><li><span><a href=\"#network-of-key-people\" data-toc-modified-id=\"network-of-key-people-2.2.2\"><span class=\"toc-item-num\">2.2.2&nbsp;&nbsp;</span>network of key people</a></span></li><li><span><a href=\"#network-of-sender-(directed-graph)\" data-toc-modified-id=\"network-of-sender-(directed-graph)-2.2.3\"><span class=\"toc-item-num\">2.2.3&nbsp;&nbsp;</span>network of sender (directed graph)</a></span></li><li><span><a href=\"#network-of-commissioners\" data-toc-modified-id=\"network-of-commissioners-2.2.4\"><span class=\"toc-item-num\">2.2.4&nbsp;&nbsp;</span>network of commissioners</a></span></li></ul></li></ul></li></ul></div>"
   ]
  },
  {
   "cell_type": "code",
   "execution_count": null,
   "metadata": {},
   "outputs": [],
   "source": [
    "import networkx as nx\n",
    "import matplotlib.pyplot as plt\n",
    "import pandas as pd\n",
    "from datetime import datetime\n",
    "import numpy as np\n",
    "import re\n",
    "import pickle\n",
    "from function_library import *\n",
    "from function_library2 import *"
   ]
  },
  {
   "cell_type": "markdown",
   "metadata": {},
   "source": [
    "# Preprocessing"
   ]
  },
  {
   "cell_type": "markdown",
   "metadata": {},
   "source": [
    "## connection matrix"
   ]
  },
  {
   "cell_type": "markdown",
   "metadata": {},
   "source": [
    "Extract information and build connection matrix from the emails. \n",
    "\n",
    "All the network plots are based on such a matrix. Network analysis requires a similar structure to the best of my knowledge.  \n",
    "\n",
    "The rows are the senders and the columns are the receivers. There are 4917 people that appear within the emails, so the connection matrix has dimensions 4917 by 4917. The value of mat[i,j] means the number of emails sent from ith person to jth person. Sometimes this value will be zero.\n",
    "\n",
    "This connection matrix is equivalent to the weighted adjacency matrix in graph theory, but the rows and columns are sorted.\n",
    "\n",
    "[Joey: ] have you tried an SVD of this matrix? What would the results correspond to? Just wondering."
   ]
  },
  {
   "cell_type": "code",
   "execution_count": null,
   "metadata": {},
   "outputs": [],
   "source": [
    "l_to   = fromPickle(\"to_list\")\n",
    "l_from = fromPickle(\"from_list\")\n",
    "l_cc   = fromPickle(\"cc_list\")\n",
    "\n",
    "l_to = standardize_triplet(l_to)\n",
    "l_from = standardize_triplet(l_from)\n",
    "l_cc = standardize_triplet(l_cc)\n",
    "\n",
    "unique_people = set()\n",
    "for i in range(len(l_from)):\n",
    "    unique_people.add(l_from[i])\n",
    "\n",
    "for i in range(len(l_cc)):\n",
    "    for lst in l_cc[i]:\n",
    "        unique_people.add(lst)\n",
    "\n",
    "for i in range(len(l_to)):\n",
    "    for lst in l_to[i]:\n",
    "        unique_people.add(lst)\n",
    "unique_people = list(unique_people)\n",
    "unique_people.sort()\n",
    "name2id, id2name = nameToIndexDict(unique_people)\n",
    "\n",
    "# s2r is sender to recipient\n",
    "s2r = createConnectionMatrix(unique_people, name2id, l_from=l_from, l_to=l_to, l_cc=l_cc)\n",
    "s2r.shape"
   ]
  },
  {
   "cell_type": "code",
   "execution_count": null,
   "metadata": {
    "scrolled": false
   },
   "outputs": [],
   "source": [
    "plot_connection_matrix(s2r, unique_people, sort=True, top=30, figsize=(8,8))"
   ]
  },
  {
   "cell_type": "markdown",
   "metadata": {},
   "source": [
    "[Joey:] Are the columns and/or rows matrix ordered in any particular way? Perhaps they should be.  "
   ]
  },
  {
   "cell_type": "markdown",
   "metadata": {},
   "source": [
    "## edge list and node/edge attribute list"
   ]
  },
  {
   "cell_type": "markdown",
   "metadata": {},
   "source": [
    "Besides the connection/adjacency matrix, another frequent used representation is the edge list of a directed graph. Each edge represents and email. The starting node is the sender; the ending node is the receiver.  \n",
    "[Joey: ] in your mind, imagine how long In[7] would take if you had 10 times the number of people. How would you make the double loop below more efficient? \n",
    "[Joey: ] what does the if statements below represent? Adding a comment would be useful. Learn to comment your code. "
   ]
  },
  {
   "cell_type": "code",
   "execution_count": null,
   "metadata": {},
   "outputs": [],
   "source": [
    "edge_list = []\n",
    "\n",
    "# edge attributes includes: #email from A to B, #email from B to A, #email between A and B\n",
    "edge_attr_list = []\n",
    "for i in range(s2r.shape[0]):\n",
    "    for j in range(i+1, s2r.shape[1]):\n",
    "        # What does this line do? What is its purpose? \n",
    "        if s2r[i,j] + s2r[j,i] > 0:\n",
    "            edge_list.append((unique_people[i], unique_people[j]))\n",
    "            edge_attr_list.append([(i,j),s2r[i,j], s2r[j,i], s2r[i,j] + s2r[j,i]])\n",
    "len(edge_list), len(edge_attr_list)"
   ]
  },
  {
   "cell_type": "code",
   "execution_count": null,
   "metadata": {},
   "outputs": [],
   "source": [
    "# Example of an edge list\n",
    "edge_list[-1]"
   ]
  },
  {
   "cell_type": "code",
   "execution_count": null,
   "metadata": {},
   "outputs": [],
   "source": [
    "node_list = unique_people.copy()\n",
    "\n",
    "# node attributes includes: #email sent, #email received, #email total, #people send, #people received, #people connected\n",
    "node_attr_list = np.zeros((7,s2r.shape[0]))\n",
    "\n",
    "number_of_e_send = np.sum(s2r, axis = 1)\n",
    "number_of_e_receive = np.sum(s2r,axis = 0)\n",
    "number_of_email = number_of_e_send + number_of_e_receive\n",
    "\n",
    "adjacency_mat = s2r>0\n",
    "number_of_p_send = np.sum(adjacency_mat, axis = 1)\n",
    "number_of_p_receive = np.sum(adjacency_mat,axis = 0)\n",
    "number_of_people_connected = number_of_p_send + number_of_p_receive\n",
    "\n",
    "node_attr_list[0,:] = np.arange(len(node_list),dtype=int)\n",
    "node_attr_list[1,:] = number_of_e_send\n",
    "node_attr_list[2,:] = number_of_e_receive\n",
    "node_attr_list[3,:] = number_of_email\n",
    "node_attr_list[4,:] = number_of_p_send # outdegree\n",
    "node_attr_list[5,:] = number_of_p_receive # indegree\n",
    "node_attr_list[6,:] = number_of_people_connected\n"
   ]
  },
  {
   "cell_type": "markdown",
   "metadata": {},
   "source": [
    "Besides the edge list, we can also take advantage of other information and put them on the edge or node. So we can build edge attribute list and node attribute list for further analysis."
   ]
  },
  {
   "cell_type": "code",
   "execution_count": null,
   "metadata": {},
   "outputs": [],
   "source": [
    "df_edge = pd.DataFrame(data=edge_attr_list,columns=['edge', '#email from A to B', '#email from B to A', '#email between A and B'])\n",
    "df_edge.head()\n"
   ]
  },
  {
   "cell_type": "code",
   "execution_count": null,
   "metadata": {},
   "outputs": [],
   "source": [
    "df_node = pd.DataFrame(data=node_attr_list.T.tolist(),columns=['node','#email sent', '#email received', '#email total', 'out degree', 'in degree', '#people connected'])\n",
    "df_node.head()\n",
    "# [Joey: ] What does each row represent? You should describe this."
   ]
  },
  {
   "cell_type": "markdown",
   "metadata": {},
   "source": [
    "# Network Visualization"
   ]
  },
  {
   "cell_type": "markdown",
   "metadata": {},
   "source": [
    "Using python package **networkx**"
   ]
  },
  {
   "cell_type": "code",
   "execution_count": null,
   "metadata": {},
   "outputs": [],
   "source": []
  },
  {
   "cell_type": "markdown",
   "metadata": {},
   "source": [
    "The position of the nodes is calculated by the algorithm. **Edges are considered as springs**. We can change the spring coefficient but not the edge distance directly. The algorithm will automatically find a solution to minimize the system energy.\n",
    "\n",
    "**Therefore, there are two potential problems with it**:\n",
    "- Position calculation is stochastic. Different runs may get different figures\n",
    "- The figure may not be able to reflect its actual property."
   ]
  },
  {
   "cell_type": "code",
   "execution_count": null,
   "metadata": {
    "scrolled": true
   },
   "outputs": [],
   "source": [
    "# an example illustrating the above problems\n",
    "G = nx.Graph()\n",
    "\n",
    "G.add_edge('a','b',weight = 1)\n",
    "G.add_edge('a','c',weight = 1)\n",
    "G.add_edge('a','d',weight = 1)\n",
    "G.add_edge('b','c',weight = 1)\n",
    "G.add_edge('b','d',weight = 1)\n",
    "G.add_edge('c','d',weight = 1)\n",
    "# this is a tetrahedron\n",
    "\n",
    "plt.figure(figsize=(8,4))\n",
    "plt.subplot(1,2,1)\n",
    "pos = nx.spring_layout(G) # recalculating position\n",
    "nx.draw_networkx_nodes(G, pos,node_color = 'black')\n",
    "nx.draw_networkx_edges(G, pos, width=1, edge_color = 'grey')\n",
    "nx.draw_networkx_labels(G, pos, labels={'a':'a','b':'b','c':'c','d':'d'}, font_size=30, font_color='red')\n",
    "\n",
    "plt.subplot(1,2,2)\n",
    "pos = nx.spring_layout(G) # recalculating position\n",
    "nx.draw_networkx_nodes(G, pos,node_color = 'black')\n",
    "nx.draw_networkx_edges(G, pos, width=1, edge_color = 'grey')\n",
    "nx.draw_networkx_labels(G, pos, labels={'a':'a','b':'b','c':'c','d':'d'}, font_size=30, font_color='red')\n",
    "plt.show()"
   ]
  },
  {
   "cell_type": "markdown",
   "metadata": {},
   "source": [
    "## network parameters  \n",
    "Nodes choices:\n",
    "- all nodes\n",
    "- nodes who has more than x emails related  [Joey: what do you mean by \"related\"?]\n",
    "- nodes with more than x emails with at least one another node\n",
    "- active nodes during a specific time\n",
    "\n",
    "Node size option: \n",
    "- number of emails sent/received/related  [Joey: what is \"related\"?]\n",
    "- number of people connected. (similar to the centrality, indegree and outdegree)\n",
    "\n",
    "Edge width option: \n",
    "- number of emails between two people\n",
    "- number of emails sent/received (directed graph)\n",
    "\n",
    "arrow direction option: (directed graph)\n",
    "- if A sent B more than B sent A, then the arrow is from A to B "
   ]
  },
  {
   "cell_type": "markdown",
   "metadata": {},
   "source": [
    "## network vis examples\n",
    "### network of all"
   ]
  },
  {
   "cell_type": "code",
   "execution_count": null,
   "metadata": {
    "scrolled": false
   },
   "outputs": [],
   "source": [
    "plot_network(s2r,id2name)"
   ]
  },
  {
   "cell_type": "markdown",
   "metadata": {},
   "source": [
    "emails: all  \n",
    "nodes: all  \n",
    "node size: number of emails sent and received  \n",
    "edges: all  \n",
    "edge width: number of emails between two nodes  \n",
    "node label: none"
   ]
  },
  {
   "cell_type": "markdown",
   "metadata": {},
   "source": [
    "### network of key people\n"
   ]
  },
  {
   "cell_type": "code",
   "execution_count": null,
   "metadata": {
    "scrolled": false
   },
   "outputs": [],
   "source": [
    "plot_network(s2r,id2name, edge_threshold = 30, draw_labels = True, label_threshold = 1000,iterations = 100, figsize = (15,15))"
   ]
  },
  {
   "cell_type": "markdown",
   "metadata": {},
   "source": [
    "nodes: people redacted according to the constrain on edge [Joey: what constrain? Constraint?]\n",
    "node size: number of emails sent and received  \n",
    "edges: keep edges that has more than 30 communications  [you mean more than 30 emails sent from that node?]\n",
    "edge width: number of emails between two nodes  \n",
    "node label: a node has a label if the peoson has more than 1000 emails related  [Joey: what do you mean by \"related\"]"
   ]
  },
  {
   "cell_type": "markdown",
   "metadata": {},
   "source": [
    "### network of sender (directed graph)"
   ]
  },
  {
   "cell_type": "code",
   "execution_count": null,
   "metadata": {},
   "outputs": [],
   "source": [
    "plot_network(s2r,id2name, directed=True, edge_threshold = 30, draw_labels = True, label_threshold = 1000,iterations = 100, figsize = (15,15))"
   ]
  },
  {
   "cell_type": "markdown",
   "metadata": {},
   "source": [
    "arrow direction: if A sent B more than B sent A, then the arrow is from A to B  \n",
    "others: same as above\n",
    "\n",
    "[Joey: ] For each network, please write some text telling the reader what you have learned from the diagram."
   ]
  },
  {
   "cell_type": "markdown",
   "metadata": {},
   "source": [
    "### network of commissioners"
   ]
  },
  {
   "cell_type": "code",
   "execution_count": null,
   "metadata": {},
   "outputs": [],
   "source": [
    "df = pd.read_csv('new_clean_output.csv',index_col = 0)\n",
    "from_list = df['From'].values.tolist()\n",
    "to_list = df['To'].values.tolist()\n",
    "cc_list = df['CC'].values.tolist()"
   ]
  },
  {
   "cell_type": "code",
   "execution_count": null,
   "metadata": {},
   "outputs": [],
   "source": [
    "namelist= ['Marks','Maddox','Dailey','Desloge','Miller','Mustian','Sauls','Ziffer','Gillum','Maddox','Lindley','Dozier','Proctor','Richardson']\n",
    "for i in range(len(namelist)):\n",
    "    namelist[i] = namelist[i].lower()\n",
    "keep_idx=[]\n",
    "for i in range(len(from_list)):\n",
    "    for name in namelist:\n",
    "#         if name in from_list[i].lower() or name in to_list[i].lower() or name in cc_list[i].lower():\n",
    "        if name in from_list[i].lower():\n",
    "            for name in namelist:\n",
    "                if (name in to_list[i].lower() or name in cc_list[i].lower()):\n",
    "                    keep_idx.append(i)\n",
    "                    break\n",
    "len(keep_idx)"
   ]
  },
  {
   "cell_type": "code",
   "execution_count": null,
   "metadata": {},
   "outputs": [],
   "source": [
    "df_commissioner = df.iloc[keep_idx]\n",
    "df_commissioner.head(3)"
   ]
  },
  {
   "cell_type": "code",
   "execution_count": null,
   "metadata": {},
   "outputs": [],
   "source": [
    "l_to   = fromPickle(\"to_list\")\n",
    "l_from = fromPickle(\"from_list\")\n",
    "l_cc   = fromPickle(\"cc_list\")\n",
    "\n",
    "l_to2 = np.array(l_to)[keep_idx].tolist()\n",
    "l_from2 = np.array(l_from)[keep_idx].tolist()\n",
    "l_cc2 = np.array(l_cc)[keep_idx].tolist()\n",
    "\n",
    "l_to2 = standardize_triplet(l_to2)\n",
    "l_from2 = standardize_triplet(l_from2)\n",
    "l_cc2 = standardize_triplet(l_cc2)\n",
    "\n",
    "\n",
    "unique_people = set()\n",
    "for i in range(len(l_from2)):\n",
    "    unique_people.add(l_from2[i])\n",
    "\n",
    "for i in range(len(l_cc2)):\n",
    "    for lst in l_cc2[i]:\n",
    "        unique_people.add(lst)\n",
    "\n",
    "for i in range(len(l_to2)):\n",
    "    for lst in l_to2[i]:\n",
    "        unique_people.add(lst)\n",
    "unique_people = list(unique_people)\n",
    "unique_people.sort()\n",
    "name2id, id2name = nameToIndexDict(unique_people)\n",
    "\n",
    "# s2r is sender to recipient\n",
    "s2r = createConnectionMatrix(unique_people, name2id, l_from=l_from2, l_to=l_to2, l_cc=l_cc2)\n",
    "s2r.shape"
   ]
  },
  {
   "cell_type": "code",
   "execution_count": null,
   "metadata": {},
   "outputs": [],
   "source": [
    "plot_network(s2r,id2name, directed = False, edge_threshold = 1, node_w = 'total', draw_labels = True, label_threshold = 10,iterations = 100, figsize=(15,15))\n"
   ]
  },
  {
   "cell_type": "markdown",
   "metadata": {},
   "source": [
    "emails: emails between commissioner  \n",
    "nodes: people redacted according to the constrain on edge   \n",
    "node size: number of emails sent and received  \n",
    "edges: keep edges that has more than 1 communications  \n",
    "edge width: number of emails between two nodes  \n",
    "node label: a node has lable if the peoson has more than 10 emails related\n",
    "\n",
    "[Joey: ] What do you learn form this network? "
   ]
  },
  {
   "cell_type": "code",
   "execution_count": null,
   "metadata": {},
   "outputs": [],
   "source": []
  }
 ],
 "metadata": {
  "kernelspec": {
   "display_name": "Python 3",
   "language": "python",
   "name": "python3"
  },
  "language_info": {
   "codemirror_mode": {
    "name": "ipython",
    "version": 3
   },
   "file_extension": ".py",
   "mimetype": "text/x-python",
   "name": "python",
   "nbconvert_exporter": "python",
   "pygments_lexer": "ipython3",
   "version": "3.7.6"
  },
  "toc": {
   "base_numbering": 1,
   "nav_menu": {},
   "number_sections": true,
   "sideBar": false,
   "skip_h1_title": false,
   "title_cell": "Table of Contents",
   "title_sidebar": "Contents",
   "toc_cell": true,
   "toc_position": {
    "height": "404px",
    "left": "21px",
    "top": "292px",
    "width": "165px"
   },
   "toc_section_display": true,
   "toc_window_display": true
  }
 },
 "nbformat": 4,
 "nbformat_minor": 2
}
