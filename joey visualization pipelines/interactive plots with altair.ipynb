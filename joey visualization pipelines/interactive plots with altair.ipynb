{
 "cells": [
  {
   "cell_type": "code",
   "execution_count": 1,
   "metadata": {},
   "outputs": [],
   "source": [
    "import numpy as np\n",
    "import networkx as nx\n",
    "import matplotlib\n",
    "import matplotlib.pyplot as plt\n",
    "import matplotlib.colors as mcolors\n",
    "import pandas as pd\n",
    "from datetime import datetime\n",
    "from tqdm.notebook import tqdm,trange\n",
    "import warnings\n",
    "import logging\n",
    "import scipy.sparse\n",
    "import altair as alt\n",
    "import json\n",
    "import os\n",
    "alt.data_transformers.disable_max_rows()\n",
    "warnings.filterwarnings(\"ignore\") \n",
    "logging.getLogger('matplotlib.font_manager').disabled = True"
   ]
  },
  {
   "cell_type": "code",
   "execution_count": 2,
   "metadata": {},
   "outputs": [],
   "source": [
    "def createZoomableBarChart(df, X, Y, selection, title = '',zoom_encodings = ['x'], top = 100, figsize = (500, 200)):\n",
    "    '''\n",
    "    create an interactive bar chart\n",
    "    \n",
    "    \n",
    "    '''\n",
    "    \n",
    "    brush = alt.selection(type=\"interval\", encodings=zoom_encodings)\n",
    "\n",
    "    base = alt.Chart(df, title=\"Select a range in the base view below\").mark_bar().encode(x=alt.X( X+':O', sort='-y'),\n",
    "        y=Y+':Q'\n",
    "    ).add_selection(\n",
    "        brush\n",
    "    ).transform_filter(\n",
    "        selection\n",
    "    ).properties(\n",
    "        width=figsize[0],\n",
    "        height=figsize[1]*0.1\n",
    "    )\n",
    "\n",
    "    zoomed = alt.Chart(df, title=title).mark_bar().add_selection(\n",
    "        selection\n",
    "    ).transform_filter(\n",
    "        selection\n",
    "    ).transform_filter(\n",
    "        brush\n",
    "    ).encode(x=alt.X(X+':O', sort='-y'),\n",
    "        y=Y+':Q',\n",
    "        tooltip=[X, Y]\n",
    "    ).properties(\n",
    "        width=figsize[0],\n",
    "        height=figsize[1]*0.9\n",
    "    )\n",
    "\n",
    "    if top:\n",
    "        base.transform_window(\n",
    "            rank='rank('+Y+')',\n",
    "            sort=[alt.SortField(Y, order='descending')]\n",
    "        ).transform_filter(\n",
    "            (alt.datum.rank < top)\n",
    "        )\n",
    "        zoomed.transform_window(\n",
    "            rank='rank('+Y+')',\n",
    "            sort=[alt.SortField(Y, order='descending')]\n",
    "        ).transform_filter(\n",
    "            (alt.datum.rank < top)\n",
    "        )\n",
    "\n",
    "    chart = zoomed & base\n",
    "\n",
    "    return chart\n"
   ]
  },
  {
   "cell_type": "code",
   "execution_count": 3,
   "metadata": {},
   "outputs": [],
   "source": [
    "def build_centrality_dfs(centrality_folder, cra_comm_idx_list, government_idx_list, num_period, by = 'month'):\n",
    "    df_cra_comm = pd.DataFrame()\n",
    "    df_gov = pd.DataFrame()\n",
    "    df_other = pd.DataFrame()\n",
    "    \n",
    "    ALPHA = [1]\n",
    "    centrality_names = ['betweenness', 'closeness', 'degree']\n",
    "    for k in range(num_period):\n",
    "        for centrality_name in centrality_names:\n",
    "            for alpha in ALPHA:\n",
    "                df_temp = pd.DataFrame()\n",
    "                df_temp['name'] = unique_people\n",
    "                infile = centrality_folder+by+'_'+str(k)+'_alpha_'+str(alpha)+'_'+centrality_name+'.npz'\n",
    "                if os.path.exists(infile):\n",
    "                    sparse_matrix = scipy.sparse.load_npz(infile)\n",
    "                    dense = np.asarray(sparse_matrix.todense()).reshape(-1)\n",
    "                else:\n",
    "                    dense = np.zeros(len(unique_people))\n",
    "                df_temp['value'] = dense\n",
    "                df_temp['centrality_name'] = centrality_name\n",
    "                df_temp['period'] = k\n",
    "                df_temp['alpha'] = alpha\n",
    "                df_cra_temp = df_temp.iloc[cra_comm_idx_list]\n",
    "                df_cra_comm = df_cra_comm.append(df_cra_temp.nlargest(100, ['value']))\n",
    "                df_gov_temp = df_temp.iloc[government_idx_list]\n",
    "                df_gov = df_gov.append(df_gov_temp.nlargest(100, ['value']))\n",
    "                df_other_temp = df_temp.iloc[~df_temp.index.isin(cra_comm_idx_list)&~df_temp.index.isin(government_idx_list)]\n",
    "                df_other = df_other.append(df_other_temp.nlargest(100, ['value']))\n",
    "    return df_cra_comm, df_gov, df_other"
   ]
  },
  {
   "cell_type": "markdown",
   "metadata": {},
   "source": [
    "# load all necessary list"
   ]
  },
  {
   "cell_type": "code",
   "execution_count": 4,
   "metadata": {},
   "outputs": [],
   "source": [
    "with open('unique_people.txt', 'r', encoding = 'utf-8') as f:\n",
    "    unique_people = f.read().splitlines()"
   ]
  },
  {
   "cell_type": "code",
   "execution_count": 5,
   "metadata": {},
   "outputs": [],
   "source": [
    "with open('cra_idx_list.txt', encoding = 'utf-8') as f:\n",
    "    cra_idx_list = f.read().splitlines()\n",
    "with open('commissioner_idx_list.txt', encoding = 'utf-8') as f:\n",
    "    commissioner_idx_list = f.read().splitlines()\n",
    "cra_comm_idx_list = cra_idx_list + commissioner_idx_list"
   ]
  },
  {
   "cell_type": "code",
   "execution_count": 6,
   "metadata": {},
   "outputs": [],
   "source": [
    "with open('government_idx_list.txt', encoding = 'utf-8') as f:\n",
    "    government_idx_list = f.read().splitlines()"
   ]
  },
  {
   "cell_type": "code",
   "execution_count": 7,
   "metadata": {},
   "outputs": [],
   "source": [
    "centrality_folder = './centrality_weighted_05072022/'\n",
    "num_period = 4\n",
    "by = 'stage'\n",
    "df_cra_comm, df_gov, df_other = build_centrality_dfs(centrality_folder, cra_comm_idx_list, government_idx_list, num_period, by = by)"
   ]
  },
  {
   "cell_type": "code",
   "execution_count": 8,
   "metadata": {},
   "outputs": [],
   "source": [
    "# create a reusable selection object, use in three chart\n",
    "centrality_options = df_cra_comm[\"centrality_name\"].unique().tolist()\n",
    "dropdown = alt.binding_select(options=centrality_options)\n",
    "slider1 = alt.binding_range(min=0, max=max(df_cra_comm[\"period\"]), step=1)\n",
    "\n",
    "selection = alt.selection_single(\n",
    "    fields=['centrality_name', \"period\"],\n",
    "    bind={'centrality_name': dropdown, 'period': slider1},\n",
    "    name=\"Select?\",\n",
    "    init={\"centrality_name\": \"betweenness\", \"period\": 0}\n",
    ")"
   ]
  },
  {
   "cell_type": "code",
   "execution_count": 9,
   "metadata": {},
   "outputs": [],
   "source": [
    "cra_comm_chart = createZoomableBarChart(df_cra_comm, X='name',Y='value', selection=selection, title = 'Top 100 CRA&Comm nodes with highest centrality')\n",
    "gov_chart = createZoomableBarChart(df_gov, X='name',Y='value', selection=selection, title = 'Top 100 Gov nodes with highest centrality')\n",
    "others_chart = createZoomableBarChart(df_other, X='name',Y='value', selection=selection, title = 'Top 100 others nodes with highest centrality ')"
   ]
  },
  {
   "cell_type": "code",
   "execution_count": 10,
   "metadata": {},
   "outputs": [],
   "source": [
    "cra_comm_chart.save('cra_comm_centrality_by_stage.html')\n",
    "gov_chart.save('gov_centrality_by_stage.html')\n",
    "others_chart.save('others_centrality_by_stage.html')"
   ]
  },
  {
   "cell_type": "code",
   "execution_count": null,
   "metadata": {},
   "outputs": [],
   "source": []
  },
  {
   "cell_type": "code",
   "execution_count": 11,
   "metadata": {},
   "outputs": [],
   "source": [
    "centrality_folder = './centrality_weighted_05072022/'\n",
    "num_period = 110\n",
    "by = 'month'\n",
    "df_cra_comm, df_gov, df_other = build_centrality_dfs(centrality_folder, cra_comm_idx_list, government_idx_list, num_period, by = by)"
   ]
  },
  {
   "cell_type": "code",
   "execution_count": 12,
   "metadata": {},
   "outputs": [],
   "source": [
    "# create a reusable selection object, use in three chart\n",
    "centrality_options = df_cra_comm[\"centrality_name\"].unique().tolist()\n",
    "dropdown = alt.binding_select(options=centrality_options)\n",
    "slider1 = alt.binding_range(min=0, max=max(df_cra_comm[\"period\"]), step=1)\n",
    "\n",
    "selection = alt.selection_single(\n",
    "    fields=['centrality_name', \"period\"],\n",
    "    bind={'centrality_name': dropdown, 'period': slider1},\n",
    "    name=\"Select?\",\n",
    "    init={\"centrality_name\": \"betweenness\", \"period\": 0}\n",
    ")"
   ]
  },
  {
   "cell_type": "code",
   "execution_count": 13,
   "metadata": {},
   "outputs": [],
   "source": [
    "cra_comm_chart = createZoomableBarChart(df_cra_comm, X='name',Y='value', selection=selection, title = 'Top 100 CRA&Comm nodes with highest centrality')\n",
    "gov_chart = createZoomableBarChart(df_gov, X='name',Y='value', selection=selection, title = 'Top 100 Gov nodes with highest centrality')\n",
    "others_chart = createZoomableBarChart(df_other, X='name',Y='value', selection=selection, title = 'Top 100 others nodes with highest centrality ')"
   ]
  },
  {
   "cell_type": "code",
   "execution_count": 14,
   "metadata": {},
   "outputs": [],
   "source": [
    "cra_comm_chart.save('cra_comm_centrality_by_month.html')\n",
    "gov_chart.save('gov_centrality_by_month.html')\n",
    "others_chart.save('others_centrality_by_month.html')"
   ]
  },
  {
   "cell_type": "code",
   "execution_count": null,
   "metadata": {},
   "outputs": [],
   "source": []
  }
 ],
 "metadata": {
  "kernelspec": {
   "display_name": "Python 3",
   "language": "python",
   "name": "python3"
  },
  "language_info": {
   "codemirror_mode": {
    "name": "ipython",
    "version": 3
   },
   "file_extension": ".py",
   "mimetype": "text/x-python",
   "name": "python",
   "nbconvert_exporter": "python",
   "pygments_lexer": "ipython3",
   "version": "3.7.6"
  }
 },
 "nbformat": 4,
 "nbformat_minor": 4
}
