{
 "cells": [
  {
   "cell_type": "markdown",
   "metadata": {},
   "source": [
    "**Required output_attr_stats.csv, 1 cra city commisioner.xlsx, and emails-combine 06162020.xlsx**   \n",
    "**Generates unique_people.txt, commissioner_dict.json, cra_dict.json, gorvenment_people_list.txt** \n",
    "**Generates commissioner_idx_list.txt, cra_idx_list.txt, government_idx_list.txt** \n",
    "\n"
   ]
  },
  {
   "cell_type": "code",
   "execution_count": 1,
   "metadata": {},
   "outputs": [],
   "source": [
    "import csv\n",
    "import pandas as pd\n",
    "from tqdm import tqdm_notebook, tnrange\n",
    "from datetime import datetime\n",
    "import numpy as np\n",
    "import json"
   ]
  },
  {
   "cell_type": "code",
   "execution_count": 3,
   "metadata": {},
   "outputs": [],
   "source": [
    "df = pd.read_csv('output_attr_stats.csv')\n",
    "length = len(df)"
   ]
  },
  {
   "cell_type": "markdown",
   "metadata": {},
   "source": [
    "**updates 04-03-2022 from Yijia: use 3 cra and city commisioner_202203.xlsx instead of 1 cra and city commisioner.xlsx**"
   ]
  },
  {
   "cell_type": "code",
   "execution_count": 4,
   "metadata": {},
   "outputs": [],
   "source": [
    "df_commissioner = pd.read_excel('1 cra and city commisioner.xlsx', 'city commissioner', usecols = 'A:C')\n",
    "df_commissioner['First'] = df_commissioner['First'].str.strip().str.lower()\n",
    "df_commissioner['Last'] = df_commissioner['Last'].str.lower().str.strip()"
   ]
  },
  {
   "cell_type": "code",
   "execution_count": 5,
   "metadata": {},
   "outputs": [],
   "source": [
    "df_cra = pd.read_excel('1 cra and city commisioner.xlsx', 'CRA part', usecols = 'A:C')\n",
    "df_cra.iloc[2]['First'] = 'bryan'\n",
    "df_cra.iloc[5]['First'] = 'jane'\n",
    "df_cra['First'] = df_cra['First'].str.lower().str.strip()\n",
    "df_cra['Last'] = df_cra['Last'].str.lower().str.strip()"
   ]
  },
  {
   "cell_type": "markdown",
   "metadata": {},
   "source": [
    "# Collect all unique people"
   ]
  },
  {
   "cell_type": "code",
   "execution_count": 6,
   "metadata": {},
   "outputs": [],
   "source": [
    "def get_people_list(from_list, to_list, cc_list):\n",
    "    '''\n",
    "    Collect all unique people\n",
    "    \n",
    "    from_list: list of senders\n",
    "    to_list: list of recipients, ';' seperated\n",
    "    cc_list: list of cc recipients, ';' seperated\n",
    "    return: unique_people: a people list in alphabetical order\n",
    "    '''\n",
    "    unique_people = set()\n",
    "    for i in range(len(from_list)):\n",
    "        if not pd.isnull(from_list[i]):\n",
    "            unique_people.add(from_list[i])\n",
    "\n",
    "    for i in range(len(to_list)):\n",
    "        if not pd.isnull(to_list[i]):\n",
    "            for lst in to_list[i].split(';'):\n",
    "                unique_people.add(lst)\n",
    "                \n",
    "    for i in range(len(cc_list)):\n",
    "        if not pd.isnull(cc_list[i]):\n",
    "            for lst in cc_list[i].split(';'):\n",
    "                unique_people.add(lst)\n",
    "\n",
    "    unique_people = sorted(list(unique_people))\n",
    "    return unique_people"
   ]
  },
  {
   "cell_type": "code",
   "execution_count": 7,
   "metadata": {},
   "outputs": [],
   "source": [
    "from_list = df['From'].values.tolist()\n",
    "to_list = df['To'].values.tolist()\n",
    "cc_list = df['CC'].values.tolist()\n",
    "unique_people = get_people_list(from_list, to_list, cc_list)"
   ]
  },
  {
   "cell_type": "code",
   "execution_count": 8,
   "metadata": {},
   "outputs": [],
   "source": [
    "with open('unique_people.txt', 'w', encoding='utf-8') as f:\n",
    "    for line in unique_people:\n",
    "        f.write(f\"{line}\\n\")"
   ]
  },
  {
   "cell_type": "markdown",
   "metadata": {},
   "source": [
    "# Manually find correct names\n",
    "## select person from df_cra and df_commisioner one by one, by change .iloc\\[i\\], choose the right name and put it into to cra_list or commissioner_list"
   ]
  },
  {
   "cell_type": "code",
   "execution_count": 9,
   "metadata": {},
   "outputs": [
    {
     "name": "stdout",
     "output_type": "stream",
     "text": [
      "First                      john\n",
      "Last                      marks\n",
      "Email     john.marks@talgov.com\n",
      "Name: 6, dtype: object\n",
      "john.marks@talgov.com\n",
      "john.marks@tallgov.com\n",
      "john.marksiii@talgov.com\n",
      "john.markslll@talgov.com\n",
      "johnmarks\n",
      "johnmarksiii\n",
      "johnmarksiii@talgov.com\n",
      "marksj@talgov.com\n",
      "marksjohn\n",
      "mayorjohnmarks\n"
     ]
    }
   ],
   "source": [
    "# must iterate one by one, by hand\n",
    "target_person = df_commissioner.iloc[6]\n",
    "# target_person = df_cra.iloc[10]\n",
    "first = target_person['First']\n",
    "last = target_person['Last']\n",
    "print(target_person)\n",
    "for i in range(len(unique_people)):\n",
    "    if pd.isnull(target_person['Email']):\n",
    "        if first+last in unique_people[i] \\\n",
    "            or last+first in unique_people[i] \\\n",
    "            or last+first[0] in unique_people[i] \\\n",
    "            or first[0]+last in unique_people[i] \\\n",
    "            or last+'.'+first in unique_people[i] \\\n",
    "            or first+'.'+last in unique_people[i] \\\n",
    "            or first+'_'+last in unique_people[i]:\n",
    "            print(unique_people[i])            \n",
    "    else:\n",
    "        if first+last in unique_people[i] \\\n",
    "            or last+first in unique_people[i] \\\n",
    "            or last+first[0] in unique_people[i] \\\n",
    "            or first[0]+last in unique_people[i] \\\n",
    "            or last+'.'+first in unique_people[i] \\\n",
    "            or first+'.'+last in unique_people[i] \\\n",
    "            or first+'_'+last in unique_people[i] \\\n",
    "            or target_person['Email'] in unique_people[i]:\n",
    "            print(unique_people[i])"
   ]
  },
  {
   "cell_type": "code",
   "execution_count": 10,
   "metadata": {},
   "outputs": [
    {
     "name": "stdout",
     "output_type": "stream",
     "text": [
      "frank@themayernickgroup.com\n",
      "marvmayer@gmail.com\n",
      "mayernickfrank\n",
      "tracy@themayernickgroup.com\n"
     ]
    }
   ],
   "source": [
    "for i in range(len(unique_people)):\n",
    "    if 'mayer' in unique_people[i]:\n",
    "        print(unique_people[i])"
   ]
  },
  {
   "cell_type": "markdown",
   "metadata": {},
   "source": [
    "**The following two lists are manually identified using the above cell, according to the file 1 cra and city commisioner.xlsx**"
   ]
  },
  {
   "cell_type": "code",
   "execution_count": 11,
   "metadata": {},
   "outputs": [],
   "source": [
    "commissioner_dict = {}\n",
    "commissioner_dict['scottmaddox'] = ['allieflemingforscottmaddox',\n",
    "                                    'maddoxscos',\n",
    "                                    'maddoxscoy',\n",
    "                                    'maddoxscott',\n",
    "                                    'scofcharlesmaddox',\n",
    "                                    'scofcharlesmaddox@gmail.com',\n",
    "                                    'scott.maddox=talgov.com@mail13.us2.mcsv.net',\n",
    "                                    'scott.maddox=talgov.com@mail24.wdc03.rsgsv.net',\n",
    "                                    'scott.maddox=talgov.com@mail65.atl11.rsgsv.net',\n",
    "                                    'scott.maddox@talgov.com',\n",
    "                                    'scott.maddox@tallgov.com',\n",
    "                                    'scott@scottmaddox.com',\n",
    "                                    'scott@scottmaddox.com>',\n",
    "                                    'scott@scottmaddox2012.com',\n",
    "                                    'scottcharlesmaddox',\n",
    "                                    'scottcharlesmaddox@gmail.com',\n",
    "                                    'scottmaddox',\n",
    "                                    'scottmaddox2012@g1nail.com',\n",
    "                                    'scottmaddox2012@gmail.com',\n",
    "                                    'scottmaddox@scottmaddox.com',\n",
    "                                    'scottmaddoxemail',\n",
    "                                    'scottmaddoxscott',\n",
    "                                    'scoi.maddox@talgov.com',\n",
    "                                    'maddox@maddoxhorne.com',\n",
    "                                    'scott@govinc.net',\n",
    "                                    'shamaddox@embarqmail.com',\n",
    "                                    'scof.maddox@talgov.com',\n",
    "                                    'scos.maddox@talgov.com',\n",
    "                                    'shamaddox',\n",
    "                                    ]\n",
    "\n",
    "commissioner_dict['andrewgillum'] = ['agillum@pfaw.org',\n",
    "                                    'andrew.gillum@tagov.com',\n",
    "                                    'andrew.gillum@talgov.com',\n",
    "                                    'andrew.gillum@tallgov.com',\n",
    "                                    'andrew@andrewgillum.com',\n",
    "                                    'andrewgillum',\n",
    "                                    'andrewgillum@talgov.com',\n",
    "                                    'andrewgillumandrew',\n",
    "                                    'andrewgillumcampaign',\n",
    "                                    'gillumandrew',\n",
    "                                    'info@andrewgillum.com',\n",
    "                                    'gilluma@gmail.com',\n",
    "                                    'gilluma@talgov.com',\n",
    "                                    'andrewgilliam',\n",
    "                                    'andrewgillium',\n",
    "                                    'andrewgillams', \n",
    "                                    ]\n",
    "\n",
    "commissioner_dict['markmustian'] = ['mark.mustian@talgov.com',\n",
    "                                    'mark@markmustian.com',\n",
    "                                    'markmustian',\n",
    "                                    'mmustian@ngn-tally.com',\n",
    "                                    'mmustian@ngnlaw.com',\n",
    "                                    'mustianmark',\n",
    "                                   ]\n",
    "commissioner_dict['gilziffer'] = ['gil.ziffer@talgov.co',\n",
    "                                    'gil.ziffer@talgov.com',\n",
    "                                    'gil.ziffer@tallgov.com',\n",
    "                                    'gilziffer',\n",
    "                                    'gilziffer@talgov.com',\n",
    "                                    'gilziffergil',\n",
    "                                    'ziffergil',\n",
    "                                    'gil@ziffberry.com'\n",
    "                                    ]\n",
    "commissioner_dict['curtisrichardson'] = ['curtis.richardson@talgov.com',\n",
    "                                         'curtisrichardson',\n",
    "                                         'richardsoncurtis',\n",
    "                                         'ultisrichardson',\n",
    "                                         'cabaide@aol.com',\n",
    "                                         ]\n",
    "\n",
    "# commissioner_dict['nancymiller'] = ['millernancy',\n",
    "#                                     'millernancyrick',\n",
    "#                                     'nancy.miller@talgov.co',\n",
    "#                                     'nancy.miller@talgov.com',\n",
    "#                                     'nancy.miller@talgov.com>',\n",
    "#                                     'nancy.miller@tallgov.com',\n",
    "#                                     'nancymiller',\n",
    "#                                     'nancymillernancy',\n",
    "#                                     'temnancymiller',\n",
    "#                                    ]\n",
    "\n",
    "commissioner_dict['johnmarks'] = ['john.marks@talgov.com',\n",
    "                                'john.marks@tallgov.com',\n",
    "                                'john.marksiii@talgov.com',\n",
    "                                'john.markslll@talgov.com',\n",
    "                                'johnmarks',\n",
    "                                'johnmarksiii',\n",
    "                                'johnmarksiii@talgov.com',\n",
    "                                'marksj@talgov.com',\n",
    "                                'marksjohn',\n",
    "                                'mayorjohnmarks',\n",
    "                                 ]\n",
    "\n",
    "commissioner_list = []\n",
    "for v in commissioner_dict.values():\n",
    "    commissioner_list += v"
   ]
  },
  {
   "cell_type": "code",
   "execution_count": 12,
   "metadata": {},
   "outputs": [],
   "source": [
    "cra_dict = {}\n",
    "cra_dict['johndailey'] = ['daileyj@leoncountyfl.gov',\n",
    "                            'daileyj@leoncountygl.gov',\n",
    "                            'daileyjgov',\n",
    "                            'daileyjohn',\n",
    "                            'john_dailey@comcast.net',\n",
    "                            'johndailey',\n",
    "                            'johndailey@leoncountyfl.gov',\n",
    "                         ]\n",
    "cra_dict['bryandesloge'] = ['bdesloge@icloud.com',\n",
    "                            'bryandesloge',\n",
    "                            'desloge.bryan@gmail.com',\n",
    "                            'deslogeb@leoncountyfl.gov',\n",
    "                            'deslogeb@leoncountyﬂ.gov',\n",
    "                            'deslogebryan',\n",
    "                            'deslogebryan@leoncountyfl.gov',\n",
    "                            'bryan@deslogemedical.com',\n",
    "                           ]\n",
    "\n",
    "# 04-03-2022 updates from Yijia. Remove jessicamiller, move nancymiller from commissioner into cra list\n",
    "\n",
    "# cra_dict['jessicamiller'] = ['jessica.miller@talgov.com',\n",
    "#                             'jessica.miller@talgov.com>',\n",
    "#                             'jessicamiller',\n",
    "#                             'jmiller@kidsincorporated.org',\n",
    "#                             'jmiller@talchamber.com',\n",
    "#                             ]\n",
    "cra_dict['nancymiller'] = ['millernancy',\n",
    "                            'millernancyrick',\n",
    "                            'nancy.miller@talgov.co',\n",
    "                            'nancy.miller@talgov.com',\n",
    "                            'nancy.miller@talgov.com>',\n",
    "                            'nancy.miller@tallgov.com',\n",
    "                            'nancymiller',\n",
    "                            'nancymillernancy',\n",
    "                            'temnancymiller',\n",
    "                           ]\n",
    "\n",
    "cra_dict['janesauls'] = ['janesauls',\n",
    "                        'saulsj@leoncountyfl.gov',\n",
    "                        'saulsj@mail.co.leon.fl.us',\n",
    "                        ]\n",
    "\n",
    "cra_dict['nickmaddox'] = ['maddoxn@leoncountyfl.com',\n",
    "                            'maddoxn@leoncountyfl.gov',\n",
    "                            'maddoxn@leoncountyﬂ.gov',\n",
    "                            'maddoxnick',\n",
    "                            'nick.maddox@talgov.com',\n",
    "                            'nickmaddox',\n",
    "                            'maddox.nicholas@gmail.com',\n",
    "                         ]\n",
    "\n",
    "cra_dict['lindleymary'] = ['lindleym@leoncountyﬂ.gov',\n",
    "                            'lindleymaryann',\n",
    "                            'lindleym@leoncountyfl.gov',\n",
    "                            'marylindley',\n",
    "                         ]\n",
    "\n",
    "cra_dict['kristindozer'] = ['dozierk',\n",
    "                            'dozierk@leoncountyﬂ.gov',\n",
    "                            'dozierkristin',\n",
    "                            'kristindozier@gmail.com',\n",
    "                            'kristindozer',\n",
    "                            'dozierk@leoncountyfl.gov',\n",
    "                            'kristindozier',\n",
    "                            'kdozier@maddogweb.com',\n",
    "                            'kristindozier@gmail.com',\n",
    "                           ]\n",
    "\n",
    "cra_dict['billproctor'] = ['bill.proctor@talgov.com',\n",
    "                            'proctorb@leoncounty.fl.gov',\n",
    "                            'proctorb@leoncountyfl.com',\n",
    "                            'proctorb@leoncountyﬂ.gov',\n",
    "                            'proctorbgov',\n",
    "                            'proctorbill',\n",
    "                            'proctorb@leoncountyfl.gov',\n",
    "                            'billproctor',\n",
    "                           ]\n",
    "\n",
    "cra_list = []\n",
    "for v in cra_dict.values():\n",
    "    cra_list += v"
   ]
  },
  {
   "cell_type": "code",
   "execution_count": 13,
   "metadata": {},
   "outputs": [],
   "source": [
    "with open('commissioner_dict.json', 'w') as f:\n",
    "    json.dump(commissioner_dict, f)\n",
    "with open('cra_dict.json', 'w') as f:\n",
    "    json.dump(cra_dict, f)"
   ]
  },
  {
   "cell_type": "code",
   "execution_count": 14,
   "metadata": {},
   "outputs": [],
   "source": [
    "with open('unique_people.txt', encoding = 'utf-8') as f:\n",
    "    unique_people = f.read().splitlines()"
   ]
  },
  {
   "cell_type": "code",
   "execution_count": 15,
   "metadata": {},
   "outputs": [],
   "source": [
    "cra_idx_list = []\n",
    "for i,people in enumerate(unique_people):\n",
    "    if people in cra_list:\n",
    "        cra_idx_list.append(i)\n",
    "commissioner_idx_list = []\n",
    "for i,people in enumerate(unique_people):\n",
    "    if people in commissioner_list:\n",
    "        commissioner_idx_list.append(i)"
   ]
  },
  {
   "cell_type": "code",
   "execution_count": 16,
   "metadata": {},
   "outputs": [],
   "source": [
    "with open('cra_idx_list.txt', 'w', encoding='utf-8') as f:\n",
    "    for line in cra_idx_list:\n",
    "        f.write(f\"{line}\\n\")\n",
    "with open('commissioner_idx_list.txt', 'w', encoding='utf-8') as f:\n",
    "    for line in commissioner_idx_list:\n",
    "        f.write(f\"{line}\\n\")"
   ]
  },
  {
   "cell_type": "markdown",
   "metadata": {},
   "source": [
    "# collect gov people (not useful for Yijia)"
   ]
  },
  {
   "cell_type": "code",
   "execution_count": 17,
   "metadata": {},
   "outputs": [
    {
     "name": "stdout",
     "output_type": "stream",
     "text": [
      "130\n"
     ]
    }
   ],
   "source": [
    "df_org=pd.read_excel('emails-combine 06162020.xlsx',sheet_name=0,usecols=[1,2,3,15,19,23])\n",
    "gorvenment_people_list = []\n",
    "for i in range(len(df_org)):\n",
    "    row = df_org.iloc[i]\n",
    "    if pd.isnull(row['First']):\n",
    "        continue\n",
    "    first = str(row['First']).lower().strip()\n",
    "    last = str(row['Last']).lower().strip()\n",
    "    if pd.isnull(row['Email']):\n",
    "        email = first + last\n",
    "        \n",
    "    else:\n",
    "        email = row['Email'].lower().strip()\n",
    "    if row['Organization1'] is not np.nan:\n",
    "        if 'Tallahassee' in row['Organization1'] or 'Leon County' in row['Organization1']:\n",
    "            gorvenment_people_list.append( (first, last, email) )\n",
    "            continue\n",
    "    if row['Organization 2'] is not np.nan:\n",
    "        if 'Tallahassee' in row['Organization 2'] or 'Leon County' in row['Organization 2']:\n",
    "            gorvenment_people_list.append( (first, last, email) )\n",
    "            continue\n",
    "    if row['Organization 3'] is not np.nan:\n",
    "        if 'Tallahassee' in row['Organization 3'] or 'Leon County' in row['Organization 3']:\n",
    "            gorvenment_people_list.append( (first, last, email) )\n",
    "            continue\n",
    "print(len(gorvenment_people_list))"
   ]
  },
  {
   "cell_type": "code",
   "execution_count": 18,
   "metadata": {},
   "outputs": [],
   "source": [
    "# each person is still a triple, be careful\n",
    "with open('gorvenment_people_list.txt', 'w', encoding='utf-8') as f:\n",
    "    for line in gorvenment_people_list:\n",
    "        f.write(f\"{line}\\n\")"
   ]
  },
  {
   "cell_type": "code",
   "execution_count": 19,
   "metadata": {},
   "outputs": [
    {
     "data": {
      "text/plain": [
       "1325"
      ]
     },
     "execution_count": 19,
     "metadata": {},
     "output_type": "execute_result"
    }
   ],
   "source": [
    "government_list = []\n",
    "government_idx_list = []\n",
    "for i,people in enumerate(unique_people):\n",
    "    for j,people2 in enumerate(gorvenment_people_list):\n",
    "        first = people2[0]\n",
    "        last = people2[1]\n",
    "        email = people2[2]\n",
    "        if people == email or people == first+last \\\n",
    "            or 'talgov.com' in people or 'leoncountyfl.gov' in people or 'tallahassee.com' in people:\n",
    "            if i not in cra_idx_list and i not in commissioner_idx_list:\n",
    "                government_list.append(people)\n",
    "                government_idx_list.append(i)\n",
    "                break\n",
    "len(government_idx_list)"
   ]
  },
  {
   "cell_type": "code",
   "execution_count": 20,
   "metadata": {},
   "outputs": [],
   "source": [
    "with open('government_idx_list.txt', 'w', encoding='utf-8') as f:\n",
    "    for line in government_idx_list:\n",
    "        f.write(f\"{line}\\n\")"
   ]
  },
  {
   "cell_type": "code",
   "execution_count": 21,
   "metadata": {},
   "outputs": [],
   "source": [
    "with open('government_list.txt', 'w', encoding='utf-8') as f:\n",
    "    for line in government_list:\n",
    "        f.write(f\"{line}\\n\")"
   ]
  },
  {
   "cell_type": "code",
   "execution_count": null,
   "metadata": {},
   "outputs": [],
   "source": []
  }
 ],
 "metadata": {
  "kernelspec": {
   "display_name": "Python 3",
   "language": "python",
   "name": "python3"
  },
  "language_info": {
   "codemirror_mode": {
    "name": "ipython",
    "version": 3
   },
   "file_extension": ".py",
   "mimetype": "text/x-python",
   "name": "python",
   "nbconvert_exporter": "python",
   "pygments_lexer": "ipython3",
   "version": "3.7.6"
  }
 },
 "nbformat": 4,
 "nbformat_minor": 4
}
