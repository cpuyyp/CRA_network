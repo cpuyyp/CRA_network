{
 "cells": [
  {
   "cell_type": "code",
   "execution_count": 1,
   "id": "dab96f71-a5fe-4b30-a839-38d1ce18f59f",
   "metadata": {},
   "outputs": [],
   "source": [
    "import pandas as pd"
   ]
  },
  {
   "cell_type": "code",
   "execution_count": 22,
   "id": "86854d1c-a8f8-4dab-84ba-703061afd4e8",
   "metadata": {},
   "outputs": [],
   "source": [
    "filenm = \"./old_output.csv\"\n",
    "df = pd.read_csv(filenm)"
   ]
  },
  {
   "cell_type": "code",
   "execution_count": 23,
   "id": "35eb976f-b081-4151-bce0-cdc377ae8cdb",
   "metadata": {},
   "outputs": [
    {
     "data": {
      "text/plain": [
       "Index(['From', 'Sent', 'To', 'CC', 'Subject', 'Attachments', 'Importance',\n",
       "       'Body', 'isDisplacement', 'isThread', 'isAutoMessage', 'hasAllCapLine',\n",
       "       'hasBadDate'],\n",
       "      dtype='object')"
      ]
     },
     "execution_count": 23,
     "metadata": {},
     "output_type": "execute_result"
    }
   ],
   "source": [
    "df.columns"
   ]
  },
  {
   "cell_type": "code",
   "execution_count": 24,
   "id": "b667667e-9747-4805-b060-44475ca77a03",
   "metadata": {},
   "outputs": [
    {
     "data": {
      "text/plain": [
       "0      True\n",
       "1     False\n",
       "2     False\n",
       "3     False\n",
       "4     False\n",
       "5     False\n",
       "6     False\n",
       "7     False\n",
       "8     False\n",
       "9     False\n",
       "10    False\n",
       "11    False\n",
       "12    False\n",
       "13    False\n",
       "14    False\n",
       "15    False\n",
       "16    False\n",
       "17    False\n",
       "18    False\n",
       "19    False\n",
       "20    False\n",
       "21    False\n",
       "22    False\n",
       "23    False\n",
       "24    False\n",
       "25    False\n",
       "26    False\n",
       "27    False\n",
       "28    False\n",
       "29    False\n",
       "30    False\n",
       "31     True\n",
       "32    False\n",
       "33    False\n",
       "34    False\n",
       "35    False\n",
       "36    False\n",
       "37    False\n",
       "38    False\n",
       "39    False\n",
       "40    False\n",
       "41    False\n",
       "42    False\n",
       "43    False\n",
       "44    False\n",
       "45    False\n",
       "46    False\n",
       "47    False\n",
       "48    False\n",
       "49    False\n",
       "Name: hasBadDate, dtype: bool"
      ]
     },
     "execution_count": 24,
     "metadata": {},
     "output_type": "execute_result"
    }
   ],
   "source": [
    "df['hasBadDate'].head(50)"
   ]
  },
  {
   "cell_type": "code",
   "execution_count": 25,
   "id": "42f19b4f-da8b-4fb3-b4d3-c9c6a944247a",
   "metadata": {},
   "outputs": [
    {
     "data": {
      "text/html": [
       "<div>\n",
       "<style scoped>\n",
       "    .dataframe tbody tr th:only-of-type {\n",
       "        vertical-align: middle;\n",
       "    }\n",
       "\n",
       "    .dataframe tbody tr th {\n",
       "        vertical-align: top;\n",
       "    }\n",
       "\n",
       "    .dataframe thead th {\n",
       "        text-align: right;\n",
       "    }\n",
       "</style>\n",
       "<table border=\"1\" class=\"dataframe\">\n",
       "  <thead>\n",
       "    <tr style=\"text-align: right;\">\n",
       "      <th></th>\n",
       "      <th>count</th>\n",
       "      <th>unique</th>\n",
       "      <th>top</th>\n",
       "      <th>freq</th>\n",
       "    </tr>\n",
       "  </thead>\n",
       "  <tbody>\n",
       "    <tr>\n",
       "      <th>From</th>\n",
       "      <td>71145</td>\n",
       "      <td>4966</td>\n",
       "      <td>['Paul LaMaster']</td>\n",
       "      <td>2978</td>\n",
       "    </tr>\n",
       "    <tr>\n",
       "      <th>Sent</th>\n",
       "      <td>71145</td>\n",
       "      <td>24838</td>\n",
       "      <td>[]</td>\n",
       "      <td>505</td>\n",
       "    </tr>\n",
       "    <tr>\n",
       "      <th>To</th>\n",
       "      <td>71145</td>\n",
       "      <td>9589</td>\n",
       "      <td>[]</td>\n",
       "      <td>3031</td>\n",
       "    </tr>\n",
       "    <tr>\n",
       "      <th>CC</th>\n",
       "      <td>71145</td>\n",
       "      <td>6786</td>\n",
       "      <td>[]</td>\n",
       "      <td>34973</td>\n",
       "    </tr>\n",
       "    <tr>\n",
       "      <th>Subject</th>\n",
       "      <td>71145</td>\n",
       "      <td>17791</td>\n",
       "      <td>['Tallahassee Democrat E-Edi4on Ar4cle']</td>\n",
       "      <td>1227</td>\n",
       "    </tr>\n",
       "    <tr>\n",
       "      <th>Attachments</th>\n",
       "      <td>71145</td>\n",
       "      <td>3214</td>\n",
       "      <td>[]</td>\n",
       "      <td>62461</td>\n",
       "    </tr>\n",
       "    <tr>\n",
       "      <th>Importance</th>\n",
       "      <td>71145</td>\n",
       "      <td>64</td>\n",
       "      <td>[]</td>\n",
       "      <td>69116</td>\n",
       "    </tr>\n",
       "    <tr>\n",
       "      <th>Body</th>\n",
       "      <td>71145</td>\n",
       "      <td>32564</td>\n",
       "      <td>['']</td>\n",
       "      <td>2155</td>\n",
       "    </tr>\n",
       "    <tr>\n",
       "      <th>isDisplacement</th>\n",
       "      <td>71145</td>\n",
       "      <td>2</td>\n",
       "      <td>False</td>\n",
       "      <td>53985</td>\n",
       "    </tr>\n",
       "    <tr>\n",
       "      <th>isThread</th>\n",
       "      <td>71145</td>\n",
       "      <td>2</td>\n",
       "      <td>False</td>\n",
       "      <td>67947</td>\n",
       "    </tr>\n",
       "    <tr>\n",
       "      <th>isAutoMessage</th>\n",
       "      <td>71145</td>\n",
       "      <td>2</td>\n",
       "      <td>False</td>\n",
       "      <td>69579</td>\n",
       "    </tr>\n",
       "    <tr>\n",
       "      <th>hasAllCapLine</th>\n",
       "      <td>71145</td>\n",
       "      <td>2</td>\n",
       "      <td>False</td>\n",
       "      <td>62688</td>\n",
       "    </tr>\n",
       "    <tr>\n",
       "      <th>hasBadDate</th>\n",
       "      <td>71145</td>\n",
       "      <td>2</td>\n",
       "      <td>False</td>\n",
       "      <td>70862</td>\n",
       "    </tr>\n",
       "  </tbody>\n",
       "</table>\n",
       "</div>"
      ],
      "text/plain": [
       "                count unique                                       top   freq\n",
       "From            71145   4966                         ['Paul LaMaster']   2978\n",
       "Sent            71145  24838                                        []    505\n",
       "To              71145   9589                                        []   3031\n",
       "CC              71145   6786                                        []  34973\n",
       "Subject         71145  17791  ['Tallahassee Democrat E-Edi4on Ar4cle']   1227\n",
       "Attachments     71145   3214                                        []  62461\n",
       "Importance      71145     64                                        []  69116\n",
       "Body            71145  32564                                      ['']   2155\n",
       "isDisplacement  71145      2                                     False  53985\n",
       "isThread        71145      2                                     False  67947\n",
       "isAutoMessage   71145      2                                     False  69579\n",
       "hasAllCapLine   71145      2                                     False  62688\n",
       "hasBadDate      71145      2                                     False  70862"
      ]
     },
     "execution_count": 25,
     "metadata": {},
     "output_type": "execute_result"
    }
   ],
   "source": [
    "df.describe().T"
   ]
  },
  {
   "cell_type": "code",
   "execution_count": 7,
   "id": "c7299dc7-7346-4518-9e0b-97e14d0d8da6",
   "metadata": {},
   "outputs": [
    {
     "data": {
      "text/plain": [
       "0                                       ['Shane A. Moniz']\n",
       "1                                       ['Beaudoin, Mark']\n",
       "2                                           ['Ken Morris']\n",
       "3        ['Jennifer Naff [mailto:director@springtimetal...\n",
       "4                                        ['Paul LaMaster']\n",
       "                               ...                        \n",
       "71140                                    ['Paul LaMaster']\n",
       "71141                                    ['Ryan Grindler']\n",
       "71142    [' Fleming, Allie <Allison.Fleming@talgov.com>...\n",
       "71143    ['Scott Williams [mailto:scott@hunterandharp.c...\n",
       "71144                                    ['Kelley, Lizzy']\n",
       "Name: From, Length: 71145, dtype: object"
      ]
     },
     "execution_count": 7,
     "metadata": {},
     "output_type": "execute_result"
    }
   ],
   "source": [
    "df['From']"
   ]
  },
  {
   "cell_type": "code",
   "execution_count": 33,
   "id": "13cc556c-bbe6-4efd-a497-efd5fc324ca7",
   "metadata": {},
   "outputs": [],
   "source": [
    "df1 = df.copy()"
   ]
  },
  {
   "cell_type": "code",
   "execution_count": 45,
   "id": "247e1e9e-9540-47d1-bf25-b85efeb38840",
   "metadata": {},
   "outputs": [],
   "source": [
    "df1['hasAllCapLine'] += 0"
   ]
  },
  {
   "cell_type": "code",
   "execution_count": 46,
   "id": "7dbbe7ae-6065-46c6-b50c-f13b4dc4f689",
   "metadata": {},
   "outputs": [
    {
     "data": {
      "text/plain": [
       "array([[<AxesSubplot:title={'center':'hasAllCapLine'}>]], dtype=object)"
      ]
     },
     "execution_count": 46,
     "metadata": {},
     "output_type": "execute_result"
    },
    {
     "data": {
      "image/png": "[encoded data removed]",
      "text/plain": [
       "<Figure size 432x288 with 1 Axes>"
      ]
     },
     "metadata": {
      "needs_background": "light"
     },
     "output_type": "display_data"
    }
   ],
   "source": [
    "df1.hist('hasAllCapLine')"
   ]
  },
  {
   "cell_type": "code",
   "execution_count": 48,
   "id": "640ff2b5-e8ad-4867-b70b-fcfc0ee7d31b",
   "metadata": {},
   "outputs": [],
   "source": [
    "import seaborn as sns"
   ]
  },
  {
   "cell_type": "code",
   "execution_count": 54,
   "id": "29e40a43-8159-4142-95fb-79ba7eb2079c",
   "metadata": {},
   "outputs": [
    {
     "data": {
      "text/plain": [
       "<AxesSubplot:ylabel='Count'>"
      ]
     },
     "execution_count": 54,
     "metadata": {},
     "output_type": "execute_result"
    },
    {
     "data": {
      "image/png": "[encoded data removed]",
      "text/plain": [
       "<Figure size 432x288 with 1 Axes>"
      ]
     },
     "metadata": {
      "needs_background": "light"
     },
     "output_type": "display_data"
    }
   ],
   "source": [
    "sns.histplot(df1)"
   ]
  },
  {
   "cell_type": "code",
   "execution_count": 53,
   "id": "31a8b640-f939-451d-8aaa-8355301ace80",
   "metadata": {},
   "outputs": [
    {
     "name": "stdout",
     "output_type": "stream",
     "text": [
      "Help on package seaborn:\n",
      "\n",
      "NAME\n",
      "    seaborn - # Import seaborn objects\n",
      "\n",
      "PACKAGE CONTENTS\n",
      "    _core\n",
      "    _decorators\n",
      "    _docstrings\n",
      "    _statistics\n",
      "    _testing\n",
      "    algorithms\n",
      "    axisgrid\n",
      "    categorical\n",
      "    cm\n",
      "    colors (package)\n",
      "    conftest\n",
      "    distributions\n",
      "    external (package)\n",
      "    matrix\n",
      "    miscplot\n",
      "    palettes\n",
      "    rcmod\n",
      "    regression\n",
      "    relational\n",
      "    tests (package)\n",
      "    utils\n",
      "    widgets\n",
      "\n",
      "DATA\n",
      "    crayons = {'Almond': '#EFDECD', 'Antique Brass': '#CD9575', 'Apricot':...\n",
      "    xkcd_rgb = {'acid green': '#8ffe09', 'adobe': '#bd6c48', 'algae': '#54...\n",
      "\n",
      "VERSION\n",
      "    0.11.1\n",
      "\n",
      "FILE\n",
      "    /Users/erlebach/opt/anaconda3/lib/python3.8/site-packages/seaborn/__init__.py\n",
      "\n",
      "\n"
     ]
    }
   ],
   "source": [
    "help(sns)"
   ]
  },
  {
   "cell_type": "code",
   "execution_count": null,
   "id": "cc7b2fea-4a0a-49d3-bc42-599280465c74",
   "metadata": {},
   "outputs": [],
   "source": []
  }
 ],
 "metadata": {
  "kernelspec": {
   "display_name": "Python 3",
   "language": "python",
   "name": "python3"
  },
  "language_info": {
   "codemirror_mode": {
    "name": "ipython",
    "version": 3
   },
   "file_extension": ".py",
   "mimetype": "text/x-python",
   "name": "python",
   "nbconvert_exporter": "python",
   "pygments_lexer": "ipython3",
   "version": "3.8.8"
  },
  "widgets": {
   "application/vnd.jupyter.widget-state+json": {
    "state": {},
    "version_major": 2,
    "version_minor": 0
   }
  }
 },
 "nbformat": 4,
 "nbformat_minor": 5
}
