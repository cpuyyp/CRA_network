{
 "cells": [
  {
   "cell_type": "markdown",
   "id": "3f92ae88-9af9-473e-8d88-362aa9244079",
   "metadata": {},
   "source": [
    "* Author: Gordon Erlebacher\n",
    "* Date: 2022-03-03\n",
    "* Purpose: convert Sent field to either date (nb seconds from a fixed time) or an empty field."
   ]
  },
  {
   "cell_type": "code",
   "execution_count": 1,
   "id": "55704f1d-ee80-4dc8-ad6c-97ef6eb70718",
   "metadata": {},
   "outputs": [],
   "source": [
    "%load_ext autoreload\n",
    "%autoreload 2"
   ]
  },
  {
   "cell_type": "code",
   "execution_count": 2,
   "id": "09d0d996-05c9-49a5-9805-7320f85e496e",
   "metadata": {},
   "outputs": [],
   "source": [
    "# import pandas as pd\n",
    "import numpy as np\n",
    "import regex as rex\n",
    "import pandas as pd\n",
    "from datetime import datetime\n",
    "from dateutil import parser\n",
    "from dateutil.tz import gettz\n",
    "from unidecode import unidecode"
   ]
  },
  {
   "cell_type": "code",
   "execution_count": 15,
   "id": "6078c0b2-075d-4193-9016-31dde607d5cc",
   "metadata": {},
   "outputs": [],
   "source": [
    "filenm = \"output_0211.csv\"\n",
    "df = pd.read_csv(filenm)"
   ]
  },
  {
   "cell_type": "code",
   "execution_count": null,
   "id": "87311836-08ad-4286-a822-c3cbd256f9b9",
   "metadata": {},
   "outputs": [],
   "source": []
  },
  {
   "cell_type": "code",
   "execution_count": 17,
   "id": "e67d9505-0373-425c-8c1f-dd009c7d40fe",
   "metadata": {},
   "outputs": [],
   "source": [
    "def check_multiple_names(split_comma, el, new_to_list):\n",
    "    flag = False\n",
    "    for com in split_comma:\n",
    "        # Why isn't \\s included in ^\\w\n",
    "        # space(s), name, space(s), name, characters, email\n",
    "        if rex.match(r'\\s*(\\w+)\\s+(\\w+)[^@]+@?', com):\n",
    "            flag = True\n",
    "            # remove everything at the end of the first email in com\n",
    "        else:\n",
    "            flag = False\n",
    "            break\n",
    "    if flag == True:   # Lines composed just of two names separated by spaces\n",
    "        # print(\"el: \", el)\n",
    "        new_to_list[-1] = rex.sub(',', ';', el)\n",
    "        #print(f\"__{new_to_list[-1]}\")\n",
    "    return flag"
   ]
  },
  {
   "cell_type": "code",
   "execution_count": 103,
   "id": "843827f8-addf-4623-8663-8d62a05a97ec",
   "metadata": {},
   "outputs": [],
   "source": [
    "def check_email_or_two_words(split_comma, el, new_to_list):\n",
    "    # email or two words in any order\n",
    "    if split_comma[-1] == ' ' or split_comma[-1] == '':\n",
    "        split_comma = split_comma[:-1]\n",
    "    flag = False\n",
    "    assign = 0\n",
    "    mil_flag = False\n",
    "\n",
    "    for com in split_comma:\n",
    "        if rex.match(r'\\s*([\\w\\-]+)\\s+([\\w\\-]+)(?=[^@]*$)\\W*$', com):\n",
    "            assign += 1\n",
    "        elif rex.match(r'\\s*[\\w\\.]+@[\\w\\.]+\\W*$', com):\n",
    "            assign += 1\n",
    "    if assign == len(split_comma):\n",
    "        new_to_list[-1] = rex.sub(',', ';', el)\n",
    "        return True\n",
    "    else:\n",
    "        return False"
   ]
  },
  {
   "cell_type": "code",
   "execution_count": 104,
   "id": "681a2b06-4c82-42ff-8179-b3b1d2b5e220",
   "metadata": {},
   "outputs": [
    {
     "data": {
      "text/plain": [
       "<regex.Match object; span=(0, 15), match='  Nancy Miller '>"
      ]
     },
     "execution_count": 104,
     "metadata": {},
     "output_type": "execute_result"
    }
   ],
   "source": [
    "name = \"  Nancy Miller \"\n",
    "rex.match(r'\\s*(\\w+)\\s+(\\w+)(?=[^@]*$)\\W*$', name)"
   ]
  },
  {
   "cell_type": "code",
   "execution_count": 105,
   "id": "6f44dd83-9fa2-4fb1-9dbc-c647ef3aa006",
   "metadata": {},
   "outputs": [],
   "source": [
    "def check_list_single_names(split_comma, el, new_to_list):   # REMOVE CELL WHEN DEBUGGED\n",
    "    # Is split_comma a list of single names? \n",
    "    flag = False\n",
    "    if split_comma[-1] == '' or split_comma[-1] == ' ':\n",
    "        split_comma = split_comma[:-1]\n",
    "    for com in split_comma:\n",
    "        # Why isn't \\s included in ^\\w\n",
    "        # space(s), name, space(s), name, characters, email\n",
    "        if rex.match(r'\\s*(\\w+)\\W*$', com):\n",
    "            flag = True\n",
    "            # remove everything at the end of the first email in com\n",
    "        else:\n",
    "            flag = False\n",
    "            break\n",
    "    if flag == True:   # Lines composed just of two names separated by spaces   (FLAG IS NOT TRUE!!!)\n",
    "        # print(\"el: \", el)\n",
    "        lst = []\n",
    "        for i in range(0, len(split_comma), 2):\n",
    "            try:\n",
    "                lst.append(split_comma[i+1] + \" \" + split_comma[i])\n",
    "            except:\n",
    "                lst.append(split_comma[i])\n",
    "        # print(\"lst: \", lst)\n",
    "        #print(f\"___{new_to_list[-1]}___\")\n",
    "        new_to_list[-1] = \"; \".join(lst)\n",
    "        #print(f\"__{new_to_list[-1]}\")\n",
    "    return flag"
   ]
  },
  {
   "cell_type": "code",
   "execution_count": 106,
   "id": "6059ffcd-674b-43bb-a14f-abd72c0bcba0",
   "metadata": {},
   "outputs": [],
   "source": [
    "def mixture_single_and_double_names(split_comma, el, new_to_list):\n",
    "    \"\"\"\n",
    "    # Elements are either one word or two words, ordered arbitrarily\n",
    "    \n",
    "    Not processed correctly:\n",
    "    ------------------------\n",
    "    __el:  Gary Yordon, Robert Bass, Cathy Dunklin, John Kraynak, Brian Lawrence, BobSellers, James Allen\n",
    "    __el: Van Riper, Jim, Hall, Wesley, Donahoe, Judy, Tedder, Wayne\n",
    "    __el: ERROR... el:   Spellman, Hella R, Gale Workman\n",
    "\n",
    "\n",
    "\n",
    "    \"\"\"\n",
    "    if split_comma[-1] == ' ' or split_comma[-1] == '':\n",
    "        split_comma = split_comma[:-1]\n",
    "    flag = False\n",
    "    assign = 0\n",
    "    nb_names = []\n",
    "\n",
    "    for com in split_comma:\n",
    "        # (?=[^@]*$) means to check that there are no @ to the right\n",
    "        com = rex.sub(r'AICP', '', com)\n",
    "        com = rex.sub(r'KristenBurke', 'Kristen Burke', com)  # Explode\n",
    "        com = rex.sub(r'WayneTedder', 'Wayne Tedder', com)  # Explode\n",
    "        com = rex.sub(r'Van Riper', 'VanRiper', com)  # Explode\n",
    "        com = rex.sub(r'Hella R', 'HellaR', com)  # Explode\n",
    "        if rex.match(r'\\s*([\\w\\-]+)\\s+([\\w\\-]+)\\s*$', com):\n",
    "            assign += 1\n",
    "            nb_names.append(2)\n",
    "        elif rex.match(r'\\s*([\\w\\-]+)\\s*$', com):\n",
    "            assign += 1\n",
    "            nb_names.append(1)\n",
    "    if assign == len(split_comma):\n",
    "        # if 1 name, combine the name and the following name\n",
    "        # if 2 names, keep them together\n",
    "        counter = 0\n",
    "        string = ''\n",
    "        i = 0\n",
    "        # print(f\"el: __{el}__\")\n",
    "        # print(\"nb_names: \", nb_names)\n",
    "        # print(\"len(split_comma): \", len(split_comma))\n",
    "        while True:\n",
    "            # print(\"inside while, i= \", i,)\n",
    "            if nb_names[i] == 2:\n",
    "                string += split_comma[i] + ';'\n",
    "                i += 1\n",
    "                # print(\"if, nb_names: 2, new i: \", i, \", string: \", string)\n",
    "            elif i < len(nb_names)-1 and nb_names[i] + nb_names[i+1] == 2:\n",
    "                string += split_comma[i+1] + ' ' + split_comma[i] + ';' \n",
    "                i += 2\n",
    "                # print(\"elif, nb_names: 1, 1, new i: \", i, \", string: \", string)\n",
    "            else:\n",
    "                string += split_comma[i] + ';'\n",
    "                break\n",
    "            if i >= len(nb_names): \n",
    "                break\n",
    "                \n",
    "#         print(f\"__el: {el}\")\n",
    "        new_to_list[-1] = rex.sub(';$', '', string)\n",
    "        if nb_names[-2] == 2 and nb_names[-1] == 1:\n",
    "            print(\"ERROR?: el: \", el)\n",
    "            print(\"new_to_list[-1] = \", new_to_list[-1])\n",
    "            print()\n",
    "        if rex.match(r'\\s*\\w+\\s*$', new_to_list[-1]):   # <<< ERROR\n",
    "            print(\"ERROR... el: \", el)  \n",
    "            print(\"new_to_list[-1] = \", new_to_list[-1])\n",
    "            print()\n",
    "        # print(f\"   __string: {string}\")\n",
    "        return True\n",
    "    else:\n",
    "        return False"
   ]
  },
  {
   "cell_type": "code",
   "execution_count": 202,
   "id": "edcdf2d1-2e5d-452b-82de-f86b03dd20e1",
   "metadata": {},
   "outputs": [
    {
     "name": "stdout",
     "output_type": "stream",
     "text": [
      "com:  ScofF  (satwell@admin.fsu.edu)\n",
      "com:  ScofF satwell@admin.fsu.edu\n",
      "com:  Mia Shargel mshargel@gmail.com\n",
      "BrianT \n",
      "<regex.Match object; span=(0, 41), match='  Scott Williams  scott@hunterandharp.com'>\n"
     ]
    }
   ],
   "source": [
    "name = ' Scof F. (satwell@admin.fsu.edu)'\n",
    "com = rex.sub(r'\\W*(\\w+)\\s+([A-H])\\.', r'\\1\\2 ', name) \n",
    "print(\"com: \", com)\n",
    "\n",
    "com = rex.sub(r'\\W*\\(([^\\(]*)\\)', r' \\1', com)\n",
    "print(\"com: \", com)\n",
    "\n",
    "com = 'Mia Shargel (mshargel@gmail.com)'\n",
    "com = rex.sub(r'\\W*\\(([^\\(\\)]*)\\)', r' \\1', com)\n",
    "print(\"com: \", com)\n",
    "\n",
    "com = 'Brian T.'\n",
    "com = rex.sub(r'\\b(\\w+)\\s+([A-Z])\\.', r'\\1\\2 ', com, flags=rex.U) \n",
    "print(com)\n",
    "\n",
    "com = \"  Scott Williams  scott@hunterandharp.com \"\n",
    "com = unidecode(com)\n",
    "com   = rex.match(r'\\W*([\\w\\-]+)\\s+([\\w\\-]+)\\s+\\W*([\\w\\.\\_]+@[\\w\\.\\-]+)', com, flags=rex.U)\n",
    "# com = rex.match(r'\\W*([\\w\\-]+)\\s+([\\w\\-]+)', com, flags=rex.U)\n",
    "print(com)\n"
   ]
  },
  {
   "cell_type": "code",
   "execution_count": 374,
   "id": "c43f16e5-9576-4a8b-a3cd-254e3032883f",
   "metadata": {
    "tags": []
   },
   "outputs": [],
   "source": [
    "def mixture_email_single_and_double_names(split_comma, el, new_to_list):\n",
    "    \"\"\"\n",
    "    # Elements are either (one word or email) or two words, ordered arbitrarily\n",
    "    \n",
    "    Not processed correctly:\n",
    "    ------------------------\n",
    "    __el:  Gary Yordon, Robert Bass, Cathy Dunklin, John Kraynak, Brian Lawrence, BobSellers, James Allen\n",
    "    __el: Van Riper, Jim, Hall, Wesley, Donahoe, Judy, Tedder, Wayne\n",
    "    __el: ERROR... el:   Spellman, Hella R, Gale Workman\n",
    "    ___el: ERROR... el:   Faris, Alison McCray, Patricia Edwards, Ashley, Bowens, Spencer, Barber, Cynthia, Goad, Reese, Lavin, Raoul, paige.tallahasseedowntown@gmail.com, Gaines, Jerome\n",
    "    RROR?: el:   Faulkenberry, Gary Yordon, brian.cook@HCAHealthcare.com, dale Neeley, Jeneane Dunkle, Tim\n",
    "    ERROR?: el:   andrew.gillum@talgov.com, rick.fernandez@talgov.com, scof, Nancy Miller, gil.ziﬀer@talgov.com,  (WHAT is \"scof\"?)\n",
    "RROR?: el:   Adrianne Miller, Aubry Hawks, Anneliese  , Gary Yordon, Cynthia.Barber@talgov.com\n",
    "ERROR... el:   Faulkenberry, Gary Yordon, brian.cook@HCAHealthcare.com, dale Neeley, Jeneane Dunkle, Tim\n",
    "ERROR?: el:   jackpofer@me.com, dougwray@comcast.net, Lauren Wray, adam, Susan Moore, Judi Pofer, Chuck\n",
    "\n",
    " SBELLEME@broward.org, chris.marlin@lennar.com, SPa†son@rsilink.com, lauren@laurenbook.com, mmk@portbiz.org, \n",
    " scernak@broward.org, Chrisene.Wydra@lennar.com, claire@laurenbook.com, afazzano@broward.edu, tbain@miamigardens-ﬂ.gov, \n",
    " sdick@talchamber.com, Pingree, Ben, Kerri.Post@VisitTallahassee.com, Fernandez, Rick, Curry, Chris, Maddox, Scof, \n",
    " paige.tallahasseedowntown@gmail.com, agonzalez@visi‰lorida.org, ron@sachsmedia.com, rgreen2505@me.com, \n",
    " victoria@sachsmedia.com, lehirst@fsu.edu, scof@scofmaddox.com, Atwell, Scof F. (satwell@admin.fsu.edu), Bryant, \n",
    " \n",
    " Scof F. (satwell@admin.fsu.edu)\n",
    " \n",
    " Aundra, Elyea, Janice, carmella@sachsmedia.com, Gregory Haile\n",
    " \n",
    " Wilcox, Barry, Wiebler, Brian T., Doherty, Megan, Bryant, Cherie\n",
    " \n",
    " Sampson-Jones, Lavonia <Lavonia.Sampson-Jones@talgov.com>, Johansen, Jay <Jay.Johansen@talgov.com\n",
    " \n",
    " Dr. Audra Pi_man, Straughn, Rachael, Paige Carter-Smith, Poole, Carrie\n",
    "    \"\"\"\n",
    "    # print(\"enter mixture\")\n",
    "    # print(\"el: \", el)\n",
    "    # print(\"split_comma: \", split_comma)\n",
    "    if split_comma[-1] == ' ' or split_comma[-1] == '':\n",
    "        split_comma = split_comma[:-1]\n",
    "    flag = False\n",
    "    assign = 0\n",
    "    nb_names = []\n",
    "    emails = []\n",
    "    scotflag = False\n",
    "\n",
    "    for com in split_comma:\n",
    "        # print(f\"==> com: __{com}__\")\n",
    "        # (?=[^@]*$) means to check that there are no @ to the right\n",
    "        com = rex.sub(r'AICP', '', com)\n",
    "        com = rex.sub(r'KristenBurke', 'Kristen Burke', com)  # Explode\n",
    "        com = rex.sub(r'WayneTedder', 'Wayne Tedder', com)  # Explode\n",
    "        com = rex.sub(r'VinceLong', 'Vince Long', com)  # Explode\n",
    "        com = rex.sub(r'EdMurray', 'Ed Murray', com)  # Explode\n",
    "        com = rex.sub(r'Alan\"Rosenzweig', 'Alan Rosenzweig', com)  # Explode\n",
    "        com = rex.sub(r'MaryBarley', 'Mary Barley', com)  # Explode\n",
    "        com = rex.sub('MikeVasilinda', 'Mike Vasilinda', com)\n",
    "        com = rex.sub(r'Van Riper', 'VanRiper', com)  # Explode\n",
    "        com = rex.sub(r'Van Pelt', 'VanPelt', com)  # Explode\n",
    "        com = rex.sub(r'Hella R', 'HellaR', com)  # Explode\n",
    "        com = rex.sub(r'(II|III)\\s+$', '', com)\n",
    "        \n",
    "        # if three strings, combine the first two (assumes first, middle and last name)\n",
    "        # print(\"     ...bef: \", com)\n",
    "        ## Cheap solution (need better one) to reduce 3 or 4 words down to 2 (no consideration of emails)\n",
    "        com = rex.sub(r'(\\w+)\\s+(\\w+)\\s+(\\w+)', r'\\1\\2 \\3', com, flags=rex.U)\n",
    "        com = rex.sub(r'(\\w+)\\s+(\\w+)\\s+(\\w+)', r'\\1\\2 \\3', com, flags=rex.U)\n",
    "        com = rex.sub(r'(\\w+)\\s+(\\w+)\\s+(\\w+)', r'\\1\\2 \\3', com, flags=rex.U)\n",
    "        # print(\"     ...aft: \", com)\n",
    "\n",
    "        com = rex.sub(r'\\b([\\w\\-]+)\\s+([A-Z])\\.', r'\\1\\2 ', com) \n",
    "        # Change (xxxx) to xxxxx where xxxx is anything without parenthetis\n",
    "        com = rex.sub(r'\\W*\\(([^\\(\\)]*)\\)', r' \\1', com)\n",
    "        \n",
    "        com = rex.sub(r'(Dr\\.)', r' ', com)\n",
    "        # print(f\"   end com: __{com}__\")\n",
    " \n",
    "        emails.append(False)\n",
    "        email = None\n",
    "        first_name = None\n",
    "        last_name = None\n",
    "        \n",
    "        # 2 names\n",
    "        if rex.match(r'\\s*([\\w\\-]+)\\s+([\\w\\-]+)\\s*$', com):\n",
    "            assign += 1\n",
    "            nb_names.append(2)\n",
    "        # 2 names and email\n",
    "        elif rex.match(r'\\W*([\\w\\-]+)\\s+([\\w\\-]+)\\s+\\W*([\\w\\.\\-]+@[\\w\\.\\-]+)', com, flags=rex.U):\n",
    "            match = rex.match(r'\\W*([\\w\\-]+)\\s+([\\w\\-]+)\\s+\\W*([\\w\\.\\-]+@[\\w\\.\\-]+)', com, flags=rex.U)\n",
    "            assign += 1\n",
    "            nb_names.append(2)\n",
    "            emails[-1] = True\n",
    "            first_name = match.group(1)\n",
    "            last_name = match.group(2)\n",
    "            email = match.group(3)\n",
    "        # 1 name \n",
    "        elif rex.match(r'\\s*([\\w\\-]+)\\s*$', com):\n",
    "            assign += 1\n",
    "            nb_names.append(1)\n",
    "        # single email\n",
    "        elif rex.match(r'\\W*[\\w+\\._]+@[\\w+\\.\\-]+', com, flags=rex.U):\n",
    "            assign += 1\n",
    "            nb_names.append(1)\n",
    "            emails[-1] = True\n",
    "        # single name + email\n",
    "        elif rex.match(r'\\s*([\\w\\-]+)\\s\\W*([\\w+\\.\\-]+@[\\w\\.\\-]+)', com, flags=rex.U):\n",
    "            # print(\"...match\")\n",
    "            match = rex.match(r'\\s*([\\w\\-]+)\\s\\W*([\\w\\.\\-]+@[\\w\\.\\-]+)', com, flags=rex.U);\n",
    "            # print(\"match: \", match)\n",
    "            #print(\"... com: \", com, \",     match: \", match.groups())\n",
    "            assign += 1\n",
    "            nb_names.append(1)\n",
    "            emails[-1] = True\n",
    "            first_name = match.group(1)\n",
    "            email = match.group(2)\n",
    "            # print(\"name: \", name, \",   email: \", email)\n",
    "        # else:\n",
    "        #     print(\"NO MATCH, com: \", com)\n",
    "\n",
    "    # print(\"assign:  \", assign, \",    len(split_comma)= \", len(split_comma))      \n",
    "    if assign == len(split_comma):\n",
    "        # if 1 name, combine the name and the following name\n",
    "        # if 2 names, keep them together\n",
    "        counter = 0\n",
    "        string = ''\n",
    "        i = 0\n",
    "        # print(f\"el: __{el}__\")\n",
    "        # print(\"nb_names: \", nb_names)\n",
    "        # print(\"len(split_comma): \", len(split_comma))\n",
    "        while True:\n",
    "            # print(\"inside while, i= \", i,)\n",
    "            if nb_names[i] == 2:\n",
    "                string += split_comma[i] + ';'\n",
    "                i += 1\n",
    "                # print(\"if, nb_names: 2, new i: \", i, \", string: \", string)\n",
    "            elif emails[i] == True and not first_name:\n",
    "                string += split_comma[i] + ';'\n",
    "                i += 1\n",
    "            elif i < len(nb_names)-1 and nb_names[i] + nb_names[i+1] == 2:\n",
    "                if first_name:\n",
    "                    string += first_name + ' ' + split_comma[i] + ' ' + email + ';' \n",
    "                else:\n",
    "                    string += split_comma[i+1] + ' ' + split_comma[i] + ';' \n",
    "                i += 2\n",
    "                # print(\"elif, nb_names: 1, 1, new i: \", i, \", string: \", string)\n",
    "            else:\n",
    "                string += split_comma[i] + ';'\n",
    "                break\n",
    "            if i >= len(nb_names): \n",
    "                break\n",
    "                \n",
    "        # Remove last semi-colon if end of string\n",
    "        new_to_list[-1] = rex.sub(';\\s*$', '', string)\n",
    "        # print(\"new_to_list[-1]= \", new_to_list[-1])\n",
    "        # if nb_names[-2] == 2 and nb_names[-1] == 1:\n",
    "        #     print(\"ERROR?: el: \", el)\n",
    "        #     print(\"new_to_list[-1] = \", new_to_list[-1])\n",
    "        #     print()\n",
    "        # if rex.match(r'\\s*\\w+\\s*$', new_to_list[-1]):   # <<< ERROR\n",
    "        #     print(\"ERROR... el: \", el)  \n",
    "        #     print(\"new_to_list[-1] = \", new_to_list[-1])\n",
    "        #     print()\n",
    "        # print(f\"   __string: {string}\")\n",
    "        return True\n",
    "    else:\n",
    "        return False"
   ]
  },
  {
   "cell_type": "code",
   "execution_count": 369,
   "id": "0ebad1ae-c632-4a5d-8636-cc2a2c5cf014",
   "metadata": {},
   "outputs": [
    {
     "name": "stdout",
     "output_type": "stream",
     "text": [
      "Charla Lucas, Lee Daniel, john@moonevents.com, marycfrederick@aol.com, Charles Hargraves, Autumn Calder,Roxanne Manning, Charles Hargraves, rbedard@rrbsystems.com, Daniel Fendley, Dee Crumpler, stonearch99@yahoo.com,rlc2998@gmail.com, jrfsu@comcast.net, Louis Norvell, vyoung26@comcast.net, scottscarswell@gmail.com, Autumn Calder,dbastriff@gmail.com, Ashley Edwards, Derek Friend, Andrea Griffin  Neighborhood Services , khgrey@aol.com, Tomica Smith,Linda Hudson, Wayne Tedder, lawleyscott@gmail.com, Mario Palmentieri, Ryan Grindler,  piers.rawling@gmail.com , cora@scottcarswellpresents.com\n"
     ]
    }
   ],
   "source": [
    "for el in to_lst[0:7]:\n",
    "    print(el)"
   ]
  },
  {
   "cell_type": "code",
   "execution_count": 370,
   "id": "36600261-09ec-4a8d-be97-dfb57aef66f7",
   "metadata": {},
   "outputs": [
    {
     "data": {
      "text/plain": [
       "'This island is beautiful'"
      ]
     },
     "execution_count": 370,
     "metadata": {},
     "output_type": "execute_result"
    }
   ],
   "source": [
    "name = \" Dr. \"\n",
    "rex.sub(\".*\\bDr.\", '', name)\n",
    "\n",
    "name = \"This island is beautiful\"\n",
    "rex.sub(\"\\bis\\b\", \"gordon\", name)"
   ]
  },
  {
   "cell_type": "code",
   "execution_count": 377,
   "id": "6d047801-3340-4471-bae1-c5ab30284690",
   "metadata": {},
   "outputs": [],
   "source": [
    "to_lst = df['CC'].values"
   ]
  },
  {
   "cell_type": "code",
   "execution_count": 378,
   "id": "3c2ae33e-7ffb-496c-9e8f-47b1722ef71f",
   "metadata": {
    "tags": []
   },
   "outputs": [
    {
     "name": "stdout",
     "output_type": "stream",
     "text": [
      "73 71143 71143\n"
     ]
    }
   ],
   "source": [
    "not_processed = []\n",
    "new_to_list = []\n",
    "\n",
    "# to_lst = [\n",
    "# # #     'Scott Williams  scott@hunterandharp.com , cmusgrove@cfobeanteam.com  cmusgrove@cfobeanteam.com ,\\\n",
    "# # #     Breck Brannen  breck@penningtonlaw.com , Parker, Michael  Michael.Parker@talgov.com , Baker, \\\n",
    "# # #     Sherri  Sherri.Baker@talgov.com , Wild, Ann J.  Ann.Wild@talgov.com'\n",
    "# #    # \"Dr. Audra Pi_man, Straughn, Rachael, Paige Carter-Smith, Poole, Carrie\"\n",
    "# #     # 'Sampson-Jones, Lavonia  Lavonia.Sampson-Jones@talgov.com , Johansen, Jay  Jay.Johansen@talgov.com'\n",
    "# # 'Charla Lucas, Lee Daniel, john@moonevents.com, marycfrederick@aol.com, Charles Hargraves, Autumn Calder,\\\n",
    "# # Roxanne Manning, Charles Hargraves, rbedard@rrbsystems.com, Daniel Fendley, Dee Crumpler, stonearch99@yahoo.com,\\\n",
    "# # rlc2998@gmail.com, jrfsu@comcast.net, Louis Norvell, vyoung26@comcast.net, scottscarswell@gmail.com, Autumn Calder,\\\n",
    "# # dbastriff@gmail.com, Ashley Edwards, Derek Friend, Andrea Griffin  Neighborhood Services , khgrey@aol.com, Tomica Smith,\\\n",
    "# # Linda Hudson, Wayne Tedder, lawleyscott@gmail.com, Mario Palmentieri, Ryan Grindler,  piers.rawling@gmail.com , cora@scottcarswellpresents.com'\n",
    "# ]\n",
    "\n",
    "for el1 in to_lst[0:]:\n",
    "    # print(\"el1: \", el1)\n",
    "    if type(el1) != str:\n",
    "        #not_processed.append(el1)\n",
    "        new_to_list.append('NOT VALID')\n",
    "        continue\n",
    "    el = unidecode(el1)\n",
    "    el = rex.sub(r'[\\'\\\"]', '', el)\n",
    "    # transform abbreviations of the form A. by A\n",
    "    #el = rex.sub(r' (\\w)\\.', r' \\1 ', el)  # adding this increases non-processed to 436 from 397\n",
    "    # Remove (\\w+)\n",
    "    #el = rex.sub(r'\\([\\w\\-\\s]+\\)', ' ', el)\n",
    "    el = rex.sub(r'[\\{\\}\\(\\)\\<\\>\\[\\]]', ' ', el)\n",
    "    if rex.match(r'.* (that|the) ', el):\n",
    "        new_to_list.append('NOT VALID')\n",
    "        continue\n",
    "    new_to_list.append(el)\n",
    "    try:\n",
    "        splits = el.strip().split(\";\")\n",
    "    except:\n",
    "        continue\n",
    "    sz = len(splits)\n",
    "    if sz == 1:\n",
    "        split_comma = el.strip().split(',')\n",
    "        if len(split_comma) <= 2:\n",
    "            continue \n",
    "        split_at = el.split('@')\n",
    "        if len(split_comma) == len(split_at) or len(split_comma) == (len(split_at) - 1):\n",
    "            # simply replace commas by semi-colons\n",
    "            continue\n",
    "            \n",
    "        # The com should be processed once before calling these different routines, with regex.sub \n",
    "        # TODO\n",
    "        \n",
    "        # each split by comma should be EITHER two words or have an email\n",
    "        flag = check_multiple_names(split_comma, el, new_to_list)\n",
    "        if flag: continue\n",
    "\n",
    "        flag = check_list_single_names(split_comma, el, new_to_list)\n",
    "        if flag: continue\n",
    "        \n",
    "        # process elements.\n",
    "        # - If full name (2 words), assign 1. \n",
    "        # - if just an email (1 string), assign 1\n",
    "        # if the string is composed of just 1's, replace commas by semi-colons\n",
    "        \n",
    "        flag = check_email_or_two_words(split_comma, el, new_to_list)\n",
    "        if flag: continue\n",
    "        \n",
    "        # flag = mixture_single_and_double_names(split_comma, el, new_to_list)\n",
    "        flag = mixture_email_single_and_double_names(split_comma, el, new_to_list)\n",
    "        if flag: continue\n",
    "        \n",
    "        not_processed.append(el)\n",
    "\n",
    "        # for com in split_comma:\n",
    "        #     print(f\"__{com}__\")\n",
    "        # print(len(split_comma), len(split_at), el)\n",
    "        \n",
    "        # I would also lines where each element is either: \n",
    "        #  two or more names separated by spaces followed by a string of characters including the @ with no spaces\n",
    "        #   (which is more general)\n",
    "        \n",
    "print(len(not_processed), len(new_to_list), len(to_lst))\n"
   ]
  },
  {
   "cell_type": "code",
   "execution_count": 376,
   "id": "27f24c09-2c0b-4182-a13c-ecf1b9300d00",
   "metadata": {},
   "outputs": [
    {
     "name": "stdout",
     "output_type": "stream",
     "text": [
      " AndreaGriffinNeighborhood Services  \n"
     ]
    }
   ],
   "source": [
    "com = ' AndreaGriffin   Neighborhood Services  '\n",
    "com = rex.sub(r'(\\w+)\\s+(\\w+)\\s+(\\w+)', r'\\1\\2 \\3', com)\n",
    "print(com)"
   ]
  },
  {
   "cell_type": "code",
   "execution_count": 379,
   "id": "67c0c0e0-c1d8-457a-b8da-bf950652ffda",
   "metadata": {
    "tags": []
   },
   "outputs": [
    {
     "name": "stdout",
     "output_type": "stream",
     "text": [
      "==>  Paige Carter-Smith, Parade Spring.me Tallahassee, Kring, Edward\n",
      "==> Favors Thompson, Anita  Anita.Favors.Thompson@talgov.com , Dick, Cindy  Cynthia.Dick@talgov.com , Coe, Tom  Tom.Coe@talgov.com , Leadership Team  LTExchange@talgov.com , Mayor & City Commissioners  citycommis@talgov.com\n",
      "==> Scott Williams  scott hunterandhar .com , cmusgrove@cfobeanteam.com Breck Brannen Parker, Michael Baker, Sherri Wild, Ann  Ann.Wild@talgov.com\n",
      "==>  Gant, Cassandra, Davis, Tim, Kristal Middlebrook  Kristal.Middlebrook@goisc.com , ISS/TI Server\n",
      "==>  Thursday, November 12, 2015 4:26 PM\n",
      "==>  Palmer, Steven, Lee, Jimmy, Davenport, Byron, Smith, Clint, McGarrah, Rob, Goad, Reese, Tedder, Wayne, Drose, Tina, Tadros, Mike, Ameen, Sam, Mayfield, Stephen, Gomez, Blas, Hosey, Jus.n, Reinert, Richard, Napier, Tom, Airom, Ross, Harrison, Tyler, Fowler, Bill, Shafer, Steve, paige.tallahasseedowntown@gmail.com, Faris, Alison, JT BurneDe, Kim Rivers  kim@inkbridge.com , Rodney Lewis, Sean Marston, Edwards, Ashley, Buss, John\n",
      "==>  Parade Spring.me Tallahassee, Kring, Edward, Kelley, Lizzy\n",
      "==>  Acoff, Phadrhea, Adams, Torrence, Anderson Jr., Fred, Ash Ible, Helen, Atkins, Lucy, Auscn, Nevelda, Auscn, Shaune, Baldwin, Angela, Barr, Randy, Bates, Tzadda, Bellamy, Shoney, Bennef, Sallie, Blanton, Diane, Bogan, Marilyn, Boland, Monica, Bradley, Diane, Brown, Annie, Brown, Marrissa, Bryant, Barbara L, Burger, Daniel, Burnside, Skip, Butler, Pam, Butler, Susan, Campbell, Stacey, Capps, Patsy, Cartwright, Virginia, Caya, Pam, Citron, Vanessa, Conyers, Donna, Cooke, Angela, Crossner, Kynder, Cuencas, Michelle, Curcs, Sherri, Daniels, Duscn, Daniels-Emanuel, Amonda, Davis, Michelle, Dawson, Chandra, Dice, Amy, Dooley, Patrick, Douglas, Sonia, Driggers, Tonya, Edwards, Ashley, Egberongbe, Delphine, Farmer, Kiana, Fernandez, Bonnie, Fernandez, Kriscna, Fletcher, Bert, Floyd, Omar, Gaines, Michelle, Gilliam, Lee, Ging, David, Goracke, Larry, Griffin, Janice, Hagen, Bram, Harris, LeTissa L., Harrison, Edie, Haynie, Tommy, Henderson, Priscilla, Herig, Chris, Hinton, Melissa, Holland, Holly, Hubbard, Angelia, Hughes, Carrie, Hurchins, Freddie, Hurst, Ryan, Ingram, MLisa, Jackson, Brenda, Tuesday, February 13, 2018 at 8:22:58 PM Eastern Standard Time Jackson, Monica, James, Turquoise, Jenkins, Kim  USC , Johnson, Latrenda, Jones, Cortney, Jones, Roshandra, Knight, Shy, Lane, Diedra, Lee, Mike  Purdom Plant , Smith, Diana, Lewis, George, Libroth, Andre, Lisenby, Katherine, LoEURon, Trella, Lowe, Sheila, McCray, Patricia, McQueen, Bernice, Mead, Cindy, Meadows-Keefe, Julie, Meeks, Kim, Mendicino, Gina, Miller, Jessica, Mitchell, Yulonda, Moragne, Corliss, Morgan, Dana, Myers, Mary Barkley, Nester, Leigh, Palmer, Karen, Parker, Melissa, Perrine, Beth, Peter, Stacey, Posey, Phyllis, Raffington, LaTanya, Ramirez, Alex, Randolph, Aldena, Reynolds, Donna, Rodgers, Susan, Rodriguez, Katherine, Salas, Angela, Scof, Sabrina R, Secreast, Laura, Shelonda Gay Meeks, Sliger, Merri F., Smiley, Sandra L, Smith, Diana, Smith, Paula J, Stanley, Valerie D, Stephens, Sue, Thomas, Akhenaton, Tillmon, Shea, Towels, Veronica, Tucker, Regina, Tufle, Misi, Walden, Cody, Walker, Shanna, Walsh, Mary Ann Hilaman, Wafs-Williams, Leann, Webb, Don, Whitaker, Angie, Whitehead, Wanda, Williams, Gary E, Williams, Mendes, Williams, Monica, Zapata, Courtney\n",
      "==>  White, Ar.e, Christesen, Julie\n",
      "==> William HaZield  whaZield@tallahassee.com , Byron Dobson  BDobson@tallahassee.com , sfoster@tallahassee.com, alan williams  alan.williams@myfloridahouse.gov , proctorb@leoncountyFL.gov, Monday, February 12, 2018 at 7:22:23 PM Eastern Standard Time sfoster@tallahassee.com, alan williams  alan.williams@myfloridahouse.gov , proctorb@leoncountyFL.gov, andrew gillum  andrew.gillum@talgov.com , devoe@tacm.com, village square  liz@tothevillagesquare.org , gary@zprgroup.com, cur_s richardson  cur_s.richardson@talgov.com\n",
      "==>  Edwards, Ashley, Palmen.eri, Mario, paige.tallahasseedowntown@gmail.com\n",
      "==>  Monday, February 12, 2018 at 6:39:32 PM Eastern Standard Time\n",
      "==> scof  scof.maddox@talgov.com , rick.fernandez@talgov.com, Nancy Miller  Nancy.Miller@talgov.com , Mary Ann Lindley  lindleym@leoncountyfl.gov , Monday, February 12, 2018 at 7:41:12 PM Eastern Standard Time gil.ziffer@talgov.com, gary@zprgroup.com, village square  liz@tothevillagesquare.org\n",
      "==> Yarbrough, Jon Monday, February 12, 2018 at 4:55:43 PM Eastern Standard Time\n",
      "==>  Brown, Jessica, Elias Mathes- Tallahassee Downtown Improvement Authority  elias.tallahasseedowntown@gmail.com , paige.tallahasseedowntown@gmail.com, thompsal@embarqmail.com Mead, Cindy The journal has been done.  Have a nice day!\n",
      "==> whazield@tallahassee.com, scoi.maddox@talgov.com, ron@sachsmedia.com, Pons  communityinfo@leonschools.net , nancy.miller@talgov.com, LindleyM@leoncountyfl.gov, jerry.osteryoung@gmail.com, gil.ziffer@talgov.com, gary@zprgroup.com, curUs.richardson@talgov.com, andrew.gillum@talgov.com, tlwaters@tallahassee.com, Monday, February 12, 2018 at 6:30:21 PM Eastern Standard Time steve8973@gmail.com, sfoster@tallahassee.com, robertsw1@comcast.net, rick.fernandez@talgov.com, ray.bellamy@med.fsu.edu, notesonnonprofits@gmail.com, negron.joe.web@flsenate.gov, monzord.bill.web@flsenate.gov, merryannf@yahoo.com, ksmiller@fsu.edu, js.schweers@gmail.com, devoe@tacm.com, billhoatson@yahoo.com, barney@barneybishop.com, ProctorB@leoncountyfl.gov, Narayan.persaud@comcast.net, MaddoxN@leoncountyfl.gov, LongV@leoncountyfl.gov, DozierK@leoncountyfl.gov, DeslogeB@leoncountyfl.gov, DaileyJ@leoncountyfl.gov, sally.butzin@gmail.com, geraldensley21@gmail.com\n",
      "==>  Paige Carter-Smith, Palmen.eri, Mario\n",
      "==>  Paige Carter-Smith, Parade Spring.me Tallahassee, Kring, Edward\n",
      "==>  Tuesday, February 13, 2018 at 8:15:20 PM Eastern Standard Time\n",
      "==>  Edward L. Clark II, Bellamy, Raymond  Tallahassee , edward holifield, whaQield@tallahassee.com,\n",
      "==>  Denise James, bholt@gadsdencountyfl.gov, bgabordi@tallahassee.com, barry.munroe@gmail.com, abrainard@hotelduval.com, Judge William Van Nortwick, Jr., abc27news@wtxl.tv, Alan Bookman, Allan Katz, Allen Burbey, Allen McConnaughhay, Alyce Lee Stansbury, Ana Carroll, Gillum, Andrew, AngeliqueDK Hutchins Monday, February 12, 2018 at 5:04:18 PM Eastern Standard Time  Angelique.Knox@yahoo.com , AnnePeery  annepeery@aol.com , Ashley Smith Herndon, Barbara DeVane, ONeal,Barbara, Benjamin Crump, Berger Singerman - Melanie Hines, acinorth, Beth Miles, Bib Willis, Bill Milford, Bob Cox, Carol Gregg Hart  carol_gregg@doh.state.fl.us , cmoloney05@comcast.net, Carolyn Cummings  ctcummings@embarqmail.com , cbelc2@comcast.net, ChrisDelmarco, Chris Hammond TLFCU, ConnieDavis, cjbthelaw@embarqmail.com, Currie Leggoe, DanielThompson, Daryl Parks, David Eastman, DavidFarran, David Fonville, David Frank, Davye Stewart, Debbie Bergstrom, Deidra Farrington, Denise Owens, denisehill9@comcast.net, Dorothy Miller, Duby Ausley, Ed Ricci, Eddie Dorman, Eddie Grunewald, EllieSimon, ellynscanlan@aol.com, erc50@embarqmail.com, errol_powell@doah.state.fl.us, FrankWilliams, Fred Levin, garyp@hgslaw.com, Gary Yordon, hbosman@netzero.net, heinzfam@neYally.com, Howell Ferguson, Hubert Brown, Jack McLean  mccl3690@comcast.net , James McConnaughhay, James McKenzie, James Papantonio, JanBordelon, Jana McConnaughhay, Jarian Lyons, Javan Ferguson, Jeff Peters  jgpesq@msn.com , Jennifer Tomlin, Jennifer Shoaf  jrichardson@appellate-firm.com , Jenny Wells, Jessica SlaYen, Joan Anderson, Joann Capece, Jodi Ruberg, Joel Margules, JohnFenno, John Radey, Judge JudithHawkins, Judge Nina Ashenafi Richardson, Karen ScoY, Karen Walker, Kathy Archibald, KathyGrunewald, Kathy Winn, Casey, Kay, KellyOverstreet Johnson, Kerri Bowden, Kris Knab, Laura Ballenger, Laura Fahlbusch, vaughnl@leonschools.net, Lauren Moody, Leah M. Panton  lmpanton@aol.com , Linda Vaughn, Linda Young, Lisa Bernau, Liza Park, Major Harding, lsnf@aol.com, margfoxon@comcast.net, Mark Bednar, Mark Russell, Mark Schlakman, MarkWalker, Jones, Martha J., Marty Asbury, MartyDix, mbunch25@embarqmail.com, Melaine Hines, Melissa Walton, Michael GuYmann, Michelle Rehwinkel Vasilinda, Mike Donovan, Mike Vasilinda, Monica Evans, Nancy Dahlberg, Nancy Daniels, PatriciaGriYa, Patsy Palmer, Paul Jess, Peg Dougherty, Phelicia S4ell, Phil Smith, Rachel Nicholson, Randy Webster, Renee Gordon, Rick Oppenheim, spendler@earthlink.net, Robet Stephenson, ron.hall@firstdata.com, RonnieBarker, roxane.dow@dep.state.fl.us, Ruth Longhurst, SallyGertz, Samantha McGwne, SandyDAlemberte, Sue Bunch, ScoYCarruthers  scoYhcarruthers@aol.com , ScoYManion, Sid MaYhew, StephenHanlon, Steve Uhlfelder, StevenAndrews, Tallahassee Barristers, Ted Mack, TerryDario4s, Tommy Warren, TrineYaLyons, Wendy Loquasto, ZaidHaynes\n",
      "==>  Monday, February 12, 2018 at 6:46:27 PM Eastern Standard Time\n",
      "==> Calder, Autumn Hargraves, Charles Coons, Kristen Rosenfeld, David 1 Exhibit 2  ?H?nl?f wads?: ?ies?  David.Rosenfeld@talgov.comgar-?3\n",
      "==>  Monday, February 12, 2018 at 6:42:54 PM Eastern Standard Time\n",
      "==>  Monday, February 12, 2018 at 6:46:20 PM Eastern Standard Time Narayan.persaud@comcast.net, kathleenparker@washpost.com, cynthia@cynthiatucker.com, eugenerobinson@washpost.com, lpiis@miamiherald.com, sfoster@tallahassee.com, whazield@tallahassee.com, steve8973@gmail.com, gary@zprgroup.com Will South City Tallahassee, Frenchtown and other dysfuncUonal communiUes ever face REALITIES.  OR, WILL FATHERLESSNESS CONTINUE TO BE IGNORED AS A BEHAVIOR THAT IS ACCEPTED AND NORMAL.  IT IS THE CORE, THE ROOT CAUSE OF POVERTY AND CRIME. Sent from my iPad\n",
      "==>  A., Smiley, Sandra L, Sara.saxner@blueprint2000.org, Sears, ScoS  P&R , Manley, Sean, Walker,\n",
      "==>  Gibson, Cornet, Harris, Fred, Jacobs, Adam, Johansen, Jay, Kissane, Mike, Novenario, Clem, Sampson-Jones, Lavonia Monday, February 12, 2018 at 8:51:07 PM Eastern Standard Time\n",
      "==>  Jumonville, Karen, Palmer, Steven, Bryant, Cherie  Planning , Shafer, Steve, Hosey, Jus.n, Pla_,\n",
      "==>  lehirst@fsu.edu, Vince Long, Cc:carmella@sachsmedia.com, scof@scofmaddox.com,\n",
      "==> Albanese, Anthony Denver DT Conner, Michael Labor Analytics siMiehael .Connermebreeom \n",
      "==>  Thursday, November 12, 2015 4:26 PM\n",
      "==> Favors Thompson, Anita  Anita.FavorsThompson@talgov.com mailto:Anita.FavorsThompson@talgov.com  , Tom.Coe  Tom.Coe@talgov.com mailto:Tom.Coe@talgov.com  , john.marks  john.marks@talgov.com mailto:john.marks@talgov.com  , andrew.gillum  andrew.gillum@talgov.com mailto:andrew.gillum@talgov.com  , Miller, Nancy  nancy.miller@talgov.com mailto:nancy.miller@talgov.com  ,  anniesharris@comcast.net mailto:anniesharris@comcast.net  , James Bellemy  bellemyjhsd@embarqmail.com mailto:bellemyjhsd@embarqmail.com  , Gil.Ziffer  Gil.Ziffer@talgov.com mailto:Gil.Ziffer@talgov.com\n",
      "==> Valentine, Sarah  Sarah.Valentine@talgov.com mailto:Sarah.Valentine@talgov.com  , Miaisha Mitchell Frenchtown Front Porch  Mmiaisha@aol.com mailto:Mmiaisha@aol.com  , Joyce M Brown CANDI  up157j@yahoo.com mailto:up157j@yahoo.com  , Qasimah P Boston - Project Food  projectfoodnow@gmail.com mailto:projectfoodnow@gmail.com  , Sundiata Ameh-El E.D.I.F.Y. Mentoring, Photo Knowledge Intl  edifymentoring@gmail.com mailto:edifymentoring@gmail.com  , Jeff Phipps  jflipps@gmail.com mailto:jflipps@gmail.com\n",
      "==>  Acoff, Phadrhea, Adams, Torrence, Anderson Jr., Fred, Ash Ible, Helen, Atkins, Lucy, AusPn, Nevelda, AusPn, Shaune, Baldwin, Angela, Bates, Tzadda, Bellamy, Shoney, BenneS, Sallie, Blanton, Diane, Bogan, Marilyn, Boland, Monica, Bradley, Diane, Brown, Annie, Brown, Marrissa, Bryant, Barbara L, Burger, Daniel, Burnside, Skip, Butler, Pam, Butler, Susan, Campbell, Stacey, Capps, Patsy, Cartwright, Virginia, Caya, Pam, Citron, Vanessa, Clark, Michael, Conyers, Donna, Cooke, Angela, Crossner, Kynder, Cuencas, Michelle, CurPs, Sherri, Daniels, DusPn, Davis, Michelle, Dawson, Chandra, Dice, Amy, Dooley, Patrick, Douglas, Sonia, Downing, Delores, Driggers, Tonya, Edwards, Ashley, Egberongbe, Delphine, Farmer, Kiana, Fernandez, Bonnie, Fernandez, KrisPna, Fletcher, Bert, Floyd, Omar, Gaines, Michelle, Gilliam, Lee, Ging, David, Goracke, Larry, Griffin, Janice, Hagen, Bram, Harlow, Jason, Harris, LeTissa L., Harrison, Edie, Haynie, Tommy, Henderson, Priscilla, Herig, Chris, Hinton, Melissa, Holland, Holly, Hubbard, Angelia, Hughes, Carrie, Hurchins, Freddie, Hurst, Ryan, Ingram, MLisa, Jackson, Brenda, Jackson, Monica, James, Sloan, James, Turquoise, Jenkins, Kim  USC , Johnson, Latrenda, Jones, Cortney, Jones, Roshandra, Kimball, Geoffrey, Knight, Shy, Lane, Diedra, Lee, Mike  Purdom Plant , Smith, Diana, Lewis, George, Libroth, Andre, Lisenby, Tuesday, February 13, 2018 at 8:05:02 PM Eastern Standard Time Diedra, Lee, Mike  Purdom Plant , Smith, Diana, Lewis, George, Libroth, Andre, Lisenby, Katherine, Loion, Laketra, Loion, Trella, Lowe, Sheila, McCray, Patricia, McQueen, Bernice, Mead, Cindy, Meadows-Keefe, Julie, Meeks, Kim, Mendicino, Gina, Miller, Jessica, Mitchell, Yulonda, Moragne, Corliss, Morgan, Dana, Myers, Mary Barkley, Nester, Leigh, Palmer, Karen, Parker, Melissa, Perrine, Beth, Peter, Stacey, Posey, Phyllis, Raffington, LaTanya, Ramirez, Alex, Randolph, Aldena, Reynolds, Donna, Rodgers, Susan, Rodriguez, Katherine, Salas, Angela, ScoS, Sabrina R, Secreast, Laura, Shelonda Gay Meeks, Shingles, Cynthia, Sliger, Merri F., Smiley, Sandra L, Smith, Diana, Smith, Paula J, Stanley, Valerie D, Stephens, Sue, Thomas, Akhenaton, Tillmon, Shea, Towels, Veronica, Tucker, Regina, TuSle, Misi, Walden, Cody, Walker, Shanna, Walsh, Mary Ann Hilaman, WaSs-Williams, Leann, Webb, Don, Whitaker, Angie, Whitehead, Wanda, Williams, Gary E, Williams, Mendes, Williams, Monica\n",
      "==> Favors Thompson, Anita  Anita.FavorsThompson@talgov.com , Tom.Coe  Tom.Coe@talgov.com , john.marks  john.marks@talgov.com , andrew.gillum  andrew.gillum@talgov.com , Miller, Nancy  nancy.miller@talgov.com ,  anniesharris@comcast.net , James Bellemy  bellemyjhsd@embarqmail.com , Gil.Ziffer  Gil.Ziffer@talgov.com\n",
      "==> Communica.ons Department  commdept@talgov.com , Lowe, Terry  Terry.Lowe@talgov.com , Baldwin, Angela  Angela.Baldwin@talgov.com , Kilpatrick, Jonathan  Jonathan.Kilpatrick@talgov.com , paige.tallahasseedowntown@gmail.com  paige.tallahasseedowntown@gmail.com\n",
      "==> Jumonville, Karen  Karen.Jumonville@talgov.com , Barkve, Craig  Craig.Barkve@talgov.com , Phillips, Gary  gary.phillips@blueprint2000.org , Echo K. Gates  E-mail   egates@genesisgroup.com   egates@genesisgroup.com , Snyder, David  david.snyder@blueprint2000.org , Lee, Jimmy  James.LeeJr@talgov.com\n",
      "==> Jumonville, Karen  Karen.Jumonville@talgov.com , Barkve, Craig  Craig.Barkve@talgov.com , Phillips, Gary  gary.phillips@blueprint2000.org , Echo K. Gates  E-mail   egates@genesisgroup.com   egates@genesisgroup.com , Snyder, David  david.snyder@blueprint2000.org , Lee, Jimmy  James.LeeJr@talgov.com\n",
      "==>  Acoff, Phadrhea, Adams, Torrence, Anderson Jr., Fred, Ash Ible, Helen, Atkins, Lucy, Auscn, Nevelda, Auscn, Shaune, Baldwin, Angela, Barr, Randy, Bates, Tzadda, Bellamy, Shoney, Bennef, Sallie, Blanton, Diane, Bogan, Marilyn, Boland, Monica, Bradley, Diane, Brown, Annie, Brown, Marrissa, Bryant, Barbara L, Burger, Daniel, Burnside, Skip, Butler, Pam, Butler, Susan, Campbell, Stacey, Capps, Patsy, Cartwright, Virginia, Caya, Pam, Citron, Vanessa, Conyers, Donna, Cooke, Angela, Crossner, Kynder, Cuencas, Michelle, Curcs, Sherri, Daniels, Duscn, Daniels-Emanuel, Amonda, Davis, Michelle, Dawson, Chandra, Dice, Amy, Dooley, Patrick, Douglas, Sonia, Driggers, Tonya, Edwards, Ashley, Egberongbe, Delphine, Farmer, Kiana, Fernandez, Bonnie, Fernandez, Kriscna, Fletcher, Bert, Floyd, Omar, Gaines, Michelle, Gilliam, Lee, Ging, David, Goracke, Larry, Griffin, Janice, Hagen, Bram, Harris, LeTissa L., Harrison, Edie, Haynie, Tommy, Henderson, Priscilla, Herig, Chris, Hinton, Melissa, Holland, Holly, Hubbard, Tuesday, February 13, 2018 at 8:22:59 PM Eastern Standard Time Angelia, Hughes, Carrie, Hurchins, Freddie, Hurst, Ryan, Ingram, MLisa, Jackson, Brenda, Jackson, Monica, James, Turquoise, Jenkins, Kim  USC , Johnson, Latrenda, Jones, Cortney, Jones, Roshandra, Knight, Shy, Lane, Diedra, Lee, Mike  Purdom Plant , Smith, Diana, Lewis, George, Libroth, Andre, Lisenby, Katherine, LoEURon, Trella, Lowe, Sheila, McCray, Patricia, McQueen, Bernice, Mead, Cindy, Meadows-Keefe, Julie, Meeks, Kim, Mendicino, Gina, Miller, Jessica, Mitchell, Yulonda, Moragne, Corliss, Morgan, Dana, Myers, Mary Barkley, Nester, Leigh, Palmer, Karen, Parker, Melissa, Perrine, Beth, Peter, Stacey, Posey, Phyllis, Raffington, LaTanya, Ramirez, Alex, Randolph, Aldena, Reynolds, Donna, Rodgers, Susan, Rodriguez, Katherine, Salas, Angela, Scof, Sabrina R, Secreast, Laura, Shelonda Gay Meeks, Sliger, Merri F., Smiley, Sandra L, Smith, Diana, Smith, Paula J, Stanley, Valerie D, Stephens, Sue, Thomas, Akhenaton, Tillmon, Shea, Towels, Veronica, Tucker, Regina, Tufle, Misi, Walden, Cody, Walker, Shanna, Walsh, Mary Ann Hilaman, Wafs-Williams, Leann, Webb, Don, Whitaker, Angie, Whitehead, Wanda, Williams, Gary E, Williams, Mendes, Williams, Monica, Zapata, Courtney\n",
      "==>  Paige Carter-Smith, Parade Spring.me Tallahassee, Kring, Edward\n",
      "==>  Anderson, Maggie, Brooks, Terrie, Carter-Smith, Janice, Charlene Cristobal, Crystal Redd, Tuesday, February 13, 2018 at 8:03:23 PM Eastern Standard Time CurPs, Sherri, Derrick Young, Jenny Dorminy, Kelley, Lizzy, Kim Williams, Mainwood, Marissa, Manning, Roxanne, McCraw, Rick, Norvell, Louis, Parker, Michael, Peter, Stacey, Powell, Lisa, Tedder, Wayne, Williams, Sheila\n",
      "==>  Communica.ons Department, Lowe, Terry, Baldwin, Angela, Kilpatrick, Jonathan,\n",
      "==> Ingram, MLisa  MLisa.Ingram@talgov.com , Goad, Reese  Reese.Goad@talgov.com , Elyea, Janice  Janice.Elyea@talgov.com , Monday, February 12, 2018 at 9:20:02 PM Eastern Standard Time  Reese.Goad@talgov.com , Elyea, Janice  Janice.Elyea@talgov.com , Lowe, Terry  Terry.Lowe@talgov.com\n",
      "==>  Parade Spring.me Tallahassee, Kring, Edward, Kelley, Lizzy\n",
      "==>  Rev. Brant Copeland, ramon.alexander@myfloridahouse.gov, Jack Levine - 4Genera4ons Ins4tute,\n",
      "==>  Acoff, Phadrhea, Adams, Torrence, Anderson Jr., Fred, Ash Ible, Helen, Atkins, Lucy, AusPn, Nevelda, AusPn, Shaune, Baldwin, Angela, Bates, Tzadda, Bellamy, Shoney, BenneS, Sallie, Blanton, Diane, Bogan, Marilyn, Boland, Monica, Bradley, Diane, Brown, Annie, Brown, Marrissa, Bryant, Barbara L, Burger, Daniel, Burnside, Skip, Butler, Pam, Butler, Susan, Campbell, Stacey, Capps, Patsy, Cartwright, Virginia, Caya, Pam, Citron, Vanessa, Clark, Michael, Conyers, Donna, Cooke, Angela, Crossner, Kynder, Cuencas, Michelle, CurPs, Sherri, Daniels, DusPn, Davis, Michelle, Dawson, Chandra, Dice, Amy, Dooley, Patrick, Douglas, Sonia, Downing, Delores, Driggers, Tonya, Edwards, Ashley, Egberongbe, Delphine, Farmer, Kiana, Fernandez, Bonnie, Fernandez, KrisPna, Fletcher, Bert, Floyd, Omar, Gaines, Michelle, Gilliam, Lee, Ging, David, Goracke, Larry, Griffin, Janice, Hagen, Bram, Harlow, Jason, Harris, LeTissa L., Harrison, Edie, Haynie, Tommy, Henderson, Priscilla, Herig, Chris, Hinton, Melissa, Holland, Holly, Hubbard, Angelia, Hughes, Carrie, Hurchins, Freddie, Hurst, Ryan, Ingram, MLisa, Jackson, Brenda, Jackson, Monica, James, Sloan, James, Turquoise, Jenkins, Kim  USC , Johnson, Latrenda, Jones, Cortney, Jones, Roshandra, Kimball, Geoffrey, Knight, Shy, Lane, Diedra, Lee, Mike  Purdom Plant , Smith, Diana, Lewis, George, Libroth, Andre, Lisenby, Tuesday, February 13, 2018 at 8:05:00 PM Eastern Standard Time Katherine, Loion, Laketra, Loion, Trella, Lowe, Sheila, McCray, Patricia, McQueen, Bernice, Mead, Cindy, Meadows-Keefe, Julie, Meeks, Kim, Mendicino, Gina, Miller, Jessica, Mitchell, Yulonda, Moragne, Corliss, Morgan, Dana, Myers, Mary Barkley, Nester, Leigh, Palmer, Karen, Parker, Melissa, Perrine, Beth, Peter, Stacey, Posey, Phyllis, Raffington, LaTanya, Ramirez, Alex, Randolph, Aldena, Reynolds, Donna, Rodgers, Susan, Rodriguez, Katherine, Salas, Angela, ScoS, Sabrina R, Secreast, Laura, Shelonda Gay Meeks, Shingles, Cynthia, Sliger, Merri F., Smiley, Sandra L, Smith, Diana, Smith, Paula J, Stanley, Valerie D, Stephens, Sue, Thomas, Akhenaton, Tillmon, Shea, Towels, Veronica, Tucker, Regina, TuSle, Misi, Walden, Cody, Walker, Shanna, Walsh, Mary Ann Hilaman, WaSs-Williams, Leann, Webb, Don, Whitaker, Angie, Whitehead, Wanda, Williams, Gary E, Williams, Mendes, Williams, Monica\n",
      "==> Scott Williams  scott hunterandhar .com , cmusgrove@cfobeanteam.com Breck Brannen Parker, Michael Baker, Sherri Wild, Ann  Ann.Wild@talgov.com\n",
      "==>  lehirst@fsu.edu, Vince Long, Cc:carmella@sachsmedia.com, scof@scofmaddox.com,\n",
      "==>  Gant, Cassandra, Davis, Tim, Kristal Middlebrook  Kristal.Middlebrook@goisc.com , ISS/TI Server\n",
      "==> Jumonville, Karen  Karen.Jumonville@talgov.com , Barkve, Craig  Craig.Barkve@talgov.com , Phillips, Gary  gary.phillips@blueprint2000.org , Echo K. Gates  E-mail   egates@genesisgroup.com   egates@genesisgroup.com , Snyder, David  david.snyder@blueprint2000.org , Lee, Jimmy  James.LeeJr@talgov.com\n",
      "==> Favors Thompson, Anita  Anita.Favors.Thompson@talgov.com , Dick, Cindy  Cynthia.Dick@talgov.com , Coe, Tom  Tom.Coe@talgov.com , Leadership Team  LTExchange@talgov.com , Mayor & City Commissioners  citycommis@talgov.com\n",
      "==>  Paige Carter-Smith, Parade Spring.me Tallahassee, Kring, Edward\n",
      "==>  Monday, February 12, 2018 at 6:30:55 PM Eastern Standard Time\n",
      "==>  Rev. Brant Copeland, ramon.alexander@myfloridahouse.gov, Jack Levine - 4Genera4ons Ins4tute,\n",
      "==> Communica.ons Department  commdept@talgov.com mailto:commdept@talgov.com  , Lowe, Terry  Terry.Lowe@talgov.com mailto:Terry.Lowe@talgov.com  , Baldwin, Angela  Angela.Baldwin@talgov.com mailto:Angela.Baldwin@talgov.com  , Kilpatrick, Jonathan  Jonathan.Kilpatrick@talgov.com mailto:Jonathan.Kilpatrick@talgov.com  , paige.tallahasseedowntown@gmail.com mailto:paige.tallahasseedowntown@gmail.com   paige.tallahasseedowntown@gmail.com mailto:paige.tallahasseedowntown@gmail.com\n",
      "==>  rick.fernandez@ta lgov.com, andrew.gillum@ta lgov.com, scof  scof.maddox@t algov.com , Nancy Miller  Nancy.Miller@tal gov.com , cur_s.richardson @talgov.com, gil.ziffer@talgov.c om, proctorb@leonco untyFL.gov, Mary Ann Lindley  lindleym@leonco untyfl.gov , Bryan Monday, February 12, 2018 at 7:36:46 PM Eastern Standard Time untyfl.gov , Bryan Desloge  bdesloge@icloud .com , gary@zprgroup.co m, village square  liz@tothevillages quare.org , lpifs@miamiheral d.com, eugenerobinson@ washpost.com, William HaZield  whaZield@tallah assee.com , sfoster@tallahass ee.com, Byron Dobson  BDobson@tallah assee.com , gensley@tallahass ee.com\n",
      "==>  Cooke, Angela Purchase Card CardHolders Acoff, Phadrhea, Adams, Torrence, Anderson Jr., Fred, Ash Ible, Helen, Atkins, Lucy, Auscn, Nevelda, Auscn, Shaune, Baldwin, Angela, Barr, Randy, Bates, Tzadda, Bellamy, Shoney, Bennef, Sallie, Blanton, Diane, Bogan, Marilyn, Boland, Monica, Bradley, Diane, Brown, Annie, Brown, Marrissa, Bryant, Barbara L, Burger, Daniel, Burnside, Skip, Butler, Pam, Butler, Susan, Campbell, Stacey, Capps, Patsy, Cartwright, Virginia, Caya, Pam, Citron, Vanessa, Conyers, Donna, Cooke, Angela, Crossner, Kynder, Cuencas, Michelle, Curcs, Sherri, Daniels, Duscn, Daniels-Emanuel, Amonda, Davis, Michelle, Dawson, Chandra, Dice, Amy, Dooley, Patrick, Douglas, Sonia, Driggers, Tonya, Edwards, Ashley, Egberongbe, Delphine, Farmer, Kiana, Fernandez, Bonnie, Fernandez, Kriscna, Fletcher, Bert, Floyd, Omar, Gaines, Michelle, Gilliam, Lee, Ging, David, Goracke, Larry, Griffin, Janice, Hagen, Bram, Harris, LeTissa L., Harrison, Edie, Haynie, Tommy, Henderson, Priscilla, Herig, Chris, Hinton, Melissa, Holland, Holly, Hubbard, Angelia, Hughes, Carrie, Hurchins, Freddie, Hurst, Ryan, Ingram, MLisa, Jackson, Brenda, Jackson, Monica, James, Turquoise, Jenkins, Kim  USC , Johnson, Latrenda, Jones, Cortney, Tuesday, February 13, 2018 at 8:16:26 PM Eastern Standard Time Jones, Roshandra, Knight, Shy, Lane, Diedra, Lee, Mike  Purdom Plant , Smith, Diana, Lewis, George, Libroth, Andre, Lisenby, Katherine, LoEURon, Laketra, LoEURon, Trella, Lowe, Sheila, McCray, Patricia, McQueen, Bernice, Mead, Cindy, Meadows-Keefe, Julie, Meeks, Kim, Mendicino, Gina, Miller, Jessica, Mitchell, Yulonda, Moragne, Corliss, Morgan, Dana, Myers, Mary Barkley, Nester, Leigh, Palmer, Karen, Parker, Melissa, Perrine, Beth, Peter, Stacey, Posey, Phyllis, Raffington, LaTanya, Ramirez, Alex, Randolph, Aldena, Reynolds, Donna, Rodgers, Susan, Rodriguez, Katherine, Salas, Angela, Scof, Sabrina R, Secreast, Laura, Shelonda Gay Meeks, Shingles, Cynthia, Sliger, Merri F., Smiley, Sandra L, Smith, Diana, Smith, Paula J, Stanley, Valerie D, Stephens, Sue, Thomas, Akhenaton, Tillmon, Shea, Towels, Veronica, Tucker, Regina, Tufle, Misi, Walden, Cody, Walker, Shanna, Walsh, Mary Ann Hilaman, WafsWilliams, Leann, Webb, Don, Whitaker, Angie, Whitehead, Wanda, Williams, Gary E, Williams, Mendes, Williams, Monica, Zapata, Courtney\n",
      "==> Favors Thompson, Anita  Anita.FavorsThompson@talgov.com , Tom.Coe  Tom.Coe@talgov.com , john.marks  john.marks@talgov.com , andrew.gillum  andrew.gillum@talgov.com , Miller, Nancy  nancy.miller@talgov.com ,  anniesharris@comcast.net , James Bellemy  bellemyjhsd@embarqmail.com , Gil.Ziffer  Gil.Ziffer@talgov.com\n",
      "==>  Parade Spring.me Tallahassee, Kelley, Lizzy\n",
      "==> Valentine, Sarah  Sarah.Valentine@talgov.com mailto:Sarah.Valentine@talgov.com  , Miaisha Mitchell Frenchtown Front Porch  Mmiaisha@aol.com mailto:Mmiaisha@aol.com  , Joyce M Brown CANDI  up157j@yahoo.com mailto:up157j@yahoo.com  , Qasimah P Boston - Project Food  projectfoodnow@gmail.com mailto:projectfoodnow@gmail.com  , Sundiata Ameh-El E.D.I.F.Y. Mentoring, Photo Knowledge Intl  edifymentoring@gmail.com mailto:edifymentoring@gmail.com  , Jeff Phipps  jflipps@gmail.com mailto:jflipps@gmail.com\n",
      "==> Scott Williams  scott hunterandhar .com , cmusgrove@cfobeanteam.com Breck Brannen Parker, Michael Baker, Sherri Wild, Ann  Ann.Wild@talgov.com\n",
      "==>  Monday, February 12, 2018 at 6:30:53 PM Eastern Standard Time\n",
      "==>  Cooke, Angela Purchase Card CardHolders Acoff, Phadrhea, Adams, Torrence, Anderson Jr., Fred, Ash Ible, Helen, Atkins, Lucy, Auscn, Nevelda, Auscn, Shaune, Baldwin, Angela, Barr, Randy, Bates, Tzadda, Bellamy, Shoney, Bennef, Sallie, Blanton, Diane, Bogan, Marilyn, Boland, Monica, Bradley, Diane, Brown, Annie, Brown, Marrissa, Bryant, Barbara L, Burger, Daniel, Burnside, Skip, Butler, Pam, Butler, Susan, Campbell, Stacey, Capps, Patsy, Cartwright, Virginia, Caya, Pam, Citron, Vanessa, Conyers, Donna, Cooke, Angela, Crossner, Kynder, Cuencas, Michelle, Curcs, Sherri, Daniels, Duscn, Daniels-Emanuel, Amonda, Davis, Michelle, Dawson, Chandra, Dice, Amy, Dooley, Patrick, Douglas, Sonia, Driggers, Tonya, Edwards, Ashley, Egberongbe, Delphine, Farmer, Kiana, Fernandez, Bonnie, Fernandez, Kriscna, Fletcher, Bert, Floyd, Omar, Gaines, Michelle, Gilliam, Lee, Ging, David, Goracke, Larry, Griffin, Janice, Hagen, Bram, Harris, LeTissa L., Harrison, Edie, Haynie, Tommy, Henderson, Priscilla, Herig, Chris, Hinton, Melissa, Holland, Holly, Hubbard, Angelia, Hughes, Carrie, Hurchins, Freddie, Hurst, Ryan, Ingram, MLisa, Jackson, Brenda, Jackson, Monica, James, Turquoise, Jenkins, Kim  USC , Johnson, Latrenda, Jones, Cortney, Jones, Roshandra, Knight, Shy, Lane, Diedra, Lee, Mike  Purdom Plant , Smith, Diana, Lewis, Tuesday, February 13, 2018 at 8:16:25 PM Eastern Standard Time George, Libroth, Andre, Lisenby, Katherine, LoEURon, Laketra, LoEURon, Trella, Lowe, Sheila, McCray, Patricia, McQueen, Bernice, Mead, Cindy, Meadows-Keefe, Julie, Meeks, Kim, Mendicino, Gina, Miller, Jessica, Mitchell, Yulonda, Moragne, Corliss, Morgan, Dana, Myers, Mary Barkley, Nester, Leigh, Palmer, Karen, Parker, Melissa, Perrine, Beth, Peter, Stacey, Posey, Phyllis, Raffington, LaTanya, Ramirez, Alex, Randolph, Aldena, Reynolds, Donna, Rodgers, Susan, Rodriguez, Katherine, Salas, Angela, Scof, Sabrina R, Secreast, Laura, Shelonda Gay Meeks, Shingles, Cynthia, Sliger, Merri F., Smiley, Sandra L, Smith, Diana, Smith, Paula J, Stanley, Valerie D, Stephens, Sue, Thomas, Akhenaton, Tillmon, Shea, Towels, Veronica, Tucker, Regina, Tufle, Misi, Walden, Cody, Walker, Shanna, Walsh, Mary Ann Hilaman, WafsWilliams, Leann, Webb, Don, Whitaker, Angie, Whitehead, Wanda, Williams, Gary E, Williams, Mendes, Williams, Monica, Zapata, Courtney\n",
      "==>  Branch, Cathy, Craig, Deborah, Fleming, Allie, Glee, Regina, Ingram, MLisa, Jones, Catherine, Thomas, Akhenaton, Whitaker, Angie, Zirin, Gary, Audra PiSman  Audra@cocanet.org , Barber, Cynthia, Carter-Smith, Janice, Cavell, Mathieu, Cooke, Jim, Craig, Deborah, Crumpler, Dee, Tuesday, February 13, 2018 at 8:03:20 PM Eastern Standard Time CurPs, Sherri, Dickinson, Cindy, Elyea, Janice, Fernandez, Rick, Fletcher, Bert, Goad, Reese, Hickey, Brian, Holloway, Stephanie, Kelley, Lizzy, Kerri Post  postk@leoncountyfl.gov , LaPmer, Al, Lavin, Raoul, Lisenby, Katherine, Long, Vince, Lutz, MaS, Manning, Roxanne, Matherne, MaS, McCraw, Rick, McCray, Patricia, Mitchell, Yulonda, Morris, Ken, Myers, Susan, Norvell, Louis, Parker, Michael, Peeples, Heather, Pingree, Ben, Reynolds, Donna, Riordan, Donna, Rosenzweig, Alan, Shelley, Lewis, Shingles, Cynthia, Simpson, Bill, Singleton, Lauren, Smach, Mary, Williams, Sheila\n",
      "==>  Rev. Brant Copeland, ramon.alexander@myfloridahouse.gov, Jack Levine - 4Genera4ons Ins4tute,\n",
      "==>  Alan Bookman, Allen McConnaughhay, Anneli Nystrand  anneli@abode.cc , Ashley Smith Herndon, BenjaminCrump, Berger Singerman - Melanie Hines, Bob Cox, Carol GreggHart  carol_gregg@doh.state.fl.us , Catherine Lannon  clannon1978@gmail.com , Chuck &Pa,, Mitchell, Craig Brown  cbrown@cjb-law.com , Daniel Thompson, Daryl Parks  dparks@parkscrump.com , David Frank, Donald Hinkle, DorothyMiller, Duby Ausley, EdRicci, Eddie Grunewald, Frank Williams, Fred Levin, Gary Yordon, Glenda Thornton  tgthornto@aol.com , Heather Mitchell, Howell Ferguson, Hubert Brown, James McConnaughhay, James McKenzie, James Papantonio, Jana McConnaughhay, Jarian Lyons aYorneyjlyons@gmail.com , John Radey, Judge Judith Hawkins, Judge NinaAshenafi Richardson, Karen Walker, Kathy Archibald, KathyGrunewald, Kathy Villacorta, Kelly Overstreet Johnson  kjohnson@bakerdonelson.com , Kris Knab, Lisa Bernau lbernau4@gmail.com , lsnf@aol.com, Major B. and Jane Harding, Mark Walker, Michelle Rehwinkel Vasilinda rehwinkm@tcc.fl.edu , Mike Vasilinda, Nancy Daniels  nancy.daniels@flpd2.com , Patricia GriYa  PgriYa88@gmail.com , Patsy Palmer, Paul Jess, Phelicia S4ell, Renee Gordon  rgordon2@hotmail.com , Rick Oppenheim, Robin Thompson, Sally Gertz, SandyDAlemberte, ScoY Carruthers  scoYhcarruthers@aol.com , Skip Smith, Capital City Bank Group, Stephanie Clapp  sacpsc10@gmail.com , Stephen Hanlon  S*29@law.georgetown.edu , Ted Mack, Terry Dario4s, Tommy Warren, TrineYa Lyons, Wendy Loquasto, AlisonDodson, aloha@balihi.us, Alyce LeeStansbury, Amanda Wasserstrom awasserstrom@mitchstuart.com , AndreaKrieger, Andy, Anne Peery  annepeery@aol.com , Arnold McKay, Bannister, Lynn  Bill Nelson , Barbara DeVane, Beth Miles, bholt@gadsdencountyfl.gov, Bill Milford, BobDawson, Bowersox, Ben, Carmella Bugbee, Casey, Kay, cbelc2@comcast.net, Chris Gibson, Chris Hammond - TLFCU, ChrysIvey Goodwyne, Cindy Suhrweir, Connie Davis, Currie Leggoe, DavidFarran, Dayve Stewart, Debbie Bergstrom, Denise James, Denise Owens, denisehill9@comcast.net, Derek Sims, Eddie Dorman, ElizabethA. Horvath, ellynscanlan@aol.com, Fa4mah Jackson, Fortunas, Paula, fpr@wfsu.org, frank lynch, Fred, Gail Thompkins  gail4mail@comcast.net , gil@zi*erry.com, Gillum,Andrew, gypsygdd@aol.com, Harreen Ber4sch, hbosman@netzero.net, heinzfam@neYally.com, Howard Libin, IMPACT100 Grants, jack@4gen.org, JackiePugh, jamie christoff, Jane Parsons  jane.parsons@proforma.com , jasonzabs@yahoo.com, Jean Bryant, Jean Crozier, Jeff Price, Jenny Wells  info@imaginethatgi baskets.com , Jim King, Jo Shoupe, Joann Capece, JoanneBaYle, Juanita Gaston, JudieMiller, Julia Causseaux, Jus4n Beltran, Karen ScoY, Kathy Winn, kristopher.dake@wellsfargo.com, LarryColtharp, Laura Clark, Leah M.Panton  lmpanton@aol.com , Lee Phillips, Linda Vaughn, Linda Young, Lou, Louis St Petery, LynnPeacock, Mark Russell, Marwood, Emily, mbunch25@embarqmail.com, Melissa Walton, Michelle Scheuermann, Mimi Graham, Monique Hrubak, NancyDahlberg, Nancy Saunders, order@lucyandleoscupcakery.com, Pam Bauer, Pam Davis, PamelaCayson, Pamela Ridley, pa,,.butchikas@myfloridahouse.gov, Peg Dougherty, Phyllis Smith, Quincie Hamby, Rainey, Glenn, Randy Webster, RANIE THOMPSON, rdunkelberger@rowlandpublishing.com, Robet Stephenson, Robin.Wharton@ourclub.com, Robyn Downie, ron.hall@firstdata.com, Roxane Monday, February 12, 2018 at 4:58:50 PM Eastern Standard Time Dow, roxane.dow@dep.state.fl.us, Sandi Mitchell, Schardl, Ka4, Sherri Wellborn, spendler@earthlink.net, Sue Bunch, Taber, Judi, TasteBudz, terry hansen, The UPS Store 6044, Tom Flanigan, Tracy Rose home, turnbulm@tcc.fl.edu, Unitarian Univeralist Church office@uuct.comcastbiz.net , vaughnl@leonschools.net, alawson@gadsdencountyfl.gov, alcuneo@cuneocrea4ve.com, alevy@floridatrend.com, annehempelrisk@gmail.com, aphillips@magicfl.com, bfuller@questman1.com, bgomes@oysterradio.com, blts530am@gmail.com, bob@kerrigan.com, browland@rowlandpublishing.com, butlerp@aegisbiztech.com, cgeib@oncityadver4sing.com, Cheryl.Gary@FLCourts1.gov, cheryl.jennings01@comcast.net, chronicle@tallahassee.com, CirenzaD@leoncountyfl.gov, clemenzasatuptown@live.com, CMR@LeonCountyFL.gov, dlachter@clothesline.net, dowlingb@aegisbiztech.com, Downtownmarket@earthlink.net, dparisi@rowlandpublishing.com, erin@ronsachs.com, gant@yahoo.com, gail@zi*erry.com, gladyscherry31@gmail.com, gracemaloy@gmail.com, hchildree@discvillage.com, heather@talwoman.com, hifijazz@yahoo.com, jmclean@myquincy.net, jmmorgan@parkscrump.com, Judge.Flowers@FLCOURTS1.GOV, Karen@uwbb.org, keith@associa4onCFO.com, Kelly OYe  kelly.oYe@pacecenter.org , KenArmstrong  ken@kenarmstrong.biz , kjames897@gmail.com, leahgentrycleaning@yahoo.com, lester@bevshots.com, lisa@kanvasbeauty.com, longineuinfo@aol.com, lynn@talwoman.com, M.Akbar@AkbarLawFirm.com, majorsullivan@msn.com, marc@hunterandharp.com, mar4n_proctor@proctorcars.com, Michael.P.Dorgan@lexisnexis.com, mikegen4ne@clearchannel.com, mperuche@gmail.com, myon@questman1.com, page@pagerozelle.com, pa,,emaney@gmail.com, Rachel.McPherson@ourclub.com, rachel@poboys.com, rengel@unitedwayescambia.org, rervin24@yahoo.com, ron@rlbookpa.com, sam@thegourdmastersamx.com, sarasmom18@comcast.net, sdick@talchamber.com, smokey@franklincountyflorida.com, susanjallen@comcast.net, TallyFTA@Gmail.com, thorntona@lsc.gov, Tony@Tallahasseegrapevine.com, UniVisGrp@aol.com, Veronica.Saavedra@blueprint2000.org, VicForsman@harvest-press.com, Vinse@ebflaw.com, vinse@tallahasseepersonalinjury.com, whitney@wowtally.com, william_stafford@flnd.uscourts.gov, wings_benton@doh.state.fl.us, Yrabedra6@aol.com, zach@on-callsupport.com\n",
      "==> Mayor & City Commissioners  citycommis@talgov.com , Fernandez, Rick\n",
      "==> Scott Williams  scott hunterandhar .com , cmusgrove@cfobeanteam.com Breck Brannen Parker, Michael Baker, Sherri Wild, Ann  Ann.Wild@talgov.com\n",
      "==>  Parade Spring.me Tallahassee, Kring, Edward, Kelley, Lizzy\n",
      "==>  Acoff, Phadrhea, Adams, Torrence, Anderson Jr., Fred, Ash Ible, Helen, Atkins, Lucy, AusPn, Nevelda, AusPn, Shaune, Baldwin, Angela, Bates, Tzadda, Bellamy, Shoney, BenneS, Sallie, Blanton, Diane, Bogan, Marilyn, Boland, Monica, Bradley, Diane, Brown, Annie, Brown, Marrissa, Bryant, Barbara L, Burger, Daniel, Burnside, Skip, Butler, Pam, Butler, Susan, Campbell, Stacey, Capps, Patsy, Cartwright, Virginia, Caya, Pam, Citron, Vanessa, Clark, Michael, Conyers, Donna, Cooke, Angela, Crossner, Kynder, Cuencas, Michelle, CurPs, Sherri, Daniels, DusPn, Davis, Michelle, Dawson, Chandra, Dice, Amy, Dickey, Keturah, Dooley, Patrick, Douglas, Sonia, Downing, Delores, Driggers, Tonya, Edwards, Ashley, Egberongbe, Delphine, Farmer, Kiana, Fernandez, Bonnie, Fernandez, KrisPna, Fletcher, Bert, Floyd, Omar, Gaines, Michelle, Gilliam, Lee, Ging, David, Griffin, Janice, Hagen, Bram, Harlow, Jason, Harris, LeTissa L., Harrison, Edie, Haynie, Tommy, Henderson, Priscilla, Herig, Chris, Hinton, Melissa, Holland, Holly, Hubbard, Angelia, Hughes, Carrie, Hurchins, Freddie, Hurst, Ryan, Ingram, MLisa, Jackson, Brenda, Jackson, Monica, James, Sloan, James, Turquoise, Jenkins, Kim  USC , Jimenez, Tammy, Johnson, Latrenda, Jones, Cortney, Jones, Roshandra, Kimball, Geoffrey, Knight, Shy, Lane, Diedra, Lee, Mike  Purdom Plant , Smith, Diana, Lewis, George, Libroth, Andre, Lisenby, Katherine, Loion, Laketra, Loion, Trella, Lowe, Sheila, McCray, Patricia, McQueen, Bernice, Mead, Cindy, Meadows-Keefe, Julie, Meeks, Kim, Mendicino, Gina, Miller, Jessica, Mitchell, Yulonda, Moragne, Corliss, Morgan, Dana, Myers, Mary Barkley, Nester, Leigh, Palmer, Karen, Parker, Melissa, Perrine, Beth, Peter, Stacey, Posey, Phyllis, Raffington, LaTanya, Ramirez, Alex, Randolph, Aldena, Reynolds, Donna, Rodgers, Susan, Rodriguez, Katherine, Salas, Angela, ScoS, Sabrina R, Secreast, Laura, Meeks, Shelonda, Shingles, Cynthia, Sliger, Merri F., Smiley, Sandra L, Smiley-Holley, Sandra, Smith, Diana, Smith, Paula J, Stanley, Valerie D, Stephens, Sue, Thomas, Akhenaton, Tillmon, Shea, Towels, Veronica, Tucker, Regina, TuSle, Misi, Walden, Cody, Walker, Shanna, Walsh, Mary Ann Hilaman, WaSs-Williams, Leann, Webb, Don, Whitaker, Angie, Whitehead, Wanda, Williams, Gary E, Williams, Mendes, Williams, Monica\n",
      "==> Bono, Michelle  Michelle.Bono@talgov.com mailto:Michelle.Bono@talgov.com  , Faris, Alison  Alison.Faris@talgov.com mailto:Alison.Faris@talgov.com  , Favors Thompson, Anita  Anita.Favors.Thompson@talgov.com mailto:Anita.Favors.Thompson@talgov.com  , Kelley, Lizzy  Lizzy.Kelley@talgov.com mailto:Lizzy.Kelley@talgov.com  , Teter, Heather  Heather.Teter@talgov.com mailto:Heather.Teter@talgov.com  , Maleszewski, Victoria  Victoria.Maleszewski@talgov.com mailto:Victoria.Maleszewski@talgov.com  , Durwin, Jim  Jim.Durwin@talgov.com mailto:Jim.Durwin@talgov.com  , Fadiora, Tim  Tim.Fadiora@talgov.com mailto:Tim.Fadiora@talgov.com  , Capps, Patsy  Patsy.Capps@talgov.com mailto:Patsy.Capps@talgov.com  , Hunt, Ann Marie  Ann.Hunt@talgov.com mailto:Ann.Hunt@talgov.com  , Overstreet Edward.  edward.overstreet@dhs.gov mailto:edward.overstreet@dhs.gov  , Edwards, Christopher  Christopher.Edwards@talgov.com mailto:Christopher.Edwards@talgov.com  , Edward Goodwin  edward.goodwin@dhs.gov mailto:edward.goodwin@dhs.gov\n",
      "==> Pons  communityinfo@leonschools.n et , monzord.bill.web@flsenate.gov, negron.joe.web@flsenate.gov, Monday, February 12, 2018 at 6:48:46 PM Eastern Standard Time steve8973@gmail.com, Narayan.persaud@comcast.net, ray.bellamy@med.fsu.edu, ksmiller@fsu.edu, robertsw1@comcast.net, gary@zprgroup.com, devoe@tacm.com, acurcio@tallahassee.com, tlwaters@tallahassee.com, barney@barneybishop.com, bcoierell@tallahassee.com, bdobson@tallahassee.com, PBDockery@gmail.com, Peter@FloridaPoliUcs.com, billhoatson@yahoo.com, sally.butzin@gmail.com\n",
      "==> scof  scof.maddox@talgov.com , rick.fernandez@talgov.com, Nancy Miller  Nancy.Miller@talgov.com , Mary Ann Lindley  lindleym@leoncountyfl.gov , gil.ziffer@talgov.com, gary@zprgroup.com, village square  liz@tothevillagesquare.org Monday, February 12, 2018 at 7:41:10 PM Eastern Standard Time\n"
     ]
    }
   ],
   "source": [
    "for el in not_processed:\n",
    "    print(f\"==> {el}\")"
   ]
  },
  {
   "cell_type": "code",
   "execution_count": 67,
   "id": "b2c9421b-30fb-454e-933b-63b34a9b02f5",
   "metadata": {},
   "outputs": [
    {
     "data": {
      "text/plain": [
       "<regex.Match object; span=(0, 3), match='  @'>"
      ]
     },
     "execution_count": 67,
     "metadata": {},
     "output_type": "execute_result"
    }
   ],
   "source": [
    "name = '  @ asf'\n",
    "rex.match(r'[^\\w]+@', name)"
   ]
  },
  {
   "cell_type": "code",
   "execution_count": null,
   "id": "25977a54-db46-41ed-ac26-546586e7ee34",
   "metadata": {},
   "outputs": [],
   "source": [
    "name = '2/16/17 3:25 PM (GMT-05:00)'\n",
    "name = rex.sub(r'(\\d?\\/\\d)\\/(\\d\\d )', r'\\1/20\\2', name)\n",
    "rex.match(r'(\\d+?\\/\\d+?)\\/(\\d\\d )', name)"
   ]
  },
  {
   "cell_type": "code",
   "execution_count": null,
   "id": "59223a6a-551c-4d12-ba64-097fc21b409e",
   "metadata": {
    "tags": []
   },
   "outputs": [],
   "source": [
    "exceptions = []\n",
    "date_dict = []\n",
    "time_zone = []\n",
    "for sent in sent_lst:\n",
    "    normalize(sent, exceptions, date_dict, time_zone)\n",
    "    \n",
    "len(exceptions), len(sent_lst), df.shape"
   ]
  },
  {
   "cell_type": "code",
   "execution_count": null,
   "id": "a8dcba8a-00c8-45b7-92ac-fab542bd4e61",
   "metadata": {},
   "outputs": [],
   "source": [
    "exceptions"
   ]
  },
  {
   "cell_type": "markdown",
   "id": "1693f145-5f9d-4ad5-be29-6b4b4ad09cf5",
   "metadata": {},
   "source": [
    "* 'Friday, May 13, 201611:18 AM': datetime.datetime(2022, 5, 13, 18, 16, 11),\n",
    "* "
   ]
  },
  {
   "cell_type": "code",
   "execution_count": null,
   "id": "8c84ef21-16cb-45b5-b001-aea0591e7e54",
   "metadata": {
    "tags": []
   },
   "outputs": [],
   "source": [
    "dates_orig = []\n",
    "dates_new = []\n",
    "dates_date = []\n",
    "date_adj = []\n",
    "timestamp = []\n",
    "for i, (tz_el, el) in enumerate(zip(time_zone, date_dict)):\n",
    "    dates_orig.append(el[0])\n",
    "    dates_new.append(el[1])\n",
    "    dates_date.append(el[2])\n",
    "    try:\n",
    "        # subtract 5 hours to convert back to Tallahassee time\n",
    " \n",
    "        if False:  # take daylight savings properly into account\n",
    "            if tz_el[1] == 'S':  # adjust time if Savings\n",
    "                timestp -= 3600\n",
    "        else:  \n",
    "            timestp = el[2].timestamp() - 5 * 3600 \n",
    "            \n",
    "        timestamp.append(timestp)\n",
    "        # Transform time from timestamp back to UTC\n",
    "        dtime = datelib.timestampToDateTimeUTC(timestp)\n",
    "        date_adj.append(dtime)\n",
    "    except:\n",
    "        timestamp.append(-1)\n",
    "        date_adj.append(('',''))\n",
    "    \n",
    "df1 = pd.DataFrame({'orig':dates_orig, 'new':dates_new, 'date':dates_date, 'TZ': time_zone, 'date_adj': date_adj, 'timestamp': timestamp})\n",
    "print(len(date_dict), len(dates_orig), df.shape)\n",
    "\n",
    "df1.to_csv(\"dates.csv\", index=0)"
   ]
  },
  {
   "cell_type": "code",
   "execution_count": null,
   "id": "9efa063a-7ab1-45d7-9c8e-13bb42387cc6",
   "metadata": {},
   "outputs": [],
   "source": [
    "df.shape, df1.shape"
   ]
  },
  {
   "cell_type": "code",
   "execution_count": null,
   "id": "210bf6f7-94cc-48c2-aafd-623ed40e012e",
   "metadata": {},
   "outputs": [],
   "source": [
    "# Add new columns: new date and time, and number of seconds since 1970\n",
    "# timestamp: seconds since 1970\n",
    "# dates_orig: original send column\n",
    "# date_adj[0]: adjusted date\n",
    "# date_adj[1]: adjusted time\n",
    "adj_date = []\n",
    "adj_time = []\n",
    "for dat_tim in date_adj:\n",
    "    adj_date.append(dat_tim[0])\n",
    "    adj_time.append(dat_tim[1])\n",
    "    \n",
    "df['timestamp'] = timestamp\n",
    "df['date_sent'] = adj_date\n",
    "df['time_sent'] = adj_time\n",
    "df.columns\n",
    "\n",
    "df.to_csv(\"output_stats_timestamps.csv.gz\", index=0)"
   ]
  },
  {
   "cell_type": "code",
   "execution_count": null,
   "id": "f37e5a6a-0179-4dcd-8ef7-5d2d15a2c39c",
   "metadata": {},
   "outputs": [],
   "source": [
    "timestamp;\n",
    "df.columns"
   ]
  }
 ],
 "metadata": {
  "kernelspec": {
   "display_name": "Python 3",
   "language": "python",
   "name": "python3"
  },
  "language_info": {
   "codemirror_mode": {
    "name": "ipython",
    "version": 3
   },
   "file_extension": ".py",
   "mimetype": "text/x-python",
   "name": "python",
   "nbconvert_exporter": "python",
   "pygments_lexer": "ipython3",
   "version": "3.8.8"
  },
  "widgets": {
   "application/vnd.jupyter.widget-state+json": {
    "state": {},
    "version_major": 2,
    "version_minor": 0
   }
  }
 },
 "nbformat": 4,
 "nbformat_minor": 5
}
