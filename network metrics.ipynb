{
 "cells": [
  {
   "cell_type": "markdown",
   "metadata": {
    "toc": true
   },
   "source": [
    "<h1>Table of Contents<span class=\"tocSkip\"></span></h1>\n",
    "<div class=\"toc\"><ul class=\"toc-item\"><li><span><a href=\"#Node-Metrics/Centrality\" data-toc-modified-id=\"Node-Metrics/Centrality-1\"><span class=\"toc-item-num\">1&nbsp;&nbsp;</span>Node Metrics/Centrality</a></span><ul class=\"toc-item\"><li><span><a href=\"#Definitions-(part-1)\" data-toc-modified-id=\"Definitions-(part-1)-1.1\"><span class=\"toc-item-num\">1.1&nbsp;&nbsp;</span>Definitions (part 1)</a></span></li><li><span><a href=\"#Definitions-(part-2)\" data-toc-modified-id=\"Definitions-(part-2)-1.2\"><span class=\"toc-item-num\">1.2&nbsp;&nbsp;</span>Definitions (part 2)</a></span></li></ul></li><li><span><a href=\"#Network-metrics\" data-toc-modified-id=\"Network-metrics-2\"><span class=\"toc-item-num\">2&nbsp;&nbsp;</span>Network metrics</a></span><ul class=\"toc-item\"><li><span><a href=\"#Average-degree\" data-toc-modified-id=\"Average-degree-2.1\"><span class=\"toc-item-num\">2.1&nbsp;&nbsp;</span>Average degree</a></span></li><li><span><a href=\"#Degree-distribution\" data-toc-modified-id=\"Degree-distribution-2.2\"><span class=\"toc-item-num\">2.2&nbsp;&nbsp;</span>Degree distribution</a></span></li><li><span><a href=\"#Average-clustering-coefficient\" data-toc-modified-id=\"Average-clustering-coefficient-2.3\"><span class=\"toc-item-num\">2.3&nbsp;&nbsp;</span>Average clustering coefficient</a></span></li></ul></li></ul></div>"
   ]
  },
  {
   "cell_type": "code",
   "execution_count": 44,
   "metadata": {},
   "outputs": [],
   "source": [
    "import numpy as np\n",
    "import networkx as nx\n",
    "import matplotlib.pyplot as plt\n",
    "import pandas as pd"
   ]
  },
  {
   "cell_type": "markdown",
   "metadata": {},
   "source": [
    "# Node Metrics/Centrality"
   ]
  },
  {
   "cell_type": "code",
   "execution_count": 265,
   "metadata": {},
   "outputs": [
    {
     "data": {
      "image/png": "[encoded data removed]",
      "text/plain": [
       "<Figure size 720x288 with 1 Axes>"
      ]
     },
     "metadata": {},
     "output_type": "display_data"
    }
   ],
   "source": [
    "# a directed example network used to illustrate the concepts\n",
    "G = nx.DiGraph()\n",
    "\n",
    "G.add_edge('a','b')\n",
    "G.add_edge('b','c')\n",
    "G.add_edge('b','d')\n",
    "G.add_edge('b','e')\n",
    "G.add_edge('e','f')\n",
    "G.add_edge('f','g')\n",
    "G.add_edge('f','h')\n",
    "G.add_edge('g','i')\n",
    "G.add_edge('h','j')\n",
    "G.add_edge('i','j')\n",
    "G.add_edge('j','g')\n",
    "\n",
    "plt.figure(figsize = (10,4))\n",
    "# pos = nx.spring_layout(G)\n",
    "pos = {'a':np.array([0,0]),\n",
    "       'b':np.array([1,0]),\n",
    "       'c':np.array([1,1]),\n",
    "       'd':np.array([1,-1]),\n",
    "       'e':np.array([2,0]),\n",
    "       'f':np.array([3,0]),\n",
    "       'g':np.array([4,0.5]),\n",
    "       'h':np.array([4,-0.5]),\n",
    "       'i':np.array([5,0.5]),\n",
    "       'j':np.array([5,-0.5]),}\n",
    "\n",
    "labels={'a':'a','b':'b','c':'c','d':'d','e':'e','f':'f','g':'g','h':'h','i':'i','j':'j'}\n",
    "nx.draw_networkx_nodes(G, pos, node_color = 'black')\n",
    "nx.draw_networkx_edges(G, pos, width=5,arrowsize=30,edge_color = 'grey')\n",
    "nx.draw_networkx_labels(G, pos, labels=labels, font_size=40, font_color='red')\n",
    "plt.show()"
   ]
  },
  {
   "cell_type": "markdown",
   "metadata": {},
   "source": [
    "## Definitions (part 1) \n",
    "- **In-degree centrality**: number of incoming directed links to one node.\n",
    "- **Out-degree centrality**: number of outgoing directed links to one node.\n",
    "- **Degree centrality**: number of total directed/undirected links to one node."
   ]
  },
  {
   "cell_type": "code",
   "execution_count": 266,
   "metadata": {},
   "outputs": [
    {
     "data": {
      "text/html": [
       "<div>\n",
       "<style scoped>\n",
       "    .dataframe tbody tr th:only-of-type {\n",
       "        vertical-align: middle;\n",
       "    }\n",
       "\n",
       "    .dataframe tbody tr th {\n",
       "        vertical-align: top;\n",
       "    }\n",
       "\n",
       "    .dataframe thead th {\n",
       "        text-align: right;\n",
       "    }\n",
       "</style>\n",
       "<table border=\"1\" class=\"dataframe\">\n",
       "  <thead>\n",
       "    <tr style=\"text-align: right;\">\n",
       "      <th></th>\n",
       "      <th>in_degree</th>\n",
       "      <th>out_degree</th>\n",
       "      <th>degree</th>\n",
       "    </tr>\n",
       "  </thead>\n",
       "  <tbody>\n",
       "    <tr>\n",
       "      <th>a</th>\n",
       "      <td>0.0</td>\n",
       "      <td>1.0</td>\n",
       "      <td>1.0</td>\n",
       "    </tr>\n",
       "    <tr>\n",
       "      <th>b</th>\n",
       "      <td>1.0</td>\n",
       "      <td>3.0</td>\n",
       "      <td>4.0</td>\n",
       "    </tr>\n",
       "    <tr>\n",
       "      <th>c</th>\n",
       "      <td>1.0</td>\n",
       "      <td>0.0</td>\n",
       "      <td>1.0</td>\n",
       "    </tr>\n",
       "    <tr>\n",
       "      <th>d</th>\n",
       "      <td>1.0</td>\n",
       "      <td>0.0</td>\n",
       "      <td>1.0</td>\n",
       "    </tr>\n",
       "    <tr>\n",
       "      <th>e</th>\n",
       "      <td>1.0</td>\n",
       "      <td>1.0</td>\n",
       "      <td>2.0</td>\n",
       "    </tr>\n",
       "    <tr>\n",
       "      <th>f</th>\n",
       "      <td>1.0</td>\n",
       "      <td>2.0</td>\n",
       "      <td>3.0</td>\n",
       "    </tr>\n",
       "    <tr>\n",
       "      <th>g</th>\n",
       "      <td>2.0</td>\n",
       "      <td>1.0</td>\n",
       "      <td>3.0</td>\n",
       "    </tr>\n",
       "    <tr>\n",
       "      <th>h</th>\n",
       "      <td>1.0</td>\n",
       "      <td>1.0</td>\n",
       "      <td>2.0</td>\n",
       "    </tr>\n",
       "    <tr>\n",
       "      <th>i</th>\n",
       "      <td>1.0</td>\n",
       "      <td>1.0</td>\n",
       "      <td>2.0</td>\n",
       "    </tr>\n",
       "    <tr>\n",
       "      <th>j</th>\n",
       "      <td>2.0</td>\n",
       "      <td>1.0</td>\n",
       "      <td>3.0</td>\n",
       "    </tr>\n",
       "  </tbody>\n",
       "</table>\n",
       "</div>"
      ],
      "text/plain": [
       "   in_degree  out_degree  degree\n",
       "a        0.0         1.0     1.0\n",
       "b        1.0         3.0     4.0\n",
       "c        1.0         0.0     1.0\n",
       "d        1.0         0.0     1.0\n",
       "e        1.0         1.0     2.0\n",
       "f        1.0         2.0     3.0\n",
       "g        2.0         1.0     3.0\n",
       "h        1.0         1.0     2.0\n",
       "i        1.0         1.0     2.0\n",
       "j        2.0         1.0     3.0"
      ]
     },
     "execution_count": 266,
     "metadata": {},
     "output_type": "execute_result"
    }
   ],
   "source": [
    "num_nodes = 10\n",
    "node_list = ['a','b','c','d','e','f','g','h','i','j']\n",
    "node_attrs = pd.DataFrame()\n",
    "node_attrs = node_attrs.reindex(node_list)\n",
    "\n",
    "in_degree = (num_nodes-1)*np.array(list(nx.centrality.in_degree_centrality(G).values()))\n",
    "out_degree = (num_nodes-1)*np.array(list(nx.centrality.out_degree_centrality(G).values()))\n",
    "node_attrs['in_degree'] = in_degree\n",
    "node_attrs['out_degree'] = out_degree\n",
    "node_attrs['degree'] = node_attrs['in_degree']  + node_attrs['out_degree'] \n",
    "\n",
    "node_attrs\n"
   ]
  },
  {
   "cell_type": "code",
   "execution_count": 267,
   "metadata": {},
   "outputs": [
    {
     "data": {
      "text/html": [
       "<div>\n",
       "<style scoped>\n",
       "    .dataframe tbody tr th:only-of-type {\n",
       "        vertical-align: middle;\n",
       "    }\n",
       "\n",
       "    .dataframe tbody tr th {\n",
       "        vertical-align: top;\n",
       "    }\n",
       "\n",
       "    .dataframe thead th {\n",
       "        text-align: right;\n",
       "    }\n",
       "</style>\n",
       "<table border=\"1\" class=\"dataframe\">\n",
       "  <thead>\n",
       "    <tr style=\"text-align: right;\">\n",
       "      <th></th>\n",
       "      <th>a</th>\n",
       "      <th>b</th>\n",
       "      <th>c</th>\n",
       "      <th>d</th>\n",
       "      <th>e</th>\n",
       "      <th>f</th>\n",
       "      <th>g</th>\n",
       "      <th>h</th>\n",
       "      <th>i</th>\n",
       "      <th>j</th>\n",
       "      <th>out_degree</th>\n",
       "    </tr>\n",
       "  </thead>\n",
       "  <tbody>\n",
       "    <tr>\n",
       "      <th>a</th>\n",
       "      <td>0</td>\n",
       "      <td>1</td>\n",
       "      <td>0</td>\n",
       "      <td>0</td>\n",
       "      <td>0</td>\n",
       "      <td>0</td>\n",
       "      <td>0</td>\n",
       "      <td>0</td>\n",
       "      <td>0</td>\n",
       "      <td>0</td>\n",
       "      <td>1</td>\n",
       "    </tr>\n",
       "    <tr>\n",
       "      <th>b</th>\n",
       "      <td>0</td>\n",
       "      <td>0</td>\n",
       "      <td>1</td>\n",
       "      <td>1</td>\n",
       "      <td>1</td>\n",
       "      <td>0</td>\n",
       "      <td>0</td>\n",
       "      <td>0</td>\n",
       "      <td>0</td>\n",
       "      <td>0</td>\n",
       "      <td>3</td>\n",
       "    </tr>\n",
       "    <tr>\n",
       "      <th>c</th>\n",
       "      <td>0</td>\n",
       "      <td>0</td>\n",
       "      <td>0</td>\n",
       "      <td>0</td>\n",
       "      <td>0</td>\n",
       "      <td>0</td>\n",
       "      <td>0</td>\n",
       "      <td>0</td>\n",
       "      <td>0</td>\n",
       "      <td>0</td>\n",
       "      <td>0</td>\n",
       "    </tr>\n",
       "    <tr>\n",
       "      <th>d</th>\n",
       "      <td>0</td>\n",
       "      <td>0</td>\n",
       "      <td>0</td>\n",
       "      <td>0</td>\n",
       "      <td>0</td>\n",
       "      <td>0</td>\n",
       "      <td>0</td>\n",
       "      <td>0</td>\n",
       "      <td>0</td>\n",
       "      <td>0</td>\n",
       "      <td>0</td>\n",
       "    </tr>\n",
       "    <tr>\n",
       "      <th>e</th>\n",
       "      <td>0</td>\n",
       "      <td>0</td>\n",
       "      <td>0</td>\n",
       "      <td>0</td>\n",
       "      <td>0</td>\n",
       "      <td>1</td>\n",
       "      <td>0</td>\n",
       "      <td>0</td>\n",
       "      <td>0</td>\n",
       "      <td>0</td>\n",
       "      <td>1</td>\n",
       "    </tr>\n",
       "    <tr>\n",
       "      <th>f</th>\n",
       "      <td>0</td>\n",
       "      <td>0</td>\n",
       "      <td>0</td>\n",
       "      <td>0</td>\n",
       "      <td>0</td>\n",
       "      <td>0</td>\n",
       "      <td>1</td>\n",
       "      <td>1</td>\n",
       "      <td>0</td>\n",
       "      <td>0</td>\n",
       "      <td>2</td>\n",
       "    </tr>\n",
       "    <tr>\n",
       "      <th>g</th>\n",
       "      <td>0</td>\n",
       "      <td>0</td>\n",
       "      <td>0</td>\n",
       "      <td>0</td>\n",
       "      <td>0</td>\n",
       "      <td>0</td>\n",
       "      <td>0</td>\n",
       "      <td>0</td>\n",
       "      <td>1</td>\n",
       "      <td>0</td>\n",
       "      <td>1</td>\n",
       "    </tr>\n",
       "    <tr>\n",
       "      <th>h</th>\n",
       "      <td>0</td>\n",
       "      <td>0</td>\n",
       "      <td>0</td>\n",
       "      <td>0</td>\n",
       "      <td>0</td>\n",
       "      <td>0</td>\n",
       "      <td>0</td>\n",
       "      <td>0</td>\n",
       "      <td>0</td>\n",
       "      <td>1</td>\n",
       "      <td>1</td>\n",
       "    </tr>\n",
       "    <tr>\n",
       "      <th>i</th>\n",
       "      <td>0</td>\n",
       "      <td>0</td>\n",
       "      <td>0</td>\n",
       "      <td>0</td>\n",
       "      <td>0</td>\n",
       "      <td>0</td>\n",
       "      <td>0</td>\n",
       "      <td>0</td>\n",
       "      <td>0</td>\n",
       "      <td>1</td>\n",
       "      <td>1</td>\n",
       "    </tr>\n",
       "    <tr>\n",
       "      <th>j</th>\n",
       "      <td>0</td>\n",
       "      <td>0</td>\n",
       "      <td>0</td>\n",
       "      <td>0</td>\n",
       "      <td>0</td>\n",
       "      <td>0</td>\n",
       "      <td>1</td>\n",
       "      <td>0</td>\n",
       "      <td>0</td>\n",
       "      <td>0</td>\n",
       "      <td>1</td>\n",
       "    </tr>\n",
       "    <tr>\n",
       "      <th>in_degree</th>\n",
       "      <td>0</td>\n",
       "      <td>1</td>\n",
       "      <td>1</td>\n",
       "      <td>1</td>\n",
       "      <td>1</td>\n",
       "      <td>1</td>\n",
       "      <td>2</td>\n",
       "      <td>1</td>\n",
       "      <td>1</td>\n",
       "      <td>2</td>\n",
       "      <td>11</td>\n",
       "    </tr>\n",
       "  </tbody>\n",
       "</table>\n",
       "</div>"
      ],
      "text/plain": [
       "           a  b  c  d  e  f  g  h  i  j  out_degree\n",
       "a          0  1  0  0  0  0  0  0  0  0           1\n",
       "b          0  0  1  1  1  0  0  0  0  0           3\n",
       "c          0  0  0  0  0  0  0  0  0  0           0\n",
       "d          0  0  0  0  0  0  0  0  0  0           0\n",
       "e          0  0  0  0  0  1  0  0  0  0           1\n",
       "f          0  0  0  0  0  0  1  1  0  0           2\n",
       "g          0  0  0  0  0  0  0  0  1  0           1\n",
       "h          0  0  0  0  0  0  0  0  0  1           1\n",
       "i          0  0  0  0  0  0  0  0  0  1           1\n",
       "j          0  0  0  0  0  0  1  0  0  0           1\n",
       "in_degree  0  1  1  1  1  1  2  1  1  2          11"
      ]
     },
     "execution_count": 267,
     "metadata": {},
     "output_type": "execute_result"
    }
   ],
   "source": [
    "adjacency_matrix = np.array(nx.adjacency_matrix(G).todense())\n",
    "adjacency_df = pd.DataFrame(data = adjacency_matrix, columns=node_list,index=node_list)\n",
    "adjacency_df['out_degree'] = adjacency_df.sum(axis=1)\n",
    "df2 = pd.DataFrame(data = adjacency_df.sum(axis=0).values.reshape(1,-1), columns=node_list + ['out_degree'], index = ['in_degree'])\n",
    "adjacency_df = adjacency_df.append(df2)\n",
    "adjacency_df\n"
   ]
  },
  {
   "cell_type": "code",
   "execution_count": 268,
   "metadata": {},
   "outputs": [
    {
     "data": {
      "image/png": "[encoded data removed]",
      "text/plain": [
       "<Figure size 720x288 with 1 Axes>"
      ]
     },
     "metadata": {},
     "output_type": "display_data"
    }
   ],
   "source": [
    "# an undirected example network used to illustrate the concepts\n",
    "G2 = nx.Graph()\n",
    "G2.add_edges_from(G.edges())\n",
    "plt.figure(figsize = (10,4))\n",
    "nx.draw_networkx_nodes(G2, pos, node_color = 'black')\n",
    "nx.draw_networkx_edges(G2, pos, width=5,edge_color = 'grey')\n",
    "nx.draw_networkx_labels(G2, pos, labels=labels, font_size=40, font_color='red')\n",
    "plt.show()"
   ]
  },
  {
   "cell_type": "markdown",
   "metadata": {},
   "source": [
    "## Definitions (part 2)\n",
    "- **Closeness centrality**: sum #steps to all other nodes\n",
    " - sometimes it's better to use its inverse, according to the centrality concept\n",
    "$$C_C(u) = \\sum_{v=1}^{n-1} d(v,u)$$\n",
    "or \n",
    "$$C_C(u) = \\frac{1}{\\sum_{v=1}^{n-1} d(v,u)}$$\n",
    "or\n",
    "$$C_C(u) = \\frac{n-1}{\\sum_{v=1}^{n-1} d(v,u)}$$\n",
    "\n",
    "- **Betweenness centrality**: sum of #shortest path through node\n",
    "$$C_B(v) = \\sum_{s,t\\in V, v\\neq s,t} \\sigma(s,t|v)$$\n",
    " - some version use the the sum of fraction of shortest path through node\n",
    "$$C_B(v) = \\sum_{s,t\\in V, v\\neq s,t} \\frac{\\sigma(s,t|v)}{\\sigma(s,t)}$$\n",
    "\n",
    "- **Eigenvector centrality**: \n",
    "Comes from eigen-decomposition\n",
    "$$Ax = \\lambda x$$\n",
    "where $A$ is the adjacency matrix, $\\lambda$ is the largest eigenvalue and $x$ is the corresponding eigenvector.  \n",
    "By rearange the equation above, the eigenvector centrality of node v can also be defined:\n",
    "$$C_E(v) = \\frac{1}{\\lambda} \\sum_{u\\in V} a_{u,v} C_E(u)$$\n",
    "which can be intepreted as the sum of neighbors' relative centrality"
   ]
  },
  {
   "cell_type": "code",
   "execution_count": 269,
   "metadata": {
    "scrolled": true
   },
   "outputs": [
    {
     "data": {
      "text/html": [
       "<div>\n",
       "<style scoped>\n",
       "    .dataframe tbody tr th:only-of-type {\n",
       "        vertical-align: middle;\n",
       "    }\n",
       "\n",
       "    .dataframe tbody tr th {\n",
       "        vertical-align: top;\n",
       "    }\n",
       "\n",
       "    .dataframe thead th {\n",
       "        text-align: right;\n",
       "    }\n",
       "</style>\n",
       "<table border=\"1\" class=\"dataframe\">\n",
       "  <thead>\n",
       "    <tr style=\"text-align: right;\">\n",
       "      <th></th>\n",
       "      <th>in_degree</th>\n",
       "      <th>out_degree</th>\n",
       "      <th>degree</th>\n",
       "      <th>closeness</th>\n",
       "      <th>betweenness</th>\n",
       "      <th>eigenvector</th>\n",
       "    </tr>\n",
       "  </thead>\n",
       "  <tbody>\n",
       "    <tr>\n",
       "      <th>a</th>\n",
       "      <td>0.0</td>\n",
       "      <td>1.0</td>\n",
       "      <td>1.0</td>\n",
       "      <td>0.321429</td>\n",
       "      <td>0.0</td>\n",
       "      <td>0.062849</td>\n",
       "    </tr>\n",
       "    <tr>\n",
       "      <th>b</th>\n",
       "      <td>1.0</td>\n",
       "      <td>3.0</td>\n",
       "      <td>4.0</td>\n",
       "      <td>0.450000</td>\n",
       "      <td>21.0</td>\n",
       "      <td>0.161263</td>\n",
       "    </tr>\n",
       "    <tr>\n",
       "      <th>c</th>\n",
       "      <td>1.0</td>\n",
       "      <td>0.0</td>\n",
       "      <td>1.0</td>\n",
       "      <td>0.321429</td>\n",
       "      <td>0.0</td>\n",
       "      <td>0.062849</td>\n",
       "    </tr>\n",
       "    <tr>\n",
       "      <th>d</th>\n",
       "      <td>1.0</td>\n",
       "      <td>0.0</td>\n",
       "      <td>1.0</td>\n",
       "      <td>0.321429</td>\n",
       "      <td>0.0</td>\n",
       "      <td>0.062849</td>\n",
       "    </tr>\n",
       "    <tr>\n",
       "      <th>e</th>\n",
       "      <td>1.0</td>\n",
       "      <td>1.0</td>\n",
       "      <td>2.0</td>\n",
       "      <td>0.500000</td>\n",
       "      <td>20.0</td>\n",
       "      <td>0.225239</td>\n",
       "    </tr>\n",
       "    <tr>\n",
       "      <th>f</th>\n",
       "      <td>1.0</td>\n",
       "      <td>2.0</td>\n",
       "      <td>3.0</td>\n",
       "      <td>0.500000</td>\n",
       "      <td>20.5</td>\n",
       "      <td>0.416683</td>\n",
       "    </tr>\n",
       "    <tr>\n",
       "      <th>g</th>\n",
       "      <td>2.0</td>\n",
       "      <td>1.0</td>\n",
       "      <td>3.0</td>\n",
       "      <td>0.409091</td>\n",
       "      <td>9.0</td>\n",
       "      <td>0.495819</td>\n",
       "    </tr>\n",
       "    <tr>\n",
       "      <th>h</th>\n",
       "      <td>1.0</td>\n",
       "      <td>1.0</td>\n",
       "      <td>2.0</td>\n",
       "      <td>0.391304</td>\n",
       "      <td>3.0</td>\n",
       "      <td>0.348128</td>\n",
       "    </tr>\n",
       "    <tr>\n",
       "      <th>i</th>\n",
       "      <td>1.0</td>\n",
       "      <td>1.0</td>\n",
       "      <td>2.0</td>\n",
       "      <td>0.321429</td>\n",
       "      <td>0.0</td>\n",
       "      <td>0.378968</td>\n",
       "    </tr>\n",
       "    <tr>\n",
       "      <th>j</th>\n",
       "      <td>2.0</td>\n",
       "      <td>1.0</td>\n",
       "      <td>3.0</td>\n",
       "      <td>0.333333</td>\n",
       "      <td>1.5</td>\n",
       "      <td>0.476593</td>\n",
       "    </tr>\n",
       "  </tbody>\n",
       "</table>\n",
       "</div>"
      ],
      "text/plain": [
       "   in_degree  out_degree  degree  closeness  betweenness  eigenvector\n",
       "a        0.0         1.0     1.0   0.321429          0.0     0.062849\n",
       "b        1.0         3.0     4.0   0.450000         21.0     0.161263\n",
       "c        1.0         0.0     1.0   0.321429          0.0     0.062849\n",
       "d        1.0         0.0     1.0   0.321429          0.0     0.062849\n",
       "e        1.0         1.0     2.0   0.500000         20.0     0.225239\n",
       "f        1.0         2.0     3.0   0.500000         20.5     0.416683\n",
       "g        2.0         1.0     3.0   0.409091          9.0     0.495819\n",
       "h        1.0         1.0     2.0   0.391304          3.0     0.348128\n",
       "i        1.0         1.0     2.0   0.321429          0.0     0.378968\n",
       "j        2.0         1.0     3.0   0.333333          1.5     0.476593"
      ]
     },
     "execution_count": 269,
     "metadata": {},
     "output_type": "execute_result"
    }
   ],
   "source": [
    "closeness_3 = np.array(list(nx.closeness_centrality(G2).values()))\n",
    "closeness_2 = closeness_3/(len(G2.nodes())-1)\n",
    "closeness_1 = 1/closeness_2\n",
    "node_attrs['closeness'] = closeness_3\n",
    "\n",
    "betweenness = np.array(list(nx.betweenness_centrality(G2,normalized=False).values()))\n",
    "node_attrs['betweenness'] = betweenness\n",
    "\n",
    "eigenvector = np.array(list(nx.eigenvector_centrality(G2).values()))\n",
    "node_attrs['eigenvector'] = eigenvector\n",
    "\n",
    "node_attrs"
   ]
  },
  {
   "cell_type": "markdown",
   "metadata": {},
   "source": [
    "# Network metrics"
   ]
  },
  {
   "cell_type": "markdown",
   "metadata": {},
   "source": [
    "## Average degree\n",
    "\n",
    "Directly from the name, it is a measure for how many neighbors does a node in the network have in average.\n"
   ]
  },
  {
   "cell_type": "code",
   "execution_count": 270,
   "metadata": {},
   "outputs": [
    {
     "data": {
      "image/png": "[encoded data removed]",
      "text/plain": [
       "<Figure size 720x288 with 1 Axes>"
      ]
     },
     "metadata": {},
     "output_type": "display_data"
    }
   ],
   "source": [
    "# an undirected example network used to illustrate the concepts\n",
    "G2 = nx.Graph()\n",
    "G2.add_edges_from(G.edges())\n",
    "plt.figure(figsize = (10,4))\n",
    "nx.draw_networkx_nodes(G2, pos, node_color = 'black')\n",
    "nx.draw_networkx_edges(G2, pos, width=5,edge_color = 'grey')\n",
    "nx.draw_networkx_labels(G2, pos, labels=labels, font_size=40, font_color='red')\n",
    "plt.show()"
   ]
  },
  {
   "cell_type": "code",
   "execution_count": 274,
   "metadata": {},
   "outputs": [
    {
     "data": {
      "text/plain": [
       "2.2"
      ]
     },
     "execution_count": 274,
     "metadata": {},
     "output_type": "execute_result"
    }
   ],
   "source": [
    "node_attrs['degree'].mean()"
   ]
  },
  {
   "cell_type": "markdown",
   "metadata": {},
   "source": [
    "## Degree distribution\n",
    "Still on degree centrality, but another view of point"
   ]
  },
  {
   "cell_type": "code",
   "execution_count": 285,
   "metadata": {},
   "outputs": [
    {
     "data": {
      "text/html": [
       "<div>\n",
       "<style scoped>\n",
       "    .dataframe tbody tr th:only-of-type {\n",
       "        vertical-align: middle;\n",
       "    }\n",
       "\n",
       "    .dataframe tbody tr th {\n",
       "        vertical-align: top;\n",
       "    }\n",
       "\n",
       "    .dataframe thead th {\n",
       "        text-align: right;\n",
       "    }\n",
       "</style>\n",
       "<table border=\"1\" class=\"dataframe\">\n",
       "  <thead>\n",
       "    <tr style=\"text-align: right;\">\n",
       "      <th></th>\n",
       "      <th>in_degree</th>\n",
       "      <th>out_degree</th>\n",
       "      <th>degree</th>\n",
       "      <th>closeness</th>\n",
       "      <th>betweenness</th>\n",
       "      <th>eigenvector</th>\n",
       "    </tr>\n",
       "  </thead>\n",
       "  <tbody>\n",
       "    <tr>\n",
       "      <th>a</th>\n",
       "      <td>0.0</td>\n",
       "      <td>1.0</td>\n",
       "      <td>1.0</td>\n",
       "      <td>0.321429</td>\n",
       "      <td>0.0</td>\n",
       "      <td>0.062849</td>\n",
       "    </tr>\n",
       "    <tr>\n",
       "      <th>b</th>\n",
       "      <td>1.0</td>\n",
       "      <td>3.0</td>\n",
       "      <td>4.0</td>\n",
       "      <td>0.450000</td>\n",
       "      <td>21.0</td>\n",
       "      <td>0.161263</td>\n",
       "    </tr>\n",
       "    <tr>\n",
       "      <th>c</th>\n",
       "      <td>1.0</td>\n",
       "      <td>0.0</td>\n",
       "      <td>1.0</td>\n",
       "      <td>0.321429</td>\n",
       "      <td>0.0</td>\n",
       "      <td>0.062849</td>\n",
       "    </tr>\n",
       "    <tr>\n",
       "      <th>d</th>\n",
       "      <td>1.0</td>\n",
       "      <td>0.0</td>\n",
       "      <td>1.0</td>\n",
       "      <td>0.321429</td>\n",
       "      <td>0.0</td>\n",
       "      <td>0.062849</td>\n",
       "    </tr>\n",
       "    <tr>\n",
       "      <th>e</th>\n",
       "      <td>1.0</td>\n",
       "      <td>1.0</td>\n",
       "      <td>2.0</td>\n",
       "      <td>0.500000</td>\n",
       "      <td>20.0</td>\n",
       "      <td>0.225239</td>\n",
       "    </tr>\n",
       "    <tr>\n",
       "      <th>f</th>\n",
       "      <td>1.0</td>\n",
       "      <td>2.0</td>\n",
       "      <td>3.0</td>\n",
       "      <td>0.500000</td>\n",
       "      <td>20.5</td>\n",
       "      <td>0.416683</td>\n",
       "    </tr>\n",
       "    <tr>\n",
       "      <th>g</th>\n",
       "      <td>2.0</td>\n",
       "      <td>1.0</td>\n",
       "      <td>3.0</td>\n",
       "      <td>0.409091</td>\n",
       "      <td>9.0</td>\n",
       "      <td>0.495819</td>\n",
       "    </tr>\n",
       "    <tr>\n",
       "      <th>h</th>\n",
       "      <td>1.0</td>\n",
       "      <td>1.0</td>\n",
       "      <td>2.0</td>\n",
       "      <td>0.391304</td>\n",
       "      <td>3.0</td>\n",
       "      <td>0.348128</td>\n",
       "    </tr>\n",
       "    <tr>\n",
       "      <th>i</th>\n",
       "      <td>1.0</td>\n",
       "      <td>1.0</td>\n",
       "      <td>2.0</td>\n",
       "      <td>0.321429</td>\n",
       "      <td>0.0</td>\n",
       "      <td>0.378968</td>\n",
       "    </tr>\n",
       "    <tr>\n",
       "      <th>j</th>\n",
       "      <td>2.0</td>\n",
       "      <td>1.0</td>\n",
       "      <td>3.0</td>\n",
       "      <td>0.333333</td>\n",
       "      <td>1.5</td>\n",
       "      <td>0.476593</td>\n",
       "    </tr>\n",
       "  </tbody>\n",
       "</table>\n",
       "</div>"
      ],
      "text/plain": [
       "   in_degree  out_degree  degree  closeness  betweenness  eigenvector\n",
       "a        0.0         1.0     1.0   0.321429          0.0     0.062849\n",
       "b        1.0         3.0     4.0   0.450000         21.0     0.161263\n",
       "c        1.0         0.0     1.0   0.321429          0.0     0.062849\n",
       "d        1.0         0.0     1.0   0.321429          0.0     0.062849\n",
       "e        1.0         1.0     2.0   0.500000         20.0     0.225239\n",
       "f        1.0         2.0     3.0   0.500000         20.5     0.416683\n",
       "g        2.0         1.0     3.0   0.409091          9.0     0.495819\n",
       "h        1.0         1.0     2.0   0.391304          3.0     0.348128\n",
       "i        1.0         1.0     2.0   0.321429          0.0     0.378968\n",
       "j        2.0         1.0     3.0   0.333333          1.5     0.476593"
      ]
     },
     "execution_count": 285,
     "metadata": {},
     "output_type": "execute_result"
    }
   ],
   "source": [
    "node_attrs"
   ]
  },
  {
   "cell_type": "code",
   "execution_count": 283,
   "metadata": {},
   "outputs": [
    {
     "data": {
      "image/png": "[encoded data removed]",
      "text/plain": [
       "<Figure size 432x288 with 1 Axes>"
      ]
     },
     "metadata": {},
     "output_type": "display_data"
    }
   ],
   "source": [
    "# show degree centrality as a histogram\n",
    "plt.bar(np.arange(0,len(nx.degree_histogram(G2))), nx.degree_histogram(G2))\n",
    "plt.show()\n"
   ]
  },
  {
   "cell_type": "markdown",
   "metadata": {},
   "source": [
    "## Average clustering coefficient\n"
   ]
  },
  {
   "cell_type": "code",
   "execution_count": 247,
   "metadata": {},
   "outputs": [
    {
     "data": {
      "image/png": "[encoded data removed]",
      "text/plain": [
       "<Figure size 648x288 with 2 Axes>"
      ]
     },
     "metadata": {},
     "output_type": "display_data"
    }
   ],
   "source": [
    "# an example network used to illustrate the following concepts\n",
    "G_test = nx.Graph()\n",
    "\n",
    "G_test.add_edge('a','b')\n",
    "G_test.add_edge('a','c')\n",
    "\n",
    "plt.figure(figsize = (9,4))\n",
    "plt.subplot(1,2,1)\n",
    "plt.title('Open triangle')\n",
    "pos = {'a':np.array([0,0]),\n",
    "       'b':np.array([1,0]),\n",
    "       'c':np.array([0.5,0.7])}\n",
    "\n",
    "nx.draw_networkx_nodes(G_test, pos,node_color = 'black')\n",
    "nx.draw_networkx_edges(G_test, pos, width=5,edge_color = 'grey')\n",
    "nx.draw_networkx_labels(G_test, pos, labels={'a':'a','b':'b','c':'c'}, font_size=40, font_color='red')\n",
    "\n",
    "plt.subplot(1,2,2)\n",
    "plt.title('Closed triangle')\n",
    "G_test.add_edge('b','c')\n",
    "nx.draw_networkx_nodes(G_test, pos,node_color = 'black')\n",
    "nx.draw_networkx_edges(G_test, pos, width=5,edge_color = 'grey')\n",
    "nx.draw_networkx_labels(G_test, pos, labels={'a':'a','b':'b','c':'c'}, font_size=40, font_color='red')\n",
    "\n",
    "plt.show()"
   ]
  },
  {
   "cell_type": "markdown",
   "metadata": {},
   "source": [
    "Measures how well the nodes' neighbourhood are connected\n",
    "- Clustering coefficient: \n",
    "$$C_i = \\frac{\\lambda(v)}{\\tau(v)}$$\n",
    "where $\\lambda(v)$ is the number of closed trianlges that has a node v, $\\tau(v)$ is the number of open/closed triangles and node v is the corner \n",
    "\n",
    "So the **Average clustering coefficient** is defined as the average of Clustering coefficient,\n",
    "$$C = \\frac{1}{n}\\sum_{i-1}^n C_i$$"
   ]
  },
  {
   "cell_type": "code",
   "execution_count": 277,
   "metadata": {},
   "outputs": [
    {
     "data": {
      "image/png": "[encoded data removed]",
      "text/plain": [
       "<Figure size 720x288 with 1 Axes>"
      ]
     },
     "metadata": {},
     "output_type": "display_data"
    }
   ],
   "source": [
    "# an undirected example network used to illustrate the concepts\n",
    "G2 = nx.Graph()\n",
    "G2.add_edges_from(G.edges())\n",
    "plt.figure(figsize = (10,4))\n",
    "nx.draw_networkx_nodes(G2, pos, node_color = 'black')\n",
    "nx.draw_networkx_edges(G2, pos, width=5,edge_color = 'grey')\n",
    "nx.draw_networkx_labels(G2, pos, labels=labels, font_size=40, font_color='red')\n",
    "plt.show()"
   ]
  },
  {
   "cell_type": "code",
   "execution_count": 282,
   "metadata": {},
   "outputs": [
    {
     "data": {
      "text/plain": [
       "{'a': 0,\n",
       " 'b': 0,\n",
       " 'c': 0,\n",
       " 'd': 0,\n",
       " 'e': 0,\n",
       " 'f': 0,\n",
       " 'g': 0.3333333333333333,\n",
       " 'h': 0,\n",
       " 'i': 1.0,\n",
       " 'j': 0.3333333333333333}"
      ]
     },
     "execution_count": 282,
     "metadata": {},
     "output_type": "execute_result"
    }
   ],
   "source": [
    "nx.clustering(G2)"
   ]
  },
  {
   "cell_type": "code",
   "execution_count": 276,
   "metadata": {},
   "outputs": [
    {
     "data": {
      "text/plain": [
       "0.16666666666666666"
      ]
     },
     "execution_count": 276,
     "metadata": {},
     "output_type": "execute_result"
    }
   ],
   "source": [
    "nx.average_clustering(G2)"
   ]
  },
  {
   "cell_type": "code",
   "execution_count": null,
   "metadata": {},
   "outputs": [],
   "source": []
  },
  {
   "cell_type": "code",
   "execution_count": 275,
   "metadata": {},
   "outputs": [],
   "source": [
    "# # an example network used to illustrate the following concepts\n",
    "# G3 = nx.Graph()\n",
    "\n",
    "# G3.add_edge('a','b',weight = 1)\n",
    "# # G3.add_edge('b','a',weight = 1)\n",
    "# G3.add_edge('a','c',weight = 1)\n",
    "# G3.add_edge('b','c',weight = 1)\n",
    "# G3.add_edge('a','d',weight = 1)\n",
    "# G3.add_edge('c','d',weight = 1)\n",
    "# # G3.add_edge('b','d',weight = 1)\n",
    "\n",
    "# plt.figure(figsize = (5,5))\n",
    "# # pos = nx.spring_layout(G)\n",
    "# pos = {'a':np.array([0,0]),\n",
    "#        'b':np.array([1,0]),\n",
    "#        'c':np.array([0,1]),\n",
    "#        'd':np.array([1,1]),}\n",
    "\n",
    "# nx.draw_networkx_nodes(G3, pos,node_color = 'black')\n",
    "# nx.draw_networkx_edges(G3, pos, width=5,arrowsize=50, arrowstyle='->',edge_color = 'grey')\n",
    "# nx.draw_networkx_labels(G3, pos, labels={'a':'a','b':'b','c':'c','d':'d'}, font_size=40, font_color='red')\n",
    "# plt.show()"
   ]
  }
 ],
 "metadata": {
  "kernelspec": {
   "display_name": "Python 3",
   "language": "python",
   "name": "python3"
  },
  "language_info": {
   "codemirror_mode": {
    "name": "ipython",
    "version": 3
   },
   "file_extension": ".py",
   "mimetype": "text/x-python",
   "name": "python",
   "nbconvert_exporter": "python",
   "pygments_lexer": "ipython3",
   "version": "3.6.7"
  },
  "toc": {
   "base_numbering": 1,
   "nav_menu": {},
   "number_sections": true,
   "sideBar": true,
   "skip_h1_title": false,
   "title_cell": "Table of Contents",
   "title_sidebar": "Contents",
   "toc_cell": true,
   "toc_position": {},
   "toc_section_display": true,
   "toc_window_display": true
  }
 },
 "nbformat": 4,
 "nbformat_minor": 2
}
